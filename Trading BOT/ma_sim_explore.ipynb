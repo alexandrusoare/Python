{
 "cells": [
  {
   "cell_type": "code",
   "execution_count": 1,
   "metadata": {},
   "outputs": [],
   "source": [
    "import pandas as pd\n",
    "import plotly.graph_objects as go"
   ]
  },
  {
   "cell_type": "code",
   "execution_count": 2,
   "metadata": {},
   "outputs": [],
   "source": [
    "ma_test_res = pd.read_pickle(\"ma_test_res.pkl\")\n",
    "all_trades = pd.read_pickle(\"all_trades.pkl\")"
   ]
  },
  {
   "cell_type": "code",
   "execution_count": 3,
   "metadata": {},
   "outputs": [
    {
     "data": {
      "text/plain": [
       "(66656, 11)"
      ]
     },
     "execution_count": 3,
     "metadata": {},
     "output_type": "execute_result"
    }
   ],
   "source": [
    "all_trades.shape"
   ]
  },
  {
   "cell_type": "code",
   "execution_count": 4,
   "metadata": {},
   "outputs": [
    {
     "data": {
      "text/plain": [
       "(630, 8)"
      ]
     },
     "execution_count": 4,
     "metadata": {},
     "output_type": "execute_result"
    }
   ],
   "source": [
    "ma_test_res.shape"
   ]
  },
  {
   "cell_type": "code",
   "execution_count": 8,
   "metadata": {},
   "outputs": [
    {
     "data": {
      "text/html": [
       "<div>\n",
       "<style scoped>\n",
       "    .dataframe tbody tr th:only-of-type {\n",
       "        vertical-align: middle;\n",
       "    }\n",
       "\n",
       "    .dataframe tbody tr th {\n",
       "        vertical-align: top;\n",
       "    }\n",
       "\n",
       "    .dataframe thead th {\n",
       "        text-align: right;\n",
       "    }\n",
       "</style>\n",
       "<table border=\"1\" class=\"dataframe\">\n",
       "  <thead>\n",
       "    <tr style=\"text-align: right;\">\n",
       "      <th></th>\n",
       "      <th>pair</th>\n",
       "      <th>num_trades</th>\n",
       "      <th>total_gain</th>\n",
       "      <th>mashort</th>\n",
       "      <th>malong</th>\n",
       "    </tr>\n",
       "  </thead>\n",
       "  <tbody>\n",
       "    <tr>\n",
       "      <th>0</th>\n",
       "      <td>GBP_USD</td>\n",
       "      <td>558</td>\n",
       "      <td>254.9</td>\n",
       "      <td>4</td>\n",
       "      <td>8</td>\n",
       "    </tr>\n",
       "    <tr>\n",
       "      <th>1</th>\n",
       "      <td>GBP_USD</td>\n",
       "      <td>307</td>\n",
       "      <td>160.1</td>\n",
       "      <td>4</td>\n",
       "      <td>16</td>\n",
       "    </tr>\n",
       "    <tr>\n",
       "      <th>2</th>\n",
       "      <td>GBP_USD</td>\n",
       "      <td>277</td>\n",
       "      <td>223.3</td>\n",
       "      <td>8</td>\n",
       "      <td>16</td>\n",
       "    </tr>\n",
       "    <tr>\n",
       "      <th>3</th>\n",
       "      <td>GBP_USD</td>\n",
       "      <td>211</td>\n",
       "      <td>-235.8</td>\n",
       "      <td>4</td>\n",
       "      <td>32</td>\n",
       "    </tr>\n",
       "    <tr>\n",
       "      <th>4</th>\n",
       "      <td>GBP_USD</td>\n",
       "      <td>161</td>\n",
       "      <td>-737.2</td>\n",
       "      <td>8</td>\n",
       "      <td>32</td>\n",
       "    </tr>\n",
       "  </tbody>\n",
       "</table>\n",
       "</div>"
      ],
      "text/plain": [
       "      pair  num_trades  total_gain  mashort  malong\n",
       "0  GBP_USD         558       254.9        4       8\n",
       "1  GBP_USD         307       160.1        4      16\n",
       "2  GBP_USD         277       223.3        8      16\n",
       "3  GBP_USD         211      -235.8        4      32\n",
       "4  GBP_USD         161      -737.2        8      32"
      ]
     },
     "execution_count": 8,
     "metadata": {},
     "output_type": "execute_result"
    }
   ],
   "source": [
    "ma_test_res.head()"
   ]
  },
  {
   "cell_type": "code",
   "execution_count": 6,
   "metadata": {},
   "outputs": [
    {
     "data": {
      "text/plain": [
       "Index(['pair', 'num_trades', 'total_gain', 'mean_gain', 'min_gain', 'max_gain',\n",
       "       'mashort', 'malong'],\n",
       "      dtype='object')"
      ]
     },
     "execution_count": 6,
     "metadata": {},
     "output_type": "execute_result"
    }
   ],
   "source": [
    "ma_test_res.columns"
   ]
  },
  {
   "cell_type": "code",
   "execution_count": 7,
   "metadata": {},
   "outputs": [],
   "source": [
    "ma_test_res = ma_test_res[['pair', 'num_trades', 'total_gain', 'mashort', 'malong']]"
   ]
  },
  {
   "cell_type": "code",
   "execution_count": 9,
   "metadata": {},
   "outputs": [],
   "source": [
    "ma_test_res[\"CROSS\"] = \"MA_\" + ma_test_res.mashort.map(str) + \"_\" + ma_test_res.malong.map(str)"
   ]
  },
  {
   "cell_type": "code",
   "execution_count": 14,
   "metadata": {},
   "outputs": [],
   "source": [
    "df_all_gains = ma_test_res.groupby(by=[\"CROSS\", \"mashort\", \"malong\"], as_index=False).sum()"
   ]
  },
  {
   "cell_type": "code",
   "execution_count": 16,
   "metadata": {},
   "outputs": [],
   "source": [
    "df_all_gains.sort_values(by=\"total_gain\", ascending=False, inplace=True)"
   ]
  },
  {
   "cell_type": "code",
   "execution_count": 17,
   "metadata": {},
   "outputs": [
    {
     "data": {
      "text/html": [
       "<div>\n",
       "<style scoped>\n",
       "    .dataframe tbody tr th:only-of-type {\n",
       "        vertical-align: middle;\n",
       "    }\n",
       "\n",
       "    .dataframe tbody tr th {\n",
       "        vertical-align: top;\n",
       "    }\n",
       "\n",
       "    .dataframe thead th {\n",
       "        text-align: right;\n",
       "    }\n",
       "</style>\n",
       "<table border=\"1\" class=\"dataframe\">\n",
       "  <thead>\n",
       "    <tr style=\"text-align: right;\">\n",
       "      <th></th>\n",
       "      <th>CROSS</th>\n",
       "      <th>mashort</th>\n",
       "      <th>malong</th>\n",
       "      <th>num_trades</th>\n",
       "      <th>total_gain</th>\n",
       "    </tr>\n",
       "  </thead>\n",
       "  <tbody>\n",
       "    <tr>\n",
       "      <th>12</th>\n",
       "      <td>MA_32_64</td>\n",
       "      <td>32</td>\n",
       "      <td>64</td>\n",
       "      <td>1399</td>\n",
       "      <td>3538.0</td>\n",
       "    </tr>\n",
       "    <tr>\n",
       "      <th>8</th>\n",
       "      <td>MA_24_64</td>\n",
       "      <td>24</td>\n",
       "      <td>64</td>\n",
       "      <td>1455</td>\n",
       "      <td>1748.2</td>\n",
       "    </tr>\n",
       "    <tr>\n",
       "      <th>27</th>\n",
       "      <td>MA_8_32</td>\n",
       "      <td>8</td>\n",
       "      <td>32</td>\n",
       "      <td>3211</td>\n",
       "      <td>247.2</td>\n",
       "    </tr>\n",
       "    <tr>\n",
       "      <th>18</th>\n",
       "      <td>MA_4_64</td>\n",
       "      <td>4</td>\n",
       "      <td>64</td>\n",
       "      <td>2737</td>\n",
       "      <td>-290.8</td>\n",
       "    </tr>\n",
       "    <tr>\n",
       "      <th>28</th>\n",
       "      <td>MA_8_64</td>\n",
       "      <td>8</td>\n",
       "      <td>64</td>\n",
       "      <td>2033</td>\n",
       "      <td>-660.3</td>\n",
       "    </tr>\n",
       "  </tbody>\n",
       "</table>\n",
       "</div>"
      ],
      "text/plain": [
       "       CROSS  mashort  malong  num_trades  total_gain\n",
       "12  MA_32_64       32      64        1399      3538.0\n",
       "8   MA_24_64       24      64        1455      1748.2\n",
       "27   MA_8_32        8      32        3211       247.2\n",
       "18   MA_4_64        4      64        2737      -290.8\n",
       "28   MA_8_64        8      64        2033      -660.3"
      ]
     },
     "execution_count": 17,
     "metadata": {},
     "output_type": "execute_result"
    }
   ],
   "source": [
    "df_all_gains.head()"
   ]
  },
  {
   "cell_type": "code",
   "execution_count": 18,
   "metadata": {},
   "outputs": [],
   "source": [
    "ma_8_16 = ma_test_res[ma_test_res.CROSS=='MA_8_16'].copy()"
   ]
  },
  {
   "cell_type": "code",
   "execution_count": 20,
   "metadata": {},
   "outputs": [],
   "source": [
    "ma_8_16.sort_values(by=\"total_gain\", ascending=False, inplace=True)\n"
   ]
  },
  {
   "cell_type": "code",
   "execution_count": 24,
   "metadata": {},
   "outputs": [],
   "source": [
    "total_p = len(ma_8_16.pair.unique())"
   ]
  },
  {
   "cell_type": "code",
   "execution_count": 25,
   "metadata": {},
   "outputs": [
    {
     "data": {
      "text/plain": [
       "12"
      ]
     },
     "execution_count": 25,
     "metadata": {},
     "output_type": "execute_result"
    }
   ],
   "source": [
    "ma_8_16[ma_8_16.total_gain>0].shape[0]"
   ]
  },
  {
   "cell_type": "code",
   "execution_count": 26,
   "metadata": {},
   "outputs": [
    {
     "data": {
      "text/plain": [
       "0.5714285714285714"
      ]
     },
     "execution_count": 26,
     "metadata": {},
     "output_type": "execute_result"
    }
   ],
   "source": [
    "12/total_p"
   ]
  },
  {
   "cell_type": "code",
   "execution_count": 33,
   "metadata": {},
   "outputs": [
    {
     "name": "stdout",
     "output_type": "stream",
     "text": [
      "MA_32_64       14   67%\n",
      "MA_24_64       13   62%\n",
      "MA_8_32        11   52%\n",
      "MA_4_64         7   33%\n",
      "MA_8_64         7   33%\n",
      "MA_16_32       10   48%\n",
      "MA_16_64        9   43%\n",
      "MA_32_96       10   48%\n",
      "MA_4_8          9   43%\n",
      "MA_8_16        12   57%\n",
      "MA_16_96        8   38%\n",
      "MA_4_32         7   33%\n",
      "MA_4_96        10   48%\n",
      "MA_24_96       10   48%\n",
      "MA_8_96         8   38%\n",
      "MA_4_16         9   43%\n",
      "MA_24_32        7   33%\n",
      "MA_4_128        8   38%\n",
      "MA_32_128       6   29%\n",
      "MA_64_128       5   24%\n",
      "MA_16_256       6   29%\n",
      "MA_32_256       8   38%\n",
      "MA_24_256       5   24%\n",
      "MA_8_128        6   29%\n",
      "MA_64_96        6   29%\n",
      "MA_24_128       6   29%\n",
      "MA_4_256        5   24%\n",
      "MA_8_256        6   29%\n",
      "MA_16_128       7   33%\n",
      "MA_64_256       7   33%\n"
     ]
    }
   ],
   "source": [
    "for cross in df_all_gains.CROSS.unique():\n",
    "    df_temp = ma_test_res[ma_test_res.CROSS==cross]\n",
    "    total_p = df_temp.shape[0]\n",
    "    n_good = df_temp[df_temp.total_gain>0].shape[0]\n",
    "    print(f\"{cross:12} {n_good:4} {(n_good/total_p)*100:4.0f}%\")"
   ]
  },
  {
   "cell_type": "code",
   "execution_count": 34,
   "metadata": {},
   "outputs": [],
   "source": [
    "crosses = df_all_gains.CROSS.unique()[:3]"
   ]
  },
  {
   "cell_type": "code",
   "execution_count": 35,
   "metadata": {},
   "outputs": [
    {
     "data": {
      "text/plain": [
       "array(['MA_32_64', 'MA_24_64', 'MA_8_32'], dtype=object)"
      ]
     },
     "execution_count": 35,
     "metadata": {},
     "output_type": "execute_result"
    }
   ],
   "source": [
    "crosses"
   ]
  },
  {
   "cell_type": "code",
   "execution_count": 36,
   "metadata": {},
   "outputs": [
    {
     "data": {
      "text/html": [
       "<div>\n",
       "<style scoped>\n",
       "    .dataframe tbody tr th:only-of-type {\n",
       "        vertical-align: middle;\n",
       "    }\n",
       "\n",
       "    .dataframe tbody tr th {\n",
       "        vertical-align: top;\n",
       "    }\n",
       "\n",
       "    .dataframe thead th {\n",
       "        text-align: right;\n",
       "    }\n",
       "</style>\n",
       "<table border=\"1\" class=\"dataframe\">\n",
       "  <thead>\n",
       "    <tr style=\"text-align: right;\">\n",
       "      <th></th>\n",
       "      <th>pair</th>\n",
       "      <th>num_trades</th>\n",
       "      <th>total_gain</th>\n",
       "      <th>mashort</th>\n",
       "      <th>malong</th>\n",
       "      <th>CROSS</th>\n",
       "    </tr>\n",
       "  </thead>\n",
       "  <tbody>\n",
       "    <tr>\n",
       "      <th>0</th>\n",
       "      <td>GBP_USD</td>\n",
       "      <td>558</td>\n",
       "      <td>254.9</td>\n",
       "      <td>4</td>\n",
       "      <td>8</td>\n",
       "      <td>MA_4_8</td>\n",
       "    </tr>\n",
       "    <tr>\n",
       "      <th>1</th>\n",
       "      <td>GBP_USD</td>\n",
       "      <td>307</td>\n",
       "      <td>160.1</td>\n",
       "      <td>4</td>\n",
       "      <td>16</td>\n",
       "      <td>MA_4_16</td>\n",
       "    </tr>\n",
       "  </tbody>\n",
       "</table>\n",
       "</div>"
      ],
      "text/plain": [
       "      pair  num_trades  total_gain  mashort  malong    CROSS\n",
       "0  GBP_USD         558       254.9        4       8   MA_4_8\n",
       "1  GBP_USD         307       160.1        4      16  MA_4_16"
      ]
     },
     "execution_count": 36,
     "metadata": {},
     "output_type": "execute_result"
    }
   ],
   "source": [
    "ma_test_res.head(2)"
   ]
  },
  {
   "cell_type": "code",
   "execution_count": 37,
   "metadata": {},
   "outputs": [],
   "source": [
    "df_good = ma_test_res[(ma_test_res.CROSS.isin(crosses))&(ma_test_res.total_gain>0)].copy()"
   ]
  },
  {
   "cell_type": "code",
   "execution_count": 38,
   "metadata": {},
   "outputs": [
    {
     "data": {
      "text/html": [
       "<div>\n",
       "<style scoped>\n",
       "    .dataframe tbody tr th:only-of-type {\n",
       "        vertical-align: middle;\n",
       "    }\n",
       "\n",
       "    .dataframe tbody tr th {\n",
       "        vertical-align: top;\n",
       "    }\n",
       "\n",
       "    .dataframe thead th {\n",
       "        text-align: right;\n",
       "    }\n",
       "</style>\n",
       "<table border=\"1\" class=\"dataframe\">\n",
       "  <thead>\n",
       "    <tr style=\"text-align: right;\">\n",
       "      <th></th>\n",
       "      <th>pair</th>\n",
       "      <th>num_trades</th>\n",
       "      <th>total_gain</th>\n",
       "      <th>mashort</th>\n",
       "      <th>malong</th>\n",
       "      <th>CROSS</th>\n",
       "    </tr>\n",
       "  </thead>\n",
       "  <tbody>\n",
       "    <tr>\n",
       "      <th>11</th>\n",
       "      <td>GBP_USD</td>\n",
       "      <td>70</td>\n",
       "      <td>144.7</td>\n",
       "      <td>32</td>\n",
       "      <td>64</td>\n",
       "      <td>MA_32_64</td>\n",
       "    </tr>\n",
       "    <tr>\n",
       "      <th>40</th>\n",
       "      <td>GBP_CAD</td>\n",
       "      <td>71</td>\n",
       "      <td>456.4</td>\n",
       "      <td>24</td>\n",
       "      <td>64</td>\n",
       "      <td>MA_24_64</td>\n",
       "    </tr>\n",
       "  </tbody>\n",
       "</table>\n",
       "</div>"
      ],
      "text/plain": [
       "       pair  num_trades  total_gain  mashort  malong     CROSS\n",
       "11  GBP_USD          70       144.7       32      64  MA_32_64\n",
       "40  GBP_CAD          71       456.4       24      64  MA_24_64"
      ]
     },
     "execution_count": 38,
     "metadata": {},
     "output_type": "execute_result"
    }
   ],
   "source": [
    "df_good.head(2)"
   ]
  },
  {
   "cell_type": "code",
   "execution_count": 43,
   "metadata": {},
   "outputs": [],
   "source": [
    "our_pairs = list(df_good.pair.value_counts()[:9].index)"
   ]
  },
  {
   "cell_type": "code",
   "execution_count": 44,
   "metadata": {},
   "outputs": [
    {
     "data": {
      "text/plain": [
       "['EUR_NZD',\n",
       " 'EUR_JPY',\n",
       " 'NZD_CHF',\n",
       " 'NZD_JPY',\n",
       " 'CAD_JPY',\n",
       " 'USD_JPY',\n",
       " 'CHF_JPY',\n",
       " 'EUR_CAD',\n",
       " 'GBP_JPY']"
      ]
     },
     "execution_count": 44,
     "metadata": {},
     "output_type": "execute_result"
    }
   ],
   "source": [
    "our_pairs"
   ]
  },
  {
   "cell_type": "code",
   "execution_count": 48,
   "metadata": {},
   "outputs": [
    {
     "data": {
      "text/html": [
       "<div>\n",
       "<style scoped>\n",
       "    .dataframe tbody tr th:only-of-type {\n",
       "        vertical-align: middle;\n",
       "    }\n",
       "\n",
       "    .dataframe tbody tr th {\n",
       "        vertical-align: top;\n",
       "    }\n",
       "\n",
       "    .dataframe thead th {\n",
       "        text-align: right;\n",
       "    }\n",
       "</style>\n",
       "<table border=\"1\" class=\"dataframe\">\n",
       "  <thead>\n",
       "    <tr style=\"text-align: right;\">\n",
       "      <th></th>\n",
       "      <th>time</th>\n",
       "      <th>mid_c</th>\n",
       "      <th>DIFF</th>\n",
       "      <th>DIFF_PREV</th>\n",
       "      <th>IS_TRADE</th>\n",
       "      <th>DELTA</th>\n",
       "      <th>GAIN</th>\n",
       "      <th>PAIR</th>\n",
       "      <th>MASHORT</th>\n",
       "      <th>MALONG</th>\n",
       "      <th>DURATION</th>\n",
       "      <th>CROSS</th>\n",
       "    </tr>\n",
       "  </thead>\n",
       "  <tbody>\n",
       "    <tr>\n",
       "      <th>9</th>\n",
       "      <td>2021-03-10 15:00:00+00:00</td>\n",
       "      <td>1.39035</td>\n",
       "      <td>0.000459</td>\n",
       "      <td>-0.000145</td>\n",
       "      <td>1</td>\n",
       "      <td>23.1</td>\n",
       "      <td>23.1</td>\n",
       "      <td>GBP_USD</td>\n",
       "      <td>4</td>\n",
       "      <td>8</td>\n",
       "      <td>10.0</td>\n",
       "      <td>MA_4_8</td>\n",
       "    </tr>\n",
       "    <tr>\n",
       "      <th>19</th>\n",
       "      <td>2021-03-11 01:00:00+00:00</td>\n",
       "      <td>1.39266</td>\n",
       "      <td>-0.000024</td>\n",
       "      <td>0.000389</td>\n",
       "      <td>-1</td>\n",
       "      <td>10.2</td>\n",
       "      <td>-10.2</td>\n",
       "      <td>GBP_USD</td>\n",
       "      <td>4</td>\n",
       "      <td>8</td>\n",
       "      <td>3.0</td>\n",
       "      <td>MA_4_8</td>\n",
       "    </tr>\n",
       "  </tbody>\n",
       "</table>\n",
       "</div>"
      ],
      "text/plain": [
       "                        time    mid_c      DIFF  DIFF_PREV  IS_TRADE  DELTA  \\\n",
       "9  2021-03-10 15:00:00+00:00  1.39035  0.000459  -0.000145         1   23.1   \n",
       "19 2021-03-11 01:00:00+00:00  1.39266 -0.000024   0.000389        -1   10.2   \n",
       "\n",
       "    GAIN     PAIR  MASHORT  MALONG  DURATION   CROSS  \n",
       "9   23.1  GBP_USD        4       8      10.0  MA_4_8  \n",
       "19 -10.2  GBP_USD        4       8       3.0  MA_4_8  "
      ]
     },
     "execution_count": 48,
     "metadata": {},
     "output_type": "execute_result"
    }
   ],
   "source": [
    "all_trades.head(2)"
   ]
  },
  {
   "cell_type": "code",
   "execution_count": 47,
   "metadata": {},
   "outputs": [],
   "source": [
    "all_trades[\"CROSS\"] = \"MA_\" + all_trades.MASHORT.map(str) + \"_\" + all_trades.MALONG.map(str)"
   ]
  },
  {
   "cell_type": "code",
   "execution_count": 49,
   "metadata": {},
   "outputs": [],
   "source": [
    "trades_cad_jpy = all_trades[(all_trades.CROSS==\"MA_8_16\")&(all_trades.PAIR==\"CAD_JPY\")].copy()"
   ]
  },
  {
   "cell_type": "code",
   "execution_count": 52,
   "metadata": {},
   "outputs": [
    {
     "data": {
      "text/html": [
       "<div>\n",
       "<style scoped>\n",
       "    .dataframe tbody tr th:only-of-type {\n",
       "        vertical-align: middle;\n",
       "    }\n",
       "\n",
       "    .dataframe tbody tr th {\n",
       "        vertical-align: top;\n",
       "    }\n",
       "\n",
       "    .dataframe thead th {\n",
       "        text-align: right;\n",
       "    }\n",
       "</style>\n",
       "<table border=\"1\" class=\"dataframe\">\n",
       "  <thead>\n",
       "    <tr style=\"text-align: right;\">\n",
       "      <th></th>\n",
       "      <th>time</th>\n",
       "      <th>mid_c</th>\n",
       "      <th>DIFF</th>\n",
       "      <th>DIFF_PREV</th>\n",
       "      <th>IS_TRADE</th>\n",
       "      <th>DELTA</th>\n",
       "      <th>GAIN</th>\n",
       "      <th>PAIR</th>\n",
       "      <th>MASHORT</th>\n",
       "      <th>MALONG</th>\n",
       "      <th>DURATION</th>\n",
       "      <th>CROSS</th>\n",
       "      <th>CUM_GAIN</th>\n",
       "    </tr>\n",
       "  </thead>\n",
       "  <tbody>\n",
       "    <tr>\n",
       "      <th>19</th>\n",
       "      <td>2021-03-11 02:00:00+00:00</td>\n",
       "      <td>86.100</td>\n",
       "      <td>0.021938</td>\n",
       "      <td>-0.007312</td>\n",
       "      <td>1</td>\n",
       "      <td>135.0</td>\n",
       "      <td>135.0</td>\n",
       "      <td>CAD_JPY</td>\n",
       "      <td>8</td>\n",
       "      <td>16</td>\n",
       "      <td>110.0</td>\n",
       "      <td>MA_8_16</td>\n",
       "      <td>135.0</td>\n",
       "    </tr>\n",
       "    <tr>\n",
       "      <th>82</th>\n",
       "      <td>2021-03-15 16:00:00+00:00</td>\n",
       "      <td>87.450</td>\n",
       "      <td>-0.009687</td>\n",
       "      <td>0.011312</td>\n",
       "      <td>-1</td>\n",
       "      <td>6.8</td>\n",
       "      <td>-6.8</td>\n",
       "      <td>CAD_JPY</td>\n",
       "      <td>8</td>\n",
       "      <td>16</td>\n",
       "      <td>9.0</td>\n",
       "      <td>MA_8_16</td>\n",
       "      <td>128.2</td>\n",
       "    </tr>\n",
       "    <tr>\n",
       "      <th>91</th>\n",
       "      <td>2021-03-16 01:00:00+00:00</td>\n",
       "      <td>87.518</td>\n",
       "      <td>0.000438</td>\n",
       "      <td>-0.007188</td>\n",
       "      <td>1</td>\n",
       "      <td>-7.7</td>\n",
       "      <td>-7.7</td>\n",
       "      <td>CAD_JPY</td>\n",
       "      <td>8</td>\n",
       "      <td>16</td>\n",
       "      <td>7.0</td>\n",
       "      <td>MA_8_16</td>\n",
       "      <td>120.5</td>\n",
       "    </tr>\n",
       "    <tr>\n",
       "      <th>98</th>\n",
       "      <td>2021-03-16 08:00:00+00:00</td>\n",
       "      <td>87.441</td>\n",
       "      <td>-0.005375</td>\n",
       "      <td>0.002938</td>\n",
       "      <td>-1</td>\n",
       "      <td>15.9</td>\n",
       "      <td>-15.9</td>\n",
       "      <td>CAD_JPY</td>\n",
       "      <td>8</td>\n",
       "      <td>16</td>\n",
       "      <td>9.0</td>\n",
       "      <td>MA_8_16</td>\n",
       "      <td>104.6</td>\n",
       "    </tr>\n",
       "    <tr>\n",
       "      <th>107</th>\n",
       "      <td>2021-03-16 17:00:00+00:00</td>\n",
       "      <td>87.600</td>\n",
       "      <td>0.006250</td>\n",
       "      <td>-0.006375</td>\n",
       "      <td>1</td>\n",
       "      <td>-10.5</td>\n",
       "      <td>-10.5</td>\n",
       "      <td>CAD_JPY</td>\n",
       "      <td>8</td>\n",
       "      <td>16</td>\n",
       "      <td>16.0</td>\n",
       "      <td>MA_8_16</td>\n",
       "      <td>94.1</td>\n",
       "    </tr>\n",
       "  </tbody>\n",
       "</table>\n",
       "</div>"
      ],
      "text/plain": [
       "                         time   mid_c      DIFF  DIFF_PREV  IS_TRADE  DELTA  \\\n",
       "19  2021-03-11 02:00:00+00:00  86.100  0.021938  -0.007312         1  135.0   \n",
       "82  2021-03-15 16:00:00+00:00  87.450 -0.009687   0.011312        -1    6.8   \n",
       "91  2021-03-16 01:00:00+00:00  87.518  0.000438  -0.007188         1   -7.7   \n",
       "98  2021-03-16 08:00:00+00:00  87.441 -0.005375   0.002938        -1   15.9   \n",
       "107 2021-03-16 17:00:00+00:00  87.600  0.006250  -0.006375         1  -10.5   \n",
       "\n",
       "      GAIN     PAIR  MASHORT  MALONG  DURATION    CROSS  CUM_GAIN  \n",
       "19   135.0  CAD_JPY        8      16     110.0  MA_8_16     135.0  \n",
       "82    -6.8  CAD_JPY        8      16       9.0  MA_8_16     128.2  \n",
       "91    -7.7  CAD_JPY        8      16       7.0  MA_8_16     120.5  \n",
       "98   -15.9  CAD_JPY        8      16       9.0  MA_8_16     104.6  \n",
       "107  -10.5  CAD_JPY        8      16      16.0  MA_8_16      94.1  "
      ]
     },
     "execution_count": 52,
     "metadata": {},
     "output_type": "execute_result"
    }
   ],
   "source": [
    "trades_cad_jpy.head()"
   ]
  },
  {
   "cell_type": "code",
   "execution_count": 51,
   "metadata": {},
   "outputs": [],
   "source": [
    "trades_cad_jpy['CUM_GAIN'] = trades_cad_jpy.GAIN.cumsum()"
   ]
  },
  {
   "cell_type": "code",
   "execution_count": 57,
   "metadata": {},
   "outputs": [],
   "source": [
    "def plot_line(df_plot,name):\n",
    "    fig = go.Figure()\n",
    "    fig.add_trace(go.Scatter(\n",
    "        x=df_plot.time,\n",
    "        y=df_plot.CUM_GAIN,\n",
    "        line=dict(width=2, color='#3d825f'),\n",
    "        line_shape='spline',\n",
    "        name=name,\n",
    "        mode='lines'\n",
    "        ))  \n",
    "    fig.update_layout(width=1000, height=400,\n",
    "        margin=dict(l=15,r=15,b=10),\n",
    "        font=dict(size=10, color='#e1e1e1'),\n",
    "        paper_bgcolor=\"#1e1e1e\", \n",
    "        plot_bgcolor=\"#1e1e1e\",\n",
    "        title=name)\n",
    "    fig.update_xaxes(\n",
    "        linewidth=1,\n",
    "        linecolor=\"#3a4a54\",\n",
    "        showgrid=False,\n",
    "        zeroline=False\n",
    "    )     \n",
    "    fig.update_yaxes(\n",
    "        linewidth=1,\n",
    "        linecolor=\"#3a4a54\",\n",
    "        showgrid=False,\n",
    "        zeroline=False)\n",
    "    fig.show()"
   ]
  },
  {
   "cell_type": "code",
   "execution_count": 58,
   "metadata": {},
   "outputs": [
    {
     "data": {
      "application/vnd.plotly.v1+json": {
       "config": {
        "plotlyServerURL": "https://plot.ly"
       },
       "data": [
        {
         "line": {
          "color": "#3d825f",
          "shape": "spline",
          "width": 2
         },
         "mode": "lines",
         "name": "CAD_JPY",
         "type": "scatter",
         "x": [
          "2021-03-11T02:00:00+00:00",
          "2021-03-15T16:00:00+00:00",
          "2021-03-16T01:00:00+00:00",
          "2021-03-16T08:00:00+00:00",
          "2021-03-16T17:00:00+00:00",
          "2021-03-17T09:00:00+00:00",
          "2021-03-17T20:00:00+00:00",
          "2021-03-18T13:00:00+00:00",
          "2021-03-22T10:00:00+00:00",
          "2021-03-22T14:00:00+00:00",
          "2021-03-24T10:00:00+00:00",
          "2021-03-24T23:00:00+00:00",
          "2021-03-25T05:00:00+00:00",
          "2021-03-25T16:00:00+00:00",
          "2021-03-26T02:00:00+00:00",
          "2021-03-29T00:00:00+00:00",
          "2021-03-29T13:00:00+00:00",
          "2021-03-30T17:00:00+00:00",
          "2021-03-31T01:00:00+00:00",
          "2021-04-01T05:00:00+00:00",
          "2021-04-01T13:00:00+00:00",
          "2021-04-02T08:00:00+00:00",
          "2021-04-02T18:00:00+00:00",
          "2021-04-05T00:00:00+00:00",
          "2021-04-05T12:00:00+00:00",
          "2021-04-05T19:00:00+00:00",
          "2021-04-06T02:00:00+00:00",
          "2021-04-06T08:00:00+00:00",
          "2021-04-08T02:00:00+00:00",
          "2021-04-08T07:00:00+00:00",
          "2021-04-08T20:00:00+00:00",
          "2021-04-09T06:00:00+00:00",
          "2021-04-09T10:00:00+00:00",
          "2021-04-12T03:00:00+00:00",
          "2021-04-13T04:00:00+00:00",
          "2021-04-13T09:00:00+00:00",
          "2021-04-13T19:00:00+00:00",
          "2021-04-14T02:00:00+00:00",
          "2021-04-14T15:00:00+00:00",
          "2021-04-15T04:00:00+00:00",
          "2021-04-15T09:00:00+00:00",
          "2021-04-15T15:00:00+00:00",
          "2021-04-16T05:00:00+00:00",
          "2021-04-18T22:00:00+00:00",
          "2021-04-20T03:00:00+00:00",
          "2021-04-20T15:00:00+00:00",
          "2021-04-21T08:00:00+00:00",
          "2021-04-22T04:00:00+00:00",
          "2021-04-22T12:00:00+00:00",
          "2021-04-22T23:00:00+00:00",
          "2021-04-23T07:00:00+00:00",
          "2021-04-23T12:00:00+00:00",
          "2021-04-23T20:00:00+00:00",
          "2021-04-30T06:00:00+00:00",
          "2021-04-30T13:00:00+00:00",
          "2021-05-03T12:00:00+00:00",
          "2021-05-04T05:00:00+00:00",
          "2021-05-04T12:00:00+00:00",
          "2021-05-04T21:00:00+00:00",
          "2021-05-05T22:00:00+00:00",
          "2021-05-06T03:00:00+00:00",
          "2021-05-07T09:00:00+00:00",
          "2021-05-09T23:00:00+00:00",
          "2021-05-10T15:00:00+00:00",
          "2021-05-10T17:00:00+00:00",
          "2021-05-11T10:00:00+00:00",
          "2021-05-11T23:00:00+00:00",
          "2021-05-13T07:00:00+00:00",
          "2021-05-14T06:00:00+00:00",
          "2021-05-17T01:00:00+00:00",
          "2021-05-17T15:00:00+00:00",
          "2021-05-18T12:00:00+00:00",
          "2021-05-19T07:00:00+00:00",
          "2021-05-19T14:00:00+00:00",
          "2021-05-20T02:00:00+00:00",
          "2021-05-20T08:00:00+00:00",
          "2021-05-20T16:00:00+00:00",
          "2021-05-21T04:00:00+00:00",
          "2021-05-21T13:00:00+00:00",
          "2021-05-23T23:00:00+00:00",
          "2021-05-24T13:00:00+00:00",
          "2021-05-24T20:00:00+00:00",
          "2021-05-24T22:00:00+00:00",
          "2021-05-25T07:00:00+00:00",
          "2021-05-25T10:00:00+00:00",
          "2021-05-25T19:00:00+00:00",
          "2021-05-26T05:00:00+00:00",
          "2021-05-26T12:00:00+00:00",
          "2021-05-27T09:00:00+00:00",
          "2021-05-28T05:00:00+00:00",
          "2021-05-28T18:00:00+00:00",
          "2021-05-30T22:00:00+00:00",
          "2021-05-30T23:00:00+00:00",
          "2021-05-31T02:00:00+00:00",
          "2021-05-31T23:00:00+00:00",
          "2021-06-01T19:00:00+00:00",
          "2021-06-02T05:00:00+00:00",
          "2021-06-03T10:00:00+00:00",
          "2021-06-03T20:00:00+00:00",
          "2021-06-04T03:00:00+00:00",
          "2021-06-07T02:00:00+00:00",
          "2021-06-07T06:00:00+00:00",
          "2021-06-08T06:00:00+00:00",
          "2021-06-08T16:00:00+00:00",
          "2021-06-09T07:00:00+00:00",
          "2021-06-09T22:00:00+00:00",
          "2021-06-10T12:00:00+00:00",
          "2021-06-10T21:00:00+00:00",
          "2021-06-11T05:00:00+00:00",
          "2021-06-11T15:00:00+00:00",
          "2021-06-14T04:00:00+00:00",
          "2021-06-14T11:00:00+00:00",
          "2021-06-14T14:00:00+00:00",
          "2021-06-15T09:00:00+00:00",
          "2021-06-16T01:00:00+00:00",
          "2021-06-16T10:00:00+00:00",
          "2021-06-21T12:00:00+00:00",
          "2021-06-22T06:00:00+00:00",
          "2021-06-22T09:00:00+00:00",
          "2021-06-23T21:00:00+00:00",
          "2021-06-25T02:00:00+00:00",
          "2021-06-25T12:00:00+00:00",
          "2021-06-25T16:00:00+00:00",
          "2021-06-28T02:00:00+00:00",
          "2021-06-30T07:00:00+00:00",
          "2021-06-30T08:00:00+00:00",
          "2021-06-30T11:00:00+00:00",
          "2021-07-01T21:00:00+00:00",
          "2021-07-02T07:00:00+00:00",
          "2021-07-05T04:00:00+00:00",
          "2021-07-05T19:00:00+00:00",
          "2021-07-06T05:00:00+00:00",
          "2021-07-06T08:00:00+00:00",
          "2021-07-06T09:00:00+00:00",
          "2021-07-07T09:00:00+00:00",
          "2021-07-07T17:00:00+00:00",
          "2021-07-08T20:00:00+00:00",
          "2021-07-12T06:00:00+00:00",
          "2021-07-12T17:00:00+00:00",
          "2021-07-13T09:00:00+00:00",
          "2021-07-13T22:00:00+00:00",
          "2021-07-14T08:00:00+00:00",
          "2021-07-14T12:00:00+00:00",
          "2021-07-14T14:00:00+00:00",
          "2021-07-15T14:00:00+00:00",
          "2021-07-15T16:00:00+00:00",
          "2021-07-16T05:00:00+00:00",
          "2021-07-16T18:00:00+00:00",
          "2021-07-20T00:00:00+00:00",
          "2021-07-20T08:00:00+00:00",
          "2021-07-20T14:00:00+00:00",
          "2021-07-21T07:00:00+00:00",
          "2021-07-21T11:00:00+00:00",
          "2021-07-22T04:00:00+00:00",
          "2021-07-22T11:00:00+00:00",
          "2021-07-22T19:00:00+00:00",
          "2021-07-23T02:00:00+00:00",
          "2021-07-26T03:00:00+00:00",
          "2021-07-26T14:00:00+00:00",
          "2021-07-27T03:00:00+00:00",
          "2021-07-28T04:00:00+00:00",
          "2021-07-29T19:00:00+00:00",
          "2021-07-30T08:00:00+00:00",
          "2021-07-30T19:00:00+00:00",
          "2021-08-02T09:00:00+00:00",
          "2021-08-02T10:00:00+00:00",
          "2021-08-04T01:00:00+00:00",
          "2021-08-04T13:00:00+00:00",
          "2021-08-04T14:00:00+00:00",
          "2021-08-04T15:00:00+00:00",
          "2021-08-04T18:00:00+00:00",
          "2021-08-06T04:00:00+00:00",
          "2021-08-06T07:00:00+00:00",
          "2021-08-06T08:00:00+00:00",
          "2021-08-06T17:00:00+00:00",
          "2021-08-06T20:00:00+00:00",
          "2021-08-09T09:00:00+00:00",
          "2021-08-09T17:00:00+00:00",
          "2021-08-10T03:00:00+00:00",
          "2021-08-11T15:00:00+00:00",
          "2021-08-12T13:00:00+00:00",
          "2021-08-12T16:00:00+00:00",
          "2021-08-13T05:00:00+00:00",
          "2021-08-13T07:00:00+00:00",
          "2021-08-17T17:00:00+00:00",
          "2021-08-18T21:00:00+00:00",
          "2021-08-20T17:00:00+00:00",
          "2021-08-25T06:00:00+00:00",
          "2021-08-25T14:00:00+00:00",
          "2021-08-26T05:00:00+00:00",
          "2021-08-26T11:00:00+00:00",
          "2021-08-26T16:00:00+00:00",
          "2021-08-27T08:00:00+00:00",
          "2021-08-30T03:00:00+00:00",
          "2021-08-30T11:00:00+00:00",
          "2021-08-31T01:00:00+00:00",
          "2021-08-31T06:00:00+00:00",
          "2021-08-31T14:00:00+00:00",
          "2021-08-31T22:00:00+00:00",
          "2021-09-01T16:00:00+00:00",
          "2021-09-02T08:00:00+00:00",
          "2021-09-03T16:00:00+00:00",
          "2021-09-06T13:00:00+00:00",
          "2021-09-07T02:00:00+00:00",
          "2021-09-08T05:00:00+00:00",
          "2021-09-08T08:00:00+00:00",
          "2021-09-08T22:00:00+00:00",
          "2021-09-08T23:00:00+00:00",
          "2021-09-09T15:00:00+00:00",
          "2021-09-10T00:00:00+00:00",
          "2021-09-10T05:00:00+00:00",
          "2021-09-10T18:00:00+00:00",
          "2021-09-13T07:00:00+00:00",
          "2021-09-14T11:00:00+00:00",
          "2021-09-14T12:00:00+00:00",
          "2021-09-14T13:00:00+00:00",
          "2021-09-15T16:00:00+00:00",
          "2021-09-16T06:00:00+00:00",
          "2021-09-16T13:00:00+00:00",
          "2021-09-16T20:00:00+00:00",
          "2021-09-17T02:00:00+00:00",
          "2021-09-17T16:00:00+00:00",
          "2021-09-21T00:00:00+00:00",
          "2021-09-21T14:00:00+00:00",
          "2021-09-22T04:00:00+00:00",
          "2021-09-23T05:00:00+00:00",
          "2021-09-23T06:00:00+00:00",
          "2021-09-24T08:00:00+00:00",
          "2021-09-24T16:00:00+00:00",
          "2021-09-28T14:00:00+00:00",
          "2021-09-29T00:00:00+00:00",
          "2021-09-29T07:00:00+00:00",
          "2021-09-29T21:00:00+00:00",
          "2021-09-30T17:00:00+00:00",
          "2021-10-01T15:00:00+00:00",
          "2021-10-04T22:00:00+00:00",
          "2021-10-05T08:00:00+00:00",
          "2021-10-06T04:00:00+00:00",
          "2021-10-06T06:00:00+00:00",
          "2021-10-06T07:00:00+00:00",
          "2021-10-06T20:00:00+00:00",
          "2021-10-07T11:00:00+00:00",
          "2021-10-07T12:00:00+00:00",
          "2021-10-12T01:00:00+00:00",
          "2021-10-12T10:00:00+00:00",
          "2021-10-13T01:00:00+00:00",
          "2021-10-13T08:00:00+00:00",
          "2021-10-13T18:00:00+00:00",
          "2021-10-14T03:00:00+00:00",
          "2021-10-15T17:00:00+00:00",
          "2021-10-18T03:00:00+00:00",
          "2021-10-18T04:00:00+00:00",
          "2021-10-18T14:00:00+00:00",
          "2021-10-19T18:00:00+00:00",
          "2021-10-19T23:00:00+00:00",
          "2021-10-20T12:00:00+00:00",
          "2021-10-20T20:00:00+00:00",
          "2021-10-21T06:00:00+00:00",
          "2021-10-22T03:00:00+00:00",
          "2021-10-22T14:00:00+00:00",
          "2021-10-25T03:00:00+00:00",
          "2021-10-25T14:00:00+00:00",
          "2021-10-26T02:00:00+00:00",
          "2021-10-26T21:00:00+00:00",
          "2021-10-27T18:00:00+00:00",
          "2021-10-28T03:00:00+00:00"
         ],
         "y": [
          135.00000000000085,
          128.20000000000107,
          120.50000000000125,
          104.60000000000207,
          94.10000000000309,
          69.4000000000031,
          65.70000000000249,
          130.60000000000258,
          107.80000000000314,
          150.30000000000285,
          158.40000000000174,
          144.10000000000167,
          132.80000000000172,
          109.10000000000082,
          135.60000000000088,
          127.20000000000198,
          144.50000000000216,
          108.2000000000022,
          135.00000000000227,
          119.00000000000261,
          99.00000000000375,
          79.00000000000489,
          77.00000000000529,
          63.500000000004775,
          43.000000000004945,
          35.400000000005605,
          31.80000000000547,
          132.20000000000454,
          119.40000000000452,
          108.7000000000046,
          90.20000000000437,
          51.10000000000525,
          56.10000000000639,
          60.60000000000656,
          26.700000000006696,
          11.500000000006594,
          -9.999999999993747,
          -34.19999999999419,
          -46.69999999999419,
          -63.29999999999387,
          -96.19999999999465,
          -111.19999999999521,
          -110.49999999999471,
          -74.79999999999478,
          -135.29999999999518,
          -129.99999999999545,
          -87.9999999999967,
          -110.39999999999708,
          -127.1999999999963,
          -142.99999999999642,
          -190.09999999999678,
          -230.39999999999594,
          -21.599999999995134,
          -45.39999999999509,
          -31.599999999994566,
          -31.39999999999361,
          -66.39999999999304,
          -92.39999999999213,
          -77.99999999999159,
          -89.99999999999204,
          -43.29999999999217,
          -47.79999999999234,
          -14.39999999999344,
          -28.69999999999351,
          -50.299999999992906,
          -49.999999999992895,
          -7.199999999993167,
          21.800000000006037,
          36.50000000000517,
          9.200000000004138,
          25.600000000002865,
          53.20000000000249,
          -14.799999999996771,
          -56.19999999999692,
          -84.19999999999703,
          -125.89999999999719,
          -134.19999999999845,
          -154.3999999999997,
          -160.8000000000004,
          -162.30000000000047,
          -157.3999999999998,
          -159.3999999999994,
          -167.79999999999973,
          -189.39999999999912,
          -223.299999999999,
          -241.40000000000015,
          -281.30000000000024,
          -307.59999999999934,
          -232.49999999999886,
          -232.49999999999886,
          -225.69999999999908,
          -227.69999999999868,
          -243.39999999999833,
          -237.49999999999858,
          -246.79999999999893,
          -266.99999999999875,
          -261.59999999999854,
          -276.5999999999991,
          -289.3999999999991,
          -257.3999999999984,
          -265.59999999999775,
          -266.59999999999684,
          -282.5999999999965,
          -290.9999999999968,
          -289.19999999999675,
          -310.1999999999961,
          -339.9999999999949,
          -349.5999999999938,
          -377.7999999999935,
          -387.1999999999929,
          -398.1999999999928,
          -439.1999999999939,
          -458.99999999999466,
          -452.99999999999443,
          -465.1999999999944,
          -314.39999999999486,
          -267.79999999999546,
          -260.79999999999615,
          -159.39999999999657,
          -147.09999999999752,
          -160.59999999999803,
          -185.0999999999985,
          -204.59999999999923,
          -126.20000000000005,
          -149.20000000000044,
          -180.59999999999974,
          -140.59999999999917,
          -143.99999999999977,
          -108.20000000000078,
          -100.20000000000095,
          -101.20000000000147,
          -82.40000000000265,
          -92.80000000000257,
          -33.10000000000173,
          -76.80000000000149,
          28.199999999998226,
          102.19999999999771,
          83.79999999999797,
          67.4999999999983,
          70.1999999999984,
          67.39999999999924,
          50.79999999999956,
          15.59999999999917,
          56.69999999999931,
          30.400000000000205,
          23.700000000000898,
          7.000000000000739,
          147.40000000000038,
          150.60000000000002,
          118.59999999999928,
          159.49999999999847,
          159.49999999999847,
          244.79999999999933,
          205.70000000000022,
          178.60000000000014,
          173.49999999999994,
          172.7000000000004,
          145.40000000000077,
          132.8000000000003,
          195.6000000000003,
          266.6000000000011,
          249.7000000000014,
          231.00000000000165,
          227.4000000000015,
          215.6000000000006,
          298.79999999999995,
          282.99999999999983,
          229.29999999999922,
          210.59999999999945,
          207.69999999999982,
          265.8000000000001,
          270.4000000000008,
          270.6000000000003,
          264.99999999999915,
          262.9999999999981,
          258.9999999999975,
          245.29999999999745,
          242.69999999999783,
          297.8999999999985,
          288.1999999999991,
          268.8999999999993,
          268.8999999999993,
          263.6999999999986,
          406.79999999999836,
          414.3999999999991,
          541.1000000000001,
          685.6999999999999,
          664.0999999999991,
          667.5999999999988,
          653.4999999999982,
          616.1999999999978,
          622.3999999999976,
          624.9999999999973,
          598.9999999999968,
          588.399999999996,
          564.0999999999951,
          524.499999999995,
          498.99999999999545,
          509.9999999999954,
          506.9999999999953,
          535.2999999999954,
          524.8999999999955,
          516.1999999999953,
          545.6999999999955,
          499.59999999999565,
          497.9999999999951,
          492.2999999999949,
          498.89999999999515,
          484.79999999999603,
          453.39999999999674,
          441.9999999999963,
          440.5999999999953,
          455.3999999999949,
          440.1999999999948,
          408.29999999999455,
          440.5999999999939,
          437.7999999999933,
          426.3999999999929,
          421.39999999999316,
          410.59999999999417,
          380.29999999999444,
          459.0999999999941,
          413.4999999999938,
          364.99999999999386,
          421.1999999999936,
          398.1999999999932,
          472.9999999999937,
          437.59999999999377,
          466.99999999999346,
          438.8999999999929,
          406.5999999999921,
          399.5999999999914,
          401.599999999991,
          414.59999999999053,
          462.19999999999044,
          450.0999999999909,
          488.799999999991,
          494.29999999999166,
          468.7999999999921,
          455.49999999999255,
          458.0999999999936,
          448.6999999999942,
          663.9999999999948,
          638.9999999999948,
          637.9999999999943,
          612.1999999999948,
          602.3999999999949,
          582.7999999999951,
          675.7999999999957,
          673.1999999999962,
          667.099999999997,
          655.2999999999975,
          665.9999999999974,
          642.8999999999979,
          619.999999999998,
          587.4999999999977,
          542.9999999999984,
          540.5999999999983,
          497.79999999999717,
          488.99999999999636,
          469.9999999999966,
          451.7999999999964,
          460.3999999999962,
          455.799999999997,
          421.3999999999976,
          410.99999999999767
         ]
        }
       ],
       "layout": {
        "font": {
         "color": "#e1e1e1",
         "size": 10
        },
        "height": 400,
        "margin": {
         "b": 10,
         "l": 15,
         "r": 15
        },
        "paper_bgcolor": "#1e1e1e",
        "plot_bgcolor": "#1e1e1e",
        "template": {
         "data": {
          "bar": [
           {
            "error_x": {
             "color": "#2a3f5f"
            },
            "error_y": {
             "color": "#2a3f5f"
            },
            "marker": {
             "line": {
              "color": "#E5ECF6",
              "width": 0.5
             },
             "pattern": {
              "fillmode": "overlay",
              "size": 10,
              "solidity": 0.2
             }
            },
            "type": "bar"
           }
          ],
          "barpolar": [
           {
            "marker": {
             "line": {
              "color": "#E5ECF6",
              "width": 0.5
             },
             "pattern": {
              "fillmode": "overlay",
              "size": 10,
              "solidity": 0.2
             }
            },
            "type": "barpolar"
           }
          ],
          "carpet": [
           {
            "aaxis": {
             "endlinecolor": "#2a3f5f",
             "gridcolor": "white",
             "linecolor": "white",
             "minorgridcolor": "white",
             "startlinecolor": "#2a3f5f"
            },
            "baxis": {
             "endlinecolor": "#2a3f5f",
             "gridcolor": "white",
             "linecolor": "white",
             "minorgridcolor": "white",
             "startlinecolor": "#2a3f5f"
            },
            "type": "carpet"
           }
          ],
          "choropleth": [
           {
            "colorbar": {
             "outlinewidth": 0,
             "ticks": ""
            },
            "type": "choropleth"
           }
          ],
          "contour": [
           {
            "colorbar": {
             "outlinewidth": 0,
             "ticks": ""
            },
            "colorscale": [
             [
              0,
              "#0d0887"
             ],
             [
              0.1111111111111111,
              "#46039f"
             ],
             [
              0.2222222222222222,
              "#7201a8"
             ],
             [
              0.3333333333333333,
              "#9c179e"
             ],
             [
              0.4444444444444444,
              "#bd3786"
             ],
             [
              0.5555555555555556,
              "#d8576b"
             ],
             [
              0.6666666666666666,
              "#ed7953"
             ],
             [
              0.7777777777777778,
              "#fb9f3a"
             ],
             [
              0.8888888888888888,
              "#fdca26"
             ],
             [
              1,
              "#f0f921"
             ]
            ],
            "type": "contour"
           }
          ],
          "contourcarpet": [
           {
            "colorbar": {
             "outlinewidth": 0,
             "ticks": ""
            },
            "type": "contourcarpet"
           }
          ],
          "heatmap": [
           {
            "colorbar": {
             "outlinewidth": 0,
             "ticks": ""
            },
            "colorscale": [
             [
              0,
              "#0d0887"
             ],
             [
              0.1111111111111111,
              "#46039f"
             ],
             [
              0.2222222222222222,
              "#7201a8"
             ],
             [
              0.3333333333333333,
              "#9c179e"
             ],
             [
              0.4444444444444444,
              "#bd3786"
             ],
             [
              0.5555555555555556,
              "#d8576b"
             ],
             [
              0.6666666666666666,
              "#ed7953"
             ],
             [
              0.7777777777777778,
              "#fb9f3a"
             ],
             [
              0.8888888888888888,
              "#fdca26"
             ],
             [
              1,
              "#f0f921"
             ]
            ],
            "type": "heatmap"
           }
          ],
          "heatmapgl": [
           {
            "colorbar": {
             "outlinewidth": 0,
             "ticks": ""
            },
            "colorscale": [
             [
              0,
              "#0d0887"
             ],
             [
              0.1111111111111111,
              "#46039f"
             ],
             [
              0.2222222222222222,
              "#7201a8"
             ],
             [
              0.3333333333333333,
              "#9c179e"
             ],
             [
              0.4444444444444444,
              "#bd3786"
             ],
             [
              0.5555555555555556,
              "#d8576b"
             ],
             [
              0.6666666666666666,
              "#ed7953"
             ],
             [
              0.7777777777777778,
              "#fb9f3a"
             ],
             [
              0.8888888888888888,
              "#fdca26"
             ],
             [
              1,
              "#f0f921"
             ]
            ],
            "type": "heatmapgl"
           }
          ],
          "histogram": [
           {
            "marker": {
             "pattern": {
              "fillmode": "overlay",
              "size": 10,
              "solidity": 0.2
             }
            },
            "type": "histogram"
           }
          ],
          "histogram2d": [
           {
            "colorbar": {
             "outlinewidth": 0,
             "ticks": ""
            },
            "colorscale": [
             [
              0,
              "#0d0887"
             ],
             [
              0.1111111111111111,
              "#46039f"
             ],
             [
              0.2222222222222222,
              "#7201a8"
             ],
             [
              0.3333333333333333,
              "#9c179e"
             ],
             [
              0.4444444444444444,
              "#bd3786"
             ],
             [
              0.5555555555555556,
              "#d8576b"
             ],
             [
              0.6666666666666666,
              "#ed7953"
             ],
             [
              0.7777777777777778,
              "#fb9f3a"
             ],
             [
              0.8888888888888888,
              "#fdca26"
             ],
             [
              1,
              "#f0f921"
             ]
            ],
            "type": "histogram2d"
           }
          ],
          "histogram2dcontour": [
           {
            "colorbar": {
             "outlinewidth": 0,
             "ticks": ""
            },
            "colorscale": [
             [
              0,
              "#0d0887"
             ],
             [
              0.1111111111111111,
              "#46039f"
             ],
             [
              0.2222222222222222,
              "#7201a8"
             ],
             [
              0.3333333333333333,
              "#9c179e"
             ],
             [
              0.4444444444444444,
              "#bd3786"
             ],
             [
              0.5555555555555556,
              "#d8576b"
             ],
             [
              0.6666666666666666,
              "#ed7953"
             ],
             [
              0.7777777777777778,
              "#fb9f3a"
             ],
             [
              0.8888888888888888,
              "#fdca26"
             ],
             [
              1,
              "#f0f921"
             ]
            ],
            "type": "histogram2dcontour"
           }
          ],
          "mesh3d": [
           {
            "colorbar": {
             "outlinewidth": 0,
             "ticks": ""
            },
            "type": "mesh3d"
           }
          ],
          "parcoords": [
           {
            "line": {
             "colorbar": {
              "outlinewidth": 0,
              "ticks": ""
             }
            },
            "type": "parcoords"
           }
          ],
          "pie": [
           {
            "automargin": true,
            "type": "pie"
           }
          ],
          "scatter": [
           {
            "marker": {
             "colorbar": {
              "outlinewidth": 0,
              "ticks": ""
             }
            },
            "type": "scatter"
           }
          ],
          "scatter3d": [
           {
            "line": {
             "colorbar": {
              "outlinewidth": 0,
              "ticks": ""
             }
            },
            "marker": {
             "colorbar": {
              "outlinewidth": 0,
              "ticks": ""
             }
            },
            "type": "scatter3d"
           }
          ],
          "scattercarpet": [
           {
            "marker": {
             "colorbar": {
              "outlinewidth": 0,
              "ticks": ""
             }
            },
            "type": "scattercarpet"
           }
          ],
          "scattergeo": [
           {
            "marker": {
             "colorbar": {
              "outlinewidth": 0,
              "ticks": ""
             }
            },
            "type": "scattergeo"
           }
          ],
          "scattergl": [
           {
            "marker": {
             "colorbar": {
              "outlinewidth": 0,
              "ticks": ""
             }
            },
            "type": "scattergl"
           }
          ],
          "scattermapbox": [
           {
            "marker": {
             "colorbar": {
              "outlinewidth": 0,
              "ticks": ""
             }
            },
            "type": "scattermapbox"
           }
          ],
          "scatterpolar": [
           {
            "marker": {
             "colorbar": {
              "outlinewidth": 0,
              "ticks": ""
             }
            },
            "type": "scatterpolar"
           }
          ],
          "scatterpolargl": [
           {
            "marker": {
             "colorbar": {
              "outlinewidth": 0,
              "ticks": ""
             }
            },
            "type": "scatterpolargl"
           }
          ],
          "scatterternary": [
           {
            "marker": {
             "colorbar": {
              "outlinewidth": 0,
              "ticks": ""
             }
            },
            "type": "scatterternary"
           }
          ],
          "surface": [
           {
            "colorbar": {
             "outlinewidth": 0,
             "ticks": ""
            },
            "colorscale": [
             [
              0,
              "#0d0887"
             ],
             [
              0.1111111111111111,
              "#46039f"
             ],
             [
              0.2222222222222222,
              "#7201a8"
             ],
             [
              0.3333333333333333,
              "#9c179e"
             ],
             [
              0.4444444444444444,
              "#bd3786"
             ],
             [
              0.5555555555555556,
              "#d8576b"
             ],
             [
              0.6666666666666666,
              "#ed7953"
             ],
             [
              0.7777777777777778,
              "#fb9f3a"
             ],
             [
              0.8888888888888888,
              "#fdca26"
             ],
             [
              1,
              "#f0f921"
             ]
            ],
            "type": "surface"
           }
          ],
          "table": [
           {
            "cells": {
             "fill": {
              "color": "#EBF0F8"
             },
             "line": {
              "color": "white"
             }
            },
            "header": {
             "fill": {
              "color": "#C8D4E3"
             },
             "line": {
              "color": "white"
             }
            },
            "type": "table"
           }
          ]
         },
         "layout": {
          "annotationdefaults": {
           "arrowcolor": "#2a3f5f",
           "arrowhead": 0,
           "arrowwidth": 1
          },
          "autotypenumbers": "strict",
          "coloraxis": {
           "colorbar": {
            "outlinewidth": 0,
            "ticks": ""
           }
          },
          "colorscale": {
           "diverging": [
            [
             0,
             "#8e0152"
            ],
            [
             0.1,
             "#c51b7d"
            ],
            [
             0.2,
             "#de77ae"
            ],
            [
             0.3,
             "#f1b6da"
            ],
            [
             0.4,
             "#fde0ef"
            ],
            [
             0.5,
             "#f7f7f7"
            ],
            [
             0.6,
             "#e6f5d0"
            ],
            [
             0.7,
             "#b8e186"
            ],
            [
             0.8,
             "#7fbc41"
            ],
            [
             0.9,
             "#4d9221"
            ],
            [
             1,
             "#276419"
            ]
           ],
           "sequential": [
            [
             0,
             "#0d0887"
            ],
            [
             0.1111111111111111,
             "#46039f"
            ],
            [
             0.2222222222222222,
             "#7201a8"
            ],
            [
             0.3333333333333333,
             "#9c179e"
            ],
            [
             0.4444444444444444,
             "#bd3786"
            ],
            [
             0.5555555555555556,
             "#d8576b"
            ],
            [
             0.6666666666666666,
             "#ed7953"
            ],
            [
             0.7777777777777778,
             "#fb9f3a"
            ],
            [
             0.8888888888888888,
             "#fdca26"
            ],
            [
             1,
             "#f0f921"
            ]
           ],
           "sequentialminus": [
            [
             0,
             "#0d0887"
            ],
            [
             0.1111111111111111,
             "#46039f"
            ],
            [
             0.2222222222222222,
             "#7201a8"
            ],
            [
             0.3333333333333333,
             "#9c179e"
            ],
            [
             0.4444444444444444,
             "#bd3786"
            ],
            [
             0.5555555555555556,
             "#d8576b"
            ],
            [
             0.6666666666666666,
             "#ed7953"
            ],
            [
             0.7777777777777778,
             "#fb9f3a"
            ],
            [
             0.8888888888888888,
             "#fdca26"
            ],
            [
             1,
             "#f0f921"
            ]
           ]
          },
          "colorway": [
           "#636efa",
           "#EF553B",
           "#00cc96",
           "#ab63fa",
           "#FFA15A",
           "#19d3f3",
           "#FF6692",
           "#B6E880",
           "#FF97FF",
           "#FECB52"
          ],
          "font": {
           "color": "#2a3f5f"
          },
          "geo": {
           "bgcolor": "white",
           "lakecolor": "white",
           "landcolor": "#E5ECF6",
           "showlakes": true,
           "showland": true,
           "subunitcolor": "white"
          },
          "hoverlabel": {
           "align": "left"
          },
          "hovermode": "closest",
          "mapbox": {
           "style": "light"
          },
          "paper_bgcolor": "white",
          "plot_bgcolor": "#E5ECF6",
          "polar": {
           "angularaxis": {
            "gridcolor": "white",
            "linecolor": "white",
            "ticks": ""
           },
           "bgcolor": "#E5ECF6",
           "radialaxis": {
            "gridcolor": "white",
            "linecolor": "white",
            "ticks": ""
           }
          },
          "scene": {
           "xaxis": {
            "backgroundcolor": "#E5ECF6",
            "gridcolor": "white",
            "gridwidth": 2,
            "linecolor": "white",
            "showbackground": true,
            "ticks": "",
            "zerolinecolor": "white"
           },
           "yaxis": {
            "backgroundcolor": "#E5ECF6",
            "gridcolor": "white",
            "gridwidth": 2,
            "linecolor": "white",
            "showbackground": true,
            "ticks": "",
            "zerolinecolor": "white"
           },
           "zaxis": {
            "backgroundcolor": "#E5ECF6",
            "gridcolor": "white",
            "gridwidth": 2,
            "linecolor": "white",
            "showbackground": true,
            "ticks": "",
            "zerolinecolor": "white"
           }
          },
          "shapedefaults": {
           "line": {
            "color": "#2a3f5f"
           }
          },
          "ternary": {
           "aaxis": {
            "gridcolor": "white",
            "linecolor": "white",
            "ticks": ""
           },
           "baxis": {
            "gridcolor": "white",
            "linecolor": "white",
            "ticks": ""
           },
           "bgcolor": "#E5ECF6",
           "caxis": {
            "gridcolor": "white",
            "linecolor": "white",
            "ticks": ""
           }
          },
          "title": {
           "x": 0.05
          },
          "xaxis": {
           "automargin": true,
           "gridcolor": "white",
           "linecolor": "white",
           "ticks": "",
           "title": {
            "standoff": 15
           },
           "zerolinecolor": "white",
           "zerolinewidth": 2
          },
          "yaxis": {
           "automargin": true,
           "gridcolor": "white",
           "linecolor": "white",
           "ticks": "",
           "title": {
            "standoff": 15
           },
           "zerolinecolor": "white",
           "zerolinewidth": 2
          }
         }
        },
        "title": {
         "text": "CAD_JPY"
        },
        "width": 1000,
        "xaxis": {
         "linecolor": "#3a4a54",
         "linewidth": 1,
         "showgrid": false,
         "zeroline": false
        },
        "yaxis": {
         "linecolor": "#3a4a54",
         "linewidth": 1,
         "showgrid": false,
         "zeroline": false
        }
       }
      }
     },
     "metadata": {},
     "output_type": "display_data"
    }
   ],
   "source": [
    "plot_line(trades_cad_jpy, \"CAD_JPY\")"
   ]
  },
  {
   "cell_type": "code",
   "execution_count": 59,
   "metadata": {},
   "outputs": [
    {
     "data": {
      "application/vnd.plotly.v1+json": {
       "config": {
        "plotlyServerURL": "https://plot.ly"
       },
       "data": [
        {
         "line": {
          "color": "#3d825f",
          "shape": "spline",
          "width": 2
         },
         "mode": "lines",
         "name": "EUR_NZD_MA_8_16",
         "type": "scatter",
         "x": [
          "2021-03-11T15:00:00+00:00",
          "2021-03-12T04:00:00+00:00",
          "2021-03-12T08:00:00+00:00",
          "2021-03-15T01:00:00+00:00",
          "2021-03-15T17:00:00+00:00",
          "2021-03-15T20:00:00+00:00",
          "2021-03-16T07:00:00+00:00",
          "2021-03-16T16:00:00+00:00",
          "2021-03-17T03:00:00+00:00",
          "2021-03-17T22:00:00+00:00",
          "2021-03-18T13:00:00+00:00",
          "2021-03-19T08:00:00+00:00",
          "2021-03-19T19:00:00+00:00",
          "2021-03-22T10:00:00+00:00",
          "2021-03-22T17:00:00+00:00",
          "2021-03-24T12:00:00+00:00",
          "2021-03-24T19:00:00+00:00",
          "2021-03-25T03:00:00+00:00",
          "2021-03-25T17:00:00+00:00",
          "2021-03-25T19:00:00+00:00",
          "2021-03-28T23:00:00+00:00",
          "2021-03-29T02:00:00+00:00",
          "2021-03-29T05:00:00+00:00",
          "2021-03-29T10:00:00+00:00",
          "2021-03-30T13:00:00+00:00",
          "2021-03-30T23:00:00+00:00",
          "2021-03-31T08:00:00+00:00",
          "2021-03-31T13:00:00+00:00",
          "2021-03-31T19:00:00+00:00",
          "2021-04-01T13:00:00+00:00",
          "2021-04-02T12:00:00+00:00",
          "2021-04-02T18:00:00+00:00",
          "2021-04-05T19:00:00+00:00",
          "2021-04-07T03:00:00+00:00",
          "2021-04-07T07:00:00+00:00",
          "2021-04-08T03:00:00+00:00",
          "2021-04-08T20:00:00+00:00",
          "2021-04-09T02:00:00+00:00",
          "2021-04-09T06:00:00+00:00",
          "2021-04-09T14:00:00+00:00",
          "2021-04-11T21:00:00+00:00",
          "2021-04-12T09:00:00+00:00",
          "2021-04-12T15:00:00+00:00",
          "2021-04-13T09:00:00+00:00",
          "2021-04-13T17:00:00+00:00",
          "2021-04-13T23:00:00+00:00",
          "2021-04-16T04:00:00+00:00",
          "2021-04-19T04:00:00+00:00",
          "2021-04-19T16:00:00+00:00",
          "2021-04-20T02:00:00+00:00",
          "2021-04-20T15:00:00+00:00",
          "2021-04-21T07:00:00+00:00",
          "2021-04-22T02:00:00+00:00",
          "2021-04-23T05:00:00+00:00",
          "2021-04-23T11:00:00+00:00",
          "2021-04-26T03:00:00+00:00",
          "2021-04-27T03:00:00+00:00",
          "2021-04-28T07:00:00+00:00",
          "2021-04-29T03:00:00+00:00",
          "2021-04-29T12:00:00+00:00",
          "2021-04-29T13:00:00+00:00",
          "2021-04-30T02:00:00+00:00",
          "2021-04-30T14:00:00+00:00",
          "2021-05-03T03:00:00+00:00",
          "2021-05-03T09:00:00+00:00",
          "2021-05-03T16:00:00+00:00",
          "2021-05-04T03:00:00+00:00",
          "2021-05-04T22:00:00+00:00",
          "2021-05-06T04:00:00+00:00",
          "2021-05-06T20:00:00+00:00",
          "2021-05-07T06:00:00+00:00",
          "2021-05-07T18:00:00+00:00",
          "2021-05-10T02:00:00+00:00",
          "2021-05-10T05:00:00+00:00",
          "2021-05-10T21:00:00+00:00",
          "2021-05-11T22:00:00+00:00",
          "2021-05-12T03:00:00+00:00",
          "2021-05-13T05:00:00+00:00",
          "2021-05-13T08:00:00+00:00",
          "2021-05-13T15:00:00+00:00",
          "2021-05-14T03:00:00+00:00",
          "2021-05-14T11:00:00+00:00",
          "2021-05-17T02:00:00+00:00",
          "2021-05-17T21:00:00+00:00",
          "2021-05-18T12:00:00+00:00",
          "2021-05-19T23:00:00+00:00",
          "2021-05-20T21:00:00+00:00",
          "2021-05-21T11:00:00+00:00",
          "2021-05-21T20:00:00+00:00",
          "2021-05-24T05:00:00+00:00",
          "2021-05-24T06:00:00+00:00",
          "2021-05-24T14:00:00+00:00",
          "2021-05-25T07:00:00+00:00",
          "2021-05-26T02:00:00+00:00",
          "2021-05-27T18:00:00+00:00",
          "2021-05-31T07:00:00+00:00",
          "2021-05-31T20:00:00+00:00",
          "2021-06-01T04:00:00+00:00",
          "2021-06-01T09:00:00+00:00",
          "2021-06-01T23:00:00+00:00",
          "2021-06-02T07:00:00+00:00",
          "2021-06-02T18:00:00+00:00",
          "2021-06-02T20:00:00+00:00",
          "2021-06-04T03:00:00+00:00",
          "2021-06-07T07:00:00+00:00",
          "2021-06-07T09:00:00+00:00",
          "2021-06-07T21:00:00+00:00",
          "2021-06-09T03:00:00+00:00",
          "2021-06-09T09:00:00+00:00",
          "2021-06-09T11:00:00+00:00",
          "2021-06-09T12:00:00+00:00",
          "2021-06-10T03:00:00+00:00",
          "2021-06-11T02:00:00+00:00",
          "2021-06-11T10:00:00+00:00",
          "2021-06-11T15:00:00+00:00",
          "2021-06-14T02:00:00+00:00",
          "2021-06-14T12:00:00+00:00",
          "2021-06-15T04:00:00+00:00",
          "2021-06-15T09:00:00+00:00",
          "2021-06-16T02:00:00+00:00",
          "2021-06-16T19:00:00+00:00",
          "2021-06-17T02:00:00+00:00",
          "2021-06-17T11:00:00+00:00",
          "2021-06-17T23:00:00+00:00",
          "2021-06-18T05:00:00+00:00",
          "2021-06-21T02:00:00+00:00",
          "2021-06-21T13:00:00+00:00",
          "2021-06-21T16:00:00+00:00",
          "2021-06-22T02:00:00+00:00",
          "2021-06-22T10:00:00+00:00",
          "2021-06-23T04:00:00+00:00",
          "2021-06-23T09:00:00+00:00",
          "2021-06-25T15:00:00+00:00",
          "2021-06-28T02:00:00+00:00",
          "2021-06-28T10:00:00+00:00",
          "2021-06-30T02:00:00+00:00",
          "2021-06-30T11:00:00+00:00",
          "2021-06-30T16:00:00+00:00",
          "2021-07-01T10:00:00+00:00",
          "2021-07-02T08:00:00+00:00",
          "2021-07-05T06:00:00+00:00",
          "2021-07-05T19:00:00+00:00",
          "2021-07-06T16:00:00+00:00",
          "2021-07-07T05:00:00+00:00",
          "2021-07-07T19:00:00+00:00",
          "2021-07-09T09:00:00+00:00",
          "2021-07-12T05:00:00+00:00",
          "2021-07-12T16:00:00+00:00",
          "2021-07-13T11:00:00+00:00",
          "2021-07-13T20:00:00+00:00",
          "2021-07-14T16:00:00+00:00",
          "2021-07-16T01:00:00+00:00",
          "2021-07-16T17:00:00+00:00",
          "2021-07-20T03:00:00+00:00",
          "2021-07-20T04:00:00+00:00",
          "2021-07-20T17:00:00+00:00",
          "2021-07-21T07:00:00+00:00",
          "2021-07-21T10:00:00+00:00",
          "2021-07-22T04:00:00+00:00",
          "2021-07-22T11:00:00+00:00",
          "2021-07-23T08:00:00+00:00",
          "2021-07-23T11:00:00+00:00",
          "2021-07-25T21:00:00+00:00",
          "2021-07-26T15:00:00+00:00",
          "2021-07-27T04:00:00+00:00",
          "2021-07-28T02:00:00+00:00",
          "2021-07-28T09:00:00+00:00",
          "2021-07-29T01:00:00+00:00",
          "2021-07-30T03:00:00+00:00",
          "2021-08-02T14:00:00+00:00",
          "2021-08-04T18:00:00+00:00",
          "2021-08-05T03:00:00+00:00",
          "2021-08-05T22:00:00+00:00",
          "2021-08-06T09:00:00+00:00",
          "2021-08-06T19:00:00+00:00",
          "2021-08-09T05:00:00+00:00",
          "2021-08-09T15:00:00+00:00",
          "2021-08-10T11:00:00+00:00",
          "2021-08-11T05:00:00+00:00",
          "2021-08-11T12:00:00+00:00",
          "2021-08-12T01:00:00+00:00",
          "2021-08-13T08:00:00+00:00",
          "2021-08-13T09:00:00+00:00",
          "2021-08-13T18:00:00+00:00",
          "2021-08-16T03:00:00+00:00",
          "2021-08-16T12:00:00+00:00",
          "2021-08-16T18:00:00+00:00",
          "2021-08-17T18:00:00+00:00",
          "2021-08-18T09:00:00+00:00",
          "2021-08-19T20:00:00+00:00",
          "2021-08-20T00:00:00+00:00",
          "2021-08-20T15:00:00+00:00",
          "2021-08-22T22:00:00+00:00",
          "2021-08-23T07:00:00+00:00",
          "2021-08-23T08:00:00+00:00",
          "2021-08-23T11:00:00+00:00",
          "2021-08-24T22:00:00+00:00",
          "2021-08-25T07:00:00+00:00",
          "2021-08-26T03:00:00+00:00",
          "2021-08-26T16:00:00+00:00",
          "2021-08-26T20:00:00+00:00",
          "2021-08-27T11:00:00+00:00",
          "2021-08-30T03:00:00+00:00",
          "2021-08-30T13:00:00+00:00",
          "2021-08-30T22:00:00+00:00",
          "2021-08-31T00:00:00+00:00",
          "2021-08-31T20:00:00+00:00",
          "2021-08-31T21:00:00+00:00",
          "2021-09-01T04:00:00+00:00",
          "2021-09-01T05:00:00+00:00",
          "2021-09-01T06:00:00+00:00",
          "2021-09-01T07:00:00+00:00",
          "2021-09-01T14:00:00+00:00",
          "2021-09-01T22:00:00+00:00",
          "2021-09-02T04:00:00+00:00",
          "2021-09-02T06:00:00+00:00",
          "2021-09-03T00:00:00+00:00",
          "2021-09-03T07:00:00+00:00",
          "2021-09-06T03:00:00+00:00",
          "2021-09-06T12:00:00+00:00",
          "2021-09-06T16:00:00+00:00",
          "2021-09-08T02:00:00+00:00",
          "2021-09-09T01:00:00+00:00",
          "2021-09-09T10:00:00+00:00",
          "2021-09-09T21:00:00+00:00",
          "2021-09-10T06:00:00+00:00",
          "2021-09-10T20:00:00+00:00",
          "2021-09-13T07:00:00+00:00",
          "2021-09-13T17:00:00+00:00",
          "2021-09-14T13:00:00+00:00",
          "2021-09-14T14:00:00+00:00",
          "2021-09-15T09:00:00+00:00",
          "2021-09-15T11:00:00+00:00",
          "2021-09-15T13:00:00+00:00",
          "2021-09-16T16:00:00+00:00",
          "2021-09-17T10:00:00+00:00",
          "2021-09-17T12:00:00+00:00",
          "2021-09-21T08:00:00+00:00",
          "2021-09-21T16:00:00+00:00",
          "2021-09-22T03:00:00+00:00",
          "2021-09-22T16:00:00+00:00",
          "2021-09-22T18:00:00+00:00",
          "2021-09-22T19:00:00+00:00",
          "2021-09-22T20:00:00+00:00",
          "2021-09-23T02:00:00+00:00",
          "2021-09-23T08:00:00+00:00",
          "2021-09-24T00:00:00+00:00",
          "2021-09-27T03:00:00+00:00",
          "2021-09-27T12:00:00+00:00",
          "2021-09-27T18:00:00+00:00",
          "2021-09-28T08:00:00+00:00",
          "2021-09-29T11:00:00+00:00",
          "2021-09-29T12:00:00+00:00",
          "2021-09-30T03:00:00+00:00",
          "2021-10-01T05:00:00+00:00",
          "2021-10-01T13:00:00+00:00",
          "2021-10-04T03:00:00+00:00",
          "2021-10-04T09:00:00+00:00",
          "2021-10-05T00:00:00+00:00",
          "2021-10-05T10:00:00+00:00",
          "2021-10-05T23:00:00+00:00",
          "2021-10-06T16:00:00+00:00",
          "2021-10-08T08:00:00+00:00",
          "2021-10-08T18:00:00+00:00",
          "2021-10-08T20:00:00+00:00",
          "2021-10-11T05:00:00+00:00",
          "2021-10-12T00:00:00+00:00",
          "2021-10-12T09:00:00+00:00",
          "2021-10-12T20:00:00+00:00",
          "2021-10-13T09:00:00+00:00",
          "2021-10-13T16:00:00+00:00",
          "2021-10-14T01:00:00+00:00",
          "2021-10-18T08:00:00+00:00",
          "2021-10-18T19:00:00+00:00",
          "2021-10-21T04:00:00+00:00",
          "2021-10-22T02:00:00+00:00",
          "2021-10-22T12:00:00+00:00",
          "2021-10-25T03:00:00+00:00",
          "2021-10-26T20:00:00+00:00",
          "2021-10-27T16:00:00+00:00",
          "2021-10-28T02:00:00+00:00",
          "2021-10-28T07:00:00+00:00"
         ],
         "y": [
          -16.599999999999948,
          -55.600000000000094,
          -80.59999999999957,
          -60.19999999999915,
          -66.8000000000002,
          -94.00000000000075,
          -143.2000000000011,
          -164.4000000000023,
          -184.60000000000363,
          -231.6000000000051,
          -224.4000000000068,
          -235.40000000000782,
          -223.5000000000076,
          -237.80000000000803,
          71.59999999999161,
          61.7999999999918,
          52.59999999999148,
          65.79999999999136,
          55.59999999999115,
          121.99999999999093,
          126.89999999999195,
          109.99999999999226,
          45.59999999999225,
          68.39999999999284,
          45.199999999991846,
          21.299999999990703,
          -22.800000000009547,
          -66.9000000000098,
          -73.70000000000994,
          -25.80000000000922,
          -15.000000000009521,
          1.3999999999891166,
          92.99999999998968,
          42.99999999999075,
          86.99999999999034,
          121.79999999998961,
          137.79999999999006,
          86.99999999999034,
          21.899999999990186,
          -14.300000000009376,
          -29.60000000000969,
          -66.60000000001006,
          -96.50000000001054,
          -132.20000000001127,
          -148.40000000001083,
          79.5999999999907,
          120.59999999999285,
          86.99999999999477,
          37.39999999999624,
          1.9999999999974776,
          -28.700000000001584,
          -11.40000000000149,
          28.6999999999992,
          -8.99999999999909,
          -16.39999999999872,
          47.60000000000089,
          88.7999999999999,
          127.89999999999847,
          107.39999999999739,
          84.79999999999589,
          81.39999999999583,
          24.999999999997158,
          1.0999999999982357,
          -63.40000000000022,
          -134.99999999999855,
          -149.9999999999969,
          -154.99999999999636,
          -58.79999999999674,
          -42.09999999999614,
          -65.19999999999649,
          -63.69999999999777,
          -68.79999999999788,
          -81.79999999999868,
          -87.59999999999893,
          -65.99999999999731,
          -107.09999999999567,
          4.800000000004658,
          18.50000000000337,
          -31.999999999996614,
          -63.69999999999557,
          -134.39999999999466,
          -161.599999999993,
          -114.69999999999217,
          -86.59999999999238,
          90.80000000000851,
          96.80000000001007,
          15.00000000001154,
          -47.999999999988184,
          -26.399999999988786,
          -24.399999999989006,
          -72.59999999998948,
          -89.99999999999022,
          -233.09999999999067,
          -143.39999999999145,
          -68.79999999999123,
          -79.69999999998936,
          -96.79999999998815,
          -142.2999999999887,
          -136.9999999999895,
          -169.5999999999899,
          -177.4999999999906,
          -179.99999999999142,
          -101.8999999999927,
          -22.99999999999318,
          -41.5999999999929,
          -55.09999999999253,
          5.1000000000088335,
          11.600000000009228,
          14.800000000007987,
          -3.399999999993561,
          -3.1999999999944713,
          -14.99999999999406,
          -47.19999999999406,
          -108.9999999999948,
          -149.79999999999563,
          -173.7999999999952,
          -188.8999999999942,
          -235.19999999999334,
          -251.39999999999287,
          -283.9999999999933,
          -371.09999999999326,
          -477.99999999999415,
          -528.9999999999952,
          -594.9999999999947,
          -617.9999999999943,
          -655.3999999999951,
          -674.9999999999947,
          -705.399999999994,
          -742.5999999999934,
          -717.1999999999936,
          -755.9999999999947,
          -661.3999999999944,
          -669.9999999999931,
          -714.1999999999917,
          -627.1999999999924,
          -639.5999999999938,
          -680.6999999999944,
          -694.3999999999953,
          -681.5999999999958,
          -564.0999999999965,
          -549.2999999999972,
          -523.1999999999972,
          -562.7999999999969,
          -553.7999999999956,
          -354.19999999999584,
          -327.9999999999974,
          -340.09999999999894,
          -321.4000000000008,
          -334.40000000000157,
          -212.8000000000021,
          -160.60000000000207,
          -123.40000000000262,
          56.79999999999663,
          5.199999999996095,
          -35.40000000000565,
          -20.60000000000639,
          -35.40000000000565,
          22.699999999995278,
          -10.400000000003963,
          28.899999999995927,
          2.09999999999577,
          -37.90000000000427,
          -63.00000000000439,
          -77.00000000000507,
          35.399999999994094,
          12.599999999993496,
          42.49999999999176,
          113.79999999999035,
          156.99999999998914,
          372.39999999998804,
          355.5999999999868,
          355.99999999998494,
          321.19999999998345,
          295.899999999982,
          272.3999999999813,
          239.49999999998113,
          203.59999999998132,
          219.59999999998178,
          140.29999999998185,
          100.69999999998223,
          167.39999999998176,
          154.59999999998007,
          128.3999999999794,
          87.69999999997921,
          65.8999999999785,
          45.49999999997809,
          225.49999999997823,
          191.5999999999782,
          287.69999999997714,
          286.19999999997617,
          307.19999999997606,
          303.9999999999751,
          313.999999999974,
          327.1999999999739,
          272.7999999999728,
          408.39999999997076,
          379.5999999999708,
          378.5999999999709,
          385.4999999999695,
          379.0999999999697,
          392.39999999997025,
          451.49999999997107,
          435.79999999997256,
          430.9999999999722,
          381.19999999997236,
          430.6999999999725,
          436.2999999999714,
          428.9999999999702,
          399.7999999999699,
          402.6999999999711,
          384.8999999999722,
          340.59999999997285,
          335.5999999999734,
          341.1999999999746,
          315.999999999976,
          345.39999999997764,
          312.79999999997943,
          356.59999999997996,
          355.1999999999797,
          334.1999999999798,
          355.39999999997883,
          343.99999999997743,
          308.7999999999778,
          316.49999999997937,
          284.69999999997975,
          274.89999999997997,
          229.99999999998113,
          179.9999999999822,
          181.19999999998342,
          156.19999999998396,
          151.5999999999849,
          121.19999999998558,
          67.59999999998527,
          47.799999999984344,
          89.19999999998245,
          111.39999999998133,
          104.5999999999812,
          8.199999999980264,
          -13.000000000020954,
          7.799999999979864,
          8.69999999998132,
          13.999999999982734,
          6.799999999984415,
          -52.50000000001549,
          -155.90000000001564,
          -116.60000000001574,
          -16.700000000016317,
          -15.800000000017082,
          -48.600000000018795,
          -116.00000000002069,
          -35.100000000021396,
          -72.10000000002177,
          -67.20000000002297,
          -19.200000000023813,
          -88.60000000002327,
          -57.7000000000229,
          -88.20000000002287,
          -102.00000000002224,
          -145.40000000002235,
          -164.80000000002286,
          -112.60000000002285,
          -92.40000000002152,
          -101.40000000002053,
          -108.00000000002157,
          -126.50000000002287,
          -118.60000000002218,
          -173.80000000002187,
          -191.8000000000221,
          -201.6000000000219,
          -214.6000000000227,
          -225.8000000000228,
          -11.20000000002247,
          -37.60000000002223,
          145.5999999999789,
          168.999999999979,
          107.99999999997905,
          96.79999999997895,
          183.39999999997787,
          154.59999999997794,
          132.19999999997773,
          114.29999999997816,
          69.99999999997883
         ]
        }
       ],
       "layout": {
        "font": {
         "color": "#e1e1e1",
         "size": 10
        },
        "height": 400,
        "margin": {
         "b": 10,
         "l": 15,
         "r": 15
        },
        "paper_bgcolor": "#1e1e1e",
        "plot_bgcolor": "#1e1e1e",
        "template": {
         "data": {
          "bar": [
           {
            "error_x": {
             "color": "#2a3f5f"
            },
            "error_y": {
             "color": "#2a3f5f"
            },
            "marker": {
             "line": {
              "color": "#E5ECF6",
              "width": 0.5
             },
             "pattern": {
              "fillmode": "overlay",
              "size": 10,
              "solidity": 0.2
             }
            },
            "type": "bar"
           }
          ],
          "barpolar": [
           {
            "marker": {
             "line": {
              "color": "#E5ECF6",
              "width": 0.5
             },
             "pattern": {
              "fillmode": "overlay",
              "size": 10,
              "solidity": 0.2
             }
            },
            "type": "barpolar"
           }
          ],
          "carpet": [
           {
            "aaxis": {
             "endlinecolor": "#2a3f5f",
             "gridcolor": "white",
             "linecolor": "white",
             "minorgridcolor": "white",
             "startlinecolor": "#2a3f5f"
            },
            "baxis": {
             "endlinecolor": "#2a3f5f",
             "gridcolor": "white",
             "linecolor": "white",
             "minorgridcolor": "white",
             "startlinecolor": "#2a3f5f"
            },
            "type": "carpet"
           }
          ],
          "choropleth": [
           {
            "colorbar": {
             "outlinewidth": 0,
             "ticks": ""
            },
            "type": "choropleth"
           }
          ],
          "contour": [
           {
            "colorbar": {
             "outlinewidth": 0,
             "ticks": ""
            },
            "colorscale": [
             [
              0,
              "#0d0887"
             ],
             [
              0.1111111111111111,
              "#46039f"
             ],
             [
              0.2222222222222222,
              "#7201a8"
             ],
             [
              0.3333333333333333,
              "#9c179e"
             ],
             [
              0.4444444444444444,
              "#bd3786"
             ],
             [
              0.5555555555555556,
              "#d8576b"
             ],
             [
              0.6666666666666666,
              "#ed7953"
             ],
             [
              0.7777777777777778,
              "#fb9f3a"
             ],
             [
              0.8888888888888888,
              "#fdca26"
             ],
             [
              1,
              "#f0f921"
             ]
            ],
            "type": "contour"
           }
          ],
          "contourcarpet": [
           {
            "colorbar": {
             "outlinewidth": 0,
             "ticks": ""
            },
            "type": "contourcarpet"
           }
          ],
          "heatmap": [
           {
            "colorbar": {
             "outlinewidth": 0,
             "ticks": ""
            },
            "colorscale": [
             [
              0,
              "#0d0887"
             ],
             [
              0.1111111111111111,
              "#46039f"
             ],
             [
              0.2222222222222222,
              "#7201a8"
             ],
             [
              0.3333333333333333,
              "#9c179e"
             ],
             [
              0.4444444444444444,
              "#bd3786"
             ],
             [
              0.5555555555555556,
              "#d8576b"
             ],
             [
              0.6666666666666666,
              "#ed7953"
             ],
             [
              0.7777777777777778,
              "#fb9f3a"
             ],
             [
              0.8888888888888888,
              "#fdca26"
             ],
             [
              1,
              "#f0f921"
             ]
            ],
            "type": "heatmap"
           }
          ],
          "heatmapgl": [
           {
            "colorbar": {
             "outlinewidth": 0,
             "ticks": ""
            },
            "colorscale": [
             [
              0,
              "#0d0887"
             ],
             [
              0.1111111111111111,
              "#46039f"
             ],
             [
              0.2222222222222222,
              "#7201a8"
             ],
             [
              0.3333333333333333,
              "#9c179e"
             ],
             [
              0.4444444444444444,
              "#bd3786"
             ],
             [
              0.5555555555555556,
              "#d8576b"
             ],
             [
              0.6666666666666666,
              "#ed7953"
             ],
             [
              0.7777777777777778,
              "#fb9f3a"
             ],
             [
              0.8888888888888888,
              "#fdca26"
             ],
             [
              1,
              "#f0f921"
             ]
            ],
            "type": "heatmapgl"
           }
          ],
          "histogram": [
           {
            "marker": {
             "pattern": {
              "fillmode": "overlay",
              "size": 10,
              "solidity": 0.2
             }
            },
            "type": "histogram"
           }
          ],
          "histogram2d": [
           {
            "colorbar": {
             "outlinewidth": 0,
             "ticks": ""
            },
            "colorscale": [
             [
              0,
              "#0d0887"
             ],
             [
              0.1111111111111111,
              "#46039f"
             ],
             [
              0.2222222222222222,
              "#7201a8"
             ],
             [
              0.3333333333333333,
              "#9c179e"
             ],
             [
              0.4444444444444444,
              "#bd3786"
             ],
             [
              0.5555555555555556,
              "#d8576b"
             ],
             [
              0.6666666666666666,
              "#ed7953"
             ],
             [
              0.7777777777777778,
              "#fb9f3a"
             ],
             [
              0.8888888888888888,
              "#fdca26"
             ],
             [
              1,
              "#f0f921"
             ]
            ],
            "type": "histogram2d"
           }
          ],
          "histogram2dcontour": [
           {
            "colorbar": {
             "outlinewidth": 0,
             "ticks": ""
            },
            "colorscale": [
             [
              0,
              "#0d0887"
             ],
             [
              0.1111111111111111,
              "#46039f"
             ],
             [
              0.2222222222222222,
              "#7201a8"
             ],
             [
              0.3333333333333333,
              "#9c179e"
             ],
             [
              0.4444444444444444,
              "#bd3786"
             ],
             [
              0.5555555555555556,
              "#d8576b"
             ],
             [
              0.6666666666666666,
              "#ed7953"
             ],
             [
              0.7777777777777778,
              "#fb9f3a"
             ],
             [
              0.8888888888888888,
              "#fdca26"
             ],
             [
              1,
              "#f0f921"
             ]
            ],
            "type": "histogram2dcontour"
           }
          ],
          "mesh3d": [
           {
            "colorbar": {
             "outlinewidth": 0,
             "ticks": ""
            },
            "type": "mesh3d"
           }
          ],
          "parcoords": [
           {
            "line": {
             "colorbar": {
              "outlinewidth": 0,
              "ticks": ""
             }
            },
            "type": "parcoords"
           }
          ],
          "pie": [
           {
            "automargin": true,
            "type": "pie"
           }
          ],
          "scatter": [
           {
            "marker": {
             "colorbar": {
              "outlinewidth": 0,
              "ticks": ""
             }
            },
            "type": "scatter"
           }
          ],
          "scatter3d": [
           {
            "line": {
             "colorbar": {
              "outlinewidth": 0,
              "ticks": ""
             }
            },
            "marker": {
             "colorbar": {
              "outlinewidth": 0,
              "ticks": ""
             }
            },
            "type": "scatter3d"
           }
          ],
          "scattercarpet": [
           {
            "marker": {
             "colorbar": {
              "outlinewidth": 0,
              "ticks": ""
             }
            },
            "type": "scattercarpet"
           }
          ],
          "scattergeo": [
           {
            "marker": {
             "colorbar": {
              "outlinewidth": 0,
              "ticks": ""
             }
            },
            "type": "scattergeo"
           }
          ],
          "scattergl": [
           {
            "marker": {
             "colorbar": {
              "outlinewidth": 0,
              "ticks": ""
             }
            },
            "type": "scattergl"
           }
          ],
          "scattermapbox": [
           {
            "marker": {
             "colorbar": {
              "outlinewidth": 0,
              "ticks": ""
             }
            },
            "type": "scattermapbox"
           }
          ],
          "scatterpolar": [
           {
            "marker": {
             "colorbar": {
              "outlinewidth": 0,
              "ticks": ""
             }
            },
            "type": "scatterpolar"
           }
          ],
          "scatterpolargl": [
           {
            "marker": {
             "colorbar": {
              "outlinewidth": 0,
              "ticks": ""
             }
            },
            "type": "scatterpolargl"
           }
          ],
          "scatterternary": [
           {
            "marker": {
             "colorbar": {
              "outlinewidth": 0,
              "ticks": ""
             }
            },
            "type": "scatterternary"
           }
          ],
          "surface": [
           {
            "colorbar": {
             "outlinewidth": 0,
             "ticks": ""
            },
            "colorscale": [
             [
              0,
              "#0d0887"
             ],
             [
              0.1111111111111111,
              "#46039f"
             ],
             [
              0.2222222222222222,
              "#7201a8"
             ],
             [
              0.3333333333333333,
              "#9c179e"
             ],
             [
              0.4444444444444444,
              "#bd3786"
             ],
             [
              0.5555555555555556,
              "#d8576b"
             ],
             [
              0.6666666666666666,
              "#ed7953"
             ],
             [
              0.7777777777777778,
              "#fb9f3a"
             ],
             [
              0.8888888888888888,
              "#fdca26"
             ],
             [
              1,
              "#f0f921"
             ]
            ],
            "type": "surface"
           }
          ],
          "table": [
           {
            "cells": {
             "fill": {
              "color": "#EBF0F8"
             },
             "line": {
              "color": "white"
             }
            },
            "header": {
             "fill": {
              "color": "#C8D4E3"
             },
             "line": {
              "color": "white"
             }
            },
            "type": "table"
           }
          ]
         },
         "layout": {
          "annotationdefaults": {
           "arrowcolor": "#2a3f5f",
           "arrowhead": 0,
           "arrowwidth": 1
          },
          "autotypenumbers": "strict",
          "coloraxis": {
           "colorbar": {
            "outlinewidth": 0,
            "ticks": ""
           }
          },
          "colorscale": {
           "diverging": [
            [
             0,
             "#8e0152"
            ],
            [
             0.1,
             "#c51b7d"
            ],
            [
             0.2,
             "#de77ae"
            ],
            [
             0.3,
             "#f1b6da"
            ],
            [
             0.4,
             "#fde0ef"
            ],
            [
             0.5,
             "#f7f7f7"
            ],
            [
             0.6,
             "#e6f5d0"
            ],
            [
             0.7,
             "#b8e186"
            ],
            [
             0.8,
             "#7fbc41"
            ],
            [
             0.9,
             "#4d9221"
            ],
            [
             1,
             "#276419"
            ]
           ],
           "sequential": [
            [
             0,
             "#0d0887"
            ],
            [
             0.1111111111111111,
             "#46039f"
            ],
            [
             0.2222222222222222,
             "#7201a8"
            ],
            [
             0.3333333333333333,
             "#9c179e"
            ],
            [
             0.4444444444444444,
             "#bd3786"
            ],
            [
             0.5555555555555556,
             "#d8576b"
            ],
            [
             0.6666666666666666,
             "#ed7953"
            ],
            [
             0.7777777777777778,
             "#fb9f3a"
            ],
            [
             0.8888888888888888,
             "#fdca26"
            ],
            [
             1,
             "#f0f921"
            ]
           ],
           "sequentialminus": [
            [
             0,
             "#0d0887"
            ],
            [
             0.1111111111111111,
             "#46039f"
            ],
            [
             0.2222222222222222,
             "#7201a8"
            ],
            [
             0.3333333333333333,
             "#9c179e"
            ],
            [
             0.4444444444444444,
             "#bd3786"
            ],
            [
             0.5555555555555556,
             "#d8576b"
            ],
            [
             0.6666666666666666,
             "#ed7953"
            ],
            [
             0.7777777777777778,
             "#fb9f3a"
            ],
            [
             0.8888888888888888,
             "#fdca26"
            ],
            [
             1,
             "#f0f921"
            ]
           ]
          },
          "colorway": [
           "#636efa",
           "#EF553B",
           "#00cc96",
           "#ab63fa",
           "#FFA15A",
           "#19d3f3",
           "#FF6692",
           "#B6E880",
           "#FF97FF",
           "#FECB52"
          ],
          "font": {
           "color": "#2a3f5f"
          },
          "geo": {
           "bgcolor": "white",
           "lakecolor": "white",
           "landcolor": "#E5ECF6",
           "showlakes": true,
           "showland": true,
           "subunitcolor": "white"
          },
          "hoverlabel": {
           "align": "left"
          },
          "hovermode": "closest",
          "mapbox": {
           "style": "light"
          },
          "paper_bgcolor": "white",
          "plot_bgcolor": "#E5ECF6",
          "polar": {
           "angularaxis": {
            "gridcolor": "white",
            "linecolor": "white",
            "ticks": ""
           },
           "bgcolor": "#E5ECF6",
           "radialaxis": {
            "gridcolor": "white",
            "linecolor": "white",
            "ticks": ""
           }
          },
          "scene": {
           "xaxis": {
            "backgroundcolor": "#E5ECF6",
            "gridcolor": "white",
            "gridwidth": 2,
            "linecolor": "white",
            "showbackground": true,
            "ticks": "",
            "zerolinecolor": "white"
           },
           "yaxis": {
            "backgroundcolor": "#E5ECF6",
            "gridcolor": "white",
            "gridwidth": 2,
            "linecolor": "white",
            "showbackground": true,
            "ticks": "",
            "zerolinecolor": "white"
           },
           "zaxis": {
            "backgroundcolor": "#E5ECF6",
            "gridcolor": "white",
            "gridwidth": 2,
            "linecolor": "white",
            "showbackground": true,
            "ticks": "",
            "zerolinecolor": "white"
           }
          },
          "shapedefaults": {
           "line": {
            "color": "#2a3f5f"
           }
          },
          "ternary": {
           "aaxis": {
            "gridcolor": "white",
            "linecolor": "white",
            "ticks": ""
           },
           "baxis": {
            "gridcolor": "white",
            "linecolor": "white",
            "ticks": ""
           },
           "bgcolor": "#E5ECF6",
           "caxis": {
            "gridcolor": "white",
            "linecolor": "white",
            "ticks": ""
           }
          },
          "title": {
           "x": 0.05
          },
          "xaxis": {
           "automargin": true,
           "gridcolor": "white",
           "linecolor": "white",
           "ticks": "",
           "title": {
            "standoff": 15
           },
           "zerolinecolor": "white",
           "zerolinewidth": 2
          },
          "yaxis": {
           "automargin": true,
           "gridcolor": "white",
           "linecolor": "white",
           "ticks": "",
           "title": {
            "standoff": 15
           },
           "zerolinecolor": "white",
           "zerolinewidth": 2
          }
         }
        },
        "title": {
         "text": "EUR_NZD_MA_8_16"
        },
        "width": 1000,
        "xaxis": {
         "linecolor": "#3a4a54",
         "linewidth": 1,
         "showgrid": false,
         "zeroline": false
        },
        "yaxis": {
         "linecolor": "#3a4a54",
         "linewidth": 1,
         "showgrid": false,
         "zeroline": false
        }
       }
      }
     },
     "metadata": {},
     "output_type": "display_data"
    },
    {
     "data": {
      "application/vnd.plotly.v1+json": {
       "config": {
        "plotlyServerURL": "https://plot.ly"
       },
       "data": [
        {
         "line": {
          "color": "#3d825f",
          "shape": "spline",
          "width": 2
         },
         "mode": "lines",
         "name": "EUR_JPY_MA_8_16",
         "type": "scatter",
         "x": [
          "2021-03-11T00:00:00+00:00",
          "2021-03-12T11:00:00+00:00",
          "2021-03-12T18:00:00+00:00",
          "2021-03-15T09:00:00+00:00",
          "2021-03-15T23:00:00+00:00",
          "2021-03-16T13:00:00+00:00",
          "2021-03-17T03:00:00+00:00",
          "2021-03-18T08:00:00+00:00",
          "2021-03-22T12:00:00+00:00",
          "2021-03-23T04:00:00+00:00",
          "2021-03-24T14:00:00+00:00",
          "2021-03-24T22:00:00+00:00",
          "2021-03-25T04:00:00+00:00",
          "2021-03-25T16:00:00+00:00",
          "2021-03-26T03:00:00+00:00",
          "2021-03-29T02:00:00+00:00",
          "2021-03-29T14:00:00+00:00",
          "2021-03-30T16:00:00+00:00",
          "2021-03-31T01:00:00+00:00",
          "2021-04-01T01:00:00+00:00",
          "2021-04-01T10:00:00+00:00",
          "2021-04-02T06:00:00+00:00",
          "2021-04-02T18:00:00+00:00",
          "2021-04-05T02:00:00+00:00",
          "2021-04-05T17:00:00+00:00",
          "2021-04-06T15:00:00+00:00",
          "2021-04-06T22:00:00+00:00",
          "2021-04-07T06:00:00+00:00",
          "2021-04-07T09:00:00+00:00",
          "2021-04-07T19:00:00+00:00",
          "2021-04-08T20:00:00+00:00",
          "2021-04-09T06:00:00+00:00",
          "2021-04-09T09:00:00+00:00",
          "2021-04-12T03:00:00+00:00",
          "2021-04-12T16:00:00+00:00",
          "2021-04-13T09:00:00+00:00",
          "2021-04-13T18:00:00+00:00",
          "2021-04-14T01:00:00+00:00",
          "2021-04-14T08:00:00+00:00",
          "2021-04-15T04:00:00+00:00",
          "2021-04-16T03:00:00+00:00",
          "2021-04-16T04:00:00+00:00",
          "2021-04-16T05:00:00+00:00",
          "2021-04-16T20:00:00+00:00",
          "2021-04-19T12:00:00+00:00",
          "2021-04-20T16:00:00+00:00",
          "2021-04-21T17:00:00+00:00",
          "2021-04-22T05:00:00+00:00",
          "2021-04-22T12:00:00+00:00",
          "2021-04-22T18:00:00+00:00",
          "2021-04-23T07:00:00+00:00",
          "2021-04-26T07:00:00+00:00",
          "2021-04-26T16:00:00+00:00",
          "2021-04-29T21:00:00+00:00",
          "2021-05-03T03:00:00+00:00",
          "2021-05-03T16:00:00+00:00",
          "2021-05-05T00:00:00+00:00",
          "2021-05-05T08:00:00+00:00",
          "2021-05-06T02:00:00+00:00",
          "2021-05-06T22:00:00+00:00",
          "2021-05-07T00:00:00+00:00",
          "2021-05-10T14:00:00+00:00",
          "2021-05-11T07:00:00+00:00",
          "2021-05-11T16:00:00+00:00",
          "2021-05-12T14:00:00+00:00",
          "2021-05-13T11:00:00+00:00",
          "2021-05-14T03:00:00+00:00",
          "2021-05-17T04:00:00+00:00",
          "2021-05-17T15:00:00+00:00",
          "2021-05-19T14:00:00+00:00",
          "2021-05-20T03:00:00+00:00",
          "2021-05-20T08:00:00+00:00",
          "2021-05-20T17:00:00+00:00",
          "2021-05-21T08:00:00+00:00",
          "2021-05-24T01:00:00+00:00",
          "2021-05-24T03:00:00+00:00",
          "2021-05-24T10:00:00+00:00",
          "2021-05-24T22:00:00+00:00",
          "2021-05-25T02:00:00+00:00",
          "2021-05-25T20:00:00+00:00",
          "2021-05-26T05:00:00+00:00",
          "2021-05-26T12:00:00+00:00",
          "2021-05-27T10:00:00+00:00",
          "2021-05-28T05:00:00+00:00",
          "2021-05-28T19:00:00+00:00",
          "2021-05-31T03:00:00+00:00",
          "2021-05-31T17:00:00+00:00",
          "2021-06-01T04:00:00+00:00",
          "2021-06-01T09:00:00+00:00",
          "2021-06-01T19:00:00+00:00",
          "2021-06-02T04:00:00+00:00",
          "2021-06-02T12:00:00+00:00",
          "2021-06-02T21:00:00+00:00",
          "2021-06-03T11:00:00+00:00",
          "2021-06-04T00:00:00+00:00",
          "2021-06-04T02:00:00+00:00",
          "2021-06-07T03:00:00+00:00",
          "2021-06-07T07:00:00+00:00",
          "2021-06-07T18:00:00+00:00",
          "2021-06-08T23:00:00+00:00",
          "2021-06-09T07:00:00+00:00",
          "2021-06-10T01:00:00+00:00",
          "2021-06-10T14:00:00+00:00",
          "2021-06-10T20:00:00+00:00",
          "2021-06-11T05:00:00+00:00",
          "2021-06-11T11:00:00+00:00",
          "2021-06-14T03:00:00+00:00",
          "2021-06-15T15:00:00+00:00",
          "2021-06-15T20:00:00+00:00",
          "2021-06-15T21:00:00+00:00",
          "2021-06-15T23:00:00+00:00",
          "2021-06-16T04:00:00+00:00",
          "2021-06-16T05:00:00+00:00",
          "2021-06-16T07:00:00+00:00",
          "2021-06-21T11:00:00+00:00",
          "2021-06-22T10:00:00+00:00",
          "2021-06-22T13:00:00+00:00",
          "2021-06-23T21:00:00+00:00",
          "2021-06-24T16:00:00+00:00",
          "2021-06-24T17:00:00+00:00",
          "2021-06-25T01:00:00+00:00",
          "2021-06-25T10:00:00+00:00",
          "2021-06-25T20:00:00+00:00",
          "2021-06-27T21:00:00+00:00",
          "2021-06-28T12:00:00+00:00",
          "2021-06-28T17:00:00+00:00",
          "2021-06-30T02:00:00+00:00",
          "2021-06-30T05:00:00+00:00",
          "2021-06-30T07:00:00+00:00",
          "2021-06-30T08:00:00+00:00",
          "2021-06-30T17:00:00+00:00",
          "2021-07-01T05:00:00+00:00",
          "2021-07-01T08:00:00+00:00",
          "2021-07-01T22:00:00+00:00",
          "2021-07-05T22:00:00+00:00",
          "2021-07-06T00:00:00+00:00",
          "2021-07-07T08:00:00+00:00",
          "2021-07-07T16:00:00+00:00",
          "2021-07-08T20:00:00+00:00",
          "2021-07-12T06:00:00+00:00",
          "2021-07-12T17:00:00+00:00",
          "2021-07-13T09:00:00+00:00",
          "2021-07-14T10:00:00+00:00",
          "2021-07-14T17:00:00+00:00",
          "2021-07-16T05:00:00+00:00",
          "2021-07-16T20:00:00+00:00",
          "2021-07-20T01:00:00+00:00",
          "2021-07-20T06:00:00+00:00",
          "2021-07-20T07:00:00+00:00",
          "2021-07-20T08:00:00+00:00",
          "2021-07-20T15:00:00+00:00",
          "2021-07-21T06:00:00+00:00",
          "2021-07-21T10:00:00+00:00",
          "2021-07-22T03:00:00+00:00",
          "2021-07-22T11:00:00+00:00",
          "2021-07-22T16:00:00+00:00",
          "2021-07-23T04:00:00+00:00",
          "2021-07-26T03:00:00+00:00",
          "2021-07-26T13:00:00+00:00",
          "2021-07-27T03:00:00+00:00",
          "2021-07-28T03:00:00+00:00",
          "2021-07-29T06:00:00+00:00",
          "2021-07-29T08:00:00+00:00",
          "2021-07-29T18:00:00+00:00",
          "2021-07-30T07:00:00+00:00",
          "2021-07-30T18:00:00+00:00",
          "2021-08-02T05:00:00+00:00",
          "2021-08-02T14:00:00+00:00",
          "2021-08-04T03:00:00+00:00",
          "2021-08-04T15:00:00+00:00",
          "2021-08-04T16:00:00+00:00",
          "2021-08-05T13:00:00+00:00",
          "2021-08-05T17:00:00+00:00",
          "2021-08-06T04:00:00+00:00",
          "2021-08-10T06:00:00+00:00",
          "2021-08-10T16:00:00+00:00",
          "2021-08-10T18:00:00+00:00",
          "2021-08-11T16:00:00+00:00",
          "2021-08-12T10:00:00+00:00",
          "2021-08-12T15:00:00+00:00",
          "2021-08-13T02:00:00+00:00",
          "2021-08-13T08:00:00+00:00",
          "2021-08-17T02:00:00+00:00",
          "2021-08-17T06:00:00+00:00",
          "2021-08-17T09:00:00+00:00",
          "2021-08-18T05:00:00+00:00",
          "2021-08-19T00:00:00+00:00",
          "2021-08-20T16:00:00+00:00",
          "2021-08-23T19:00:00+00:00",
          "2021-08-24T05:00:00+00:00",
          "2021-08-24T11:00:00+00:00",
          "2021-08-24T19:00:00+00:00",
          "2021-08-25T05:00:00+00:00",
          "2021-08-25T12:00:00+00:00",
          "2021-08-26T05:00:00+00:00",
          "2021-08-26T09:00:00+00:00",
          "2021-08-26T17:00:00+00:00",
          "2021-08-27T08:00:00+00:00",
          "2021-08-30T06:00:00+00:00",
          "2021-08-30T13:00:00+00:00",
          "2021-08-31T17:00:00+00:00",
          "2021-08-31T23:00:00+00:00",
          "2021-09-01T22:00:00+00:00",
          "2021-09-02T09:00:00+00:00",
          "2021-09-03T11:00:00+00:00",
          "2021-09-06T03:00:00+00:00",
          "2021-09-06T07:00:00+00:00",
          "2021-09-06T19:00:00+00:00",
          "2021-09-08T08:00:00+00:00",
          "2021-09-10T03:00:00+00:00",
          "2021-09-10T17:00:00+00:00",
          "2021-09-13T18:00:00+00:00",
          "2021-09-14T14:00:00+00:00",
          "2021-09-15T23:00:00+00:00",
          "2021-09-16T04:00:00+00:00",
          "2021-09-16T18:00:00+00:00",
          "2021-09-17T16:00:00+00:00",
          "2021-09-21T01:00:00+00:00",
          "2021-09-21T13:00:00+00:00",
          "2021-09-22T04:00:00+00:00",
          "2021-09-22T22:00:00+00:00",
          "2021-09-23T06:00:00+00:00",
          "2021-09-24T13:00:00+00:00",
          "2021-09-24T18:00:00+00:00",
          "2021-09-27T04:00:00+00:00",
          "2021-09-27T13:00:00+00:00",
          "2021-09-28T01:00:00+00:00",
          "2021-09-28T02:00:00+00:00",
          "2021-09-29T07:00:00+00:00",
          "2021-09-29T21:00:00+00:00",
          "2021-09-30T00:00:00+00:00",
          "2021-09-30T09:00:00+00:00",
          "2021-09-30T10:00:00+00:00",
          "2021-10-01T16:00:00+00:00",
          "2021-10-01T19:00:00+00:00",
          "2021-10-03T23:00:00+00:00",
          "2021-10-04T01:00:00+00:00",
          "2021-10-04T03:00:00+00:00",
          "2021-10-04T19:00:00+00:00",
          "2021-10-05T05:00:00+00:00",
          "2021-10-06T08:00:00+00:00",
          "2021-10-06T22:00:00+00:00",
          "2021-10-12T02:00:00+00:00",
          "2021-10-12T10:00:00+00:00",
          "2021-10-12T22:00:00+00:00",
          "2021-10-13T07:00:00+00:00",
          "2021-10-15T19:00:00+00:00",
          "2021-10-18T12:00:00+00:00",
          "2021-10-19T22:00:00+00:00",
          "2021-10-19T23:00:00+00:00",
          "2021-10-20T11:00:00+00:00",
          "2021-10-20T20:00:00+00:00",
          "2021-10-21T06:00:00+00:00",
          "2021-10-22T02:00:00+00:00",
          "2021-10-22T11:00:00+00:00",
          "2021-10-25T02:00:00+00:00",
          "2021-10-25T11:00:00+00:00",
          "2021-10-26T00:00:00+00:00",
          "2021-10-26T21:00:00+00:00",
          "2021-10-27T21:00:00+00:00",
          "2021-10-28T02:00:00+00:00"
         ],
         "y": [
          55.79999999999927,
          8.399999999997476,
          -14.500000000003865,
          -17.4000000000035,
          -77.20000000000198,
          -105.70000000000164,
          -54.400000000001114,
          5.000000000001137,
          -5.599999999998317,
          76.80000000000007,
          39.699999999999136,
          9.700000000000841,
          -23.499999999998522,
          -51.39999999999816,
          -12.599999999997635,
          -16.29999999999825,
          -4.79999999999734,
          -36.5999999999957,
          -11.599999999995703,
          -34.29999999999609,
          -27.799999999996317,
          -38.19999999999766,
          -48.19999999999709,
          -46.89999999999657,
          -38.89999999999816,
          -54.39999999999827,
          -51.1999999999972,
          -65.59999999999775,
          -81.89999999999884,
          -60.3999999999985,
          -58.799999999999386,
          -84.39999999999941,
          -97.09999999999752,
          -106.99999999999648,
          -139.39999999999486,
          -166.69999999999447,
          -181.99999999999648,
          -207.19999999999743,
          -216.9999999999959,
          -199.79999999999336,
          -197.2999999999928,
          -205.59999999999263,
          -193.99999999999125,
          -170.3999999999894,
          -175.19999999998674,
          -170.69999999998515,
          -174.2999999999853,
          -218.89999999998508,
          -284.9999999999852,
          -314.39999999998633,
          -291.9999999999874,
          -332.4999999999875,
          -197.2999999999871,
          -161.79999999998813,
          -178.3999999999878,
          -165.39999999998543,
          -187.19999999998436,
          -188.3999999999844,
          -153.39999999998497,
          -161.39999999998622,
          -102.69999999998731,
          -106.69999999998652,
          -130.99999999998602,
          -136.4999999999867,
          -102.39999999998588,
          -101.5999999999849,
          -73.99999999998386,
          -74.99999999998295,
          -77.49999999998352,
          -105.5999999999841,
          -125.8999999999844,
          -142.49999999998408,
          -154.79999999998313,
          -147.29999999998427,
          -158.29999999998563,
          -199.1999999999848,
          -208.19999999998515,
          -210.99999999998715,
          -178.69999999998925,
          -185.19999999999186,
          -209.99999999999375,
          -222.39999999999327,
          -160.89999999999236,
          -170.8999999999918,
          -183.19999999999084,
          -189.89999999999156,
          -192.19999999999118,
          -213.79999999998915,
          -242.5999999999874,
          -265.5999999999864,
          -295.1999999999856,
          -303.39999999998497,
          -301.5999999999849,
          -287.7999999999844,
          -302.599999999984,
          -280.9999999999832,
          -297.7999999999838,
          -306.59999999998604,
          -304.3999999999869,
          -312.7999999999872,
          -317.19999999998834,
          -328.7999999999897,
          -358.39999999998895,
          -382.7999999999889,
          -425.499999999991,
          -414.399999999992,
          -349.5999999999924,
          -348.6999999999938,
          -347.19999999999516,
          -347.0999999999947,
          -345.5999999999932,
          -348.39999999999236,
          -361.59999999999286,
          -118.99999999999409,
          -78.3999999999935,
          -114.59999999999297,
          -50.999999999993406,
          -39.599999999992974,
          -38.99999999999295,
          -57.79999999999177,
          -70.49999999998988,
          -63.89999999998963,
          -65.59999999998922,
          -57.39999999998702,
          -94.19999999998652,
          -68.9999999999884,
          -77.29999999998824,
          -88.19999999998629,
          -113.29999999998677,
          -150.99999999998772,
          -158.99999999998613,
          -194.09999999998604,
          -175.59999999998865,
          -122.59999999999138,
          -133.99999999999181,
          -79.49999999999022,
          -114.79999999998824,
          -57.59999999998797,
          10.100000000011278,
          -4.1999999999887905,
          -32.899999999989404,
          -14.199999999991064,
          -40.99999999999113,
          -20.399999999989404,
          -14.399999999989177,
          61.80000000001087,
          48.2000000000113,
          34.60000000001173,
          37.700000000012324,
          17.30000000001155,
          6.600000000011619,
          -28.299999999987335,
          -4.799999999988813,
          -19.19999999998936,
          -69.9999999999875,
          -91.59999999998547,
          -72.39999999998474,
          -100.8999999999844,
          -115.09999999998399,
          -84.99999999998522,
          -46.39999999998565,
          -70.59999999998468,
          -96.79999999998472,
          -108.99999999998613,
          -124.19999999998765,
          -132.1999999999889,
          -173.49999999999,
          -142.7999999999912,
          -132.99999999999272,
          -139.1999999999939,
          -117.39999999999498,
          -122.29999999999563,
          -126.99999999999534,
          -97.19999999999516,
          -97.19999999999516,
          -102.1999999999963,
          -92.19999999999686,
          -80.99999999999739,
          -90.59999999999775,
          -100.59999999999718,
          -113.09999999999718,
          -28.199999999995384,
          -38.29999999999529,
          -51.59999999999627,
          -77.49999999999488,
          -64.79999999999677,
          -62.599999999997635,
          -31.799999999998363,
          -44.49999999999932,
          -64.69999999999914,
          -82.19999999999743,
          -91.59999999999684,
          -111.79999999999666,
          -73.69999999999663,
          -95.99999999999795,
          -122.59999999999707,
          -124.7999999999962,
          -110.19999999999754,
          -117.29999999999734,
          -89.89999999999725,
          -99.09999999999854,
          -66.99999999999875,
          -69.99999999999886,
          -47.99999999999898,
          -27.899999999999636,
          -25.399999999999068,
          -25.799999999998136,
          -40.799999999998704,
          -16.19999999999777,
          -24.89999999999668,
          -21.09999999999559,
          -41.99999999999591,
          -5.79999999999643,
          -27.59999999999536,
          -15.199999999995839,
          -13.599999999996726,
          26.10000000000241,
          -6.799999999998363,
          -21.999999999997044,
          -21.79999999999609,
          -55.599999999995475,
          34.80000000000416,
          17.4000000000035,
          -3.3999999999963393,
          -13.599999999996726,
          1.0000000000047748,
          -15.699999999992542,
          -36.79999999999097,
          -41.69999999999163,
          -43.79999999999313,
          -41.39999999999304,
          -57.299999999992224,
          34.30000000000746,
          38.600000000008095,
          38.20000000000903,
          33.100000000010255,
          33.70000000001028,
          52.40000000000862,
          51.20000000000857,
          49.000000000009436,
          62.200000000009936,
          276.00000000001046,
          270.70000000001073,
          273.00000000001035,
          251.60000000001048,
          384.50000000001125,
          378.6000000000115,
          430.2000000000106,
          416.20000000000914,
          389.4000000000091,
          365.0000000000091,
          318.80000000000734,
          331.400000000005,
          315.20000000000437,
          309.3000000000046,
          255.10000000000446,
          242.00000000000443,
          266.60000000000537,
          296.6000000000065,
          280.0000000000068,
          242.20000000000823
         ]
        }
       ],
       "layout": {
        "font": {
         "color": "#e1e1e1",
         "size": 10
        },
        "height": 400,
        "margin": {
         "b": 10,
         "l": 15,
         "r": 15
        },
        "paper_bgcolor": "#1e1e1e",
        "plot_bgcolor": "#1e1e1e",
        "template": {
         "data": {
          "bar": [
           {
            "error_x": {
             "color": "#2a3f5f"
            },
            "error_y": {
             "color": "#2a3f5f"
            },
            "marker": {
             "line": {
              "color": "#E5ECF6",
              "width": 0.5
             },
             "pattern": {
              "fillmode": "overlay",
              "size": 10,
              "solidity": 0.2
             }
            },
            "type": "bar"
           }
          ],
          "barpolar": [
           {
            "marker": {
             "line": {
              "color": "#E5ECF6",
              "width": 0.5
             },
             "pattern": {
              "fillmode": "overlay",
              "size": 10,
              "solidity": 0.2
             }
            },
            "type": "barpolar"
           }
          ],
          "carpet": [
           {
            "aaxis": {
             "endlinecolor": "#2a3f5f",
             "gridcolor": "white",
             "linecolor": "white",
             "minorgridcolor": "white",
             "startlinecolor": "#2a3f5f"
            },
            "baxis": {
             "endlinecolor": "#2a3f5f",
             "gridcolor": "white",
             "linecolor": "white",
             "minorgridcolor": "white",
             "startlinecolor": "#2a3f5f"
            },
            "type": "carpet"
           }
          ],
          "choropleth": [
           {
            "colorbar": {
             "outlinewidth": 0,
             "ticks": ""
            },
            "type": "choropleth"
           }
          ],
          "contour": [
           {
            "colorbar": {
             "outlinewidth": 0,
             "ticks": ""
            },
            "colorscale": [
             [
              0,
              "#0d0887"
             ],
             [
              0.1111111111111111,
              "#46039f"
             ],
             [
              0.2222222222222222,
              "#7201a8"
             ],
             [
              0.3333333333333333,
              "#9c179e"
             ],
             [
              0.4444444444444444,
              "#bd3786"
             ],
             [
              0.5555555555555556,
              "#d8576b"
             ],
             [
              0.6666666666666666,
              "#ed7953"
             ],
             [
              0.7777777777777778,
              "#fb9f3a"
             ],
             [
              0.8888888888888888,
              "#fdca26"
             ],
             [
              1,
              "#f0f921"
             ]
            ],
            "type": "contour"
           }
          ],
          "contourcarpet": [
           {
            "colorbar": {
             "outlinewidth": 0,
             "ticks": ""
            },
            "type": "contourcarpet"
           }
          ],
          "heatmap": [
           {
            "colorbar": {
             "outlinewidth": 0,
             "ticks": ""
            },
            "colorscale": [
             [
              0,
              "#0d0887"
             ],
             [
              0.1111111111111111,
              "#46039f"
             ],
             [
              0.2222222222222222,
              "#7201a8"
             ],
             [
              0.3333333333333333,
              "#9c179e"
             ],
             [
              0.4444444444444444,
              "#bd3786"
             ],
             [
              0.5555555555555556,
              "#d8576b"
             ],
             [
              0.6666666666666666,
              "#ed7953"
             ],
             [
              0.7777777777777778,
              "#fb9f3a"
             ],
             [
              0.8888888888888888,
              "#fdca26"
             ],
             [
              1,
              "#f0f921"
             ]
            ],
            "type": "heatmap"
           }
          ],
          "heatmapgl": [
           {
            "colorbar": {
             "outlinewidth": 0,
             "ticks": ""
            },
            "colorscale": [
             [
              0,
              "#0d0887"
             ],
             [
              0.1111111111111111,
              "#46039f"
             ],
             [
              0.2222222222222222,
              "#7201a8"
             ],
             [
              0.3333333333333333,
              "#9c179e"
             ],
             [
              0.4444444444444444,
              "#bd3786"
             ],
             [
              0.5555555555555556,
              "#d8576b"
             ],
             [
              0.6666666666666666,
              "#ed7953"
             ],
             [
              0.7777777777777778,
              "#fb9f3a"
             ],
             [
              0.8888888888888888,
              "#fdca26"
             ],
             [
              1,
              "#f0f921"
             ]
            ],
            "type": "heatmapgl"
           }
          ],
          "histogram": [
           {
            "marker": {
             "pattern": {
              "fillmode": "overlay",
              "size": 10,
              "solidity": 0.2
             }
            },
            "type": "histogram"
           }
          ],
          "histogram2d": [
           {
            "colorbar": {
             "outlinewidth": 0,
             "ticks": ""
            },
            "colorscale": [
             [
              0,
              "#0d0887"
             ],
             [
              0.1111111111111111,
              "#46039f"
             ],
             [
              0.2222222222222222,
              "#7201a8"
             ],
             [
              0.3333333333333333,
              "#9c179e"
             ],
             [
              0.4444444444444444,
              "#bd3786"
             ],
             [
              0.5555555555555556,
              "#d8576b"
             ],
             [
              0.6666666666666666,
              "#ed7953"
             ],
             [
              0.7777777777777778,
              "#fb9f3a"
             ],
             [
              0.8888888888888888,
              "#fdca26"
             ],
             [
              1,
              "#f0f921"
             ]
            ],
            "type": "histogram2d"
           }
          ],
          "histogram2dcontour": [
           {
            "colorbar": {
             "outlinewidth": 0,
             "ticks": ""
            },
            "colorscale": [
             [
              0,
              "#0d0887"
             ],
             [
              0.1111111111111111,
              "#46039f"
             ],
             [
              0.2222222222222222,
              "#7201a8"
             ],
             [
              0.3333333333333333,
              "#9c179e"
             ],
             [
              0.4444444444444444,
              "#bd3786"
             ],
             [
              0.5555555555555556,
              "#d8576b"
             ],
             [
              0.6666666666666666,
              "#ed7953"
             ],
             [
              0.7777777777777778,
              "#fb9f3a"
             ],
             [
              0.8888888888888888,
              "#fdca26"
             ],
             [
              1,
              "#f0f921"
             ]
            ],
            "type": "histogram2dcontour"
           }
          ],
          "mesh3d": [
           {
            "colorbar": {
             "outlinewidth": 0,
             "ticks": ""
            },
            "type": "mesh3d"
           }
          ],
          "parcoords": [
           {
            "line": {
             "colorbar": {
              "outlinewidth": 0,
              "ticks": ""
             }
            },
            "type": "parcoords"
           }
          ],
          "pie": [
           {
            "automargin": true,
            "type": "pie"
           }
          ],
          "scatter": [
           {
            "marker": {
             "colorbar": {
              "outlinewidth": 0,
              "ticks": ""
             }
            },
            "type": "scatter"
           }
          ],
          "scatter3d": [
           {
            "line": {
             "colorbar": {
              "outlinewidth": 0,
              "ticks": ""
             }
            },
            "marker": {
             "colorbar": {
              "outlinewidth": 0,
              "ticks": ""
             }
            },
            "type": "scatter3d"
           }
          ],
          "scattercarpet": [
           {
            "marker": {
             "colorbar": {
              "outlinewidth": 0,
              "ticks": ""
             }
            },
            "type": "scattercarpet"
           }
          ],
          "scattergeo": [
           {
            "marker": {
             "colorbar": {
              "outlinewidth": 0,
              "ticks": ""
             }
            },
            "type": "scattergeo"
           }
          ],
          "scattergl": [
           {
            "marker": {
             "colorbar": {
              "outlinewidth": 0,
              "ticks": ""
             }
            },
            "type": "scattergl"
           }
          ],
          "scattermapbox": [
           {
            "marker": {
             "colorbar": {
              "outlinewidth": 0,
              "ticks": ""
             }
            },
            "type": "scattermapbox"
           }
          ],
          "scatterpolar": [
           {
            "marker": {
             "colorbar": {
              "outlinewidth": 0,
              "ticks": ""
             }
            },
            "type": "scatterpolar"
           }
          ],
          "scatterpolargl": [
           {
            "marker": {
             "colorbar": {
              "outlinewidth": 0,
              "ticks": ""
             }
            },
            "type": "scatterpolargl"
           }
          ],
          "scatterternary": [
           {
            "marker": {
             "colorbar": {
              "outlinewidth": 0,
              "ticks": ""
             }
            },
            "type": "scatterternary"
           }
          ],
          "surface": [
           {
            "colorbar": {
             "outlinewidth": 0,
             "ticks": ""
            },
            "colorscale": [
             [
              0,
              "#0d0887"
             ],
             [
              0.1111111111111111,
              "#46039f"
             ],
             [
              0.2222222222222222,
              "#7201a8"
             ],
             [
              0.3333333333333333,
              "#9c179e"
             ],
             [
              0.4444444444444444,
              "#bd3786"
             ],
             [
              0.5555555555555556,
              "#d8576b"
             ],
             [
              0.6666666666666666,
              "#ed7953"
             ],
             [
              0.7777777777777778,
              "#fb9f3a"
             ],
             [
              0.8888888888888888,
              "#fdca26"
             ],
             [
              1,
              "#f0f921"
             ]
            ],
            "type": "surface"
           }
          ],
          "table": [
           {
            "cells": {
             "fill": {
              "color": "#EBF0F8"
             },
             "line": {
              "color": "white"
             }
            },
            "header": {
             "fill": {
              "color": "#C8D4E3"
             },
             "line": {
              "color": "white"
             }
            },
            "type": "table"
           }
          ]
         },
         "layout": {
          "annotationdefaults": {
           "arrowcolor": "#2a3f5f",
           "arrowhead": 0,
           "arrowwidth": 1
          },
          "autotypenumbers": "strict",
          "coloraxis": {
           "colorbar": {
            "outlinewidth": 0,
            "ticks": ""
           }
          },
          "colorscale": {
           "diverging": [
            [
             0,
             "#8e0152"
            ],
            [
             0.1,
             "#c51b7d"
            ],
            [
             0.2,
             "#de77ae"
            ],
            [
             0.3,
             "#f1b6da"
            ],
            [
             0.4,
             "#fde0ef"
            ],
            [
             0.5,
             "#f7f7f7"
            ],
            [
             0.6,
             "#e6f5d0"
            ],
            [
             0.7,
             "#b8e186"
            ],
            [
             0.8,
             "#7fbc41"
            ],
            [
             0.9,
             "#4d9221"
            ],
            [
             1,
             "#276419"
            ]
           ],
           "sequential": [
            [
             0,
             "#0d0887"
            ],
            [
             0.1111111111111111,
             "#46039f"
            ],
            [
             0.2222222222222222,
             "#7201a8"
            ],
            [
             0.3333333333333333,
             "#9c179e"
            ],
            [
             0.4444444444444444,
             "#bd3786"
            ],
            [
             0.5555555555555556,
             "#d8576b"
            ],
            [
             0.6666666666666666,
             "#ed7953"
            ],
            [
             0.7777777777777778,
             "#fb9f3a"
            ],
            [
             0.8888888888888888,
             "#fdca26"
            ],
            [
             1,
             "#f0f921"
            ]
           ],
           "sequentialminus": [
            [
             0,
             "#0d0887"
            ],
            [
             0.1111111111111111,
             "#46039f"
            ],
            [
             0.2222222222222222,
             "#7201a8"
            ],
            [
             0.3333333333333333,
             "#9c179e"
            ],
            [
             0.4444444444444444,
             "#bd3786"
            ],
            [
             0.5555555555555556,
             "#d8576b"
            ],
            [
             0.6666666666666666,
             "#ed7953"
            ],
            [
             0.7777777777777778,
             "#fb9f3a"
            ],
            [
             0.8888888888888888,
             "#fdca26"
            ],
            [
             1,
             "#f0f921"
            ]
           ]
          },
          "colorway": [
           "#636efa",
           "#EF553B",
           "#00cc96",
           "#ab63fa",
           "#FFA15A",
           "#19d3f3",
           "#FF6692",
           "#B6E880",
           "#FF97FF",
           "#FECB52"
          ],
          "font": {
           "color": "#2a3f5f"
          },
          "geo": {
           "bgcolor": "white",
           "lakecolor": "white",
           "landcolor": "#E5ECF6",
           "showlakes": true,
           "showland": true,
           "subunitcolor": "white"
          },
          "hoverlabel": {
           "align": "left"
          },
          "hovermode": "closest",
          "mapbox": {
           "style": "light"
          },
          "paper_bgcolor": "white",
          "plot_bgcolor": "#E5ECF6",
          "polar": {
           "angularaxis": {
            "gridcolor": "white",
            "linecolor": "white",
            "ticks": ""
           },
           "bgcolor": "#E5ECF6",
           "radialaxis": {
            "gridcolor": "white",
            "linecolor": "white",
            "ticks": ""
           }
          },
          "scene": {
           "xaxis": {
            "backgroundcolor": "#E5ECF6",
            "gridcolor": "white",
            "gridwidth": 2,
            "linecolor": "white",
            "showbackground": true,
            "ticks": "",
            "zerolinecolor": "white"
           },
           "yaxis": {
            "backgroundcolor": "#E5ECF6",
            "gridcolor": "white",
            "gridwidth": 2,
            "linecolor": "white",
            "showbackground": true,
            "ticks": "",
            "zerolinecolor": "white"
           },
           "zaxis": {
            "backgroundcolor": "#E5ECF6",
            "gridcolor": "white",
            "gridwidth": 2,
            "linecolor": "white",
            "showbackground": true,
            "ticks": "",
            "zerolinecolor": "white"
           }
          },
          "shapedefaults": {
           "line": {
            "color": "#2a3f5f"
           }
          },
          "ternary": {
           "aaxis": {
            "gridcolor": "white",
            "linecolor": "white",
            "ticks": ""
           },
           "baxis": {
            "gridcolor": "white",
            "linecolor": "white",
            "ticks": ""
           },
           "bgcolor": "#E5ECF6",
           "caxis": {
            "gridcolor": "white",
            "linecolor": "white",
            "ticks": ""
           }
          },
          "title": {
           "x": 0.05
          },
          "xaxis": {
           "automargin": true,
           "gridcolor": "white",
           "linecolor": "white",
           "ticks": "",
           "title": {
            "standoff": 15
           },
           "zerolinecolor": "white",
           "zerolinewidth": 2
          },
          "yaxis": {
           "automargin": true,
           "gridcolor": "white",
           "linecolor": "white",
           "ticks": "",
           "title": {
            "standoff": 15
           },
           "zerolinecolor": "white",
           "zerolinewidth": 2
          }
         }
        },
        "title": {
         "text": "EUR_JPY_MA_8_16"
        },
        "width": 1000,
        "xaxis": {
         "linecolor": "#3a4a54",
         "linewidth": 1,
         "showgrid": false,
         "zeroline": false
        },
        "yaxis": {
         "linecolor": "#3a4a54",
         "linewidth": 1,
         "showgrid": false,
         "zeroline": false
        }
       }
      }
     },
     "metadata": {},
     "output_type": "display_data"
    },
    {
     "data": {
      "application/vnd.plotly.v1+json": {
       "config": {
        "plotlyServerURL": "https://plot.ly"
       },
       "data": [
        {
         "line": {
          "color": "#3d825f",
          "shape": "spline",
          "width": 2
         },
         "mode": "lines",
         "name": "NZD_CHF_MA_8_16",
         "type": "scatter",
         "x": [
          "2021-03-11T13:00:00+00:00",
          "2021-03-12T02:00:00+00:00",
          "2021-03-12T10:00:00+00:00",
          "2021-03-15T00:00:00+00:00",
          "2021-03-15T14:00:00+00:00",
          "2021-03-16T00:00:00+00:00",
          "2021-03-16T06:00:00+00:00",
          "2021-03-17T13:00:00+00:00",
          "2021-03-17T16:00:00+00:00",
          "2021-03-17T19:00:00+00:00",
          "2021-03-18T14:00:00+00:00",
          "2021-03-19T09:00:00+00:00",
          "2021-03-21T23:00:00+00:00",
          "2021-03-24T12:00:00+00:00",
          "2021-03-24T19:00:00+00:00",
          "2021-03-25T04:00:00+00:00",
          "2021-03-25T13:00:00+00:00",
          "2021-03-25T20:00:00+00:00",
          "2021-03-28T21:00:00+00:00",
          "2021-03-29T13:00:00+00:00",
          "2021-03-30T13:00:00+00:00",
          "2021-03-31T01:00:00+00:00",
          "2021-03-31T21:00:00+00:00",
          "2021-04-01T11:00:00+00:00",
          "2021-04-02T10:00:00+00:00",
          "2021-04-02T20:00:00+00:00",
          "2021-04-05T17:00:00+00:00",
          "2021-04-06T05:00:00+00:00",
          "2021-04-06T06:00:00+00:00",
          "2021-04-07T04:00:00+00:00",
          "2021-04-07T05:00:00+00:00",
          "2021-04-08T03:00:00+00:00",
          "2021-04-08T15:00:00+00:00",
          "2021-04-09T02:00:00+00:00",
          "2021-04-09T05:00:00+00:00",
          "2021-04-09T14:00:00+00:00",
          "2021-04-11T21:00:00+00:00",
          "2021-04-12T09:00:00+00:00",
          "2021-04-12T12:00:00+00:00",
          "2021-04-13T08:00:00+00:00",
          "2021-04-13T18:00:00+00:00",
          "2021-04-14T00:00:00+00:00",
          "2021-04-15T21:00:00+00:00",
          "2021-04-15T23:00:00+00:00",
          "2021-04-16T02:00:00+00:00",
          "2021-04-19T05:00:00+00:00",
          "2021-04-19T15:00:00+00:00",
          "2021-04-20T00:00:00+00:00",
          "2021-04-20T15:00:00+00:00",
          "2021-04-21T07:00:00+00:00",
          "2021-04-22T02:00:00+00:00",
          "2021-04-23T06:00:00+00:00",
          "2021-04-23T14:00:00+00:00",
          "2021-04-25T22:00:00+00:00",
          "2021-04-27T03:00:00+00:00",
          "2021-04-28T05:00:00+00:00",
          "2021-04-28T23:00:00+00:00",
          "2021-04-30T03:00:00+00:00",
          "2021-04-30T09:00:00+00:00",
          "2021-05-03T03:00:00+00:00",
          "2021-05-03T10:00:00+00:00",
          "2021-05-03T16:00:00+00:00",
          "2021-05-04T02:00:00+00:00",
          "2021-05-04T04:00:00+00:00",
          "2021-05-04T05:00:00+00:00",
          "2021-05-04T22:00:00+00:00",
          "2021-05-06T07:00:00+00:00",
          "2021-05-06T20:00:00+00:00",
          "2021-05-07T04:00:00+00:00",
          "2021-05-07T17:00:00+00:00",
          "2021-05-10T00:00:00+00:00",
          "2021-05-10T10:00:00+00:00",
          "2021-05-10T13:00:00+00:00",
          "2021-05-10T14:00:00+00:00",
          "2021-05-10T18:00:00+00:00",
          "2021-05-11T09:00:00+00:00",
          "2021-05-12T03:00:00+00:00",
          "2021-05-13T04:00:00+00:00",
          "2021-05-13T09:00:00+00:00",
          "2021-05-13T18:00:00+00:00",
          "2021-05-14T02:00:00+00:00",
          "2021-05-14T11:00:00+00:00",
          "2021-05-17T01:00:00+00:00",
          "2021-05-17T20:00:00+00:00",
          "2021-05-18T10:00:00+00:00",
          "2021-05-19T23:00:00+00:00",
          "2021-05-20T11:00:00+00:00",
          "2021-05-21T12:00:00+00:00",
          "2021-05-21T19:00:00+00:00",
          "2021-05-24T07:00:00+00:00",
          "2021-05-25T08:00:00+00:00",
          "2021-05-25T11:00:00+00:00",
          "2021-05-25T14:00:00+00:00",
          "2021-05-25T15:00:00+00:00",
          "2021-05-25T22:00:00+00:00",
          "2021-05-26T03:00:00+00:00",
          "2021-05-26T20:00:00+00:00",
          "2021-05-26T21:00:00+00:00",
          "2021-05-27T00:00:00+00:00",
          "2021-05-27T07:00:00+00:00",
          "2021-05-27T19:00:00+00:00",
          "2021-05-28T16:00:00+00:00",
          "2021-05-31T00:00:00+00:00",
          "2021-05-31T07:00:00+00:00",
          "2021-06-01T00:00:00+00:00",
          "2021-06-01T05:00:00+00:00",
          "2021-06-01T09:00:00+00:00",
          "2021-06-02T02:00:00+00:00",
          "2021-06-02T07:00:00+00:00",
          "2021-06-02T14:00:00+00:00",
          "2021-06-02T20:00:00+00:00",
          "2021-06-04T05:00:00+00:00",
          "2021-06-07T07:00:00+00:00",
          "2021-06-07T08:00:00+00:00",
          "2021-06-07T22:00:00+00:00",
          "2021-06-09T03:00:00+00:00",
          "2021-06-09T12:00:00+00:00",
          "2021-06-10T05:00:00+00:00",
          "2021-06-10T23:00:00+00:00",
          "2021-06-11T10:00:00+00:00",
          "2021-06-11T14:00:00+00:00",
          "2021-06-14T03:00:00+00:00",
          "2021-06-15T08:00:00+00:00",
          "2021-06-16T02:00:00+00:00",
          "2021-06-16T19:00:00+00:00",
          "2021-06-17T02:00:00+00:00",
          "2021-06-17T12:00:00+00:00",
          "2021-06-17T22:00:00+00:00",
          "2021-06-18T06:00:00+00:00",
          "2021-06-21T01:00:00+00:00",
          "2021-06-21T21:00:00+00:00",
          "2021-06-22T09:00:00+00:00",
          "2021-06-23T05:00:00+00:00",
          "2021-06-23T09:00:00+00:00",
          "2021-06-24T19:00:00+00:00",
          "2021-06-25T03:00:00+00:00",
          "2021-06-25T14:00:00+00:00",
          "2021-06-28T03:00:00+00:00",
          "2021-06-28T12:00:00+00:00",
          "2021-06-29T00:00:00+00:00",
          "2021-06-29T04:00:00+00:00",
          "2021-06-30T02:00:00+00:00",
          "2021-07-01T15:00:00+00:00",
          "2021-07-02T14:00:00+00:00",
          "2021-07-05T09:00:00+00:00",
          "2021-07-05T18:00:00+00:00",
          "2021-07-06T15:00:00+00:00",
          "2021-07-07T05:00:00+00:00",
          "2021-07-07T19:00:00+00:00",
          "2021-07-09T09:00:00+00:00",
          "2021-07-12T05:00:00+00:00",
          "2021-07-12T16:00:00+00:00",
          "2021-07-13T10:00:00+00:00",
          "2021-07-14T01:00:00+00:00",
          "2021-07-14T18:00:00+00:00",
          "2021-07-15T16:00:00+00:00",
          "2021-07-15T19:00:00+00:00",
          "2021-07-15T22:00:00+00:00",
          "2021-07-16T17:00:00+00:00",
          "2021-07-20T03:00:00+00:00",
          "2021-07-20T04:00:00+00:00",
          "2021-07-20T15:00:00+00:00",
          "2021-07-21T05:00:00+00:00",
          "2021-07-21T12:00:00+00:00",
          "2021-07-22T02:00:00+00:00",
          "2021-07-22T11:00:00+00:00",
          "2021-07-23T20:00:00+00:00",
          "2021-07-26T15:00:00+00:00",
          "2021-07-27T00:00:00+00:00",
          "2021-07-28T02:00:00+00:00",
          "2021-07-28T09:00:00+00:00",
          "2021-07-29T05:00:00+00:00",
          "2021-07-30T00:00:00+00:00",
          "2021-08-02T11:00:00+00:00",
          "2021-08-02T20:00:00+00:00",
          "2021-08-03T00:00:00+00:00",
          "2021-08-03T14:00:00+00:00",
          "2021-08-03T21:00:00+00:00",
          "2021-08-04T18:00:00+00:00",
          "2021-08-05T02:00:00+00:00",
          "2021-08-05T22:00:00+00:00",
          "2021-08-06T08:00:00+00:00",
          "2021-08-09T02:00:00+00:00",
          "2021-08-09T04:00:00+00:00",
          "2021-08-10T01:00:00+00:00",
          "2021-08-10T11:00:00+00:00",
          "2021-08-11T05:00:00+00:00",
          "2021-08-11T11:00:00+00:00",
          "2021-08-12T02:00:00+00:00",
          "2021-08-13T08:00:00+00:00",
          "2021-08-13T10:00:00+00:00",
          "2021-08-17T20:00:00+00:00",
          "2021-08-18T09:00:00+00:00",
          "2021-08-18T20:00:00+00:00",
          "2021-08-19T00:00:00+00:00",
          "2021-08-19T19:00:00+00:00",
          "2021-08-20T00:00:00+00:00",
          "2021-08-20T15:00:00+00:00",
          "2021-08-23T03:00:00+00:00",
          "2021-08-23T04:00:00+00:00",
          "2021-08-23T23:00:00+00:00",
          "2021-08-24T04:00:00+00:00",
          "2021-08-26T22:00:00+00:00",
          "2021-08-27T11:00:00+00:00",
          "2021-08-30T02:00:00+00:00",
          "2021-08-30T10:00:00+00:00",
          "2021-08-31T15:00:00+00:00",
          "2021-08-31T21:00:00+00:00",
          "2021-09-01T15:00:00+00:00",
          "2021-09-01T21:00:00+00:00",
          "2021-09-02T05:00:00+00:00",
          "2021-09-02T06:00:00+00:00",
          "2021-09-03T01:00:00+00:00",
          "2021-09-03T07:00:00+00:00",
          "2021-09-06T04:00:00+00:00",
          "2021-09-06T11:00:00+00:00",
          "2021-09-06T19:00:00+00:00",
          "2021-09-07T17:00:00+00:00",
          "2021-09-08T10:00:00+00:00",
          "2021-09-08T11:00:00+00:00",
          "2021-09-09T01:00:00+00:00",
          "2021-09-09T12:00:00+00:00",
          "2021-09-09T19:00:00+00:00",
          "2021-09-10T06:00:00+00:00",
          "2021-09-10T20:00:00+00:00",
          "2021-09-13T08:00:00+00:00",
          "2021-09-14T06:00:00+00:00",
          "2021-09-15T16:00:00+00:00",
          "2021-09-16T18:00:00+00:00",
          "2021-09-17T01:00:00+00:00",
          "2021-09-17T06:00:00+00:00",
          "2021-09-17T10:00:00+00:00",
          "2021-09-17T16:00:00+00:00",
          "2021-09-19T22:00:00+00:00",
          "2021-09-20T02:00:00+00:00",
          "2021-09-21T08:00:00+00:00",
          "2021-09-21T12:00:00+00:00",
          "2021-09-22T03:00:00+00:00",
          "2021-09-22T13:00:00+00:00",
          "2021-09-22T19:00:00+00:00",
          "2021-09-23T03:00:00+00:00",
          "2021-09-23T07:00:00+00:00",
          "2021-09-24T02:00:00+00:00",
          "2021-09-27T01:00:00+00:00",
          "2021-09-27T14:00:00+00:00",
          "2021-09-28T04:00:00+00:00",
          "2021-09-28T09:00:00+00:00",
          "2021-09-28T23:00:00+00:00",
          "2021-09-29T03:00:00+00:00",
          "2021-09-30T03:00:00+00:00",
          "2021-10-01T01:00:00+00:00",
          "2021-10-01T13:00:00+00:00",
          "2021-10-04T04:00:00+00:00",
          "2021-10-04T08:00:00+00:00",
          "2021-10-04T15:00:00+00:00",
          "2021-10-05T10:00:00+00:00",
          "2021-10-06T01:00:00+00:00",
          "2021-10-06T20:00:00+00:00",
          "2021-10-08T09:00:00+00:00",
          "2021-10-11T04:00:00+00:00",
          "2021-10-12T00:00:00+00:00",
          "2021-10-12T08:00:00+00:00",
          "2021-10-12T23:00:00+00:00",
          "2021-10-13T09:00:00+00:00",
          "2021-10-13T12:00:00+00:00",
          "2021-10-14T02:00:00+00:00",
          "2021-10-18T10:00:00+00:00",
          "2021-10-18T19:00:00+00:00",
          "2021-10-20T14:00:00+00:00",
          "2021-10-20T21:00:00+00:00",
          "2021-10-20T22:00:00+00:00",
          "2021-10-21T01:00:00+00:00",
          "2021-10-21T03:00:00+00:00",
          "2021-10-22T04:00:00+00:00",
          "2021-10-22T12:00:00+00:00",
          "2021-10-25T02:00:00+00:00",
          "2021-10-26T15:00:00+00:00",
          "2021-10-27T17:00:00+00:00",
          "2021-10-28T02:00:00+00:00",
          "2021-10-28T05:00:00+00:00"
         ],
         "y": [
          2.5999999999992696,
          -9.20000000000143,
          -18.500000000001293,
          -28.000000000001357,
          -31.60000000000163,
          -40.800000000001944,
          -26.000000000002686,
          -37.800000000003386,
          -74.00000000000406,
          -75.60000000000456,
          -53.70000000000431,
          -57.70000000000387,
          62.59999999999597,
          49.99999999999558,
          38.19999999999488,
          23.999999999994003,
          4.599999999993475,
          35.599999999993386,
          36.39999999999308,
          52.29999999999288,
          46.59999999999329,
          47.699999999993835,
          31.599999999993834,
          40.2999999999931,
          21.399999999992517,
          4.59999999999237,
          6.59999999999215,
          0.9999999999921005,
          39.599999999991844,
          39.39999999999164,
          87.09999999999215,
          83.19999999999213,
          84.29999999999157,
          67.39999999999188,
          51.09999999999279,
          38.799999999993254,
          34.999999999993896,
          27.899999999994012,
          25.399999999993177,
          14.599999999992368,
          9.199999999991409,
          124.6999999999909,
          122.19999999999116,
          112.79999999999175,
          140.1999999999925,
          130.1999999999925,
          116.39999999999203,
          105.19999999999193,
          88.39999999999179,
          101.69999999999122,
          121.59999999999059,
          112.59999999999047,
          109.9999999999901,
          145.99999999998946,
          156.19999999998967,
          163.3999999999902,
          180.19999999999035,
          164.09999999999036,
          181.79999999999086,
          172.6999999999912,
          157.5999999999911,
          153.19999999999115,
          148.7999999999912,
          143.19999999999115,
          150.79999999999097,
          165.79999999999043,
          166.49999999998946,
          161.6999999999891,
          161.09999999998962,
          164.19999999998996,
          160.89999999998943,
          153.4999999999887,
          150.79999999998876,
          137.79999999998907,
          114.79999999998938,
          90.79999999998981,
          126.89999999998983,
          111.59999999998952,
          94.89999999998892,
          82.99999999998867,
          51.89999999998921,
          36.59999999999001,
          44.19999999998984,
          49.39999999998949,
          89.69999999998927,
          84.99999999998846,
          77.09999999998777,
          31.999999999987637,
          14.1999999999876,
          26.39999999998759,
          4.7999999999881915,
          1.3999999999881219,
          8.999999999987951,
          3.7999999999883016,
          -65.80000000001135,
          -65.40000000001095,
          -67.90000000001068,
          -75.80000000001026,
          -96.20000000000957,
          -106.10000000000892,
          -93.00000000000858,
          -107.9000000000085,
          -127.20000000000837,
          -122.40000000000802,
          -125.80000000000808,
          -137.4000000000086,
          -124.20000000000871,
          -146.50000000000824,
          -160.80000000000754,
          -171.80000000000743,
          -138.40000000000734,
          -119.10000000000747,
          -125.20000000000746,
          -126.40000000000644,
          -86.8000000000057,
          -96.80000000000571,
          -95.80000000000582,
          -102.60000000000596,
          -107.00000000000593,
          -135.60000000000565,
          -145.00000000000617,
          -153.70000000000655,
          -162.20000000000672,
          -171.40000000000705,
          -200.8000000000076,
          -229.9000000000084,
          -260.4000000000084,
          -290.8000000000077,
          -295.00000000000745,
          -290.60000000000747,
          -298.30000000000683,
          -281.5000000000067,
          -300.2000000000071,
          -272.80000000000746,
          -278.00000000000824,
          -282.4000000000082,
          -288.7000000000073,
          -307.40000000000657,
          -314.8000000000062,
          -331.3000000000066,
          -313.400000000007,
          -304.2000000000067,
          -308.80000000000683,
          -301.8000000000076,
          -308.90000000000754,
          -305.600000000007,
          -316.00000000000745,
          -316.7000000000076,
          -195.80000000000717,
          -178.7000000000073,
          -184.50000000000753,
          -180.8000000000077,
          -186.9000000000077,
          -157.80000000000803,
          -146.80000000000814,
          -160.4000000000073,
          -187.80000000000695,
          -174.60000000000707,
          -86.80000000000697,
          -104.50000000000635,
          -136.30000000000595,
          -149.00000000000588,
          -173.9000000000058,
          -180.90000000000614,
          -205.80000000000607,
          -196.80000000000595,
          -198.30000000000578,
          -204.40000000000578,
          -162.20000000000576,
          -174.80000000000504,
          -159.80000000000447,
          -151.90000000000379,
          -121.60000000000291,
          -126.60000000000235,
          -148.3000000000024,
          -150.20000000000263,
          -166.80000000000257,
          -126.3000000000026,
          -137.40000000000316,
          -142.60000000000392,
          -152.90000000000478,
          -134.70000000000545,
          -136.10000000000574,
          -141.30000000000538,
          -181.60000000000517,
          -176.70000000000528,
          -185.7000000000054,
          -168.2000000000051,
          -143.60000000000494,
          -149.40000000000518,
          -21.400000000004837,
          -53.00000000000424,
          -67.40000000000421,
          -88.50000000000477,
          -70.00000000000459,
          -70.40000000000389,
          -64.90000000000339,
          -62.60000000000275,
          -61.20000000000246,
          -41.20000000000245,
          -54.20000000000213,
          23.399999999997753,
          25.599999999997735,
          18.89999999999825,
          -15.00000000000179,
          31.899999999997924,
          36.099999999997685,
          52.59999999999698,
          46.099999999996584,
          51.59999999999709,
          47.999999999997925,
          68.49999999999788,
          53.799999999997056,
          67.99999999999682,
          51.59999999999707,
          38.19999999999699,
          46.39999999999631,
          62.79999999999606,
          58.1999999999959,
          45.399999999995316,
          34.199999999995214,
          9.199999999995747,
          -5.8000000000037115,
          -9.800000000003271,
          -35.500000000002885,
          -39.6000000000031,
          -21.40000000000377,
          7.29999999999551,
          15.199999999995084,
          23.199999999995313,
          30.199999999995654,
          39.799999999995265,
          45.999999999994806,
          41.199999999994446,
          67.9999999999946,
          31.999999999995232,
          39.799999999995265,
          31.199999999995548,
          17.79999999999547,
          15.799999999994581,
          -4.000000000005235,
          21.899999999995686,
          49.399999999995984,
          36.999999999995794,
          22.399999999995625,
          -21.00000000000448,
          -25.300000000004893,
          -32.900000000004724,
          0.9999999999953175,
          4.399999999994277,
          -6.000000000006132,
          19.399999999993735,
          26.199999999993874,
          7.399999999993948,
          -10.400000000006088,
          -23.10000000000602,
          8.59999999999404,
          28.199999999994766,
          25.999999999994785,
          18.4999999999945,
          -10.40000000000498,
          -22.400000000004766,
          -29.200000000004906,
          -51.8000000000053,
          -68.60000000000545,
          16.99999999999467,
          6.599999999994262,
          87.79999999999443,
          91.09999999999495,
          85.09999999999562,
          71.1999999999967,
          66.2999999999968,
          107.79999999999666,
          75.39999999999645,
          67.79999999999552,
          97.79999999999555,
          104.39999999999549,
          110.39999999999483,
          100.99999999999432,
          77.99999999999352
         ]
        }
       ],
       "layout": {
        "font": {
         "color": "#e1e1e1",
         "size": 10
        },
        "height": 400,
        "margin": {
         "b": 10,
         "l": 15,
         "r": 15
        },
        "paper_bgcolor": "#1e1e1e",
        "plot_bgcolor": "#1e1e1e",
        "template": {
         "data": {
          "bar": [
           {
            "error_x": {
             "color": "#2a3f5f"
            },
            "error_y": {
             "color": "#2a3f5f"
            },
            "marker": {
             "line": {
              "color": "#E5ECF6",
              "width": 0.5
             },
             "pattern": {
              "fillmode": "overlay",
              "size": 10,
              "solidity": 0.2
             }
            },
            "type": "bar"
           }
          ],
          "barpolar": [
           {
            "marker": {
             "line": {
              "color": "#E5ECF6",
              "width": 0.5
             },
             "pattern": {
              "fillmode": "overlay",
              "size": 10,
              "solidity": 0.2
             }
            },
            "type": "barpolar"
           }
          ],
          "carpet": [
           {
            "aaxis": {
             "endlinecolor": "#2a3f5f",
             "gridcolor": "white",
             "linecolor": "white",
             "minorgridcolor": "white",
             "startlinecolor": "#2a3f5f"
            },
            "baxis": {
             "endlinecolor": "#2a3f5f",
             "gridcolor": "white",
             "linecolor": "white",
             "minorgridcolor": "white",
             "startlinecolor": "#2a3f5f"
            },
            "type": "carpet"
           }
          ],
          "choropleth": [
           {
            "colorbar": {
             "outlinewidth": 0,
             "ticks": ""
            },
            "type": "choropleth"
           }
          ],
          "contour": [
           {
            "colorbar": {
             "outlinewidth": 0,
             "ticks": ""
            },
            "colorscale": [
             [
              0,
              "#0d0887"
             ],
             [
              0.1111111111111111,
              "#46039f"
             ],
             [
              0.2222222222222222,
              "#7201a8"
             ],
             [
              0.3333333333333333,
              "#9c179e"
             ],
             [
              0.4444444444444444,
              "#bd3786"
             ],
             [
              0.5555555555555556,
              "#d8576b"
             ],
             [
              0.6666666666666666,
              "#ed7953"
             ],
             [
              0.7777777777777778,
              "#fb9f3a"
             ],
             [
              0.8888888888888888,
              "#fdca26"
             ],
             [
              1,
              "#f0f921"
             ]
            ],
            "type": "contour"
           }
          ],
          "contourcarpet": [
           {
            "colorbar": {
             "outlinewidth": 0,
             "ticks": ""
            },
            "type": "contourcarpet"
           }
          ],
          "heatmap": [
           {
            "colorbar": {
             "outlinewidth": 0,
             "ticks": ""
            },
            "colorscale": [
             [
              0,
              "#0d0887"
             ],
             [
              0.1111111111111111,
              "#46039f"
             ],
             [
              0.2222222222222222,
              "#7201a8"
             ],
             [
              0.3333333333333333,
              "#9c179e"
             ],
             [
              0.4444444444444444,
              "#bd3786"
             ],
             [
              0.5555555555555556,
              "#d8576b"
             ],
             [
              0.6666666666666666,
              "#ed7953"
             ],
             [
              0.7777777777777778,
              "#fb9f3a"
             ],
             [
              0.8888888888888888,
              "#fdca26"
             ],
             [
              1,
              "#f0f921"
             ]
            ],
            "type": "heatmap"
           }
          ],
          "heatmapgl": [
           {
            "colorbar": {
             "outlinewidth": 0,
             "ticks": ""
            },
            "colorscale": [
             [
              0,
              "#0d0887"
             ],
             [
              0.1111111111111111,
              "#46039f"
             ],
             [
              0.2222222222222222,
              "#7201a8"
             ],
             [
              0.3333333333333333,
              "#9c179e"
             ],
             [
              0.4444444444444444,
              "#bd3786"
             ],
             [
              0.5555555555555556,
              "#d8576b"
             ],
             [
              0.6666666666666666,
              "#ed7953"
             ],
             [
              0.7777777777777778,
              "#fb9f3a"
             ],
             [
              0.8888888888888888,
              "#fdca26"
             ],
             [
              1,
              "#f0f921"
             ]
            ],
            "type": "heatmapgl"
           }
          ],
          "histogram": [
           {
            "marker": {
             "pattern": {
              "fillmode": "overlay",
              "size": 10,
              "solidity": 0.2
             }
            },
            "type": "histogram"
           }
          ],
          "histogram2d": [
           {
            "colorbar": {
             "outlinewidth": 0,
             "ticks": ""
            },
            "colorscale": [
             [
              0,
              "#0d0887"
             ],
             [
              0.1111111111111111,
              "#46039f"
             ],
             [
              0.2222222222222222,
              "#7201a8"
             ],
             [
              0.3333333333333333,
              "#9c179e"
             ],
             [
              0.4444444444444444,
              "#bd3786"
             ],
             [
              0.5555555555555556,
              "#d8576b"
             ],
             [
              0.6666666666666666,
              "#ed7953"
             ],
             [
              0.7777777777777778,
              "#fb9f3a"
             ],
             [
              0.8888888888888888,
              "#fdca26"
             ],
             [
              1,
              "#f0f921"
             ]
            ],
            "type": "histogram2d"
           }
          ],
          "histogram2dcontour": [
           {
            "colorbar": {
             "outlinewidth": 0,
             "ticks": ""
            },
            "colorscale": [
             [
              0,
              "#0d0887"
             ],
             [
              0.1111111111111111,
              "#46039f"
             ],
             [
              0.2222222222222222,
              "#7201a8"
             ],
             [
              0.3333333333333333,
              "#9c179e"
             ],
             [
              0.4444444444444444,
              "#bd3786"
             ],
             [
              0.5555555555555556,
              "#d8576b"
             ],
             [
              0.6666666666666666,
              "#ed7953"
             ],
             [
              0.7777777777777778,
              "#fb9f3a"
             ],
             [
              0.8888888888888888,
              "#fdca26"
             ],
             [
              1,
              "#f0f921"
             ]
            ],
            "type": "histogram2dcontour"
           }
          ],
          "mesh3d": [
           {
            "colorbar": {
             "outlinewidth": 0,
             "ticks": ""
            },
            "type": "mesh3d"
           }
          ],
          "parcoords": [
           {
            "line": {
             "colorbar": {
              "outlinewidth": 0,
              "ticks": ""
             }
            },
            "type": "parcoords"
           }
          ],
          "pie": [
           {
            "automargin": true,
            "type": "pie"
           }
          ],
          "scatter": [
           {
            "marker": {
             "colorbar": {
              "outlinewidth": 0,
              "ticks": ""
             }
            },
            "type": "scatter"
           }
          ],
          "scatter3d": [
           {
            "line": {
             "colorbar": {
              "outlinewidth": 0,
              "ticks": ""
             }
            },
            "marker": {
             "colorbar": {
              "outlinewidth": 0,
              "ticks": ""
             }
            },
            "type": "scatter3d"
           }
          ],
          "scattercarpet": [
           {
            "marker": {
             "colorbar": {
              "outlinewidth": 0,
              "ticks": ""
             }
            },
            "type": "scattercarpet"
           }
          ],
          "scattergeo": [
           {
            "marker": {
             "colorbar": {
              "outlinewidth": 0,
              "ticks": ""
             }
            },
            "type": "scattergeo"
           }
          ],
          "scattergl": [
           {
            "marker": {
             "colorbar": {
              "outlinewidth": 0,
              "ticks": ""
             }
            },
            "type": "scattergl"
           }
          ],
          "scattermapbox": [
           {
            "marker": {
             "colorbar": {
              "outlinewidth": 0,
              "ticks": ""
             }
            },
            "type": "scattermapbox"
           }
          ],
          "scatterpolar": [
           {
            "marker": {
             "colorbar": {
              "outlinewidth": 0,
              "ticks": ""
             }
            },
            "type": "scatterpolar"
           }
          ],
          "scatterpolargl": [
           {
            "marker": {
             "colorbar": {
              "outlinewidth": 0,
              "ticks": ""
             }
            },
            "type": "scatterpolargl"
           }
          ],
          "scatterternary": [
           {
            "marker": {
             "colorbar": {
              "outlinewidth": 0,
              "ticks": ""
             }
            },
            "type": "scatterternary"
           }
          ],
          "surface": [
           {
            "colorbar": {
             "outlinewidth": 0,
             "ticks": ""
            },
            "colorscale": [
             [
              0,
              "#0d0887"
             ],
             [
              0.1111111111111111,
              "#46039f"
             ],
             [
              0.2222222222222222,
              "#7201a8"
             ],
             [
              0.3333333333333333,
              "#9c179e"
             ],
             [
              0.4444444444444444,
              "#bd3786"
             ],
             [
              0.5555555555555556,
              "#d8576b"
             ],
             [
              0.6666666666666666,
              "#ed7953"
             ],
             [
              0.7777777777777778,
              "#fb9f3a"
             ],
             [
              0.8888888888888888,
              "#fdca26"
             ],
             [
              1,
              "#f0f921"
             ]
            ],
            "type": "surface"
           }
          ],
          "table": [
           {
            "cells": {
             "fill": {
              "color": "#EBF0F8"
             },
             "line": {
              "color": "white"
             }
            },
            "header": {
             "fill": {
              "color": "#C8D4E3"
             },
             "line": {
              "color": "white"
             }
            },
            "type": "table"
           }
          ]
         },
         "layout": {
          "annotationdefaults": {
           "arrowcolor": "#2a3f5f",
           "arrowhead": 0,
           "arrowwidth": 1
          },
          "autotypenumbers": "strict",
          "coloraxis": {
           "colorbar": {
            "outlinewidth": 0,
            "ticks": ""
           }
          },
          "colorscale": {
           "diverging": [
            [
             0,
             "#8e0152"
            ],
            [
             0.1,
             "#c51b7d"
            ],
            [
             0.2,
             "#de77ae"
            ],
            [
             0.3,
             "#f1b6da"
            ],
            [
             0.4,
             "#fde0ef"
            ],
            [
             0.5,
             "#f7f7f7"
            ],
            [
             0.6,
             "#e6f5d0"
            ],
            [
             0.7,
             "#b8e186"
            ],
            [
             0.8,
             "#7fbc41"
            ],
            [
             0.9,
             "#4d9221"
            ],
            [
             1,
             "#276419"
            ]
           ],
           "sequential": [
            [
             0,
             "#0d0887"
            ],
            [
             0.1111111111111111,
             "#46039f"
            ],
            [
             0.2222222222222222,
             "#7201a8"
            ],
            [
             0.3333333333333333,
             "#9c179e"
            ],
            [
             0.4444444444444444,
             "#bd3786"
            ],
            [
             0.5555555555555556,
             "#d8576b"
            ],
            [
             0.6666666666666666,
             "#ed7953"
            ],
            [
             0.7777777777777778,
             "#fb9f3a"
            ],
            [
             0.8888888888888888,
             "#fdca26"
            ],
            [
             1,
             "#f0f921"
            ]
           ],
           "sequentialminus": [
            [
             0,
             "#0d0887"
            ],
            [
             0.1111111111111111,
             "#46039f"
            ],
            [
             0.2222222222222222,
             "#7201a8"
            ],
            [
             0.3333333333333333,
             "#9c179e"
            ],
            [
             0.4444444444444444,
             "#bd3786"
            ],
            [
             0.5555555555555556,
             "#d8576b"
            ],
            [
             0.6666666666666666,
             "#ed7953"
            ],
            [
             0.7777777777777778,
             "#fb9f3a"
            ],
            [
             0.8888888888888888,
             "#fdca26"
            ],
            [
             1,
             "#f0f921"
            ]
           ]
          },
          "colorway": [
           "#636efa",
           "#EF553B",
           "#00cc96",
           "#ab63fa",
           "#FFA15A",
           "#19d3f3",
           "#FF6692",
           "#B6E880",
           "#FF97FF",
           "#FECB52"
          ],
          "font": {
           "color": "#2a3f5f"
          },
          "geo": {
           "bgcolor": "white",
           "lakecolor": "white",
           "landcolor": "#E5ECF6",
           "showlakes": true,
           "showland": true,
           "subunitcolor": "white"
          },
          "hoverlabel": {
           "align": "left"
          },
          "hovermode": "closest",
          "mapbox": {
           "style": "light"
          },
          "paper_bgcolor": "white",
          "plot_bgcolor": "#E5ECF6",
          "polar": {
           "angularaxis": {
            "gridcolor": "white",
            "linecolor": "white",
            "ticks": ""
           },
           "bgcolor": "#E5ECF6",
           "radialaxis": {
            "gridcolor": "white",
            "linecolor": "white",
            "ticks": ""
           }
          },
          "scene": {
           "xaxis": {
            "backgroundcolor": "#E5ECF6",
            "gridcolor": "white",
            "gridwidth": 2,
            "linecolor": "white",
            "showbackground": true,
            "ticks": "",
            "zerolinecolor": "white"
           },
           "yaxis": {
            "backgroundcolor": "#E5ECF6",
            "gridcolor": "white",
            "gridwidth": 2,
            "linecolor": "white",
            "showbackground": true,
            "ticks": "",
            "zerolinecolor": "white"
           },
           "zaxis": {
            "backgroundcolor": "#E5ECF6",
            "gridcolor": "white",
            "gridwidth": 2,
            "linecolor": "white",
            "showbackground": true,
            "ticks": "",
            "zerolinecolor": "white"
           }
          },
          "shapedefaults": {
           "line": {
            "color": "#2a3f5f"
           }
          },
          "ternary": {
           "aaxis": {
            "gridcolor": "white",
            "linecolor": "white",
            "ticks": ""
           },
           "baxis": {
            "gridcolor": "white",
            "linecolor": "white",
            "ticks": ""
           },
           "bgcolor": "#E5ECF6",
           "caxis": {
            "gridcolor": "white",
            "linecolor": "white",
            "ticks": ""
           }
          },
          "title": {
           "x": 0.05
          },
          "xaxis": {
           "automargin": true,
           "gridcolor": "white",
           "linecolor": "white",
           "ticks": "",
           "title": {
            "standoff": 15
           },
           "zerolinecolor": "white",
           "zerolinewidth": 2
          },
          "yaxis": {
           "automargin": true,
           "gridcolor": "white",
           "linecolor": "white",
           "ticks": "",
           "title": {
            "standoff": 15
           },
           "zerolinecolor": "white",
           "zerolinewidth": 2
          }
         }
        },
        "title": {
         "text": "NZD_CHF_MA_8_16"
        },
        "width": 1000,
        "xaxis": {
         "linecolor": "#3a4a54",
         "linewidth": 1,
         "showgrid": false,
         "zeroline": false
        },
        "yaxis": {
         "linecolor": "#3a4a54",
         "linewidth": 1,
         "showgrid": false,
         "zeroline": false
        }
       }
      }
     },
     "metadata": {},
     "output_type": "display_data"
    },
    {
     "data": {
      "application/vnd.plotly.v1+json": {
       "config": {
        "plotlyServerURL": "https://plot.ly"
       },
       "data": [
        {
         "line": {
          "color": "#3d825f",
          "shape": "spline",
          "width": 2
         },
         "mode": "lines",
         "name": "NZD_JPY_MA_8_16",
         "type": "scatter",
         "x": [
          "2021-03-11T17:00:00+00:00",
          "2021-03-12T00:00:00+00:00",
          "2021-03-12T09:00:00+00:00",
          "2021-03-14T21:00:00+00:00",
          "2021-03-15T14:00:00+00:00",
          "2021-03-15T22:00:00+00:00",
          "2021-03-16T08:00:00+00:00",
          "2021-03-16T23:00:00+00:00",
          "2021-03-17T07:00:00+00:00",
          "2021-03-17T19:00:00+00:00",
          "2021-03-18T11:00:00+00:00",
          "2021-03-22T11:00:00+00:00",
          "2021-03-22T23:00:00+00:00",
          "2021-03-24T13:00:00+00:00",
          "2021-03-24T21:00:00+00:00",
          "2021-03-25T04:00:00+00:00",
          "2021-03-25T16:00:00+00:00",
          "2021-03-26T01:00:00+00:00",
          "2021-03-29T02:00:00+00:00",
          "2021-03-29T13:00:00+00:00",
          "2021-03-30T14:00:00+00:00",
          "2021-03-31T00:00:00+00:00",
          "2021-03-31T20:00:00+00:00",
          "2021-04-01T12:00:00+00:00",
          "2021-04-02T10:00:00+00:00",
          "2021-04-02T18:00:00+00:00",
          "2021-04-05T06:00:00+00:00",
          "2021-04-05T10:00:00+00:00",
          "2021-04-05T20:00:00+00:00",
          "2021-04-06T02:00:00+00:00",
          "2021-04-06T06:00:00+00:00",
          "2021-04-06T23:00:00+00:00",
          "2021-04-07T06:00:00+00:00",
          "2021-04-08T06:00:00+00:00",
          "2021-04-08T13:00:00+00:00",
          "2021-04-08T20:00:00+00:00",
          "2021-04-09T06:00:00+00:00",
          "2021-04-09T12:00:00+00:00",
          "2021-04-11T22:00:00+00:00",
          "2021-04-13T09:00:00+00:00",
          "2021-04-13T10:00:00+00:00",
          "2021-04-13T19:00:00+00:00",
          "2021-04-15T04:00:00+00:00",
          "2021-04-15T06:00:00+00:00",
          "2021-04-16T04:00:00+00:00",
          "2021-04-16T11:00:00+00:00",
          "2021-04-16T13:00:00+00:00",
          "2021-04-19T09:00:00+00:00",
          "2021-04-19T18:00:00+00:00",
          "2021-04-20T01:00:00+00:00",
          "2021-04-20T15:00:00+00:00",
          "2021-04-21T09:00:00+00:00",
          "2021-04-22T03:00:00+00:00",
          "2021-04-23T07:00:00+00:00",
          "2021-04-23T15:00:00+00:00",
          "2021-04-23T18:00:00+00:00",
          "2021-04-27T05:00:00+00:00",
          "2021-04-27T16:00:00+00:00",
          "2021-04-29T18:00:00+00:00",
          "2021-04-30T03:00:00+00:00",
          "2021-04-30T07:00:00+00:00",
          "2021-05-03T03:00:00+00:00",
          "2021-05-03T14:00:00+00:00",
          "2021-05-03T20:00:00+00:00",
          "2021-05-04T02:00:00+00:00",
          "2021-05-04T22:00:00+00:00",
          "2021-05-06T08:00:00+00:00",
          "2021-05-06T18:00:00+00:00",
          "2021-05-07T09:00:00+00:00",
          "2021-05-07T16:00:00+00:00",
          "2021-05-10T19:00:00+00:00",
          "2021-05-11T09:00:00+00:00",
          "2021-05-11T14:00:00+00:00",
          "2021-05-13T03:00:00+00:00",
          "2021-05-13T09:00:00+00:00",
          "2021-05-13T17:00:00+00:00",
          "2021-05-14T03:00:00+00:00",
          "2021-05-14T06:00:00+00:00",
          "2021-05-17T02:00:00+00:00",
          "2021-05-17T20:00:00+00:00",
          "2021-05-18T16:00:00+00:00",
          "2021-05-20T02:00:00+00:00",
          "2021-05-20T15:00:00+00:00",
          "2021-05-20T16:00:00+00:00",
          "2021-05-21T00:00:00+00:00",
          "2021-05-21T13:00:00+00:00",
          "2021-05-21T19:00:00+00:00",
          "2021-05-24T11:00:00+00:00",
          "2021-05-25T20:00:00+00:00",
          "2021-05-26T03:00:00+00:00",
          "2021-05-26T18:00:00+00:00",
          "2021-05-27T06:00:00+00:00",
          "2021-05-28T03:00:00+00:00",
          "2021-05-31T09:00:00+00:00",
          "2021-06-01T03:00:00+00:00",
          "2021-06-02T02:00:00+00:00",
          "2021-06-02T09:00:00+00:00",
          "2021-06-04T04:00:00+00:00",
          "2021-06-07T07:00:00+00:00",
          "2021-06-07T14:00:00+00:00",
          "2021-06-08T00:00:00+00:00",
          "2021-06-09T04:00:00+00:00",
          "2021-06-09T14:00:00+00:00",
          "2021-06-10T07:00:00+00:00",
          "2021-06-10T22:00:00+00:00",
          "2021-06-11T08:00:00+00:00",
          "2021-06-11T12:00:00+00:00",
          "2021-06-14T02:00:00+00:00",
          "2021-06-15T12:00:00+00:00",
          "2021-06-16T01:00:00+00:00",
          "2021-06-16T14:00:00+00:00",
          "2021-06-17T04:00:00+00:00",
          "2021-06-17T10:00:00+00:00",
          "2021-06-21T03:00:00+00:00",
          "2021-06-21T08:00:00+00:00",
          "2021-06-21T09:00:00+00:00",
          "2021-06-21T10:00:00+00:00",
          "2021-06-21T11:00:00+00:00",
          "2021-06-22T05:00:00+00:00",
          "2021-06-22T11:00:00+00:00",
          "2021-06-23T05:00:00+00:00",
          "2021-06-23T08:00:00+00:00",
          "2021-06-24T15:00:00+00:00",
          "2021-06-24T16:00:00+00:00",
          "2021-06-25T13:00:00+00:00",
          "2021-06-30T02:00:00+00:00",
          "2021-06-30T10:00:00+00:00",
          "2021-06-30T16:00:00+00:00",
          "2021-07-01T20:00:00+00:00",
          "2021-07-02T15:00:00+00:00",
          "2021-07-05T06:00:00+00:00",
          "2021-07-05T20:00:00+00:00",
          "2021-07-06T14:00:00+00:00",
          "2021-07-07T06:00:00+00:00",
          "2021-07-07T18:00:00+00:00",
          "2021-07-09T08:00:00+00:00",
          "2021-07-12T05:00:00+00:00",
          "2021-07-12T16:00:00+00:00",
          "2021-07-13T10:00:00+00:00",
          "2021-07-14T01:00:00+00:00",
          "2021-07-14T16:00:00+00:00",
          "2021-07-16T02:00:00+00:00",
          "2021-07-16T18:00:00+00:00",
          "2021-07-20T02:00:00+00:00",
          "2021-07-20T04:00:00+00:00",
          "2021-07-20T16:00:00+00:00",
          "2021-07-21T07:00:00+00:00",
          "2021-07-21T10:00:00+00:00",
          "2021-07-22T03:00:00+00:00",
          "2021-07-22T11:00:00+00:00",
          "2021-07-26T00:00:00+00:00",
          "2021-07-26T14:00:00+00:00",
          "2021-07-27T03:00:00+00:00",
          "2021-07-28T03:00:00+00:00",
          "2021-07-28T10:00:00+00:00",
          "2021-07-28T22:00:00+00:00",
          "2021-07-29T22:00:00+00:00",
          "2021-07-30T11:00:00+00:00",
          "2021-07-30T16:00:00+00:00",
          "2021-08-02T12:00:00+00:00",
          "2021-08-02T15:00:00+00:00",
          "2021-08-03T02:00:00+00:00",
          "2021-08-03T14:00:00+00:00",
          "2021-08-03T21:00:00+00:00",
          "2021-08-06T02:00:00+00:00",
          "2021-08-06T12:00:00+00:00",
          "2021-08-06T17:00:00+00:00",
          "2021-08-09T06:00:00+00:00",
          "2021-08-09T14:00:00+00:00",
          "2021-08-10T11:00:00+00:00",
          "2021-08-12T01:00:00+00:00",
          "2021-08-13T04:00:00+00:00",
          "2021-08-13T07:00:00+00:00",
          "2021-08-17T21:00:00+00:00",
          "2021-08-18T10:00:00+00:00",
          "2021-08-19T20:00:00+00:00",
          "2021-08-19T23:00:00+00:00",
          "2021-08-20T16:00:00+00:00",
          "2021-08-24T01:00:00+00:00",
          "2021-08-24T04:00:00+00:00",
          "2021-08-25T04:00:00+00:00",
          "2021-08-25T08:00:00+00:00",
          "2021-08-26T04:00:00+00:00",
          "2021-08-26T12:00:00+00:00",
          "2021-08-26T18:00:00+00:00",
          "2021-08-27T09:00:00+00:00",
          "2021-08-30T04:00:00+00:00",
          "2021-08-30T13:00:00+00:00",
          "2021-08-31T18:00:00+00:00",
          "2021-08-31T22:00:00+00:00",
          "2021-09-01T17:00:00+00:00",
          "2021-09-01T23:00:00+00:00",
          "2021-09-02T01:00:00+00:00",
          "2021-09-02T08:00:00+00:00",
          "2021-09-03T03:00:00+00:00",
          "2021-09-03T04:00:00+00:00",
          "2021-09-06T05:00:00+00:00",
          "2021-09-07T02:00:00+00:00",
          "2021-09-07T04:00:00+00:00",
          "2021-09-07T17:00:00+00:00",
          "2021-09-07T18:00:00+00:00",
          "2021-09-08T00:00:00+00:00",
          "2021-09-08T09:00:00+00:00",
          "2021-09-08T17:00:00+00:00",
          "2021-09-09T00:00:00+00:00",
          "2021-09-09T12:00:00+00:00",
          "2021-09-09T19:00:00+00:00",
          "2021-09-10T05:00:00+00:00",
          "2021-09-10T18:00:00+00:00",
          "2021-09-13T08:00:00+00:00",
          "2021-09-13T17:00:00+00:00",
          "2021-09-14T00:00:00+00:00",
          "2021-09-14T11:00:00+00:00",
          "2021-09-14T12:00:00+00:00",
          "2021-09-14T14:00:00+00:00",
          "2021-09-15T19:00:00+00:00",
          "2021-09-16T07:00:00+00:00",
          "2021-09-17T04:00:00+00:00",
          "2021-09-17T15:00:00+00:00",
          "2021-09-21T06:00:00+00:00",
          "2021-09-21T15:00:00+00:00",
          "2021-09-22T04:00:00+00:00",
          "2021-09-22T23:00:00+00:00",
          "2021-09-23T07:00:00+00:00",
          "2021-09-24T03:00:00+00:00",
          "2021-09-24T05:00:00+00:00",
          "2021-09-24T08:00:00+00:00",
          "2021-09-27T00:00:00+00:00",
          "2021-09-27T09:00:00+00:00",
          "2021-09-27T14:00:00+00:00",
          "2021-09-28T10:00:00+00:00",
          "2021-09-29T00:00:00+00:00",
          "2021-09-29T03:00:00+00:00",
          "2021-09-30T03:00:00+00:00",
          "2021-09-30T12:00:00+00:00",
          "2021-09-30T13:00:00+00:00",
          "2021-09-30T14:00:00+00:00",
          "2021-10-01T13:00:00+00:00",
          "2021-10-04T03:00:00+00:00",
          "2021-10-04T08:00:00+00:00",
          "2021-10-04T20:00:00+00:00",
          "2021-10-05T09:00:00+00:00",
          "2021-10-06T02:00:00+00:00",
          "2021-10-06T20:00:00+00:00",
          "2021-10-08T11:00:00+00:00",
          "2021-10-08T15:00:00+00:00",
          "2021-10-12T01:00:00+00:00",
          "2021-10-12T09:00:00+00:00",
          "2021-10-12T22:00:00+00:00",
          "2021-10-13T08:00:00+00:00",
          "2021-10-13T18:00:00+00:00",
          "2021-10-13T20:00:00+00:00",
          "2021-10-18T06:00:00+00:00",
          "2021-10-18T17:00:00+00:00",
          "2021-10-20T13:00:00+00:00",
          "2021-10-20T16:00:00+00:00",
          "2021-10-21T05:00:00+00:00",
          "2021-10-22T02:00:00+00:00",
          "2021-10-22T12:00:00+00:00",
          "2021-10-25T02:00:00+00:00",
          "2021-10-25T13:00:00+00:00",
          "2021-10-25T17:00:00+00:00",
          "2021-10-26T20:00:00+00:00",
          "2021-10-27T18:00:00+00:00",
          "2021-10-28T02:00:00+00:00"
         ],
         "y": [
          -20.400000000000773,
          -40.9000000000006,
          -40.30000000000058,
          -22.30000000000132,
          -34.70000000000084,
          -50.79999999999956,
          -50.39999999999907,
          -54.999999999999716,
          -98.39999999999947,
          -100.5999999999986,
          -26.599999999999113,
          -73.99999999999949,
          95.6000000000003,
          84.00000000000034,
          58.00000000000125,
          42.00000000000159,
          10.900000000000887,
          49.39999999999998,
          32.99999999999983,
          63.2000000000005,
          31.900000000001683,
          30.60000000000258,
          21.60000000000224,
          48.20000000000135,
          42.40000000000066,
          35.80000000000041,
          15.000000000000568,
          4.900000000000659,
          4.900000000000659,
          -5.5999999999997385,
          7.500000000000284,
          -14.399999999999125,
          2.600000000001046,
          -17.599999999998772,
          -34.39999999999799,
          -68.0999999999969,
          -119.399999999996,
          -127.29999999999535,
          -94.79999999999507,
          -99.29999999999524,
          -110.09999999999565,
          -31.599999999995987,
          -48.89999999999617,
          -47.19999999999658,
          -51.799999999997226,
          -71.19999999999749,
          -66.49999999999778,
          -76.79999999999865,
          -109.59999999999894,
          -141.29999999999825,
          -137.3999999999981,
          -126.59999999999911,
          -110.39999999999992,
          -115.80000000000013,
          -135.8000000000004,
          -81.8000000000012,
          -90.20000000000152,
          -32.00000000000074,
          -32.500000000000284,
          -42.79999999999973,
          -22.399999999998954,
          -37.49999999999858,
          -43.499999999998806,
          -50.60000000000002,
          -44.40000000000026,
          -13.89999999999958,
          -22.399999999998954,
          -20.999999999997954,
          -52.199999999997715,
          -52.39999999999867,
          -69.69999999999885,
          -113.49999999999909,
          -96.20000000000033,
          -124.00000000000091,
          -140.80000000000155,
          -134.00000000000176,
          -142.0000000000016,
          -113.60000000000241,
          -88.50000000000335,
          -66.70000000000442,
          5.899999999995487,
          28.999999999996362,
          43.19999999999595,
          36.099999999994736,
          25.19999999999385,
          -5.100000000005878,
          -21.800000000004616,
          20.199999999995555,
          -68.10000000000542,
          -63.200000000006185,
          -68.80000000000592,
          -32.80000000000598,
          3.399999999993497,
          13.399999999992929,
          21.599999999992292,
          -14.000000000007162,
          29.99999999999403,
          37.39999999999526,
          24.999999999995737,
          28.399999999994918,
          49.699999999994304,
          29.39999999999401,
          33.59999999999417,
          42.19999999999402,
          27.099999999992974,
          -11.200000000008004,
          -4.200000000008686,
          2.1999999999906095,
          -5.800000000010641,
          -9.400000000010778,
          -4.8000000000101295,
          -82.10000000000974,
          47.799999999990916,
          64.49999999999108,
          40.499999999990166,
          38.19999999998913,
          36.79999999998813,
          53.19999999998686,
          23.19999999998572,
          60.59999999998524,
          15.999999999985448,
          27.499999999986358,
          17.799999999986937,
          29.799999999987392,
          133.199999999988,
          114.39999999998776,
          77.19999999998777,
          96.79999999998756,
          74.09999999998718,
          74.99999999998721,
          74.59999999998672,
          22.19999999998663,
          -16.00000000001245,
          -37.300000000011835,
          73.59999999998763,
          114.39999999998776,
          100.79999999998819,
          92.39999999998787,
          86.99999999998766,
          115.79999999998734,
          143.99999999998698,
          154.7999999999874,
          269.19999999998794,
          224.89999999998815,
          178.3999999999878,
          182.59999999998655,
          165.1999999999859,
          199.79999999998626,
          170.5999999999861,
          177.9999999999859,
          146.39999999998565,
          127.99999999998448,
          197.7999999999838,
          190.29999999998353,
          172.1999999999838,
          202.69999999998447,
          211.49999999998528,
          196.5999999999852,
          214.19999999998396,
          190.79999999998307,
          171.69999999998282,
          164.99999999998352,
          138.19999999998345,
          223.3999999999824,
          210.5999999999824,
          188.79999999998347,
          191.99999999998454,
          183.19999999998515,
          168.199999999986,
          196.69999999998709,
          224.79999999998768,
          219.9999999999875,
          362.4999999999872,
          338.29999999998677,
          403.3999999999864,
          391.4999999999864,
          369.79999999998654,
          423.19999999998714,
          408.199999999988,
          454.7999999999888,
          442.3999999999893,
          467.5999999999888,
          456.7999999999884,
          427.3999999999887,
          408.999999999989,
          431.1999999999884,
          421.19999999998754,
          489.9999999999878,
          496.79999999998756,
          521.5999999999866,
          522.1999999999866,
          510.39999999998713,
          479.89999999998787,
          509.1999999999885,
          503.39999999998923,
          511.9999999999905,
          515.1999999999916,
          502.0999999999916,
          500.7999999999911,
          503.0999999999907,
          490.99999999998977,
          470.599999999989,
          455.5999999999884,
          432.0999999999885,
          416.0999999999888,
          390.0999999999883,
          362.49999999998727,
          362.0999999999868,
          356.39999999998656,
          337.89999999998633,
          322.59999999998576,
          315.79999999998455,
          290.39999999998406,
          232.39999999998423,
          249.59999999998394,
          253.59999999998314,
          259.3999999999824,
          228.9999999999822,
          271.1999999999819,
          239.39999999998213,
          226.39999999998258,
          222.2999999999829,
          172.19999999998385,
          253.7999999999841,
          255.99999999998465,
          236.5999999999858,
          247.1999999999867,
          241.69999999998743,
          232.19999999998754,
          208.39999999998759,
          210.19999999998765,
          198.39999999998815,
          239.09999999998922,
          233.59999999998996,
          224.49999999999056,
          215.5999999999907,
          222.79999999999097,
          235.19999999999192,
          208.19999999999231,
          202.7999999999921,
          178.39999999999213,
          172.3999999999919,
          211.5999999999915,
          252.69999999999163,
          222.59999999999144,
          300.89999999999156,
          275.29999999999154,
          268.3999999999913,
          240.9999999999912,
          226.59999999999064,
          224.79999999999058,
          415.5999999999907,
          397.6999999999905,
          514.1999999999897,
          503.5999999999888,
          477.9999999999888,
          501.89999999998923,
          456.19999999998987,
          444.39999999999037,
          447.59999999999,
          444.5999999999899,
          475.6999999999906,
          484.5999999999905,
          466.5999999999898,
          458.3999999999904
         ]
        }
       ],
       "layout": {
        "font": {
         "color": "#e1e1e1",
         "size": 10
        },
        "height": 400,
        "margin": {
         "b": 10,
         "l": 15,
         "r": 15
        },
        "paper_bgcolor": "#1e1e1e",
        "plot_bgcolor": "#1e1e1e",
        "template": {
         "data": {
          "bar": [
           {
            "error_x": {
             "color": "#2a3f5f"
            },
            "error_y": {
             "color": "#2a3f5f"
            },
            "marker": {
             "line": {
              "color": "#E5ECF6",
              "width": 0.5
             },
             "pattern": {
              "fillmode": "overlay",
              "size": 10,
              "solidity": 0.2
             }
            },
            "type": "bar"
           }
          ],
          "barpolar": [
           {
            "marker": {
             "line": {
              "color": "#E5ECF6",
              "width": 0.5
             },
             "pattern": {
              "fillmode": "overlay",
              "size": 10,
              "solidity": 0.2
             }
            },
            "type": "barpolar"
           }
          ],
          "carpet": [
           {
            "aaxis": {
             "endlinecolor": "#2a3f5f",
             "gridcolor": "white",
             "linecolor": "white",
             "minorgridcolor": "white",
             "startlinecolor": "#2a3f5f"
            },
            "baxis": {
             "endlinecolor": "#2a3f5f",
             "gridcolor": "white",
             "linecolor": "white",
             "minorgridcolor": "white",
             "startlinecolor": "#2a3f5f"
            },
            "type": "carpet"
           }
          ],
          "choropleth": [
           {
            "colorbar": {
             "outlinewidth": 0,
             "ticks": ""
            },
            "type": "choropleth"
           }
          ],
          "contour": [
           {
            "colorbar": {
             "outlinewidth": 0,
             "ticks": ""
            },
            "colorscale": [
             [
              0,
              "#0d0887"
             ],
             [
              0.1111111111111111,
              "#46039f"
             ],
             [
              0.2222222222222222,
              "#7201a8"
             ],
             [
              0.3333333333333333,
              "#9c179e"
             ],
             [
              0.4444444444444444,
              "#bd3786"
             ],
             [
              0.5555555555555556,
              "#d8576b"
             ],
             [
              0.6666666666666666,
              "#ed7953"
             ],
             [
              0.7777777777777778,
              "#fb9f3a"
             ],
             [
              0.8888888888888888,
              "#fdca26"
             ],
             [
              1,
              "#f0f921"
             ]
            ],
            "type": "contour"
           }
          ],
          "contourcarpet": [
           {
            "colorbar": {
             "outlinewidth": 0,
             "ticks": ""
            },
            "type": "contourcarpet"
           }
          ],
          "heatmap": [
           {
            "colorbar": {
             "outlinewidth": 0,
             "ticks": ""
            },
            "colorscale": [
             [
              0,
              "#0d0887"
             ],
             [
              0.1111111111111111,
              "#46039f"
             ],
             [
              0.2222222222222222,
              "#7201a8"
             ],
             [
              0.3333333333333333,
              "#9c179e"
             ],
             [
              0.4444444444444444,
              "#bd3786"
             ],
             [
              0.5555555555555556,
              "#d8576b"
             ],
             [
              0.6666666666666666,
              "#ed7953"
             ],
             [
              0.7777777777777778,
              "#fb9f3a"
             ],
             [
              0.8888888888888888,
              "#fdca26"
             ],
             [
              1,
              "#f0f921"
             ]
            ],
            "type": "heatmap"
           }
          ],
          "heatmapgl": [
           {
            "colorbar": {
             "outlinewidth": 0,
             "ticks": ""
            },
            "colorscale": [
             [
              0,
              "#0d0887"
             ],
             [
              0.1111111111111111,
              "#46039f"
             ],
             [
              0.2222222222222222,
              "#7201a8"
             ],
             [
              0.3333333333333333,
              "#9c179e"
             ],
             [
              0.4444444444444444,
              "#bd3786"
             ],
             [
              0.5555555555555556,
              "#d8576b"
             ],
             [
              0.6666666666666666,
              "#ed7953"
             ],
             [
              0.7777777777777778,
              "#fb9f3a"
             ],
             [
              0.8888888888888888,
              "#fdca26"
             ],
             [
              1,
              "#f0f921"
             ]
            ],
            "type": "heatmapgl"
           }
          ],
          "histogram": [
           {
            "marker": {
             "pattern": {
              "fillmode": "overlay",
              "size": 10,
              "solidity": 0.2
             }
            },
            "type": "histogram"
           }
          ],
          "histogram2d": [
           {
            "colorbar": {
             "outlinewidth": 0,
             "ticks": ""
            },
            "colorscale": [
             [
              0,
              "#0d0887"
             ],
             [
              0.1111111111111111,
              "#46039f"
             ],
             [
              0.2222222222222222,
              "#7201a8"
             ],
             [
              0.3333333333333333,
              "#9c179e"
             ],
             [
              0.4444444444444444,
              "#bd3786"
             ],
             [
              0.5555555555555556,
              "#d8576b"
             ],
             [
              0.6666666666666666,
              "#ed7953"
             ],
             [
              0.7777777777777778,
              "#fb9f3a"
             ],
             [
              0.8888888888888888,
              "#fdca26"
             ],
             [
              1,
              "#f0f921"
             ]
            ],
            "type": "histogram2d"
           }
          ],
          "histogram2dcontour": [
           {
            "colorbar": {
             "outlinewidth": 0,
             "ticks": ""
            },
            "colorscale": [
             [
              0,
              "#0d0887"
             ],
             [
              0.1111111111111111,
              "#46039f"
             ],
             [
              0.2222222222222222,
              "#7201a8"
             ],
             [
              0.3333333333333333,
              "#9c179e"
             ],
             [
              0.4444444444444444,
              "#bd3786"
             ],
             [
              0.5555555555555556,
              "#d8576b"
             ],
             [
              0.6666666666666666,
              "#ed7953"
             ],
             [
              0.7777777777777778,
              "#fb9f3a"
             ],
             [
              0.8888888888888888,
              "#fdca26"
             ],
             [
              1,
              "#f0f921"
             ]
            ],
            "type": "histogram2dcontour"
           }
          ],
          "mesh3d": [
           {
            "colorbar": {
             "outlinewidth": 0,
             "ticks": ""
            },
            "type": "mesh3d"
           }
          ],
          "parcoords": [
           {
            "line": {
             "colorbar": {
              "outlinewidth": 0,
              "ticks": ""
             }
            },
            "type": "parcoords"
           }
          ],
          "pie": [
           {
            "automargin": true,
            "type": "pie"
           }
          ],
          "scatter": [
           {
            "marker": {
             "colorbar": {
              "outlinewidth": 0,
              "ticks": ""
             }
            },
            "type": "scatter"
           }
          ],
          "scatter3d": [
           {
            "line": {
             "colorbar": {
              "outlinewidth": 0,
              "ticks": ""
             }
            },
            "marker": {
             "colorbar": {
              "outlinewidth": 0,
              "ticks": ""
             }
            },
            "type": "scatter3d"
           }
          ],
          "scattercarpet": [
           {
            "marker": {
             "colorbar": {
              "outlinewidth": 0,
              "ticks": ""
             }
            },
            "type": "scattercarpet"
           }
          ],
          "scattergeo": [
           {
            "marker": {
             "colorbar": {
              "outlinewidth": 0,
              "ticks": ""
             }
            },
            "type": "scattergeo"
           }
          ],
          "scattergl": [
           {
            "marker": {
             "colorbar": {
              "outlinewidth": 0,
              "ticks": ""
             }
            },
            "type": "scattergl"
           }
          ],
          "scattermapbox": [
           {
            "marker": {
             "colorbar": {
              "outlinewidth": 0,
              "ticks": ""
             }
            },
            "type": "scattermapbox"
           }
          ],
          "scatterpolar": [
           {
            "marker": {
             "colorbar": {
              "outlinewidth": 0,
              "ticks": ""
             }
            },
            "type": "scatterpolar"
           }
          ],
          "scatterpolargl": [
           {
            "marker": {
             "colorbar": {
              "outlinewidth": 0,
              "ticks": ""
             }
            },
            "type": "scatterpolargl"
           }
          ],
          "scatterternary": [
           {
            "marker": {
             "colorbar": {
              "outlinewidth": 0,
              "ticks": ""
             }
            },
            "type": "scatterternary"
           }
          ],
          "surface": [
           {
            "colorbar": {
             "outlinewidth": 0,
             "ticks": ""
            },
            "colorscale": [
             [
              0,
              "#0d0887"
             ],
             [
              0.1111111111111111,
              "#46039f"
             ],
             [
              0.2222222222222222,
              "#7201a8"
             ],
             [
              0.3333333333333333,
              "#9c179e"
             ],
             [
              0.4444444444444444,
              "#bd3786"
             ],
             [
              0.5555555555555556,
              "#d8576b"
             ],
             [
              0.6666666666666666,
              "#ed7953"
             ],
             [
              0.7777777777777778,
              "#fb9f3a"
             ],
             [
              0.8888888888888888,
              "#fdca26"
             ],
             [
              1,
              "#f0f921"
             ]
            ],
            "type": "surface"
           }
          ],
          "table": [
           {
            "cells": {
             "fill": {
              "color": "#EBF0F8"
             },
             "line": {
              "color": "white"
             }
            },
            "header": {
             "fill": {
              "color": "#C8D4E3"
             },
             "line": {
              "color": "white"
             }
            },
            "type": "table"
           }
          ]
         },
         "layout": {
          "annotationdefaults": {
           "arrowcolor": "#2a3f5f",
           "arrowhead": 0,
           "arrowwidth": 1
          },
          "autotypenumbers": "strict",
          "coloraxis": {
           "colorbar": {
            "outlinewidth": 0,
            "ticks": ""
           }
          },
          "colorscale": {
           "diverging": [
            [
             0,
             "#8e0152"
            ],
            [
             0.1,
             "#c51b7d"
            ],
            [
             0.2,
             "#de77ae"
            ],
            [
             0.3,
             "#f1b6da"
            ],
            [
             0.4,
             "#fde0ef"
            ],
            [
             0.5,
             "#f7f7f7"
            ],
            [
             0.6,
             "#e6f5d0"
            ],
            [
             0.7,
             "#b8e186"
            ],
            [
             0.8,
             "#7fbc41"
            ],
            [
             0.9,
             "#4d9221"
            ],
            [
             1,
             "#276419"
            ]
           ],
           "sequential": [
            [
             0,
             "#0d0887"
            ],
            [
             0.1111111111111111,
             "#46039f"
            ],
            [
             0.2222222222222222,
             "#7201a8"
            ],
            [
             0.3333333333333333,
             "#9c179e"
            ],
            [
             0.4444444444444444,
             "#bd3786"
            ],
            [
             0.5555555555555556,
             "#d8576b"
            ],
            [
             0.6666666666666666,
             "#ed7953"
            ],
            [
             0.7777777777777778,
             "#fb9f3a"
            ],
            [
             0.8888888888888888,
             "#fdca26"
            ],
            [
             1,
             "#f0f921"
            ]
           ],
           "sequentialminus": [
            [
             0,
             "#0d0887"
            ],
            [
             0.1111111111111111,
             "#46039f"
            ],
            [
             0.2222222222222222,
             "#7201a8"
            ],
            [
             0.3333333333333333,
             "#9c179e"
            ],
            [
             0.4444444444444444,
             "#bd3786"
            ],
            [
             0.5555555555555556,
             "#d8576b"
            ],
            [
             0.6666666666666666,
             "#ed7953"
            ],
            [
             0.7777777777777778,
             "#fb9f3a"
            ],
            [
             0.8888888888888888,
             "#fdca26"
            ],
            [
             1,
             "#f0f921"
            ]
           ]
          },
          "colorway": [
           "#636efa",
           "#EF553B",
           "#00cc96",
           "#ab63fa",
           "#FFA15A",
           "#19d3f3",
           "#FF6692",
           "#B6E880",
           "#FF97FF",
           "#FECB52"
          ],
          "font": {
           "color": "#2a3f5f"
          },
          "geo": {
           "bgcolor": "white",
           "lakecolor": "white",
           "landcolor": "#E5ECF6",
           "showlakes": true,
           "showland": true,
           "subunitcolor": "white"
          },
          "hoverlabel": {
           "align": "left"
          },
          "hovermode": "closest",
          "mapbox": {
           "style": "light"
          },
          "paper_bgcolor": "white",
          "plot_bgcolor": "#E5ECF6",
          "polar": {
           "angularaxis": {
            "gridcolor": "white",
            "linecolor": "white",
            "ticks": ""
           },
           "bgcolor": "#E5ECF6",
           "radialaxis": {
            "gridcolor": "white",
            "linecolor": "white",
            "ticks": ""
           }
          },
          "scene": {
           "xaxis": {
            "backgroundcolor": "#E5ECF6",
            "gridcolor": "white",
            "gridwidth": 2,
            "linecolor": "white",
            "showbackground": true,
            "ticks": "",
            "zerolinecolor": "white"
           },
           "yaxis": {
            "backgroundcolor": "#E5ECF6",
            "gridcolor": "white",
            "gridwidth": 2,
            "linecolor": "white",
            "showbackground": true,
            "ticks": "",
            "zerolinecolor": "white"
           },
           "zaxis": {
            "backgroundcolor": "#E5ECF6",
            "gridcolor": "white",
            "gridwidth": 2,
            "linecolor": "white",
            "showbackground": true,
            "ticks": "",
            "zerolinecolor": "white"
           }
          },
          "shapedefaults": {
           "line": {
            "color": "#2a3f5f"
           }
          },
          "ternary": {
           "aaxis": {
            "gridcolor": "white",
            "linecolor": "white",
            "ticks": ""
           },
           "baxis": {
            "gridcolor": "white",
            "linecolor": "white",
            "ticks": ""
           },
           "bgcolor": "#E5ECF6",
           "caxis": {
            "gridcolor": "white",
            "linecolor": "white",
            "ticks": ""
           }
          },
          "title": {
           "x": 0.05
          },
          "xaxis": {
           "automargin": true,
           "gridcolor": "white",
           "linecolor": "white",
           "ticks": "",
           "title": {
            "standoff": 15
           },
           "zerolinecolor": "white",
           "zerolinewidth": 2
          },
          "yaxis": {
           "automargin": true,
           "gridcolor": "white",
           "linecolor": "white",
           "ticks": "",
           "title": {
            "standoff": 15
           },
           "zerolinecolor": "white",
           "zerolinewidth": 2
          }
         }
        },
        "title": {
         "text": "NZD_JPY_MA_8_16"
        },
        "width": 1000,
        "xaxis": {
         "linecolor": "#3a4a54",
         "linewidth": 1,
         "showgrid": false,
         "zeroline": false
        },
        "yaxis": {
         "linecolor": "#3a4a54",
         "linewidth": 1,
         "showgrid": false,
         "zeroline": false
        }
       }
      }
     },
     "metadata": {},
     "output_type": "display_data"
    },
    {
     "data": {
      "application/vnd.plotly.v1+json": {
       "config": {
        "plotlyServerURL": "https://plot.ly"
       },
       "data": [
        {
         "line": {
          "color": "#3d825f",
          "shape": "spline",
          "width": 2
         },
         "mode": "lines",
         "name": "CAD_JPY_MA_8_16",
         "type": "scatter",
         "x": [
          "2021-03-11T02:00:00+00:00",
          "2021-03-15T16:00:00+00:00",
          "2021-03-16T01:00:00+00:00",
          "2021-03-16T08:00:00+00:00",
          "2021-03-16T17:00:00+00:00",
          "2021-03-17T09:00:00+00:00",
          "2021-03-17T20:00:00+00:00",
          "2021-03-18T13:00:00+00:00",
          "2021-03-22T10:00:00+00:00",
          "2021-03-22T14:00:00+00:00",
          "2021-03-24T10:00:00+00:00",
          "2021-03-24T23:00:00+00:00",
          "2021-03-25T05:00:00+00:00",
          "2021-03-25T16:00:00+00:00",
          "2021-03-26T02:00:00+00:00",
          "2021-03-29T00:00:00+00:00",
          "2021-03-29T13:00:00+00:00",
          "2021-03-30T17:00:00+00:00",
          "2021-03-31T01:00:00+00:00",
          "2021-04-01T05:00:00+00:00",
          "2021-04-01T13:00:00+00:00",
          "2021-04-02T08:00:00+00:00",
          "2021-04-02T18:00:00+00:00",
          "2021-04-05T00:00:00+00:00",
          "2021-04-05T12:00:00+00:00",
          "2021-04-05T19:00:00+00:00",
          "2021-04-06T02:00:00+00:00",
          "2021-04-06T08:00:00+00:00",
          "2021-04-08T02:00:00+00:00",
          "2021-04-08T07:00:00+00:00",
          "2021-04-08T20:00:00+00:00",
          "2021-04-09T06:00:00+00:00",
          "2021-04-09T10:00:00+00:00",
          "2021-04-12T03:00:00+00:00",
          "2021-04-13T04:00:00+00:00",
          "2021-04-13T09:00:00+00:00",
          "2021-04-13T19:00:00+00:00",
          "2021-04-14T02:00:00+00:00",
          "2021-04-14T15:00:00+00:00",
          "2021-04-15T04:00:00+00:00",
          "2021-04-15T09:00:00+00:00",
          "2021-04-15T15:00:00+00:00",
          "2021-04-16T05:00:00+00:00",
          "2021-04-18T22:00:00+00:00",
          "2021-04-20T03:00:00+00:00",
          "2021-04-20T15:00:00+00:00",
          "2021-04-21T08:00:00+00:00",
          "2021-04-22T04:00:00+00:00",
          "2021-04-22T12:00:00+00:00",
          "2021-04-22T23:00:00+00:00",
          "2021-04-23T07:00:00+00:00",
          "2021-04-23T12:00:00+00:00",
          "2021-04-23T20:00:00+00:00",
          "2021-04-30T06:00:00+00:00",
          "2021-04-30T13:00:00+00:00",
          "2021-05-03T12:00:00+00:00",
          "2021-05-04T05:00:00+00:00",
          "2021-05-04T12:00:00+00:00",
          "2021-05-04T21:00:00+00:00",
          "2021-05-05T22:00:00+00:00",
          "2021-05-06T03:00:00+00:00",
          "2021-05-07T09:00:00+00:00",
          "2021-05-09T23:00:00+00:00",
          "2021-05-10T15:00:00+00:00",
          "2021-05-10T17:00:00+00:00",
          "2021-05-11T10:00:00+00:00",
          "2021-05-11T23:00:00+00:00",
          "2021-05-13T07:00:00+00:00",
          "2021-05-14T06:00:00+00:00",
          "2021-05-17T01:00:00+00:00",
          "2021-05-17T15:00:00+00:00",
          "2021-05-18T12:00:00+00:00",
          "2021-05-19T07:00:00+00:00",
          "2021-05-19T14:00:00+00:00",
          "2021-05-20T02:00:00+00:00",
          "2021-05-20T08:00:00+00:00",
          "2021-05-20T16:00:00+00:00",
          "2021-05-21T04:00:00+00:00",
          "2021-05-21T13:00:00+00:00",
          "2021-05-23T23:00:00+00:00",
          "2021-05-24T13:00:00+00:00",
          "2021-05-24T20:00:00+00:00",
          "2021-05-24T22:00:00+00:00",
          "2021-05-25T07:00:00+00:00",
          "2021-05-25T10:00:00+00:00",
          "2021-05-25T19:00:00+00:00",
          "2021-05-26T05:00:00+00:00",
          "2021-05-26T12:00:00+00:00",
          "2021-05-27T09:00:00+00:00",
          "2021-05-28T05:00:00+00:00",
          "2021-05-28T18:00:00+00:00",
          "2021-05-30T22:00:00+00:00",
          "2021-05-30T23:00:00+00:00",
          "2021-05-31T02:00:00+00:00",
          "2021-05-31T23:00:00+00:00",
          "2021-06-01T19:00:00+00:00",
          "2021-06-02T05:00:00+00:00",
          "2021-06-03T10:00:00+00:00",
          "2021-06-03T20:00:00+00:00",
          "2021-06-04T03:00:00+00:00",
          "2021-06-07T02:00:00+00:00",
          "2021-06-07T06:00:00+00:00",
          "2021-06-08T06:00:00+00:00",
          "2021-06-08T16:00:00+00:00",
          "2021-06-09T07:00:00+00:00",
          "2021-06-09T22:00:00+00:00",
          "2021-06-10T12:00:00+00:00",
          "2021-06-10T21:00:00+00:00",
          "2021-06-11T05:00:00+00:00",
          "2021-06-11T15:00:00+00:00",
          "2021-06-14T04:00:00+00:00",
          "2021-06-14T11:00:00+00:00",
          "2021-06-14T14:00:00+00:00",
          "2021-06-15T09:00:00+00:00",
          "2021-06-16T01:00:00+00:00",
          "2021-06-16T10:00:00+00:00",
          "2021-06-21T12:00:00+00:00",
          "2021-06-22T06:00:00+00:00",
          "2021-06-22T09:00:00+00:00",
          "2021-06-23T21:00:00+00:00",
          "2021-06-25T02:00:00+00:00",
          "2021-06-25T12:00:00+00:00",
          "2021-06-25T16:00:00+00:00",
          "2021-06-28T02:00:00+00:00",
          "2021-06-30T07:00:00+00:00",
          "2021-06-30T08:00:00+00:00",
          "2021-06-30T11:00:00+00:00",
          "2021-07-01T21:00:00+00:00",
          "2021-07-02T07:00:00+00:00",
          "2021-07-05T04:00:00+00:00",
          "2021-07-05T19:00:00+00:00",
          "2021-07-06T05:00:00+00:00",
          "2021-07-06T08:00:00+00:00",
          "2021-07-06T09:00:00+00:00",
          "2021-07-07T09:00:00+00:00",
          "2021-07-07T17:00:00+00:00",
          "2021-07-08T20:00:00+00:00",
          "2021-07-12T06:00:00+00:00",
          "2021-07-12T17:00:00+00:00",
          "2021-07-13T09:00:00+00:00",
          "2021-07-13T22:00:00+00:00",
          "2021-07-14T08:00:00+00:00",
          "2021-07-14T12:00:00+00:00",
          "2021-07-14T14:00:00+00:00",
          "2021-07-15T14:00:00+00:00",
          "2021-07-15T16:00:00+00:00",
          "2021-07-16T05:00:00+00:00",
          "2021-07-16T18:00:00+00:00",
          "2021-07-20T00:00:00+00:00",
          "2021-07-20T08:00:00+00:00",
          "2021-07-20T14:00:00+00:00",
          "2021-07-21T07:00:00+00:00",
          "2021-07-21T11:00:00+00:00",
          "2021-07-22T04:00:00+00:00",
          "2021-07-22T11:00:00+00:00",
          "2021-07-22T19:00:00+00:00",
          "2021-07-23T02:00:00+00:00",
          "2021-07-26T03:00:00+00:00",
          "2021-07-26T14:00:00+00:00",
          "2021-07-27T03:00:00+00:00",
          "2021-07-28T04:00:00+00:00",
          "2021-07-29T19:00:00+00:00",
          "2021-07-30T08:00:00+00:00",
          "2021-07-30T19:00:00+00:00",
          "2021-08-02T09:00:00+00:00",
          "2021-08-02T10:00:00+00:00",
          "2021-08-04T01:00:00+00:00",
          "2021-08-04T13:00:00+00:00",
          "2021-08-04T14:00:00+00:00",
          "2021-08-04T15:00:00+00:00",
          "2021-08-04T18:00:00+00:00",
          "2021-08-06T04:00:00+00:00",
          "2021-08-06T07:00:00+00:00",
          "2021-08-06T08:00:00+00:00",
          "2021-08-06T17:00:00+00:00",
          "2021-08-06T20:00:00+00:00",
          "2021-08-09T09:00:00+00:00",
          "2021-08-09T17:00:00+00:00",
          "2021-08-10T03:00:00+00:00",
          "2021-08-11T15:00:00+00:00",
          "2021-08-12T13:00:00+00:00",
          "2021-08-12T16:00:00+00:00",
          "2021-08-13T05:00:00+00:00",
          "2021-08-13T07:00:00+00:00",
          "2021-08-17T17:00:00+00:00",
          "2021-08-18T21:00:00+00:00",
          "2021-08-20T17:00:00+00:00",
          "2021-08-25T06:00:00+00:00",
          "2021-08-25T14:00:00+00:00",
          "2021-08-26T05:00:00+00:00",
          "2021-08-26T11:00:00+00:00",
          "2021-08-26T16:00:00+00:00",
          "2021-08-27T08:00:00+00:00",
          "2021-08-30T03:00:00+00:00",
          "2021-08-30T11:00:00+00:00",
          "2021-08-31T01:00:00+00:00",
          "2021-08-31T06:00:00+00:00",
          "2021-08-31T14:00:00+00:00",
          "2021-08-31T22:00:00+00:00",
          "2021-09-01T16:00:00+00:00",
          "2021-09-02T08:00:00+00:00",
          "2021-09-03T16:00:00+00:00",
          "2021-09-06T13:00:00+00:00",
          "2021-09-07T02:00:00+00:00",
          "2021-09-08T05:00:00+00:00",
          "2021-09-08T08:00:00+00:00",
          "2021-09-08T22:00:00+00:00",
          "2021-09-08T23:00:00+00:00",
          "2021-09-09T15:00:00+00:00",
          "2021-09-10T00:00:00+00:00",
          "2021-09-10T05:00:00+00:00",
          "2021-09-10T18:00:00+00:00",
          "2021-09-13T07:00:00+00:00",
          "2021-09-14T11:00:00+00:00",
          "2021-09-14T12:00:00+00:00",
          "2021-09-14T13:00:00+00:00",
          "2021-09-15T16:00:00+00:00",
          "2021-09-16T06:00:00+00:00",
          "2021-09-16T13:00:00+00:00",
          "2021-09-16T20:00:00+00:00",
          "2021-09-17T02:00:00+00:00",
          "2021-09-17T16:00:00+00:00",
          "2021-09-21T00:00:00+00:00",
          "2021-09-21T14:00:00+00:00",
          "2021-09-22T04:00:00+00:00",
          "2021-09-23T05:00:00+00:00",
          "2021-09-23T06:00:00+00:00",
          "2021-09-24T08:00:00+00:00",
          "2021-09-24T16:00:00+00:00",
          "2021-09-28T14:00:00+00:00",
          "2021-09-29T00:00:00+00:00",
          "2021-09-29T07:00:00+00:00",
          "2021-09-29T21:00:00+00:00",
          "2021-09-30T17:00:00+00:00",
          "2021-10-01T15:00:00+00:00",
          "2021-10-04T22:00:00+00:00",
          "2021-10-05T08:00:00+00:00",
          "2021-10-06T04:00:00+00:00",
          "2021-10-06T06:00:00+00:00",
          "2021-10-06T07:00:00+00:00",
          "2021-10-06T20:00:00+00:00",
          "2021-10-07T11:00:00+00:00",
          "2021-10-07T12:00:00+00:00",
          "2021-10-12T01:00:00+00:00",
          "2021-10-12T10:00:00+00:00",
          "2021-10-13T01:00:00+00:00",
          "2021-10-13T08:00:00+00:00",
          "2021-10-13T18:00:00+00:00",
          "2021-10-14T03:00:00+00:00",
          "2021-10-15T17:00:00+00:00",
          "2021-10-18T03:00:00+00:00",
          "2021-10-18T04:00:00+00:00",
          "2021-10-18T14:00:00+00:00",
          "2021-10-19T18:00:00+00:00",
          "2021-10-19T23:00:00+00:00",
          "2021-10-20T12:00:00+00:00",
          "2021-10-20T20:00:00+00:00",
          "2021-10-21T06:00:00+00:00",
          "2021-10-22T03:00:00+00:00",
          "2021-10-22T14:00:00+00:00",
          "2021-10-25T03:00:00+00:00",
          "2021-10-25T14:00:00+00:00",
          "2021-10-26T02:00:00+00:00",
          "2021-10-26T21:00:00+00:00",
          "2021-10-27T18:00:00+00:00",
          "2021-10-28T03:00:00+00:00"
         ],
         "y": [
          135.00000000000085,
          128.20000000000107,
          120.50000000000125,
          104.60000000000207,
          94.10000000000309,
          69.4000000000031,
          65.70000000000249,
          130.60000000000258,
          107.80000000000314,
          150.30000000000285,
          158.40000000000174,
          144.10000000000167,
          132.80000000000172,
          109.10000000000082,
          135.60000000000088,
          127.20000000000198,
          144.50000000000216,
          108.2000000000022,
          135.00000000000227,
          119.00000000000261,
          99.00000000000375,
          79.00000000000489,
          77.00000000000529,
          63.500000000004775,
          43.000000000004945,
          35.400000000005605,
          31.80000000000547,
          132.20000000000454,
          119.40000000000452,
          108.7000000000046,
          90.20000000000437,
          51.10000000000525,
          56.10000000000639,
          60.60000000000656,
          26.700000000006696,
          11.500000000006594,
          -9.999999999993747,
          -34.19999999999419,
          -46.69999999999419,
          -63.29999999999387,
          -96.19999999999465,
          -111.19999999999521,
          -110.49999999999471,
          -74.79999999999478,
          -135.29999999999518,
          -129.99999999999545,
          -87.9999999999967,
          -110.39999999999708,
          -127.1999999999963,
          -142.99999999999642,
          -190.09999999999678,
          -230.39999999999594,
          -21.599999999995134,
          -45.39999999999509,
          -31.599999999994566,
          -31.39999999999361,
          -66.39999999999304,
          -92.39999999999213,
          -77.99999999999159,
          -89.99999999999204,
          -43.29999999999217,
          -47.79999999999234,
          -14.39999999999344,
          -28.69999999999351,
          -50.299999999992906,
          -49.999999999992895,
          -7.199999999993167,
          21.800000000006037,
          36.50000000000517,
          9.200000000004138,
          25.600000000002865,
          53.20000000000249,
          -14.799999999996771,
          -56.19999999999692,
          -84.19999999999703,
          -125.89999999999719,
          -134.19999999999845,
          -154.3999999999997,
          -160.8000000000004,
          -162.30000000000047,
          -157.3999999999998,
          -159.3999999999994,
          -167.79999999999973,
          -189.39999999999912,
          -223.299999999999,
          -241.40000000000015,
          -281.30000000000024,
          -307.59999999999934,
          -232.49999999999886,
          -232.49999999999886,
          -225.69999999999908,
          -227.69999999999868,
          -243.39999999999833,
          -237.49999999999858,
          -246.79999999999893,
          -266.99999999999875,
          -261.59999999999854,
          -276.5999999999991,
          -289.3999999999991,
          -257.3999999999984,
          -265.59999999999775,
          -266.59999999999684,
          -282.5999999999965,
          -290.9999999999968,
          -289.19999999999675,
          -310.1999999999961,
          -339.9999999999949,
          -349.5999999999938,
          -377.7999999999935,
          -387.1999999999929,
          -398.1999999999928,
          -439.1999999999939,
          -458.99999999999466,
          -452.99999999999443,
          -465.1999999999944,
          -314.39999999999486,
          -267.79999999999546,
          -260.79999999999615,
          -159.39999999999657,
          -147.09999999999752,
          -160.59999999999803,
          -185.0999999999985,
          -204.59999999999923,
          -126.20000000000005,
          -149.20000000000044,
          -180.59999999999974,
          -140.59999999999917,
          -143.99999999999977,
          -108.20000000000078,
          -100.20000000000095,
          -101.20000000000147,
          -82.40000000000265,
          -92.80000000000257,
          -33.10000000000173,
          -76.80000000000149,
          28.199999999998226,
          102.19999999999771,
          83.79999999999797,
          67.4999999999983,
          70.1999999999984,
          67.39999999999924,
          50.79999999999956,
          15.59999999999917,
          56.69999999999931,
          30.400000000000205,
          23.700000000000898,
          7.000000000000739,
          147.40000000000038,
          150.60000000000002,
          118.59999999999928,
          159.49999999999847,
          159.49999999999847,
          244.79999999999933,
          205.70000000000022,
          178.60000000000014,
          173.49999999999994,
          172.7000000000004,
          145.40000000000077,
          132.8000000000003,
          195.6000000000003,
          266.6000000000011,
          249.7000000000014,
          231.00000000000165,
          227.4000000000015,
          215.6000000000006,
          298.79999999999995,
          282.99999999999983,
          229.29999999999922,
          210.59999999999945,
          207.69999999999982,
          265.8000000000001,
          270.4000000000008,
          270.6000000000003,
          264.99999999999915,
          262.9999999999981,
          258.9999999999975,
          245.29999999999745,
          242.69999999999783,
          297.8999999999985,
          288.1999999999991,
          268.8999999999993,
          268.8999999999993,
          263.6999999999986,
          406.79999999999836,
          414.3999999999991,
          541.1000000000001,
          685.6999999999999,
          664.0999999999991,
          667.5999999999988,
          653.4999999999982,
          616.1999999999978,
          622.3999999999976,
          624.9999999999973,
          598.9999999999968,
          588.399999999996,
          564.0999999999951,
          524.499999999995,
          498.99999999999545,
          509.9999999999954,
          506.9999999999953,
          535.2999999999954,
          524.8999999999955,
          516.1999999999953,
          545.6999999999955,
          499.59999999999565,
          497.9999999999951,
          492.2999999999949,
          498.89999999999515,
          484.79999999999603,
          453.39999999999674,
          441.9999999999963,
          440.5999999999953,
          455.3999999999949,
          440.1999999999948,
          408.29999999999455,
          440.5999999999939,
          437.7999999999933,
          426.3999999999929,
          421.39999999999316,
          410.59999999999417,
          380.29999999999444,
          459.0999999999941,
          413.4999999999938,
          364.99999999999386,
          421.1999999999936,
          398.1999999999932,
          472.9999999999937,
          437.59999999999377,
          466.99999999999346,
          438.8999999999929,
          406.5999999999921,
          399.5999999999914,
          401.599999999991,
          414.59999999999053,
          462.19999999999044,
          450.0999999999909,
          488.799999999991,
          494.29999999999166,
          468.7999999999921,
          455.49999999999255,
          458.0999999999936,
          448.6999999999942,
          663.9999999999948,
          638.9999999999948,
          637.9999999999943,
          612.1999999999948,
          602.3999999999949,
          582.7999999999951,
          675.7999999999957,
          673.1999999999962,
          667.099999999997,
          655.2999999999975,
          665.9999999999974,
          642.8999999999979,
          619.999999999998,
          587.4999999999977,
          542.9999999999984,
          540.5999999999983,
          497.79999999999717,
          488.99999999999636,
          469.9999999999966,
          451.7999999999964,
          460.3999999999962,
          455.799999999997,
          421.3999999999976,
          410.99999999999767
         ]
        }
       ],
       "layout": {
        "font": {
         "color": "#e1e1e1",
         "size": 10
        },
        "height": 400,
        "margin": {
         "b": 10,
         "l": 15,
         "r": 15
        },
        "paper_bgcolor": "#1e1e1e",
        "plot_bgcolor": "#1e1e1e",
        "template": {
         "data": {
          "bar": [
           {
            "error_x": {
             "color": "#2a3f5f"
            },
            "error_y": {
             "color": "#2a3f5f"
            },
            "marker": {
             "line": {
              "color": "#E5ECF6",
              "width": 0.5
             },
             "pattern": {
              "fillmode": "overlay",
              "size": 10,
              "solidity": 0.2
             }
            },
            "type": "bar"
           }
          ],
          "barpolar": [
           {
            "marker": {
             "line": {
              "color": "#E5ECF6",
              "width": 0.5
             },
             "pattern": {
              "fillmode": "overlay",
              "size": 10,
              "solidity": 0.2
             }
            },
            "type": "barpolar"
           }
          ],
          "carpet": [
           {
            "aaxis": {
             "endlinecolor": "#2a3f5f",
             "gridcolor": "white",
             "linecolor": "white",
             "minorgridcolor": "white",
             "startlinecolor": "#2a3f5f"
            },
            "baxis": {
             "endlinecolor": "#2a3f5f",
             "gridcolor": "white",
             "linecolor": "white",
             "minorgridcolor": "white",
             "startlinecolor": "#2a3f5f"
            },
            "type": "carpet"
           }
          ],
          "choropleth": [
           {
            "colorbar": {
             "outlinewidth": 0,
             "ticks": ""
            },
            "type": "choropleth"
           }
          ],
          "contour": [
           {
            "colorbar": {
             "outlinewidth": 0,
             "ticks": ""
            },
            "colorscale": [
             [
              0,
              "#0d0887"
             ],
             [
              0.1111111111111111,
              "#46039f"
             ],
             [
              0.2222222222222222,
              "#7201a8"
             ],
             [
              0.3333333333333333,
              "#9c179e"
             ],
             [
              0.4444444444444444,
              "#bd3786"
             ],
             [
              0.5555555555555556,
              "#d8576b"
             ],
             [
              0.6666666666666666,
              "#ed7953"
             ],
             [
              0.7777777777777778,
              "#fb9f3a"
             ],
             [
              0.8888888888888888,
              "#fdca26"
             ],
             [
              1,
              "#f0f921"
             ]
            ],
            "type": "contour"
           }
          ],
          "contourcarpet": [
           {
            "colorbar": {
             "outlinewidth": 0,
             "ticks": ""
            },
            "type": "contourcarpet"
           }
          ],
          "heatmap": [
           {
            "colorbar": {
             "outlinewidth": 0,
             "ticks": ""
            },
            "colorscale": [
             [
              0,
              "#0d0887"
             ],
             [
              0.1111111111111111,
              "#46039f"
             ],
             [
              0.2222222222222222,
              "#7201a8"
             ],
             [
              0.3333333333333333,
              "#9c179e"
             ],
             [
              0.4444444444444444,
              "#bd3786"
             ],
             [
              0.5555555555555556,
              "#d8576b"
             ],
             [
              0.6666666666666666,
              "#ed7953"
             ],
             [
              0.7777777777777778,
              "#fb9f3a"
             ],
             [
              0.8888888888888888,
              "#fdca26"
             ],
             [
              1,
              "#f0f921"
             ]
            ],
            "type": "heatmap"
           }
          ],
          "heatmapgl": [
           {
            "colorbar": {
             "outlinewidth": 0,
             "ticks": ""
            },
            "colorscale": [
             [
              0,
              "#0d0887"
             ],
             [
              0.1111111111111111,
              "#46039f"
             ],
             [
              0.2222222222222222,
              "#7201a8"
             ],
             [
              0.3333333333333333,
              "#9c179e"
             ],
             [
              0.4444444444444444,
              "#bd3786"
             ],
             [
              0.5555555555555556,
              "#d8576b"
             ],
             [
              0.6666666666666666,
              "#ed7953"
             ],
             [
              0.7777777777777778,
              "#fb9f3a"
             ],
             [
              0.8888888888888888,
              "#fdca26"
             ],
             [
              1,
              "#f0f921"
             ]
            ],
            "type": "heatmapgl"
           }
          ],
          "histogram": [
           {
            "marker": {
             "pattern": {
              "fillmode": "overlay",
              "size": 10,
              "solidity": 0.2
             }
            },
            "type": "histogram"
           }
          ],
          "histogram2d": [
           {
            "colorbar": {
             "outlinewidth": 0,
             "ticks": ""
            },
            "colorscale": [
             [
              0,
              "#0d0887"
             ],
             [
              0.1111111111111111,
              "#46039f"
             ],
             [
              0.2222222222222222,
              "#7201a8"
             ],
             [
              0.3333333333333333,
              "#9c179e"
             ],
             [
              0.4444444444444444,
              "#bd3786"
             ],
             [
              0.5555555555555556,
              "#d8576b"
             ],
             [
              0.6666666666666666,
              "#ed7953"
             ],
             [
              0.7777777777777778,
              "#fb9f3a"
             ],
             [
              0.8888888888888888,
              "#fdca26"
             ],
             [
              1,
              "#f0f921"
             ]
            ],
            "type": "histogram2d"
           }
          ],
          "histogram2dcontour": [
           {
            "colorbar": {
             "outlinewidth": 0,
             "ticks": ""
            },
            "colorscale": [
             [
              0,
              "#0d0887"
             ],
             [
              0.1111111111111111,
              "#46039f"
             ],
             [
              0.2222222222222222,
              "#7201a8"
             ],
             [
              0.3333333333333333,
              "#9c179e"
             ],
             [
              0.4444444444444444,
              "#bd3786"
             ],
             [
              0.5555555555555556,
              "#d8576b"
             ],
             [
              0.6666666666666666,
              "#ed7953"
             ],
             [
              0.7777777777777778,
              "#fb9f3a"
             ],
             [
              0.8888888888888888,
              "#fdca26"
             ],
             [
              1,
              "#f0f921"
             ]
            ],
            "type": "histogram2dcontour"
           }
          ],
          "mesh3d": [
           {
            "colorbar": {
             "outlinewidth": 0,
             "ticks": ""
            },
            "type": "mesh3d"
           }
          ],
          "parcoords": [
           {
            "line": {
             "colorbar": {
              "outlinewidth": 0,
              "ticks": ""
             }
            },
            "type": "parcoords"
           }
          ],
          "pie": [
           {
            "automargin": true,
            "type": "pie"
           }
          ],
          "scatter": [
           {
            "marker": {
             "colorbar": {
              "outlinewidth": 0,
              "ticks": ""
             }
            },
            "type": "scatter"
           }
          ],
          "scatter3d": [
           {
            "line": {
             "colorbar": {
              "outlinewidth": 0,
              "ticks": ""
             }
            },
            "marker": {
             "colorbar": {
              "outlinewidth": 0,
              "ticks": ""
             }
            },
            "type": "scatter3d"
           }
          ],
          "scattercarpet": [
           {
            "marker": {
             "colorbar": {
              "outlinewidth": 0,
              "ticks": ""
             }
            },
            "type": "scattercarpet"
           }
          ],
          "scattergeo": [
           {
            "marker": {
             "colorbar": {
              "outlinewidth": 0,
              "ticks": ""
             }
            },
            "type": "scattergeo"
           }
          ],
          "scattergl": [
           {
            "marker": {
             "colorbar": {
              "outlinewidth": 0,
              "ticks": ""
             }
            },
            "type": "scattergl"
           }
          ],
          "scattermapbox": [
           {
            "marker": {
             "colorbar": {
              "outlinewidth": 0,
              "ticks": ""
             }
            },
            "type": "scattermapbox"
           }
          ],
          "scatterpolar": [
           {
            "marker": {
             "colorbar": {
              "outlinewidth": 0,
              "ticks": ""
             }
            },
            "type": "scatterpolar"
           }
          ],
          "scatterpolargl": [
           {
            "marker": {
             "colorbar": {
              "outlinewidth": 0,
              "ticks": ""
             }
            },
            "type": "scatterpolargl"
           }
          ],
          "scatterternary": [
           {
            "marker": {
             "colorbar": {
              "outlinewidth": 0,
              "ticks": ""
             }
            },
            "type": "scatterternary"
           }
          ],
          "surface": [
           {
            "colorbar": {
             "outlinewidth": 0,
             "ticks": ""
            },
            "colorscale": [
             [
              0,
              "#0d0887"
             ],
             [
              0.1111111111111111,
              "#46039f"
             ],
             [
              0.2222222222222222,
              "#7201a8"
             ],
             [
              0.3333333333333333,
              "#9c179e"
             ],
             [
              0.4444444444444444,
              "#bd3786"
             ],
             [
              0.5555555555555556,
              "#d8576b"
             ],
             [
              0.6666666666666666,
              "#ed7953"
             ],
             [
              0.7777777777777778,
              "#fb9f3a"
             ],
             [
              0.8888888888888888,
              "#fdca26"
             ],
             [
              1,
              "#f0f921"
             ]
            ],
            "type": "surface"
           }
          ],
          "table": [
           {
            "cells": {
             "fill": {
              "color": "#EBF0F8"
             },
             "line": {
              "color": "white"
             }
            },
            "header": {
             "fill": {
              "color": "#C8D4E3"
             },
             "line": {
              "color": "white"
             }
            },
            "type": "table"
           }
          ]
         },
         "layout": {
          "annotationdefaults": {
           "arrowcolor": "#2a3f5f",
           "arrowhead": 0,
           "arrowwidth": 1
          },
          "autotypenumbers": "strict",
          "coloraxis": {
           "colorbar": {
            "outlinewidth": 0,
            "ticks": ""
           }
          },
          "colorscale": {
           "diverging": [
            [
             0,
             "#8e0152"
            ],
            [
             0.1,
             "#c51b7d"
            ],
            [
             0.2,
             "#de77ae"
            ],
            [
             0.3,
             "#f1b6da"
            ],
            [
             0.4,
             "#fde0ef"
            ],
            [
             0.5,
             "#f7f7f7"
            ],
            [
             0.6,
             "#e6f5d0"
            ],
            [
             0.7,
             "#b8e186"
            ],
            [
             0.8,
             "#7fbc41"
            ],
            [
             0.9,
             "#4d9221"
            ],
            [
             1,
             "#276419"
            ]
           ],
           "sequential": [
            [
             0,
             "#0d0887"
            ],
            [
             0.1111111111111111,
             "#46039f"
            ],
            [
             0.2222222222222222,
             "#7201a8"
            ],
            [
             0.3333333333333333,
             "#9c179e"
            ],
            [
             0.4444444444444444,
             "#bd3786"
            ],
            [
             0.5555555555555556,
             "#d8576b"
            ],
            [
             0.6666666666666666,
             "#ed7953"
            ],
            [
             0.7777777777777778,
             "#fb9f3a"
            ],
            [
             0.8888888888888888,
             "#fdca26"
            ],
            [
             1,
             "#f0f921"
            ]
           ],
           "sequentialminus": [
            [
             0,
             "#0d0887"
            ],
            [
             0.1111111111111111,
             "#46039f"
            ],
            [
             0.2222222222222222,
             "#7201a8"
            ],
            [
             0.3333333333333333,
             "#9c179e"
            ],
            [
             0.4444444444444444,
             "#bd3786"
            ],
            [
             0.5555555555555556,
             "#d8576b"
            ],
            [
             0.6666666666666666,
             "#ed7953"
            ],
            [
             0.7777777777777778,
             "#fb9f3a"
            ],
            [
             0.8888888888888888,
             "#fdca26"
            ],
            [
             1,
             "#f0f921"
            ]
           ]
          },
          "colorway": [
           "#636efa",
           "#EF553B",
           "#00cc96",
           "#ab63fa",
           "#FFA15A",
           "#19d3f3",
           "#FF6692",
           "#B6E880",
           "#FF97FF",
           "#FECB52"
          ],
          "font": {
           "color": "#2a3f5f"
          },
          "geo": {
           "bgcolor": "white",
           "lakecolor": "white",
           "landcolor": "#E5ECF6",
           "showlakes": true,
           "showland": true,
           "subunitcolor": "white"
          },
          "hoverlabel": {
           "align": "left"
          },
          "hovermode": "closest",
          "mapbox": {
           "style": "light"
          },
          "paper_bgcolor": "white",
          "plot_bgcolor": "#E5ECF6",
          "polar": {
           "angularaxis": {
            "gridcolor": "white",
            "linecolor": "white",
            "ticks": ""
           },
           "bgcolor": "#E5ECF6",
           "radialaxis": {
            "gridcolor": "white",
            "linecolor": "white",
            "ticks": ""
           }
          },
          "scene": {
           "xaxis": {
            "backgroundcolor": "#E5ECF6",
            "gridcolor": "white",
            "gridwidth": 2,
            "linecolor": "white",
            "showbackground": true,
            "ticks": "",
            "zerolinecolor": "white"
           },
           "yaxis": {
            "backgroundcolor": "#E5ECF6",
            "gridcolor": "white",
            "gridwidth": 2,
            "linecolor": "white",
            "showbackground": true,
            "ticks": "",
            "zerolinecolor": "white"
           },
           "zaxis": {
            "backgroundcolor": "#E5ECF6",
            "gridcolor": "white",
            "gridwidth": 2,
            "linecolor": "white",
            "showbackground": true,
            "ticks": "",
            "zerolinecolor": "white"
           }
          },
          "shapedefaults": {
           "line": {
            "color": "#2a3f5f"
           }
          },
          "ternary": {
           "aaxis": {
            "gridcolor": "white",
            "linecolor": "white",
            "ticks": ""
           },
           "baxis": {
            "gridcolor": "white",
            "linecolor": "white",
            "ticks": ""
           },
           "bgcolor": "#E5ECF6",
           "caxis": {
            "gridcolor": "white",
            "linecolor": "white",
            "ticks": ""
           }
          },
          "title": {
           "x": 0.05
          },
          "xaxis": {
           "automargin": true,
           "gridcolor": "white",
           "linecolor": "white",
           "ticks": "",
           "title": {
            "standoff": 15
           },
           "zerolinecolor": "white",
           "zerolinewidth": 2
          },
          "yaxis": {
           "automargin": true,
           "gridcolor": "white",
           "linecolor": "white",
           "ticks": "",
           "title": {
            "standoff": 15
           },
           "zerolinecolor": "white",
           "zerolinewidth": 2
          }
         }
        },
        "title": {
         "text": "CAD_JPY_MA_8_16"
        },
        "width": 1000,
        "xaxis": {
         "linecolor": "#3a4a54",
         "linewidth": 1,
         "showgrid": false,
         "zeroline": false
        },
        "yaxis": {
         "linecolor": "#3a4a54",
         "linewidth": 1,
         "showgrid": false,
         "zeroline": false
        }
       }
      }
     },
     "metadata": {},
     "output_type": "display_data"
    },
    {
     "data": {
      "application/vnd.plotly.v1+json": {
       "config": {
        "plotlyServerURL": "https://plot.ly"
       },
       "data": [
        {
         "line": {
          "color": "#3d825f",
          "shape": "spline",
          "width": 2
         },
         "mode": "lines",
         "name": "USD_JPY_MA_8_16",
         "type": "scatter",
         "x": [
          "2021-03-11T04:00:00+00:00",
          "2021-03-11T14:00:00+00:00",
          "2021-03-12T00:00:00+00:00",
          "2021-03-12T21:00:00+00:00",
          "2021-03-14T23:00:00+00:00",
          "2021-03-15T14:00:00+00:00",
          "2021-03-15T18:00:00+00:00",
          "2021-03-15T19:00:00+00:00",
          "2021-03-15T23:00:00+00:00",
          "2021-03-16T00:00:00+00:00",
          "2021-03-16T01:00:00+00:00",
          "2021-03-16T02:00:00+00:00",
          "2021-03-16T12:00:00+00:00",
          "2021-03-17T01:00:00+00:00",
          "2021-03-17T19:00:00+00:00",
          "2021-03-18T07:00:00+00:00",
          "2021-03-18T20:00:00+00:00",
          "2021-03-19T16:00:00+00:00",
          "2021-03-21T23:00:00+00:00",
          "2021-03-22T17:00:00+00:00",
          "2021-03-23T05:00:00+00:00",
          "2021-03-23T21:00:00+00:00",
          "2021-03-24T01:00:00+00:00",
          "2021-03-24T10:00:00+00:00",
          "2021-03-25T00:00:00+00:00",
          "2021-03-25T02:00:00+00:00",
          "2021-03-29T02:00:00+00:00",
          "2021-03-29T13:00:00+00:00",
          "2021-03-31T14:00:00+00:00",
          "2021-03-31T22:00:00+00:00",
          "2021-04-01T07:00:00+00:00",
          "2021-04-01T10:00:00+00:00",
          "2021-04-01T16:00:00+00:00",
          "2021-04-02T16:00:00+00:00",
          "2021-04-05T02:00:00+00:00",
          "2021-04-06T03:00:00+00:00",
          "2021-04-06T14:00:00+00:00",
          "2021-04-07T09:00:00+00:00",
          "2021-04-07T16:00:00+00:00",
          "2021-04-07T23:00:00+00:00",
          "2021-04-08T06:00:00+00:00",
          "2021-04-09T00:00:00+00:00",
          "2021-04-11T21:00:00+00:00",
          "2021-04-12T22:00:00+00:00",
          "2021-04-13T11:00:00+00:00",
          "2021-04-14T11:00:00+00:00",
          "2021-04-14T21:00:00+00:00",
          "2021-04-16T02:00:00+00:00",
          "2021-04-16T15:00:00+00:00",
          "2021-04-19T22:00:00+00:00",
          "2021-04-20T17:00:00+00:00",
          "2021-04-21T10:00:00+00:00",
          "2021-04-21T19:00:00+00:00",
          "2021-04-22T12:00:00+00:00",
          "2021-04-22T23:00:00+00:00",
          "2021-04-23T19:00:00+00:00",
          "2021-04-26T02:00:00+00:00",
          "2021-04-26T12:00:00+00:00",
          "2021-04-28T15:00:00+00:00",
          "2021-04-29T08:00:00+00:00",
          "2021-04-29T21:00:00+00:00",
          "2021-04-30T12:00:00+00:00",
          "2021-05-03T14:00:00+00:00",
          "2021-05-04T03:00:00+00:00",
          "2021-05-04T16:00:00+00:00",
          "2021-05-04T22:00:00+00:00",
          "2021-05-05T14:00:00+00:00",
          "2021-05-06T03:00:00+00:00",
          "2021-05-06T11:00:00+00:00",
          "2021-05-07T05:00:00+00:00",
          "2021-05-07T12:00:00+00:00",
          "2021-05-10T03:00:00+00:00",
          "2021-05-10T14:00:00+00:00",
          "2021-05-10T22:00:00+00:00",
          "2021-05-11T11:00:00+00:00",
          "2021-05-12T00:00:00+00:00",
          "2021-05-13T07:00:00+00:00",
          "2021-05-13T09:00:00+00:00",
          "2021-05-13T11:00:00+00:00",
          "2021-05-14T03:00:00+00:00",
          "2021-05-14T08:00:00+00:00",
          "2021-05-14T20:00:00+00:00",
          "2021-05-17T01:00:00+00:00",
          "2021-05-17T04:00:00+00:00",
          "2021-05-17T06:00:00+00:00",
          "2021-05-18T00:00:00+00:00",
          "2021-05-18T07:00:00+00:00",
          "2021-05-19T02:00:00+00:00",
          "2021-05-19T15:00:00+00:00",
          "2021-05-19T22:00:00+00:00",
          "2021-05-20T07:00:00+00:00",
          "2021-05-21T03:00:00+00:00",
          "2021-05-21T07:00:00+00:00",
          "2021-05-21T16:00:00+00:00",
          "2021-05-24T04:00:00+00:00",
          "2021-05-24T15:00:00+00:00",
          "2021-05-24T17:00:00+00:00",
          "2021-05-25T11:00:00+00:00",
          "2021-05-25T21:00:00+00:00",
          "2021-05-26T07:00:00+00:00",
          "2021-05-27T05:00:00+00:00",
          "2021-05-27T11:00:00+00:00",
          "2021-05-28T20:00:00+00:00",
          "2021-06-01T10:00:00+00:00",
          "2021-06-01T18:00:00+00:00",
          "2021-06-02T02:00:00+00:00",
          "2021-06-02T17:00:00+00:00",
          "2021-06-03T03:00:00+00:00",
          "2021-06-04T05:00:00+00:00",
          "2021-06-07T03:00:00+00:00",
          "2021-06-07T07:00:00+00:00",
          "2021-06-08T01:00:00+00:00",
          "2021-06-08T17:00:00+00:00",
          "2021-06-08T20:00:00+00:00",
          "2021-06-09T04:00:00+00:00",
          "2021-06-09T15:00:00+00:00",
          "2021-06-10T05:00:00+00:00",
          "2021-06-10T16:00:00+00:00",
          "2021-06-10T17:00:00+00:00",
          "2021-06-10T18:00:00+00:00",
          "2021-06-10T19:00:00+00:00",
          "2021-06-11T06:00:00+00:00",
          "2021-06-14T10:00:00+00:00",
          "2021-06-14T14:00:00+00:00",
          "2021-06-15T20:00:00+00:00",
          "2021-06-16T05:00:00+00:00",
          "2021-06-16T07:00:00+00:00",
          "2021-06-16T19:00:00+00:00",
          "2021-06-17T09:00:00+00:00",
          "2021-06-18T15:00:00+00:00",
          "2021-06-20T23:00:00+00:00",
          "2021-06-21T13:00:00+00:00",
          "2021-06-23T18:00:00+00:00",
          "2021-06-23T20:00:00+00:00",
          "2021-06-24T07:00:00+00:00",
          "2021-06-24T20:00:00+00:00",
          "2021-06-25T06:00:00+00:00",
          "2021-06-25T20:00:00+00:00",
          "2021-06-28T03:00:00+00:00",
          "2021-06-28T12:00:00+00:00",
          "2021-06-28T18:00:00+00:00",
          "2021-06-29T10:00:00+00:00",
          "2021-06-29T17:00:00+00:00",
          "2021-06-30T12:00:00+00:00",
          "2021-07-02T09:00:00+00:00",
          "2021-07-05T20:00:00+00:00",
          "2021-07-06T03:00:00+00:00",
          "2021-07-07T09:00:00+00:00",
          "2021-07-07T18:00:00+00:00",
          "2021-07-08T22:00:00+00:00",
          "2021-07-12T07:00:00+00:00",
          "2021-07-12T13:00:00+00:00",
          "2021-07-13T10:00:00+00:00",
          "2021-07-13T17:00:00+00:00",
          "2021-07-14T06:00:00+00:00",
          "2021-07-15T14:00:00+00:00",
          "2021-07-15T22:00:00+00:00",
          "2021-07-16T05:00:00+00:00",
          "2021-07-16T20:00:00+00:00",
          "2021-07-20T01:00:00+00:00",
          "2021-07-22T02:00:00+00:00",
          "2021-07-22T11:00:00+00:00",
          "2021-07-22T17:00:00+00:00",
          "2021-07-23T02:00:00+00:00",
          "2021-07-26T02:00:00+00:00",
          "2021-07-26T16:00:00+00:00",
          "2021-07-27T02:00:00+00:00",
          "2021-07-28T03:00:00+00:00",
          "2021-07-28T21:00:00+00:00",
          "2021-07-29T13:00:00+00:00",
          "2021-07-29T15:00:00+00:00",
          "2021-07-30T06:00:00+00:00",
          "2021-08-02T01:00:00+00:00",
          "2021-08-04T08:00:00+00:00",
          "2021-08-05T11:00:00+00:00",
          "2021-08-05T17:00:00+00:00",
          "2021-08-06T10:00:00+00:00",
          "2021-08-06T12:00:00+00:00",
          "2021-08-09T04:00:00+00:00",
          "2021-08-09T17:00:00+00:00",
          "2021-08-11T14:00:00+00:00",
          "2021-08-12T10:00:00+00:00",
          "2021-08-12T20:00:00+00:00",
          "2021-08-12T23:00:00+00:00",
          "2021-08-13T00:00:00+00:00",
          "2021-08-13T01:00:00+00:00",
          "2021-08-13T02:00:00+00:00",
          "2021-08-13T05:00:00+00:00",
          "2021-08-13T06:00:00+00:00",
          "2021-08-17T02:00:00+00:00",
          "2021-08-18T05:00:00+00:00",
          "2021-08-18T07:00:00+00:00",
          "2021-08-19T01:00:00+00:00",
          "2021-08-19T02:00:00+00:00",
          "2021-08-19T10:00:00+00:00",
          "2021-08-19T20:00:00+00:00",
          "2021-08-20T04:00:00+00:00",
          "2021-08-20T15:00:00+00:00",
          "2021-08-23T17:00:00+00:00",
          "2021-08-24T05:00:00+00:00",
          "2021-08-24T13:00:00+00:00",
          "2021-08-24T23:00:00+00:00",
          "2021-08-26T02:00:00+00:00",
          "2021-08-26T07:00:00+00:00",
          "2021-08-26T19:00:00+00:00",
          "2021-08-27T10:00:00+00:00",
          "2021-08-27T17:00:00+00:00",
          "2021-08-30T11:00:00+00:00",
          "2021-08-31T02:00:00+00:00",
          "2021-08-31T15:00:00+00:00",
          "2021-09-01T15:00:00+00:00",
          "2021-09-02T03:00:00+00:00",
          "2021-09-02T05:00:00+00:00",
          "2021-09-03T05:00:00+00:00",
          "2021-09-03T12:00:00+00:00",
          "2021-09-06T02:00:00+00:00",
          "2021-09-06T18:00:00+00:00",
          "2021-09-07T08:00:00+00:00",
          "2021-09-08T12:00:00+00:00",
          "2021-09-08T20:00:00+00:00",
          "2021-09-08T23:00:00+00:00",
          "2021-09-10T03:00:00+00:00",
          "2021-09-10T18:00:00+00:00",
          "2021-09-13T01:00:00+00:00",
          "2021-09-13T17:00:00+00:00",
          "2021-09-14T01:00:00+00:00",
          "2021-09-14T13:00:00+00:00",
          "2021-09-15T21:00:00+00:00",
          "2021-09-16T02:00:00+00:00",
          "2021-09-16T11:00:00+00:00",
          "2021-09-17T20:00:00+00:00",
          "2021-09-21T03:00:00+00:00",
          "2021-09-21T12:00:00+00:00",
          "2021-09-22T03:00:00+00:00",
          "2021-09-27T03:00:00+00:00",
          "2021-09-27T10:00:00+00:00",
          "2021-09-29T07:00:00+00:00",
          "2021-09-29T15:00:00+00:00",
          "2021-09-30T05:00:00+00:00",
          "2021-09-30T10:00:00+00:00",
          "2021-09-30T14:00:00+00:00",
          "2021-10-04T03:00:00+00:00",
          "2021-10-04T04:00:00+00:00",
          "2021-10-04T05:00:00+00:00",
          "2021-10-04T16:00:00+00:00",
          "2021-10-05T02:00:00+00:00",
          "2021-10-06T12:00:00+00:00",
          "2021-10-06T23:00:00+00:00",
          "2021-10-07T07:00:00+00:00",
          "2021-10-07T08:00:00+00:00",
          "2021-10-07T09:00:00+00:00",
          "2021-10-07T15:00:00+00:00",
          "2021-10-12T06:00:00+00:00",
          "2021-10-12T13:00:00+00:00",
          "2021-10-13T01:00:00+00:00",
          "2021-10-13T11:00:00+00:00",
          "2021-10-13T17:00:00+00:00",
          "2021-10-14T04:00:00+00:00",
          "2021-10-14T13:00:00+00:00",
          "2021-10-14T15:00:00+00:00",
          "2021-10-15T20:00:00+00:00",
          "2021-10-18T04:00:00+00:00",
          "2021-10-18T07:00:00+00:00",
          "2021-10-18T08:00:00+00:00",
          "2021-10-18T16:00:00+00:00",
          "2021-10-19T01:00:00+00:00",
          "2021-10-19T03:00:00+00:00",
          "2021-10-19T15:00:00+00:00",
          "2021-10-20T11:00:00+00:00",
          "2021-10-21T00:00:00+00:00",
          "2021-10-21T06:00:00+00:00",
          "2021-10-22T00:00:00+00:00",
          "2021-10-22T09:00:00+00:00",
          "2021-10-25T03:00:00+00:00",
          "2021-10-27T02:00:00+00:00",
          "2021-10-27T21:00:00+00:00"
         ],
         "y": [
          1.300000000000523,
          2.000000000001023,
          42.50000000000114,
          33.10000000000173,
          39.500000000002444,
          43.0000000000021,
          39.00000000000148,
          36.80000000000092,
          47.2999999999999,
          50.499999999999545,
          52.10000000000008,
          73.10000000000088,
          60.09999999999991,
          34.499999999999886,
          1.8000000000000682,
          -30.500000000000682,
          -29.50000000000159,
          -29.700000000002547,
          -18.10000000000258,
          -19.300000000002626,
          -6.300000000003081,
          -20.20000000000266,
          -45.700000000002206,
          -30.900000000002592,
          -34.10000000000366,
          23.09999999999519,
          -2.2000000000048203,
          75.99999999999625,
          50.399999999996226,
          41.49999999999636,
          30.899999999996908,
          9.99999999999659,
          -1.700000000003854,
          -14.900000000004354,
          5.799999999995009,
          -55.10000000000588,
          -60.70000000000704,
          -70.10000000000787,
          -84.40000000000794,
          -100.4000000000076,
          -56.70000000000783,
          -13.40000000000856,
          16.899999999991167,
          18.699999999991235,
          64.19999999999106,
          63.099999999990075,
          67.59999999998882,
          57.09999999998843,
          121.29999999998802,
          119.89999999998702,
          119.09999999998604,
          110.49999999998619,
          103.59999999998735,
          89.79999999998824,
          99.19999999998907,
          82.29999999998938,
          47.69999999998902,
          121.49999999998897,
          104.69999999998976,
          99.69999999999004,
          94.79999999998938,
          90.49999999998875,
          58.09999999998894,
          60.299999999989495,
          57.199999999988904,
          47.29999999998853,
          31.199999999988393,
          10.499999999987608,
          15.899999999987813,
          -37.300000000011835,
          -68.10000000001253,
          -84.10000000001361,
          -92.70000000001346,
          -114.70000000001335,
          -133.10000000001452,
          -44.20000000001494,
          -37.50000000001421,
          -35.600000000013665,
          -30.20000000001346,
          -58.60000000001264,
          -65.00000000001194,
          -65.10000000001241,
          -69.70000000001306,
          -88.70000000001284,
          -90.00000000001194,
          -114.70000000001193,
          -113.30000000001235,
          -132.4000000000126,
          -177.7000000000129,
          -201.0000000000133,
          -188.9000000000138,
          -205.20000000001346,
          -234.8000000000127,
          -249.50000000001182,
          -245.9000000000117,
          -250.00000000001137,
          -260.3000000000108,
          -270.30000000001024,
          -276.30000000000905,
          -251.70000000000812,
          -267.10000000000775,
          -204.40000000000822,
          -177.30000000000814,
          -193.70000000000687,
          -212.00000000000614,
          -216.10000000000582,
          -227.3000000000053,
          -167.70000000000493,
          -96.9000000000051,
          -111.10000000000468,
          -108.50000000000364,
          -99.10000000000281,
          -98.90000000000185,
          -99.90000000000094,
          -113.70000000000005,
          -120.29999999999887,
          -108.09999999999889,
          -107.89999999999935,
          -107.29999999999933,
          -118.09999999999974,
          -127.7000000000001,
          -101.69999999999959,
          -132.89999999999935,
          -125,
          -125.7000000000005,
          -138.70000000000147,
          -207.70000000000266,
          -201.70000000000385,
          -153.9000000000044,
          -154.90000000000492,
          -155.7000000000059,
          -80.30000000000683,
          -79.20000000000726,
          -86.60000000000707,
          -87.30000000000757,
          -99.10000000000849,
          -98.60000000000895,
          -111.80000000000945,
          -133.70000000001028,
          -165.30000000001053,
          -169.70000000001022,
          -174.90000000000947,
          -186.70000000000897,
          -101.50000000000858,
          -51.100000000008095,
          -66.00000000000819,
          -55.900000000008276,
          -68.3000000000078,
          15.899999999992076,
          42.89999999999168,
          14.099999999992008,
          3.799999999992565,
          -34.30000000000746,
          -49.400000000008504,
          -6.200000000009709,
          -27.200000000010505,
          -44.00000000001114,
          -34.500000000011255,
          23.499999999988574,
          87.8999999999877,
          75.69999999998771,
          69.69999999998748,
          66.29999999998688,
          78.49999999998687,
          82.99999999998704,
          72.49999999998664,
          114.29999999998586,
          128.19999999998544,
          146.09999999998564,
          124.69999999998578,
          118.49999999998602,
          129.19999999998595,
          181.09999999998507,
          204.49999999998454,
          170.4999999999842,
          176.49999999998442,
          147.8999999999843,
          157.89999999998372,
          152.1999999999835,
          171.89999999998378,
          174.49999999998482,
          174.2999999999853,
          177.89999999998543,
          179.6999999999855,
          179.49999999998454,
          176.49999999998442,
          175.29999999998438,
          172.1999999999838,
          282.49999999998323,
          315.9999999999826,
          314.9999999999821,
          364.09999999998206,
          359.79999999998284,
          310.49999999998334,
          299.8999999999839,
          298.39999999998383,
          296.4999999999833,
          293.29999999998364,
          284.09999999998377,
          263.999999999983,
          253.4999999999826,
          279.29999999998216,
          262.09999999998104,
          248.09999999998098,
          235.69999999998146,
          205.19999999998078,
          201.79999999998017,
          199.89999999997963,
          180.2999999999784,
          178.09999999997785,
          180.09999999997746,
          176.49999999997732,
          173.09999999997814,
          157.89999999997804,
          164.49999999997686,
          169.89999999997565,
          161.69999999997486,
          193.39999999997417,
          191.09999999997314,
          186.69999999997202,
          221.899999999971,
          225.49999999997112,
          221.99999999997146,
          229.19999999997174,
          222.5999999999729,
          196.59999999997382,
          241.2999999999741,
          231.0999999999737,
          218.19999999997322,
          273.39999999997247,
          305.5999999999713,
          271.4999999999705,
          252.69999999997026,
          362.6999999999697,
          329.4999999999689,
          368.89999999996945,
          316.0999999999703,
          318.4999999999704,
          300.09999999997063,
          254.09999999997126,
          305.49999999997226,
          303.6999999999736,
          302.0999999999745,
          282.8999999999752,
          259.09999999997524,
          283.0999999999747,
          276.999999999974,
          265.39999999997406,
          252.99999999997453,
          257.8999999999738,
          254.49999999997317,
          411.899999999973,
          369.6999999999733,
          359.8999999999734,
          344.9999999999733,
          327.89999999997406,
          310.8999999999739,
          312.799999999973,
          311.1999999999725,
          373.899999999972,
          360.29999999997244,
          355.3999999999732,
          348.0999999999739,
          333.69999999997475,
          334.4999999999757,
          327.7999999999764,
          314.5999999999759,
          326.3999999999754,
          338.2999999999754,
          307.8999999999752,
          294.6999999999747,
          268.6999999999742,
          290.49999999997453,
          330.29999999997557,
          351.1999999999759,
          325.39999999997633
         ]
        }
       ],
       "layout": {
        "font": {
         "color": "#e1e1e1",
         "size": 10
        },
        "height": 400,
        "margin": {
         "b": 10,
         "l": 15,
         "r": 15
        },
        "paper_bgcolor": "#1e1e1e",
        "plot_bgcolor": "#1e1e1e",
        "template": {
         "data": {
          "bar": [
           {
            "error_x": {
             "color": "#2a3f5f"
            },
            "error_y": {
             "color": "#2a3f5f"
            },
            "marker": {
             "line": {
              "color": "#E5ECF6",
              "width": 0.5
             },
             "pattern": {
              "fillmode": "overlay",
              "size": 10,
              "solidity": 0.2
             }
            },
            "type": "bar"
           }
          ],
          "barpolar": [
           {
            "marker": {
             "line": {
              "color": "#E5ECF6",
              "width": 0.5
             },
             "pattern": {
              "fillmode": "overlay",
              "size": 10,
              "solidity": 0.2
             }
            },
            "type": "barpolar"
           }
          ],
          "carpet": [
           {
            "aaxis": {
             "endlinecolor": "#2a3f5f",
             "gridcolor": "white",
             "linecolor": "white",
             "minorgridcolor": "white",
             "startlinecolor": "#2a3f5f"
            },
            "baxis": {
             "endlinecolor": "#2a3f5f",
             "gridcolor": "white",
             "linecolor": "white",
             "minorgridcolor": "white",
             "startlinecolor": "#2a3f5f"
            },
            "type": "carpet"
           }
          ],
          "choropleth": [
           {
            "colorbar": {
             "outlinewidth": 0,
             "ticks": ""
            },
            "type": "choropleth"
           }
          ],
          "contour": [
           {
            "colorbar": {
             "outlinewidth": 0,
             "ticks": ""
            },
            "colorscale": [
             [
              0,
              "#0d0887"
             ],
             [
              0.1111111111111111,
              "#46039f"
             ],
             [
              0.2222222222222222,
              "#7201a8"
             ],
             [
              0.3333333333333333,
              "#9c179e"
             ],
             [
              0.4444444444444444,
              "#bd3786"
             ],
             [
              0.5555555555555556,
              "#d8576b"
             ],
             [
              0.6666666666666666,
              "#ed7953"
             ],
             [
              0.7777777777777778,
              "#fb9f3a"
             ],
             [
              0.8888888888888888,
              "#fdca26"
             ],
             [
              1,
              "#f0f921"
             ]
            ],
            "type": "contour"
           }
          ],
          "contourcarpet": [
           {
            "colorbar": {
             "outlinewidth": 0,
             "ticks": ""
            },
            "type": "contourcarpet"
           }
          ],
          "heatmap": [
           {
            "colorbar": {
             "outlinewidth": 0,
             "ticks": ""
            },
            "colorscale": [
             [
              0,
              "#0d0887"
             ],
             [
              0.1111111111111111,
              "#46039f"
             ],
             [
              0.2222222222222222,
              "#7201a8"
             ],
             [
              0.3333333333333333,
              "#9c179e"
             ],
             [
              0.4444444444444444,
              "#bd3786"
             ],
             [
              0.5555555555555556,
              "#d8576b"
             ],
             [
              0.6666666666666666,
              "#ed7953"
             ],
             [
              0.7777777777777778,
              "#fb9f3a"
             ],
             [
              0.8888888888888888,
              "#fdca26"
             ],
             [
              1,
              "#f0f921"
             ]
            ],
            "type": "heatmap"
           }
          ],
          "heatmapgl": [
           {
            "colorbar": {
             "outlinewidth": 0,
             "ticks": ""
            },
            "colorscale": [
             [
              0,
              "#0d0887"
             ],
             [
              0.1111111111111111,
              "#46039f"
             ],
             [
              0.2222222222222222,
              "#7201a8"
             ],
             [
              0.3333333333333333,
              "#9c179e"
             ],
             [
              0.4444444444444444,
              "#bd3786"
             ],
             [
              0.5555555555555556,
              "#d8576b"
             ],
             [
              0.6666666666666666,
              "#ed7953"
             ],
             [
              0.7777777777777778,
              "#fb9f3a"
             ],
             [
              0.8888888888888888,
              "#fdca26"
             ],
             [
              1,
              "#f0f921"
             ]
            ],
            "type": "heatmapgl"
           }
          ],
          "histogram": [
           {
            "marker": {
             "pattern": {
              "fillmode": "overlay",
              "size": 10,
              "solidity": 0.2
             }
            },
            "type": "histogram"
           }
          ],
          "histogram2d": [
           {
            "colorbar": {
             "outlinewidth": 0,
             "ticks": ""
            },
            "colorscale": [
             [
              0,
              "#0d0887"
             ],
             [
              0.1111111111111111,
              "#46039f"
             ],
             [
              0.2222222222222222,
              "#7201a8"
             ],
             [
              0.3333333333333333,
              "#9c179e"
             ],
             [
              0.4444444444444444,
              "#bd3786"
             ],
             [
              0.5555555555555556,
              "#d8576b"
             ],
             [
              0.6666666666666666,
              "#ed7953"
             ],
             [
              0.7777777777777778,
              "#fb9f3a"
             ],
             [
              0.8888888888888888,
              "#fdca26"
             ],
             [
              1,
              "#f0f921"
             ]
            ],
            "type": "histogram2d"
           }
          ],
          "histogram2dcontour": [
           {
            "colorbar": {
             "outlinewidth": 0,
             "ticks": ""
            },
            "colorscale": [
             [
              0,
              "#0d0887"
             ],
             [
              0.1111111111111111,
              "#46039f"
             ],
             [
              0.2222222222222222,
              "#7201a8"
             ],
             [
              0.3333333333333333,
              "#9c179e"
             ],
             [
              0.4444444444444444,
              "#bd3786"
             ],
             [
              0.5555555555555556,
              "#d8576b"
             ],
             [
              0.6666666666666666,
              "#ed7953"
             ],
             [
              0.7777777777777778,
              "#fb9f3a"
             ],
             [
              0.8888888888888888,
              "#fdca26"
             ],
             [
              1,
              "#f0f921"
             ]
            ],
            "type": "histogram2dcontour"
           }
          ],
          "mesh3d": [
           {
            "colorbar": {
             "outlinewidth": 0,
             "ticks": ""
            },
            "type": "mesh3d"
           }
          ],
          "parcoords": [
           {
            "line": {
             "colorbar": {
              "outlinewidth": 0,
              "ticks": ""
             }
            },
            "type": "parcoords"
           }
          ],
          "pie": [
           {
            "automargin": true,
            "type": "pie"
           }
          ],
          "scatter": [
           {
            "marker": {
             "colorbar": {
              "outlinewidth": 0,
              "ticks": ""
             }
            },
            "type": "scatter"
           }
          ],
          "scatter3d": [
           {
            "line": {
             "colorbar": {
              "outlinewidth": 0,
              "ticks": ""
             }
            },
            "marker": {
             "colorbar": {
              "outlinewidth": 0,
              "ticks": ""
             }
            },
            "type": "scatter3d"
           }
          ],
          "scattercarpet": [
           {
            "marker": {
             "colorbar": {
              "outlinewidth": 0,
              "ticks": ""
             }
            },
            "type": "scattercarpet"
           }
          ],
          "scattergeo": [
           {
            "marker": {
             "colorbar": {
              "outlinewidth": 0,
              "ticks": ""
             }
            },
            "type": "scattergeo"
           }
          ],
          "scattergl": [
           {
            "marker": {
             "colorbar": {
              "outlinewidth": 0,
              "ticks": ""
             }
            },
            "type": "scattergl"
           }
          ],
          "scattermapbox": [
           {
            "marker": {
             "colorbar": {
              "outlinewidth": 0,
              "ticks": ""
             }
            },
            "type": "scattermapbox"
           }
          ],
          "scatterpolar": [
           {
            "marker": {
             "colorbar": {
              "outlinewidth": 0,
              "ticks": ""
             }
            },
            "type": "scatterpolar"
           }
          ],
          "scatterpolargl": [
           {
            "marker": {
             "colorbar": {
              "outlinewidth": 0,
              "ticks": ""
             }
            },
            "type": "scatterpolargl"
           }
          ],
          "scatterternary": [
           {
            "marker": {
             "colorbar": {
              "outlinewidth": 0,
              "ticks": ""
             }
            },
            "type": "scatterternary"
           }
          ],
          "surface": [
           {
            "colorbar": {
             "outlinewidth": 0,
             "ticks": ""
            },
            "colorscale": [
             [
              0,
              "#0d0887"
             ],
             [
              0.1111111111111111,
              "#46039f"
             ],
             [
              0.2222222222222222,
              "#7201a8"
             ],
             [
              0.3333333333333333,
              "#9c179e"
             ],
             [
              0.4444444444444444,
              "#bd3786"
             ],
             [
              0.5555555555555556,
              "#d8576b"
             ],
             [
              0.6666666666666666,
              "#ed7953"
             ],
             [
              0.7777777777777778,
              "#fb9f3a"
             ],
             [
              0.8888888888888888,
              "#fdca26"
             ],
             [
              1,
              "#f0f921"
             ]
            ],
            "type": "surface"
           }
          ],
          "table": [
           {
            "cells": {
             "fill": {
              "color": "#EBF0F8"
             },
             "line": {
              "color": "white"
             }
            },
            "header": {
             "fill": {
              "color": "#C8D4E3"
             },
             "line": {
              "color": "white"
             }
            },
            "type": "table"
           }
          ]
         },
         "layout": {
          "annotationdefaults": {
           "arrowcolor": "#2a3f5f",
           "arrowhead": 0,
           "arrowwidth": 1
          },
          "autotypenumbers": "strict",
          "coloraxis": {
           "colorbar": {
            "outlinewidth": 0,
            "ticks": ""
           }
          },
          "colorscale": {
           "diverging": [
            [
             0,
             "#8e0152"
            ],
            [
             0.1,
             "#c51b7d"
            ],
            [
             0.2,
             "#de77ae"
            ],
            [
             0.3,
             "#f1b6da"
            ],
            [
             0.4,
             "#fde0ef"
            ],
            [
             0.5,
             "#f7f7f7"
            ],
            [
             0.6,
             "#e6f5d0"
            ],
            [
             0.7,
             "#b8e186"
            ],
            [
             0.8,
             "#7fbc41"
            ],
            [
             0.9,
             "#4d9221"
            ],
            [
             1,
             "#276419"
            ]
           ],
           "sequential": [
            [
             0,
             "#0d0887"
            ],
            [
             0.1111111111111111,
             "#46039f"
            ],
            [
             0.2222222222222222,
             "#7201a8"
            ],
            [
             0.3333333333333333,
             "#9c179e"
            ],
            [
             0.4444444444444444,
             "#bd3786"
            ],
            [
             0.5555555555555556,
             "#d8576b"
            ],
            [
             0.6666666666666666,
             "#ed7953"
            ],
            [
             0.7777777777777778,
             "#fb9f3a"
            ],
            [
             0.8888888888888888,
             "#fdca26"
            ],
            [
             1,
             "#f0f921"
            ]
           ],
           "sequentialminus": [
            [
             0,
             "#0d0887"
            ],
            [
             0.1111111111111111,
             "#46039f"
            ],
            [
             0.2222222222222222,
             "#7201a8"
            ],
            [
             0.3333333333333333,
             "#9c179e"
            ],
            [
             0.4444444444444444,
             "#bd3786"
            ],
            [
             0.5555555555555556,
             "#d8576b"
            ],
            [
             0.6666666666666666,
             "#ed7953"
            ],
            [
             0.7777777777777778,
             "#fb9f3a"
            ],
            [
             0.8888888888888888,
             "#fdca26"
            ],
            [
             1,
             "#f0f921"
            ]
           ]
          },
          "colorway": [
           "#636efa",
           "#EF553B",
           "#00cc96",
           "#ab63fa",
           "#FFA15A",
           "#19d3f3",
           "#FF6692",
           "#B6E880",
           "#FF97FF",
           "#FECB52"
          ],
          "font": {
           "color": "#2a3f5f"
          },
          "geo": {
           "bgcolor": "white",
           "lakecolor": "white",
           "landcolor": "#E5ECF6",
           "showlakes": true,
           "showland": true,
           "subunitcolor": "white"
          },
          "hoverlabel": {
           "align": "left"
          },
          "hovermode": "closest",
          "mapbox": {
           "style": "light"
          },
          "paper_bgcolor": "white",
          "plot_bgcolor": "#E5ECF6",
          "polar": {
           "angularaxis": {
            "gridcolor": "white",
            "linecolor": "white",
            "ticks": ""
           },
           "bgcolor": "#E5ECF6",
           "radialaxis": {
            "gridcolor": "white",
            "linecolor": "white",
            "ticks": ""
           }
          },
          "scene": {
           "xaxis": {
            "backgroundcolor": "#E5ECF6",
            "gridcolor": "white",
            "gridwidth": 2,
            "linecolor": "white",
            "showbackground": true,
            "ticks": "",
            "zerolinecolor": "white"
           },
           "yaxis": {
            "backgroundcolor": "#E5ECF6",
            "gridcolor": "white",
            "gridwidth": 2,
            "linecolor": "white",
            "showbackground": true,
            "ticks": "",
            "zerolinecolor": "white"
           },
           "zaxis": {
            "backgroundcolor": "#E5ECF6",
            "gridcolor": "white",
            "gridwidth": 2,
            "linecolor": "white",
            "showbackground": true,
            "ticks": "",
            "zerolinecolor": "white"
           }
          },
          "shapedefaults": {
           "line": {
            "color": "#2a3f5f"
           }
          },
          "ternary": {
           "aaxis": {
            "gridcolor": "white",
            "linecolor": "white",
            "ticks": ""
           },
           "baxis": {
            "gridcolor": "white",
            "linecolor": "white",
            "ticks": ""
           },
           "bgcolor": "#E5ECF6",
           "caxis": {
            "gridcolor": "white",
            "linecolor": "white",
            "ticks": ""
           }
          },
          "title": {
           "x": 0.05
          },
          "xaxis": {
           "automargin": true,
           "gridcolor": "white",
           "linecolor": "white",
           "ticks": "",
           "title": {
            "standoff": 15
           },
           "zerolinecolor": "white",
           "zerolinewidth": 2
          },
          "yaxis": {
           "automargin": true,
           "gridcolor": "white",
           "linecolor": "white",
           "ticks": "",
           "title": {
            "standoff": 15
           },
           "zerolinecolor": "white",
           "zerolinewidth": 2
          }
         }
        },
        "title": {
         "text": "USD_JPY_MA_8_16"
        },
        "width": 1000,
        "xaxis": {
         "linecolor": "#3a4a54",
         "linewidth": 1,
         "showgrid": false,
         "zeroline": false
        },
        "yaxis": {
         "linecolor": "#3a4a54",
         "linewidth": 1,
         "showgrid": false,
         "zeroline": false
        }
       }
      }
     },
     "metadata": {},
     "output_type": "display_data"
    },
    {
     "data": {
      "application/vnd.plotly.v1+json": {
       "config": {
        "plotlyServerURL": "https://plot.ly"
       },
       "data": [
        {
         "line": {
          "color": "#3d825f",
          "shape": "spline",
          "width": 2
         },
         "mode": "lines",
         "name": "CHF_JPY_MA_8_16",
         "type": "scatter",
         "x": [
          "2021-03-10T12:00:00+00:00",
          "2021-03-11T04:00:00+00:00",
          "2021-03-12T09:00:00+00:00",
          "2021-03-12T19:00:00+00:00",
          "2021-03-15T13:00:00+00:00",
          "2021-03-15T15:00:00+00:00",
          "2021-03-16T14:00:00+00:00",
          "2021-03-16T21:00:00+00:00",
          "2021-03-17T08:00:00+00:00",
          "2021-03-17T20:00:00+00:00",
          "2021-03-18T08:00:00+00:00",
          "2021-03-19T03:00:00+00:00",
          "2021-03-19T08:00:00+00:00",
          "2021-03-21T23:00:00+00:00",
          "2021-03-22T01:00:00+00:00",
          "2021-03-22T11:00:00+00:00",
          "2021-03-23T05:00:00+00:00",
          "2021-03-24T14:00:00+00:00",
          "2021-03-24T23:00:00+00:00",
          "2021-03-25T00:00:00+00:00",
          "2021-03-25T01:00:00+00:00",
          "2021-03-25T02:00:00+00:00",
          "2021-03-25T17:00:00+00:00",
          "2021-03-26T05:00:00+00:00",
          "2021-03-29T04:00:00+00:00",
          "2021-03-29T12:00:00+00:00",
          "2021-03-30T19:00:00+00:00",
          "2021-03-30T22:00:00+00:00",
          "2021-03-31T15:00:00+00:00",
          "2021-04-01T15:00:00+00:00",
          "2021-04-02T05:00:00+00:00",
          "2021-04-02T14:00:00+00:00",
          "2021-04-05T00:00:00+00:00",
          "2021-04-05T14:00:00+00:00",
          "2021-04-06T06:00:00+00:00",
          "2021-04-06T13:00:00+00:00",
          "2021-04-07T21:00:00+00:00",
          "2021-04-08T18:00:00+00:00",
          "2021-04-09T06:00:00+00:00",
          "2021-04-09T08:00:00+00:00",
          "2021-04-12T03:00:00+00:00",
          "2021-04-12T14:00:00+00:00",
          "2021-04-13T07:00:00+00:00",
          "2021-04-13T18:00:00+00:00",
          "2021-04-14T01:00:00+00:00",
          "2021-04-14T09:00:00+00:00",
          "2021-04-14T10:00:00+00:00",
          "2021-04-15T20:00:00+00:00",
          "2021-04-16T20:00:00+00:00",
          "2021-04-19T11:00:00+00:00",
          "2021-04-19T20:00:00+00:00",
          "2021-04-20T02:00:00+00:00",
          "2021-04-20T16:00:00+00:00",
          "2021-04-21T20:00:00+00:00",
          "2021-04-22T05:00:00+00:00",
          "2021-04-22T06:00:00+00:00",
          "2021-04-22T17:00:00+00:00",
          "2021-04-23T08:00:00+00:00",
          "2021-04-26T05:00:00+00:00",
          "2021-04-26T16:00:00+00:00",
          "2021-04-27T06:00:00+00:00",
          "2021-04-27T10:00:00+00:00",
          "2021-04-28T07:00:00+00:00",
          "2021-04-28T13:00:00+00:00",
          "2021-04-30T04:00:00+00:00",
          "2021-04-30T05:00:00+00:00",
          "2021-04-30T06:00:00+00:00",
          "2021-04-30T16:00:00+00:00",
          "2021-04-30T17:00:00+00:00",
          "2021-05-03T01:00:00+00:00",
          "2021-05-03T15:00:00+00:00",
          "2021-05-04T13:00:00+00:00",
          "2021-05-05T08:00:00+00:00",
          "2021-05-05T16:00:00+00:00",
          "2021-05-06T00:00:00+00:00",
          "2021-05-06T04:00:00+00:00",
          "2021-05-07T12:00:00+00:00",
          "2021-05-07T15:00:00+00:00",
          "2021-05-10T20:00:00+00:00",
          "2021-05-11T04:00:00+00:00",
          "2021-05-11T08:00:00+00:00",
          "2021-05-12T07:00:00+00:00",
          "2021-05-12T08:00:00+00:00",
          "2021-05-12T12:00:00+00:00",
          "2021-05-17T06:00:00+00:00",
          "2021-05-18T06:00:00+00:00",
          "2021-05-18T21:00:00+00:00",
          "2021-05-19T05:00:00+00:00",
          "2021-05-19T08:00:00+00:00",
          "2021-05-20T03:00:00+00:00",
          "2021-05-20T04:00:00+00:00",
          "2021-05-20T10:00:00+00:00",
          "2021-05-21T10:00:00+00:00",
          "2021-05-21T19:00:00+00:00",
          "2021-05-24T06:00:00+00:00",
          "2021-05-24T14:00:00+00:00",
          "2021-05-24T22:00:00+00:00",
          "2021-05-25T04:00:00+00:00",
          "2021-05-25T19:00:00+00:00",
          "2021-05-26T03:00:00+00:00",
          "2021-05-26T17:00:00+00:00",
          "2021-05-27T02:00:00+00:00",
          "2021-05-27T03:00:00+00:00",
          "2021-05-27T05:00:00+00:00",
          "2021-05-27T09:00:00+00:00",
          "2021-05-27T10:00:00+00:00",
          "2021-05-27T12:00:00+00:00",
          "2021-05-27T14:00:00+00:00",
          "2021-05-28T06:00:00+00:00",
          "2021-05-31T22:00:00+00:00",
          "2021-06-01T05:00:00+00:00",
          "2021-06-01T11:00:00+00:00",
          "2021-06-02T02:00:00+00:00",
          "2021-06-02T03:00:00+00:00",
          "2021-06-02T11:00:00+00:00",
          "2021-06-02T20:00:00+00:00",
          "2021-06-03T10:00:00+00:00",
          "2021-06-03T22:00:00+00:00",
          "2021-06-04T05:00:00+00:00",
          "2021-06-04T19:00:00+00:00",
          "2021-06-04T20:00:00+00:00",
          "2021-06-07T00:00:00+00:00",
          "2021-06-07T07:00:00+00:00",
          "2021-06-07T18:00:00+00:00",
          "2021-06-08T23:00:00+00:00",
          "2021-06-09T08:00:00+00:00",
          "2021-06-10T03:00:00+00:00",
          "2021-06-10T15:00:00+00:00",
          "2021-06-10T22:00:00+00:00",
          "2021-06-11T04:00:00+00:00",
          "2021-06-11T11:00:00+00:00",
          "2021-06-14T01:00:00+00:00",
          "2021-06-14T08:00:00+00:00",
          "2021-06-14T15:00:00+00:00",
          "2021-06-15T16:00:00+00:00",
          "2021-06-15T20:00:00+00:00",
          "2021-06-16T04:00:00+00:00",
          "2021-06-21T12:00:00+00:00",
          "2021-06-22T05:00:00+00:00",
          "2021-06-22T13:00:00+00:00",
          "2021-06-23T23:00:00+00:00",
          "2021-06-24T18:00:00+00:00",
          "2021-06-25T09:00:00+00:00",
          "2021-06-25T19:00:00+00:00",
          "2021-06-28T01:00:00+00:00",
          "2021-06-30T02:00:00+00:00",
          "2021-06-30T03:00:00+00:00",
          "2021-06-30T17:00:00+00:00",
          "2021-07-01T05:00:00+00:00",
          "2021-07-01T08:00:00+00:00",
          "2021-07-02T00:00:00+00:00",
          "2021-07-02T16:00:00+00:00",
          "2021-07-05T02:00:00+00:00",
          "2021-07-06T05:00:00+00:00",
          "2021-07-06T08:00:00+00:00",
          "2021-07-07T07:00:00+00:00",
          "2021-07-07T16:00:00+00:00",
          "2021-07-08T10:00:00+00:00",
          "2021-07-12T06:00:00+00:00",
          "2021-07-12T17:00:00+00:00",
          "2021-07-13T09:00:00+00:00",
          "2021-07-13T21:00:00+00:00",
          "2021-07-14T04:00:00+00:00",
          "2021-07-14T21:00:00+00:00",
          "2021-07-15T02:00:00+00:00",
          "2021-07-16T06:00:00+00:00",
          "2021-07-16T20:00:00+00:00",
          "2021-07-19T21:00:00+00:00",
          "2021-07-20T06:00:00+00:00",
          "2021-07-20T07:00:00+00:00",
          "2021-07-20T10:00:00+00:00",
          "2021-07-20T21:00:00+00:00",
          "2021-07-22T04:00:00+00:00",
          "2021-07-22T13:00:00+00:00",
          "2021-07-22T15:00:00+00:00",
          "2021-07-23T05:00:00+00:00",
          "2021-07-26T05:00:00+00:00",
          "2021-07-26T13:00:00+00:00",
          "2021-07-27T04:00:00+00:00",
          "2021-07-28T04:00:00+00:00",
          "2021-07-29T21:00:00+00:00",
          "2021-07-30T09:00:00+00:00",
          "2021-08-02T01:00:00+00:00",
          "2021-08-02T09:00:00+00:00",
          "2021-08-02T10:00:00+00:00",
          "2021-08-03T11:00:00+00:00",
          "2021-08-03T18:00:00+00:00",
          "2021-08-04T03:00:00+00:00",
          "2021-08-04T12:00:00+00:00",
          "2021-08-04T16:00:00+00:00",
          "2021-08-06T04:00:00+00:00",
          "2021-08-10T06:00:00+00:00",
          "2021-08-10T12:00:00+00:00",
          "2021-08-11T00:00:00+00:00",
          "2021-08-11T14:00:00+00:00",
          "2021-08-12T10:00:00+00:00",
          "2021-08-12T12:00:00+00:00",
          "2021-08-13T03:00:00+00:00",
          "2021-08-13T07:00:00+00:00",
          "2021-08-13T13:00:00+00:00",
          "2021-08-16T00:00:00+00:00",
          "2021-08-16T13:00:00+00:00",
          "2021-08-17T03:00:00+00:00",
          "2021-08-17T08:00:00+00:00",
          "2021-08-17T19:00:00+00:00",
          "2021-08-18T05:00:00+00:00",
          "2021-08-18T16:00:00+00:00",
          "2021-08-20T04:00:00+00:00",
          "2021-08-20T13:00:00+00:00",
          "2021-08-20T18:00:00+00:00",
          "2021-08-24T13:00:00+00:00",
          "2021-08-25T11:00:00+00:00",
          "2021-08-26T03:00:00+00:00",
          "2021-08-27T04:00:00+00:00",
          "2021-08-30T06:00:00+00:00",
          "2021-08-31T04:00:00+00:00",
          "2021-08-31T19:00:00+00:00",
          "2021-09-01T00:00:00+00:00",
          "2021-09-01T06:00:00+00:00",
          "2021-09-01T11:00:00+00:00",
          "2021-09-01T20:00:00+00:00",
          "2021-09-02T17:00:00+00:00",
          "2021-09-03T12:00:00+00:00",
          "2021-09-06T03:00:00+00:00",
          "2021-09-06T06:00:00+00:00",
          "2021-09-06T20:00:00+00:00",
          "2021-09-07T16:00:00+00:00",
          "2021-09-08T05:00:00+00:00",
          "2021-09-08T08:00:00+00:00",
          "2021-09-09T05:00:00+00:00",
          "2021-09-09T12:00:00+00:00",
          "2021-09-09T16:00:00+00:00",
          "2021-09-10T15:00:00+00:00",
          "2021-09-14T02:00:00+00:00",
          "2021-09-14T16:00:00+00:00",
          "2021-09-17T05:00:00+00:00",
          "2021-09-17T15:00:00+00:00",
          "2021-09-20T16:00:00+00:00",
          "2021-09-21T20:00:00+00:00",
          "2021-09-22T04:00:00+00:00",
          "2021-09-22T21:00:00+00:00",
          "2021-09-23T07:00:00+00:00",
          "2021-09-27T03:00:00+00:00",
          "2021-09-27T14:00:00+00:00",
          "2021-09-28T20:00:00+00:00",
          "2021-09-29T03:00:00+00:00",
          "2021-09-29T06:00:00+00:00",
          "2021-09-30T04:00:00+00:00",
          "2021-09-30T11:00:00+00:00",
          "2021-10-01T17:00:00+00:00",
          "2021-10-03T21:00:00+00:00",
          "2021-10-04T13:00:00+00:00",
          "2021-10-05T12:00:00+00:00",
          "2021-10-05T13:00:00+00:00",
          "2021-10-06T09:00:00+00:00",
          "2021-10-06T20:00:00+00:00",
          "2021-10-07T21:00:00+00:00",
          "2021-10-08T02:00:00+00:00",
          "2021-10-12T03:00:00+00:00",
          "2021-10-12T14:00:00+00:00",
          "2021-10-12T19:00:00+00:00",
          "2021-10-13T07:00:00+00:00",
          "2021-10-14T19:00:00+00:00",
          "2021-10-15T02:00:00+00:00",
          "2021-10-18T03:00:00+00:00",
          "2021-10-18T15:00:00+00:00",
          "2021-10-19T19:00:00+00:00",
          "2021-10-20T04:00:00+00:00",
          "2021-10-20T07:00:00+00:00",
          "2021-10-20T15:00:00+00:00",
          "2021-10-21T06:00:00+00:00",
          "2021-10-22T00:00:00+00:00",
          "2021-10-22T11:00:00+00:00",
          "2021-10-25T03:00:00+00:00",
          "2021-10-25T10:00:00+00:00",
          "2021-10-26T04:00:00+00:00",
          "2021-10-27T02:00:00+00:00",
          "2021-10-27T19:00:00+00:00",
          "2021-10-28T03:00:00+00:00"
         ],
         "y": [
          7.000000000000739,
          50.200000000000955,
          37.300000000000466,
          54.60000000000065,
          49.20000000000044,
          57.20000000000027,
          40.100000000001046,
          33.70000000000175,
          10.500000000001819,
          28.100000000002012,
          99.80000000000189,
          76.00000000000193,
          87.80000000000285,
          89.60000000000292,
          45.60000000000315,
          56.10000000000355,
          185.20000000000323,
          174.20000000000329,
          160.0000000000037,
          160.20000000000323,
          153.30000000000297,
          129.200000000003,
          124.40000000000282,
          154.80000000000302,
          137.60000000000332,
          176.40000000000384,
          172.70000000000465,
          200.20000000000522,
          188.70000000000573,
          175.20000000000664,
          177.60000000000673,
          178.80000000000678,
          164.00000000000716,
          165.70000000000675,
          163.8000000000062,
          225.40000000000617,
          218.5000000000059,
          218.40000000000543,
          201.20000000000573,
          187.70000000000664,
          155.60000000000684,
          118.70000000000687,
          94.40000000000737,
          74.40000000000708,
          76.10000000000667,
          57.20000000000596,
          75.00000000000568,
          110.70000000000562,
          105.80000000000496,
          100.80000000000524,
          97.2000000000051,
          71.10000000000412,
          91.30000000000393,
          94.60000000000406,
          89.00000000000432,
          69.60000000000406,
          53.700000000003456,
          75.80000000000382,
          59.90000000000464,
          46.40000000000555,
          5.400000000005889,
          52.20000000000624,
          45.40000000000646,
          108.00000000000551,
          102.70000000000437,
          101.00000000000335,
          101.80000000000291,
          96.20000000000317,
          82.6000000000036,
          66.80000000000348,
          73.40000000000373,
          58.90000000000413,
          39.60000000000434,
          35.20000000000465,
          25.80000000000524,
          72.40000000000606,
          43.2000000000059,
          73.6000000000061,
          65.40000000000674,
          48.0000000000075,
          84.2000000000084,
          77.90000000000816,
          54.200000000007265,
          117.40000000000634,
          107.80000000000598,
          123.70000000000658,
          115.80000000000723,
          85.60000000000798,
          124.4000000000085,
          127.00000000000813,
          108.60000000000838,
          129.60000000000917,
          112.90000000000902,
          93.20000000000874,
          76.4000000000081,
          77.70000000000721,
          79.00000000000631,
          92.80000000000541,
          74.40000000000566,
          62.500000000005684,
          58.80000000000507,
          59.40000000000509,
          51.6000000000048,
          36.30000000000422,
          28.400000000003445,
          23.600000000003263,
          -43.99999999999693,
          -35.59999999999803,
          0.6000000000014438,
          -16.199999999999193,
          -41.59999999999968,
          -22.399999999998954,
          -23.399999999998045,
          -62.89999999999765,
          -84.89999999999753,
          -88.79999999999768,
          -96.89999999999799,
          -117.39999999999782,
          -116.29999999999683,
          -119.69999999999601,
          -123.59999999999616,
          -139.39999999999628,
          -149.59999999999667,
          -124.1999999999976,
          -135.19999999999754,
          -122.19999999999658,
          -124.7999999999962,
          -131.79999999999694,
          -148.09999999999803,
          -175.5999999999986,
          -172.99999999999898,
          -187.2,
          -222.20000000000084,
          -202.60000000000105,
          -203.60000000000156,
          -208.10000000000173,
          81.59999999999883,
          122.59999999999849,
          90.89999999999776,
          149.79999999999762,
          167.4999999999983,
          178.19999999999823,
          178.69999999999777,
          146.4999999999975,
          198.59999999999758,
          193.79999999999882,
          184.99999999999943,
          184.7999999999999,
          164.200000000001,
          199.60000000000093,
          201.60000000000053,
          189.3000000000015,
          192.90000000000163,
          151.20000000000147,
          164.00000000000148,
          136.00000000000136,
          121.40000000000128,
          190.40000000000106,
          180.40000000000163,
          165.40000000000248,
          153.8000000000025,
          138.80000000000194,
          148.70000000000232,
          132.20000000000312,
          164.80000000000388,
          163.7000000000043,
          206.70000000000357,
          202.60000000000247,
          192.40000000000208,
          159.80000000000274,
          140.4000000000039,
          225.2000000000038,
          211.6000000000028,
          163.6000000000024,
          155.5000000000021,
          184.00000000000176,
          162.40000000000094,
          164.30000000000007,
          199.5999999999995,
          286.7999999999995,
          265.29999999999916,
          265.0999999999982,
          262.0999999999981,
          258.49999999999795,
          270.99999999999795,
          245.79999999999842,
          243.79999999999882,
          225.9999999999991,
          193.39999999999975,
          205.4000000000002,
          305.8000000000007,
          278.5000000000011,
          259.30000000000035,
          260.2000000000004,
          273.3000000000004,
          273.6000000000004,
          290.3000000000006,
          279.20000000000016,
          247.49999999999943,
          229.49999999999875,
          223.599999999999,
          221.9999999999999,
          185.60000000000088,
          164.00000000000148,
          155.80000000000211,
          146.00000000000222,
          151.1000000000024,
          149.8000000000033,
          156.30000000000308,
          202.500000000002,
          198.7000000000009,
          202.59999999999962,
          226.19999999999862,
          268.7999999999988,
          302.6999999999987,
          311.59999999999854,
          303.3999999999992,
          283.3999999999989,
          254.29999999999922,
          239.60000000000008,
          234.00000000000034,
          232.60000000000076,
          249.1000000000014,
          243.40000000000117,
          237.8,
          229.6999999999997,
          226.20000000000005,
          201.6999999999996,
          211.99999999999903,
          210.3999999999985,
          206.79999999999836,
          214.19999999999817,
          246.69999999999703,
          234.9999999999966,
          308.79999999999654,
          263.5999999999967,
          283.3999999999975,
          317.69999999999783,
          299.1999999999976,
          311.5999999999971,
          289.19999999999675,
          357.8999999999965,
          319.399999999996,
          332.39999999999554,
          343.19999999999595,
          344.59999999999695,
          342.19999999999686,
          320.7999999999956,
          350.59999999999434,
          337.1999999999943,
          244.49999999999505,
          220.3999999999951,
          208.5999999999956,
          188.79999999999626,
          163.59999999999673,
          168.59999999999786,
          150.9999999999991,
          327.4000000000001,
          309.60000000000036,
          285.59999999999945,
          270.4999999999984,
          353.79999999999825,
          320.99999999999795,
          352.79999999999774,
          349.39999999999856,
          366.29999999999967,
          356.7999999999998,
          322.1999999999994,
          266.40000000000015,
          243.50000000000023,
          215.2000000000001,
          203.0000000000001,
          199.19999999999902,
          152.19999999999771,
          146.59999999999656,
          167.19999999999544,
          165.89999999999492,
          139.79999999999535,
          102.29999999999535
         ]
        }
       ],
       "layout": {
        "font": {
         "color": "#e1e1e1",
         "size": 10
        },
        "height": 400,
        "margin": {
         "b": 10,
         "l": 15,
         "r": 15
        },
        "paper_bgcolor": "#1e1e1e",
        "plot_bgcolor": "#1e1e1e",
        "template": {
         "data": {
          "bar": [
           {
            "error_x": {
             "color": "#2a3f5f"
            },
            "error_y": {
             "color": "#2a3f5f"
            },
            "marker": {
             "line": {
              "color": "#E5ECF6",
              "width": 0.5
             },
             "pattern": {
              "fillmode": "overlay",
              "size": 10,
              "solidity": 0.2
             }
            },
            "type": "bar"
           }
          ],
          "barpolar": [
           {
            "marker": {
             "line": {
              "color": "#E5ECF6",
              "width": 0.5
             },
             "pattern": {
              "fillmode": "overlay",
              "size": 10,
              "solidity": 0.2
             }
            },
            "type": "barpolar"
           }
          ],
          "carpet": [
           {
            "aaxis": {
             "endlinecolor": "#2a3f5f",
             "gridcolor": "white",
             "linecolor": "white",
             "minorgridcolor": "white",
             "startlinecolor": "#2a3f5f"
            },
            "baxis": {
             "endlinecolor": "#2a3f5f",
             "gridcolor": "white",
             "linecolor": "white",
             "minorgridcolor": "white",
             "startlinecolor": "#2a3f5f"
            },
            "type": "carpet"
           }
          ],
          "choropleth": [
           {
            "colorbar": {
             "outlinewidth": 0,
             "ticks": ""
            },
            "type": "choropleth"
           }
          ],
          "contour": [
           {
            "colorbar": {
             "outlinewidth": 0,
             "ticks": ""
            },
            "colorscale": [
             [
              0,
              "#0d0887"
             ],
             [
              0.1111111111111111,
              "#46039f"
             ],
             [
              0.2222222222222222,
              "#7201a8"
             ],
             [
              0.3333333333333333,
              "#9c179e"
             ],
             [
              0.4444444444444444,
              "#bd3786"
             ],
             [
              0.5555555555555556,
              "#d8576b"
             ],
             [
              0.6666666666666666,
              "#ed7953"
             ],
             [
              0.7777777777777778,
              "#fb9f3a"
             ],
             [
              0.8888888888888888,
              "#fdca26"
             ],
             [
              1,
              "#f0f921"
             ]
            ],
            "type": "contour"
           }
          ],
          "contourcarpet": [
           {
            "colorbar": {
             "outlinewidth": 0,
             "ticks": ""
            },
            "type": "contourcarpet"
           }
          ],
          "heatmap": [
           {
            "colorbar": {
             "outlinewidth": 0,
             "ticks": ""
            },
            "colorscale": [
             [
              0,
              "#0d0887"
             ],
             [
              0.1111111111111111,
              "#46039f"
             ],
             [
              0.2222222222222222,
              "#7201a8"
             ],
             [
              0.3333333333333333,
              "#9c179e"
             ],
             [
              0.4444444444444444,
              "#bd3786"
             ],
             [
              0.5555555555555556,
              "#d8576b"
             ],
             [
              0.6666666666666666,
              "#ed7953"
             ],
             [
              0.7777777777777778,
              "#fb9f3a"
             ],
             [
              0.8888888888888888,
              "#fdca26"
             ],
             [
              1,
              "#f0f921"
             ]
            ],
            "type": "heatmap"
           }
          ],
          "heatmapgl": [
           {
            "colorbar": {
             "outlinewidth": 0,
             "ticks": ""
            },
            "colorscale": [
             [
              0,
              "#0d0887"
             ],
             [
              0.1111111111111111,
              "#46039f"
             ],
             [
              0.2222222222222222,
              "#7201a8"
             ],
             [
              0.3333333333333333,
              "#9c179e"
             ],
             [
              0.4444444444444444,
              "#bd3786"
             ],
             [
              0.5555555555555556,
              "#d8576b"
             ],
             [
              0.6666666666666666,
              "#ed7953"
             ],
             [
              0.7777777777777778,
              "#fb9f3a"
             ],
             [
              0.8888888888888888,
              "#fdca26"
             ],
             [
              1,
              "#f0f921"
             ]
            ],
            "type": "heatmapgl"
           }
          ],
          "histogram": [
           {
            "marker": {
             "pattern": {
              "fillmode": "overlay",
              "size": 10,
              "solidity": 0.2
             }
            },
            "type": "histogram"
           }
          ],
          "histogram2d": [
           {
            "colorbar": {
             "outlinewidth": 0,
             "ticks": ""
            },
            "colorscale": [
             [
              0,
              "#0d0887"
             ],
             [
              0.1111111111111111,
              "#46039f"
             ],
             [
              0.2222222222222222,
              "#7201a8"
             ],
             [
              0.3333333333333333,
              "#9c179e"
             ],
             [
              0.4444444444444444,
              "#bd3786"
             ],
             [
              0.5555555555555556,
              "#d8576b"
             ],
             [
              0.6666666666666666,
              "#ed7953"
             ],
             [
              0.7777777777777778,
              "#fb9f3a"
             ],
             [
              0.8888888888888888,
              "#fdca26"
             ],
             [
              1,
              "#f0f921"
             ]
            ],
            "type": "histogram2d"
           }
          ],
          "histogram2dcontour": [
           {
            "colorbar": {
             "outlinewidth": 0,
             "ticks": ""
            },
            "colorscale": [
             [
              0,
              "#0d0887"
             ],
             [
              0.1111111111111111,
              "#46039f"
             ],
             [
              0.2222222222222222,
              "#7201a8"
             ],
             [
              0.3333333333333333,
              "#9c179e"
             ],
             [
              0.4444444444444444,
              "#bd3786"
             ],
             [
              0.5555555555555556,
              "#d8576b"
             ],
             [
              0.6666666666666666,
              "#ed7953"
             ],
             [
              0.7777777777777778,
              "#fb9f3a"
             ],
             [
              0.8888888888888888,
              "#fdca26"
             ],
             [
              1,
              "#f0f921"
             ]
            ],
            "type": "histogram2dcontour"
           }
          ],
          "mesh3d": [
           {
            "colorbar": {
             "outlinewidth": 0,
             "ticks": ""
            },
            "type": "mesh3d"
           }
          ],
          "parcoords": [
           {
            "line": {
             "colorbar": {
              "outlinewidth": 0,
              "ticks": ""
             }
            },
            "type": "parcoords"
           }
          ],
          "pie": [
           {
            "automargin": true,
            "type": "pie"
           }
          ],
          "scatter": [
           {
            "marker": {
             "colorbar": {
              "outlinewidth": 0,
              "ticks": ""
             }
            },
            "type": "scatter"
           }
          ],
          "scatter3d": [
           {
            "line": {
             "colorbar": {
              "outlinewidth": 0,
              "ticks": ""
             }
            },
            "marker": {
             "colorbar": {
              "outlinewidth": 0,
              "ticks": ""
             }
            },
            "type": "scatter3d"
           }
          ],
          "scattercarpet": [
           {
            "marker": {
             "colorbar": {
              "outlinewidth": 0,
              "ticks": ""
             }
            },
            "type": "scattercarpet"
           }
          ],
          "scattergeo": [
           {
            "marker": {
             "colorbar": {
              "outlinewidth": 0,
              "ticks": ""
             }
            },
            "type": "scattergeo"
           }
          ],
          "scattergl": [
           {
            "marker": {
             "colorbar": {
              "outlinewidth": 0,
              "ticks": ""
             }
            },
            "type": "scattergl"
           }
          ],
          "scattermapbox": [
           {
            "marker": {
             "colorbar": {
              "outlinewidth": 0,
              "ticks": ""
             }
            },
            "type": "scattermapbox"
           }
          ],
          "scatterpolar": [
           {
            "marker": {
             "colorbar": {
              "outlinewidth": 0,
              "ticks": ""
             }
            },
            "type": "scatterpolar"
           }
          ],
          "scatterpolargl": [
           {
            "marker": {
             "colorbar": {
              "outlinewidth": 0,
              "ticks": ""
             }
            },
            "type": "scatterpolargl"
           }
          ],
          "scatterternary": [
           {
            "marker": {
             "colorbar": {
              "outlinewidth": 0,
              "ticks": ""
             }
            },
            "type": "scatterternary"
           }
          ],
          "surface": [
           {
            "colorbar": {
             "outlinewidth": 0,
             "ticks": ""
            },
            "colorscale": [
             [
              0,
              "#0d0887"
             ],
             [
              0.1111111111111111,
              "#46039f"
             ],
             [
              0.2222222222222222,
              "#7201a8"
             ],
             [
              0.3333333333333333,
              "#9c179e"
             ],
             [
              0.4444444444444444,
              "#bd3786"
             ],
             [
              0.5555555555555556,
              "#d8576b"
             ],
             [
              0.6666666666666666,
              "#ed7953"
             ],
             [
              0.7777777777777778,
              "#fb9f3a"
             ],
             [
              0.8888888888888888,
              "#fdca26"
             ],
             [
              1,
              "#f0f921"
             ]
            ],
            "type": "surface"
           }
          ],
          "table": [
           {
            "cells": {
             "fill": {
              "color": "#EBF0F8"
             },
             "line": {
              "color": "white"
             }
            },
            "header": {
             "fill": {
              "color": "#C8D4E3"
             },
             "line": {
              "color": "white"
             }
            },
            "type": "table"
           }
          ]
         },
         "layout": {
          "annotationdefaults": {
           "arrowcolor": "#2a3f5f",
           "arrowhead": 0,
           "arrowwidth": 1
          },
          "autotypenumbers": "strict",
          "coloraxis": {
           "colorbar": {
            "outlinewidth": 0,
            "ticks": ""
           }
          },
          "colorscale": {
           "diverging": [
            [
             0,
             "#8e0152"
            ],
            [
             0.1,
             "#c51b7d"
            ],
            [
             0.2,
             "#de77ae"
            ],
            [
             0.3,
             "#f1b6da"
            ],
            [
             0.4,
             "#fde0ef"
            ],
            [
             0.5,
             "#f7f7f7"
            ],
            [
             0.6,
             "#e6f5d0"
            ],
            [
             0.7,
             "#b8e186"
            ],
            [
             0.8,
             "#7fbc41"
            ],
            [
             0.9,
             "#4d9221"
            ],
            [
             1,
             "#276419"
            ]
           ],
           "sequential": [
            [
             0,
             "#0d0887"
            ],
            [
             0.1111111111111111,
             "#46039f"
            ],
            [
             0.2222222222222222,
             "#7201a8"
            ],
            [
             0.3333333333333333,
             "#9c179e"
            ],
            [
             0.4444444444444444,
             "#bd3786"
            ],
            [
             0.5555555555555556,
             "#d8576b"
            ],
            [
             0.6666666666666666,
             "#ed7953"
            ],
            [
             0.7777777777777778,
             "#fb9f3a"
            ],
            [
             0.8888888888888888,
             "#fdca26"
            ],
            [
             1,
             "#f0f921"
            ]
           ],
           "sequentialminus": [
            [
             0,
             "#0d0887"
            ],
            [
             0.1111111111111111,
             "#46039f"
            ],
            [
             0.2222222222222222,
             "#7201a8"
            ],
            [
             0.3333333333333333,
             "#9c179e"
            ],
            [
             0.4444444444444444,
             "#bd3786"
            ],
            [
             0.5555555555555556,
             "#d8576b"
            ],
            [
             0.6666666666666666,
             "#ed7953"
            ],
            [
             0.7777777777777778,
             "#fb9f3a"
            ],
            [
             0.8888888888888888,
             "#fdca26"
            ],
            [
             1,
             "#f0f921"
            ]
           ]
          },
          "colorway": [
           "#636efa",
           "#EF553B",
           "#00cc96",
           "#ab63fa",
           "#FFA15A",
           "#19d3f3",
           "#FF6692",
           "#B6E880",
           "#FF97FF",
           "#FECB52"
          ],
          "font": {
           "color": "#2a3f5f"
          },
          "geo": {
           "bgcolor": "white",
           "lakecolor": "white",
           "landcolor": "#E5ECF6",
           "showlakes": true,
           "showland": true,
           "subunitcolor": "white"
          },
          "hoverlabel": {
           "align": "left"
          },
          "hovermode": "closest",
          "mapbox": {
           "style": "light"
          },
          "paper_bgcolor": "white",
          "plot_bgcolor": "#E5ECF6",
          "polar": {
           "angularaxis": {
            "gridcolor": "white",
            "linecolor": "white",
            "ticks": ""
           },
           "bgcolor": "#E5ECF6",
           "radialaxis": {
            "gridcolor": "white",
            "linecolor": "white",
            "ticks": ""
           }
          },
          "scene": {
           "xaxis": {
            "backgroundcolor": "#E5ECF6",
            "gridcolor": "white",
            "gridwidth": 2,
            "linecolor": "white",
            "showbackground": true,
            "ticks": "",
            "zerolinecolor": "white"
           },
           "yaxis": {
            "backgroundcolor": "#E5ECF6",
            "gridcolor": "white",
            "gridwidth": 2,
            "linecolor": "white",
            "showbackground": true,
            "ticks": "",
            "zerolinecolor": "white"
           },
           "zaxis": {
            "backgroundcolor": "#E5ECF6",
            "gridcolor": "white",
            "gridwidth": 2,
            "linecolor": "white",
            "showbackground": true,
            "ticks": "",
            "zerolinecolor": "white"
           }
          },
          "shapedefaults": {
           "line": {
            "color": "#2a3f5f"
           }
          },
          "ternary": {
           "aaxis": {
            "gridcolor": "white",
            "linecolor": "white",
            "ticks": ""
           },
           "baxis": {
            "gridcolor": "white",
            "linecolor": "white",
            "ticks": ""
           },
           "bgcolor": "#E5ECF6",
           "caxis": {
            "gridcolor": "white",
            "linecolor": "white",
            "ticks": ""
           }
          },
          "title": {
           "x": 0.05
          },
          "xaxis": {
           "automargin": true,
           "gridcolor": "white",
           "linecolor": "white",
           "ticks": "",
           "title": {
            "standoff": 15
           },
           "zerolinecolor": "white",
           "zerolinewidth": 2
          },
          "yaxis": {
           "automargin": true,
           "gridcolor": "white",
           "linecolor": "white",
           "ticks": "",
           "title": {
            "standoff": 15
           },
           "zerolinecolor": "white",
           "zerolinewidth": 2
          }
         }
        },
        "title": {
         "text": "CHF_JPY_MA_8_16"
        },
        "width": 1000,
        "xaxis": {
         "linecolor": "#3a4a54",
         "linewidth": 1,
         "showgrid": false,
         "zeroline": false
        },
        "yaxis": {
         "linecolor": "#3a4a54",
         "linewidth": 1,
         "showgrid": false,
         "zeroline": false
        }
       }
      }
     },
     "metadata": {},
     "output_type": "display_data"
    },
    {
     "data": {
      "application/vnd.plotly.v1+json": {
       "config": {
        "plotlyServerURL": "https://plot.ly"
       },
       "data": [
        {
         "line": {
          "color": "#3d825f",
          "shape": "spline",
          "width": 2
         },
         "mode": "lines",
         "name": "EUR_CAD_MA_8_16",
         "type": "scatter",
         "x": [
          "2021-03-11T02:00:00+00:00",
          "2021-03-11T10:00:00+00:00",
          "2021-03-11T16:00:00+00:00",
          "2021-03-15T19:00:00+00:00",
          "2021-03-16T13:00:00+00:00",
          "2021-03-17T05:00:00+00:00",
          "2021-03-18T02:00:00+00:00",
          "2021-03-18T17:00:00+00:00",
          "2021-03-19T08:00:00+00:00",
          "2021-03-19T18:00:00+00:00",
          "2021-03-22T03:00:00+00:00",
          "2021-03-22T13:00:00+00:00",
          "2021-03-23T13:00:00+00:00",
          "2021-03-24T03:00:00+00:00",
          "2021-03-24T09:00:00+00:00",
          "2021-03-25T02:00:00+00:00",
          "2021-03-25T08:00:00+00:00",
          "2021-03-25T16:00:00+00:00",
          "2021-03-25T22:00:00+00:00",
          "2021-03-26T16:00:00+00:00",
          "2021-03-29T12:00:00+00:00",
          "2021-03-30T17:00:00+00:00",
          "2021-03-31T00:00:00+00:00",
          "2021-04-01T06:00:00+00:00",
          "2021-04-01T23:00:00+00:00",
          "2021-04-02T09:00:00+00:00",
          "2021-04-02T18:00:00+00:00",
          "2021-04-04T23:00:00+00:00",
          "2021-04-05T08:00:00+00:00",
          "2021-04-05T18:00:00+00:00",
          "2021-04-07T22:00:00+00:00",
          "2021-04-08T13:00:00+00:00",
          "2021-04-08T16:00:00+00:00",
          "2021-04-08T17:00:00+00:00",
          "2021-04-09T01:00:00+00:00",
          "2021-04-09T08:00:00+00:00",
          "2021-04-09T12:00:00+00:00",
          "2021-04-12T04:00:00+00:00",
          "2021-04-13T09:00:00+00:00",
          "2021-04-13T10:00:00+00:00",
          "2021-04-13T20:00:00+00:00",
          "2021-04-14T03:00:00+00:00",
          "2021-04-14T19:00:00+00:00",
          "2021-04-15T17:00:00+00:00",
          "2021-04-16T05:00:00+00:00",
          "2021-04-19T09:00:00+00:00",
          "2021-04-20T05:00:00+00:00",
          "2021-04-20T10:00:00+00:00",
          "2021-04-21T06:00:00+00:00",
          "2021-04-22T04:00:00+00:00",
          "2021-04-22T15:00:00+00:00",
          "2021-04-23T09:00:00+00:00",
          "2021-04-26T05:00:00+00:00",
          "2021-04-27T11:00:00+00:00",
          "2021-04-28T06:00:00+00:00",
          "2021-04-29T06:00:00+00:00",
          "2021-04-29T07:00:00+00:00",
          "2021-05-03T06:00:00+00:00",
          "2021-05-03T20:00:00+00:00",
          "2021-05-04T01:00:00+00:00",
          "2021-05-04T03:00:00+00:00",
          "2021-05-04T14:00:00+00:00",
          "2021-05-04T20:00:00+00:00",
          "2021-05-06T01:00:00+00:00",
          "2021-05-06T16:00:00+00:00",
          "2021-05-07T07:00:00+00:00",
          "2021-05-10T02:00:00+00:00",
          "2021-05-11T07:00:00+00:00",
          "2021-05-11T20:00:00+00:00",
          "2021-05-13T00:00:00+00:00",
          "2021-05-14T13:00:00+00:00",
          "2021-05-16T21:00:00+00:00",
          "2021-05-17T07:00:00+00:00",
          "2021-05-17T10:00:00+00:00",
          "2021-05-17T13:00:00+00:00",
          "2021-05-18T09:00:00+00:00",
          "2021-05-19T13:00:00+00:00",
          "2021-05-19T14:00:00+00:00",
          "2021-05-20T02:00:00+00:00",
          "2021-05-20T10:00:00+00:00",
          "2021-05-20T16:00:00+00:00",
          "2021-05-21T02:00:00+00:00",
          "2021-05-21T11:00:00+00:00",
          "2021-05-24T01:00:00+00:00",
          "2021-05-24T22:00:00+00:00",
          "2021-05-25T06:00:00+00:00",
          "2021-05-26T05:00:00+00:00",
          "2021-05-26T11:00:00+00:00",
          "2021-05-26T21:00:00+00:00",
          "2021-05-27T04:00:00+00:00",
          "2021-05-27T08:00:00+00:00",
          "2021-05-28T06:00:00+00:00",
          "2021-05-28T17:00:00+00:00",
          "2021-05-28T20:00:00+00:00",
          "2021-05-31T05:00:00+00:00",
          "2021-05-31T15:00:00+00:00",
          "2021-06-01T03:00:00+00:00",
          "2021-06-01T19:00:00+00:00",
          "2021-06-02T07:00:00+00:00",
          "2021-06-03T09:00:00+00:00",
          "2021-06-03T17:00:00+00:00",
          "2021-06-04T04:00:00+00:00",
          "2021-06-04T07:00:00+00:00",
          "2021-06-04T13:00:00+00:00",
          "2021-06-06T23:00:00+00:00",
          "2021-06-07T05:00:00+00:00",
          "2021-06-07T11:00:00+00:00",
          "2021-06-07T17:00:00+00:00",
          "2021-06-08T07:00:00+00:00",
          "2021-06-08T16:00:00+00:00",
          "2021-06-09T06:00:00+00:00",
          "2021-06-09T19:00:00+00:00",
          "2021-06-10T06:00:00+00:00",
          "2021-06-11T02:00:00+00:00",
          "2021-06-11T10:00:00+00:00",
          "2021-06-11T20:00:00+00:00",
          "2021-06-14T05:00:00+00:00",
          "2021-06-14T11:00:00+00:00",
          "2021-06-14T19:00:00+00:00",
          "2021-06-15T02:00:00+00:00",
          "2021-06-16T02:00:00+00:00",
          "2021-06-18T04:00:00+00:00",
          "2021-06-21T14:00:00+00:00",
          "2021-06-22T04:00:00+00:00",
          "2021-06-22T10:00:00+00:00",
          "2021-06-22T14:00:00+00:00",
          "2021-06-22T15:00:00+00:00",
          "2021-06-23T20:00:00+00:00",
          "2021-06-24T04:00:00+00:00",
          "2021-06-24T12:00:00+00:00",
          "2021-06-25T04:00:00+00:00",
          "2021-06-25T07:00:00+00:00",
          "2021-06-25T08:00:00+00:00",
          "2021-06-28T09:00:00+00:00",
          "2021-06-29T03:00:00+00:00",
          "2021-06-29T09:00:00+00:00",
          "2021-06-30T09:00:00+00:00",
          "2021-07-01T11:00:00+00:00",
          "2021-07-02T06:00:00+00:00",
          "2021-07-05T05:00:00+00:00",
          "2021-07-05T19:00:00+00:00",
          "2021-07-06T13:00:00+00:00",
          "2021-07-07T09:00:00+00:00",
          "2021-07-07T18:00:00+00:00",
          "2021-07-08T20:00:00+00:00",
          "2021-07-09T04:00:00+00:00",
          "2021-07-09T07:00:00+00:00",
          "2021-07-12T06:00:00+00:00",
          "2021-07-12T16:00:00+00:00",
          "2021-07-13T09:00:00+00:00",
          "2021-07-13T19:00:00+00:00",
          "2021-07-14T10:00:00+00:00",
          "2021-07-15T11:00:00+00:00",
          "2021-07-15T17:00:00+00:00",
          "2021-07-16T05:00:00+00:00",
          "2021-07-16T14:00:00+00:00",
          "2021-07-20T00:00:00+00:00",
          "2021-07-20T08:00:00+00:00",
          "2021-07-20T14:00:00+00:00",
          "2021-07-21T07:00:00+00:00",
          "2021-07-21T12:00:00+00:00",
          "2021-07-22T04:00:00+00:00",
          "2021-07-22T11:00:00+00:00",
          "2021-07-23T05:00:00+00:00",
          "2021-07-23T15:00:00+00:00",
          "2021-07-23T18:00:00+00:00",
          "2021-07-25T22:00:00+00:00",
          "2021-07-25T23:00:00+00:00",
          "2021-07-26T14:00:00+00:00",
          "2021-07-27T07:00:00+00:00",
          "2021-07-28T05:00:00+00:00",
          "2021-07-30T02:00:00+00:00",
          "2021-07-30T08:00:00+00:00",
          "2021-07-30T20:00:00+00:00",
          "2021-08-03T22:00:00+00:00",
          "2021-08-04T12:00:00+00:00",
          "2021-08-04T19:00:00+00:00",
          "2021-08-09T02:00:00+00:00",
          "2021-08-09T09:00:00+00:00",
          "2021-08-09T19:00:00+00:00",
          "2021-08-10T02:00:00+00:00",
          "2021-08-11T07:00:00+00:00",
          "2021-08-11T18:00:00+00:00",
          "2021-08-11T19:00:00+00:00",
          "2021-08-11T23:00:00+00:00",
          "2021-08-12T00:00:00+00:00",
          "2021-08-12T15:00:00+00:00",
          "2021-08-12T17:00:00+00:00",
          "2021-08-12T19:00:00+00:00",
          "2021-08-12T21:00:00+00:00",
          "2021-08-17T15:00:00+00:00",
          "2021-08-18T14:00:00+00:00",
          "2021-08-20T17:00:00+00:00",
          "2021-08-25T07:00:00+00:00",
          "2021-08-26T00:00:00+00:00",
          "2021-08-26T05:00:00+00:00",
          "2021-08-27T08:00:00+00:00",
          "2021-08-30T03:00:00+00:00",
          "2021-08-30T11:00:00+00:00",
          "2021-08-30T22:00:00+00:00",
          "2021-08-31T22:00:00+00:00",
          "2021-09-01T15:00:00+00:00",
          "2021-09-02T08:00:00+00:00",
          "2021-09-03T04:00:00+00:00",
          "2021-09-03T08:00:00+00:00",
          "2021-09-06T00:00:00+00:00",
          "2021-09-06T09:00:00+00:00",
          "2021-09-07T00:00:00+00:00",
          "2021-09-08T05:00:00+00:00",
          "2021-09-08T08:00:00+00:00",
          "2021-09-09T13:00:00+00:00",
          "2021-09-10T02:00:00+00:00",
          "2021-09-10T06:00:00+00:00",
          "2021-09-10T20:00:00+00:00",
          "2021-09-13T06:00:00+00:00",
          "2021-09-13T19:00:00+00:00",
          "2021-09-14T03:00:00+00:00",
          "2021-09-14T06:00:00+00:00",
          "2021-09-15T09:00:00+00:00",
          "2021-09-15T11:00:00+00:00",
          "2021-09-15T13:00:00+00:00",
          "2021-09-16T19:00:00+00:00",
          "2021-09-17T05:00:00+00:00",
          "2021-09-17T15:00:00+00:00",
          "2021-09-21T00:00:00+00:00",
          "2021-09-21T15:00:00+00:00",
          "2021-09-22T04:00:00+00:00",
          "2021-09-23T22:00:00+00:00",
          "2021-09-24T16:00:00+00:00",
          "2021-09-27T15:00:00+00:00",
          "2021-09-27T17:00:00+00:00",
          "2021-09-28T12:00:00+00:00",
          "2021-09-29T05:00:00+00:00",
          "2021-09-29T19:00:00+00:00",
          "2021-09-29T20:00:00+00:00",
          "2021-10-01T04:00:00+00:00",
          "2021-10-01T14:00:00+00:00",
          "2021-10-04T12:00:00+00:00",
          "2021-10-04T14:00:00+00:00",
          "2021-10-05T03:00:00+00:00",
          "2021-10-05T09:00:00+00:00",
          "2021-10-06T02:00:00+00:00",
          "2021-10-06T11:00:00+00:00",
          "2021-10-07T09:00:00+00:00",
          "2021-10-07T14:00:00+00:00",
          "2021-10-11T17:00:00+00:00",
          "2021-10-12T10:00:00+00:00",
          "2021-10-13T02:00:00+00:00",
          "2021-10-13T11:00:00+00:00",
          "2021-10-13T14:00:00+00:00",
          "2021-10-14T05:00:00+00:00",
          "2021-10-15T01:00:00+00:00",
          "2021-10-15T06:00:00+00:00",
          "2021-10-15T15:00:00+00:00",
          "2021-10-18T02:00:00+00:00",
          "2021-10-18T08:00:00+00:00",
          "2021-10-18T20:00:00+00:00",
          "2021-10-18T21:00:00+00:00",
          "2021-10-19T10:00:00+00:00",
          "2021-10-19T13:00:00+00:00",
          "2021-10-20T01:00:00+00:00",
          "2021-10-21T05:00:00+00:00",
          "2021-10-21T07:00:00+00:00",
          "2021-10-21T09:00:00+00:00",
          "2021-10-21T14:00:00+00:00",
          "2021-10-21T15:00:00+00:00",
          "2021-10-22T03:00:00+00:00",
          "2021-10-22T16:00:00+00:00",
          "2021-10-25T06:00:00+00:00",
          "2021-10-25T20:00:00+00:00",
          "2021-10-26T03:00:00+00:00",
          "2021-10-26T21:00:00+00:00",
          "2021-10-27T16:00:00+00:00",
          "2021-10-28T03:00:00+00:00",
          "2021-10-28T11:00:00+00:00"
         ],
         "y": [
          -8.700000000001484,
          -15.500000000001624,
          147.6999999999995,
          110.69999999999914,
          133.4999999999975,
          145.19999999999644,
          99.6999999999959,
          89.89999999999608,
          76.59999999999555,
          73.09999999999482,
          43.49999999999409,
          55.59999999999342,
          51.89999999999361,
          5.099999999993436,
          22.39999999999353,
          7.799999999993361,
          6.699999999992816,
          2.6999999999932562,
          -2.100000000004883,
          -6.800000000004587,
          28.09999999999534,
          11.699999999996702,
          30.09999999999734,
          37.69999999999828,
          19.499999999998956,
          8.599999999998602,
          7.899999999998457,
          -22.600000000001515,
          -59.60000000000188,
          126.49999999999827,
          121.09999999999842,
          124.69999999999757,
          127.09999999999775,
          114.49999999999736,
          119.59999999999746,
          65.29999999999923,
          43.899999999998926,
          81.09999999999837,
          72.79999999999951,
          69.0999999999997,
          49.79999999999983,
          49.09999999999968,
          33.79999999999937,
          12.09999999999932,
          -19.900000000001597,
          24.099999999997998,
          -14.900000000002144,
          25.09999999999789,
          115.39999999999883,
          66.29999999999913,
          15.199999999999655,
          51.300000000000786,
          147.5000000000004,
          115.70000000000078,
          160.90000000000157,
          145.900000000001,
          233.10000000000161,
          228.90000000000296,
          231.10000000000406,
          225.30000000000382,
          209.10000000000204,
          177.3000000000002,
          241.39999999999827,
          211.09999999999738,
          191.09999999999735,
          215.6999999999964,
          254.09999999999485,
          254.69999999999433,
          316.49999999999505,
          357.999999999996,
          333.19999999999567,
          332.89999999999594,
          303.0999999999961,
          257.5999999999956,
          242.99999999999542,
          306.499999999994,
          272.09999999999286,
          231.1999999999936,
          211.7999999999953,
          171.8999999999959,
          141.0999999999962,
          46.89999999999635,
          21.59999999999492,
          37.29999999999342,
          16.799999999992345,
          45.699999999990716,
          32.09999999999044,
          34.49999999999062,
          32.49999999999084,
          9.999999999992209,
          50.399999999992644,
          63.79999999999161,
          71.79999999999073,
          73.69999999998986,
          42.29999999998843,
          17.599999999988707,
          2.2999999999906144,
          -9.900000000009374,
          26.299999999990188,
          3.499999999991811,
          4.599999999992356,
          8.49999999999126,
          -15.100000000010137,
          -29.00000000001016,
          -42.300000000008474,
          -64.90000000000776,
          -98.70000000000715,
          -104.100000000007,
          -140.3000000000088,
          -145.90000000000995,
          -155.70000000000977,
          -171.30000000000982,
          -170.70000000001033,
          -203.50000000000983,
          -220.10000000000977,
          -233.6000000000094,
          -265.50000000000745,
          -284.600000000006,
          -291.30000000000547,
          -251.6000000000052,
          -215.2000000000043,
          -195.90000000000444,
          -178.700000000005,
          -184.30000000000393,
          -195.90000000000222,
          -206.30000000000152,
          -155.80000000000155,
          -158.90000000000188,
          -178.80000000000123,
          -171.09999999999962,
          -169.29999999999893,
          -174.2999999999984,
          -176.09999999999908,
          -165.40000000000003,
          -188.09999999999997,
          -164.20000000000104,
          -115.30000000000265,
          -87.900000000003,
          9.699999999996905,
          9.299999999996505,
          -38.50000000000355,
          -11.60000000000274,
          -32.00000000000094,
          86.39999999999978,
          98.49999999999912,
          92.79999999999953,
          123.1000000000004,
          106.50000000000045,
          109.30000000000103,
          67.10000000000213,
          57.30000000000231,
          110.50000000000222,
          32.0000000000031,
          0.10000000000283649,
          -27.49999999999812,
          130.50000000000222,
          129.70000000000363,
          86.10000000000443,
          138.10000000000315,
          102.90000000000126,
          160.80000000000086,
          107.00000000000146,
          104.10000000000245,
          107.30000000000344,
          101.50000000000318,
          97.30000000000231,
          98.60000000000196,
          104.90000000000104,
          86.9000000000008,
          134.30000000000268,
          212.30000000000297,
          220.90000000000157,
          215.20000000000198,
          284.500000000003,
          252.9000000000025,
          201.70000000000238,
          280.70000000000255,
          253.500000000002,
          239.5000000000013,
          244.30000000000166,
          329.5000000000025,
          330.9000000000028,
          334.500000000002,
          341.2999999999999,
          339.2999999999979,
          343.09999999999616,
          335.4999999999952,
          322.6999999999957,
          316.5999999999957,
          408.499999999996,
          405.2999999999973,
          639.0999999999968,
          855.2999999999965,
          870.4999999999962,
          849.8999999999945,
          897.5999999999939,
          882.2999999999936,
          846.9999999999933,
          845.4999999999945,
          873.3999999999952,
          823.4999999999947,
          796.299999999994,
          807.999999999993,
          790.7999999999913,
          789.6999999999907,
          785.6999999999912,
          793.6999999999903,
          875.199999999989,
          847.399999999989,
          819.4999999999883,
          824.3999999999871,
          816.099999999986,
          774.0999999999863,
          717.8999999999867,
          710.499999999987,
          713.0999999999885,
          701.9999999999891,
          727.0999999999892,
          710.799999999989,
          653.0999999999885,
          671.1999999999895,
          655.5999999999916,
          612.8999999999917,
          679.1999999999908,
          700.4999999999905,
          707.3999999999891,
          848.9999999999886,
          824.499999999988,
          864.6999999999871,
          842.8999999999863,
          817.2999999999852,
          831.5999999999856,
          852.499999999987,
          846.0999999999873,
          906.6999999999869,
          879.2999999999872,
          922.5999999999867,
          883.699999999985,
          869.2999999999839,
          851.3999999999843,
          863.8999999999841,
          847.4999999999832,
          882.7999999999835,
          842.2999999999846,
          923.8999999999862,
          886.6999999999867,
          882.1999999999862,
          875.5999999999851,
          854.2999999999855,
          842.2999999999869,
          893.2999999999879,
          886.2999999999887,
          861.9999999999894,
          846.8999999999904,
          831.2999999999904,
          842.4999999999905,
          846.1999999999903,
          847.0999999999894,
          820.0999999999902,
          804.4999999999902,
          819.4999999999885,
          801.1999999999886,
          791.3999999999887,
          787.0999999999872,
          773.699999999986,
          762.4999999999859,
          729.6999999999864,
          734.2999999999877,
          750.9999999999883,
          727.9999999999886,
          716.69999999999,
          664.0999999999918,
          616.6999999999922,
          585.6999999999912,
          525.8999999999902
         ]
        }
       ],
       "layout": {
        "font": {
         "color": "#e1e1e1",
         "size": 10
        },
        "height": 400,
        "margin": {
         "b": 10,
         "l": 15,
         "r": 15
        },
        "paper_bgcolor": "#1e1e1e",
        "plot_bgcolor": "#1e1e1e",
        "template": {
         "data": {
          "bar": [
           {
            "error_x": {
             "color": "#2a3f5f"
            },
            "error_y": {
             "color": "#2a3f5f"
            },
            "marker": {
             "line": {
              "color": "#E5ECF6",
              "width": 0.5
             },
             "pattern": {
              "fillmode": "overlay",
              "size": 10,
              "solidity": 0.2
             }
            },
            "type": "bar"
           }
          ],
          "barpolar": [
           {
            "marker": {
             "line": {
              "color": "#E5ECF6",
              "width": 0.5
             },
             "pattern": {
              "fillmode": "overlay",
              "size": 10,
              "solidity": 0.2
             }
            },
            "type": "barpolar"
           }
          ],
          "carpet": [
           {
            "aaxis": {
             "endlinecolor": "#2a3f5f",
             "gridcolor": "white",
             "linecolor": "white",
             "minorgridcolor": "white",
             "startlinecolor": "#2a3f5f"
            },
            "baxis": {
             "endlinecolor": "#2a3f5f",
             "gridcolor": "white",
             "linecolor": "white",
             "minorgridcolor": "white",
             "startlinecolor": "#2a3f5f"
            },
            "type": "carpet"
           }
          ],
          "choropleth": [
           {
            "colorbar": {
             "outlinewidth": 0,
             "ticks": ""
            },
            "type": "choropleth"
           }
          ],
          "contour": [
           {
            "colorbar": {
             "outlinewidth": 0,
             "ticks": ""
            },
            "colorscale": [
             [
              0,
              "#0d0887"
             ],
             [
              0.1111111111111111,
              "#46039f"
             ],
             [
              0.2222222222222222,
              "#7201a8"
             ],
             [
              0.3333333333333333,
              "#9c179e"
             ],
             [
              0.4444444444444444,
              "#bd3786"
             ],
             [
              0.5555555555555556,
              "#d8576b"
             ],
             [
              0.6666666666666666,
              "#ed7953"
             ],
             [
              0.7777777777777778,
              "#fb9f3a"
             ],
             [
              0.8888888888888888,
              "#fdca26"
             ],
             [
              1,
              "#f0f921"
             ]
            ],
            "type": "contour"
           }
          ],
          "contourcarpet": [
           {
            "colorbar": {
             "outlinewidth": 0,
             "ticks": ""
            },
            "type": "contourcarpet"
           }
          ],
          "heatmap": [
           {
            "colorbar": {
             "outlinewidth": 0,
             "ticks": ""
            },
            "colorscale": [
             [
              0,
              "#0d0887"
             ],
             [
              0.1111111111111111,
              "#46039f"
             ],
             [
              0.2222222222222222,
              "#7201a8"
             ],
             [
              0.3333333333333333,
              "#9c179e"
             ],
             [
              0.4444444444444444,
              "#bd3786"
             ],
             [
              0.5555555555555556,
              "#d8576b"
             ],
             [
              0.6666666666666666,
              "#ed7953"
             ],
             [
              0.7777777777777778,
              "#fb9f3a"
             ],
             [
              0.8888888888888888,
              "#fdca26"
             ],
             [
              1,
              "#f0f921"
             ]
            ],
            "type": "heatmap"
           }
          ],
          "heatmapgl": [
           {
            "colorbar": {
             "outlinewidth": 0,
             "ticks": ""
            },
            "colorscale": [
             [
              0,
              "#0d0887"
             ],
             [
              0.1111111111111111,
              "#46039f"
             ],
             [
              0.2222222222222222,
              "#7201a8"
             ],
             [
              0.3333333333333333,
              "#9c179e"
             ],
             [
              0.4444444444444444,
              "#bd3786"
             ],
             [
              0.5555555555555556,
              "#d8576b"
             ],
             [
              0.6666666666666666,
              "#ed7953"
             ],
             [
              0.7777777777777778,
              "#fb9f3a"
             ],
             [
              0.8888888888888888,
              "#fdca26"
             ],
             [
              1,
              "#f0f921"
             ]
            ],
            "type": "heatmapgl"
           }
          ],
          "histogram": [
           {
            "marker": {
             "pattern": {
              "fillmode": "overlay",
              "size": 10,
              "solidity": 0.2
             }
            },
            "type": "histogram"
           }
          ],
          "histogram2d": [
           {
            "colorbar": {
             "outlinewidth": 0,
             "ticks": ""
            },
            "colorscale": [
             [
              0,
              "#0d0887"
             ],
             [
              0.1111111111111111,
              "#46039f"
             ],
             [
              0.2222222222222222,
              "#7201a8"
             ],
             [
              0.3333333333333333,
              "#9c179e"
             ],
             [
              0.4444444444444444,
              "#bd3786"
             ],
             [
              0.5555555555555556,
              "#d8576b"
             ],
             [
              0.6666666666666666,
              "#ed7953"
             ],
             [
              0.7777777777777778,
              "#fb9f3a"
             ],
             [
              0.8888888888888888,
              "#fdca26"
             ],
             [
              1,
              "#f0f921"
             ]
            ],
            "type": "histogram2d"
           }
          ],
          "histogram2dcontour": [
           {
            "colorbar": {
             "outlinewidth": 0,
             "ticks": ""
            },
            "colorscale": [
             [
              0,
              "#0d0887"
             ],
             [
              0.1111111111111111,
              "#46039f"
             ],
             [
              0.2222222222222222,
              "#7201a8"
             ],
             [
              0.3333333333333333,
              "#9c179e"
             ],
             [
              0.4444444444444444,
              "#bd3786"
             ],
             [
              0.5555555555555556,
              "#d8576b"
             ],
             [
              0.6666666666666666,
              "#ed7953"
             ],
             [
              0.7777777777777778,
              "#fb9f3a"
             ],
             [
              0.8888888888888888,
              "#fdca26"
             ],
             [
              1,
              "#f0f921"
             ]
            ],
            "type": "histogram2dcontour"
           }
          ],
          "mesh3d": [
           {
            "colorbar": {
             "outlinewidth": 0,
             "ticks": ""
            },
            "type": "mesh3d"
           }
          ],
          "parcoords": [
           {
            "line": {
             "colorbar": {
              "outlinewidth": 0,
              "ticks": ""
             }
            },
            "type": "parcoords"
           }
          ],
          "pie": [
           {
            "automargin": true,
            "type": "pie"
           }
          ],
          "scatter": [
           {
            "marker": {
             "colorbar": {
              "outlinewidth": 0,
              "ticks": ""
             }
            },
            "type": "scatter"
           }
          ],
          "scatter3d": [
           {
            "line": {
             "colorbar": {
              "outlinewidth": 0,
              "ticks": ""
             }
            },
            "marker": {
             "colorbar": {
              "outlinewidth": 0,
              "ticks": ""
             }
            },
            "type": "scatter3d"
           }
          ],
          "scattercarpet": [
           {
            "marker": {
             "colorbar": {
              "outlinewidth": 0,
              "ticks": ""
             }
            },
            "type": "scattercarpet"
           }
          ],
          "scattergeo": [
           {
            "marker": {
             "colorbar": {
              "outlinewidth": 0,
              "ticks": ""
             }
            },
            "type": "scattergeo"
           }
          ],
          "scattergl": [
           {
            "marker": {
             "colorbar": {
              "outlinewidth": 0,
              "ticks": ""
             }
            },
            "type": "scattergl"
           }
          ],
          "scattermapbox": [
           {
            "marker": {
             "colorbar": {
              "outlinewidth": 0,
              "ticks": ""
             }
            },
            "type": "scattermapbox"
           }
          ],
          "scatterpolar": [
           {
            "marker": {
             "colorbar": {
              "outlinewidth": 0,
              "ticks": ""
             }
            },
            "type": "scatterpolar"
           }
          ],
          "scatterpolargl": [
           {
            "marker": {
             "colorbar": {
              "outlinewidth": 0,
              "ticks": ""
             }
            },
            "type": "scatterpolargl"
           }
          ],
          "scatterternary": [
           {
            "marker": {
             "colorbar": {
              "outlinewidth": 0,
              "ticks": ""
             }
            },
            "type": "scatterternary"
           }
          ],
          "surface": [
           {
            "colorbar": {
             "outlinewidth": 0,
             "ticks": ""
            },
            "colorscale": [
             [
              0,
              "#0d0887"
             ],
             [
              0.1111111111111111,
              "#46039f"
             ],
             [
              0.2222222222222222,
              "#7201a8"
             ],
             [
              0.3333333333333333,
              "#9c179e"
             ],
             [
              0.4444444444444444,
              "#bd3786"
             ],
             [
              0.5555555555555556,
              "#d8576b"
             ],
             [
              0.6666666666666666,
              "#ed7953"
             ],
             [
              0.7777777777777778,
              "#fb9f3a"
             ],
             [
              0.8888888888888888,
              "#fdca26"
             ],
             [
              1,
              "#f0f921"
             ]
            ],
            "type": "surface"
           }
          ],
          "table": [
           {
            "cells": {
             "fill": {
              "color": "#EBF0F8"
             },
             "line": {
              "color": "white"
             }
            },
            "header": {
             "fill": {
              "color": "#C8D4E3"
             },
             "line": {
              "color": "white"
             }
            },
            "type": "table"
           }
          ]
         },
         "layout": {
          "annotationdefaults": {
           "arrowcolor": "#2a3f5f",
           "arrowhead": 0,
           "arrowwidth": 1
          },
          "autotypenumbers": "strict",
          "coloraxis": {
           "colorbar": {
            "outlinewidth": 0,
            "ticks": ""
           }
          },
          "colorscale": {
           "diverging": [
            [
             0,
             "#8e0152"
            ],
            [
             0.1,
             "#c51b7d"
            ],
            [
             0.2,
             "#de77ae"
            ],
            [
             0.3,
             "#f1b6da"
            ],
            [
             0.4,
             "#fde0ef"
            ],
            [
             0.5,
             "#f7f7f7"
            ],
            [
             0.6,
             "#e6f5d0"
            ],
            [
             0.7,
             "#b8e186"
            ],
            [
             0.8,
             "#7fbc41"
            ],
            [
             0.9,
             "#4d9221"
            ],
            [
             1,
             "#276419"
            ]
           ],
           "sequential": [
            [
             0,
             "#0d0887"
            ],
            [
             0.1111111111111111,
             "#46039f"
            ],
            [
             0.2222222222222222,
             "#7201a8"
            ],
            [
             0.3333333333333333,
             "#9c179e"
            ],
            [
             0.4444444444444444,
             "#bd3786"
            ],
            [
             0.5555555555555556,
             "#d8576b"
            ],
            [
             0.6666666666666666,
             "#ed7953"
            ],
            [
             0.7777777777777778,
             "#fb9f3a"
            ],
            [
             0.8888888888888888,
             "#fdca26"
            ],
            [
             1,
             "#f0f921"
            ]
           ],
           "sequentialminus": [
            [
             0,
             "#0d0887"
            ],
            [
             0.1111111111111111,
             "#46039f"
            ],
            [
             0.2222222222222222,
             "#7201a8"
            ],
            [
             0.3333333333333333,
             "#9c179e"
            ],
            [
             0.4444444444444444,
             "#bd3786"
            ],
            [
             0.5555555555555556,
             "#d8576b"
            ],
            [
             0.6666666666666666,
             "#ed7953"
            ],
            [
             0.7777777777777778,
             "#fb9f3a"
            ],
            [
             0.8888888888888888,
             "#fdca26"
            ],
            [
             1,
             "#f0f921"
            ]
           ]
          },
          "colorway": [
           "#636efa",
           "#EF553B",
           "#00cc96",
           "#ab63fa",
           "#FFA15A",
           "#19d3f3",
           "#FF6692",
           "#B6E880",
           "#FF97FF",
           "#FECB52"
          ],
          "font": {
           "color": "#2a3f5f"
          },
          "geo": {
           "bgcolor": "white",
           "lakecolor": "white",
           "landcolor": "#E5ECF6",
           "showlakes": true,
           "showland": true,
           "subunitcolor": "white"
          },
          "hoverlabel": {
           "align": "left"
          },
          "hovermode": "closest",
          "mapbox": {
           "style": "light"
          },
          "paper_bgcolor": "white",
          "plot_bgcolor": "#E5ECF6",
          "polar": {
           "angularaxis": {
            "gridcolor": "white",
            "linecolor": "white",
            "ticks": ""
           },
           "bgcolor": "#E5ECF6",
           "radialaxis": {
            "gridcolor": "white",
            "linecolor": "white",
            "ticks": ""
           }
          },
          "scene": {
           "xaxis": {
            "backgroundcolor": "#E5ECF6",
            "gridcolor": "white",
            "gridwidth": 2,
            "linecolor": "white",
            "showbackground": true,
            "ticks": "",
            "zerolinecolor": "white"
           },
           "yaxis": {
            "backgroundcolor": "#E5ECF6",
            "gridcolor": "white",
            "gridwidth": 2,
            "linecolor": "white",
            "showbackground": true,
            "ticks": "",
            "zerolinecolor": "white"
           },
           "zaxis": {
            "backgroundcolor": "#E5ECF6",
            "gridcolor": "white",
            "gridwidth": 2,
            "linecolor": "white",
            "showbackground": true,
            "ticks": "",
            "zerolinecolor": "white"
           }
          },
          "shapedefaults": {
           "line": {
            "color": "#2a3f5f"
           }
          },
          "ternary": {
           "aaxis": {
            "gridcolor": "white",
            "linecolor": "white",
            "ticks": ""
           },
           "baxis": {
            "gridcolor": "white",
            "linecolor": "white",
            "ticks": ""
           },
           "bgcolor": "#E5ECF6",
           "caxis": {
            "gridcolor": "white",
            "linecolor": "white",
            "ticks": ""
           }
          },
          "title": {
           "x": 0.05
          },
          "xaxis": {
           "automargin": true,
           "gridcolor": "white",
           "linecolor": "white",
           "ticks": "",
           "title": {
            "standoff": 15
           },
           "zerolinecolor": "white",
           "zerolinewidth": 2
          },
          "yaxis": {
           "automargin": true,
           "gridcolor": "white",
           "linecolor": "white",
           "ticks": "",
           "title": {
            "standoff": 15
           },
           "zerolinecolor": "white",
           "zerolinewidth": 2
          }
         }
        },
        "title": {
         "text": "EUR_CAD_MA_8_16"
        },
        "width": 1000,
        "xaxis": {
         "linecolor": "#3a4a54",
         "linewidth": 1,
         "showgrid": false,
         "zeroline": false
        },
        "yaxis": {
         "linecolor": "#3a4a54",
         "linewidth": 1,
         "showgrid": false,
         "zeroline": false
        }
       }
      }
     },
     "metadata": {},
     "output_type": "display_data"
    },
    {
     "data": {
      "application/vnd.plotly.v1+json": {
       "config": {
        "plotlyServerURL": "https://plot.ly"
       },
       "data": [
        {
         "line": {
          "color": "#3d825f",
          "shape": "spline",
          "width": 2
         },
         "mode": "lines",
         "name": "GBP_JPY_MA_8_16",
         "type": "scatter",
         "x": [
          "2021-03-11T00:00:00+00:00",
          "2021-03-12T11:00:00+00:00",
          "2021-03-14T21:00:00+00:00",
          "2021-03-15T14:00:00+00:00",
          "2021-03-16T17:00:00+00:00",
          "2021-03-17T18:00:00+00:00",
          "2021-03-17T22:00:00+00:00",
          "2021-03-18T15:00:00+00:00",
          "2021-03-22T11:00:00+00:00",
          "2021-03-22T13:00:00+00:00",
          "2021-03-22T17:00:00+00:00",
          "2021-03-23T04:00:00+00:00",
          "2021-03-24T14:00:00+00:00",
          "2021-03-24T22:00:00+00:00",
          "2021-03-25T05:00:00+00:00",
          "2021-03-29T02:00:00+00:00",
          "2021-03-29T11:00:00+00:00",
          "2021-03-29T20:00:00+00:00",
          "2021-03-30T03:00:00+00:00",
          "2021-03-30T16:00:00+00:00",
          "2021-03-31T00:00:00+00:00",
          "2021-04-01T04:00:00+00:00",
          "2021-04-01T13:00:00+00:00",
          "2021-04-02T09:00:00+00:00",
          "2021-04-02T18:00:00+00:00",
          "2021-04-05T04:00:00+00:00",
          "2021-04-05T09:00:00+00:00",
          "2021-04-05T20:00:00+00:00",
          "2021-04-06T00:00:00+00:00",
          "2021-04-06T08:00:00+00:00",
          "2021-04-08T04:00:00+00:00",
          "2021-04-08T08:00:00+00:00",
          "2021-04-09T02:00:00+00:00",
          "2021-04-09T06:00:00+00:00",
          "2021-04-09T10:00:00+00:00",
          "2021-04-11T22:00:00+00:00",
          "2021-04-12T11:00:00+00:00",
          "2021-04-12T21:00:00+00:00",
          "2021-04-13T02:00:00+00:00",
          "2021-04-13T11:00:00+00:00",
          "2021-04-14T07:00:00+00:00",
          "2021-04-15T01:00:00+00:00",
          "2021-04-16T11:00:00+00:00",
          "2021-04-19T03:00:00+00:00",
          "2021-04-19T11:00:00+00:00",
          "2021-04-20T14:00:00+00:00",
          "2021-04-21T11:00:00+00:00",
          "2021-04-21T17:00:00+00:00",
          "2021-04-21T21:00:00+00:00",
          "2021-04-21T22:00:00+00:00",
          "2021-04-22T02:00:00+00:00",
          "2021-04-22T04:00:00+00:00",
          "2021-04-23T07:00:00+00:00",
          "2021-04-23T15:00:00+00:00",
          "2021-04-25T21:00:00+00:00",
          "2021-04-28T06:00:00+00:00",
          "2021-04-28T12:00:00+00:00",
          "2021-04-29T21:00:00+00:00",
          "2021-05-03T03:00:00+00:00",
          "2021-05-03T21:00:00+00:00",
          "2021-05-04T09:00:00+00:00",
          "2021-05-04T13:00:00+00:00",
          "2021-05-04T20:00:00+00:00",
          "2021-05-05T14:00:00+00:00",
          "2021-05-06T04:00:00+00:00",
          "2021-05-06T11:00:00+00:00",
          "2021-05-07T03:00:00+00:00",
          "2021-05-07T16:00:00+00:00",
          "2021-05-07T19:00:00+00:00",
          "2021-05-11T02:00:00+00:00",
          "2021-05-11T04:00:00+00:00",
          "2021-05-11T05:00:00+00:00",
          "2021-05-11T08:00:00+00:00",
          "2021-05-11T12:00:00+00:00",
          "2021-05-11T23:00:00+00:00",
          "2021-05-12T02:00:00+00:00",
          "2021-05-12T08:00:00+00:00",
          "2021-05-13T08:00:00+00:00",
          "2021-05-14T01:00:00+00:00",
          "2021-05-14T10:00:00+00:00",
          "2021-05-14T13:00:00+00:00",
          "2021-05-17T02:00:00+00:00",
          "2021-05-17T16:00:00+00:00",
          "2021-05-18T16:00:00+00:00",
          "2021-05-19T05:00:00+00:00",
          "2021-05-19T13:00:00+00:00",
          "2021-05-20T03:00:00+00:00",
          "2021-05-20T06:00:00+00:00",
          "2021-05-20T16:00:00+00:00",
          "2021-05-21T06:00:00+00:00",
          "2021-05-21T13:00:00+00:00",
          "2021-05-21T18:00:00+00:00",
          "2021-05-24T18:00:00+00:00",
          "2021-05-25T15:00:00+00:00",
          "2021-05-26T03:00:00+00:00",
          "2021-05-26T18:00:00+00:00",
          "2021-05-26T21:00:00+00:00",
          "2021-05-26T23:00:00+00:00",
          "2021-05-27T10:00:00+00:00",
          "2021-05-28T07:00:00+00:00",
          "2021-05-30T21:00:00+00:00",
          "2021-05-31T02:00:00+00:00",
          "2021-05-31T20:00:00+00:00",
          "2021-06-01T10:00:00+00:00",
          "2021-06-02T03:00:00+00:00",
          "2021-06-02T23:00:00+00:00",
          "2021-06-03T03:00:00+00:00",
          "2021-06-03T19:00:00+00:00",
          "2021-06-04T03:00:00+00:00",
          "2021-06-04T04:00:00+00:00",
          "2021-06-04T12:00:00+00:00",
          "2021-06-04T16:00:00+00:00",
          "2021-06-07T16:00:00+00:00",
          "2021-06-08T06:00:00+00:00",
          "2021-06-08T19:00:00+00:00",
          "2021-06-09T14:00:00+00:00",
          "2021-06-10T14:00:00+00:00",
          "2021-06-11T03:00:00+00:00",
          "2021-06-11T04:00:00+00:00",
          "2021-06-11T12:00:00+00:00",
          "2021-06-14T03:00:00+00:00",
          "2021-06-14T08:00:00+00:00",
          "2021-06-14T15:00:00+00:00",
          "2021-06-15T09:00:00+00:00",
          "2021-06-15T23:00:00+00:00",
          "2021-06-16T17:00:00+00:00",
          "2021-06-17T06:00:00+00:00",
          "2021-06-17T07:00:00+00:00",
          "2021-06-18T04:00:00+00:00",
          "2021-06-18T06:00:00+00:00",
          "2021-06-21T11:00:00+00:00",
          "2021-06-22T06:00:00+00:00",
          "2021-06-22T15:00:00+00:00",
          "2021-06-23T21:00:00+00:00",
          "2021-06-23T22:00:00+00:00",
          "2021-06-24T06:00:00+00:00",
          "2021-06-25T00:00:00+00:00",
          "2021-06-25T07:00:00+00:00",
          "2021-06-28T09:00:00+00:00",
          "2021-06-28T17:00:00+00:00",
          "2021-06-29T23:00:00+00:00",
          "2021-06-30T08:00:00+00:00",
          "2021-06-30T12:00:00+00:00",
          "2021-07-01T07:00:00+00:00",
          "2021-07-01T09:00:00+00:00",
          "2021-07-01T20:00:00+00:00",
          "2021-07-02T05:00:00+00:00",
          "2021-07-02T10:00:00+00:00",
          "2021-07-02T19:00:00+00:00",
          "2021-07-05T07:00:00+00:00",
          "2021-07-05T16:00:00+00:00",
          "2021-07-06T10:00:00+00:00",
          "2021-07-07T08:00:00+00:00",
          "2021-07-07T18:00:00+00:00",
          "2021-07-08T22:00:00+00:00",
          "2021-07-12T08:00:00+00:00",
          "2021-07-12T17:00:00+00:00",
          "2021-07-13T09:00:00+00:00",
          "2021-07-13T22:00:00+00:00",
          "2021-07-14T02:00:00+00:00",
          "2021-07-14T08:00:00+00:00",
          "2021-07-14T17:00:00+00:00",
          "2021-07-15T12:00:00+00:00",
          "2021-07-15T19:00:00+00:00",
          "2021-07-16T05:00:00+00:00",
          "2021-07-16T16:00:00+00:00",
          "2021-07-20T03:00:00+00:00",
          "2021-07-20T07:00:00+00:00",
          "2021-07-20T19:00:00+00:00",
          "2021-07-21T07:00:00+00:00",
          "2021-07-21T10:00:00+00:00",
          "2021-07-22T04:00:00+00:00",
          "2021-07-22T09:00:00+00:00",
          "2021-07-26T02:00:00+00:00",
          "2021-07-26T12:00:00+00:00",
          "2021-07-27T04:00:00+00:00",
          "2021-07-27T18:00:00+00:00",
          "2021-07-29T19:00:00+00:00",
          "2021-07-30T09:00:00+00:00",
          "2021-07-30T17:00:00+00:00",
          "2021-08-02T08:00:00+00:00",
          "2021-08-02T13:00:00+00:00",
          "2021-08-03T10:00:00+00:00",
          "2021-08-03T15:00:00+00:00",
          "2021-08-04T02:00:00+00:00",
          "2021-08-06T06:00:00+00:00",
          "2021-08-06T15:00:00+00:00",
          "2021-08-09T01:00:00+00:00",
          "2021-08-10T01:00:00+00:00",
          "2021-08-10T20:00:00+00:00",
          "2021-08-11T06:00:00+00:00",
          "2021-08-12T01:00:00+00:00",
          "2021-08-18T02:00:00+00:00",
          "2021-08-19T00:00:00+00:00",
          "2021-08-20T17:00:00+00:00",
          "2021-08-24T00:00:00+00:00",
          "2021-08-24T05:00:00+00:00",
          "2021-08-24T13:00:00+00:00",
          "2021-08-24T21:00:00+00:00",
          "2021-08-25T09:00:00+00:00",
          "2021-08-25T11:00:00+00:00",
          "2021-08-26T07:00:00+00:00",
          "2021-08-27T09:00:00+00:00",
          "2021-08-30T01:00:00+00:00",
          "2021-08-30T14:00:00+00:00",
          "2021-08-30T16:00:00+00:00",
          "2021-08-30T17:00:00+00:00",
          "2021-08-31T14:00:00+00:00",
          "2021-09-01T00:00:00+00:00",
          "2021-09-01T19:00:00+00:00",
          "2021-09-02T08:00:00+00:00",
          "2021-09-03T10:00:00+00:00",
          "2021-09-05T21:00:00+00:00",
          "2021-09-06T06:00:00+00:00",
          "2021-09-07T01:00:00+00:00",
          "2021-09-07T09:00:00+00:00",
          "2021-09-07T19:00:00+00:00",
          "2021-09-08T06:00:00+00:00",
          "2021-09-08T20:00:00+00:00",
          "2021-09-09T02:00:00+00:00",
          "2021-09-09T12:00:00+00:00",
          "2021-09-09T22:00:00+00:00",
          "2021-09-10T04:00:00+00:00",
          "2021-09-10T18:00:00+00:00",
          "2021-09-13T08:00:00+00:00",
          "2021-09-13T23:00:00+00:00",
          "2021-09-14T00:00:00+00:00",
          "2021-09-14T16:00:00+00:00",
          "2021-09-15T19:00:00+00:00",
          "2021-09-16T05:00:00+00:00",
          "2021-09-16T15:00:00+00:00",
          "2021-09-17T16:00:00+00:00",
          "2021-09-21T02:00:00+00:00",
          "2021-09-21T14:00:00+00:00",
          "2021-09-22T03:00:00+00:00",
          "2021-09-22T14:00:00+00:00",
          "2021-09-22T15:00:00+00:00",
          "2021-09-24T11:00:00+00:00",
          "2021-09-24T20:00:00+00:00",
          "2021-09-27T03:00:00+00:00",
          "2021-09-27T08:00:00+00:00",
          "2021-09-28T11:00:00+00:00",
          "2021-09-29T03:00:00+00:00",
          "2021-09-29T07:00:00+00:00",
          "2021-09-29T22:00:00+00:00",
          "2021-09-30T17:00:00+00:00",
          "2021-10-01T12:00:00+00:00",
          "2021-10-04T02:00:00+00:00",
          "2021-10-04T09:00:00+00:00",
          "2021-10-04T21:00:00+00:00",
          "2021-10-05T04:00:00+00:00",
          "2021-10-06T07:00:00+00:00",
          "2021-10-06T22:00:00+00:00",
          "2021-10-07T09:00:00+00:00",
          "2021-10-07T11:00:00+00:00",
          "2021-10-11T23:00:00+00:00",
          "2021-10-12T10:00:00+00:00",
          "2021-10-12T23:00:00+00:00",
          "2021-10-13T07:00:00+00:00",
          "2021-10-14T21:00:00+00:00",
          "2021-10-15T01:00:00+00:00",
          "2021-10-18T00:00:00+00:00",
          "2021-10-18T23:00:00+00:00",
          "2021-10-20T10:00:00+00:00",
          "2021-10-20T19:00:00+00:00",
          "2021-10-21T05:00:00+00:00",
          "2021-10-22T01:00:00+00:00",
          "2021-10-22T10:00:00+00:00",
          "2021-10-25T03:00:00+00:00",
          "2021-10-25T13:00:00+00:00",
          "2021-10-25T19:00:00+00:00",
          "2021-10-26T21:00:00+00:00",
          "2021-10-27T21:00:00+00:00",
          "2021-10-28T03:00:00+00:00"
         ],
         "y": [
          25.600000000000023,
          -18.299999999999272,
          -29.399999999998272,
          -8.499999999997954,
          26.300000000003365,
          5.500000000003524,
          -6.799999999998363,
          103.39999999999918,
          66.19999999999777,
          27.09999999999866,
          -9.899999999998954,
          90.60000000000343,
          26.20000000000573,
          -16.699999999994475,
          154.0000000000049,
          69.30000000000689,
          10.400000000007026,
          -21.999999999994202,
          -41.19999999999493,
          -122.6999999999947,
          -94.19999999999504,
          -149.59999999999525,
          -160.99999999999284,
          -179.3999999999926,
          -181.99999999999363,
          -207.89999999999225,
          -214.59999999999013,
          -225.99999999999056,
          -261.3999999999919,
          -56.09999999999218,
          -121.39999999999134,
          -106.39999999999077,
          -145.39999999999225,
          -221.09999999999275,
          -223.39999999999236,
          -227.9999999999916,
          -243.29999999999075,
          -276.39999999998963,
          -327.6999999999873,
          -336.5999999999872,
          -363.39999999998724,
          -377.7999999999878,
          -360.39999999999,
          -391.9999999999902,
          -368.3999999999884,
          -336.1999999999881,
          -324.7999999999905,
          -316.7999999999921,
          -325.499999999991,
          -339.7999999999911,
          -362.39999999999384,
          -311.7999999999938,
          -355.3999999999917,
          -389.399999999992,
          -242.5999999999931,
          -228.59999999999445,
          -150.0999999999948,
          -105.79999999999359,
          -76.59999999999343,
          -88.79999999999484,
          -157.5999999999965,
          -217.09999999999638,
          -202.99999999999727,
          -215.7999999999987,
          -227.79999999999916,
          -212.19999999999857,
          -195.799999999997,
          -208.79999999999654,
          -31.599999999997408,
          -18.599999999997863,
          -9.699999999997999,
          -18.99999999999693,
          -42.999999999995,
          -46.39999999999418,
          -46.09999999999275,
          -56.99999999999079,
          -62.99999999999102,
          -85.19999999999186,
          -93.19999999999027,
          -122.099999999989,
          -135.89999999998952,
          -161.6999999999905,
          -128.79999999998972,
          -137.1999999999872,
          -187.59999999998627,
          -172.5999999999857,
          -168.19999999998458,
          -186.19999999998527,
          -191.1999999999864,
          -198.39999999998668,
          -208.79999999998802,
          -192.59999999999025,
          -206.79999999999268,
          -227.29999999999393,
          -222.09999999999468,
          -219.59999999999695,
          -220.799999999997,
          -228.39999999999634,
          -52.79999999999632,
          -52.29999999999677,
          -73.99999999999807,
          -78.39999999999918,
          -112.99999999999955,
          -94.29999999999836,
          -85.09999999999707,
          -94.59999999999695,
          -78.79999999999825,
          -62.599999999997635,
          -60.99999999999568,
          -81.69999999999504,
          -135.79999999999472,
          -123.79999999999427,
          -128.3999999999935,
          -134.39999999999372,
          -149.99999999999432,
          -168.79999999999313,
          -158.3999999999918,
          -162.399999999991,
          -175.5999999999915,
          -163.799999999992,
          -210.6999999999914,
          -292.1999999999912,
          -312.399999999991,
          -308.3999999999918,
          -313.799999999992,
          -302.79999999999063,
          -333.09999999999036,
          -211.3999999999919,
          -287.59999999999195,
          -309.59999999999184,
          -239.1999999999939,
          -307.1999999999946,
          -228.29999999999302,
          -230.39999999999168,
          -251.39999999999247,
          -212.39999999999384,
          -243.2999999999936,
          -244.09999999999172,
          -307.09999999999127,
          -260.89999999999236,
          -276.3999999999925,
          -309.9999999999909,
          -248.49999999999,
          -232.5999999999908,
          -242.39999999999213,
          -255.7999999999936,
          -308.5999999999956,
          -356.9999999999965,
          -359.5999999999947,
          -368.1999999999931,
          -405.6999999999931,
          -336.99999999999477,
          -331.899999999996,
          -199.59999999999525,
          -74.59999999999525,
          -129.99999999999545,
          -170.3999999999951,
          -172.59999999999422,
          -173.59999999999332,
          -200.09999999999195,
          -260.7999999999919,
          -258.6999999999932,
          -319.7999999999922,
          -353.5999999999916,
          -394.39999999999316,
          -184.89999999999327,
          -195.39999999999225,
          -214.59999999999297,
          -202.19999999999345,
          -207.1999999999946,
          -86.39999999999475,
          -137.0999999999924,
          -124.5999999999924,
          -161.09999999999332,
          -128.59999999999445,
          -124.7999999999962,
          -77.1999999999963,
          -102.79999999999632,
          -153.39999999999634,
          -159.1999999999956,
          -196.49999999999466,
          -182.99999999999272,
          -225.99999999999056,
          -241.49999999999068,
          -138.59999999999104,
          -140.29999999999063,
          -155.79999999999075,
          -150.1999999999896,
          -113.99999999998727,
          -118.19999999998743,
          -121.79999999998756,
          115.10000000001241,
          150.30000000000996,
          295.0000000000074,
          389.8000000000053,
          353.40000000000487,
          302.4000000000058,
          286.90000000000566,
          303.80000000000393,
          305.000000000004,
          378.40000000000487,
          430.10000000000446,
          447.40000000000464,
          437.60000000000616,
          434.800000000007,
          433.60000000000696,
          432.4000000000069,
          413.8000000000062,
          425.6000000000057,
          408.400000000006,
          433.400000000006,
          411.90000000000566,
          406.0000000000059,
          402.4000000000058,
          381.50000000000546,
          371.40000000000555,
          366.00000000000534,
          374.70000000000425,
          357.00000000000216,
          317.10000000000207,
          303.3000000000044,
          278.8000000000068,
          277.60000000000673,
          279.4000000000068,
          285.70000000000846,
          277.20000000000766,
          231.0000000000059,
          272.2000000000065,
          232.10000000000832,
          217.20000000000823,
          219.40000000000737,
          358.2000000000079,
          278.60000000000866,
          235.60000000000798,
          247.80000000000655,
          223.20000000000562,
          359.4000000000051,
          334.000000000006,
          311.200000000008,
          233.1000000000074,
          189.00000000000716,
          248.60000000000753,
          200.90000000000714,
          208.9000000000084,
          165.0000000000091,
          128.2000000000096,
          135.80000000000894,
          61.60000000000707,
          45.10000000000787,
          30.8000000000078,
          67.20000000000539,
          71.9000000000051,
          79.80000000000587,
          78.30000000000723,
          337.9000000000076,
          314.40000000000623,
          294.4000000000045,
          239.3000000000029,
          313.20000000000334,
          278.70000000000346,
          402.800000000002,
          406.2000000000012,
          455.60000000000116,
          404.8000000000002,
          350.39999999999907,
          339.1999999999996,
          271.6000000000008,
          300.20000000000095,
          283.4000000000003,
          272.999999999999,
          332.79999999999745,
          405.79999999999643,
          384.79999999999563,
          361.39999999999475
         ]
        }
       ],
       "layout": {
        "font": {
         "color": "#e1e1e1",
         "size": 10
        },
        "height": 400,
        "margin": {
         "b": 10,
         "l": 15,
         "r": 15
        },
        "paper_bgcolor": "#1e1e1e",
        "plot_bgcolor": "#1e1e1e",
        "template": {
         "data": {
          "bar": [
           {
            "error_x": {
             "color": "#2a3f5f"
            },
            "error_y": {
             "color": "#2a3f5f"
            },
            "marker": {
             "line": {
              "color": "#E5ECF6",
              "width": 0.5
             },
             "pattern": {
              "fillmode": "overlay",
              "size": 10,
              "solidity": 0.2
             }
            },
            "type": "bar"
           }
          ],
          "barpolar": [
           {
            "marker": {
             "line": {
              "color": "#E5ECF6",
              "width": 0.5
             },
             "pattern": {
              "fillmode": "overlay",
              "size": 10,
              "solidity": 0.2
             }
            },
            "type": "barpolar"
           }
          ],
          "carpet": [
           {
            "aaxis": {
             "endlinecolor": "#2a3f5f",
             "gridcolor": "white",
             "linecolor": "white",
             "minorgridcolor": "white",
             "startlinecolor": "#2a3f5f"
            },
            "baxis": {
             "endlinecolor": "#2a3f5f",
             "gridcolor": "white",
             "linecolor": "white",
             "minorgridcolor": "white",
             "startlinecolor": "#2a3f5f"
            },
            "type": "carpet"
           }
          ],
          "choropleth": [
           {
            "colorbar": {
             "outlinewidth": 0,
             "ticks": ""
            },
            "type": "choropleth"
           }
          ],
          "contour": [
           {
            "colorbar": {
             "outlinewidth": 0,
             "ticks": ""
            },
            "colorscale": [
             [
              0,
              "#0d0887"
             ],
             [
              0.1111111111111111,
              "#46039f"
             ],
             [
              0.2222222222222222,
              "#7201a8"
             ],
             [
              0.3333333333333333,
              "#9c179e"
             ],
             [
              0.4444444444444444,
              "#bd3786"
             ],
             [
              0.5555555555555556,
              "#d8576b"
             ],
             [
              0.6666666666666666,
              "#ed7953"
             ],
             [
              0.7777777777777778,
              "#fb9f3a"
             ],
             [
              0.8888888888888888,
              "#fdca26"
             ],
             [
              1,
              "#f0f921"
             ]
            ],
            "type": "contour"
           }
          ],
          "contourcarpet": [
           {
            "colorbar": {
             "outlinewidth": 0,
             "ticks": ""
            },
            "type": "contourcarpet"
           }
          ],
          "heatmap": [
           {
            "colorbar": {
             "outlinewidth": 0,
             "ticks": ""
            },
            "colorscale": [
             [
              0,
              "#0d0887"
             ],
             [
              0.1111111111111111,
              "#46039f"
             ],
             [
              0.2222222222222222,
              "#7201a8"
             ],
             [
              0.3333333333333333,
              "#9c179e"
             ],
             [
              0.4444444444444444,
              "#bd3786"
             ],
             [
              0.5555555555555556,
              "#d8576b"
             ],
             [
              0.6666666666666666,
              "#ed7953"
             ],
             [
              0.7777777777777778,
              "#fb9f3a"
             ],
             [
              0.8888888888888888,
              "#fdca26"
             ],
             [
              1,
              "#f0f921"
             ]
            ],
            "type": "heatmap"
           }
          ],
          "heatmapgl": [
           {
            "colorbar": {
             "outlinewidth": 0,
             "ticks": ""
            },
            "colorscale": [
             [
              0,
              "#0d0887"
             ],
             [
              0.1111111111111111,
              "#46039f"
             ],
             [
              0.2222222222222222,
              "#7201a8"
             ],
             [
              0.3333333333333333,
              "#9c179e"
             ],
             [
              0.4444444444444444,
              "#bd3786"
             ],
             [
              0.5555555555555556,
              "#d8576b"
             ],
             [
              0.6666666666666666,
              "#ed7953"
             ],
             [
              0.7777777777777778,
              "#fb9f3a"
             ],
             [
              0.8888888888888888,
              "#fdca26"
             ],
             [
              1,
              "#f0f921"
             ]
            ],
            "type": "heatmapgl"
           }
          ],
          "histogram": [
           {
            "marker": {
             "pattern": {
              "fillmode": "overlay",
              "size": 10,
              "solidity": 0.2
             }
            },
            "type": "histogram"
           }
          ],
          "histogram2d": [
           {
            "colorbar": {
             "outlinewidth": 0,
             "ticks": ""
            },
            "colorscale": [
             [
              0,
              "#0d0887"
             ],
             [
              0.1111111111111111,
              "#46039f"
             ],
             [
              0.2222222222222222,
              "#7201a8"
             ],
             [
              0.3333333333333333,
              "#9c179e"
             ],
             [
              0.4444444444444444,
              "#bd3786"
             ],
             [
              0.5555555555555556,
              "#d8576b"
             ],
             [
              0.6666666666666666,
              "#ed7953"
             ],
             [
              0.7777777777777778,
              "#fb9f3a"
             ],
             [
              0.8888888888888888,
              "#fdca26"
             ],
             [
              1,
              "#f0f921"
             ]
            ],
            "type": "histogram2d"
           }
          ],
          "histogram2dcontour": [
           {
            "colorbar": {
             "outlinewidth": 0,
             "ticks": ""
            },
            "colorscale": [
             [
              0,
              "#0d0887"
             ],
             [
              0.1111111111111111,
              "#46039f"
             ],
             [
              0.2222222222222222,
              "#7201a8"
             ],
             [
              0.3333333333333333,
              "#9c179e"
             ],
             [
              0.4444444444444444,
              "#bd3786"
             ],
             [
              0.5555555555555556,
              "#d8576b"
             ],
             [
              0.6666666666666666,
              "#ed7953"
             ],
             [
              0.7777777777777778,
              "#fb9f3a"
             ],
             [
              0.8888888888888888,
              "#fdca26"
             ],
             [
              1,
              "#f0f921"
             ]
            ],
            "type": "histogram2dcontour"
           }
          ],
          "mesh3d": [
           {
            "colorbar": {
             "outlinewidth": 0,
             "ticks": ""
            },
            "type": "mesh3d"
           }
          ],
          "parcoords": [
           {
            "line": {
             "colorbar": {
              "outlinewidth": 0,
              "ticks": ""
             }
            },
            "type": "parcoords"
           }
          ],
          "pie": [
           {
            "automargin": true,
            "type": "pie"
           }
          ],
          "scatter": [
           {
            "marker": {
             "colorbar": {
              "outlinewidth": 0,
              "ticks": ""
             }
            },
            "type": "scatter"
           }
          ],
          "scatter3d": [
           {
            "line": {
             "colorbar": {
              "outlinewidth": 0,
              "ticks": ""
             }
            },
            "marker": {
             "colorbar": {
              "outlinewidth": 0,
              "ticks": ""
             }
            },
            "type": "scatter3d"
           }
          ],
          "scattercarpet": [
           {
            "marker": {
             "colorbar": {
              "outlinewidth": 0,
              "ticks": ""
             }
            },
            "type": "scattercarpet"
           }
          ],
          "scattergeo": [
           {
            "marker": {
             "colorbar": {
              "outlinewidth": 0,
              "ticks": ""
             }
            },
            "type": "scattergeo"
           }
          ],
          "scattergl": [
           {
            "marker": {
             "colorbar": {
              "outlinewidth": 0,
              "ticks": ""
             }
            },
            "type": "scattergl"
           }
          ],
          "scattermapbox": [
           {
            "marker": {
             "colorbar": {
              "outlinewidth": 0,
              "ticks": ""
             }
            },
            "type": "scattermapbox"
           }
          ],
          "scatterpolar": [
           {
            "marker": {
             "colorbar": {
              "outlinewidth": 0,
              "ticks": ""
             }
            },
            "type": "scatterpolar"
           }
          ],
          "scatterpolargl": [
           {
            "marker": {
             "colorbar": {
              "outlinewidth": 0,
              "ticks": ""
             }
            },
            "type": "scatterpolargl"
           }
          ],
          "scatterternary": [
           {
            "marker": {
             "colorbar": {
              "outlinewidth": 0,
              "ticks": ""
             }
            },
            "type": "scatterternary"
           }
          ],
          "surface": [
           {
            "colorbar": {
             "outlinewidth": 0,
             "ticks": ""
            },
            "colorscale": [
             [
              0,
              "#0d0887"
             ],
             [
              0.1111111111111111,
              "#46039f"
             ],
             [
              0.2222222222222222,
              "#7201a8"
             ],
             [
              0.3333333333333333,
              "#9c179e"
             ],
             [
              0.4444444444444444,
              "#bd3786"
             ],
             [
              0.5555555555555556,
              "#d8576b"
             ],
             [
              0.6666666666666666,
              "#ed7953"
             ],
             [
              0.7777777777777778,
              "#fb9f3a"
             ],
             [
              0.8888888888888888,
              "#fdca26"
             ],
             [
              1,
              "#f0f921"
             ]
            ],
            "type": "surface"
           }
          ],
          "table": [
           {
            "cells": {
             "fill": {
              "color": "#EBF0F8"
             },
             "line": {
              "color": "white"
             }
            },
            "header": {
             "fill": {
              "color": "#C8D4E3"
             },
             "line": {
              "color": "white"
             }
            },
            "type": "table"
           }
          ]
         },
         "layout": {
          "annotationdefaults": {
           "arrowcolor": "#2a3f5f",
           "arrowhead": 0,
           "arrowwidth": 1
          },
          "autotypenumbers": "strict",
          "coloraxis": {
           "colorbar": {
            "outlinewidth": 0,
            "ticks": ""
           }
          },
          "colorscale": {
           "diverging": [
            [
             0,
             "#8e0152"
            ],
            [
             0.1,
             "#c51b7d"
            ],
            [
             0.2,
             "#de77ae"
            ],
            [
             0.3,
             "#f1b6da"
            ],
            [
             0.4,
             "#fde0ef"
            ],
            [
             0.5,
             "#f7f7f7"
            ],
            [
             0.6,
             "#e6f5d0"
            ],
            [
             0.7,
             "#b8e186"
            ],
            [
             0.8,
             "#7fbc41"
            ],
            [
             0.9,
             "#4d9221"
            ],
            [
             1,
             "#276419"
            ]
           ],
           "sequential": [
            [
             0,
             "#0d0887"
            ],
            [
             0.1111111111111111,
             "#46039f"
            ],
            [
             0.2222222222222222,
             "#7201a8"
            ],
            [
             0.3333333333333333,
             "#9c179e"
            ],
            [
             0.4444444444444444,
             "#bd3786"
            ],
            [
             0.5555555555555556,
             "#d8576b"
            ],
            [
             0.6666666666666666,
             "#ed7953"
            ],
            [
             0.7777777777777778,
             "#fb9f3a"
            ],
            [
             0.8888888888888888,
             "#fdca26"
            ],
            [
             1,
             "#f0f921"
            ]
           ],
           "sequentialminus": [
            [
             0,
             "#0d0887"
            ],
            [
             0.1111111111111111,
             "#46039f"
            ],
            [
             0.2222222222222222,
             "#7201a8"
            ],
            [
             0.3333333333333333,
             "#9c179e"
            ],
            [
             0.4444444444444444,
             "#bd3786"
            ],
            [
             0.5555555555555556,
             "#d8576b"
            ],
            [
             0.6666666666666666,
             "#ed7953"
            ],
            [
             0.7777777777777778,
             "#fb9f3a"
            ],
            [
             0.8888888888888888,
             "#fdca26"
            ],
            [
             1,
             "#f0f921"
            ]
           ]
          },
          "colorway": [
           "#636efa",
           "#EF553B",
           "#00cc96",
           "#ab63fa",
           "#FFA15A",
           "#19d3f3",
           "#FF6692",
           "#B6E880",
           "#FF97FF",
           "#FECB52"
          ],
          "font": {
           "color": "#2a3f5f"
          },
          "geo": {
           "bgcolor": "white",
           "lakecolor": "white",
           "landcolor": "#E5ECF6",
           "showlakes": true,
           "showland": true,
           "subunitcolor": "white"
          },
          "hoverlabel": {
           "align": "left"
          },
          "hovermode": "closest",
          "mapbox": {
           "style": "light"
          },
          "paper_bgcolor": "white",
          "plot_bgcolor": "#E5ECF6",
          "polar": {
           "angularaxis": {
            "gridcolor": "white",
            "linecolor": "white",
            "ticks": ""
           },
           "bgcolor": "#E5ECF6",
           "radialaxis": {
            "gridcolor": "white",
            "linecolor": "white",
            "ticks": ""
           }
          },
          "scene": {
           "xaxis": {
            "backgroundcolor": "#E5ECF6",
            "gridcolor": "white",
            "gridwidth": 2,
            "linecolor": "white",
            "showbackground": true,
            "ticks": "",
            "zerolinecolor": "white"
           },
           "yaxis": {
            "backgroundcolor": "#E5ECF6",
            "gridcolor": "white",
            "gridwidth": 2,
            "linecolor": "white",
            "showbackground": true,
            "ticks": "",
            "zerolinecolor": "white"
           },
           "zaxis": {
            "backgroundcolor": "#E5ECF6",
            "gridcolor": "white",
            "gridwidth": 2,
            "linecolor": "white",
            "showbackground": true,
            "ticks": "",
            "zerolinecolor": "white"
           }
          },
          "shapedefaults": {
           "line": {
            "color": "#2a3f5f"
           }
          },
          "ternary": {
           "aaxis": {
            "gridcolor": "white",
            "linecolor": "white",
            "ticks": ""
           },
           "baxis": {
            "gridcolor": "white",
            "linecolor": "white",
            "ticks": ""
           },
           "bgcolor": "#E5ECF6",
           "caxis": {
            "gridcolor": "white",
            "linecolor": "white",
            "ticks": ""
           }
          },
          "title": {
           "x": 0.05
          },
          "xaxis": {
           "automargin": true,
           "gridcolor": "white",
           "linecolor": "white",
           "ticks": "",
           "title": {
            "standoff": 15
           },
           "zerolinecolor": "white",
           "zerolinewidth": 2
          },
          "yaxis": {
           "automargin": true,
           "gridcolor": "white",
           "linecolor": "white",
           "ticks": "",
           "title": {
            "standoff": 15
           },
           "zerolinecolor": "white",
           "zerolinewidth": 2
          }
         }
        },
        "title": {
         "text": "GBP_JPY_MA_8_16"
        },
        "width": 1000,
        "xaxis": {
         "linecolor": "#3a4a54",
         "linewidth": 1,
         "showgrid": false,
         "zeroline": false
        },
        "yaxis": {
         "linecolor": "#3a4a54",
         "linewidth": 1,
         "showgrid": false,
         "zeroline": false
        }
       }
      }
     },
     "metadata": {},
     "output_type": "display_data"
    }
   ],
   "source": [
    "c = 'MA_8_16'\n",
    "for p in our_pairs:\n",
    "    temp_df = all_trades[(all_trades.CROSS==c)&(all_trades.PAIR==p)].copy()\n",
    "    temp_df['CUM_GAIN'] = temp_df.GAIN.cumsum()\n",
    "    plot_line(temp_df, p + '_' + c)"
   ]
  },
  {
   "cell_type": "code",
   "execution_count": 61,
   "metadata": {},
   "outputs": [
    {
     "data": {
      "application/vnd.plotly.v1+json": {
       "config": {
        "plotlyServerURL": "https://plot.ly"
       },
       "data": [
        {
         "line": {
          "color": "#3d825f",
          "shape": "spline",
          "width": 2
         },
         "mode": "lines",
         "name": "MA_32_64",
         "type": "scatter",
         "x": [
          "2021-03-12T09:00:00+00:00",
          "2021-03-14T22:00:00+00:00",
          "2021-03-15T03:00:00+00:00",
          "2021-03-15T05:00:00+00:00",
          "2021-03-15T07:00:00+00:00",
          "2021-03-15T14:00:00+00:00",
          "2021-03-15T20:00:00+00:00",
          "2021-03-15T22:00:00+00:00",
          "2021-03-16T01:00:00+00:00",
          "2021-03-16T02:00:00+00:00",
          "2021-03-16T06:00:00+00:00",
          "2021-03-16T11:00:00+00:00",
          "2021-03-16T13:00:00+00:00",
          "2021-03-16T18:00:00+00:00",
          "2021-03-17T02:00:00+00:00",
          "2021-03-17T05:00:00+00:00",
          "2021-03-17T06:00:00+00:00",
          "2021-03-17T11:00:00+00:00",
          "2021-03-17T14:00:00+00:00",
          "2021-03-17T18:00:00+00:00",
          "2021-03-17T20:00:00+00:00",
          "2021-03-17T23:00:00+00:00",
          "2021-03-18T00:00:00+00:00",
          "2021-03-18T01:00:00+00:00",
          "2021-03-18T02:00:00+00:00",
          "2021-03-18T04:00:00+00:00",
          "2021-03-18T05:00:00+00:00",
          "2021-03-18T07:00:00+00:00",
          "2021-03-18T09:00:00+00:00",
          "2021-03-18T13:00:00+00:00",
          "2021-03-18T17:00:00+00:00",
          "2021-03-18T18:00:00+00:00",
          "2021-03-19T00:00:00+00:00",
          "2021-03-19T02:00:00+00:00",
          "2021-03-19T04:00:00+00:00",
          "2021-03-19T05:00:00+00:00",
          "2021-03-19T06:00:00+00:00",
          "2021-03-19T07:00:00+00:00",
          "2021-03-19T08:00:00+00:00",
          "2021-03-19T09:00:00+00:00",
          "2021-03-19T11:00:00+00:00",
          "2021-03-19T13:00:00+00:00",
          "2021-03-19T14:00:00+00:00",
          "2021-03-19T16:00:00+00:00",
          "2021-03-22T01:00:00+00:00",
          "2021-03-22T02:00:00+00:00",
          "2021-03-22T11:00:00+00:00",
          "2021-03-22T15:00:00+00:00",
          "2021-03-22T19:00:00+00:00",
          "2021-03-22T21:00:00+00:00",
          "2021-03-23T01:00:00+00:00",
          "2021-03-23T03:00:00+00:00",
          "2021-03-23T09:00:00+00:00",
          "2021-03-23T15:00:00+00:00",
          "2021-03-23T19:00:00+00:00",
          "2021-03-23T22:00:00+00:00",
          "2021-03-23T23:00:00+00:00",
          "2021-03-24T00:00:00+00:00",
          "2021-03-24T03:00:00+00:00",
          "2021-03-24T09:00:00+00:00",
          "2021-03-24T12:00:00+00:00",
          "2021-03-24T13:00:00+00:00",
          "2021-03-25T05:00:00+00:00",
          "2021-03-25T08:00:00+00:00",
          "2021-03-25T11:00:00+00:00",
          "2021-03-25T15:00:00+00:00",
          "2021-03-25T16:00:00+00:00",
          "2021-03-25T18:00:00+00:00",
          "2021-03-25T21:00:00+00:00",
          "2021-03-26T00:00:00+00:00",
          "2021-03-26T03:00:00+00:00",
          "2021-03-26T04:00:00+00:00",
          "2021-03-26T05:00:00+00:00",
          "2021-03-26T07:00:00+00:00",
          "2021-03-26T09:00:00+00:00",
          "2021-03-26T15:00:00+00:00",
          "2021-03-28T21:00:00+00:00",
          "2021-03-29T11:00:00+00:00",
          "2021-03-29T12:00:00+00:00",
          "2021-03-29T21:00:00+00:00",
          "2021-03-29T22:00:00+00:00",
          "2021-03-29T23:00:00+00:00",
          "2021-03-30T14:00:00+00:00",
          "2021-03-30T15:00:00+00:00",
          "2021-03-30T17:00:00+00:00",
          "2021-03-30T22:00:00+00:00",
          "2021-03-31T06:00:00+00:00",
          "2021-03-31T08:00:00+00:00",
          "2021-03-31T13:00:00+00:00",
          "2021-03-31T20:00:00+00:00",
          "2021-04-01T00:00:00+00:00",
          "2021-04-01T02:00:00+00:00",
          "2021-04-01T04:00:00+00:00",
          "2021-04-01T13:00:00+00:00",
          "2021-04-01T14:00:00+00:00",
          "2021-04-01T22:00:00+00:00",
          "2021-04-02T08:00:00+00:00",
          "2021-04-02T09:00:00+00:00",
          "2021-04-02T10:00:00+00:00",
          "2021-04-02T11:00:00+00:00",
          "2021-04-02T13:00:00+00:00",
          "2021-04-04T21:00:00+00:00",
          "2021-04-05T07:00:00+00:00",
          "2021-04-05T08:00:00+00:00",
          "2021-04-05T13:00:00+00:00",
          "2021-04-05T14:00:00+00:00",
          "2021-04-05T17:00:00+00:00",
          "2021-04-06T05:00:00+00:00",
          "2021-04-06T08:00:00+00:00",
          "2021-04-06T10:00:00+00:00",
          "2021-04-06T13:00:00+00:00",
          "2021-04-06T14:00:00+00:00",
          "2021-04-06T16:00:00+00:00",
          "2021-04-06T19:00:00+00:00",
          "2021-04-07T05:00:00+00:00",
          "2021-04-07T10:00:00+00:00",
          "2021-04-08T15:00:00+00:00",
          "2021-04-09T00:00:00+00:00",
          "2021-04-09T05:00:00+00:00",
          "2021-04-09T06:00:00+00:00",
          "2021-04-09T11:00:00+00:00",
          "2021-04-09T13:00:00+00:00",
          "2021-04-09T15:00:00+00:00",
          "2021-04-09T18:00:00+00:00",
          "2021-04-09T19:00:00+00:00",
          "2021-04-11T22:00:00+00:00",
          "2021-04-12T00:00:00+00:00",
          "2021-04-12T05:00:00+00:00",
          "2021-04-12T07:00:00+00:00",
          "2021-04-12T10:00:00+00:00",
          "2021-04-12T15:00:00+00:00",
          "2021-04-12T18:00:00+00:00",
          "2021-04-12T20:00:00+00:00",
          "2021-04-13T02:00:00+00:00",
          "2021-04-13T03:00:00+00:00",
          "2021-04-13T04:00:00+00:00",
          "2021-04-13T06:00:00+00:00",
          "2021-04-13T07:00:00+00:00",
          "2021-04-13T08:00:00+00:00",
          "2021-04-13T09:00:00+00:00",
          "2021-04-13T10:00:00+00:00",
          "2021-04-13T16:00:00+00:00",
          "2021-04-13T20:00:00+00:00",
          "2021-04-13T21:00:00+00:00",
          "2021-04-13T23:00:00+00:00",
          "2021-04-14T03:00:00+00:00",
          "2021-04-14T07:00:00+00:00",
          "2021-04-14T08:00:00+00:00",
          "2021-04-14T09:00:00+00:00",
          "2021-04-14T10:00:00+00:00",
          "2021-04-14T12:00:00+00:00",
          "2021-04-14T16:00:00+00:00",
          "2021-04-14T19:00:00+00:00",
          "2021-04-14T23:00:00+00:00",
          "2021-04-15T01:00:00+00:00",
          "2021-04-15T12:00:00+00:00",
          "2021-04-15T15:00:00+00:00",
          "2021-04-15T21:00:00+00:00",
          "2021-04-16T00:00:00+00:00",
          "2021-04-16T01:00:00+00:00",
          "2021-04-16T13:00:00+00:00",
          "2021-04-16T14:00:00+00:00",
          "2021-04-16T16:00:00+00:00",
          "2021-04-16T17:00:00+00:00",
          "2021-04-16T18:00:00+00:00",
          "2021-04-16T19:00:00+00:00",
          "2021-04-18T23:00:00+00:00",
          "2021-04-19T00:00:00+00:00",
          "2021-04-19T01:00:00+00:00",
          "2021-04-19T03:00:00+00:00",
          "2021-04-19T04:00:00+00:00",
          "2021-04-19T08:00:00+00:00",
          "2021-04-19T14:00:00+00:00",
          "2021-04-19T16:00:00+00:00",
          "2021-04-20T00:00:00+00:00",
          "2021-04-20T03:00:00+00:00",
          "2021-04-20T10:00:00+00:00",
          "2021-04-20T11:00:00+00:00",
          "2021-04-20T13:00:00+00:00",
          "2021-04-20T14:00:00+00:00",
          "2021-04-20T16:00:00+00:00",
          "2021-04-21T09:00:00+00:00",
          "2021-04-21T10:00:00+00:00",
          "2021-04-21T12:00:00+00:00",
          "2021-04-21T13:00:00+00:00",
          "2021-04-21T14:00:00+00:00",
          "2021-04-21T15:00:00+00:00",
          "2021-04-21T16:00:00+00:00",
          "2021-04-21T17:00:00+00:00",
          "2021-04-21T23:00:00+00:00",
          "2021-04-22T02:00:00+00:00",
          "2021-04-22T04:00:00+00:00",
          "2021-04-22T05:00:00+00:00",
          "2021-04-22T07:00:00+00:00",
          "2021-04-22T08:00:00+00:00",
          "2021-04-22T11:00:00+00:00",
          "2021-04-23T01:00:00+00:00",
          "2021-04-23T02:00:00+00:00",
          "2021-04-23T07:00:00+00:00",
          "2021-04-25T22:00:00+00:00",
          "2021-04-26T01:00:00+00:00",
          "2021-04-26T02:00:00+00:00",
          "2021-04-26T03:00:00+00:00",
          "2021-04-26T04:00:00+00:00",
          "2021-04-26T06:00:00+00:00",
          "2021-04-26T08:00:00+00:00",
          "2021-04-26T10:00:00+00:00",
          "2021-04-26T11:00:00+00:00",
          "2021-04-26T13:00:00+00:00",
          "2021-04-26T18:00:00+00:00",
          "2021-04-26T19:00:00+00:00",
          "2021-04-27T02:00:00+00:00",
          "2021-04-27T11:00:00+00:00",
          "2021-04-27T13:00:00+00:00",
          "2021-04-27T16:00:00+00:00",
          "2021-04-27T19:00:00+00:00",
          "2021-04-27T20:00:00+00:00",
          "2021-04-28T04:00:00+00:00",
          "2021-04-28T06:00:00+00:00",
          "2021-04-28T08:00:00+00:00",
          "2021-04-28T10:00:00+00:00",
          "2021-04-28T14:00:00+00:00",
          "2021-04-28T16:00:00+00:00",
          "2021-04-28T17:00:00+00:00",
          "2021-04-28T20:00:00+00:00",
          "2021-04-28T22:00:00+00:00",
          "2021-04-29T00:00:00+00:00",
          "2021-04-29T04:00:00+00:00",
          "2021-04-29T06:00:00+00:00",
          "2021-04-29T07:00:00+00:00",
          "2021-04-29T15:00:00+00:00",
          "2021-04-30T02:00:00+00:00",
          "2021-04-30T10:00:00+00:00",
          "2021-04-30T15:00:00+00:00",
          "2021-04-30T16:00:00+00:00",
          "2021-04-30T17:00:00+00:00",
          "2021-04-30T18:00:00+00:00",
          "2021-04-30T19:00:00+00:00",
          "2021-05-02T21:00:00+00:00",
          "2021-05-02T22:00:00+00:00",
          "2021-05-02T23:00:00+00:00",
          "2021-05-03T02:00:00+00:00",
          "2021-05-03T20:00:00+00:00",
          "2021-05-03T21:00:00+00:00",
          "2021-05-04T00:00:00+00:00",
          "2021-05-04T01:00:00+00:00",
          "2021-05-04T05:00:00+00:00",
          "2021-05-04T06:00:00+00:00",
          "2021-05-04T10:00:00+00:00",
          "2021-05-04T12:00:00+00:00",
          "2021-05-04T14:00:00+00:00",
          "2021-05-04T15:00:00+00:00",
          "2021-05-04T18:00:00+00:00",
          "2021-05-04T19:00:00+00:00",
          "2021-05-04T22:00:00+00:00",
          "2021-05-04T23:00:00+00:00",
          "2021-05-05T04:00:00+00:00",
          "2021-05-05T08:00:00+00:00",
          "2021-05-05T16:00:00+00:00",
          "2021-05-05T19:00:00+00:00",
          "2021-05-05T20:00:00+00:00",
          "2021-05-05T21:00:00+00:00",
          "2021-05-05T22:00:00+00:00",
          "2021-05-05T23:00:00+00:00",
          "2021-05-06T00:00:00+00:00",
          "2021-05-06T01:00:00+00:00",
          "2021-05-06T07:00:00+00:00",
          "2021-05-06T10:00:00+00:00",
          "2021-05-06T13:00:00+00:00",
          "2021-05-06T15:00:00+00:00",
          "2021-05-06T17:00:00+00:00",
          "2021-05-06T20:00:00+00:00",
          "2021-05-06T21:00:00+00:00",
          "2021-05-07T05:00:00+00:00",
          "2021-05-07T09:00:00+00:00",
          "2021-05-07T12:00:00+00:00",
          "2021-05-07T13:00:00+00:00",
          "2021-05-10T02:00:00+00:00",
          "2021-05-10T04:00:00+00:00",
          "2021-05-10T05:00:00+00:00",
          "2021-05-10T10:00:00+00:00",
          "2021-05-10T11:00:00+00:00",
          "2021-05-10T14:00:00+00:00",
          "2021-05-10T19:00:00+00:00",
          "2021-05-11T06:00:00+00:00",
          "2021-05-11T07:00:00+00:00",
          "2021-05-11T08:00:00+00:00",
          "2021-05-11T12:00:00+00:00",
          "2021-05-11T15:00:00+00:00",
          "2021-05-11T21:00:00+00:00",
          "2021-05-11T22:00:00+00:00",
          "2021-05-11T23:00:00+00:00",
          "2021-05-12T00:00:00+00:00",
          "2021-05-12T02:00:00+00:00",
          "2021-05-12T07:00:00+00:00",
          "2021-05-12T11:00:00+00:00",
          "2021-05-12T14:00:00+00:00",
          "2021-05-12T18:00:00+00:00",
          "2021-05-12T21:00:00+00:00",
          "2021-05-13T04:00:00+00:00",
          "2021-05-13T11:00:00+00:00",
          "2021-05-13T16:00:00+00:00",
          "2021-05-13T17:00:00+00:00",
          "2021-05-13T18:00:00+00:00",
          "2021-05-14T01:00:00+00:00",
          "2021-05-14T05:00:00+00:00",
          "2021-05-14T08:00:00+00:00",
          "2021-05-14T10:00:00+00:00",
          "2021-05-14T11:00:00+00:00",
          "2021-05-14T12:00:00+00:00",
          "2021-05-14T13:00:00+00:00",
          "2021-05-14T16:00:00+00:00",
          "2021-05-14T17:00:00+00:00",
          "2021-05-16T21:00:00+00:00",
          "2021-05-16T22:00:00+00:00",
          "2021-05-17T00:00:00+00:00",
          "2021-05-17T04:00:00+00:00",
          "2021-05-17T06:00:00+00:00",
          "2021-05-17T13:00:00+00:00",
          "2021-05-17T18:00:00+00:00",
          "2021-05-17T22:00:00+00:00",
          "2021-05-17T23:00:00+00:00",
          "2021-05-18T00:00:00+00:00",
          "2021-05-18T01:00:00+00:00",
          "2021-05-18T02:00:00+00:00",
          "2021-05-18T03:00:00+00:00",
          "2021-05-18T06:00:00+00:00",
          "2021-05-18T19:00:00+00:00",
          "2021-05-19T02:00:00+00:00",
          "2021-05-19T05:00:00+00:00",
          "2021-05-19T07:00:00+00:00",
          "2021-05-19T09:00:00+00:00",
          "2021-05-19T11:00:00+00:00",
          "2021-05-19T13:00:00+00:00",
          "2021-05-19T18:00:00+00:00",
          "2021-05-19T19:00:00+00:00",
          "2021-05-19T22:00:00+00:00",
          "2021-05-19T23:00:00+00:00",
          "2021-05-20T02:00:00+00:00",
          "2021-05-20T06:00:00+00:00",
          "2021-05-20T11:00:00+00:00",
          "2021-05-20T12:00:00+00:00",
          "2021-05-20T14:00:00+00:00",
          "2021-05-20T20:00:00+00:00",
          "2021-05-20T21:00:00+00:00",
          "2021-05-21T00:00:00+00:00",
          "2021-05-21T04:00:00+00:00",
          "2021-05-21T05:00:00+00:00",
          "2021-05-21T06:00:00+00:00",
          "2021-05-21T07:00:00+00:00",
          "2021-05-21T08:00:00+00:00",
          "2021-05-21T09:00:00+00:00",
          "2021-05-21T10:00:00+00:00",
          "2021-05-21T11:00:00+00:00",
          "2021-05-21T15:00:00+00:00",
          "2021-05-21T16:00:00+00:00",
          "2021-05-24T03:00:00+00:00",
          "2021-05-24T08:00:00+00:00",
          "2021-05-24T11:00:00+00:00",
          "2021-05-24T14:00:00+00:00",
          "2021-05-24T16:00:00+00:00",
          "2021-05-24T18:00:00+00:00",
          "2021-05-24T21:00:00+00:00",
          "2021-05-24T22:00:00+00:00",
          "2021-05-25T02:00:00+00:00",
          "2021-05-25T04:00:00+00:00",
          "2021-05-25T05:00:00+00:00",
          "2021-05-25T07:00:00+00:00",
          "2021-05-25T08:00:00+00:00",
          "2021-05-25T10:00:00+00:00",
          "2021-05-25T11:00:00+00:00",
          "2021-05-25T12:00:00+00:00",
          "2021-05-25T22:00:00+00:00",
          "2021-05-26T05:00:00+00:00",
          "2021-05-26T10:00:00+00:00",
          "2021-05-26T12:00:00+00:00",
          "2021-05-26T13:00:00+00:00",
          "2021-05-26T14:00:00+00:00",
          "2021-05-26T15:00:00+00:00",
          "2021-05-26T22:00:00+00:00",
          "2021-05-27T00:00:00+00:00",
          "2021-05-27T02:00:00+00:00",
          "2021-05-27T07:00:00+00:00",
          "2021-05-27T08:00:00+00:00",
          "2021-05-27T09:00:00+00:00",
          "2021-05-27T14:00:00+00:00",
          "2021-05-27T19:00:00+00:00",
          "2021-05-27T20:00:00+00:00",
          "2021-05-28T00:00:00+00:00",
          "2021-05-28T02:00:00+00:00",
          "2021-05-28T08:00:00+00:00",
          "2021-05-28T10:00:00+00:00",
          "2021-05-28T11:00:00+00:00",
          "2021-05-28T12:00:00+00:00",
          "2021-05-28T16:00:00+00:00",
          "2021-05-28T17:00:00+00:00",
          "2021-05-31T06:00:00+00:00",
          "2021-05-31T15:00:00+00:00",
          "2021-05-31T21:00:00+00:00",
          "2021-06-01T00:00:00+00:00",
          "2021-06-01T02:00:00+00:00",
          "2021-06-01T03:00:00+00:00",
          "2021-06-01T05:00:00+00:00",
          "2021-06-01T08:00:00+00:00",
          "2021-06-01T13:00:00+00:00",
          "2021-06-01T14:00:00+00:00",
          "2021-06-01T16:00:00+00:00",
          "2021-06-01T18:00:00+00:00",
          "2021-06-01T22:00:00+00:00",
          "2021-06-01T23:00:00+00:00",
          "2021-06-02T02:00:00+00:00",
          "2021-06-02T03:00:00+00:00",
          "2021-06-02T05:00:00+00:00",
          "2021-06-02T07:00:00+00:00",
          "2021-06-02T09:00:00+00:00",
          "2021-06-02T14:00:00+00:00",
          "2021-06-02T16:00:00+00:00",
          "2021-06-02T17:00:00+00:00",
          "2021-06-02T19:00:00+00:00",
          "2021-06-02T20:00:00+00:00",
          "2021-06-03T03:00:00+00:00",
          "2021-06-03T05:00:00+00:00",
          "2021-06-03T09:00:00+00:00",
          "2021-06-03T12:00:00+00:00",
          "2021-06-03T13:00:00+00:00",
          "2021-06-03T14:00:00+00:00",
          "2021-06-03T23:00:00+00:00",
          "2021-06-04T14:00:00+00:00",
          "2021-06-04T20:00:00+00:00",
          "2021-06-06T22:00:00+00:00",
          "2021-06-07T05:00:00+00:00",
          "2021-06-07T06:00:00+00:00",
          "2021-06-07T08:00:00+00:00",
          "2021-06-07T09:00:00+00:00",
          "2021-06-07T10:00:00+00:00",
          "2021-06-07T14:00:00+00:00",
          "2021-06-07T15:00:00+00:00",
          "2021-06-07T17:00:00+00:00",
          "2021-06-07T20:00:00+00:00",
          "2021-06-08T14:00:00+00:00",
          "2021-06-08T18:00:00+00:00",
          "2021-06-08T20:00:00+00:00",
          "2021-06-08T22:00:00+00:00",
          "2021-06-08T23:00:00+00:00",
          "2021-06-09T01:00:00+00:00",
          "2021-06-09T02:00:00+00:00",
          "2021-06-09T04:00:00+00:00",
          "2021-06-09T05:00:00+00:00",
          "2021-06-09T09:00:00+00:00",
          "2021-06-10T00:00:00+00:00",
          "2021-06-10T02:00:00+00:00",
          "2021-06-10T04:00:00+00:00",
          "2021-06-10T09:00:00+00:00",
          "2021-06-10T22:00:00+00:00",
          "2021-06-10T23:00:00+00:00",
          "2021-06-11T04:00:00+00:00",
          "2021-06-11T05:00:00+00:00",
          "2021-06-11T06:00:00+00:00",
          "2021-06-11T08:00:00+00:00",
          "2021-06-11T10:00:00+00:00",
          "2021-06-11T11:00:00+00:00",
          "2021-06-11T13:00:00+00:00",
          "2021-06-11T14:00:00+00:00",
          "2021-06-11T16:00:00+00:00",
          "2021-06-11T18:00:00+00:00",
          "2021-06-11T19:00:00+00:00",
          "2021-06-11T20:00:00+00:00",
          "2021-06-14T01:00:00+00:00",
          "2021-06-14T02:00:00+00:00",
          "2021-06-14T08:00:00+00:00",
          "2021-06-14T23:00:00+00:00",
          "2021-06-15T01:00:00+00:00",
          "2021-06-15T03:00:00+00:00",
          "2021-06-15T04:00:00+00:00",
          "2021-06-15T05:00:00+00:00",
          "2021-06-15T06:00:00+00:00",
          "2021-06-15T08:00:00+00:00",
          "2021-06-15T13:00:00+00:00",
          "2021-06-15T17:00:00+00:00",
          "2021-06-15T20:00:00+00:00",
          "2021-06-15T21:00:00+00:00",
          "2021-06-15T23:00:00+00:00",
          "2021-06-16T02:00:00+00:00",
          "2021-06-16T04:00:00+00:00",
          "2021-06-16T10:00:00+00:00",
          "2021-06-16T13:00:00+00:00",
          "2021-06-16T14:00:00+00:00",
          "2021-06-16T18:00:00+00:00",
          "2021-06-16T19:00:00+00:00",
          "2021-06-16T21:00:00+00:00",
          "2021-06-16T22:00:00+00:00",
          "2021-06-16T23:00:00+00:00",
          "2021-06-17T01:00:00+00:00",
          "2021-06-17T03:00:00+00:00",
          "2021-06-17T07:00:00+00:00",
          "2021-06-17T08:00:00+00:00",
          "2021-06-17T09:00:00+00:00",
          "2021-06-17T14:00:00+00:00",
          "2021-06-18T08:00:00+00:00",
          "2021-06-18T15:00:00+00:00",
          "2021-06-18T16:00:00+00:00",
          "2021-06-20T23:00:00+00:00",
          "2021-06-21T01:00:00+00:00",
          "2021-06-21T08:00:00+00:00",
          "2021-06-21T14:00:00+00:00",
          "2021-06-21T15:00:00+00:00",
          "2021-06-21T18:00:00+00:00",
          "2021-06-21T22:00:00+00:00",
          "2021-06-22T00:00:00+00:00",
          "2021-06-22T05:00:00+00:00",
          "2021-06-22T06:00:00+00:00",
          "2021-06-22T07:00:00+00:00",
          "2021-06-22T08:00:00+00:00",
          "2021-06-22T09:00:00+00:00",
          "2021-06-22T10:00:00+00:00",
          "2021-06-22T11:00:00+00:00",
          "2021-06-22T12:00:00+00:00",
          "2021-06-22T13:00:00+00:00",
          "2021-06-22T14:00:00+00:00",
          "2021-06-23T00:00:00+00:00",
          "2021-06-23T06:00:00+00:00",
          "2021-06-23T18:00:00+00:00",
          "2021-06-25T00:00:00+00:00",
          "2021-06-25T01:00:00+00:00",
          "2021-06-25T04:00:00+00:00",
          "2021-06-25T05:00:00+00:00",
          "2021-06-25T06:00:00+00:00",
          "2021-06-25T07:00:00+00:00",
          "2021-06-25T09:00:00+00:00",
          "2021-06-25T10:00:00+00:00",
          "2021-06-25T11:00:00+00:00",
          "2021-06-28T04:00:00+00:00",
          "2021-06-28T06:00:00+00:00",
          "2021-06-28T08:00:00+00:00",
          "2021-06-28T13:00:00+00:00",
          "2021-06-28T15:00:00+00:00",
          "2021-06-28T17:00:00+00:00",
          "2021-06-28T18:00:00+00:00",
          "2021-06-28T19:00:00+00:00",
          "2021-06-28T20:00:00+00:00",
          "2021-06-28T21:00:00+00:00",
          "2021-06-28T23:00:00+00:00",
          "2021-06-29T02:00:00+00:00",
          "2021-06-29T04:00:00+00:00",
          "2021-06-29T05:00:00+00:00",
          "2021-06-29T08:00:00+00:00",
          "2021-06-29T11:00:00+00:00",
          "2021-06-29T21:00:00+00:00",
          "2021-06-30T19:00:00+00:00",
          "2021-06-30T20:00:00+00:00",
          "2021-06-30T22:00:00+00:00",
          "2021-07-01T03:00:00+00:00",
          "2021-07-01T05:00:00+00:00",
          "2021-07-01T07:00:00+00:00",
          "2021-07-01T08:00:00+00:00",
          "2021-07-01T09:00:00+00:00",
          "2021-07-01T10:00:00+00:00",
          "2021-07-01T11:00:00+00:00",
          "2021-07-01T13:00:00+00:00",
          "2021-07-01T16:00:00+00:00",
          "2021-07-01T21:00:00+00:00",
          "2021-07-02T01:00:00+00:00",
          "2021-07-02T04:00:00+00:00",
          "2021-07-02T07:00:00+00:00",
          "2021-07-02T12:00:00+00:00",
          "2021-07-02T13:00:00+00:00",
          "2021-07-02T17:00:00+00:00",
          "2021-07-04T21:00:00+00:00",
          "2021-07-05T00:00:00+00:00",
          "2021-07-05T01:00:00+00:00",
          "2021-07-05T05:00:00+00:00",
          "2021-07-05T06:00:00+00:00",
          "2021-07-05T07:00:00+00:00",
          "2021-07-05T08:00:00+00:00",
          "2021-07-05T12:00:00+00:00",
          "2021-07-05T17:00:00+00:00",
          "2021-07-05T19:00:00+00:00",
          "2021-07-05T20:00:00+00:00",
          "2021-07-06T05:00:00+00:00",
          "2021-07-06T10:00:00+00:00",
          "2021-07-06T16:00:00+00:00",
          "2021-07-06T17:00:00+00:00",
          "2021-07-06T18:00:00+00:00",
          "2021-07-06T19:00:00+00:00",
          "2021-07-06T20:00:00+00:00",
          "2021-07-06T21:00:00+00:00",
          "2021-07-07T04:00:00+00:00",
          "2021-07-07T07:00:00+00:00",
          "2021-07-07T12:00:00+00:00",
          "2021-07-07T14:00:00+00:00",
          "2021-07-07T18:00:00+00:00",
          "2021-07-07T20:00:00+00:00",
          "2021-07-07T22:00:00+00:00",
          "2021-07-08T11:00:00+00:00",
          "2021-07-08T14:00:00+00:00",
          "2021-07-08T19:00:00+00:00",
          "2021-07-09T01:00:00+00:00",
          "2021-07-09T03:00:00+00:00",
          "2021-07-09T18:00:00+00:00",
          "2021-07-11T23:00:00+00:00",
          "2021-07-12T00:00:00+00:00",
          "2021-07-12T02:00:00+00:00",
          "2021-07-12T04:00:00+00:00",
          "2021-07-12T09:00:00+00:00",
          "2021-07-12T11:00:00+00:00",
          "2021-07-12T13:00:00+00:00",
          "2021-07-12T15:00:00+00:00",
          "2021-07-12T16:00:00+00:00",
          "2021-07-12T17:00:00+00:00",
          "2021-07-13T08:00:00+00:00",
          "2021-07-13T12:00:00+00:00",
          "2021-07-13T17:00:00+00:00",
          "2021-07-13T20:00:00+00:00",
          "2021-07-13T22:00:00+00:00",
          "2021-07-13T23:00:00+00:00",
          "2021-07-14T02:00:00+00:00",
          "2021-07-14T03:00:00+00:00",
          "2021-07-14T04:00:00+00:00",
          "2021-07-14T05:00:00+00:00",
          "2021-07-14T07:00:00+00:00",
          "2021-07-14T14:00:00+00:00",
          "2021-07-14T16:00:00+00:00",
          "2021-07-14T17:00:00+00:00",
          "2021-07-15T00:00:00+00:00",
          "2021-07-15T05:00:00+00:00",
          "2021-07-15T07:00:00+00:00",
          "2021-07-15T12:00:00+00:00",
          "2021-07-15T13:00:00+00:00",
          "2021-07-15T15:00:00+00:00",
          "2021-07-15T20:00:00+00:00",
          "2021-07-16T01:00:00+00:00",
          "2021-07-16T04:00:00+00:00",
          "2021-07-16T05:00:00+00:00",
          "2021-07-16T07:00:00+00:00",
          "2021-07-16T09:00:00+00:00",
          "2021-07-16T10:00:00+00:00",
          "2021-07-16T11:00:00+00:00",
          "2021-07-16T14:00:00+00:00",
          "2021-07-16T17:00:00+00:00",
          "2021-07-16T20:00:00+00:00",
          "2021-07-19T00:00:00+00:00",
          "2021-07-19T03:00:00+00:00",
          "2021-07-19T05:00:00+00:00",
          "2021-07-19T07:00:00+00:00",
          "2021-07-19T10:00:00+00:00",
          "2021-07-19T12:00:00+00:00",
          "2021-07-19T16:00:00+00:00",
          "2021-07-20T00:00:00+00:00",
          "2021-07-20T07:00:00+00:00",
          "2021-07-20T09:00:00+00:00",
          "2021-07-20T17:00:00+00:00",
          "2021-07-20T21:00:00+00:00",
          "2021-07-20T23:00:00+00:00",
          "2021-07-21T08:00:00+00:00",
          "2021-07-21T09:00:00+00:00",
          "2021-07-21T11:00:00+00:00",
          "2021-07-21T12:00:00+00:00",
          "2021-07-21T13:00:00+00:00",
          "2021-07-21T14:00:00+00:00",
          "2021-07-21T17:00:00+00:00",
          "2021-07-21T19:00:00+00:00",
          "2021-07-21T20:00:00+00:00",
          "2021-07-21T22:00:00+00:00",
          "2021-07-21T23:00:00+00:00",
          "2021-07-22T01:00:00+00:00",
          "2021-07-22T02:00:00+00:00",
          "2021-07-22T05:00:00+00:00",
          "2021-07-22T06:00:00+00:00",
          "2021-07-22T09:00:00+00:00",
          "2021-07-22T19:00:00+00:00",
          "2021-07-23T05:00:00+00:00",
          "2021-07-23T08:00:00+00:00",
          "2021-07-23T15:00:00+00:00",
          "2021-07-23T19:00:00+00:00",
          "2021-07-25T21:00:00+00:00",
          "2021-07-26T01:00:00+00:00",
          "2021-07-26T04:00:00+00:00",
          "2021-07-26T07:00:00+00:00",
          "2021-07-26T17:00:00+00:00",
          "2021-07-26T18:00:00+00:00",
          "2021-07-26T19:00:00+00:00",
          "2021-07-26T22:00:00+00:00",
          "2021-07-27T00:00:00+00:00",
          "2021-07-27T01:00:00+00:00",
          "2021-07-27T05:00:00+00:00",
          "2021-07-27T08:00:00+00:00",
          "2021-07-27T09:00:00+00:00",
          "2021-07-27T11:00:00+00:00",
          "2021-07-27T19:00:00+00:00",
          "2021-07-27T21:00:00+00:00",
          "2021-07-28T00:00:00+00:00",
          "2021-07-28T01:00:00+00:00",
          "2021-07-28T04:00:00+00:00",
          "2021-07-28T23:00:00+00:00",
          "2021-07-29T04:00:00+00:00",
          "2021-07-29T06:00:00+00:00",
          "2021-07-29T07:00:00+00:00",
          "2021-07-29T08:00:00+00:00",
          "2021-07-29T14:00:00+00:00",
          "2021-07-29T16:00:00+00:00",
          "2021-07-29T17:00:00+00:00",
          "2021-07-29T18:00:00+00:00",
          "2021-07-30T00:00:00+00:00",
          "2021-07-30T02:00:00+00:00",
          "2021-07-30T11:00:00+00:00",
          "2021-07-30T13:00:00+00:00",
          "2021-07-30T20:00:00+00:00",
          "2021-08-01T21:00:00+00:00",
          "2021-08-02T00:00:00+00:00",
          "2021-08-02T05:00:00+00:00",
          "2021-08-02T06:00:00+00:00",
          "2021-08-02T09:00:00+00:00",
          "2021-08-02T14:00:00+00:00",
          "2021-08-02T15:00:00+00:00",
          "2021-08-03T02:00:00+00:00",
          "2021-08-03T05:00:00+00:00",
          "2021-08-03T08:00:00+00:00",
          "2021-08-03T11:00:00+00:00",
          "2021-08-03T13:00:00+00:00",
          "2021-08-03T17:00:00+00:00",
          "2021-08-03T18:00:00+00:00",
          "2021-08-04T02:00:00+00:00",
          "2021-08-04T03:00:00+00:00",
          "2021-08-04T07:00:00+00:00",
          "2021-08-04T13:00:00+00:00",
          "2021-08-04T22:00:00+00:00",
          "2021-08-05T00:00:00+00:00",
          "2021-08-05T02:00:00+00:00",
          "2021-08-05T03:00:00+00:00",
          "2021-08-05T04:00:00+00:00",
          "2021-08-05T06:00:00+00:00",
          "2021-08-05T08:00:00+00:00",
          "2021-08-05T13:00:00+00:00",
          "2021-08-05T15:00:00+00:00",
          "2021-08-05T16:00:00+00:00",
          "2021-08-05T19:00:00+00:00",
          "2021-08-06T02:00:00+00:00",
          "2021-08-06T07:00:00+00:00",
          "2021-08-06T10:00:00+00:00",
          "2021-08-06T12:00:00+00:00",
          "2021-08-06T13:00:00+00:00",
          "2021-08-06T15:00:00+00:00",
          "2021-08-08T21:00:00+00:00",
          "2021-08-09T00:00:00+00:00",
          "2021-08-09T01:00:00+00:00",
          "2021-08-09T04:00:00+00:00",
          "2021-08-09T05:00:00+00:00",
          "2021-08-09T08:00:00+00:00",
          "2021-08-09T20:00:00+00:00",
          "2021-08-09T21:00:00+00:00",
          "2021-08-10T01:00:00+00:00",
          "2021-08-10T08:00:00+00:00",
          "2021-08-10T14:00:00+00:00",
          "2021-08-10T19:00:00+00:00",
          "2021-08-11T01:00:00+00:00",
          "2021-08-11T02:00:00+00:00",
          "2021-08-11T03:00:00+00:00",
          "2021-08-11T05:00:00+00:00",
          "2021-08-11T06:00:00+00:00",
          "2021-08-11T12:00:00+00:00",
          "2021-08-12T00:00:00+00:00",
          "2021-08-12T04:00:00+00:00",
          "2021-08-12T06:00:00+00:00",
          "2021-08-12T12:00:00+00:00",
          "2021-08-12T15:00:00+00:00",
          "2021-08-12T17:00:00+00:00",
          "2021-08-12T18:00:00+00:00",
          "2021-08-12T20:00:00+00:00",
          "2021-08-12T23:00:00+00:00",
          "2021-08-13T00:00:00+00:00",
          "2021-08-13T01:00:00+00:00",
          "2021-08-13T02:00:00+00:00",
          "2021-08-13T03:00:00+00:00",
          "2021-08-13T04:00:00+00:00",
          "2021-08-13T05:00:00+00:00",
          "2021-08-13T07:00:00+00:00",
          "2021-08-13T11:00:00+00:00",
          "2021-08-13T14:00:00+00:00",
          "2021-08-13T16:00:00+00:00",
          "2021-08-15T23:00:00+00:00",
          "2021-08-16T01:00:00+00:00",
          "2021-08-16T06:00:00+00:00",
          "2021-08-16T07:00:00+00:00",
          "2021-08-16T08:00:00+00:00",
          "2021-08-16T10:00:00+00:00",
          "2021-08-16T15:00:00+00:00",
          "2021-08-17T03:00:00+00:00",
          "2021-08-17T06:00:00+00:00",
          "2021-08-17T12:00:00+00:00",
          "2021-08-17T14:00:00+00:00",
          "2021-08-18T05:00:00+00:00",
          "2021-08-18T13:00:00+00:00",
          "2021-08-18T14:00:00+00:00",
          "2021-08-18T23:00:00+00:00",
          "2021-08-19T01:00:00+00:00",
          "2021-08-19T03:00:00+00:00",
          "2021-08-19T05:00:00+00:00",
          "2021-08-19T06:00:00+00:00",
          "2021-08-19T07:00:00+00:00",
          "2021-08-19T08:00:00+00:00",
          "2021-08-19T09:00:00+00:00",
          "2021-08-19T10:00:00+00:00",
          "2021-08-19T11:00:00+00:00",
          "2021-08-19T17:00:00+00:00",
          "2021-08-19T18:00:00+00:00",
          "2021-08-19T19:00:00+00:00",
          "2021-08-19T23:00:00+00:00",
          "2021-08-20T02:00:00+00:00",
          "2021-08-20T09:00:00+00:00",
          "2021-08-20T11:00:00+00:00",
          "2021-08-20T18:00:00+00:00",
          "2021-08-23T02:00:00+00:00",
          "2021-08-23T06:00:00+00:00",
          "2021-08-23T08:00:00+00:00",
          "2021-08-23T11:00:00+00:00",
          "2021-08-23T12:00:00+00:00",
          "2021-08-23T13:00:00+00:00",
          "2021-08-23T14:00:00+00:00",
          "2021-08-23T15:00:00+00:00",
          "2021-08-23T16:00:00+00:00",
          "2021-08-23T17:00:00+00:00",
          "2021-08-23T18:00:00+00:00",
          "2021-08-23T19:00:00+00:00",
          "2021-08-24T01:00:00+00:00",
          "2021-08-24T04:00:00+00:00",
          "2021-08-24T13:00:00+00:00",
          "2021-08-24T15:00:00+00:00",
          "2021-08-25T05:00:00+00:00",
          "2021-08-25T12:00:00+00:00",
          "2021-08-25T20:00:00+00:00",
          "2021-08-26T09:00:00+00:00",
          "2021-08-26T10:00:00+00:00",
          "2021-08-26T13:00:00+00:00",
          "2021-08-26T17:00:00+00:00",
          "2021-08-27T00:00:00+00:00",
          "2021-08-27T03:00:00+00:00",
          "2021-08-27T04:00:00+00:00",
          "2021-08-27T07:00:00+00:00",
          "2021-08-27T08:00:00+00:00",
          "2021-08-27T12:00:00+00:00",
          "2021-08-27T17:00:00+00:00",
          "2021-08-29T22:00:00+00:00",
          "2021-08-29T23:00:00+00:00",
          "2021-08-30T01:00:00+00:00",
          "2021-08-30T04:00:00+00:00",
          "2021-08-30T05:00:00+00:00",
          "2021-08-30T06:00:00+00:00",
          "2021-08-30T11:00:00+00:00",
          "2021-08-30T14:00:00+00:00",
          "2021-08-30T17:00:00+00:00",
          "2021-08-30T20:00:00+00:00",
          "2021-08-30T21:00:00+00:00",
          "2021-08-30T23:00:00+00:00",
          "2021-08-31T00:00:00+00:00",
          "2021-08-31T01:00:00+00:00",
          "2021-08-31T06:00:00+00:00",
          "2021-08-31T10:00:00+00:00",
          "2021-08-31T21:00:00+00:00",
          "2021-08-31T22:00:00+00:00",
          "2021-09-01T06:00:00+00:00",
          "2021-09-01T08:00:00+00:00",
          "2021-09-01T09:00:00+00:00",
          "2021-09-01T10:00:00+00:00",
          "2021-09-01T16:00:00+00:00",
          "2021-09-01T18:00:00+00:00",
          "2021-09-01T19:00:00+00:00",
          "2021-09-02T07:00:00+00:00",
          "2021-09-02T13:00:00+00:00",
          "2021-09-02T14:00:00+00:00",
          "2021-09-02T15:00:00+00:00",
          "2021-09-02T18:00:00+00:00",
          "2021-09-02T19:00:00+00:00",
          "2021-09-02T21:00:00+00:00",
          "2021-09-02T23:00:00+00:00",
          "2021-09-03T03:00:00+00:00",
          "2021-09-03T04:00:00+00:00",
          "2021-09-03T10:00:00+00:00",
          "2021-09-03T17:00:00+00:00",
          "2021-09-05T21:00:00+00:00",
          "2021-09-06T12:00:00+00:00",
          "2021-09-06T20:00:00+00:00",
          "2021-09-07T00:00:00+00:00",
          "2021-09-07T01:00:00+00:00",
          "2021-09-07T05:00:00+00:00",
          "2021-09-07T09:00:00+00:00",
          "2021-09-07T10:00:00+00:00",
          "2021-09-07T11:00:00+00:00",
          "2021-09-07T14:00:00+00:00",
          "2021-09-07T15:00:00+00:00",
          "2021-09-07T18:00:00+00:00",
          "2021-09-07T19:00:00+00:00",
          "2021-09-07T20:00:00+00:00",
          "2021-09-07T21:00:00+00:00",
          "2021-09-08T11:00:00+00:00",
          "2021-09-08T17:00:00+00:00",
          "2021-09-09T02:00:00+00:00",
          "2021-09-09T05:00:00+00:00",
          "2021-09-09T06:00:00+00:00",
          "2021-09-09T08:00:00+00:00",
          "2021-09-09T12:00:00+00:00",
          "2021-09-09T16:00:00+00:00",
          "2021-09-09T19:00:00+00:00",
          "2021-09-09T20:00:00+00:00",
          "2021-09-09T21:00:00+00:00",
          "2021-09-10T01:00:00+00:00",
          "2021-09-10T02:00:00+00:00",
          "2021-09-10T07:00:00+00:00",
          "2021-09-10T08:00:00+00:00",
          "2021-09-10T09:00:00+00:00",
          "2021-09-10T11:00:00+00:00",
          "2021-09-10T14:00:00+00:00",
          "2021-09-10T17:00:00+00:00",
          "2021-09-10T18:00:00+00:00",
          "2021-09-10T20:00:00+00:00",
          "2021-09-13T04:00:00+00:00",
          "2021-09-13T06:00:00+00:00",
          "2021-09-13T10:00:00+00:00",
          "2021-09-13T12:00:00+00:00",
          "2021-09-13T14:00:00+00:00",
          "2021-09-13T17:00:00+00:00",
          "2021-09-13T18:00:00+00:00",
          "2021-09-13T19:00:00+00:00",
          "2021-09-13T20:00:00+00:00",
          "2021-09-13T21:00:00+00:00",
          "2021-09-13T22:00:00+00:00",
          "2021-09-14T06:00:00+00:00",
          "2021-09-14T07:00:00+00:00",
          "2021-09-14T11:00:00+00:00",
          "2021-09-14T13:00:00+00:00",
          "2021-09-14T16:00:00+00:00",
          "2021-09-14T18:00:00+00:00",
          "2021-09-14T19:00:00+00:00",
          "2021-09-14T20:00:00+00:00",
          "2021-09-14T22:00:00+00:00",
          "2021-09-15T01:00:00+00:00",
          "2021-09-15T03:00:00+00:00",
          "2021-09-15T07:00:00+00:00",
          "2021-09-15T08:00:00+00:00",
          "2021-09-15T11:00:00+00:00",
          "2021-09-15T21:00:00+00:00",
          "2021-09-16T00:00:00+00:00",
          "2021-09-16T04:00:00+00:00",
          "2021-09-16T06:00:00+00:00",
          "2021-09-16T09:00:00+00:00",
          "2021-09-16T10:00:00+00:00",
          "2021-09-16T11:00:00+00:00",
          "2021-09-16T13:00:00+00:00",
          "2021-09-16T14:00:00+00:00",
          "2021-09-16T16:00:00+00:00",
          "2021-09-16T17:00:00+00:00",
          "2021-09-16T18:00:00+00:00",
          "2021-09-16T21:00:00+00:00",
          "2021-09-17T03:00:00+00:00",
          "2021-09-17T05:00:00+00:00",
          "2021-09-17T09:00:00+00:00",
          "2021-09-17T11:00:00+00:00",
          "2021-09-17T15:00:00+00:00",
          "2021-09-17T18:00:00+00:00",
          "2021-09-19T22:00:00+00:00",
          "2021-09-19T23:00:00+00:00",
          "2021-09-20T00:00:00+00:00",
          "2021-09-20T02:00:00+00:00",
          "2021-09-20T05:00:00+00:00",
          "2021-09-20T09:00:00+00:00",
          "2021-09-20T10:00:00+00:00",
          "2021-09-20T12:00:00+00:00",
          "2021-09-20T13:00:00+00:00",
          "2021-09-20T16:00:00+00:00",
          "2021-09-20T21:00:00+00:00",
          "2021-09-20T22:00:00+00:00",
          "2021-09-21T00:00:00+00:00",
          "2021-09-21T09:00:00+00:00",
          "2021-09-21T12:00:00+00:00",
          "2021-09-21T19:00:00+00:00",
          "2021-09-22T00:00:00+00:00",
          "2021-09-22T05:00:00+00:00",
          "2021-09-22T07:00:00+00:00",
          "2021-09-22T20:00:00+00:00",
          "2021-09-22T21:00:00+00:00",
          "2021-09-22T23:00:00+00:00",
          "2021-09-23T00:00:00+00:00",
          "2021-09-23T02:00:00+00:00",
          "2021-09-23T05:00:00+00:00",
          "2021-09-23T06:00:00+00:00",
          "2021-09-23T07:00:00+00:00",
          "2021-09-23T12:00:00+00:00",
          "2021-09-23T14:00:00+00:00",
          "2021-09-23T17:00:00+00:00",
          "2021-09-23T18:00:00+00:00",
          "2021-09-23T21:00:00+00:00",
          "2021-09-24T04:00:00+00:00",
          "2021-09-24T11:00:00+00:00",
          "2021-09-24T20:00:00+00:00",
          "2021-09-27T01:00:00+00:00",
          "2021-09-27T04:00:00+00:00",
          "2021-09-27T05:00:00+00:00",
          "2021-09-27T07:00:00+00:00",
          "2021-09-27T10:00:00+00:00",
          "2021-09-27T11:00:00+00:00",
          "2021-09-27T12:00:00+00:00",
          "2021-09-27T14:00:00+00:00",
          "2021-09-27T16:00:00+00:00",
          "2021-09-27T20:00:00+00:00",
          "2021-09-28T13:00:00+00:00",
          "2021-09-28T18:00:00+00:00",
          "2021-09-28T19:00:00+00:00",
          "2021-09-28T23:00:00+00:00",
          "2021-09-29T02:00:00+00:00",
          "2021-09-29T03:00:00+00:00",
          "2021-09-29T09:00:00+00:00",
          "2021-09-29T12:00:00+00:00",
          "2021-09-29T18:00:00+00:00",
          "2021-09-30T00:00:00+00:00",
          "2021-09-30T03:00:00+00:00",
          "2021-09-30T06:00:00+00:00",
          "2021-09-30T07:00:00+00:00",
          "2021-09-30T11:00:00+00:00",
          "2021-09-30T16:00:00+00:00",
          "2021-09-30T22:00:00+00:00",
          "2021-10-01T05:00:00+00:00",
          "2021-10-01T06:00:00+00:00",
          "2021-10-01T08:00:00+00:00",
          "2021-10-01T10:00:00+00:00",
          "2021-10-01T14:00:00+00:00",
          "2021-10-01T16:00:00+00:00",
          "2021-10-01T17:00:00+00:00",
          "2021-10-01T20:00:00+00:00",
          "2021-10-04T01:00:00+00:00",
          "2021-10-04T07:00:00+00:00",
          "2021-10-04T10:00:00+00:00",
          "2021-10-04T13:00:00+00:00",
          "2021-10-04T14:00:00+00:00",
          "2021-10-05T03:00:00+00:00",
          "2021-10-05T14:00:00+00:00",
          "2021-10-05T18:00:00+00:00",
          "2021-10-05T19:00:00+00:00",
          "2021-10-06T00:00:00+00:00",
          "2021-10-06T07:00:00+00:00",
          "2021-10-06T08:00:00+00:00",
          "2021-10-06T17:00:00+00:00",
          "2021-10-06T20:00:00+00:00",
          "2021-10-06T23:00:00+00:00",
          "2021-10-07T07:00:00+00:00",
          "2021-10-07T08:00:00+00:00",
          "2021-10-07T14:00:00+00:00",
          "2021-10-07T15:00:00+00:00",
          "2021-10-07T16:00:00+00:00",
          "2021-10-07T17:00:00+00:00",
          "2021-10-07T21:00:00+00:00",
          "2021-10-07T23:00:00+00:00",
          "2021-10-08T01:00:00+00:00",
          "2021-10-08T02:00:00+00:00",
          "2021-10-08T04:00:00+00:00",
          "2021-10-08T06:00:00+00:00",
          "2021-10-08T07:00:00+00:00",
          "2021-10-08T08:00:00+00:00",
          "2021-10-08T11:00:00+00:00",
          "2021-10-08T17:00:00+00:00",
          "2021-10-10T22:00:00+00:00",
          "2021-10-11T11:00:00+00:00",
          "2021-10-11T12:00:00+00:00",
          "2021-10-11T16:00:00+00:00",
          "2021-10-11T19:00:00+00:00",
          "2021-10-11T20:00:00+00:00",
          "2021-10-11T21:00:00+00:00",
          "2021-10-11T22:00:00+00:00",
          "2021-10-11T23:00:00+00:00",
          "2021-10-12T05:00:00+00:00",
          "2021-10-12T08:00:00+00:00",
          "2021-10-12T10:00:00+00:00",
          "2021-10-12T18:00:00+00:00",
          "2021-10-13T01:00:00+00:00",
          "2021-10-13T05:00:00+00:00",
          "2021-10-13T06:00:00+00:00",
          "2021-10-13T07:00:00+00:00",
          "2021-10-13T11:00:00+00:00",
          "2021-10-13T18:00:00+00:00",
          "2021-10-13T19:00:00+00:00",
          "2021-10-13T20:00:00+00:00",
          "2021-10-13T22:00:00+00:00",
          "2021-10-13T23:00:00+00:00",
          "2021-10-14T00:00:00+00:00",
          "2021-10-14T02:00:00+00:00",
          "2021-10-14T03:00:00+00:00",
          "2021-10-14T06:00:00+00:00",
          "2021-10-14T07:00:00+00:00",
          "2021-10-14T08:00:00+00:00",
          "2021-10-14T09:00:00+00:00",
          "2021-10-14T10:00:00+00:00",
          "2021-10-14T12:00:00+00:00",
          "2021-10-14T14:00:00+00:00",
          "2021-10-15T01:00:00+00:00",
          "2021-10-15T04:00:00+00:00",
          "2021-10-15T07:00:00+00:00",
          "2021-10-15T11:00:00+00:00",
          "2021-10-15T19:00:00+00:00",
          "2021-10-18T02:00:00+00:00",
          "2021-10-18T09:00:00+00:00",
          "2021-10-18T16:00:00+00:00",
          "2021-10-18T18:00:00+00:00",
          "2021-10-18T22:00:00+00:00",
          "2021-10-19T02:00:00+00:00",
          "2021-10-19T07:00:00+00:00",
          "2021-10-19T11:00:00+00:00",
          "2021-10-19T14:00:00+00:00",
          "2021-10-19T16:00:00+00:00",
          "2021-10-19T18:00:00+00:00",
          "2021-10-20T00:00:00+00:00",
          "2021-10-20T04:00:00+00:00",
          "2021-10-20T05:00:00+00:00",
          "2021-10-20T06:00:00+00:00",
          "2021-10-20T21:00:00+00:00",
          "2021-10-21T08:00:00+00:00",
          "2021-10-21T09:00:00+00:00",
          "2021-10-21T11:00:00+00:00",
          "2021-10-21T12:00:00+00:00",
          "2021-10-21T13:00:00+00:00",
          "2021-10-21T16:00:00+00:00",
          "2021-10-21T18:00:00+00:00",
          "2021-10-21T20:00:00+00:00",
          "2021-10-22T00:00:00+00:00",
          "2021-10-22T04:00:00+00:00",
          "2021-10-22T06:00:00+00:00",
          "2021-10-22T08:00:00+00:00",
          "2021-10-22T09:00:00+00:00",
          "2021-10-22T10:00:00+00:00",
          "2021-10-22T16:00:00+00:00",
          "2021-10-22T17:00:00+00:00",
          "2021-10-25T02:00:00+00:00",
          "2021-10-25T21:00:00+00:00",
          "2021-10-25T23:00:00+00:00",
          "2021-10-26T02:00:00+00:00",
          "2021-10-26T04:00:00+00:00",
          "2021-10-26T05:00:00+00:00",
          "2021-10-26T06:00:00+00:00",
          "2021-10-26T07:00:00+00:00",
          "2021-10-26T11:00:00+00:00",
          "2021-10-26T13:00:00+00:00",
          "2021-10-26T19:00:00+00:00",
          "2021-10-26T20:00:00+00:00",
          "2021-10-27T00:00:00+00:00",
          "2021-10-27T02:00:00+00:00",
          "2021-10-27T19:00:00+00:00",
          "2021-10-28T01:00:00+00:00",
          "2021-10-28T03:00:00+00:00",
          "2021-10-28T04:00:00+00:00",
          "2021-10-28T18:00:00+00:00"
         ],
         "y": [
          71.60000000000055,
          56.50000000000043,
          -0.29999999999974847,
          -41.50000000000098,
          -92.39999999999915,
          -81.7000000000001,
          -156.6999999999985,
          -182.09999999999837,
          -228.49999999999815,
          -214.09999999999928,
          -281.1999999999985,
          -347.49999999999875,
          -418.09999999999764,
          -426.49999999999824,
          -410.4999999999986,
          -482.89999999999895,
          -547.0999999999988,
          -584.4999999999984,
          -535.8999999999976,
          -607.8999999999963,
          -718.3999999999953,
          -731.6999999999958,
          -820.0999999999965,
          -850.7999999999978,
          -1022.6999999999962,
          -1016.5999999999962,
          -1096.1999999999953,
          -1132.0999999999951,
          -1128.499999999996,
          -1114.1999999999955,
          -1125.9999999999964,
          -1165.599999999996,
          -1163.6999999999946,
          -1289.4999999999927,
          -1330.2999999999936,
          -1286.3999999999942,
          -1000.5999999999938,
          -879.0999999999927,
          -696.499999999992,
          -476.9999999999917,
          -509.5999999999899,
          -428.29999999998887,
          -358.49999999998903,
          -249.8999999999881,
          -279.4999999999877,
          -262.2999999999883,
          -259.3999999999893,
          -513.0999999999882,
          -582.899999999988,
          -696.1999999999887,
          -722.6999999999898,
          -814.8999999999899,
          -720.4999999999887,
          -749.499999999988,
          -758.0999999999864,
          -781.2999999999868,
          -701.2999999999867,
          -689.6999999999883,
          -695.1999999999888,
          -673.9999999999886,
          -681.0999999999885,
          -613.2999999999885,
          -459.4999999999888,
          -528.2999999999888,
          -393.8999999999894,
          -340.4999999999904,
          -352.0999999999898,
          -377.0999999999893,
          -188.4999999999897,
          -88.79999999998972,
          -36.5999999999897,
          90.20000000001045,
          253.20000000001147,
          198.80000000001257,
          164.4000000000137,
          175.50000000001316,
          166.60000000001259,
          167.4000000000134,
          135.0000000000143,
          114.00000000001327,
          31.000000000013543,
          -11.799999999987072,
          -108.69999999998683,
          -148.39999999998713,
          -179.79999999998634,
          -146.39999999998625,
          -186.1999999999861,
          -184.7999999999858,
          -201.49999999998641,
          -234.79999999998697,
          -198.29999999998543,
          -165.79999999998347,
          -280.099999999984,
          -260.2999999999831,
          -121.39999999998128,
          -107.9999999999812,
          -124.29999999998087,
          252.90000000001783,
          385.00000000001705,
          319.1000000000161,
          290.4000000000168,
          399.6000000000172,
          467.3000000000188,
          519.7000000000189,
          515.6000000000209,
          449.60000000002157,
          431.50000000002325,
          317.5000000000247,
          355.6000000000245,
          598.6000000000244,
          603.5000000000236,
          688.3000000000219,
          900.3000000000219,
          943.500000000023,
          1129.8000000000245,
          1151.2000000000237,
          1098.700000000023,
          1104.6000000000229,
          1112.7000000000226,
          1141.1000000000222,
          1114.1000000000217,
          1047.4000000000199,
          1041.4000000000194,
          976.2000000000194,
          942.1000000000186,
          897.0000000000164,
          860.000000000016,
          838.5000000000157,
          766.1000000000165,
          727.0000000000168,
          686.0000000000172,
          515.8000000000168,
          460.9000000000161,
          468.2000000000173,
          642.8000000000166,
          619.4000000000165,
          577.4000000000167,
          643.7000000000164,
          662.5000000000152,
          577.4000000000151,
          663.2000000000154,
          597.6000000000142,
          680.8000000000142,
          659.0000000000152,
          655.2000000000147,
          714.500000000015,
          716.1000000000166,
          739.1000000000163,
          818.8000000000166,
          822.4000000000167,
          889.6000000000173,
          836.4000000000191,
          793.000000000019,
          778.0000000000196,
          754.4000000000182,
          707.2000000000187,
          702.3000000000195,
          726.10000000002,
          669.7000000000207,
          678.100000000021,
          749.8000000000211,
          635.2000000000209,
          665.4000000000211,
          792.4000000000204,
          758.0000000000193,
          700.9000000000202,
          680.5000000000209,
          690.3000000000222,
          364.8000000000228,
          219.50000000002348,
          180.50000000002333,
          156.10000000002265,
          122.00000000002281,
          80.60000000002248,
          100.80000000002269,
          56.50000000002225,
          4.900000000023134,
          -6.099999999976809,
          -20.799999999975412,
          -25.599999999974663,
          -84.49999999997416,
          -103.9999999999749,
          33.00000000002555,
          88.80000000002585,
          73.10000000002674,
          36.10000000002899,
          83.90000000002905,
          146.00000000002953,
          169.90000000002846,
          110.5000000000279,
          442.90000000002726,
          442.2000000000271,
          404.80000000002633,
          386.2000000000266,
          605.1000000000263,
          611.3000000000261,
          566.2000000000271,
          535.6000000000275,
          557.5000000000277,
          655.8000000000281,
          812.100000000027,
          695.1000000000265,
          649.8000000000262,
          654.8000000000259,
          649.7000000000257,
          882.500000000026,
          918.100000000027,
          885.2000000000269,
          877.6000000000271,
          1003.7000000000255,
          972.3000000000263,
          1242.1000000000265,
          1237.2000000000266,
          1329.9000000000267,
          1317.7000000000266,
          1280.5000000000273,
          1359.100000000027,
          1339.9000000000278,
          1269.7000000000276,
          1243.7000000000282,
          1213.1000000000276,
          1219.600000000028,
          1208.1000000000283,
          1112.7000000000296,
          1009.0000000000297,
          990.600000000029,
          887.7000000000288,
          865.200000000028,
          782.8000000000278,
          758.8000000000283,
          732.1000000000276,
          730.5000000000283,
          744.200000000027,
          609.6000000000267,
          560.6000000000266,
          526.5000000000275,
          484.1000000000273,
          428.1000000000271,
          394.1000000000264,
          330.60000000002447,
          316.2000000000239,
          269.3000000000242,
          260.50000000002433,
          246.30000000002346,
          241.50000000002328,
          241.8000000000233,
          158.3000000000217,
          126.2000000000219,
          85.80000000002147,
          141.60000000002066,
          148.2000000000217,
          125.40000000002226,
          119.60000000002299,
          117.40000000002412,
          89.60000000002407,
          83.50000000002407,
          133.10000000002483,
          110.90000000002462,
          47.20000000002288,
          303.0000000000243,
          266.4000000000244,
          292.9000000000245,
          339.600000000024,
          288.2000000000237,
          230.2000000000234,
          197.4000000000239,
          224.90000000002448,
          272.50000000002433,
          303.20000000002454,
          210.0000000000246,
          292.00000000002444,
          186.00000000002422,
          144.80000000002167,
          65.80000000001927,
          71.40000000001932,
          175.60000000001804,
          156.20000000001752,
          265.9000000000184,
          252.30000000001812,
          206.6000000000185,
          329.60000000001827,
          282.2000000000175,
          276.500000000019,
          248.70000000001895,
          208.80000000001735,
          221.80000000001704,
          196.30000000001652,
          187.9000000000159,
          215.8000000000166,
          203.90000000001663,
          224.60000000001568,
          90.00000000001603,
          96.10000000001492,
          86.30000000001502,
          6.100000000015768,
          -19.899999999984697,
          -33.699999999985174,
          -53.099999999984014,
          -106.1999999999855,
          -58.89999999998702,
          -56.499999999986926,
          -82.49999999998629,
          -141.49999999998423,
          -158.49999999998457,
          -204.999999999985,
          -272.49999999998533,
          -307.1999999999862,
          -302.49999999998533,
          -314.29999999998483,
          -454.7999999999849,
          -441.6999999999864,
          -592.5999999999858,
          -525.8999999999862,
          -529.599999999986,
          -499.5999999999849,
          -481.29999999998495,
          -479.8999999999868,
          -494.999999999988,
          -515.3999999999874,
          -525.999999999988,
          -545.7999999999867,
          -585.6999999999871,
          -475.8999999999872,
          -470.6999999999887,
          -582.299999999987,
          -564.2999999999868,
          -534.8999999999857,
          -533.4999999999853,
          -530.4999999999834,
          -565.8999999999833,
          -557.4999999999837,
          -589.5999999999831,
          -595.6999999999838,
          -611.0999999999834,
          -598.0999999999826,
          -637.0999999999827,
          -646.299999999984,
          -677.6999999999848,
          -858.8999999999828,
          -891.2999999999827,
          -913.199999999984,
          -947.3999999999853,
          -962.599999999985,
          -980.4999999999859,
          -975.3999999999861,
          -994.1999999999872,
          -994.9999999999868,
          -1011.8999999999864,
          -1022.499999999987,
          -1010.0999999999847,
          -1079.299999999985,
          -1135.9999999999834,
          -1067.5999999999835,
          -1108.5999999999835,
          -1142.0999999999829,
          -1163.6999999999825,
          -1218.8999999999821,
          -1277.89999999998,
          -1297.899999999979,
          -1162.6999999999791,
          -1155.099999999978,
          -1158.3999999999783,
          -1100.9999999999798,
          -1099.9999999999798,
          -998.39999999998,
          -950.4999999999803,
          -915.8999999999796,
          -983.3999999999777,
          -998.5999999999792,
          -1028.7999999999795,
          -1057.199999999978,
          -1048.399999999978,
          -1073.5999999999788,
          -1063.3999999999783,
          -1022.9999999999778,
          -1151.6999999999784,
          -1088.3999999999774,
          -1154.1999999999775,
          -1146.9999999999773,
          -1173.3999999999771,
          -1214.3999999999771,
          -1210.7999999999768,
          -1052.7999999999756,
          -1028.4999999999752,
          -1107.5999999999776,
          -1151.5999999999794,
          -1183.2999999999806,
          -1228.1999999999819,
          -1258.7999999999802,
          -1251.5999999999808,
          -1281.799999999981,
          -1217.2999999999827,
          -1209.5999999999833,
          -1268.699999999983,
          -1217.0999999999824,
          -1224.6999999999834,
          -1173.1999999999834,
          -1224.599999999985,
          -1282.3999999999837,
          -1229.8999999999824,
          -1249.8999999999812,
          -1289.2999999999818,
          -1336.1999999999814,
          -1402.7999999999802,
          -1408.7999999999806,
          -1428.1999999999794,
          -1413.9999999999795,
          -1461.5999999999806,
          -1414.1999999999798,
          -1398.1999999999805,
          -1422.3999999999803,
          -1448.6999999999794,
          -1419.8999999999803,
          -1405.9999999999802,
          -1399.5999999999806,
          -1409.59999999998,
          -1385.0999999999815,
          -1369.6999999999805,
          -1320.599999999979,
          -1293.29999999998,
          -1282.4999999999802,
          -1302.3999999999796,
          -1305.6999999999791,
          -1357.5999999999797,
          -1383.9999999999795,
          -1413.5999999999788,
          -1407.1999999999791,
          -1390.4999999999804,
          -1360.0999999999801,
          -1360.299999999981,
          -1355.8999999999814,
          -1392.6999999999805,
          -1334.99999999998,
          -1326.0999999999806,
          -1429.5999999999815,
          -1444.0999999999833,
          -1494.899999999983,
          -1533.6999999999834,
          -1536.8999999999833,
          -1544.7999999999827,
          -1533.3999999999824,
          -1545.0999999999813,
          -1539.299999999981,
          -1556.2999999999813,
          -1550.0999999999806,
          -1480.2999999999806,
          -1486.4999999999804,
          -1448.4999999999802,
          -1499.8999999999812,
          -1452.7999999999813,
          -1488.999999999981,
          -1529.999999999981,
          -1528.7999999999809,
          -1543.6999999999796,
          -1606.1999999999807,
          -1609.9999999999811,
          -1725.2999999999804,
          -1745.4999999999795,
          -1928.8999999999783,
          -1902.7999999999788,
          -1911.1999999999782,
          -1937.1999999999775,
          -1782.9999999999777,
          -1836.0999999999783,
          -1616.599999999977,
          -1648.4999999999773,
          -1647.2999999999784,
          -1601.299999999979,
          -1625.699999999979,
          -1444.1999999999778,
          -1447.2999999999784,
          -1469.6999999999773,
          -1528.099999999978,
          -1650.999999999978,
          -1703.9999999999782,
          -1755.499999999978,
          -1816.0999999999783,
          -1897.0999999999783,
          -1962.4999999999793,
          -2070.6999999999775,
          -2065.299999999978,
          -2096.299999999978,
          -2078.5999999999776,
          -2173.3999999999783,
          -2068.599999999978,
          -1797.2999999999786,
          -1631.899999999979,
          -1554.4999999999782,
          -1434.299999999978,
          -1313.6999999999762,
          -1132.699999999976,
          -1145.6999999999757,
          -1075.0999999999751,
          -1248.9999999999752,
          -1322.7999999999747,
          -1349.1999999999755,
          -1326.4999999999754,
          -1326.8999999999758,
          -1327.299999999976,
          -1346.799999999976,
          -1371.4999999999761,
          -1415.2999999999765,
          -1443.3999999999762,
          -1477.9999999999764,
          -1486.2999999999752,
          -1473.1999999999737,
          -1465.5999999999726,
          -1457.1999999999732,
          -1468.0999999999735,
          -1403.4999999999734,
          -1386.699999999972,
          -1182.9999999999723,
          -1154.4999999999727,
          -988.2999999999724,
          -852.2999999999724,
          -716.9999999999709,
          -610.9999999999715,
          -570.6999999999717,
          -581.599999999972,
          -541.599999999972,
          -373.79999999997415,
          -349.6999999999739,
          -352.0999999999752,
          -269.6999999999749,
          -192.09999999997441,
          -196.49999999997326,
          -202.6999999999728,
          -175.2999999999727,
          -204.89999999997232,
          -258.0999999999724,
          -273.49999999997203,
          -301.5999999999718,
          -298.9999999999722,
          -319.69999999997015,
          -304.9999999999696,
          -306.1999999999697,
          -221.99999999996987,
          -228.9999999999702,
          -211.79999999997077,
          -165.09999999997126,
          -161.89999999997028,
          -195.19999999997083,
          -178.1999999999727,
          -192.59999999997157,
          -206.6999999999729,
          -239.4999999999724,
          -261.0999999999729,
          -307.5999999999733,
          -324.69999999997253,
          -363.69999999997265,
          -394.09999999997194,
          -393.69999999997157,
          -427.09999999997063,
          -438.89999999997025,
          -454.39999999997036,
          -290.5999999999698,
          -293.4999999999694,
          -373.8999999999696,
          -392.8999999999694,
          -323.29999999997085,
          -341.09999999997086,
          -377.6999999999708,
          -392.1999999999703,
          -404.3999999999703,
          -325.59999999997143,
          -334.19999999997117,
          -337.99999999997056,
          -371.8999999999706,
          -499.9999999999688,
          -519.4999999999688,
          -495.5999999999673,
          -470.799999999968,
          -390.89999999996735,
          -422.8999999999672,
          -463.19999999996696,
          -418.59999999996677,
          -519.8999999999673,
          -488.3999999999663,
          -303.2999999999683,
          -182.59999999996893,
          -103.4999999999681,
          -145.69999999997066,
          -74.29999999997142,
          -82.09999999997144,
          -98.59999999997073,
          -206.19999999997066,
          -293.9999999999708,
          -179.0999999999707,
          -98.09999999997073,
          -57.6999999999703,
          42.800000000029726,
          260.5000000000282,
          207.00000000002743,
          150.500000000027,
          134.400000000027,
          67.40000000002773,
          27.20000000002861,
          57.200000000029746,
          -20.99999999997185,
          -83.49999999997185,
          -151.29999999997193,
          -183.69999999997316,
          -172.8999999999744,
          -235.2999999999733,
          -233.79999999997236,
          -254.29999999997233,
          -99.59999999997362,
          -46.39999999997371,
          -79.39999999997451,
          -90.09999999997467,
          -107.49999999997542,
          -127.89999999997583,
          -213.69999999997503,
          -174.79999999997554,
          -117.29999999997668,
          -120.69999999997674,
          -101.69999999997661,
          -117.19999999997601,
          62.300000000024156,
          225.60000000002373,
          218.50000000002385,
          257.8000000000237,
          203.20000000002352,
          206.70000000002318,
          306.80000000002394,
          266.6000000000237,
          259.000000000025,
          251.20000000002497,
          331.20000000002506,
          314.60000000002395,
          303.0000000000235,
          440.30000000002366,
          502.70000000002165,
          497.20000000002113,
          548.4000000000212,
          543.6000000000208,
          419.80000000002246,
          434.5000000000233,
          352.30000000002326,
          253.0000000000233,
          204.90000000002385,
          110.50000000002271,
          55.50000000002157,
          104.5000000000206,
          50.10000000001949,
          -5.699999999979688,
          -109.09999999997927,
          -129.2999999999806,
          -203.99999999998147,
          -239.99999999998084,
          -221.89999999998105,
          -246.99999999998118,
          -286.5999999999808,
          -275.8999999999809,
          -147.9999999999801,
          -55.69999999997992,
          -7.799999999981424,
          10.200000000018811,
          18.300000000019118,
          -6.299999999981814,
          117.60000000001591,
          172.6000000000165,
          160.30000000001587,
          233.30000000001672,
          325.1000000000175,
          533.6000000000179,
          531.6000000000181,
          492.80000000001814,
          473.10000000001787,
          479.30000000001854,
          551.4000000000179,
          526.1000000000165,
          452.40000000001663,
          469.50000000001586,
          480.6000000000163,
          466.0000000000161,
          404.3000000000136,
          397.3000000000143,
          566.8000000000122,
          825.6000000000134,
          779.8000000000131,
          850.0000000000134,
          953.0000000000132,
          966.4000000000144,
          1019.600000000014,
          1004.4000000000143,
          992.4000000000138,
          958.1000000000137,
          960.8000000000136,
          910.9000000000113,
          850.2000000000112,
          750.8000000000106,
          669.3000000000109,
          652.2000000000103,
          638.4000000000109,
          589.6000000000109,
          515.5000000000109,
          484.7000000000112,
          557.3000000000117,
          522.100000000012,
          491.60000000001196,
          443.6000000000131,
          371.200000000014,
          561.3000000000137,
          533.3000000000146,
          545.1000000000154,
          513.7000000000162,
          545.7000000000155,
          566.8000000000161,
          547.6000000000168,
          441.7000000000174,
          441.10000000001787,
          435.9000000000171,
          396.50000000001967,
          372.60000000001924,
          405.40000000001874,
          384.7000000000186,
          355.800000000018,
          609.3000000000178,
          599.4000000000174,
          721.3000000000177,
          752.9000000000174,
          756.3000000000175,
          897.5000000000166,
          1062.5000000000161,
          1126.7000000000157,
          1284.000000000016,
          1362.900000000016,
          1317.9000000000158,
          1449.800000000016,
          1472.100000000016,
          1547.8000000000168,
          1537.8000000000156,
          1506.3000000000159,
          1433.5000000000164,
          1435.3000000000147,
          1439.100000000014,
          1394.3000000000136,
          1419.2000000000146,
          1396.7000000000137,
          1376.5000000000146,
          1420.600000000015,
          1428.600000000014,
          1493.500000000014,
          1442.9000000000158,
          1437.8000000000143,
          1442.300000000015,
          1415.800000000015,
          1355.800000000015,
          1301.5000000000157,
          1273.5000000000155,
          1314.600000000016,
          1305.8000000000166,
          1251.6000000000163,
          1256.9000000000176,
          1224.100000000018,
          1212.6000000000172,
          1197.1000000000172,
          1245.1000000000186,
          1198.1000000000192,
          1164.3000000000188,
          1109.9000000000178,
          1091.3000000000181,
          1176.8000000000186,
          1174.4000000000185,
          1187.0000000000189,
          1328.300000000017,
          1455.700000000017,
          1599.6000000000179,
          1691.5000000000182,
          1878.9000000000178,
          2145.6000000000176,
          2282.400000000017,
          2236.0000000000173,
          2295.900000000018,
          2289.000000000019,
          2426.3000000000193,
          2505.1000000000195,
          2502.500000000019,
          2345.200000000019,
          2414.6000000000204,
          2342.4000000000206,
          2291.800000000022,
          2172.800000000022,
          2086.4000000000224,
          2062.700000000023,
          2131.700000000022,
          2166.3000000000225,
          2211.7000000000226,
          2177.3000000000247,
          2085.0000000000255,
          2084.600000000025,
          1966.8000000000236,
          1894.6000000000242,
          1832.8000000000245,
          1785.6000000000251,
          1656.400000000025,
          1600.6000000000258,
          1592.8000000000256,
          1529.9000000000265,
          1498.4000000000267,
          1371.9000000000265,
          1327.0000000000266,
          1324.4000000000262,
          1233.100000000028,
          1156.10000000003,
          1157.000000000029,
          1108.2000000000291,
          1069.6000000000295,
          1026.0000000000286,
          1528.6000000000283,
          1550.600000000028,
          1709.100000000029,
          1846.400000000031,
          1801.800000000031,
          1772.7000000000314,
          2054.7000000000307,
          2129.6000000000317,
          2173.9000000000333,
          2395.5000000000337,
          2422.100000000036,
          2522.600000000035,
          2481.9000000000347,
          2501.100000000034,
          2485.300000000034,
          2471.900000000033,
          2441.800000000034,
          2659.8000000000343,
          2680.2000000000326,
          2636.000000000034,
          2643.7000000000357,
          2673.2000000000357,
          2678.700000000036,
          2609.700000000037,
          2549.700000000036,
          2429.3000000000357,
          2297.500000000034,
          2263.600000000034,
          2204.7000000000344,
          2194.4000000000333,
          2298.8000000000334,
          2212.1000000000327,
          2363.1000000000317,
          2330.7000000000326,
          2285.2000000000326,
          2221.6000000000313,
          2209.1000000000317,
          2289.6000000000304,
          2318.6000000000295,
          2300.1000000000295,
          2271.6000000000295,
          2226.2000000000294,
          2205.4000000000296,
          2192.600000000028,
          2213.0000000000286,
          2180.0000000000286,
          2176.6000000000286,
          2173.9000000000283,
          2161.000000000028,
          2162.500000000029,
          2162.1000000000286,
          2128.400000000028,
          2116.7000000000276,
          2114.0000000000277,
          2102.700000000027,
          2087.100000000027,
          2152.2000000000285,
          2176.300000000029,
          2167.800000000029,
          2177.4000000000296,
          2171.6000000000304,
          2172.6000000000295,
          2158.8000000000297,
          2147.400000000029,
          2128.7000000000294,
          2105.0000000000296,
          2023.6000000000292,
          1957.7000000000282,
          1979.5000000000286,
          1948.600000000029,
          1964.700000000029,
          1913.9000000000278,
          1962.9000000000292,
          2029.5000000000305,
          2064.7000000000303,
          2023.4000000000306,
          1907.8000000000302,
          1866.2000000000307,
          1825.3000000000304,
          1785.0000000000314,
          1874.8000000000313,
          1924.5000000000316,
          1903.6000000000313,
          1900.9000000000312,
          1878.9000000000315,
          1914.4000000000333,
          1895.3000000000325,
          1930.500000000032,
          1949.6000000000317,
          1960.6000000000306,
          1919.8000000000304,
          1921.7000000000296,
          1873.30000000003,
          1873.0000000000302,
          1813.2000000000303,
          1801.6000000000297,
          1693.8000000000293,
          1639.6000000000295,
          1587.4000000000294,
          1549.6000000000304,
          1510.2000000000298,
          1508.8000000000302,
          1524.8000000000313,
          1549.1000000000317,
          1540.9000000000335,
          1512.6000000000336,
          1467.2000000000342,
          1418.5000000000337,
          1527.900000000033,
          1485.5000000000327,
          1466.900000000033,
          1465.200000000033,
          1456.1000000000333,
          1461.900000000034,
          1458.1000000000342,
          1396.9000000000342,
          1380.3000000000345,
          1359.9000000000342,
          1310.500000000034,
          1334.900000000037,
          1324.600000000036,
          1239.2000000000362,
          1184.6000000000367,
          1185.800000000038,
          1205.1000000000379,
          1171.6000000000372,
          1098.2000000000382,
          959.4000000000383,
          1000.3000000000376,
          956.5000000000371,
          892.7000000000365,
          982.9000000000368,
          909.8000000000376,
          798.700000000038,
          669.7000000000389,
          632.7000000000386,
          617.200000000038,
          616.4000000000383,
          512.7000000000384,
          509.9000000000389,
          492.7000000000395,
          424.5000000000393,
          382.10000000004004,
          364.70000000003927,
          272.90000000003863,
          406.6000000000397,
          413.1000000000401,
          358.7000000000418,
          297.10000000004237,
          343.60000000004277,
          350.0000000000425,
          339.20000000004353,
          408.70000000004285,
          395.7000000000433,
          399.90000000004306,
          327.60000000004345,
          289.6000000000432,
          266.3000000000438,
          225.90000000004414,
          265.8000000000435,
          291.6000000000438,
          315.3000000000436,
          652.2000000000436,
          807.8000000000434,
          998.9000000000452,
          1104.2000000000444,
          1333.2000000000435,
          1320.9000000000428,
          1510.4000000000437,
          1639.600000000044,
          1610.5000000000443,
          1744.7000000000457,
          1828.6000000000456,
          1920.5000000000439,
          1910.7000000000442,
          1854.400000000044,
          1740.3000000000447,
          1757.4000000000447,
          1720.3000000000459,
          1718.300000000046,
          1688.7000000000453,
          1683.2000000000448,
          1668.1000000000458,
          1673.200000000046,
          1758.4000000000467,
          1886.3000000000475,
          1897.0000000000475,
          1995.4000000000483,
          2141.2000000000485,
          2133.4000000000483,
          2139.0000000000473,
          2158.300000000047,
          2057.8000000000457,
          2036.9000000000467,
          2017.7000000000476,
          1978.1000000000479,
          1954.900000000047,
          1881.4000000000442,
          1900.8000000000445,
          1858.900000000043,
          1812.0000000000423,
          1753.200000000043,
          1733.8000000000427,
          1825.5000000000427,
          1792.5000000000418,
          1903.5000000000407,
          2283.4000000000406,
          2308.40000000004,
          2398.3000000000407,
          2504.30000000004,
          2461.5000000000405,
          2570.90000000004,
          2555.7000000000403,
          2596.3000000000397,
          2548.700000000041,
          2544.600000000042,
          2473.400000000042,
          2446.300000000042,
          2410.300000000043,
          2422.5000000000414,
          2781.2000000000417,
          2782.300000000042,
          3212.100000000039,
          3217.2000000000394,
          3248.000000000039,
          3354.8000000000393,
          3380.3000000000397,
          3349.3000000000397,
          3332.20000000004,
          3288.400000000039,
          3274.7000000000376,
          3212.900000000035,
          3157.500000000034,
          3066.200000000033,
          3057.8000000000325,
          3094.4000000000324,
          3204.200000000031,
          3201.3000000000316,
          3372.1000000000313,
          3359.700000000032,
          3816.7000000000317,
          3801.700000000031,
          4217.800000000031,
          4222.300000000032,
          4229.300000000032,
          4542.400000000032,
          4512.000000000031,
          4492.100000000031,
          4390.800000000029,
          4354.00000000003,
          4317.200000000031,
          4336.600000000031,
          4320.900000000031,
          4314.100000000031,
          4274.800000000031,
          4253.20000000003,
          4232.80000000003,
          4233.400000000031,
          4171.700000000031,
          4127.20000000003,
          4046.40000000003,
          4039.0000000000305,
          4010.300000000029,
          4058.300000000028,
          4100.500000000028,
          4045.700000000028,
          4032.500000000028,
          3909.500000000028,
          4051.2000000000285,
          4256.200000000028,
          4241.600000000028,
          4235.700000000028,
          4186.100000000028,
          4061.100000000029,
          4013.500000000029,
          4361.100000000028,
          4519.000000000027,
          4459.700000000027,
          4363.100000000027,
          4598.700000000027,
          4680.400000000027,
          4716.900000000028,
          4617.20000000003,
          4597.20000000003,
          4617.20000000003,
          4619.400000000031,
          4596.600000000031,
          4536.500000000033,
          4507.900000000034,
          4488.500000000034,
          4461.500000000035,
          4445.300000000035,
          4450.800000000036,
          4454.8000000000375,
          4461.600000000038,
          4434.8000000000375,
          4413.600000000036,
          4343.0000000000355,
          4301.300000000036,
          4262.700000000034,
          4250.900000000035,
          4254.7000000000335,
          4279.100000000033,
          4236.800000000034,
          4271.700000000034,
          4276.2000000000335,
          4278.500000000036,
          4215.200000000035,
          4206.300000000036,
          4166.200000000036,
          4181.500000000036,
          4090.5000000000364,
          4062.200000000036,
          4109.8000000000375,
          4147.200000000036,
          4172.5000000000355,
          4137.800000000036,
          4119.800000000037,
          4075.4000000000365,
          4086.8000000000366,
          4059.0000000000364,
          4031.300000000038,
          3975.400000000037,
          3923.700000000038,
          3937.7000000000385,
          3820.4000000000365,
          3793.8000000000375,
          3683.7000000000376,
          3680.1000000000377,
          3628.6000000000377,
          3587.800000000039,
          3563.4000000000387,
          3554.7000000000385,
          3557.60000000004,
          3553.8000000000407,
          3539.600000000041,
          3538.0000000000414
         ]
        }
       ],
       "layout": {
        "font": {
         "color": "#e1e1e1",
         "size": 10
        },
        "height": 400,
        "margin": {
         "b": 10,
         "l": 15,
         "r": 15
        },
        "paper_bgcolor": "#1e1e1e",
        "plot_bgcolor": "#1e1e1e",
        "template": {
         "data": {
          "bar": [
           {
            "error_x": {
             "color": "#2a3f5f"
            },
            "error_y": {
             "color": "#2a3f5f"
            },
            "marker": {
             "line": {
              "color": "#E5ECF6",
              "width": 0.5
             },
             "pattern": {
              "fillmode": "overlay",
              "size": 10,
              "solidity": 0.2
             }
            },
            "type": "bar"
           }
          ],
          "barpolar": [
           {
            "marker": {
             "line": {
              "color": "#E5ECF6",
              "width": 0.5
             },
             "pattern": {
              "fillmode": "overlay",
              "size": 10,
              "solidity": 0.2
             }
            },
            "type": "barpolar"
           }
          ],
          "carpet": [
           {
            "aaxis": {
             "endlinecolor": "#2a3f5f",
             "gridcolor": "white",
             "linecolor": "white",
             "minorgridcolor": "white",
             "startlinecolor": "#2a3f5f"
            },
            "baxis": {
             "endlinecolor": "#2a3f5f",
             "gridcolor": "white",
             "linecolor": "white",
             "minorgridcolor": "white",
             "startlinecolor": "#2a3f5f"
            },
            "type": "carpet"
           }
          ],
          "choropleth": [
           {
            "colorbar": {
             "outlinewidth": 0,
             "ticks": ""
            },
            "type": "choropleth"
           }
          ],
          "contour": [
           {
            "colorbar": {
             "outlinewidth": 0,
             "ticks": ""
            },
            "colorscale": [
             [
              0,
              "#0d0887"
             ],
             [
              0.1111111111111111,
              "#46039f"
             ],
             [
              0.2222222222222222,
              "#7201a8"
             ],
             [
              0.3333333333333333,
              "#9c179e"
             ],
             [
              0.4444444444444444,
              "#bd3786"
             ],
             [
              0.5555555555555556,
              "#d8576b"
             ],
             [
              0.6666666666666666,
              "#ed7953"
             ],
             [
              0.7777777777777778,
              "#fb9f3a"
             ],
             [
              0.8888888888888888,
              "#fdca26"
             ],
             [
              1,
              "#f0f921"
             ]
            ],
            "type": "contour"
           }
          ],
          "contourcarpet": [
           {
            "colorbar": {
             "outlinewidth": 0,
             "ticks": ""
            },
            "type": "contourcarpet"
           }
          ],
          "heatmap": [
           {
            "colorbar": {
             "outlinewidth": 0,
             "ticks": ""
            },
            "colorscale": [
             [
              0,
              "#0d0887"
             ],
             [
              0.1111111111111111,
              "#46039f"
             ],
             [
              0.2222222222222222,
              "#7201a8"
             ],
             [
              0.3333333333333333,
              "#9c179e"
             ],
             [
              0.4444444444444444,
              "#bd3786"
             ],
             [
              0.5555555555555556,
              "#d8576b"
             ],
             [
              0.6666666666666666,
              "#ed7953"
             ],
             [
              0.7777777777777778,
              "#fb9f3a"
             ],
             [
              0.8888888888888888,
              "#fdca26"
             ],
             [
              1,
              "#f0f921"
             ]
            ],
            "type": "heatmap"
           }
          ],
          "heatmapgl": [
           {
            "colorbar": {
             "outlinewidth": 0,
             "ticks": ""
            },
            "colorscale": [
             [
              0,
              "#0d0887"
             ],
             [
              0.1111111111111111,
              "#46039f"
             ],
             [
              0.2222222222222222,
              "#7201a8"
             ],
             [
              0.3333333333333333,
              "#9c179e"
             ],
             [
              0.4444444444444444,
              "#bd3786"
             ],
             [
              0.5555555555555556,
              "#d8576b"
             ],
             [
              0.6666666666666666,
              "#ed7953"
             ],
             [
              0.7777777777777778,
              "#fb9f3a"
             ],
             [
              0.8888888888888888,
              "#fdca26"
             ],
             [
              1,
              "#f0f921"
             ]
            ],
            "type": "heatmapgl"
           }
          ],
          "histogram": [
           {
            "marker": {
             "pattern": {
              "fillmode": "overlay",
              "size": 10,
              "solidity": 0.2
             }
            },
            "type": "histogram"
           }
          ],
          "histogram2d": [
           {
            "colorbar": {
             "outlinewidth": 0,
             "ticks": ""
            },
            "colorscale": [
             [
              0,
              "#0d0887"
             ],
             [
              0.1111111111111111,
              "#46039f"
             ],
             [
              0.2222222222222222,
              "#7201a8"
             ],
             [
              0.3333333333333333,
              "#9c179e"
             ],
             [
              0.4444444444444444,
              "#bd3786"
             ],
             [
              0.5555555555555556,
              "#d8576b"
             ],
             [
              0.6666666666666666,
              "#ed7953"
             ],
             [
              0.7777777777777778,
              "#fb9f3a"
             ],
             [
              0.8888888888888888,
              "#fdca26"
             ],
             [
              1,
              "#f0f921"
             ]
            ],
            "type": "histogram2d"
           }
          ],
          "histogram2dcontour": [
           {
            "colorbar": {
             "outlinewidth": 0,
             "ticks": ""
            },
            "colorscale": [
             [
              0,
              "#0d0887"
             ],
             [
              0.1111111111111111,
              "#46039f"
             ],
             [
              0.2222222222222222,
              "#7201a8"
             ],
             [
              0.3333333333333333,
              "#9c179e"
             ],
             [
              0.4444444444444444,
              "#bd3786"
             ],
             [
              0.5555555555555556,
              "#d8576b"
             ],
             [
              0.6666666666666666,
              "#ed7953"
             ],
             [
              0.7777777777777778,
              "#fb9f3a"
             ],
             [
              0.8888888888888888,
              "#fdca26"
             ],
             [
              1,
              "#f0f921"
             ]
            ],
            "type": "histogram2dcontour"
           }
          ],
          "mesh3d": [
           {
            "colorbar": {
             "outlinewidth": 0,
             "ticks": ""
            },
            "type": "mesh3d"
           }
          ],
          "parcoords": [
           {
            "line": {
             "colorbar": {
              "outlinewidth": 0,
              "ticks": ""
             }
            },
            "type": "parcoords"
           }
          ],
          "pie": [
           {
            "automargin": true,
            "type": "pie"
           }
          ],
          "scatter": [
           {
            "marker": {
             "colorbar": {
              "outlinewidth": 0,
              "ticks": ""
             }
            },
            "type": "scatter"
           }
          ],
          "scatter3d": [
           {
            "line": {
             "colorbar": {
              "outlinewidth": 0,
              "ticks": ""
             }
            },
            "marker": {
             "colorbar": {
              "outlinewidth": 0,
              "ticks": ""
             }
            },
            "type": "scatter3d"
           }
          ],
          "scattercarpet": [
           {
            "marker": {
             "colorbar": {
              "outlinewidth": 0,
              "ticks": ""
             }
            },
            "type": "scattercarpet"
           }
          ],
          "scattergeo": [
           {
            "marker": {
             "colorbar": {
              "outlinewidth": 0,
              "ticks": ""
             }
            },
            "type": "scattergeo"
           }
          ],
          "scattergl": [
           {
            "marker": {
             "colorbar": {
              "outlinewidth": 0,
              "ticks": ""
             }
            },
            "type": "scattergl"
           }
          ],
          "scattermapbox": [
           {
            "marker": {
             "colorbar": {
              "outlinewidth": 0,
              "ticks": ""
             }
            },
            "type": "scattermapbox"
           }
          ],
          "scatterpolar": [
           {
            "marker": {
             "colorbar": {
              "outlinewidth": 0,
              "ticks": ""
             }
            },
            "type": "scatterpolar"
           }
          ],
          "scatterpolargl": [
           {
            "marker": {
             "colorbar": {
              "outlinewidth": 0,
              "ticks": ""
             }
            },
            "type": "scatterpolargl"
           }
          ],
          "scatterternary": [
           {
            "marker": {
             "colorbar": {
              "outlinewidth": 0,
              "ticks": ""
             }
            },
            "type": "scatterternary"
           }
          ],
          "surface": [
           {
            "colorbar": {
             "outlinewidth": 0,
             "ticks": ""
            },
            "colorscale": [
             [
              0,
              "#0d0887"
             ],
             [
              0.1111111111111111,
              "#46039f"
             ],
             [
              0.2222222222222222,
              "#7201a8"
             ],
             [
              0.3333333333333333,
              "#9c179e"
             ],
             [
              0.4444444444444444,
              "#bd3786"
             ],
             [
              0.5555555555555556,
              "#d8576b"
             ],
             [
              0.6666666666666666,
              "#ed7953"
             ],
             [
              0.7777777777777778,
              "#fb9f3a"
             ],
             [
              0.8888888888888888,
              "#fdca26"
             ],
             [
              1,
              "#f0f921"
             ]
            ],
            "type": "surface"
           }
          ],
          "table": [
           {
            "cells": {
             "fill": {
              "color": "#EBF0F8"
             },
             "line": {
              "color": "white"
             }
            },
            "header": {
             "fill": {
              "color": "#C8D4E3"
             },
             "line": {
              "color": "white"
             }
            },
            "type": "table"
           }
          ]
         },
         "layout": {
          "annotationdefaults": {
           "arrowcolor": "#2a3f5f",
           "arrowhead": 0,
           "arrowwidth": 1
          },
          "autotypenumbers": "strict",
          "coloraxis": {
           "colorbar": {
            "outlinewidth": 0,
            "ticks": ""
           }
          },
          "colorscale": {
           "diverging": [
            [
             0,
             "#8e0152"
            ],
            [
             0.1,
             "#c51b7d"
            ],
            [
             0.2,
             "#de77ae"
            ],
            [
             0.3,
             "#f1b6da"
            ],
            [
             0.4,
             "#fde0ef"
            ],
            [
             0.5,
             "#f7f7f7"
            ],
            [
             0.6,
             "#e6f5d0"
            ],
            [
             0.7,
             "#b8e186"
            ],
            [
             0.8,
             "#7fbc41"
            ],
            [
             0.9,
             "#4d9221"
            ],
            [
             1,
             "#276419"
            ]
           ],
           "sequential": [
            [
             0,
             "#0d0887"
            ],
            [
             0.1111111111111111,
             "#46039f"
            ],
            [
             0.2222222222222222,
             "#7201a8"
            ],
            [
             0.3333333333333333,
             "#9c179e"
            ],
            [
             0.4444444444444444,
             "#bd3786"
            ],
            [
             0.5555555555555556,
             "#d8576b"
            ],
            [
             0.6666666666666666,
             "#ed7953"
            ],
            [
             0.7777777777777778,
             "#fb9f3a"
            ],
            [
             0.8888888888888888,
             "#fdca26"
            ],
            [
             1,
             "#f0f921"
            ]
           ],
           "sequentialminus": [
            [
             0,
             "#0d0887"
            ],
            [
             0.1111111111111111,
             "#46039f"
            ],
            [
             0.2222222222222222,
             "#7201a8"
            ],
            [
             0.3333333333333333,
             "#9c179e"
            ],
            [
             0.4444444444444444,
             "#bd3786"
            ],
            [
             0.5555555555555556,
             "#d8576b"
            ],
            [
             0.6666666666666666,
             "#ed7953"
            ],
            [
             0.7777777777777778,
             "#fb9f3a"
            ],
            [
             0.8888888888888888,
             "#fdca26"
            ],
            [
             1,
             "#f0f921"
            ]
           ]
          },
          "colorway": [
           "#636efa",
           "#EF553B",
           "#00cc96",
           "#ab63fa",
           "#FFA15A",
           "#19d3f3",
           "#FF6692",
           "#B6E880",
           "#FF97FF",
           "#FECB52"
          ],
          "font": {
           "color": "#2a3f5f"
          },
          "geo": {
           "bgcolor": "white",
           "lakecolor": "white",
           "landcolor": "#E5ECF6",
           "showlakes": true,
           "showland": true,
           "subunitcolor": "white"
          },
          "hoverlabel": {
           "align": "left"
          },
          "hovermode": "closest",
          "mapbox": {
           "style": "light"
          },
          "paper_bgcolor": "white",
          "plot_bgcolor": "#E5ECF6",
          "polar": {
           "angularaxis": {
            "gridcolor": "white",
            "linecolor": "white",
            "ticks": ""
           },
           "bgcolor": "#E5ECF6",
           "radialaxis": {
            "gridcolor": "white",
            "linecolor": "white",
            "ticks": ""
           }
          },
          "scene": {
           "xaxis": {
            "backgroundcolor": "#E5ECF6",
            "gridcolor": "white",
            "gridwidth": 2,
            "linecolor": "white",
            "showbackground": true,
            "ticks": "",
            "zerolinecolor": "white"
           },
           "yaxis": {
            "backgroundcolor": "#E5ECF6",
            "gridcolor": "white",
            "gridwidth": 2,
            "linecolor": "white",
            "showbackground": true,
            "ticks": "",
            "zerolinecolor": "white"
           },
           "zaxis": {
            "backgroundcolor": "#E5ECF6",
            "gridcolor": "white",
            "gridwidth": 2,
            "linecolor": "white",
            "showbackground": true,
            "ticks": "",
            "zerolinecolor": "white"
           }
          },
          "shapedefaults": {
           "line": {
            "color": "#2a3f5f"
           }
          },
          "ternary": {
           "aaxis": {
            "gridcolor": "white",
            "linecolor": "white",
            "ticks": ""
           },
           "baxis": {
            "gridcolor": "white",
            "linecolor": "white",
            "ticks": ""
           },
           "bgcolor": "#E5ECF6",
           "caxis": {
            "gridcolor": "white",
            "linecolor": "white",
            "ticks": ""
           }
          },
          "title": {
           "x": 0.05
          },
          "xaxis": {
           "automargin": true,
           "gridcolor": "white",
           "linecolor": "white",
           "ticks": "",
           "title": {
            "standoff": 15
           },
           "zerolinecolor": "white",
           "zerolinewidth": 2
          },
          "yaxis": {
           "automargin": true,
           "gridcolor": "white",
           "linecolor": "white",
           "ticks": "",
           "title": {
            "standoff": 15
           },
           "zerolinecolor": "white",
           "zerolinewidth": 2
          }
         }
        },
        "title": {
         "text": "MA_32_64"
        },
        "width": 1000,
        "xaxis": {
         "linecolor": "#3a4a54",
         "linewidth": 1,
         "showgrid": false,
         "zeroline": false
        },
        "yaxis": {
         "linecolor": "#3a4a54",
         "linewidth": 1,
         "showgrid": false,
         "zeroline": false
        }
       }
      }
     },
     "metadata": {},
     "output_type": "display_data"
    },
    {
     "data": {
      "application/vnd.plotly.v1+json": {
       "config": {
        "plotlyServerURL": "https://plot.ly"
       },
       "data": [
        {
         "line": {
          "color": "#3d825f",
          "shape": "spline",
          "width": 2
         },
         "mode": "lines",
         "name": "MA_24_64",
         "type": "scatter",
         "x": [
          "2021-03-14T22:00:00+00:00",
          "2021-03-15T02:00:00+00:00",
          "2021-03-15T14:00:00+00:00",
          "2021-03-15T15:00:00+00:00",
          "2021-03-15T17:00:00+00:00",
          "2021-03-15T18:00:00+00:00",
          "2021-03-15T20:00:00+00:00",
          "2021-03-15T22:00:00+00:00",
          "2021-03-16T03:00:00+00:00",
          "2021-03-16T07:00:00+00:00",
          "2021-03-16T12:00:00+00:00",
          "2021-03-16T13:00:00+00:00",
          "2021-03-16T14:00:00+00:00",
          "2021-03-16T21:00:00+00:00",
          "2021-03-17T01:00:00+00:00",
          "2021-03-17T03:00:00+00:00",
          "2021-03-17T05:00:00+00:00",
          "2021-03-17T10:00:00+00:00",
          "2021-03-17T12:00:00+00:00",
          "2021-03-17T16:00:00+00:00",
          "2021-03-17T17:00:00+00:00",
          "2021-03-17T22:00:00+00:00",
          "2021-03-17T23:00:00+00:00",
          "2021-03-18T00:00:00+00:00",
          "2021-03-18T01:00:00+00:00",
          "2021-03-18T04:00:00+00:00",
          "2021-03-18T07:00:00+00:00",
          "2021-03-18T11:00:00+00:00",
          "2021-03-18T19:00:00+00:00",
          "2021-03-18T20:00:00+00:00",
          "2021-03-18T21:00:00+00:00",
          "2021-03-18T22:00:00+00:00",
          "2021-03-19T01:00:00+00:00",
          "2021-03-19T02:00:00+00:00",
          "2021-03-19T03:00:00+00:00",
          "2021-03-19T04:00:00+00:00",
          "2021-03-19T06:00:00+00:00",
          "2021-03-19T07:00:00+00:00",
          "2021-03-19T08:00:00+00:00",
          "2021-03-19T09:00:00+00:00",
          "2021-03-19T12:00:00+00:00",
          "2021-03-21T21:00:00+00:00",
          "2021-03-21T22:00:00+00:00",
          "2021-03-22T06:00:00+00:00",
          "2021-03-22T10:00:00+00:00",
          "2021-03-22T11:00:00+00:00",
          "2021-03-22T19:00:00+00:00",
          "2021-03-22T22:00:00+00:00",
          "2021-03-22T23:00:00+00:00",
          "2021-03-23T01:00:00+00:00",
          "2021-03-23T04:00:00+00:00",
          "2021-03-23T06:00:00+00:00",
          "2021-03-23T13:00:00+00:00",
          "2021-03-23T15:00:00+00:00",
          "2021-03-23T16:00:00+00:00",
          "2021-03-23T18:00:00+00:00",
          "2021-03-23T19:00:00+00:00",
          "2021-03-23T21:00:00+00:00",
          "2021-03-24T04:00:00+00:00",
          "2021-03-24T09:00:00+00:00",
          "2021-03-25T01:00:00+00:00",
          "2021-03-25T07:00:00+00:00",
          "2021-03-25T09:00:00+00:00",
          "2021-03-25T15:00:00+00:00",
          "2021-03-25T16:00:00+00:00",
          "2021-03-25T17:00:00+00:00",
          "2021-03-25T20:00:00+00:00",
          "2021-03-25T22:00:00+00:00",
          "2021-03-26T00:00:00+00:00",
          "2021-03-26T01:00:00+00:00",
          "2021-03-26T03:00:00+00:00",
          "2021-03-26T04:00:00+00:00",
          "2021-03-26T08:00:00+00:00",
          "2021-03-26T12:00:00+00:00",
          "2021-03-26T13:00:00+00:00",
          "2021-03-26T14:00:00+00:00",
          "2021-03-26T16:00:00+00:00",
          "2021-03-28T23:00:00+00:00",
          "2021-03-29T04:00:00+00:00",
          "2021-03-29T13:00:00+00:00",
          "2021-03-29T15:00:00+00:00",
          "2021-03-29T16:00:00+00:00",
          "2021-03-29T17:00:00+00:00",
          "2021-03-29T22:00:00+00:00",
          "2021-03-30T00:00:00+00:00",
          "2021-03-30T08:00:00+00:00",
          "2021-03-30T10:00:00+00:00",
          "2021-03-30T11:00:00+00:00",
          "2021-03-30T14:00:00+00:00",
          "2021-03-31T02:00:00+00:00",
          "2021-03-31T06:00:00+00:00",
          "2021-03-31T12:00:00+00:00",
          "2021-03-31T17:00:00+00:00",
          "2021-03-31T18:00:00+00:00",
          "2021-03-31T19:00:00+00:00",
          "2021-03-31T22:00:00+00:00",
          "2021-04-01T03:00:00+00:00",
          "2021-04-01T07:00:00+00:00",
          "2021-04-01T08:00:00+00:00",
          "2021-04-01T14:00:00+00:00",
          "2021-04-01T15:00:00+00:00",
          "2021-04-01T22:00:00+00:00",
          "2021-04-02T04:00:00+00:00",
          "2021-04-02T05:00:00+00:00",
          "2021-04-02T07:00:00+00:00",
          "2021-04-02T08:00:00+00:00",
          "2021-04-04T21:00:00+00:00",
          "2021-04-05T03:00:00+00:00",
          "2021-04-05T05:00:00+00:00",
          "2021-04-05T14:00:00+00:00",
          "2021-04-05T15:00:00+00:00",
          "2021-04-06T04:00:00+00:00",
          "2021-04-06T07:00:00+00:00",
          "2021-04-06T08:00:00+00:00",
          "2021-04-06T09:00:00+00:00",
          "2021-04-06T10:00:00+00:00",
          "2021-04-06T12:00:00+00:00",
          "2021-04-06T13:00:00+00:00",
          "2021-04-06T20:00:00+00:00",
          "2021-04-06T23:00:00+00:00",
          "2021-04-07T00:00:00+00:00",
          "2021-04-07T17:00:00+00:00",
          "2021-04-08T11:00:00+00:00",
          "2021-04-08T22:00:00+00:00",
          "2021-04-09T00:00:00+00:00",
          "2021-04-09T12:00:00+00:00",
          "2021-04-09T13:00:00+00:00",
          "2021-04-09T14:00:00+00:00",
          "2021-04-09T15:00:00+00:00",
          "2021-04-09T16:00:00+00:00",
          "2021-04-11T21:00:00+00:00",
          "2021-04-12T00:00:00+00:00",
          "2021-04-12T02:00:00+00:00",
          "2021-04-12T06:00:00+00:00",
          "2021-04-12T09:00:00+00:00",
          "2021-04-12T10:00:00+00:00",
          "2021-04-12T15:00:00+00:00",
          "2021-04-12T17:00:00+00:00",
          "2021-04-12T21:00:00+00:00",
          "2021-04-12T22:00:00+00:00",
          "2021-04-12T23:00:00+00:00",
          "2021-04-13T01:00:00+00:00",
          "2021-04-13T03:00:00+00:00",
          "2021-04-13T04:00:00+00:00",
          "2021-04-13T05:00:00+00:00",
          "2021-04-13T06:00:00+00:00",
          "2021-04-13T07:00:00+00:00",
          "2021-04-13T10:00:00+00:00",
          "2021-04-13T12:00:00+00:00",
          "2021-04-13T18:00:00+00:00",
          "2021-04-13T20:00:00+00:00",
          "2021-04-13T22:00:00+00:00",
          "2021-04-13T23:00:00+00:00",
          "2021-04-14T00:00:00+00:00",
          "2021-04-14T03:00:00+00:00",
          "2021-04-14T04:00:00+00:00",
          "2021-04-14T06:00:00+00:00",
          "2021-04-14T07:00:00+00:00",
          "2021-04-14T08:00:00+00:00",
          "2021-04-14T13:00:00+00:00",
          "2021-04-14T20:00:00+00:00",
          "2021-04-14T21:00:00+00:00",
          "2021-04-15T05:00:00+00:00",
          "2021-04-15T09:00:00+00:00",
          "2021-04-15T13:00:00+00:00",
          "2021-04-15T19:00:00+00:00",
          "2021-04-15T21:00:00+00:00",
          "2021-04-16T01:00:00+00:00",
          "2021-04-16T02:00:00+00:00",
          "2021-04-16T07:00:00+00:00",
          "2021-04-16T08:00:00+00:00",
          "2021-04-16T10:00:00+00:00",
          "2021-04-16T11:00:00+00:00",
          "2021-04-16T14:00:00+00:00",
          "2021-04-16T16:00:00+00:00",
          "2021-04-16T17:00:00+00:00",
          "2021-04-16T18:00:00+00:00",
          "2021-04-16T20:00:00+00:00",
          "2021-04-18T22:00:00+00:00",
          "2021-04-18T23:00:00+00:00",
          "2021-04-19T00:00:00+00:00",
          "2021-04-19T07:00:00+00:00",
          "2021-04-19T10:00:00+00:00",
          "2021-04-19T15:00:00+00:00",
          "2021-04-19T18:00:00+00:00",
          "2021-04-19T21:00:00+00:00",
          "2021-04-20T06:00:00+00:00",
          "2021-04-20T07:00:00+00:00",
          "2021-04-20T10:00:00+00:00",
          "2021-04-20T11:00:00+00:00",
          "2021-04-20T12:00:00+00:00",
          "2021-04-20T13:00:00+00:00",
          "2021-04-21T04:00:00+00:00",
          "2021-04-21T05:00:00+00:00",
          "2021-04-21T07:00:00+00:00",
          "2021-04-21T08:00:00+00:00",
          "2021-04-21T09:00:00+00:00",
          "2021-04-21T11:00:00+00:00",
          "2021-04-21T12:00:00+00:00",
          "2021-04-21T14:00:00+00:00",
          "2021-04-21T15:00:00+00:00",
          "2021-04-21T16:00:00+00:00",
          "2021-04-21T18:00:00+00:00",
          "2021-04-21T23:00:00+00:00",
          "2021-04-22T00:00:00+00:00",
          "2021-04-22T01:00:00+00:00",
          "2021-04-22T03:00:00+00:00",
          "2021-04-22T04:00:00+00:00",
          "2021-04-22T05:00:00+00:00",
          "2021-04-22T14:00:00+00:00",
          "2021-04-22T18:00:00+00:00",
          "2021-04-22T19:00:00+00:00",
          "2021-04-23T04:00:00+00:00",
          "2021-04-23T07:00:00+00:00",
          "2021-04-23T14:00:00+00:00",
          "2021-04-23T19:00:00+00:00",
          "2021-04-25T21:00:00+00:00",
          "2021-04-25T22:00:00+00:00",
          "2021-04-26T02:00:00+00:00",
          "2021-04-26T05:00:00+00:00",
          "2021-04-26T07:00:00+00:00",
          "2021-04-26T08:00:00+00:00",
          "2021-04-26T10:00:00+00:00",
          "2021-04-26T11:00:00+00:00",
          "2021-04-26T15:00:00+00:00",
          "2021-04-26T17:00:00+00:00",
          "2021-04-26T21:00:00+00:00",
          "2021-04-26T22:00:00+00:00",
          "2021-04-27T00:00:00+00:00",
          "2021-04-27T08:00:00+00:00",
          "2021-04-27T09:00:00+00:00",
          "2021-04-27T11:00:00+00:00",
          "2021-04-27T17:00:00+00:00",
          "2021-04-27T18:00:00+00:00",
          "2021-04-28T00:00:00+00:00",
          "2021-04-28T02:00:00+00:00",
          "2021-04-28T03:00:00+00:00",
          "2021-04-28T05:00:00+00:00",
          "2021-04-28T11:00:00+00:00",
          "2021-04-28T15:00:00+00:00",
          "2021-04-28T16:00:00+00:00",
          "2021-04-28T19:00:00+00:00",
          "2021-04-28T21:00:00+00:00",
          "2021-04-28T22:00:00+00:00",
          "2021-04-28T23:00:00+00:00",
          "2021-04-29T01:00:00+00:00",
          "2021-04-29T11:00:00+00:00",
          "2021-04-29T19:00:00+00:00",
          "2021-04-30T05:00:00+00:00",
          "2021-04-30T12:00:00+00:00",
          "2021-04-30T14:00:00+00:00",
          "2021-04-30T16:00:00+00:00",
          "2021-04-30T17:00:00+00:00",
          "2021-04-30T19:00:00+00:00",
          "2021-05-02T23:00:00+00:00",
          "2021-05-03T12:00:00+00:00",
          "2021-05-03T18:00:00+00:00",
          "2021-05-03T23:00:00+00:00",
          "2021-05-04T00:00:00+00:00",
          "2021-05-04T04:00:00+00:00",
          "2021-05-04T05:00:00+00:00",
          "2021-05-04T06:00:00+00:00",
          "2021-05-04T09:00:00+00:00",
          "2021-05-04T11:00:00+00:00",
          "2021-05-04T22:00:00+00:00",
          "2021-05-05T09:00:00+00:00",
          "2021-05-05T11:00:00+00:00",
          "2021-05-05T12:00:00+00:00",
          "2021-05-05T14:00:00+00:00",
          "2021-05-05T15:00:00+00:00",
          "2021-05-05T16:00:00+00:00",
          "2021-05-05T18:00:00+00:00",
          "2021-05-05T20:00:00+00:00",
          "2021-05-05T22:00:00+00:00",
          "2021-05-06T08:00:00+00:00",
          "2021-05-06T10:00:00+00:00",
          "2021-05-06T12:00:00+00:00",
          "2021-05-06T15:00:00+00:00",
          "2021-05-06T17:00:00+00:00",
          "2021-05-06T18:00:00+00:00",
          "2021-05-07T00:00:00+00:00",
          "2021-05-07T03:00:00+00:00",
          "2021-05-07T06:00:00+00:00",
          "2021-05-07T13:00:00+00:00",
          "2021-05-07T14:00:00+00:00",
          "2021-05-09T22:00:00+00:00",
          "2021-05-09T23:00:00+00:00",
          "2021-05-10T03:00:00+00:00",
          "2021-05-10T05:00:00+00:00",
          "2021-05-10T07:00:00+00:00",
          "2021-05-10T09:00:00+00:00",
          "2021-05-10T10:00:00+00:00",
          "2021-05-10T12:00:00+00:00",
          "2021-05-10T13:00:00+00:00",
          "2021-05-10T17:00:00+00:00",
          "2021-05-10T23:00:00+00:00",
          "2021-05-11T02:00:00+00:00",
          "2021-05-11T10:00:00+00:00",
          "2021-05-11T16:00:00+00:00",
          "2021-05-11T18:00:00+00:00",
          "2021-05-11T20:00:00+00:00",
          "2021-05-11T22:00:00+00:00",
          "2021-05-12T00:00:00+00:00",
          "2021-05-12T03:00:00+00:00",
          "2021-05-12T07:00:00+00:00",
          "2021-05-12T10:00:00+00:00",
          "2021-05-12T13:00:00+00:00",
          "2021-05-12T15:00:00+00:00",
          "2021-05-12T18:00:00+00:00",
          "2021-05-12T19:00:00+00:00",
          "2021-05-13T01:00:00+00:00",
          "2021-05-13T06:00:00+00:00",
          "2021-05-13T13:00:00+00:00",
          "2021-05-13T14:00:00+00:00",
          "2021-05-13T15:00:00+00:00",
          "2021-05-13T22:00:00+00:00",
          "2021-05-14T02:00:00+00:00",
          "2021-05-14T03:00:00+00:00",
          "2021-05-14T05:00:00+00:00",
          "2021-05-14T07:00:00+00:00",
          "2021-05-14T08:00:00+00:00",
          "2021-05-14T10:00:00+00:00",
          "2021-05-14T13:00:00+00:00",
          "2021-05-14T14:00:00+00:00",
          "2021-05-14T15:00:00+00:00",
          "2021-05-14T19:00:00+00:00",
          "2021-05-16T21:00:00+00:00",
          "2021-05-17T01:00:00+00:00",
          "2021-05-17T08:00:00+00:00",
          "2021-05-17T19:00:00+00:00",
          "2021-05-17T20:00:00+00:00",
          "2021-05-17T21:00:00+00:00",
          "2021-05-17T22:00:00+00:00",
          "2021-05-17T23:00:00+00:00",
          "2021-05-18T00:00:00+00:00",
          "2021-05-18T04:00:00+00:00",
          "2021-05-18T12:00:00+00:00",
          "2021-05-18T14:00:00+00:00",
          "2021-05-18T16:00:00+00:00",
          "2021-05-18T19:00:00+00:00",
          "2021-05-18T22:00:00+00:00",
          "2021-05-19T01:00:00+00:00",
          "2021-05-19T04:00:00+00:00",
          "2021-05-19T07:00:00+00:00",
          "2021-05-19T14:00:00+00:00",
          "2021-05-19T16:00:00+00:00",
          "2021-05-19T19:00:00+00:00",
          "2021-05-19T20:00:00+00:00",
          "2021-05-19T22:00:00+00:00",
          "2021-05-19T23:00:00+00:00",
          "2021-05-20T03:00:00+00:00",
          "2021-05-20T06:00:00+00:00",
          "2021-05-20T08:00:00+00:00",
          "2021-05-20T10:00:00+00:00",
          "2021-05-20T17:00:00+00:00",
          "2021-05-20T20:00:00+00:00",
          "2021-05-20T22:00:00+00:00",
          "2021-05-21T01:00:00+00:00",
          "2021-05-21T02:00:00+00:00",
          "2021-05-21T03:00:00+00:00",
          "2021-05-21T05:00:00+00:00",
          "2021-05-21T07:00:00+00:00",
          "2021-05-21T08:00:00+00:00",
          "2021-05-21T10:00:00+00:00",
          "2021-05-21T11:00:00+00:00",
          "2021-05-21T12:00:00+00:00",
          "2021-05-21T16:00:00+00:00",
          "2021-05-24T00:00:00+00:00",
          "2021-05-24T05:00:00+00:00",
          "2021-05-24T08:00:00+00:00",
          "2021-05-24T10:00:00+00:00",
          "2021-05-24T17:00:00+00:00",
          "2021-05-24T18:00:00+00:00",
          "2021-05-24T21:00:00+00:00",
          "2021-05-24T22:00:00+00:00",
          "2021-05-25T00:00:00+00:00",
          "2021-05-25T01:00:00+00:00",
          "2021-05-25T03:00:00+00:00",
          "2021-05-25T06:00:00+00:00",
          "2021-05-25T07:00:00+00:00",
          "2021-05-25T11:00:00+00:00",
          "2021-05-26T06:00:00+00:00",
          "2021-05-26T08:00:00+00:00",
          "2021-05-26T09:00:00+00:00",
          "2021-05-26T12:00:00+00:00",
          "2021-05-26T19:00:00+00:00",
          "2021-05-26T21:00:00+00:00",
          "2021-05-27T00:00:00+00:00",
          "2021-05-27T03:00:00+00:00",
          "2021-05-27T05:00:00+00:00",
          "2021-05-27T13:00:00+00:00",
          "2021-05-27T16:00:00+00:00",
          "2021-05-27T17:00:00+00:00",
          "2021-05-27T21:00:00+00:00",
          "2021-05-28T04:00:00+00:00",
          "2021-05-28T05:00:00+00:00",
          "2021-05-28T08:00:00+00:00",
          "2021-05-28T10:00:00+00:00",
          "2021-05-28T12:00:00+00:00",
          "2021-05-28T14:00:00+00:00",
          "2021-05-28T19:00:00+00:00",
          "2021-05-31T00:00:00+00:00",
          "2021-05-31T11:00:00+00:00",
          "2021-05-31T12:00:00+00:00",
          "2021-05-31T18:00:00+00:00",
          "2021-05-31T19:00:00+00:00",
          "2021-05-31T20:00:00+00:00",
          "2021-05-31T22:00:00+00:00",
          "2021-05-31T23:00:00+00:00",
          "2021-06-01T01:00:00+00:00",
          "2021-06-01T05:00:00+00:00",
          "2021-06-01T06:00:00+00:00",
          "2021-06-01T09:00:00+00:00",
          "2021-06-01T10:00:00+00:00",
          "2021-06-01T14:00:00+00:00",
          "2021-06-01T15:00:00+00:00",
          "2021-06-01T17:00:00+00:00",
          "2021-06-01T19:00:00+00:00",
          "2021-06-01T23:00:00+00:00",
          "2021-06-02T01:00:00+00:00",
          "2021-06-02T02:00:00+00:00",
          "2021-06-02T03:00:00+00:00",
          "2021-06-02T09:00:00+00:00",
          "2021-06-02T11:00:00+00:00",
          "2021-06-02T12:00:00+00:00",
          "2021-06-02T13:00:00+00:00",
          "2021-06-02T16:00:00+00:00",
          "2021-06-02T18:00:00+00:00",
          "2021-06-02T22:00:00+00:00",
          "2021-06-02T23:00:00+00:00",
          "2021-06-03T02:00:00+00:00",
          "2021-06-03T04:00:00+00:00",
          "2021-06-03T09:00:00+00:00",
          "2021-06-03T10:00:00+00:00",
          "2021-06-03T16:00:00+00:00",
          "2021-06-03T17:00:00+00:00",
          "2021-06-03T21:00:00+00:00",
          "2021-06-04T14:00:00+00:00",
          "2021-06-04T18:00:00+00:00",
          "2021-06-04T20:00:00+00:00",
          "2021-06-07T00:00:00+00:00",
          "2021-06-07T01:00:00+00:00",
          "2021-06-07T02:00:00+00:00",
          "2021-06-07T03:00:00+00:00",
          "2021-06-07T04:00:00+00:00",
          "2021-06-07T05:00:00+00:00",
          "2021-06-07T06:00:00+00:00",
          "2021-06-07T07:00:00+00:00",
          "2021-06-07T08:00:00+00:00",
          "2021-06-07T09:00:00+00:00",
          "2021-06-07T11:00:00+00:00",
          "2021-06-07T14:00:00+00:00",
          "2021-06-07T16:00:00+00:00",
          "2021-06-08T11:00:00+00:00",
          "2021-06-08T15:00:00+00:00",
          "2021-06-08T17:00:00+00:00",
          "2021-06-08T18:00:00+00:00",
          "2021-06-08T19:00:00+00:00",
          "2021-06-08T21:00:00+00:00",
          "2021-06-08T22:00:00+00:00",
          "2021-06-09T00:00:00+00:00",
          "2021-06-09T01:00:00+00:00",
          "2021-06-09T08:00:00+00:00",
          "2021-06-09T13:00:00+00:00",
          "2021-06-09T16:00:00+00:00",
          "2021-06-09T22:00:00+00:00",
          "2021-06-09T23:00:00+00:00",
          "2021-06-10T04:00:00+00:00",
          "2021-06-10T11:00:00+00:00",
          "2021-06-10T12:00:00+00:00",
          "2021-06-10T14:00:00+00:00",
          "2021-06-10T19:00:00+00:00",
          "2021-06-10T20:00:00+00:00",
          "2021-06-10T23:00:00+00:00",
          "2021-06-11T00:00:00+00:00",
          "2021-06-11T01:00:00+00:00",
          "2021-06-11T02:00:00+00:00",
          "2021-06-11T03:00:00+00:00",
          "2021-06-11T04:00:00+00:00",
          "2021-06-11T05:00:00+00:00",
          "2021-06-11T07:00:00+00:00",
          "2021-06-11T08:00:00+00:00",
          "2021-06-11T12:00:00+00:00",
          "2021-06-11T14:00:00+00:00",
          "2021-06-11T15:00:00+00:00",
          "2021-06-11T16:00:00+00:00",
          "2021-06-11T17:00:00+00:00",
          "2021-06-11T18:00:00+00:00",
          "2021-06-11T20:00:00+00:00",
          "2021-06-14T02:00:00+00:00",
          "2021-06-14T09:00:00+00:00",
          "2021-06-14T18:00:00+00:00",
          "2021-06-14T21:00:00+00:00",
          "2021-06-14T23:00:00+00:00",
          "2021-06-15T00:00:00+00:00",
          "2021-06-15T02:00:00+00:00",
          "2021-06-15T03:00:00+00:00",
          "2021-06-15T05:00:00+00:00",
          "2021-06-15T08:00:00+00:00",
          "2021-06-15T09:00:00+00:00",
          "2021-06-15T10:00:00+00:00",
          "2021-06-15T14:00:00+00:00",
          "2021-06-15T16:00:00+00:00",
          "2021-06-15T19:00:00+00:00",
          "2021-06-15T20:00:00+00:00",
          "2021-06-16T01:00:00+00:00",
          "2021-06-16T04:00:00+00:00",
          "2021-06-16T07:00:00+00:00",
          "2021-06-16T08:00:00+00:00",
          "2021-06-16T09:00:00+00:00",
          "2021-06-16T11:00:00+00:00",
          "2021-06-16T17:00:00+00:00",
          "2021-06-16T18:00:00+00:00",
          "2021-06-16T19:00:00+00:00",
          "2021-06-16T20:00:00+00:00",
          "2021-06-16T22:00:00+00:00",
          "2021-06-16T23:00:00+00:00",
          "2021-06-17T04:00:00+00:00",
          "2021-06-17T05:00:00+00:00",
          "2021-06-17T08:00:00+00:00",
          "2021-06-17T11:00:00+00:00",
          "2021-06-18T04:00:00+00:00",
          "2021-06-18T10:00:00+00:00",
          "2021-06-18T14:00:00+00:00",
          "2021-06-18T20:00:00+00:00",
          "2021-06-20T21:00:00+00:00",
          "2021-06-21T02:00:00+00:00",
          "2021-06-21T06:00:00+00:00",
          "2021-06-21T11:00:00+00:00",
          "2021-06-21T13:00:00+00:00",
          "2021-06-21T14:00:00+00:00",
          "2021-06-21T15:00:00+00:00",
          "2021-06-21T17:00:00+00:00",
          "2021-06-21T23:00:00+00:00",
          "2021-06-22T01:00:00+00:00",
          "2021-06-22T02:00:00+00:00",
          "2021-06-22T03:00:00+00:00",
          "2021-06-22T04:00:00+00:00",
          "2021-06-22T05:00:00+00:00",
          "2021-06-22T07:00:00+00:00",
          "2021-06-22T10:00:00+00:00",
          "2021-06-22T21:00:00+00:00",
          "2021-06-22T23:00:00+00:00",
          "2021-06-23T20:00:00+00:00",
          "2021-06-24T20:00:00+00:00",
          "2021-06-24T22:00:00+00:00",
          "2021-06-25T01:00:00+00:00",
          "2021-06-25T03:00:00+00:00",
          "2021-06-25T04:00:00+00:00",
          "2021-06-25T05:00:00+00:00",
          "2021-06-25T07:00:00+00:00",
          "2021-06-25T11:00:00+00:00",
          "2021-06-27T23:00:00+00:00",
          "2021-06-28T03:00:00+00:00",
          "2021-06-28T10:00:00+00:00",
          "2021-06-28T11:00:00+00:00",
          "2021-06-28T12:00:00+00:00",
          "2021-06-28T13:00:00+00:00",
          "2021-06-28T14:00:00+00:00",
          "2021-06-28T16:00:00+00:00",
          "2021-06-28T17:00:00+00:00",
          "2021-06-28T19:00:00+00:00",
          "2021-06-28T21:00:00+00:00",
          "2021-06-28T22:00:00+00:00",
          "2021-06-29T00:00:00+00:00",
          "2021-06-29T01:00:00+00:00",
          "2021-06-29T07:00:00+00:00",
          "2021-06-29T12:00:00+00:00",
          "2021-06-30T14:00:00+00:00",
          "2021-06-30T17:00:00+00:00",
          "2021-06-30T18:00:00+00:00",
          "2021-06-30T23:00:00+00:00",
          "2021-07-01T01:00:00+00:00",
          "2021-07-01T02:00:00+00:00",
          "2021-07-01T03:00:00+00:00",
          "2021-07-01T04:00:00+00:00",
          "2021-07-01T06:00:00+00:00",
          "2021-07-01T07:00:00+00:00",
          "2021-07-01T08:00:00+00:00",
          "2021-07-01T10:00:00+00:00",
          "2021-07-01T11:00:00+00:00",
          "2021-07-01T16:00:00+00:00",
          "2021-07-01T20:00:00+00:00",
          "2021-07-01T23:00:00+00:00",
          "2021-07-02T04:00:00+00:00",
          "2021-07-02T07:00:00+00:00",
          "2021-07-02T08:00:00+00:00",
          "2021-07-02T10:00:00+00:00",
          "2021-07-02T11:00:00+00:00",
          "2021-07-02T17:00:00+00:00",
          "2021-07-02T20:00:00+00:00",
          "2021-07-04T21:00:00+00:00",
          "2021-07-04T22:00:00+00:00",
          "2021-07-05T00:00:00+00:00",
          "2021-07-05T01:00:00+00:00",
          "2021-07-05T02:00:00+00:00",
          "2021-07-05T03:00:00+00:00",
          "2021-07-05T04:00:00+00:00",
          "2021-07-05T07:00:00+00:00",
          "2021-07-05T11:00:00+00:00",
          "2021-07-05T12:00:00+00:00",
          "2021-07-05T16:00:00+00:00",
          "2021-07-05T18:00:00+00:00",
          "2021-07-05T23:00:00+00:00",
          "2021-07-06T02:00:00+00:00",
          "2021-07-06T07:00:00+00:00",
          "2021-07-06T08:00:00+00:00",
          "2021-07-06T16:00:00+00:00",
          "2021-07-06T17:00:00+00:00",
          "2021-07-06T18:00:00+00:00",
          "2021-07-06T20:00:00+00:00",
          "2021-07-07T02:00:00+00:00",
          "2021-07-07T06:00:00+00:00",
          "2021-07-07T08:00:00+00:00",
          "2021-07-07T11:00:00+00:00",
          "2021-07-07T12:00:00+00:00",
          "2021-07-07T13:00:00+00:00",
          "2021-07-07T14:00:00+00:00",
          "2021-07-07T16:00:00+00:00",
          "2021-07-08T00:00:00+00:00",
          "2021-07-08T05:00:00+00:00",
          "2021-07-08T12:00:00+00:00",
          "2021-07-08T13:00:00+00:00",
          "2021-07-08T16:00:00+00:00",
          "2021-07-08T21:00:00+00:00",
          "2021-07-09T00:00:00+00:00",
          "2021-07-09T15:00:00+00:00",
          "2021-07-09T20:00:00+00:00",
          "2021-07-11T21:00:00+00:00",
          "2021-07-11T22:00:00+00:00",
          "2021-07-12T00:00:00+00:00",
          "2021-07-12T01:00:00+00:00",
          "2021-07-12T03:00:00+00:00",
          "2021-07-12T04:00:00+00:00",
          "2021-07-12T05:00:00+00:00",
          "2021-07-12T06:00:00+00:00",
          "2021-07-12T10:00:00+00:00",
          "2021-07-12T13:00:00+00:00",
          "2021-07-12T15:00:00+00:00",
          "2021-07-12T17:00:00+00:00",
          "2021-07-13T02:00:00+00:00",
          "2021-07-13T12:00:00+00:00",
          "2021-07-13T16:00:00+00:00",
          "2021-07-13T19:00:00+00:00",
          "2021-07-13T20:00:00+00:00",
          "2021-07-13T23:00:00+00:00",
          "2021-07-14T01:00:00+00:00",
          "2021-07-14T02:00:00+00:00",
          "2021-07-14T03:00:00+00:00",
          "2021-07-14T04:00:00+00:00",
          "2021-07-14T06:00:00+00:00",
          "2021-07-14T12:00:00+00:00",
          "2021-07-14T13:00:00+00:00",
          "2021-07-14T19:00:00+00:00",
          "2021-07-14T20:00:00+00:00",
          "2021-07-14T21:00:00+00:00",
          "2021-07-14T23:00:00+00:00",
          "2021-07-15T02:00:00+00:00",
          "2021-07-15T03:00:00+00:00",
          "2021-07-15T06:00:00+00:00",
          "2021-07-15T07:00:00+00:00",
          "2021-07-15T15:00:00+00:00",
          "2021-07-15T19:00:00+00:00",
          "2021-07-15T23:00:00+00:00",
          "2021-07-16T00:00:00+00:00",
          "2021-07-16T02:00:00+00:00",
          "2021-07-16T04:00:00+00:00",
          "2021-07-16T05:00:00+00:00",
          "2021-07-16T07:00:00+00:00",
          "2021-07-16T09:00:00+00:00",
          "2021-07-16T14:00:00+00:00",
          "2021-07-16T19:00:00+00:00",
          "2021-07-16T20:00:00+00:00",
          "2021-07-18T21:00:00+00:00",
          "2021-07-19T00:00:00+00:00",
          "2021-07-19T07:00:00+00:00",
          "2021-07-19T12:00:00+00:00",
          "2021-07-19T13:00:00+00:00",
          "2021-07-19T21:00:00+00:00",
          "2021-07-20T05:00:00+00:00",
          "2021-07-20T12:00:00+00:00",
          "2021-07-20T17:00:00+00:00",
          "2021-07-21T04:00:00+00:00",
          "2021-07-21T06:00:00+00:00",
          "2021-07-21T07:00:00+00:00",
          "2021-07-21T08:00:00+00:00",
          "2021-07-21T09:00:00+00:00",
          "2021-07-21T10:00:00+00:00",
          "2021-07-21T13:00:00+00:00",
          "2021-07-21T14:00:00+00:00",
          "2021-07-21T16:00:00+00:00",
          "2021-07-21T18:00:00+00:00",
          "2021-07-21T20:00:00+00:00",
          "2021-07-21T22:00:00+00:00",
          "2021-07-21T23:00:00+00:00",
          "2021-07-22T02:00:00+00:00",
          "2021-07-22T05:00:00+00:00",
          "2021-07-22T14:00:00+00:00",
          "2021-07-23T01:00:00+00:00",
          "2021-07-23T04:00:00+00:00",
          "2021-07-23T10:00:00+00:00",
          "2021-07-23T11:00:00+00:00",
          "2021-07-23T12:00:00+00:00",
          "2021-07-23T16:00:00+00:00",
          "2021-07-25T21:00:00+00:00",
          "2021-07-25T22:00:00+00:00",
          "2021-07-26T03:00:00+00:00",
          "2021-07-26T09:00:00+00:00",
          "2021-07-26T14:00:00+00:00",
          "2021-07-26T15:00:00+00:00",
          "2021-07-26T17:00:00+00:00",
          "2021-07-26T19:00:00+00:00",
          "2021-07-27T00:00:00+00:00",
          "2021-07-27T13:00:00+00:00",
          "2021-07-27T14:00:00+00:00",
          "2021-07-27T15:00:00+00:00",
          "2021-07-27T17:00:00+00:00",
          "2021-07-27T18:00:00+00:00",
          "2021-07-27T21:00:00+00:00",
          "2021-07-27T22:00:00+00:00",
          "2021-07-28T19:00:00+00:00",
          "2021-07-29T00:00:00+00:00",
          "2021-07-29T02:00:00+00:00",
          "2021-07-29T03:00:00+00:00",
          "2021-07-29T04:00:00+00:00",
          "2021-07-29T07:00:00+00:00",
          "2021-07-29T12:00:00+00:00",
          "2021-07-29T13:00:00+00:00",
          "2021-07-29T15:00:00+00:00",
          "2021-07-29T16:00:00+00:00",
          "2021-07-29T21:00:00+00:00",
          "2021-07-30T00:00:00+00:00",
          "2021-07-30T04:00:00+00:00",
          "2021-07-30T09:00:00+00:00",
          "2021-07-30T16:00:00+00:00",
          "2021-07-30T18:00:00+00:00",
          "2021-07-30T20:00:00+00:00",
          "2021-08-02T01:00:00+00:00",
          "2021-08-02T02:00:00+00:00",
          "2021-08-02T04:00:00+00:00",
          "2021-08-02T05:00:00+00:00",
          "2021-08-02T08:00:00+00:00",
          "2021-08-02T09:00:00+00:00",
          "2021-08-02T10:00:00+00:00",
          "2021-08-02T11:00:00+00:00",
          "2021-08-02T12:00:00+00:00",
          "2021-08-02T15:00:00+00:00",
          "2021-08-02T22:00:00+00:00",
          "2021-08-03T02:00:00+00:00",
          "2021-08-03T05:00:00+00:00",
          "2021-08-03T09:00:00+00:00",
          "2021-08-03T10:00:00+00:00",
          "2021-08-03T14:00:00+00:00",
          "2021-08-03T22:00:00+00:00",
          "2021-08-03T23:00:00+00:00",
          "2021-08-04T00:00:00+00:00",
          "2021-08-04T11:00:00+00:00",
          "2021-08-04T20:00:00+00:00",
          "2021-08-04T22:00:00+00:00",
          "2021-08-04T23:00:00+00:00",
          "2021-08-05T00:00:00+00:00",
          "2021-08-05T03:00:00+00:00",
          "2021-08-05T04:00:00+00:00",
          "2021-08-05T05:00:00+00:00",
          "2021-08-05T06:00:00+00:00",
          "2021-08-05T11:00:00+00:00",
          "2021-08-05T15:00:00+00:00",
          "2021-08-05T17:00:00+00:00",
          "2021-08-05T23:00:00+00:00",
          "2021-08-06T01:00:00+00:00",
          "2021-08-06T08:00:00+00:00",
          "2021-08-06T10:00:00+00:00",
          "2021-08-06T11:00:00+00:00",
          "2021-08-06T16:00:00+00:00",
          "2021-08-06T17:00:00+00:00",
          "2021-08-08T21:00:00+00:00",
          "2021-08-09T00:00:00+00:00",
          "2021-08-09T03:00:00+00:00",
          "2021-08-09T05:00:00+00:00",
          "2021-08-09T17:00:00+00:00",
          "2021-08-09T18:00:00+00:00",
          "2021-08-09T21:00:00+00:00",
          "2021-08-10T05:00:00+00:00",
          "2021-08-10T14:00:00+00:00",
          "2021-08-10T22:00:00+00:00",
          "2021-08-10T23:00:00+00:00",
          "2021-08-11T00:00:00+00:00",
          "2021-08-11T02:00:00+00:00",
          "2021-08-11T07:00:00+00:00",
          "2021-08-11T21:00:00+00:00",
          "2021-08-12T01:00:00+00:00",
          "2021-08-12T03:00:00+00:00",
          "2021-08-12T07:00:00+00:00",
          "2021-08-12T09:00:00+00:00",
          "2021-08-12T16:00:00+00:00",
          "2021-08-12T17:00:00+00:00",
          "2021-08-12T21:00:00+00:00",
          "2021-08-12T22:00:00+00:00",
          "2021-08-12T23:00:00+00:00",
          "2021-08-13T01:00:00+00:00",
          "2021-08-13T04:00:00+00:00",
          "2021-08-13T05:00:00+00:00",
          "2021-08-13T14:00:00+00:00",
          "2021-08-13T15:00:00+00:00",
          "2021-08-15T21:00:00+00:00",
          "2021-08-16T01:00:00+00:00",
          "2021-08-16T03:00:00+00:00",
          "2021-08-16T05:00:00+00:00",
          "2021-08-16T21:00:00+00:00",
          "2021-08-17T02:00:00+00:00",
          "2021-08-17T04:00:00+00:00",
          "2021-08-17T09:00:00+00:00",
          "2021-08-17T11:00:00+00:00",
          "2021-08-17T13:00:00+00:00",
          "2021-08-18T02:00:00+00:00",
          "2021-08-18T03:00:00+00:00",
          "2021-08-18T08:00:00+00:00",
          "2021-08-18T18:00:00+00:00",
          "2021-08-18T23:00:00+00:00",
          "2021-08-19T00:00:00+00:00",
          "2021-08-19T01:00:00+00:00",
          "2021-08-19T02:00:00+00:00",
          "2021-08-19T03:00:00+00:00",
          "2021-08-19T05:00:00+00:00",
          "2021-08-19T07:00:00+00:00",
          "2021-08-19T08:00:00+00:00",
          "2021-08-19T09:00:00+00:00",
          "2021-08-19T13:00:00+00:00",
          "2021-08-19T14:00:00+00:00",
          "2021-08-19T17:00:00+00:00",
          "2021-08-19T23:00:00+00:00",
          "2021-08-20T04:00:00+00:00",
          "2021-08-20T05:00:00+00:00",
          "2021-08-20T16:00:00+00:00",
          "2021-08-22T23:00:00+00:00",
          "2021-08-23T02:00:00+00:00",
          "2021-08-23T04:00:00+00:00",
          "2021-08-23T06:00:00+00:00",
          "2021-08-23T08:00:00+00:00",
          "2021-08-23T10:00:00+00:00",
          "2021-08-23T11:00:00+00:00",
          "2021-08-23T12:00:00+00:00",
          "2021-08-23T13:00:00+00:00",
          "2021-08-23T14:00:00+00:00",
          "2021-08-23T15:00:00+00:00",
          "2021-08-23T16:00:00+00:00",
          "2021-08-23T21:00:00+00:00",
          "2021-08-24T00:00:00+00:00",
          "2021-08-24T08:00:00+00:00",
          "2021-08-24T09:00:00+00:00",
          "2021-08-25T01:00:00+00:00",
          "2021-08-25T07:00:00+00:00",
          "2021-08-25T16:00:00+00:00",
          "2021-08-26T06:00:00+00:00",
          "2021-08-26T15:00:00+00:00",
          "2021-08-26T18:00:00+00:00",
          "2021-08-26T23:00:00+00:00",
          "2021-08-27T00:00:00+00:00",
          "2021-08-27T03:00:00+00:00",
          "2021-08-27T05:00:00+00:00",
          "2021-08-27T06:00:00+00:00",
          "2021-08-27T12:00:00+00:00",
          "2021-08-27T15:00:00+00:00",
          "2021-08-27T17:00:00+00:00",
          "2021-08-27T19:00:00+00:00",
          "2021-08-27T20:00:00+00:00",
          "2021-08-29T22:00:00+00:00",
          "2021-08-29T23:00:00+00:00",
          "2021-08-30T00:00:00+00:00",
          "2021-08-30T02:00:00+00:00",
          "2021-08-30T03:00:00+00:00",
          "2021-08-30T06:00:00+00:00",
          "2021-08-30T12:00:00+00:00",
          "2021-08-30T16:00:00+00:00",
          "2021-08-30T18:00:00+00:00",
          "2021-08-30T19:00:00+00:00",
          "2021-08-30T20:00:00+00:00",
          "2021-08-30T23:00:00+00:00",
          "2021-08-31T03:00:00+00:00",
          "2021-08-31T08:00:00+00:00",
          "2021-08-31T18:00:00+00:00",
          "2021-08-31T21:00:00+00:00",
          "2021-09-01T04:00:00+00:00",
          "2021-09-01T06:00:00+00:00",
          "2021-09-01T07:00:00+00:00",
          "2021-09-01T20:00:00+00:00",
          "2021-09-01T23:00:00+00:00",
          "2021-09-02T03:00:00+00:00",
          "2021-09-02T05:00:00+00:00",
          "2021-09-02T09:00:00+00:00",
          "2021-09-02T11:00:00+00:00",
          "2021-09-02T17:00:00+00:00",
          "2021-09-02T18:00:00+00:00",
          "2021-09-02T22:00:00+00:00",
          "2021-09-03T02:00:00+00:00",
          "2021-09-03T05:00:00+00:00",
          "2021-09-03T12:00:00+00:00",
          "2021-09-03T20:00:00+00:00",
          "2021-09-06T06:00:00+00:00",
          "2021-09-06T15:00:00+00:00",
          "2021-09-06T20:00:00+00:00",
          "2021-09-06T22:00:00+00:00",
          "2021-09-07T01:00:00+00:00",
          "2021-09-07T07:00:00+00:00",
          "2021-09-07T08:00:00+00:00",
          "2021-09-07T09:00:00+00:00",
          "2021-09-07T11:00:00+00:00",
          "2021-09-07T12:00:00+00:00",
          "2021-09-07T14:00:00+00:00",
          "2021-09-07T15:00:00+00:00",
          "2021-09-07T16:00:00+00:00",
          "2021-09-07T17:00:00+00:00",
          "2021-09-08T07:00:00+00:00",
          "2021-09-08T10:00:00+00:00",
          "2021-09-08T12:00:00+00:00",
          "2021-09-08T21:00:00+00:00",
          "2021-09-09T00:00:00+00:00",
          "2021-09-09T03:00:00+00:00",
          "2021-09-09T05:00:00+00:00",
          "2021-09-09T07:00:00+00:00",
          "2021-09-09T10:00:00+00:00",
          "2021-09-09T14:00:00+00:00",
          "2021-09-09T16:00:00+00:00",
          "2021-09-09T17:00:00+00:00",
          "2021-09-09T18:00:00+00:00",
          "2021-09-09T21:00:00+00:00",
          "2021-09-09T23:00:00+00:00",
          "2021-09-10T04:00:00+00:00",
          "2021-09-10T05:00:00+00:00",
          "2021-09-10T08:00:00+00:00",
          "2021-09-10T09:00:00+00:00",
          "2021-09-10T13:00:00+00:00",
          "2021-09-10T15:00:00+00:00",
          "2021-09-10T16:00:00+00:00",
          "2021-09-10T19:00:00+00:00",
          "2021-09-12T21:00:00+00:00",
          "2021-09-13T03:00:00+00:00",
          "2021-09-13T09:00:00+00:00",
          "2021-09-13T12:00:00+00:00",
          "2021-09-13T13:00:00+00:00",
          "2021-09-13T16:00:00+00:00",
          "2021-09-13T17:00:00+00:00",
          "2021-09-13T20:00:00+00:00",
          "2021-09-13T21:00:00+00:00",
          "2021-09-14T01:00:00+00:00",
          "2021-09-14T06:00:00+00:00",
          "2021-09-14T09:00:00+00:00",
          "2021-09-14T10:00:00+00:00",
          "2021-09-14T12:00:00+00:00",
          "2021-09-14T14:00:00+00:00",
          "2021-09-14T15:00:00+00:00",
          "2021-09-14T18:00:00+00:00",
          "2021-09-14T19:00:00+00:00",
          "2021-09-14T20:00:00+00:00",
          "2021-09-14T21:00:00+00:00",
          "2021-09-14T22:00:00+00:00",
          "2021-09-15T01:00:00+00:00",
          "2021-09-15T02:00:00+00:00",
          "2021-09-15T03:00:00+00:00",
          "2021-09-15T07:00:00+00:00",
          "2021-09-15T16:00:00+00:00",
          "2021-09-16T00:00:00+00:00",
          "2021-09-16T01:00:00+00:00",
          "2021-09-16T02:00:00+00:00",
          "2021-09-16T04:00:00+00:00",
          "2021-09-16T06:00:00+00:00",
          "2021-09-16T07:00:00+00:00",
          "2021-09-16T08:00:00+00:00",
          "2021-09-16T10:00:00+00:00",
          "2021-09-16T11:00:00+00:00",
          "2021-09-16T13:00:00+00:00",
          "2021-09-16T19:00:00+00:00",
          "2021-09-16T20:00:00+00:00",
          "2021-09-17T01:00:00+00:00",
          "2021-09-17T02:00:00+00:00",
          "2021-09-17T07:00:00+00:00",
          "2021-09-17T09:00:00+00:00",
          "2021-09-17T11:00:00+00:00",
          "2021-09-19T22:00:00+00:00",
          "2021-09-20T01:00:00+00:00",
          "2021-09-20T03:00:00+00:00",
          "2021-09-20T06:00:00+00:00",
          "2021-09-20T08:00:00+00:00",
          "2021-09-20T09:00:00+00:00",
          "2021-09-20T14:00:00+00:00",
          "2021-09-20T18:00:00+00:00",
          "2021-09-20T19:00:00+00:00",
          "2021-09-20T20:00:00+00:00",
          "2021-09-21T05:00:00+00:00",
          "2021-09-21T08:00:00+00:00",
          "2021-09-21T15:00:00+00:00",
          "2021-09-21T19:00:00+00:00",
          "2021-09-21T23:00:00+00:00",
          "2021-09-22T05:00:00+00:00",
          "2021-09-22T06:00:00+00:00",
          "2021-09-22T15:00:00+00:00",
          "2021-09-22T16:00:00+00:00",
          "2021-09-22T18:00:00+00:00",
          "2021-09-22T19:00:00+00:00",
          "2021-09-22T20:00:00+00:00",
          "2021-09-22T22:00:00+00:00",
          "2021-09-23T02:00:00+00:00",
          "2021-09-23T05:00:00+00:00",
          "2021-09-23T11:00:00+00:00",
          "2021-09-23T12:00:00+00:00",
          "2021-09-23T13:00:00+00:00",
          "2021-09-23T14:00:00+00:00",
          "2021-09-23T16:00:00+00:00",
          "2021-09-23T19:00:00+00:00",
          "2021-09-23T23:00:00+00:00",
          "2021-09-24T05:00:00+00:00",
          "2021-09-24T16:00:00+00:00",
          "2021-09-24T17:00:00+00:00",
          "2021-09-26T22:00:00+00:00",
          "2021-09-26T23:00:00+00:00",
          "2021-09-27T00:00:00+00:00",
          "2021-09-27T03:00:00+00:00",
          "2021-09-27T04:00:00+00:00",
          "2021-09-27T05:00:00+00:00",
          "2021-09-27T06:00:00+00:00",
          "2021-09-27T11:00:00+00:00",
          "2021-09-27T12:00:00+00:00",
          "2021-09-27T16:00:00+00:00",
          "2021-09-27T22:00:00+00:00",
          "2021-09-28T05:00:00+00:00",
          "2021-09-28T11:00:00+00:00",
          "2021-09-28T15:00:00+00:00",
          "2021-09-28T16:00:00+00:00",
          "2021-09-28T18:00:00+00:00",
          "2021-09-28T20:00:00+00:00",
          "2021-09-28T22:00:00+00:00",
          "2021-09-28T23:00:00+00:00",
          "2021-09-29T04:00:00+00:00",
          "2021-09-29T07:00:00+00:00",
          "2021-09-29T13:00:00+00:00",
          "2021-09-29T22:00:00+00:00",
          "2021-09-29T23:00:00+00:00",
          "2021-09-30T01:00:00+00:00",
          "2021-09-30T03:00:00+00:00",
          "2021-09-30T08:00:00+00:00",
          "2021-09-30T13:00:00+00:00",
          "2021-09-30T20:00:00+00:00",
          "2021-09-30T22:00:00+00:00",
          "2021-10-01T00:00:00+00:00",
          "2021-10-01T02:00:00+00:00",
          "2021-10-01T03:00:00+00:00",
          "2021-10-01T04:00:00+00:00",
          "2021-10-01T06:00:00+00:00",
          "2021-10-01T09:00:00+00:00",
          "2021-10-01T12:00:00+00:00",
          "2021-10-01T13:00:00+00:00",
          "2021-10-01T16:00:00+00:00",
          "2021-10-01T19:00:00+00:00",
          "2021-10-03T22:00:00+00:00",
          "2021-10-04T03:00:00+00:00",
          "2021-10-04T04:00:00+00:00",
          "2021-10-04T08:00:00+00:00",
          "2021-10-04T23:00:00+00:00",
          "2021-10-05T00:00:00+00:00",
          "2021-10-05T03:00:00+00:00",
          "2021-10-05T06:00:00+00:00",
          "2021-10-05T07:00:00+00:00",
          "2021-10-05T12:00:00+00:00",
          "2021-10-05T14:00:00+00:00",
          "2021-10-05T15:00:00+00:00",
          "2021-10-05T18:00:00+00:00",
          "2021-10-05T19:00:00+00:00",
          "2021-10-06T04:00:00+00:00",
          "2021-10-06T08:00:00+00:00",
          "2021-10-06T10:00:00+00:00",
          "2021-10-06T11:00:00+00:00",
          "2021-10-06T15:00:00+00:00",
          "2021-10-06T16:00:00+00:00",
          "2021-10-06T18:00:00+00:00",
          "2021-10-06T20:00:00+00:00",
          "2021-10-07T01:00:00+00:00",
          "2021-10-07T02:00:00+00:00",
          "2021-10-07T04:00:00+00:00",
          "2021-10-07T09:00:00+00:00",
          "2021-10-07T10:00:00+00:00",
          "2021-10-07T11:00:00+00:00",
          "2021-10-07T18:00:00+00:00",
          "2021-10-07T20:00:00+00:00",
          "2021-10-07T22:00:00+00:00",
          "2021-10-08T01:00:00+00:00",
          "2021-10-08T02:00:00+00:00",
          "2021-10-08T04:00:00+00:00",
          "2021-10-08T05:00:00+00:00",
          "2021-10-08T07:00:00+00:00",
          "2021-10-08T12:00:00+00:00",
          "2021-10-08T14:00:00+00:00",
          "2021-10-08T17:00:00+00:00",
          "2021-10-10T22:00:00+00:00",
          "2021-10-11T03:00:00+00:00",
          "2021-10-11T06:00:00+00:00",
          "2021-10-11T10:00:00+00:00",
          "2021-10-11T12:00:00+00:00",
          "2021-10-11T13:00:00+00:00",
          "2021-10-11T15:00:00+00:00",
          "2021-10-11T19:00:00+00:00",
          "2021-10-11T23:00:00+00:00",
          "2021-10-12T01:00:00+00:00",
          "2021-10-12T02:00:00+00:00",
          "2021-10-12T04:00:00+00:00",
          "2021-10-12T13:00:00+00:00",
          "2021-10-12T14:00:00+00:00",
          "2021-10-12T15:00:00+00:00",
          "2021-10-12T20:00:00+00:00",
          "2021-10-12T23:00:00+00:00",
          "2021-10-13T00:00:00+00:00",
          "2021-10-13T01:00:00+00:00",
          "2021-10-13T02:00:00+00:00",
          "2021-10-13T04:00:00+00:00",
          "2021-10-13T11:00:00+00:00",
          "2021-10-13T16:00:00+00:00",
          "2021-10-13T17:00:00+00:00",
          "2021-10-13T19:00:00+00:00",
          "2021-10-13T20:00:00+00:00",
          "2021-10-13T21:00:00+00:00",
          "2021-10-13T22:00:00+00:00",
          "2021-10-13T23:00:00+00:00",
          "2021-10-14T02:00:00+00:00",
          "2021-10-14T03:00:00+00:00",
          "2021-10-14T04:00:00+00:00",
          "2021-10-14T05:00:00+00:00",
          "2021-10-14T07:00:00+00:00",
          "2021-10-14T10:00:00+00:00",
          "2021-10-14T13:00:00+00:00",
          "2021-10-14T15:00:00+00:00",
          "2021-10-14T19:00:00+00:00",
          "2021-10-14T22:00:00+00:00",
          "2021-10-15T02:00:00+00:00",
          "2021-10-15T08:00:00+00:00",
          "2021-10-15T14:00:00+00:00",
          "2021-10-17T21:00:00+00:00",
          "2021-10-18T02:00:00+00:00",
          "2021-10-18T06:00:00+00:00",
          "2021-10-18T11:00:00+00:00",
          "2021-10-18T16:00:00+00:00",
          "2021-10-18T23:00:00+00:00",
          "2021-10-19T01:00:00+00:00",
          "2021-10-19T05:00:00+00:00",
          "2021-10-19T07:00:00+00:00",
          "2021-10-19T12:00:00+00:00",
          "2021-10-19T13:00:00+00:00",
          "2021-10-19T15:00:00+00:00",
          "2021-10-20T00:00:00+00:00",
          "2021-10-20T03:00:00+00:00",
          "2021-10-20T12:00:00+00:00",
          "2021-10-20T18:00:00+00:00",
          "2021-10-21T02:00:00+00:00",
          "2021-10-21T05:00:00+00:00",
          "2021-10-21T06:00:00+00:00",
          "2021-10-21T07:00:00+00:00",
          "2021-10-21T11:00:00+00:00",
          "2021-10-21T13:00:00+00:00",
          "2021-10-21T15:00:00+00:00",
          "2021-10-21T17:00:00+00:00",
          "2021-10-21T18:00:00+00:00",
          "2021-10-21T20:00:00+00:00",
          "2021-10-21T22:00:00+00:00",
          "2021-10-22T00:00:00+00:00",
          "2021-10-22T01:00:00+00:00",
          "2021-10-22T04:00:00+00:00",
          "2021-10-22T15:00:00+00:00",
          "2021-10-22T19:00:00+00:00",
          "2021-10-22T20:00:00+00:00",
          "2021-10-25T05:00:00+00:00",
          "2021-10-25T13:00:00+00:00",
          "2021-10-25T18:00:00+00:00",
          "2021-10-25T20:00:00+00:00",
          "2021-10-25T22:00:00+00:00",
          "2021-10-25T23:00:00+00:00",
          "2021-10-26T00:00:00+00:00",
          "2021-10-26T01:00:00+00:00",
          "2021-10-26T02:00:00+00:00",
          "2021-10-26T03:00:00+00:00",
          "2021-10-26T05:00:00+00:00",
          "2021-10-26T08:00:00+00:00",
          "2021-10-26T11:00:00+00:00",
          "2021-10-26T14:00:00+00:00",
          "2021-10-26T16:00:00+00:00",
          "2021-10-26T19:00:00+00:00",
          "2021-10-26T22:00:00+00:00",
          "2021-10-27T09:00:00+00:00",
          "2021-10-27T11:00:00+00:00",
          "2021-10-27T12:00:00+00:00",
          "2021-10-27T22:00:00+00:00",
          "2021-10-28T00:00:00+00:00",
          "2021-10-28T02:00:00+00:00",
          "2021-10-28T03:00:00+00:00",
          "2021-10-28T04:00:00+00:00",
          "2021-10-28T13:00:00+00:00"
         ],
         "y": [
          16.00000000000046,
          21.199999999998997,
          -9.200000000000319,
          -27.800000000000047,
          -94.89999999999998,
          -106.30000000000028,
          -179.30000000000112,
          -167.10000000000113,
          -182.4000000000003,
          -199.90000000000168,
          -209.20000000000155,
          -313.2000000000007,
          -330.8000000000006,
          -322.8999999999998,
          -382.20000000000016,
          -446.60000000000014,
          -461.0999999999996,
          -504.7999999999995,
          -522.5999999999984,
          -524.6999999999971,
          -654.9999999999958,
          -651.5999999999957,
          -751.6999999999964,
          -919.0999999999965,
          -1015.9999999999973,
          -1206.3999999999946,
          -1221.7999999999945,
          -1328.499999999994,
          -1386.2999999999943,
          -1485.399999999995,
          -1496.1999999999948,
          -1534.3999999999942,
          -1480.3999999999935,
          -937.2999999999945,
          -765.0999999999943,
          -754.1999999999935,
          -761.1999999999949,
          -660.2999999999945,
          -685.4999999999942,
          -527.499999999993,
          -395.999999999993,
          -415.79999999999285,
          -383.39999999999156,
          -374.8999999999914,
          -605.3999999999916,
          -637.5999999999916,
          -811.199999999991,
          -952.1999999999906,
          -1032.7999999999925,
          -906.9999999999932,
          -977.799999999993,
          -892.8999999999919,
          -901.6999999999919,
          -876.0999999999918,
          -899.3999999999912,
          -780.9999999999911,
          -729.8999999999905,
          -732.499999999992,
          -700.799999999992,
          -677.1999999999906,
          -530.3999999999903,
          -412.0999999999896,
          -490.59999999998877,
          -516.3999999999891,
          -497.39999999998895,
          -446.09999999998814,
          -236.6999999999859,
          -182.79999999998716,
          -87.49999999998678,
          154.60000000001244,
          197.20000000001286,
          189.30000000001218,
          145.60000000001233,
          173.40000000001237,
          181.90000000001174,
          354.7000000000112,
          342.40000000001163,
          310.90000000001174,
          279.90000000001294,
          263.7000000000134,
          245.30000000001277,
          202.00000000001333,
          235.40000000001453,
          155.60000000001577,
          128.00000000001592,
          113.40000000001575,
          34.40000000001447,
          34.90000000001331,
          61.70000000001346,
          18.10000000001427,
          46.40000000001315,
          42.20000000001339,
          1.3000000000141227,
          -1.099999999986057,
          -26.699999999987234,
          20.70000000001243,
          -73.19999999998765,
          -66.19999999998842,
          -101.99999999998758,
          166.60000000001347,
          178.60000000001438,
          172.50000000001438,
          247.10000000001463,
          263.4000000000148,
          345.70000000001664,
          408.50000000001666,
          522.100000000017,
          586.9000000000166,
          589.6000000000165,
          531.1000000000157,
          463.80000000001667,
          317.4000000000168,
          380.4000000000165,
          654.6000000000165,
          576.2000000000173,
          616.0000000000183,
          742.4000000000175,
          915.9000000000188,
          956.7000000000174,
          1153.3000000000175,
          1130.000000000018,
          1088.6000000000176,
          1016.0000000000177,
          1001.1000000000179,
          977.5000000000186,
          972.2000000000195,
          931.0000000000205,
          923.3000000000193,
          877.30000000002,
          835.7000000000174,
          794.7000000000176,
          756.700000000018,
          730.100000000017,
          726.3000000000164,
          679.3000000000172,
          664.7000000000171,
          605.0000000000177,
          488.9000000000165,
          453.500000000018,
          588.1000000000183,
          685.5000000000184,
          665.3000000000193,
          678.8000000000184,
          710.8000000000193,
          670.8000000000193,
          639.5000000000196,
          635.5000000000203,
          604.3000000000192,
          556.2000000000171,
          637.8000000000177,
          576.9000000000196,
          579.7000000000203,
          575.1000000000197,
          643.9000000000196,
          658.6000000000205,
          696.4000000000194,
          763.60000000002,
          825.2000000000195,
          821.3000000000193,
          792.7000000000191,
          761.2000000000171,
          738.2000000000163,
          674.8000000000162,
          637.6000000000163,
          619.600000000016,
          542.7000000000155,
          522.7000000000153,
          531.300000000015,
          680.2000000000135,
          649.9000000000126,
          641.3000000000139,
          652.9000000000156,
          600.5000000000131,
          550.8000000000131,
          597.1000000000133,
          572.1000000000139,
          470.100000000014,
          477.1000000000157,
          383.1000000000153,
          142.3000000000151,
          88.7000000000148,
          139.10000000001412,
          174.0000000000145,
          152.4000000000151,
          154.6000000000151,
          154.4000000000149,
          57.10000000001358,
          -1.6999999999858062,
          -5.699999999985366,
          -10.899999999985015,
          -39.399999999985205,
          -102.79999999998532,
          -131.09999999998544,
          -212.4999999999858,
          -73.49999999998568,
          -136.39999999998474,
          -162.199999999985,
          -183.59999999998422,
          -112.79999999998336,
          -133.99999999998235,
          -129.49999999998172,
          -172.29999999998233,
          -261.3999999999821,
          94.20000000001716,
          46.600000000017296,
          7.700000000017809,
          210.30000000001723,
          209.90000000001817,
          212.2000000000188,
          186.40000000001783,
          46.70000000001636,
          4.200000000016601,
          -13.999999999984947,
          -22.399999999986687,
          42.80000000001412,
          128.10000000001497,
          260.1000000000143,
          143.70000000001556,
          72.70000000001562,
          58.50000000001603,
          20.80000000001663,
          79.90000000001604,
          278.70000000001596,
          244.80000000001593,
          369.7000000000153,
          312.90000000001396,
          544.2000000000149,
          533.4000000000152,
          655.2000000000141,
          753.9000000000146,
          739.1000000000142,
          723.6000000000137,
          764.2000000000132,
          669.7000000000114,
          554.5000000000117,
          489.300000000012,
          463.5000000000117,
          406.2000000000116,
          334.50000000001035,
          353.9000000000109,
          360.50000000001086,
          217.70000000001016,
          96.60000000001062,
          -23.899999999990527,
          -72.79999999999114,
          -102.69999999999051,
          -115.2999999999909,
          -115.79999999999085,
          -84.89999999999047,
          -158.8999999999912,
          -188.29999999999174,
          -266.3999999999927,
          -346.2999999999933,
          -433.29999999999376,
          -458.09999999999303,
          -501.29999999999404,
          -510.89999999999367,
          -536.199999999995,
          -586.5999999999943,
          -632.5999999999951,
          -624.9999999999942,
          -600.5999999999942,
          -611.599999999993,
          -631.7999999999922,
          -645.7999999999918,
          -643.1999999999921,
          -657.5999999999921,
          -700.1999999999903,
          -484.79999999999217,
          -515.1999999999925,
          -438.6999999999929,
          -503.2999999999931,
          -560.4999999999925,
          -543.6999999999913,
          -452.89999999999196,
          -493.49999999999113,
          -571.4999999999914,
          -503.39999999999156,
          -539.599999999992,
          -628.299999999992,
          -659.999999999992,
          -692.5999999999902,
          -697.9999999999901,
          -581.4999999999885,
          -594.299999999988,
          -465.49999999998676,
          -529.3999999999858,
          -535.5999999999864,
          -565.3999999999862,
          -595.1999999999861,
          -404.9999999999857,
          -435.7999999999876,
          -439.79999999998716,
          -413.7999999999878,
          -443.09999999998877,
          -463.89999999998736,
          -422.29999999998796,
          -380.29999999999035,
          -373.89999999998963,
          -381.899999999991,
          -427.39999999999225,
          -473.6999999999933,
          -490.4999999999934,
          -513.0999999999949,
          -565.2999999999954,
          -563.4999999999958,
          -615.8999999999959,
          -640.0999999999949,
          -730.6999999999933,
          -732.1999999999942,
          -693.0999999999951,
          -650.2999999999954,
          -667.0999999999945,
          -701.4999999999933,
          -729.9999999999935,
          -773.3999999999936,
          -817.2999999999926,
          -841.3999999999911,
          -858.7999999999904,
          -868.6999999999898,
          -1024.2999999999877,
          -1023.2999999999872,
          -1105.4999999999884,
          -1164.2999999999884,
          -1119.499999999988,
          -1142.2999999999881,
          -1117.1999999999862,
          -1077.999999999987,
          -1063.399999999987,
          -919.2999999999865,
          -915.5999999999867,
          -950.4999999999867,
          -997.0999999999867,
          -1072.5999999999867,
          -1194.0999999999867,
          -1223.0999999999858,
          -1275.799999999986,
          -1330.499999999986,
          -1334.8999999999858,
          -1306.4999999999852,
          -1291.899999999985,
          -1295.4999999999854,
          -1284.0999999999858,
          -1275.499999999986,
          -1309.0999999999851,
          -1322.0999999999858,
          -1370.5999999999858,
          -1396.399999999987,
          -1462.0999999999865,
          -1541.2999999999859,
          -1569.7999999999856,
          -1617.3999999999844,
          -1633.599999999985,
          -1655.6999999999853,
          -1686.3999999999844,
          -1697.999999999985,
          -1699.0999999999844,
          -1710.699999999985,
          -1708.2999999999838,
          -1759.0999999999835,
          -1765.9999999999827,
          -1738.4999999999825,
          -1761.8999999999826,
          -1767.299999999983,
          -1810.2999999999836,
          -1867.8999999999835,
          -1925.8999999999837,
          -1970.5999999999835,
          -1997.8999999999826,
          -2013.8999999999824,
          -2146.899999999981,
          -2071.099999999981,
          -1949.8999999999817,
          -1913.699999999982,
          -1818.4999999999823,
          -1704.7999999999824,
          -1735.7999999999813,
          -1724.5999999999817,
          -1797.4999999999818,
          -1810.1999999999819,
          -1825.2999999999831,
          -1877.8999999999835,
          -1814.4999999999834,
          -1897.299999999983,
          -1921.5999999999822,
          -1794.6999999999832,
          -1799.599999999982,
          -1789.299999999981,
          -1757.1999999999807,
          -1857.6999999999803,
          -1920.8999999999792,
          -1956.9999999999782,
          -1999.499999999978,
          -2039.199999999977,
          -2024.799999999976,
          -2021.7999999999763,
          -2019.7999999999765,
          -2053.1999999999766,
          -2075.0999999999767,
          -1991.699999999979,
          -1996.799999999979,
          -1953.1999999999798,
          -1966.3999999999796,
          -1999.6999999999794,
          -1983.69999999998,
          -1974.39999999998,
          -2012.69999999998,
          -2027.1999999999825,
          -2060.5999999999826,
          -2094.2999999999815,
          -2127.1999999999816,
          -2170.5999999999817,
          -2161.499999999981,
          -2184.8999999999787,
          -2169.199999999979,
          -2169.5999999999794,
          -2236.999999999979,
          -2223.1999999999784,
          -2211.099999999979,
          -2255.199999999978,
          -2192.0999999999776,
          -2128.399999999978,
          -2123.3999999999783,
          -2120.8999999999796,
          -2090.299999999981,
          -2098.8999999999824,
          -2084.299999999982,
          -2129.0999999999826,
          -2120.299999999983,
          -2132.8999999999824,
          -2201.5999999999817,
          -2185.7999999999815,
          -2250.0999999999817,
          -2292.6999999999834,
          -2333.1999999999825,
          -2348.599999999982,
          -2332.9999999999823,
          -2325.9999999999827,
          -2288.399999999982,
          -2310.1999999999807,
          -2295.999999999981,
          -2330.4999999999827,
          -2320.8999999999833,
          -2313.399999999983,
          -2312.099999999983,
          -2294.8999999999824,
          -2258.4999999999836,
          -2319.4999999999836,
          -2359.9999999999836,
          -2356.5999999999835,
          -2402.2999999999834,
          -2428.4999999999836,
          -2438.2999999999834,
          -2448.099999999983,
          -2406.4999999999836,
          -2435.5999999999863,
          -2422.0999999999867,
          -2455.799999999986,
          -2447.0999999999844,
          -2445.899999999984,
          -2397.199999999985,
          -2360.6999999999844,
          -2423.099999999984,
          -2452.099999999983,
          -2517.0999999999826,
          -2523.7999999999834,
          -2605.999999999982,
          -2569.8999999999805,
          -2597.599999999981,
          -2613.5999999999804,
          -2606.6999999999803,
          -2644.3999999999814,
          -2634.499999999981,
          -2689.9999999999804,
          -2713.5999999999794,
          -2796.399999999978,
          -2741.5999999999763,
          -2898.8999999999755,
          -2960.6999999999753,
          -2952.499999999975,
          -2988.999999999976,
          -3010.999999999976,
          -3041.599999999977,
          -2891.599999999977,
          -2929.3999999999774,
          -2970.4999999999773,
          -2754.599999999977,
          -2774.2999999999774,
          -2730.0999999999767,
          -2533.0999999999763,
          -2610.399999999976,
          -2620.2999999999747,
          -2662.699999999974,
          -2696.0999999999735,
          -2756.699999999973,
          -2796.699999999973,
          -2846.7999999999724,
          -2872.4999999999727,
          -2872.5999999999735,
          -2876.199999999974,
          -2894.9999999999736,
          -2979.8999999999724,
          -3017.0999999999717,
          -3133.6999999999707,
          -3113.6999999999707,
          -3187.1999999999703,
          -3072.19999999997,
          -3072.599999999969,
          -2928.4999999999686,
          -2801.6999999999684,
          -2827.6999999999675,
          -2695.2999999999665,
          -2478.099999999965,
          -2349.299999999964,
          -2128.9999999999636,
          -2209.599999999963,
          -2240.4999999999636,
          -2304.799999999963,
          -2311.4999999999623,
          -2271.4999999999623,
          -2277.099999999962,
          -2277.299999999961,
          -2312.999999999961,
          -2336.1999999999607,
          -2382.49999999996,
          -2420.99999999996,
          -2445.69999999996,
          -2536.4999999999595,
          -2542.499999999959,
          -2554.8999999999583,
          -2563.199999999957,
          -2565.299999999955,
          -2587.1999999999543,
          -2528.5999999999535,
          -2536.999999999954,
          -2520.199999999953,
          -2360.3999999999514,
          -2042.9999999999516,
          -1998.6999999999523,
          -1956.6999999999525,
          -1847.8999999999526,
          -1792.399999999953,
          -1620.5999999999533,
          -1610.7999999999524,
          -1595.9999999999532,
          -1479.399999999951,
          -1372.7999999999506,
          -1399.8999999999505,
          -1433.999999999954,
          -1388.0999999999538,
          -1422.6999999999528,
          -1394.7999999999531,
          -1446.3999999999537,
          -1486.6999999999532,
          -1495.8999999999535,
          -1472.899999999953,
          -1423.099999999951,
          -1406.1999999999503,
          -1369.9999999999495,
          -1393.1999999999482,
          -1352.1999999999482,
          -1374.3999999999494,
          -1388.899999999949,
          -1375.8999999999503,
          -1378.4999999999495,
          -1382.499999999949,
          -1398.9999999999495,
          -1411.3999999999508,
          -1439.7999999999524,
          -1437.7999999999515,
          -1463.799999999952,
          -1475.1999999999523,
          -1510.4999999999527,
          -1493.0999999999522,
          -1520.4999999999518,
          -1487.6999999999516,
          -1523.2999999999518,
          -1562.4999999999513,
          -1577.6999999999514,
          -1598.0999999999508,
          -1515.099999999951,
          -1520.0999999999506,
          -1552.3999999999512,
          -1587.399999999952,
          -1601.8999999999514,
          -1721.4999999999511,
          -1754.499999999951,
          -1668.7999999999513,
          -1694.0999999999517,
          -1595.89999999995,
          -1778.6999999999498,
          -1833.29999999995,
          -1828.2999999999495,
          -1823.9999999999488,
          -1700.69999999995,
          -1663.0999999999501,
          -1569.29999999995,
          -1598.6999999999493,
          -1647.099999999949,
          -1607.6999999999484,
          -1721.9999999999486,
          -1775.1999999999484,
          -1750.7999999999483,
          -1559.9999999999486,
          -1554.699999999949,
          -1565.5999999999483,
          -1429.7999999999479,
          -1501.5999999999497,
          -1423.69999999995,
          -1372.1999999999503,
          -1464.5999999999494,
          -1460.899999999948,
          -1409.699999999948,
          -1397.8999999999485,
          -1278.0999999999485,
          -1273.799999999948,
          -1186.8999999999473,
          -1269.7999999999486,
          -1329.0999999999485,
          -1321.8999999999503,
          -1214.6999999999496,
          -1287.6999999999493,
          -1278.5999999999485,
          -1337.7999999999479,
          -1383.899999999948,
          -1354.0999999999492,
          -1380.5999999999497,
          -1428.5999999999515,
          -1487.299999999952,
          -1532.6999999999528,
          -1533.4999999999523,
          -1560.2999999999524,
          -1597.299999999953,
          -1588.199999999952,
          -1630.399999999951,
          -1668.199999999953,
          -1649.9999999999525,
          -1499.4999999999525,
          -1492.5999999999528,
          -1524.8999999999535,
          -1523.4999999999532,
          -1560.5999999999542,
          -1576.8999999999544,
          -1668.8999999999553,
          -1483.9999999999595,
          -1527.8999999999608,
          -1411.6999999999632,
          -1267.3999999999644,
          -1228.699999999964,
          -1246.2999999999638,
          -1308.3999999999646,
          -1355.1999999999648,
          -1418.099999999965,
          -1368.999999999964,
          -1372.0999999999644,
          -1384.399999999966,
          -1408.6999999999653,
          -1285.2999999999652,
          -1324.8999999999648,
          -1360.999999999966,
          -1344.6999999999668,
          -1353.2999999999681,
          -1241.2999999999693,
          -1242.599999999971,
          -1239.9999999999718,
          -1305.799999999972,
          -1298.5999999999715,
          -1306.7999999999709,
          -1348.8999999999712,
          -1322.3999999999708,
          -1443.799999999971,
          -1472.7999999999702,
          -1533.5999999999706,
          -1573.299999999971,
          -1515.6999999999712,
          -1477.4999999999702,
          -1517.8999999999699,
          -1541.3999999999694,
          -1554.7999999999706,
          -1695.1999999999712,
          -1652.299999999971,
          -1676.1999999999712,
          -1665.1999999999705,
          -1462.1999999999707,
          -1396.2999999999702,
          -1462.8999999999712,
          -1358.8999999999717,
          -1311.599999999973,
          -1292.0999999999724,
          -1314.4999999999714,
          -1166.3999999999708,
          -1107.599999999972,
          -1122.5999999999726,
          -959.5999999999729,
          -783.3999999999731,
          -820.499999999973,
          -845.8999999999729,
          -874.2999999999724,
          -783.2999999999736,
          -825.399999999974,
          -834.5999999999743,
          -890.9999999999741,
          -885.6999999999744,
          -918.6999999999728,
          -927.4999999999727,
          -986.1999999999709,
          -1026.4999999999707,
          -875.5999999999702,
          -786.4999999999706,
          -655.2999999999714,
          -603.0999999999714,
          -509.6999999999723,
          -452.49999999997203,
          -506.9999999999722,
          -543.7999999999718,
          -532.5999999999727,
          -573.0999999999729,
          -614.299999999973,
          -692.1999999999726,
          -757.0999999999713,
          -750.8999999999701,
          -695.8999999999695,
          -692.1999999999689,
          -696.8999999999701,
          -696.0999999999715,
          -632.299999999971,
          -641.6999999999704,
          -671.0999999999698,
          -715.3999999999696,
          -742.6999999999697,
          -815.6999999999705,
          -629.1999999999699,
          -662.59999999997,
          -647.5999999999706,
          -657.1999999999701,
          -617.1999999999696,
          -602.8999999999692,
          -612.9999999999687,
          -684.5999999999693,
          -723.0999999999699,
          -770.4999999999695,
          -812.0999999999692,
          -660.9999999999675,
          -643.5999999999667,
          -603.4999999999657,
          -552.2999999999665,
          -582.0999999999667,
          -594.1999999999662,
          -535.1999999999671,
          -520.8999999999667,
          -337.0999999999683,
          -297.899999999968,
          -160.69999999996733,
          -103.29999999996753,
          -71.69999999996813,
          -76.39999999996783,
          76.80000000003216,
          153.3000000000308,
          307.20000000003097,
          392.2000000000304,
          357.500000000031,
          491.3000000000304,
          508.70000000002966,
          568.1000000000297,
          539.2000000000291,
          532.1000000000292,
          467.30000000003105,
          461.80000000003054,
          409.2000000000301,
          409.6000000000294,
          403.40000000003096,
          364.8000000000312,
          420.90000000003124,
          463.4000000000321,
          467.5000000000323,
          524.0000000000341,
          507.5000000000349,
          492.8000000000363,
          479.6000000000372,
          428.20000000003574,
          372.5000000000355,
          346.00000000003405,
          380.5000000000336,
          312.3000000000334,
          310.40000000003425,
          284.0000000000345,
          269.9000000000354,
          266.5000000000362,
          275.20000000003546,
          238.30000000003463,
          179.2000000000338,
          172.60000000003498,
          246.70000000003495,
          231.5000000000342,
          325.30000000003304,
          474.1000000000331,
          701.8000000000327,
          1020.2000000000336,
          1115.6000000000324,
          1281.7000000000326,
          1241.2000000000337,
          1448.2000000000353,
          1506.2000000000367,
          1535.600000000036,
          1600.6000000000379,
          1520.800000000038,
          1421.1000000000377,
          1375.8000000000384,
          1608.8000000000393,
          1621.3000000000393,
          1698.3000000000397,
          1777.500000000039,
          1765.5000000000393,
          1784.5000000000396,
          1706.60000000004,
          1711.9000000000397,
          1661.9000000000397,
          1560.7000000000396,
          1499.6000000000402,
          1457.6000000000404,
          1304.700000000038,
          1215.3000000000386,
          1185.8000000000386,
          1173.3000000000388,
          1146.4000000000387,
          1091.400000000039,
          1078.6000000000395,
          1039.000000000038,
          980.0000000000373,
          984.700000000037,
          964.6000000000363,
          952.1000000000344,
          928.1000000000334,
          1436.100000000033,
          1471.7000000000332,
          1465.6000000000327,
          1617.700000000032,
          1778.400000000032,
          1741.30000000003,
          1916.6000000000313,
          1987.2000000000319,
          2001.2000000000319,
          2043.0000000000325,
          2333.4000000000333,
          2318.900000000033,
          2418.9000000000306,
          2435.80000000003,
          2416.2000000000294,
          2396.60000000003,
          2361.000000000029,
          2565.900000000029,
          2586.3000000000297,
          2540.9000000000296,
          2584.00000000003,
          2579.4000000000296,
          2447.400000000028,
          2277.000000000028,
          2220.6000000000276,
          2145.600000000028,
          2101.4000000000283,
          2067.1000000000267,
          2021.0000000000268,
          2150.300000000026,
          2251.100000000026,
          2326.500000000027,
          2311.200000000026,
          2269.300000000026,
          2201.7000000000257,
          2174.100000000025,
          2105.100000000026,
          2186.500000000025,
          2208.500000000025,
          2212.400000000025,
          2181.700000000026,
          2170.100000000026,
          2178.300000000026,
          2188.600000000025,
          2134.4000000000256,
          2132.7000000000257,
          2130.1000000000263,
          2136.9000000000265,
          2137.0000000000255,
          2101.200000000024,
          2053.200000000025,
          2046.0000000000246,
          1996.0000000000257,
          2077.7000000000257,
          2042.3000000000259,
          2037.900000000026,
          2005.6000000000267,
          2002.6000000000267,
          1962.4000000000265,
          1942.4000000000265,
          1938.1000000000272,
          1902.4000000000274,
          1872.4000000000285,
          1777.5000000000286,
          1779.2000000000296,
          1763.5000000000286,
          1774.0000000000286,
          1796.9000000000276,
          1775.1000000000286,
          1771.3000000000281,
          1827.2000000000282,
          1821.200000000028,
          1821.2000000000291,
          1806.700000000029,
          1798.6000000000301,
          1790.7000000000307,
          1765.9000000000287,
          1889.2000000000282,
          1812.400000000027,
          1806.4000000000267,
          1822.7000000000269,
          1786.0000000000273,
          1795.700000000028,
          1853.9000000000274,
          1890.7000000000276,
          1869.8000000000284,
          1836.200000000028,
          1843.6000000000276,
          1816.600000000028,
          1795.3000000000263,
          1757.6000000000258,
          1760.3000000000268,
          1708.800000000027,
          1686.600000000027,
          1605.4000000000306,
          1583.2000000000317,
          1540.2000000000319,
          1481.7000000000312,
          1471.2000000000312,
          1462.6000000000313,
          1442.1000000000315,
          1434.400000000031,
          1430.3000000000297,
          1412.9000000000312,
          1444.4000000000303,
          1430.600000000031,
          1426.8000000000313,
          1371.9000000000315,
          1358.600000000032,
          1360.6000000000317,
          1304.800000000031,
          1235.2000000000317,
          1184.8000000000325,
          1179.2000000000312,
          1077.2000000000314,
          1033.60000000003,
          1091.0000000000305,
          1048.6000000000301,
          1011.5000000000292,
          978.5000000000296,
          890.1000000000297,
          874.6000000000296,
          828.6000000000291,
          775.200000000029,
          827.8000000000295,
          669.4000000000276,
          638.8000000000292,
          602.500000000029,
          545.6000000000292,
          455.40000000002897,
          415.8000000000271,
          380.00000000002797,
          325.00000000002734,
          291.20000000002796,
          314.9000000000278,
          277.00000000002706,
          185.80000000002468,
          174.20000000002418,
          167.60000000002424,
          113.3000000000236,
          -22.799999999976194,
          91.20000000002457,
          2.3959501049830578e-11,
          46.40000000002373,
          -53.29999999997768,
          -153.29999999997665,
          -152.7999999999771,
          -49.79999999997699,
          -17.799999999977672,
          -15.999999999978092,
          -38.69999999997803,
          -30.699999999978914,
          -91.9999999999786,
          -134.99999999997786,
          -107.59999999997821,
          -85.69999999997907,
          244.00000000002257,
          385.7000000000227,
          589.0000000000223,
          561.1000000000216,
          575.400000000022,
          529.4000000000226,
          580.4000000000236,
          707.900000000024,
          882.700000000023,
          837.7000000000236,
          1124.7000000000255,
          1223.6000000000245,
          1427.300000000023,
          1415.300000000022,
          1392.1000000000222,
          1352.8000000000222,
          1285.6000000000217,
          1284.0000000000223,
          1218.200000000022,
          1214.800000000022,
          1197.200000000022,
          1200.400000000022,
          1163.4000000000215,
          1199.8000000000213,
          1251.80000000002,
          1336.8000000000195,
          1378.40000000002,
          1511.4000000000187,
          1508.400000000019,
          1444.3000000000186,
          1421.3000000000188,
          1258.300000000019,
          1164.3000000000195,
          1135.7000000000194,
          1106.1000000000208,
          937.8000000000204,
          992.800000000021,
          1020.600000000021,
          978.400000000021,
          1035.4000000000203,
          1012.0000000000202,
          1093.8000000000206,
          1002.8000000000195,
          949.3000000000198,
          930.200000000019,
          920.7000000000191,
          904.4000000000194,
          1009.9000000000201,
          1122.2000000000187,
          1114.100000000019,
          1473.90000000002,
          1473.8000000000195,
          1566.9000000000187,
          1527.4000000000192,
          1552.4000000000187,
          1625.2000000000182,
          1601.5000000000186,
          1533.500000000018,
          1456.400000000017,
          1470.0000000000173,
          1469.2000000000176,
          1422.000000000017,
          1406.8000000000175,
          1354.000000000018,
          1309.7000000000187,
          1308.9000000000176,
          1406.3000000000166,
          1788.3000000000159,
          1804.700000000016,
          1795.000000000015,
          1859.600000000014,
          1840.300000000014,
          1819.300000000014,
          1884.200000000015,
          1976.400000000015,
          2174.2000000000144,
          2115.2000000000144,
          2143.3000000000143,
          2108.000000000014,
          2048.500000000014,
          2005.0000000000134,
          1923.600000000013,
          1821.7000000000128,
          1759.700000000013,
          1713.3000000000131,
          1810.200000000013,
          1766.800000000013,
          1711.2000000000116,
          1698.800000000012,
          2063.8000000000125,
          2251.1000000000117,
          2213.8000000000116,
          2182.000000000012,
          2673.0000000000114,
          2656.2000000000126,
          3049.0000000000123,
          3009.100000000013,
          2997.0000000000127,
          3327.900000000015,
          3297.700000000015,
          3294.6000000000145,
          3255.7000000000126,
          3243.7000000000116,
          3145.0000000000114,
          3119.2000000000135,
          3084.900000000013,
          3080.4000000000146,
          3038.900000000016,
          3023.300000000016,
          2993.500000000015,
          2963.500000000016,
          2921.7000000000176,
          2908.400000000017,
          2861.0000000000173,
          2823.500000000016,
          2801.8000000000156,
          2795.400000000016,
          2732.1000000000154,
          2730.4000000000156,
          2721.8000000000147,
          2706.200000000015,
          2676.800000000015,
          2700.2000000000144,
          2670.800000000014,
          2649.9000000000133,
          2566.500000000013,
          2721.1000000000136,
          2908.0000000000123,
          2870.8000000000106,
          2822.000000000011,
          2745.0000000000105,
          2750.6000000000095,
          2709.50000000001,
          3105.1000000000104,
          3216.3000000000116,
          3168.7000000000107,
          3141.2000000000103,
          3412.2000000000116,
          3492.7000000000116,
          3448.5000000000127,
          3511.6000000000126,
          3420.0000000000123,
          3412.700000000012,
          3444.900000000012,
          3449.700000000012,
          3460.1000000000113,
          3426.800000000012,
          3368.6000000000126,
          3305.800000000012,
          3286.7000000000135,
          3264.5000000000136,
          3254.700000000014,
          3241.100000000015,
          3202.600000000016,
          3178.500000000016,
          3137.9000000000165,
          3090.1000000000163,
          3057.4000000000165,
          2983.200000000016,
          2952.800000000017,
          2936.200000000018,
          2973.4000000000196,
          2964.500000000019,
          2981.90000000002,
          3012.6000000000204,
          3021.5000000000186,
          3034.20000000002,
          3013.0000000000186,
          2902.200000000019,
          2880.700000000018,
          2869.900000000018,
          2837.2000000000166,
          2798.0000000000173,
          2818.700000000022,
          2818.700000000022,
          2781.900000000022,
          2768.700000000022,
          2748.100000000023,
          2702.6000000000226,
          2721.4000000000215,
          2698.300000000022,
          2677.2000000000226,
          2694.200000000023,
          2681.600000000025,
          2644.7000000000253,
          2575.700000000026,
          2497.7000000000257,
          2412.000000000025,
          2400.8000000000256,
          2382.0000000000255,
          2277.3000000000256,
          2199.200000000025,
          2132.4000000000256,
          2083.0000000000255,
          2031.8000000000254,
          2020.8000000000254,
          1996.000000000025,
          1897.1000000000254,
          1810.4000000000258,
          1766.700000000026,
          1752.300000000025,
          1752.7000000000253,
          1750.800000000026,
          1748.2000000000257
         ]
        }
       ],
       "layout": {
        "font": {
         "color": "#e1e1e1",
         "size": 10
        },
        "height": 400,
        "margin": {
         "b": 10,
         "l": 15,
         "r": 15
        },
        "paper_bgcolor": "#1e1e1e",
        "plot_bgcolor": "#1e1e1e",
        "template": {
         "data": {
          "bar": [
           {
            "error_x": {
             "color": "#2a3f5f"
            },
            "error_y": {
             "color": "#2a3f5f"
            },
            "marker": {
             "line": {
              "color": "#E5ECF6",
              "width": 0.5
             },
             "pattern": {
              "fillmode": "overlay",
              "size": 10,
              "solidity": 0.2
             }
            },
            "type": "bar"
           }
          ],
          "barpolar": [
           {
            "marker": {
             "line": {
              "color": "#E5ECF6",
              "width": 0.5
             },
             "pattern": {
              "fillmode": "overlay",
              "size": 10,
              "solidity": 0.2
             }
            },
            "type": "barpolar"
           }
          ],
          "carpet": [
           {
            "aaxis": {
             "endlinecolor": "#2a3f5f",
             "gridcolor": "white",
             "linecolor": "white",
             "minorgridcolor": "white",
             "startlinecolor": "#2a3f5f"
            },
            "baxis": {
             "endlinecolor": "#2a3f5f",
             "gridcolor": "white",
             "linecolor": "white",
             "minorgridcolor": "white",
             "startlinecolor": "#2a3f5f"
            },
            "type": "carpet"
           }
          ],
          "choropleth": [
           {
            "colorbar": {
             "outlinewidth": 0,
             "ticks": ""
            },
            "type": "choropleth"
           }
          ],
          "contour": [
           {
            "colorbar": {
             "outlinewidth": 0,
             "ticks": ""
            },
            "colorscale": [
             [
              0,
              "#0d0887"
             ],
             [
              0.1111111111111111,
              "#46039f"
             ],
             [
              0.2222222222222222,
              "#7201a8"
             ],
             [
              0.3333333333333333,
              "#9c179e"
             ],
             [
              0.4444444444444444,
              "#bd3786"
             ],
             [
              0.5555555555555556,
              "#d8576b"
             ],
             [
              0.6666666666666666,
              "#ed7953"
             ],
             [
              0.7777777777777778,
              "#fb9f3a"
             ],
             [
              0.8888888888888888,
              "#fdca26"
             ],
             [
              1,
              "#f0f921"
             ]
            ],
            "type": "contour"
           }
          ],
          "contourcarpet": [
           {
            "colorbar": {
             "outlinewidth": 0,
             "ticks": ""
            },
            "type": "contourcarpet"
           }
          ],
          "heatmap": [
           {
            "colorbar": {
             "outlinewidth": 0,
             "ticks": ""
            },
            "colorscale": [
             [
              0,
              "#0d0887"
             ],
             [
              0.1111111111111111,
              "#46039f"
             ],
             [
              0.2222222222222222,
              "#7201a8"
             ],
             [
              0.3333333333333333,
              "#9c179e"
             ],
             [
              0.4444444444444444,
              "#bd3786"
             ],
             [
              0.5555555555555556,
              "#d8576b"
             ],
             [
              0.6666666666666666,
              "#ed7953"
             ],
             [
              0.7777777777777778,
              "#fb9f3a"
             ],
             [
              0.8888888888888888,
              "#fdca26"
             ],
             [
              1,
              "#f0f921"
             ]
            ],
            "type": "heatmap"
           }
          ],
          "heatmapgl": [
           {
            "colorbar": {
             "outlinewidth": 0,
             "ticks": ""
            },
            "colorscale": [
             [
              0,
              "#0d0887"
             ],
             [
              0.1111111111111111,
              "#46039f"
             ],
             [
              0.2222222222222222,
              "#7201a8"
             ],
             [
              0.3333333333333333,
              "#9c179e"
             ],
             [
              0.4444444444444444,
              "#bd3786"
             ],
             [
              0.5555555555555556,
              "#d8576b"
             ],
             [
              0.6666666666666666,
              "#ed7953"
             ],
             [
              0.7777777777777778,
              "#fb9f3a"
             ],
             [
              0.8888888888888888,
              "#fdca26"
             ],
             [
              1,
              "#f0f921"
             ]
            ],
            "type": "heatmapgl"
           }
          ],
          "histogram": [
           {
            "marker": {
             "pattern": {
              "fillmode": "overlay",
              "size": 10,
              "solidity": 0.2
             }
            },
            "type": "histogram"
           }
          ],
          "histogram2d": [
           {
            "colorbar": {
             "outlinewidth": 0,
             "ticks": ""
            },
            "colorscale": [
             [
              0,
              "#0d0887"
             ],
             [
              0.1111111111111111,
              "#46039f"
             ],
             [
              0.2222222222222222,
              "#7201a8"
             ],
             [
              0.3333333333333333,
              "#9c179e"
             ],
             [
              0.4444444444444444,
              "#bd3786"
             ],
             [
              0.5555555555555556,
              "#d8576b"
             ],
             [
              0.6666666666666666,
              "#ed7953"
             ],
             [
              0.7777777777777778,
              "#fb9f3a"
             ],
             [
              0.8888888888888888,
              "#fdca26"
             ],
             [
              1,
              "#f0f921"
             ]
            ],
            "type": "histogram2d"
           }
          ],
          "histogram2dcontour": [
           {
            "colorbar": {
             "outlinewidth": 0,
             "ticks": ""
            },
            "colorscale": [
             [
              0,
              "#0d0887"
             ],
             [
              0.1111111111111111,
              "#46039f"
             ],
             [
              0.2222222222222222,
              "#7201a8"
             ],
             [
              0.3333333333333333,
              "#9c179e"
             ],
             [
              0.4444444444444444,
              "#bd3786"
             ],
             [
              0.5555555555555556,
              "#d8576b"
             ],
             [
              0.6666666666666666,
              "#ed7953"
             ],
             [
              0.7777777777777778,
              "#fb9f3a"
             ],
             [
              0.8888888888888888,
              "#fdca26"
             ],
             [
              1,
              "#f0f921"
             ]
            ],
            "type": "histogram2dcontour"
           }
          ],
          "mesh3d": [
           {
            "colorbar": {
             "outlinewidth": 0,
             "ticks": ""
            },
            "type": "mesh3d"
           }
          ],
          "parcoords": [
           {
            "line": {
             "colorbar": {
              "outlinewidth": 0,
              "ticks": ""
             }
            },
            "type": "parcoords"
           }
          ],
          "pie": [
           {
            "automargin": true,
            "type": "pie"
           }
          ],
          "scatter": [
           {
            "marker": {
             "colorbar": {
              "outlinewidth": 0,
              "ticks": ""
             }
            },
            "type": "scatter"
           }
          ],
          "scatter3d": [
           {
            "line": {
             "colorbar": {
              "outlinewidth": 0,
              "ticks": ""
             }
            },
            "marker": {
             "colorbar": {
              "outlinewidth": 0,
              "ticks": ""
             }
            },
            "type": "scatter3d"
           }
          ],
          "scattercarpet": [
           {
            "marker": {
             "colorbar": {
              "outlinewidth": 0,
              "ticks": ""
             }
            },
            "type": "scattercarpet"
           }
          ],
          "scattergeo": [
           {
            "marker": {
             "colorbar": {
              "outlinewidth": 0,
              "ticks": ""
             }
            },
            "type": "scattergeo"
           }
          ],
          "scattergl": [
           {
            "marker": {
             "colorbar": {
              "outlinewidth": 0,
              "ticks": ""
             }
            },
            "type": "scattergl"
           }
          ],
          "scattermapbox": [
           {
            "marker": {
             "colorbar": {
              "outlinewidth": 0,
              "ticks": ""
             }
            },
            "type": "scattermapbox"
           }
          ],
          "scatterpolar": [
           {
            "marker": {
             "colorbar": {
              "outlinewidth": 0,
              "ticks": ""
             }
            },
            "type": "scatterpolar"
           }
          ],
          "scatterpolargl": [
           {
            "marker": {
             "colorbar": {
              "outlinewidth": 0,
              "ticks": ""
             }
            },
            "type": "scatterpolargl"
           }
          ],
          "scatterternary": [
           {
            "marker": {
             "colorbar": {
              "outlinewidth": 0,
              "ticks": ""
             }
            },
            "type": "scatterternary"
           }
          ],
          "surface": [
           {
            "colorbar": {
             "outlinewidth": 0,
             "ticks": ""
            },
            "colorscale": [
             [
              0,
              "#0d0887"
             ],
             [
              0.1111111111111111,
              "#46039f"
             ],
             [
              0.2222222222222222,
              "#7201a8"
             ],
             [
              0.3333333333333333,
              "#9c179e"
             ],
             [
              0.4444444444444444,
              "#bd3786"
             ],
             [
              0.5555555555555556,
              "#d8576b"
             ],
             [
              0.6666666666666666,
              "#ed7953"
             ],
             [
              0.7777777777777778,
              "#fb9f3a"
             ],
             [
              0.8888888888888888,
              "#fdca26"
             ],
             [
              1,
              "#f0f921"
             ]
            ],
            "type": "surface"
           }
          ],
          "table": [
           {
            "cells": {
             "fill": {
              "color": "#EBF0F8"
             },
             "line": {
              "color": "white"
             }
            },
            "header": {
             "fill": {
              "color": "#C8D4E3"
             },
             "line": {
              "color": "white"
             }
            },
            "type": "table"
           }
          ]
         },
         "layout": {
          "annotationdefaults": {
           "arrowcolor": "#2a3f5f",
           "arrowhead": 0,
           "arrowwidth": 1
          },
          "autotypenumbers": "strict",
          "coloraxis": {
           "colorbar": {
            "outlinewidth": 0,
            "ticks": ""
           }
          },
          "colorscale": {
           "diverging": [
            [
             0,
             "#8e0152"
            ],
            [
             0.1,
             "#c51b7d"
            ],
            [
             0.2,
             "#de77ae"
            ],
            [
             0.3,
             "#f1b6da"
            ],
            [
             0.4,
             "#fde0ef"
            ],
            [
             0.5,
             "#f7f7f7"
            ],
            [
             0.6,
             "#e6f5d0"
            ],
            [
             0.7,
             "#b8e186"
            ],
            [
             0.8,
             "#7fbc41"
            ],
            [
             0.9,
             "#4d9221"
            ],
            [
             1,
             "#276419"
            ]
           ],
           "sequential": [
            [
             0,
             "#0d0887"
            ],
            [
             0.1111111111111111,
             "#46039f"
            ],
            [
             0.2222222222222222,
             "#7201a8"
            ],
            [
             0.3333333333333333,
             "#9c179e"
            ],
            [
             0.4444444444444444,
             "#bd3786"
            ],
            [
             0.5555555555555556,
             "#d8576b"
            ],
            [
             0.6666666666666666,
             "#ed7953"
            ],
            [
             0.7777777777777778,
             "#fb9f3a"
            ],
            [
             0.8888888888888888,
             "#fdca26"
            ],
            [
             1,
             "#f0f921"
            ]
           ],
           "sequentialminus": [
            [
             0,
             "#0d0887"
            ],
            [
             0.1111111111111111,
             "#46039f"
            ],
            [
             0.2222222222222222,
             "#7201a8"
            ],
            [
             0.3333333333333333,
             "#9c179e"
            ],
            [
             0.4444444444444444,
             "#bd3786"
            ],
            [
             0.5555555555555556,
             "#d8576b"
            ],
            [
             0.6666666666666666,
             "#ed7953"
            ],
            [
             0.7777777777777778,
             "#fb9f3a"
            ],
            [
             0.8888888888888888,
             "#fdca26"
            ],
            [
             1,
             "#f0f921"
            ]
           ]
          },
          "colorway": [
           "#636efa",
           "#EF553B",
           "#00cc96",
           "#ab63fa",
           "#FFA15A",
           "#19d3f3",
           "#FF6692",
           "#B6E880",
           "#FF97FF",
           "#FECB52"
          ],
          "font": {
           "color": "#2a3f5f"
          },
          "geo": {
           "bgcolor": "white",
           "lakecolor": "white",
           "landcolor": "#E5ECF6",
           "showlakes": true,
           "showland": true,
           "subunitcolor": "white"
          },
          "hoverlabel": {
           "align": "left"
          },
          "hovermode": "closest",
          "mapbox": {
           "style": "light"
          },
          "paper_bgcolor": "white",
          "plot_bgcolor": "#E5ECF6",
          "polar": {
           "angularaxis": {
            "gridcolor": "white",
            "linecolor": "white",
            "ticks": ""
           },
           "bgcolor": "#E5ECF6",
           "radialaxis": {
            "gridcolor": "white",
            "linecolor": "white",
            "ticks": ""
           }
          },
          "scene": {
           "xaxis": {
            "backgroundcolor": "#E5ECF6",
            "gridcolor": "white",
            "gridwidth": 2,
            "linecolor": "white",
            "showbackground": true,
            "ticks": "",
            "zerolinecolor": "white"
           },
           "yaxis": {
            "backgroundcolor": "#E5ECF6",
            "gridcolor": "white",
            "gridwidth": 2,
            "linecolor": "white",
            "showbackground": true,
            "ticks": "",
            "zerolinecolor": "white"
           },
           "zaxis": {
            "backgroundcolor": "#E5ECF6",
            "gridcolor": "white",
            "gridwidth": 2,
            "linecolor": "white",
            "showbackground": true,
            "ticks": "",
            "zerolinecolor": "white"
           }
          },
          "shapedefaults": {
           "line": {
            "color": "#2a3f5f"
           }
          },
          "ternary": {
           "aaxis": {
            "gridcolor": "white",
            "linecolor": "white",
            "ticks": ""
           },
           "baxis": {
            "gridcolor": "white",
            "linecolor": "white",
            "ticks": ""
           },
           "bgcolor": "#E5ECF6",
           "caxis": {
            "gridcolor": "white",
            "linecolor": "white",
            "ticks": ""
           }
          },
          "title": {
           "x": 0.05
          },
          "xaxis": {
           "automargin": true,
           "gridcolor": "white",
           "linecolor": "white",
           "ticks": "",
           "title": {
            "standoff": 15
           },
           "zerolinecolor": "white",
           "zerolinewidth": 2
          },
          "yaxis": {
           "automargin": true,
           "gridcolor": "white",
           "linecolor": "white",
           "ticks": "",
           "title": {
            "standoff": 15
           },
           "zerolinecolor": "white",
           "zerolinewidth": 2
          }
         }
        },
        "title": {
         "text": "MA_24_64"
        },
        "width": 1000,
        "xaxis": {
         "linecolor": "#3a4a54",
         "linewidth": 1,
         "showgrid": false,
         "zeroline": false
        },
        "yaxis": {
         "linecolor": "#3a4a54",
         "linewidth": 1,
         "showgrid": false,
         "zeroline": false
        }
       }
      }
     },
     "metadata": {},
     "output_type": "display_data"
    },
    {
     "data": {
      "application/vnd.plotly.v1+json": {
       "config": {
        "plotlyServerURL": "https://plot.ly"
       },
       "data": [
        {
         "line": {
          "color": "#3d825f",
          "shape": "spline",
          "width": 2
         },
         "mode": "lines",
         "name": "MA_8_32",
         "type": "scatter",
         "x": [
          "2021-03-11T08:00:00+00:00",
          "2021-03-11T16:00:00+00:00",
          "2021-03-11T17:00:00+00:00",
          "2021-03-11T18:00:00+00:00",
          "2021-03-11T21:00:00+00:00",
          "2021-03-12T00:00:00+00:00",
          "2021-03-12T03:00:00+00:00",
          "2021-03-12T04:00:00+00:00",
          "2021-03-12T07:00:00+00:00",
          "2021-03-12T08:00:00+00:00",
          "2021-03-12T09:00:00+00:00",
          "2021-03-12T10:00:00+00:00",
          "2021-03-12T12:00:00+00:00",
          "2021-03-12T14:00:00+00:00",
          "2021-03-12T16:00:00+00:00",
          "2021-03-14T21:00:00+00:00",
          "2021-03-14T22:00:00+00:00",
          "2021-03-14T23:00:00+00:00",
          "2021-03-15T01:00:00+00:00",
          "2021-03-15T02:00:00+00:00",
          "2021-03-15T04:00:00+00:00",
          "2021-03-15T08:00:00+00:00",
          "2021-03-15T10:00:00+00:00",
          "2021-03-15T12:00:00+00:00",
          "2021-03-15T14:00:00+00:00",
          "2021-03-15T15:00:00+00:00",
          "2021-03-15T16:00:00+00:00",
          "2021-03-15T17:00:00+00:00",
          "2021-03-15T18:00:00+00:00",
          "2021-03-15T19:00:00+00:00",
          "2021-03-15T21:00:00+00:00",
          "2021-03-16T00:00:00+00:00",
          "2021-03-16T02:00:00+00:00",
          "2021-03-16T05:00:00+00:00",
          "2021-03-16T06:00:00+00:00",
          "2021-03-16T08:00:00+00:00",
          "2021-03-16T09:00:00+00:00",
          "2021-03-16T10:00:00+00:00",
          "2021-03-16T12:00:00+00:00",
          "2021-03-16T13:00:00+00:00",
          "2021-03-16T14:00:00+00:00",
          "2021-03-16T15:00:00+00:00",
          "2021-03-16T16:00:00+00:00",
          "2021-03-16T17:00:00+00:00",
          "2021-03-16T18:00:00+00:00",
          "2021-03-16T19:00:00+00:00",
          "2021-03-16T22:00:00+00:00",
          "2021-03-17T04:00:00+00:00",
          "2021-03-17T05:00:00+00:00",
          "2021-03-17T06:00:00+00:00",
          "2021-03-17T09:00:00+00:00",
          "2021-03-17T12:00:00+00:00",
          "2021-03-17T13:00:00+00:00",
          "2021-03-17T14:00:00+00:00",
          "2021-03-17T17:00:00+00:00",
          "2021-03-17T18:00:00+00:00",
          "2021-03-17T19:00:00+00:00",
          "2021-03-17T20:00:00+00:00",
          "2021-03-17T21:00:00+00:00",
          "2021-03-17T23:00:00+00:00",
          "2021-03-18T00:00:00+00:00",
          "2021-03-18T02:00:00+00:00",
          "2021-03-18T05:00:00+00:00",
          "2021-03-18T08:00:00+00:00",
          "2021-03-18T11:00:00+00:00",
          "2021-03-18T12:00:00+00:00",
          "2021-03-18T13:00:00+00:00",
          "2021-03-18T14:00:00+00:00",
          "2021-03-18T15:00:00+00:00",
          "2021-03-18T16:00:00+00:00",
          "2021-03-18T17:00:00+00:00",
          "2021-03-18T18:00:00+00:00",
          "2021-03-18T19:00:00+00:00",
          "2021-03-18T20:00:00+00:00",
          "2021-03-19T00:00:00+00:00",
          "2021-03-19T04:00:00+00:00",
          "2021-03-19T14:00:00+00:00",
          "2021-03-19T15:00:00+00:00",
          "2021-03-19T16:00:00+00:00",
          "2021-03-19T17:00:00+00:00",
          "2021-03-19T19:00:00+00:00",
          "2021-03-22T00:00:00+00:00",
          "2021-03-22T01:00:00+00:00",
          "2021-03-22T02:00:00+00:00",
          "2021-03-22T03:00:00+00:00",
          "2021-03-22T05:00:00+00:00",
          "2021-03-22T10:00:00+00:00",
          "2021-03-22T12:00:00+00:00",
          "2021-03-22T13:00:00+00:00",
          "2021-03-22T14:00:00+00:00",
          "2021-03-22T15:00:00+00:00",
          "2021-03-22T17:00:00+00:00",
          "2021-03-22T18:00:00+00:00",
          "2021-03-22T20:00:00+00:00",
          "2021-03-22T21:00:00+00:00",
          "2021-03-22T23:00:00+00:00",
          "2021-03-23T00:00:00+00:00",
          "2021-03-23T05:00:00+00:00",
          "2021-03-23T09:00:00+00:00",
          "2021-03-23T13:00:00+00:00",
          "2021-03-23T16:00:00+00:00",
          "2021-03-23T19:00:00+00:00",
          "2021-03-23T23:00:00+00:00",
          "2021-03-24T06:00:00+00:00",
          "2021-03-24T12:00:00+00:00",
          "2021-03-24T13:00:00+00:00",
          "2021-03-24T14:00:00+00:00",
          "2021-03-24T16:00:00+00:00",
          "2021-03-24T17:00:00+00:00",
          "2021-03-24T18:00:00+00:00",
          "2021-03-24T19:00:00+00:00",
          "2021-03-24T20:00:00+00:00",
          "2021-03-24T23:00:00+00:00",
          "2021-03-25T00:00:00+00:00",
          "2021-03-25T01:00:00+00:00",
          "2021-03-25T03:00:00+00:00",
          "2021-03-25T04:00:00+00:00",
          "2021-03-25T06:00:00+00:00",
          "2021-03-25T09:00:00+00:00",
          "2021-03-25T12:00:00+00:00",
          "2021-03-25T13:00:00+00:00",
          "2021-03-25T14:00:00+00:00",
          "2021-03-25T17:00:00+00:00",
          "2021-03-25T18:00:00+00:00",
          "2021-03-25T19:00:00+00:00",
          "2021-03-25T21:00:00+00:00",
          "2021-03-26T00:00:00+00:00",
          "2021-03-26T01:00:00+00:00",
          "2021-03-26T04:00:00+00:00",
          "2021-03-26T05:00:00+00:00",
          "2021-03-26T06:00:00+00:00",
          "2021-03-26T11:00:00+00:00",
          "2021-03-26T15:00:00+00:00",
          "2021-03-26T16:00:00+00:00",
          "2021-03-26T20:00:00+00:00",
          "2021-03-28T21:00:00+00:00",
          "2021-03-28T22:00:00+00:00",
          "2021-03-29T00:00:00+00:00",
          "2021-03-29T03:00:00+00:00",
          "2021-03-29T05:00:00+00:00",
          "2021-03-29T06:00:00+00:00",
          "2021-03-29T07:00:00+00:00",
          "2021-03-29T08:00:00+00:00",
          "2021-03-29T09:00:00+00:00",
          "2021-03-29T10:00:00+00:00",
          "2021-03-29T12:00:00+00:00",
          "2021-03-29T14:00:00+00:00",
          "2021-03-29T16:00:00+00:00",
          "2021-03-29T18:00:00+00:00",
          "2021-03-29T19:00:00+00:00",
          "2021-03-29T20:00:00+00:00",
          "2021-03-29T21:00:00+00:00",
          "2021-03-29T22:00:00+00:00",
          "2021-03-29T23:00:00+00:00",
          "2021-03-30T01:00:00+00:00",
          "2021-03-30T02:00:00+00:00",
          "2021-03-30T07:00:00+00:00",
          "2021-03-30T08:00:00+00:00",
          "2021-03-30T11:00:00+00:00",
          "2021-03-30T12:00:00+00:00",
          "2021-03-30T13:00:00+00:00",
          "2021-03-30T15:00:00+00:00",
          "2021-03-30T16:00:00+00:00",
          "2021-03-30T17:00:00+00:00",
          "2021-03-30T18:00:00+00:00",
          "2021-03-30T19:00:00+00:00",
          "2021-03-30T20:00:00+00:00",
          "2021-03-30T21:00:00+00:00",
          "2021-03-30T22:00:00+00:00",
          "2021-03-31T00:00:00+00:00",
          "2021-03-31T02:00:00+00:00",
          "2021-03-31T05:00:00+00:00",
          "2021-03-31T06:00:00+00:00",
          "2021-03-31T07:00:00+00:00",
          "2021-03-31T08:00:00+00:00",
          "2021-03-31T09:00:00+00:00",
          "2021-03-31T11:00:00+00:00",
          "2021-03-31T12:00:00+00:00",
          "2021-03-31T14:00:00+00:00",
          "2021-03-31T17:00:00+00:00",
          "2021-03-31T19:00:00+00:00",
          "2021-03-31T20:00:00+00:00",
          "2021-03-31T22:00:00+00:00",
          "2021-03-31T23:00:00+00:00",
          "2021-04-01T02:00:00+00:00",
          "2021-04-01T04:00:00+00:00",
          "2021-04-01T06:00:00+00:00",
          "2021-04-01T07:00:00+00:00",
          "2021-04-01T09:00:00+00:00",
          "2021-04-01T10:00:00+00:00",
          "2021-04-01T11:00:00+00:00",
          "2021-04-01T12:00:00+00:00",
          "2021-04-01T13:00:00+00:00",
          "2021-04-01T14:00:00+00:00",
          "2021-04-01T15:00:00+00:00",
          "2021-04-01T16:00:00+00:00",
          "2021-04-01T17:00:00+00:00",
          "2021-04-01T22:00:00+00:00",
          "2021-04-01T23:00:00+00:00",
          "2021-04-02T00:00:00+00:00",
          "2021-04-02T02:00:00+00:00",
          "2021-04-02T04:00:00+00:00",
          "2021-04-02T07:00:00+00:00",
          "2021-04-02T08:00:00+00:00",
          "2021-04-02T09:00:00+00:00",
          "2021-04-02T11:00:00+00:00",
          "2021-04-02T12:00:00+00:00",
          "2021-04-02T14:00:00+00:00",
          "2021-04-02T16:00:00+00:00",
          "2021-04-02T17:00:00+00:00",
          "2021-04-02T18:00:00+00:00",
          "2021-04-02T19:00:00+00:00",
          "2021-04-05T01:00:00+00:00",
          "2021-04-05T02:00:00+00:00",
          "2021-04-05T03:00:00+00:00",
          "2021-04-05T04:00:00+00:00",
          "2021-04-05T05:00:00+00:00",
          "2021-04-05T07:00:00+00:00",
          "2021-04-05T08:00:00+00:00",
          "2021-04-05T09:00:00+00:00",
          "2021-04-05T10:00:00+00:00",
          "2021-04-05T12:00:00+00:00",
          "2021-04-05T13:00:00+00:00",
          "2021-04-05T14:00:00+00:00",
          "2021-04-05T15:00:00+00:00",
          "2021-04-05T16:00:00+00:00",
          "2021-04-05T17:00:00+00:00",
          "2021-04-05T18:00:00+00:00",
          "2021-04-05T19:00:00+00:00",
          "2021-04-05T20:00:00+00:00",
          "2021-04-05T22:00:00+00:00",
          "2021-04-05T23:00:00+00:00",
          "2021-04-06T02:00:00+00:00",
          "2021-04-06T03:00:00+00:00",
          "2021-04-06T04:00:00+00:00",
          "2021-04-06T05:00:00+00:00",
          "2021-04-06T06:00:00+00:00",
          "2021-04-06T07:00:00+00:00",
          "2021-04-06T08:00:00+00:00",
          "2021-04-06T10:00:00+00:00",
          "2021-04-06T11:00:00+00:00",
          "2021-04-06T12:00:00+00:00",
          "2021-04-06T15:00:00+00:00",
          "2021-04-06T16:00:00+00:00",
          "2021-04-06T18:00:00+00:00",
          "2021-04-06T20:00:00+00:00",
          "2021-04-06T21:00:00+00:00",
          "2021-04-07T05:00:00+00:00",
          "2021-04-07T11:00:00+00:00",
          "2021-04-07T15:00:00+00:00",
          "2021-04-07T17:00:00+00:00",
          "2021-04-07T22:00:00+00:00",
          "2021-04-07T23:00:00+00:00",
          "2021-04-08T02:00:00+00:00",
          "2021-04-08T05:00:00+00:00",
          "2021-04-08T06:00:00+00:00",
          "2021-04-08T07:00:00+00:00",
          "2021-04-08T10:00:00+00:00",
          "2021-04-08T12:00:00+00:00",
          "2021-04-08T13:00:00+00:00",
          "2021-04-08T19:00:00+00:00",
          "2021-04-08T20:00:00+00:00",
          "2021-04-08T22:00:00+00:00",
          "2021-04-08T23:00:00+00:00",
          "2021-04-09T00:00:00+00:00",
          "2021-04-09T03:00:00+00:00",
          "2021-04-09T06:00:00+00:00",
          "2021-04-09T08:00:00+00:00",
          "2021-04-09T09:00:00+00:00",
          "2021-04-09T10:00:00+00:00",
          "2021-04-09T11:00:00+00:00",
          "2021-04-09T12:00:00+00:00",
          "2021-04-09T13:00:00+00:00",
          "2021-04-09T14:00:00+00:00",
          "2021-04-09T15:00:00+00:00",
          "2021-04-09T16:00:00+00:00",
          "2021-04-09T18:00:00+00:00",
          "2021-04-09T19:00:00+00:00",
          "2021-04-09T20:00:00+00:00",
          "2021-04-11T21:00:00+00:00",
          "2021-04-11T23:00:00+00:00",
          "2021-04-12T02:00:00+00:00",
          "2021-04-12T03:00:00+00:00",
          "2021-04-12T05:00:00+00:00",
          "2021-04-12T06:00:00+00:00",
          "2021-04-12T07:00:00+00:00",
          "2021-04-12T08:00:00+00:00",
          "2021-04-12T09:00:00+00:00",
          "2021-04-12T10:00:00+00:00",
          "2021-04-12T11:00:00+00:00",
          "2021-04-12T12:00:00+00:00",
          "2021-04-12T13:00:00+00:00",
          "2021-04-12T16:00:00+00:00",
          "2021-04-12T17:00:00+00:00",
          "2021-04-12T18:00:00+00:00",
          "2021-04-13T01:00:00+00:00",
          "2021-04-13T04:00:00+00:00",
          "2021-04-13T05:00:00+00:00",
          "2021-04-13T07:00:00+00:00",
          "2021-04-13T09:00:00+00:00",
          "2021-04-13T10:00:00+00:00",
          "2021-04-13T11:00:00+00:00",
          "2021-04-13T12:00:00+00:00",
          "2021-04-13T13:00:00+00:00",
          "2021-04-13T14:00:00+00:00",
          "2021-04-13T15:00:00+00:00",
          "2021-04-13T16:00:00+00:00",
          "2021-04-13T17:00:00+00:00",
          "2021-04-13T18:00:00+00:00",
          "2021-04-13T20:00:00+00:00",
          "2021-04-13T21:00:00+00:00",
          "2021-04-13T22:00:00+00:00",
          "2021-04-14T00:00:00+00:00",
          "2021-04-14T07:00:00+00:00",
          "2021-04-14T08:00:00+00:00",
          "2021-04-14T10:00:00+00:00",
          "2021-04-14T13:00:00+00:00",
          "2021-04-14T14:00:00+00:00",
          "2021-04-14T18:00:00+00:00",
          "2021-04-14T21:00:00+00:00",
          "2021-04-15T04:00:00+00:00",
          "2021-04-15T08:00:00+00:00",
          "2021-04-15T09:00:00+00:00",
          "2021-04-15T10:00:00+00:00",
          "2021-04-15T11:00:00+00:00",
          "2021-04-15T12:00:00+00:00",
          "2021-04-15T15:00:00+00:00",
          "2021-04-15T16:00:00+00:00",
          "2021-04-15T17:00:00+00:00",
          "2021-04-15T18:00:00+00:00",
          "2021-04-15T19:00:00+00:00",
          "2021-04-16T01:00:00+00:00",
          "2021-04-16T03:00:00+00:00",
          "2021-04-16T05:00:00+00:00",
          "2021-04-16T06:00:00+00:00",
          "2021-04-16T07:00:00+00:00",
          "2021-04-16T08:00:00+00:00",
          "2021-04-16T09:00:00+00:00",
          "2021-04-16T10:00:00+00:00",
          "2021-04-16T13:00:00+00:00",
          "2021-04-16T14:00:00+00:00",
          "2021-04-16T15:00:00+00:00",
          "2021-04-16T16:00:00+00:00",
          "2021-04-16T18:00:00+00:00",
          "2021-04-16T19:00:00+00:00",
          "2021-04-18T22:00:00+00:00",
          "2021-04-19T01:00:00+00:00",
          "2021-04-19T02:00:00+00:00",
          "2021-04-19T03:00:00+00:00",
          "2021-04-19T04:00:00+00:00",
          "2021-04-19T07:00:00+00:00",
          "2021-04-19T08:00:00+00:00",
          "2021-04-19T09:00:00+00:00",
          "2021-04-19T10:00:00+00:00",
          "2021-04-19T13:00:00+00:00",
          "2021-04-19T15:00:00+00:00",
          "2021-04-19T17:00:00+00:00",
          "2021-04-19T19:00:00+00:00",
          "2021-04-19T20:00:00+00:00",
          "2021-04-19T21:00:00+00:00",
          "2021-04-19T22:00:00+00:00",
          "2021-04-19T23:00:00+00:00",
          "2021-04-20T00:00:00+00:00",
          "2021-04-20T01:00:00+00:00",
          "2021-04-20T05:00:00+00:00",
          "2021-04-20T07:00:00+00:00",
          "2021-04-20T08:00:00+00:00",
          "2021-04-20T11:00:00+00:00",
          "2021-04-20T12:00:00+00:00",
          "2021-04-20T13:00:00+00:00",
          "2021-04-20T15:00:00+00:00",
          "2021-04-20T16:00:00+00:00",
          "2021-04-20T17:00:00+00:00",
          "2021-04-20T18:00:00+00:00",
          "2021-04-20T19:00:00+00:00",
          "2021-04-20T23:00:00+00:00",
          "2021-04-21T10:00:00+00:00",
          "2021-04-21T11:00:00+00:00",
          "2021-04-21T13:00:00+00:00",
          "2021-04-21T14:00:00+00:00",
          "2021-04-21T15:00:00+00:00",
          "2021-04-21T16:00:00+00:00",
          "2021-04-21T17:00:00+00:00",
          "2021-04-21T20:00:00+00:00",
          "2021-04-21T22:00:00+00:00",
          "2021-04-22T01:00:00+00:00",
          "2021-04-22T02:00:00+00:00",
          "2021-04-22T06:00:00+00:00",
          "2021-04-22T07:00:00+00:00",
          "2021-04-22T08:00:00+00:00",
          "2021-04-22T09:00:00+00:00",
          "2021-04-22T12:00:00+00:00",
          "2021-04-22T14:00:00+00:00",
          "2021-04-22T15:00:00+00:00",
          "2021-04-22T17:00:00+00:00",
          "2021-04-22T18:00:00+00:00",
          "2021-04-22T19:00:00+00:00",
          "2021-04-22T21:00:00+00:00",
          "2021-04-22T23:00:00+00:00",
          "2021-04-23T02:00:00+00:00",
          "2021-04-23T05:00:00+00:00",
          "2021-04-23T08:00:00+00:00",
          "2021-04-23T10:00:00+00:00",
          "2021-04-23T11:00:00+00:00",
          "2021-04-23T12:00:00+00:00",
          "2021-04-23T13:00:00+00:00",
          "2021-04-23T14:00:00+00:00",
          "2021-04-23T17:00:00+00:00",
          "2021-04-23T19:00:00+00:00",
          "2021-04-23T20:00:00+00:00",
          "2021-04-25T21:00:00+00:00",
          "2021-04-25T22:00:00+00:00",
          "2021-04-26T00:00:00+00:00",
          "2021-04-26T07:00:00+00:00",
          "2021-04-26T10:00:00+00:00",
          "2021-04-26T11:00:00+00:00",
          "2021-04-26T12:00:00+00:00",
          "2021-04-26T13:00:00+00:00",
          "2021-04-26T15:00:00+00:00",
          "2021-04-26T17:00:00+00:00",
          "2021-04-26T20:00:00+00:00",
          "2021-04-27T03:00:00+00:00",
          "2021-04-27T06:00:00+00:00",
          "2021-04-27T07:00:00+00:00",
          "2021-04-27T09:00:00+00:00",
          "2021-04-27T10:00:00+00:00",
          "2021-04-27T11:00:00+00:00",
          "2021-04-27T12:00:00+00:00",
          "2021-04-27T13:00:00+00:00",
          "2021-04-27T14:00:00+00:00",
          "2021-04-27T16:00:00+00:00",
          "2021-04-27T17:00:00+00:00",
          "2021-04-27T18:00:00+00:00",
          "2021-04-27T20:00:00+00:00",
          "2021-04-28T00:00:00+00:00",
          "2021-04-28T03:00:00+00:00",
          "2021-04-28T04:00:00+00:00",
          "2021-04-28T05:00:00+00:00",
          "2021-04-28T06:00:00+00:00",
          "2021-04-28T08:00:00+00:00",
          "2021-04-28T09:00:00+00:00",
          "2021-04-28T10:00:00+00:00",
          "2021-04-28T11:00:00+00:00",
          "2021-04-28T12:00:00+00:00",
          "2021-04-28T13:00:00+00:00",
          "2021-04-28T14:00:00+00:00",
          "2021-04-28T15:00:00+00:00",
          "2021-04-28T16:00:00+00:00",
          "2021-04-28T17:00:00+00:00",
          "2021-04-28T18:00:00+00:00",
          "2021-04-28T20:00:00+00:00",
          "2021-04-28T23:00:00+00:00",
          "2021-04-29T00:00:00+00:00",
          "2021-04-29T03:00:00+00:00",
          "2021-04-29T05:00:00+00:00",
          "2021-04-29T09:00:00+00:00",
          "2021-04-29T10:00:00+00:00",
          "2021-04-29T14:00:00+00:00",
          "2021-04-29T16:00:00+00:00",
          "2021-04-29T20:00:00+00:00",
          "2021-04-29T23:00:00+00:00",
          "2021-04-30T00:00:00+00:00",
          "2021-04-30T01:00:00+00:00",
          "2021-04-30T02:00:00+00:00",
          "2021-04-30T06:00:00+00:00",
          "2021-04-30T07:00:00+00:00",
          "2021-04-30T08:00:00+00:00",
          "2021-04-30T12:00:00+00:00",
          "2021-04-30T13:00:00+00:00",
          "2021-04-30T14:00:00+00:00",
          "2021-04-30T15:00:00+00:00",
          "2021-04-30T17:00:00+00:00",
          "2021-05-03T03:00:00+00:00",
          "2021-05-03T07:00:00+00:00",
          "2021-05-03T11:00:00+00:00",
          "2021-05-03T12:00:00+00:00",
          "2021-05-03T13:00:00+00:00",
          "2021-05-03T14:00:00+00:00",
          "2021-05-03T15:00:00+00:00",
          "2021-05-03T16:00:00+00:00",
          "2021-05-03T17:00:00+00:00",
          "2021-05-03T18:00:00+00:00",
          "2021-05-04T03:00:00+00:00",
          "2021-05-04T04:00:00+00:00",
          "2021-05-04T05:00:00+00:00",
          "2021-05-04T06:00:00+00:00",
          "2021-05-04T07:00:00+00:00",
          "2021-05-04T08:00:00+00:00",
          "2021-05-04T09:00:00+00:00",
          "2021-05-04T12:00:00+00:00",
          "2021-05-04T13:00:00+00:00",
          "2021-05-04T14:00:00+00:00",
          "2021-05-04T16:00:00+00:00",
          "2021-05-04T19:00:00+00:00",
          "2021-05-04T21:00:00+00:00",
          "2021-05-04T22:00:00+00:00",
          "2021-05-05T00:00:00+00:00",
          "2021-05-05T01:00:00+00:00",
          "2021-05-05T02:00:00+00:00",
          "2021-05-05T03:00:00+00:00",
          "2021-05-05T04:00:00+00:00",
          "2021-05-05T05:00:00+00:00",
          "2021-05-05T06:00:00+00:00",
          "2021-05-05T07:00:00+00:00",
          "2021-05-05T08:00:00+00:00",
          "2021-05-05T10:00:00+00:00",
          "2021-05-05T15:00:00+00:00",
          "2021-05-05T16:00:00+00:00",
          "2021-05-05T17:00:00+00:00",
          "2021-05-05T19:00:00+00:00",
          "2021-05-05T22:00:00+00:00",
          "2021-05-05T23:00:00+00:00",
          "2021-05-06T04:00:00+00:00",
          "2021-05-06T05:00:00+00:00",
          "2021-05-06T06:00:00+00:00",
          "2021-05-06T07:00:00+00:00",
          "2021-05-06T09:00:00+00:00",
          "2021-05-06T10:00:00+00:00",
          "2021-05-06T11:00:00+00:00",
          "2021-05-06T13:00:00+00:00",
          "2021-05-06T14:00:00+00:00",
          "2021-05-06T16:00:00+00:00",
          "2021-05-06T17:00:00+00:00",
          "2021-05-06T18:00:00+00:00",
          "2021-05-07T04:00:00+00:00",
          "2021-05-07T07:00:00+00:00",
          "2021-05-07T10:00:00+00:00",
          "2021-05-07T12:00:00+00:00",
          "2021-05-07T13:00:00+00:00",
          "2021-05-07T14:00:00+00:00",
          "2021-05-07T16:00:00+00:00",
          "2021-05-09T22:00:00+00:00",
          "2021-05-10T00:00:00+00:00",
          "2021-05-10T01:00:00+00:00",
          "2021-05-10T02:00:00+00:00",
          "2021-05-10T03:00:00+00:00",
          "2021-05-10T05:00:00+00:00",
          "2021-05-10T06:00:00+00:00",
          "2021-05-10T08:00:00+00:00",
          "2021-05-10T09:00:00+00:00",
          "2021-05-10T10:00:00+00:00",
          "2021-05-10T12:00:00+00:00",
          "2021-05-10T13:00:00+00:00",
          "2021-05-10T14:00:00+00:00",
          "2021-05-10T17:00:00+00:00",
          "2021-05-10T20:00:00+00:00",
          "2021-05-10T21:00:00+00:00",
          "2021-05-10T22:00:00+00:00",
          "2021-05-10T23:00:00+00:00",
          "2021-05-11T08:00:00+00:00",
          "2021-05-11T09:00:00+00:00",
          "2021-05-11T10:00:00+00:00",
          "2021-05-11T11:00:00+00:00",
          "2021-05-11T12:00:00+00:00",
          "2021-05-11T13:00:00+00:00",
          "2021-05-11T15:00:00+00:00",
          "2021-05-11T17:00:00+00:00",
          "2021-05-12T00:00:00+00:00",
          "2021-05-12T01:00:00+00:00",
          "2021-05-12T02:00:00+00:00",
          "2021-05-12T04:00:00+00:00",
          "2021-05-12T05:00:00+00:00",
          "2021-05-12T09:00:00+00:00",
          "2021-05-12T10:00:00+00:00",
          "2021-05-12T11:00:00+00:00",
          "2021-05-12T12:00:00+00:00",
          "2021-05-12T15:00:00+00:00",
          "2021-05-12T16:00:00+00:00",
          "2021-05-12T20:00:00+00:00",
          "2021-05-12T21:00:00+00:00",
          "2021-05-12T22:00:00+00:00",
          "2021-05-13T03:00:00+00:00",
          "2021-05-13T09:00:00+00:00",
          "2021-05-13T10:00:00+00:00",
          "2021-05-13T11:00:00+00:00",
          "2021-05-13T13:00:00+00:00",
          "2021-05-13T14:00:00+00:00",
          "2021-05-13T16:00:00+00:00",
          "2021-05-13T17:00:00+00:00",
          "2021-05-13T18:00:00+00:00",
          "2021-05-13T19:00:00+00:00",
          "2021-05-13T20:00:00+00:00",
          "2021-05-13T21:00:00+00:00",
          "2021-05-13T23:00:00+00:00",
          "2021-05-14T00:00:00+00:00",
          "2021-05-14T01:00:00+00:00",
          "2021-05-14T02:00:00+00:00",
          "2021-05-14T05:00:00+00:00",
          "2021-05-14T06:00:00+00:00",
          "2021-05-14T11:00:00+00:00",
          "2021-05-14T12:00:00+00:00",
          "2021-05-14T13:00:00+00:00",
          "2021-05-14T14:00:00+00:00",
          "2021-05-14T16:00:00+00:00",
          "2021-05-14T17:00:00+00:00",
          "2021-05-14T19:00:00+00:00",
          "2021-05-17T00:00:00+00:00",
          "2021-05-17T04:00:00+00:00",
          "2021-05-17T06:00:00+00:00",
          "2021-05-17T07:00:00+00:00",
          "2021-05-17T08:00:00+00:00",
          "2021-05-17T10:00:00+00:00",
          "2021-05-17T11:00:00+00:00",
          "2021-05-17T12:00:00+00:00",
          "2021-05-17T13:00:00+00:00",
          "2021-05-17T14:00:00+00:00",
          "2021-05-17T15:00:00+00:00",
          "2021-05-17T16:00:00+00:00",
          "2021-05-17T17:00:00+00:00",
          "2021-05-17T18:00:00+00:00",
          "2021-05-17T20:00:00+00:00",
          "2021-05-18T00:00:00+00:00",
          "2021-05-18T02:00:00+00:00",
          "2021-05-18T03:00:00+00:00",
          "2021-05-18T04:00:00+00:00",
          "2021-05-18T07:00:00+00:00",
          "2021-05-18T08:00:00+00:00",
          "2021-05-18T10:00:00+00:00",
          "2021-05-18T11:00:00+00:00",
          "2021-05-18T12:00:00+00:00",
          "2021-05-18T13:00:00+00:00",
          "2021-05-18T14:00:00+00:00",
          "2021-05-18T16:00:00+00:00",
          "2021-05-18T20:00:00+00:00",
          "2021-05-18T21:00:00+00:00",
          "2021-05-18T22:00:00+00:00",
          "2021-05-19T00:00:00+00:00",
          "2021-05-19T03:00:00+00:00",
          "2021-05-19T07:00:00+00:00",
          "2021-05-19T08:00:00+00:00",
          "2021-05-19T09:00:00+00:00",
          "2021-05-19T10:00:00+00:00",
          "2021-05-19T11:00:00+00:00",
          "2021-05-19T12:00:00+00:00",
          "2021-05-19T13:00:00+00:00",
          "2021-05-19T15:00:00+00:00",
          "2021-05-19T16:00:00+00:00",
          "2021-05-19T17:00:00+00:00",
          "2021-05-19T18:00:00+00:00",
          "2021-05-19T21:00:00+00:00",
          "2021-05-19T22:00:00+00:00",
          "2021-05-20T05:00:00+00:00",
          "2021-05-20T06:00:00+00:00",
          "2021-05-20T07:00:00+00:00",
          "2021-05-20T08:00:00+00:00",
          "2021-05-20T10:00:00+00:00",
          "2021-05-20T11:00:00+00:00",
          "2021-05-20T12:00:00+00:00",
          "2021-05-20T13:00:00+00:00",
          "2021-05-20T14:00:00+00:00",
          "2021-05-20T15:00:00+00:00",
          "2021-05-20T16:00:00+00:00",
          "2021-05-20T17:00:00+00:00",
          "2021-05-20T18:00:00+00:00",
          "2021-05-20T19:00:00+00:00",
          "2021-05-20T20:00:00+00:00",
          "2021-05-20T21:00:00+00:00",
          "2021-05-20T23:00:00+00:00",
          "2021-05-21T02:00:00+00:00",
          "2021-05-21T04:00:00+00:00",
          "2021-05-21T06:00:00+00:00",
          "2021-05-21T07:00:00+00:00",
          "2021-05-21T10:00:00+00:00",
          "2021-05-21T11:00:00+00:00",
          "2021-05-21T12:00:00+00:00",
          "2021-05-21T13:00:00+00:00",
          "2021-05-21T14:00:00+00:00",
          "2021-05-21T15:00:00+00:00",
          "2021-05-21T16:00:00+00:00",
          "2021-05-21T17:00:00+00:00",
          "2021-05-21T18:00:00+00:00",
          "2021-05-21T20:00:00+00:00",
          "2021-05-23T22:00:00+00:00",
          "2021-05-24T01:00:00+00:00",
          "2021-05-24T02:00:00+00:00",
          "2021-05-24T03:00:00+00:00",
          "2021-05-24T04:00:00+00:00",
          "2021-05-24T05:00:00+00:00",
          "2021-05-24T07:00:00+00:00",
          "2021-05-24T08:00:00+00:00",
          "2021-05-24T10:00:00+00:00",
          "2021-05-24T11:00:00+00:00",
          "2021-05-24T12:00:00+00:00",
          "2021-05-24T13:00:00+00:00",
          "2021-05-24T15:00:00+00:00",
          "2021-05-24T16:00:00+00:00",
          "2021-05-24T17:00:00+00:00",
          "2021-05-24T19:00:00+00:00",
          "2021-05-24T22:00:00+00:00",
          "2021-05-25T01:00:00+00:00",
          "2021-05-25T02:00:00+00:00",
          "2021-05-25T05:00:00+00:00",
          "2021-05-25T07:00:00+00:00",
          "2021-05-25T10:00:00+00:00",
          "2021-05-25T12:00:00+00:00",
          "2021-05-25T13:00:00+00:00",
          "2021-05-25T15:00:00+00:00",
          "2021-05-25T16:00:00+00:00",
          "2021-05-25T17:00:00+00:00",
          "2021-05-25T19:00:00+00:00",
          "2021-05-25T23:00:00+00:00",
          "2021-05-26T02:00:00+00:00",
          "2021-05-26T06:00:00+00:00",
          "2021-05-26T07:00:00+00:00",
          "2021-05-26T08:00:00+00:00",
          "2021-05-26T09:00:00+00:00",
          "2021-05-26T10:00:00+00:00",
          "2021-05-26T11:00:00+00:00",
          "2021-05-26T12:00:00+00:00",
          "2021-05-26T13:00:00+00:00",
          "2021-05-26T14:00:00+00:00",
          "2021-05-27T03:00:00+00:00",
          "2021-05-27T05:00:00+00:00",
          "2021-05-27T06:00:00+00:00",
          "2021-05-27T07:00:00+00:00",
          "2021-05-27T08:00:00+00:00",
          "2021-05-27T10:00:00+00:00",
          "2021-05-27T11:00:00+00:00",
          "2021-05-27T12:00:00+00:00",
          "2021-05-27T13:00:00+00:00",
          "2021-05-27T14:00:00+00:00",
          "2021-05-27T20:00:00+00:00",
          "2021-05-27T21:00:00+00:00",
          "2021-05-28T00:00:00+00:00",
          "2021-05-28T01:00:00+00:00",
          "2021-05-28T06:00:00+00:00",
          "2021-05-28T08:00:00+00:00",
          "2021-05-28T10:00:00+00:00",
          "2021-05-28T11:00:00+00:00",
          "2021-05-28T13:00:00+00:00",
          "2021-05-28T15:00:00+00:00",
          "2021-05-28T18:00:00+00:00",
          "2021-05-28T19:00:00+00:00",
          "2021-05-28T20:00:00+00:00",
          "2021-05-30T21:00:00+00:00",
          "2021-05-30T23:00:00+00:00",
          "2021-05-31T00:00:00+00:00",
          "2021-05-31T01:00:00+00:00",
          "2021-05-31T03:00:00+00:00",
          "2021-05-31T07:00:00+00:00",
          "2021-05-31T08:00:00+00:00",
          "2021-05-31T09:00:00+00:00",
          "2021-05-31T10:00:00+00:00",
          "2021-05-31T11:00:00+00:00",
          "2021-05-31T12:00:00+00:00",
          "2021-05-31T13:00:00+00:00",
          "2021-05-31T14:00:00+00:00",
          "2021-05-31T15:00:00+00:00",
          "2021-05-31T17:00:00+00:00",
          "2021-05-31T19:00:00+00:00",
          "2021-05-31T20:00:00+00:00",
          "2021-05-31T22:00:00+00:00",
          "2021-06-01T01:00:00+00:00",
          "2021-06-01T02:00:00+00:00",
          "2021-06-01T03:00:00+00:00",
          "2021-06-01T07:00:00+00:00",
          "2021-06-01T08:00:00+00:00",
          "2021-06-01T09:00:00+00:00",
          "2021-06-01T10:00:00+00:00",
          "2021-06-01T11:00:00+00:00",
          "2021-06-01T12:00:00+00:00",
          "2021-06-01T13:00:00+00:00",
          "2021-06-01T14:00:00+00:00",
          "2021-06-01T15:00:00+00:00",
          "2021-06-01T17:00:00+00:00",
          "2021-06-01T20:00:00+00:00",
          "2021-06-01T21:00:00+00:00",
          "2021-06-02T01:00:00+00:00",
          "2021-06-02T02:00:00+00:00",
          "2021-06-02T05:00:00+00:00",
          "2021-06-02T06:00:00+00:00",
          "2021-06-02T07:00:00+00:00",
          "2021-06-02T08:00:00+00:00",
          "2021-06-02T10:00:00+00:00",
          "2021-06-02T11:00:00+00:00",
          "2021-06-02T12:00:00+00:00",
          "2021-06-02T13:00:00+00:00",
          "2021-06-02T17:00:00+00:00",
          "2021-06-02T18:00:00+00:00",
          "2021-06-02T20:00:00+00:00",
          "2021-06-02T22:00:00+00:00",
          "2021-06-03T00:00:00+00:00",
          "2021-06-03T03:00:00+00:00",
          "2021-06-03T05:00:00+00:00",
          "2021-06-03T06:00:00+00:00",
          "2021-06-03T07:00:00+00:00",
          "2021-06-03T10:00:00+00:00",
          "2021-06-03T11:00:00+00:00",
          "2021-06-03T12:00:00+00:00",
          "2021-06-03T14:00:00+00:00",
          "2021-06-03T16:00:00+00:00",
          "2021-06-03T19:00:00+00:00",
          "2021-06-03T23:00:00+00:00",
          "2021-06-04T02:00:00+00:00",
          "2021-06-04T03:00:00+00:00",
          "2021-06-04T05:00:00+00:00",
          "2021-06-04T06:00:00+00:00",
          "2021-06-04T10:00:00+00:00",
          "2021-06-04T12:00:00+00:00",
          "2021-06-04T13:00:00+00:00",
          "2021-06-04T14:00:00+00:00",
          "2021-06-04T15:00:00+00:00",
          "2021-06-04T16:00:00+00:00",
          "2021-06-04T17:00:00+00:00",
          "2021-06-07T00:00:00+00:00",
          "2021-06-07T03:00:00+00:00",
          "2021-06-07T08:00:00+00:00",
          "2021-06-07T13:00:00+00:00",
          "2021-06-07T17:00:00+00:00",
          "2021-06-07T19:00:00+00:00",
          "2021-06-07T20:00:00+00:00",
          "2021-06-07T21:00:00+00:00",
          "2021-06-07T22:00:00+00:00",
          "2021-06-08T00:00:00+00:00",
          "2021-06-08T01:00:00+00:00",
          "2021-06-08T03:00:00+00:00",
          "2021-06-08T04:00:00+00:00",
          "2021-06-08T06:00:00+00:00",
          "2021-06-08T07:00:00+00:00",
          "2021-06-08T08:00:00+00:00",
          "2021-06-08T09:00:00+00:00",
          "2021-06-08T11:00:00+00:00",
          "2021-06-08T14:00:00+00:00",
          "2021-06-08T17:00:00+00:00",
          "2021-06-08T19:00:00+00:00",
          "2021-06-08T20:00:00+00:00",
          "2021-06-08T22:00:00+00:00",
          "2021-06-09T02:00:00+00:00",
          "2021-06-09T03:00:00+00:00",
          "2021-06-09T06:00:00+00:00",
          "2021-06-09T07:00:00+00:00",
          "2021-06-09T08:00:00+00:00",
          "2021-06-09T10:00:00+00:00",
          "2021-06-09T11:00:00+00:00",
          "2021-06-09T13:00:00+00:00",
          "2021-06-09T14:00:00+00:00",
          "2021-06-09T16:00:00+00:00",
          "2021-06-09T18:00:00+00:00",
          "2021-06-09T19:00:00+00:00",
          "2021-06-09T20:00:00+00:00",
          "2021-06-09T21:00:00+00:00",
          "2021-06-09T23:00:00+00:00",
          "2021-06-10T00:00:00+00:00",
          "2021-06-10T02:00:00+00:00",
          "2021-06-10T04:00:00+00:00",
          "2021-06-10T06:00:00+00:00",
          "2021-06-10T07:00:00+00:00",
          "2021-06-10T08:00:00+00:00",
          "2021-06-10T10:00:00+00:00",
          "2021-06-10T12:00:00+00:00",
          "2021-06-10T13:00:00+00:00",
          "2021-06-10T14:00:00+00:00",
          "2021-06-10T15:00:00+00:00",
          "2021-06-10T16:00:00+00:00",
          "2021-06-10T18:00:00+00:00",
          "2021-06-10T20:00:00+00:00",
          "2021-06-10T21:00:00+00:00",
          "2021-06-10T22:00:00+00:00",
          "2021-06-11T00:00:00+00:00",
          "2021-06-11T01:00:00+00:00",
          "2021-06-11T02:00:00+00:00",
          "2021-06-11T03:00:00+00:00",
          "2021-06-11T04:00:00+00:00",
          "2021-06-11T05:00:00+00:00",
          "2021-06-11T06:00:00+00:00",
          "2021-06-11T07:00:00+00:00",
          "2021-06-11T10:00:00+00:00",
          "2021-06-11T11:00:00+00:00",
          "2021-06-11T12:00:00+00:00",
          "2021-06-11T13:00:00+00:00",
          "2021-06-11T14:00:00+00:00",
          "2021-06-11T15:00:00+00:00",
          "2021-06-11T16:00:00+00:00",
          "2021-06-11T18:00:00+00:00",
          "2021-06-13T21:00:00+00:00",
          "2021-06-13T23:00:00+00:00",
          "2021-06-14T03:00:00+00:00",
          "2021-06-14T04:00:00+00:00",
          "2021-06-14T06:00:00+00:00",
          "2021-06-14T08:00:00+00:00",
          "2021-06-14T09:00:00+00:00",
          "2021-06-14T10:00:00+00:00",
          "2021-06-14T11:00:00+00:00",
          "2021-06-14T13:00:00+00:00",
          "2021-06-14T14:00:00+00:00",
          "2021-06-14T15:00:00+00:00",
          "2021-06-14T16:00:00+00:00",
          "2021-06-14T17:00:00+00:00",
          "2021-06-14T18:00:00+00:00",
          "2021-06-14T19:00:00+00:00",
          "2021-06-14T20:00:00+00:00",
          "2021-06-14T23:00:00+00:00",
          "2021-06-15T00:00:00+00:00",
          "2021-06-15T01:00:00+00:00",
          "2021-06-15T02:00:00+00:00",
          "2021-06-15T07:00:00+00:00",
          "2021-06-15T08:00:00+00:00",
          "2021-06-15T09:00:00+00:00",
          "2021-06-15T10:00:00+00:00",
          "2021-06-15T11:00:00+00:00",
          "2021-06-15T12:00:00+00:00",
          "2021-06-15T13:00:00+00:00",
          "2021-06-15T14:00:00+00:00",
          "2021-06-15T15:00:00+00:00",
          "2021-06-15T19:00:00+00:00",
          "2021-06-15T23:00:00+00:00",
          "2021-06-16T04:00:00+00:00",
          "2021-06-16T05:00:00+00:00",
          "2021-06-16T06:00:00+00:00",
          "2021-06-16T07:00:00+00:00",
          "2021-06-16T08:00:00+00:00",
          "2021-06-16T09:00:00+00:00",
          "2021-06-16T12:00:00+00:00",
          "2021-06-16T13:00:00+00:00",
          "2021-06-16T14:00:00+00:00",
          "2021-06-16T15:00:00+00:00",
          "2021-06-16T16:00:00+00:00",
          "2021-06-16T18:00:00+00:00",
          "2021-06-16T19:00:00+00:00",
          "2021-06-16T21:00:00+00:00",
          "2021-06-16T23:00:00+00:00",
          "2021-06-17T01:00:00+00:00",
          "2021-06-17T04:00:00+00:00",
          "2021-06-17T09:00:00+00:00",
          "2021-06-17T10:00:00+00:00",
          "2021-06-17T12:00:00+00:00",
          "2021-06-17T15:00:00+00:00",
          "2021-06-17T18:00:00+00:00",
          "2021-06-17T21:00:00+00:00",
          "2021-06-18T04:00:00+00:00",
          "2021-06-18T06:00:00+00:00",
          "2021-06-18T07:00:00+00:00",
          "2021-06-18T08:00:00+00:00",
          "2021-06-18T09:00:00+00:00",
          "2021-06-18T16:00:00+00:00",
          "2021-06-18T19:00:00+00:00",
          "2021-06-20T21:00:00+00:00",
          "2021-06-20T23:00:00+00:00",
          "2021-06-21T01:00:00+00:00",
          "2021-06-21T02:00:00+00:00",
          "2021-06-21T05:00:00+00:00",
          "2021-06-21T06:00:00+00:00",
          "2021-06-21T10:00:00+00:00",
          "2021-06-21T11:00:00+00:00",
          "2021-06-21T12:00:00+00:00",
          "2021-06-21T13:00:00+00:00",
          "2021-06-21T14:00:00+00:00",
          "2021-06-21T15:00:00+00:00",
          "2021-06-21T16:00:00+00:00",
          "2021-06-21T18:00:00+00:00",
          "2021-06-22T03:00:00+00:00",
          "2021-06-22T04:00:00+00:00",
          "2021-06-22T06:00:00+00:00",
          "2021-06-22T09:00:00+00:00",
          "2021-06-22T10:00:00+00:00",
          "2021-06-22T11:00:00+00:00",
          "2021-06-22T12:00:00+00:00",
          "2021-06-22T13:00:00+00:00",
          "2021-06-22T14:00:00+00:00",
          "2021-06-22T15:00:00+00:00",
          "2021-06-22T16:00:00+00:00",
          "2021-06-22T17:00:00+00:00",
          "2021-06-22T18:00:00+00:00",
          "2021-06-22T19:00:00+00:00",
          "2021-06-22T20:00:00+00:00",
          "2021-06-22T22:00:00+00:00",
          "2021-06-23T01:00:00+00:00",
          "2021-06-23T11:00:00+00:00",
          "2021-06-23T18:00:00+00:00",
          "2021-06-23T21:00:00+00:00",
          "2021-06-23T22:00:00+00:00",
          "2021-06-24T00:00:00+00:00",
          "2021-06-24T01:00:00+00:00",
          "2021-06-24T03:00:00+00:00",
          "2021-06-24T07:00:00+00:00",
          "2021-06-24T08:00:00+00:00",
          "2021-06-24T09:00:00+00:00",
          "2021-06-24T10:00:00+00:00",
          "2021-06-24T11:00:00+00:00",
          "2021-06-24T12:00:00+00:00",
          "2021-06-24T14:00:00+00:00",
          "2021-06-24T15:00:00+00:00",
          "2021-06-24T18:00:00+00:00",
          "2021-06-24T19:00:00+00:00",
          "2021-06-24T22:00:00+00:00",
          "2021-06-25T01:00:00+00:00",
          "2021-06-25T02:00:00+00:00",
          "2021-06-25T08:00:00+00:00",
          "2021-06-25T12:00:00+00:00",
          "2021-06-25T14:00:00+00:00",
          "2021-06-25T15:00:00+00:00",
          "2021-06-25T17:00:00+00:00",
          "2021-06-25T19:00:00+00:00",
          "2021-06-27T21:00:00+00:00",
          "2021-06-27T22:00:00+00:00",
          "2021-06-28T01:00:00+00:00",
          "2021-06-28T02:00:00+00:00",
          "2021-06-28T03:00:00+00:00",
          "2021-06-28T06:00:00+00:00",
          "2021-06-28T07:00:00+00:00",
          "2021-06-28T08:00:00+00:00",
          "2021-06-28T09:00:00+00:00",
          "2021-06-28T10:00:00+00:00",
          "2021-06-28T11:00:00+00:00",
          "2021-06-28T12:00:00+00:00",
          "2021-06-28T16:00:00+00:00",
          "2021-06-28T17:00:00+00:00",
          "2021-06-28T20:00:00+00:00",
          "2021-06-29T03:00:00+00:00",
          "2021-06-29T06:00:00+00:00",
          "2021-06-29T09:00:00+00:00",
          "2021-06-29T11:00:00+00:00",
          "2021-06-29T15:00:00+00:00",
          "2021-06-30T00:00:00+00:00",
          "2021-06-30T02:00:00+00:00",
          "2021-06-30T04:00:00+00:00",
          "2021-06-30T05:00:00+00:00",
          "2021-06-30T09:00:00+00:00",
          "2021-06-30T11:00:00+00:00",
          "2021-06-30T12:00:00+00:00",
          "2021-06-30T13:00:00+00:00",
          "2021-06-30T14:00:00+00:00",
          "2021-06-30T15:00:00+00:00",
          "2021-06-30T16:00:00+00:00",
          "2021-06-30T17:00:00+00:00",
          "2021-06-30T18:00:00+00:00",
          "2021-06-30T19:00:00+00:00",
          "2021-06-30T23:00:00+00:00",
          "2021-07-01T04:00:00+00:00",
          "2021-07-01T05:00:00+00:00",
          "2021-07-01T10:00:00+00:00",
          "2021-07-01T11:00:00+00:00",
          "2021-07-01T12:00:00+00:00",
          "2021-07-01T14:00:00+00:00",
          "2021-07-01T16:00:00+00:00",
          "2021-07-01T17:00:00+00:00",
          "2021-07-01T18:00:00+00:00",
          "2021-07-01T20:00:00+00:00",
          "2021-07-01T21:00:00+00:00",
          "2021-07-01T22:00:00+00:00",
          "2021-07-01T23:00:00+00:00",
          "2021-07-02T00:00:00+00:00",
          "2021-07-02T02:00:00+00:00",
          "2021-07-02T03:00:00+00:00",
          "2021-07-02T07:00:00+00:00",
          "2021-07-02T08:00:00+00:00",
          "2021-07-02T09:00:00+00:00",
          "2021-07-02T10:00:00+00:00",
          "2021-07-02T11:00:00+00:00",
          "2021-07-02T12:00:00+00:00",
          "2021-07-02T13:00:00+00:00",
          "2021-07-02T15:00:00+00:00",
          "2021-07-02T16:00:00+00:00",
          "2021-07-02T17:00:00+00:00",
          "2021-07-02T18:00:00+00:00",
          "2021-07-04T21:00:00+00:00",
          "2021-07-04T22:00:00+00:00",
          "2021-07-04T23:00:00+00:00",
          "2021-07-05T06:00:00+00:00",
          "2021-07-05T09:00:00+00:00",
          "2021-07-05T10:00:00+00:00",
          "2021-07-05T11:00:00+00:00",
          "2021-07-05T12:00:00+00:00",
          "2021-07-05T13:00:00+00:00",
          "2021-07-05T18:00:00+00:00",
          "2021-07-05T19:00:00+00:00",
          "2021-07-05T20:00:00+00:00",
          "2021-07-05T21:00:00+00:00",
          "2021-07-05T22:00:00+00:00",
          "2021-07-05T23:00:00+00:00",
          "2021-07-06T04:00:00+00:00",
          "2021-07-06T05:00:00+00:00",
          "2021-07-06T06:00:00+00:00",
          "2021-07-06T10:00:00+00:00",
          "2021-07-06T11:00:00+00:00",
          "2021-07-06T12:00:00+00:00",
          "2021-07-06T13:00:00+00:00",
          "2021-07-06T14:00:00+00:00",
          "2021-07-06T16:00:00+00:00",
          "2021-07-06T17:00:00+00:00",
          "2021-07-06T18:00:00+00:00",
          "2021-07-06T19:00:00+00:00",
          "2021-07-07T11:00:00+00:00",
          "2021-07-07T12:00:00+00:00",
          "2021-07-07T13:00:00+00:00",
          "2021-07-07T15:00:00+00:00",
          "2021-07-07T16:00:00+00:00",
          "2021-07-07T17:00:00+00:00",
          "2021-07-07T18:00:00+00:00",
          "2021-07-07T19:00:00+00:00",
          "2021-07-07T23:00:00+00:00",
          "2021-07-08T00:00:00+00:00",
          "2021-07-08T01:00:00+00:00",
          "2021-07-08T02:00:00+00:00",
          "2021-07-08T03:00:00+00:00",
          "2021-07-08T04:00:00+00:00",
          "2021-07-08T06:00:00+00:00",
          "2021-07-08T07:00:00+00:00",
          "2021-07-08T08:00:00+00:00",
          "2021-07-08T10:00:00+00:00",
          "2021-07-08T14:00:00+00:00",
          "2021-07-09T01:00:00+00:00",
          "2021-07-09T06:00:00+00:00",
          "2021-07-09T07:00:00+00:00",
          "2021-07-09T08:00:00+00:00",
          "2021-07-09T09:00:00+00:00",
          "2021-07-09T10:00:00+00:00",
          "2021-07-09T11:00:00+00:00",
          "2021-07-09T12:00:00+00:00",
          "2021-07-09T13:00:00+00:00",
          "2021-07-09T14:00:00+00:00",
          "2021-07-09T16:00:00+00:00",
          "2021-07-09T17:00:00+00:00",
          "2021-07-09T20:00:00+00:00",
          "2021-07-12T06:00:00+00:00",
          "2021-07-12T09:00:00+00:00",
          "2021-07-12T10:00:00+00:00",
          "2021-07-12T11:00:00+00:00",
          "2021-07-12T12:00:00+00:00",
          "2021-07-12T15:00:00+00:00",
          "2021-07-12T16:00:00+00:00",
          "2021-07-12T17:00:00+00:00",
          "2021-07-12T18:00:00+00:00",
          "2021-07-12T19:00:00+00:00",
          "2021-07-12T20:00:00+00:00",
          "2021-07-12T21:00:00+00:00",
          "2021-07-13T00:00:00+00:00",
          "2021-07-13T01:00:00+00:00",
          "2021-07-13T03:00:00+00:00",
          "2021-07-13T04:00:00+00:00",
          "2021-07-13T05:00:00+00:00",
          "2021-07-13T08:00:00+00:00",
          "2021-07-13T09:00:00+00:00",
          "2021-07-13T10:00:00+00:00",
          "2021-07-13T11:00:00+00:00",
          "2021-07-13T12:00:00+00:00",
          "2021-07-13T13:00:00+00:00",
          "2021-07-13T14:00:00+00:00",
          "2021-07-13T15:00:00+00:00",
          "2021-07-13T17:00:00+00:00",
          "2021-07-13T18:00:00+00:00",
          "2021-07-13T20:00:00+00:00",
          "2021-07-13T21:00:00+00:00",
          "2021-07-13T23:00:00+00:00",
          "2021-07-14T02:00:00+00:00",
          "2021-07-14T03:00:00+00:00",
          "2021-07-14T04:00:00+00:00",
          "2021-07-14T07:00:00+00:00",
          "2021-07-14T09:00:00+00:00",
          "2021-07-14T10:00:00+00:00",
          "2021-07-14T11:00:00+00:00",
          "2021-07-14T12:00:00+00:00",
          "2021-07-14T14:00:00+00:00",
          "2021-07-14T15:00:00+00:00",
          "2021-07-14T16:00:00+00:00",
          "2021-07-14T17:00:00+00:00",
          "2021-07-14T18:00:00+00:00",
          "2021-07-14T19:00:00+00:00",
          "2021-07-14T21:00:00+00:00",
          "2021-07-15T02:00:00+00:00",
          "2021-07-15T04:00:00+00:00",
          "2021-07-15T05:00:00+00:00",
          "2021-07-15T07:00:00+00:00",
          "2021-07-15T08:00:00+00:00",
          "2021-07-15T12:00:00+00:00",
          "2021-07-15T15:00:00+00:00",
          "2021-07-15T16:00:00+00:00",
          "2021-07-15T17:00:00+00:00",
          "2021-07-15T20:00:00+00:00",
          "2021-07-15T22:00:00+00:00",
          "2021-07-15T23:00:00+00:00",
          "2021-07-16T01:00:00+00:00",
          "2021-07-16T02:00:00+00:00",
          "2021-07-16T03:00:00+00:00",
          "2021-07-16T04:00:00+00:00",
          "2021-07-16T05:00:00+00:00",
          "2021-07-16T07:00:00+00:00",
          "2021-07-16T08:00:00+00:00",
          "2021-07-16T09:00:00+00:00",
          "2021-07-16T10:00:00+00:00",
          "2021-07-16T13:00:00+00:00",
          "2021-07-16T14:00:00+00:00",
          "2021-07-16T16:00:00+00:00",
          "2021-07-16T20:00:00+00:00",
          "2021-07-18T21:00:00+00:00",
          "2021-07-18T22:00:00+00:00",
          "2021-07-19T00:00:00+00:00",
          "2021-07-19T05:00:00+00:00",
          "2021-07-19T06:00:00+00:00",
          "2021-07-19T11:00:00+00:00",
          "2021-07-19T16:00:00+00:00",
          "2021-07-19T19:00:00+00:00",
          "2021-07-19T21:00:00+00:00",
          "2021-07-19T23:00:00+00:00",
          "2021-07-20T05:00:00+00:00",
          "2021-07-20T12:00:00+00:00",
          "2021-07-20T13:00:00+00:00",
          "2021-07-20T14:00:00+00:00",
          "2021-07-20T15:00:00+00:00",
          "2021-07-20T17:00:00+00:00",
          "2021-07-20T18:00:00+00:00",
          "2021-07-20T20:00:00+00:00",
          "2021-07-20T21:00:00+00:00",
          "2021-07-21T00:00:00+00:00",
          "2021-07-21T06:00:00+00:00",
          "2021-07-21T08:00:00+00:00",
          "2021-07-21T09:00:00+00:00",
          "2021-07-21T10:00:00+00:00",
          "2021-07-21T12:00:00+00:00",
          "2021-07-21T13:00:00+00:00",
          "2021-07-21T14:00:00+00:00",
          "2021-07-21T15:00:00+00:00",
          "2021-07-22T02:00:00+00:00",
          "2021-07-22T07:00:00+00:00",
          "2021-07-22T08:00:00+00:00",
          "2021-07-22T09:00:00+00:00",
          "2021-07-22T15:00:00+00:00",
          "2021-07-22T16:00:00+00:00",
          "2021-07-22T17:00:00+00:00",
          "2021-07-22T18:00:00+00:00",
          "2021-07-22T19:00:00+00:00",
          "2021-07-23T00:00:00+00:00",
          "2021-07-23T03:00:00+00:00",
          "2021-07-23T04:00:00+00:00",
          "2021-07-23T06:00:00+00:00",
          "2021-07-23T09:00:00+00:00",
          "2021-07-23T10:00:00+00:00",
          "2021-07-23T12:00:00+00:00",
          "2021-07-23T17:00:00+00:00",
          "2021-07-23T18:00:00+00:00",
          "2021-07-25T21:00:00+00:00",
          "2021-07-25T22:00:00+00:00",
          "2021-07-25T23:00:00+00:00",
          "2021-07-26T00:00:00+00:00",
          "2021-07-26T01:00:00+00:00",
          "2021-07-26T03:00:00+00:00",
          "2021-07-26T05:00:00+00:00",
          "2021-07-26T06:00:00+00:00",
          "2021-07-26T07:00:00+00:00",
          "2021-07-26T08:00:00+00:00",
          "2021-07-26T10:00:00+00:00",
          "2021-07-26T11:00:00+00:00",
          "2021-07-26T12:00:00+00:00",
          "2021-07-26T13:00:00+00:00",
          "2021-07-26T14:00:00+00:00",
          "2021-07-26T15:00:00+00:00",
          "2021-07-26T16:00:00+00:00",
          "2021-07-26T18:00:00+00:00",
          "2021-07-26T20:00:00+00:00",
          "2021-07-26T22:00:00+00:00",
          "2021-07-27T01:00:00+00:00",
          "2021-07-27T04:00:00+00:00",
          "2021-07-27T06:00:00+00:00",
          "2021-07-27T07:00:00+00:00",
          "2021-07-27T08:00:00+00:00",
          "2021-07-27T09:00:00+00:00",
          "2021-07-27T11:00:00+00:00",
          "2021-07-27T12:00:00+00:00",
          "2021-07-27T13:00:00+00:00",
          "2021-07-27T15:00:00+00:00",
          "2021-07-27T16:00:00+00:00",
          "2021-07-27T21:00:00+00:00",
          "2021-07-28T01:00:00+00:00",
          "2021-07-28T02:00:00+00:00",
          "2021-07-28T03:00:00+00:00",
          "2021-07-28T10:00:00+00:00",
          "2021-07-28T11:00:00+00:00",
          "2021-07-28T12:00:00+00:00",
          "2021-07-28T13:00:00+00:00",
          "2021-07-28T14:00:00+00:00",
          "2021-07-28T16:00:00+00:00",
          "2021-07-28T18:00:00+00:00",
          "2021-07-28T20:00:00+00:00",
          "2021-07-28T22:00:00+00:00",
          "2021-07-28T23:00:00+00:00",
          "2021-07-29T00:00:00+00:00",
          "2021-07-29T01:00:00+00:00",
          "2021-07-29T04:00:00+00:00",
          "2021-07-29T07:00:00+00:00",
          "2021-07-29T08:00:00+00:00",
          "2021-07-29T09:00:00+00:00",
          "2021-07-29T10:00:00+00:00",
          "2021-07-29T13:00:00+00:00",
          "2021-07-29T14:00:00+00:00",
          "2021-07-29T17:00:00+00:00",
          "2021-07-29T21:00:00+00:00",
          "2021-07-29T22:00:00+00:00",
          "2021-07-30T02:00:00+00:00",
          "2021-07-30T03:00:00+00:00",
          "2021-07-30T07:00:00+00:00",
          "2021-07-30T08:00:00+00:00",
          "2021-07-30T09:00:00+00:00",
          "2021-07-30T10:00:00+00:00",
          "2021-07-30T12:00:00+00:00",
          "2021-07-30T13:00:00+00:00",
          "2021-07-30T14:00:00+00:00",
          "2021-07-30T15:00:00+00:00",
          "2021-07-30T16:00:00+00:00",
          "2021-07-30T20:00:00+00:00",
          "2021-08-01T21:00:00+00:00",
          "2021-08-01T22:00:00+00:00",
          "2021-08-02T07:00:00+00:00",
          "2021-08-02T09:00:00+00:00",
          "2021-08-02T10:00:00+00:00",
          "2021-08-02T11:00:00+00:00",
          "2021-08-02T12:00:00+00:00",
          "2021-08-02T13:00:00+00:00",
          "2021-08-02T14:00:00+00:00",
          "2021-08-02T16:00:00+00:00",
          "2021-08-02T18:00:00+00:00",
          "2021-08-02T19:00:00+00:00",
          "2021-08-02T22:00:00+00:00",
          "2021-08-02T23:00:00+00:00",
          "2021-08-03T04:00:00+00:00",
          "2021-08-03T08:00:00+00:00",
          "2021-08-03T16:00:00+00:00",
          "2021-08-03T21:00:00+00:00",
          "2021-08-04T05:00:00+00:00",
          "2021-08-04T07:00:00+00:00",
          "2021-08-04T08:00:00+00:00",
          "2021-08-04T09:00:00+00:00",
          "2021-08-04T10:00:00+00:00",
          "2021-08-04T11:00:00+00:00",
          "2021-08-04T12:00:00+00:00",
          "2021-08-04T13:00:00+00:00",
          "2021-08-04T14:00:00+00:00",
          "2021-08-04T15:00:00+00:00",
          "2021-08-04T16:00:00+00:00",
          "2021-08-04T18:00:00+00:00",
          "2021-08-04T19:00:00+00:00",
          "2021-08-04T22:00:00+00:00",
          "2021-08-05T01:00:00+00:00",
          "2021-08-05T05:00:00+00:00",
          "2021-08-05T06:00:00+00:00",
          "2021-08-05T11:00:00+00:00",
          "2021-08-05T14:00:00+00:00",
          "2021-08-05T15:00:00+00:00",
          "2021-08-05T16:00:00+00:00",
          "2021-08-05T18:00:00+00:00",
          "2021-08-05T23:00:00+00:00",
          "2021-08-06T00:00:00+00:00",
          "2021-08-06T01:00:00+00:00",
          "2021-08-06T04:00:00+00:00",
          "2021-08-06T08:00:00+00:00",
          "2021-08-06T09:00:00+00:00",
          "2021-08-06T10:00:00+00:00",
          "2021-08-06T11:00:00+00:00",
          "2021-08-06T12:00:00+00:00",
          "2021-08-06T14:00:00+00:00",
          "2021-08-06T16:00:00+00:00",
          "2021-08-06T19:00:00+00:00",
          "2021-08-06T20:00:00+00:00",
          "2021-08-09T02:00:00+00:00",
          "2021-08-09T06:00:00+00:00",
          "2021-08-09T07:00:00+00:00",
          "2021-08-09T08:00:00+00:00",
          "2021-08-09T09:00:00+00:00",
          "2021-08-09T10:00:00+00:00",
          "2021-08-09T12:00:00+00:00",
          "2021-08-09T14:00:00+00:00",
          "2021-08-09T15:00:00+00:00",
          "2021-08-09T16:00:00+00:00",
          "2021-08-09T18:00:00+00:00",
          "2021-08-09T19:00:00+00:00",
          "2021-08-09T23:00:00+00:00",
          "2021-08-10T04:00:00+00:00",
          "2021-08-10T05:00:00+00:00",
          "2021-08-10T06:00:00+00:00",
          "2021-08-10T07:00:00+00:00",
          "2021-08-10T08:00:00+00:00",
          "2021-08-10T10:00:00+00:00",
          "2021-08-10T11:00:00+00:00",
          "2021-08-10T12:00:00+00:00",
          "2021-08-10T13:00:00+00:00",
          "2021-08-10T14:00:00+00:00",
          "2021-08-10T15:00:00+00:00",
          "2021-08-10T16:00:00+00:00",
          "2021-08-11T01:00:00+00:00",
          "2021-08-11T03:00:00+00:00",
          "2021-08-11T06:00:00+00:00",
          "2021-08-11T12:00:00+00:00",
          "2021-08-11T14:00:00+00:00",
          "2021-08-11T15:00:00+00:00",
          "2021-08-11T16:00:00+00:00",
          "2021-08-11T17:00:00+00:00",
          "2021-08-11T18:00:00+00:00",
          "2021-08-11T19:00:00+00:00",
          "2021-08-11T20:00:00+00:00",
          "2021-08-11T22:00:00+00:00",
          "2021-08-12T00:00:00+00:00",
          "2021-08-12T05:00:00+00:00",
          "2021-08-12T06:00:00+00:00",
          "2021-08-12T07:00:00+00:00",
          "2021-08-12T08:00:00+00:00",
          "2021-08-12T09:00:00+00:00",
          "2021-08-12T10:00:00+00:00",
          "2021-08-12T11:00:00+00:00",
          "2021-08-12T12:00:00+00:00",
          "2021-08-12T13:00:00+00:00",
          "2021-08-12T14:00:00+00:00",
          "2021-08-12T15:00:00+00:00",
          "2021-08-12T16:00:00+00:00",
          "2021-08-12T22:00:00+00:00",
          "2021-08-13T03:00:00+00:00",
          "2021-08-13T05:00:00+00:00",
          "2021-08-13T07:00:00+00:00",
          "2021-08-13T10:00:00+00:00",
          "2021-08-13T11:00:00+00:00",
          "2021-08-13T13:00:00+00:00",
          "2021-08-13T14:00:00+00:00",
          "2021-08-13T15:00:00+00:00",
          "2021-08-13T19:00:00+00:00",
          "2021-08-16T01:00:00+00:00",
          "2021-08-16T03:00:00+00:00",
          "2021-08-16T05:00:00+00:00",
          "2021-08-16T11:00:00+00:00",
          "2021-08-16T13:00:00+00:00",
          "2021-08-16T14:00:00+00:00",
          "2021-08-16T15:00:00+00:00",
          "2021-08-16T16:00:00+00:00",
          "2021-08-16T17:00:00+00:00",
          "2021-08-16T20:00:00+00:00",
          "2021-08-17T00:00:00+00:00",
          "2021-08-17T02:00:00+00:00",
          "2021-08-17T03:00:00+00:00",
          "2021-08-17T09:00:00+00:00",
          "2021-08-17T13:00:00+00:00",
          "2021-08-17T17:00:00+00:00",
          "2021-08-17T21:00:00+00:00",
          "2021-08-18T00:00:00+00:00",
          "2021-08-18T03:00:00+00:00",
          "2021-08-18T05:00:00+00:00",
          "2021-08-18T06:00:00+00:00",
          "2021-08-18T07:00:00+00:00",
          "2021-08-18T08:00:00+00:00",
          "2021-08-18T09:00:00+00:00",
          "2021-08-18T10:00:00+00:00",
          "2021-08-18T11:00:00+00:00",
          "2021-08-18T12:00:00+00:00",
          "2021-08-18T13:00:00+00:00",
          "2021-08-18T14:00:00+00:00",
          "2021-08-18T15:00:00+00:00",
          "2021-08-18T16:00:00+00:00",
          "2021-08-18T19:00:00+00:00",
          "2021-08-18T23:00:00+00:00",
          "2021-08-19T01:00:00+00:00",
          "2021-08-19T07:00:00+00:00",
          "2021-08-19T08:00:00+00:00",
          "2021-08-19T09:00:00+00:00",
          "2021-08-19T11:00:00+00:00",
          "2021-08-19T12:00:00+00:00",
          "2021-08-19T13:00:00+00:00",
          "2021-08-19T17:00:00+00:00",
          "2021-08-19T18:00:00+00:00",
          "2021-08-20T04:00:00+00:00",
          "2021-08-20T07:00:00+00:00",
          "2021-08-20T11:00:00+00:00",
          "2021-08-20T14:00:00+00:00",
          "2021-08-20T15:00:00+00:00",
          "2021-08-20T16:00:00+00:00",
          "2021-08-20T17:00:00+00:00",
          "2021-08-20T18:00:00+00:00",
          "2021-08-20T19:00:00+00:00",
          "2021-08-20T20:00:00+00:00",
          "2021-08-22T21:00:00+00:00",
          "2021-08-22T22:00:00+00:00",
          "2021-08-22T23:00:00+00:00",
          "2021-08-23T01:00:00+00:00",
          "2021-08-23T04:00:00+00:00",
          "2021-08-23T11:00:00+00:00",
          "2021-08-23T12:00:00+00:00",
          "2021-08-23T18:00:00+00:00",
          "2021-08-24T08:00:00+00:00",
          "2021-08-24T09:00:00+00:00",
          "2021-08-24T13:00:00+00:00",
          "2021-08-24T15:00:00+00:00",
          "2021-08-24T18:00:00+00:00",
          "2021-08-24T19:00:00+00:00",
          "2021-08-24T20:00:00+00:00",
          "2021-08-24T21:00:00+00:00",
          "2021-08-24T23:00:00+00:00",
          "2021-08-25T01:00:00+00:00",
          "2021-08-25T05:00:00+00:00",
          "2021-08-25T06:00:00+00:00",
          "2021-08-25T08:00:00+00:00",
          "2021-08-25T09:00:00+00:00",
          "2021-08-25T11:00:00+00:00",
          "2021-08-25T13:00:00+00:00",
          "2021-08-25T15:00:00+00:00",
          "2021-08-25T17:00:00+00:00",
          "2021-08-25T18:00:00+00:00",
          "2021-08-25T21:00:00+00:00",
          "2021-08-25T22:00:00+00:00",
          "2021-08-26T03:00:00+00:00",
          "2021-08-26T07:00:00+00:00",
          "2021-08-26T09:00:00+00:00",
          "2021-08-26T10:00:00+00:00",
          "2021-08-26T12:00:00+00:00",
          "2021-08-26T13:00:00+00:00",
          "2021-08-26T14:00:00+00:00",
          "2021-08-26T15:00:00+00:00",
          "2021-08-26T16:00:00+00:00",
          "2021-08-26T17:00:00+00:00",
          "2021-08-26T18:00:00+00:00",
          "2021-08-26T19:00:00+00:00",
          "2021-08-26T20:00:00+00:00",
          "2021-08-26T22:00:00+00:00",
          "2021-08-27T00:00:00+00:00",
          "2021-08-27T02:00:00+00:00",
          "2021-08-27T09:00:00+00:00",
          "2021-08-27T10:00:00+00:00",
          "2021-08-27T11:00:00+00:00",
          "2021-08-27T12:00:00+00:00",
          "2021-08-27T13:00:00+00:00",
          "2021-08-27T14:00:00+00:00",
          "2021-08-27T16:00:00+00:00",
          "2021-08-27T18:00:00+00:00",
          "2021-08-29T21:00:00+00:00",
          "2021-08-30T05:00:00+00:00",
          "2021-08-30T07:00:00+00:00",
          "2021-08-30T08:00:00+00:00",
          "2021-08-30T09:00:00+00:00",
          "2021-08-30T10:00:00+00:00",
          "2021-08-30T12:00:00+00:00",
          "2021-08-30T14:00:00+00:00",
          "2021-08-30T16:00:00+00:00",
          "2021-08-30T18:00:00+00:00",
          "2021-08-30T20:00:00+00:00",
          "2021-08-30T21:00:00+00:00",
          "2021-08-30T22:00:00+00:00",
          "2021-08-31T00:00:00+00:00",
          "2021-08-31T01:00:00+00:00",
          "2021-08-31T02:00:00+00:00",
          "2021-08-31T04:00:00+00:00",
          "2021-08-31T05:00:00+00:00",
          "2021-08-31T09:00:00+00:00",
          "2021-08-31T12:00:00+00:00",
          "2021-08-31T13:00:00+00:00",
          "2021-08-31T14:00:00+00:00",
          "2021-08-31T15:00:00+00:00",
          "2021-08-31T16:00:00+00:00",
          "2021-08-31T19:00:00+00:00",
          "2021-08-31T20:00:00+00:00",
          "2021-08-31T22:00:00+00:00",
          "2021-09-01T00:00:00+00:00",
          "2021-09-01T01:00:00+00:00",
          "2021-09-01T02:00:00+00:00",
          "2021-09-01T04:00:00+00:00",
          "2021-09-01T05:00:00+00:00",
          "2021-09-01T07:00:00+00:00",
          "2021-09-01T08:00:00+00:00",
          "2021-09-01T09:00:00+00:00",
          "2021-09-01T10:00:00+00:00",
          "2021-09-01T12:00:00+00:00",
          "2021-09-01T13:00:00+00:00",
          "2021-09-01T14:00:00+00:00",
          "2021-09-01T15:00:00+00:00",
          "2021-09-01T16:00:00+00:00",
          "2021-09-01T18:00:00+00:00",
          "2021-09-01T19:00:00+00:00",
          "2021-09-01T21:00:00+00:00",
          "2021-09-02T00:00:00+00:00",
          "2021-09-02T01:00:00+00:00",
          "2021-09-02T06:00:00+00:00",
          "2021-09-02T08:00:00+00:00",
          "2021-09-02T09:00:00+00:00",
          "2021-09-02T12:00:00+00:00",
          "2021-09-02T13:00:00+00:00",
          "2021-09-02T15:00:00+00:00",
          "2021-09-02T17:00:00+00:00",
          "2021-09-02T18:00:00+00:00",
          "2021-09-02T20:00:00+00:00",
          "2021-09-03T03:00:00+00:00",
          "2021-09-03T04:00:00+00:00",
          "2021-09-03T07:00:00+00:00",
          "2021-09-03T11:00:00+00:00",
          "2021-09-03T14:00:00+00:00",
          "2021-09-03T16:00:00+00:00",
          "2021-09-03T18:00:00+00:00",
          "2021-09-03T19:00:00+00:00",
          "2021-09-03T20:00:00+00:00",
          "2021-09-05T21:00:00+00:00",
          "2021-09-05T23:00:00+00:00",
          "2021-09-06T01:00:00+00:00",
          "2021-09-06T02:00:00+00:00",
          "2021-09-06T03:00:00+00:00",
          "2021-09-06T05:00:00+00:00",
          "2021-09-06T08:00:00+00:00",
          "2021-09-06T09:00:00+00:00",
          "2021-09-06T12:00:00+00:00",
          "2021-09-06T14:00:00+00:00",
          "2021-09-06T15:00:00+00:00",
          "2021-09-06T16:00:00+00:00",
          "2021-09-06T17:00:00+00:00",
          "2021-09-06T18:00:00+00:00",
          "2021-09-06T19:00:00+00:00",
          "2021-09-06T20:00:00+00:00",
          "2021-09-06T21:00:00+00:00",
          "2021-09-06T22:00:00+00:00",
          "2021-09-06T23:00:00+00:00",
          "2021-09-07T01:00:00+00:00",
          "2021-09-07T02:00:00+00:00",
          "2021-09-07T03:00:00+00:00",
          "2021-09-07T04:00:00+00:00",
          "2021-09-07T08:00:00+00:00",
          "2021-09-07T09:00:00+00:00",
          "2021-09-07T12:00:00+00:00",
          "2021-09-07T13:00:00+00:00",
          "2021-09-07T15:00:00+00:00",
          "2021-09-07T16:00:00+00:00",
          "2021-09-07T18:00:00+00:00",
          "2021-09-07T19:00:00+00:00",
          "2021-09-07T21:00:00+00:00",
          "2021-09-08T02:00:00+00:00",
          "2021-09-08T04:00:00+00:00",
          "2021-09-08T08:00:00+00:00",
          "2021-09-08T09:00:00+00:00",
          "2021-09-08T11:00:00+00:00",
          "2021-09-08T17:00:00+00:00",
          "2021-09-08T19:00:00+00:00",
          "2021-09-08T20:00:00+00:00",
          "2021-09-08T22:00:00+00:00",
          "2021-09-08T23:00:00+00:00",
          "2021-09-09T00:00:00+00:00",
          "2021-09-09T01:00:00+00:00",
          "2021-09-09T04:00:00+00:00",
          "2021-09-09T06:00:00+00:00",
          "2021-09-09T07:00:00+00:00",
          "2021-09-09T08:00:00+00:00",
          "2021-09-09T09:00:00+00:00",
          "2021-09-09T10:00:00+00:00",
          "2021-09-09T11:00:00+00:00",
          "2021-09-09T13:00:00+00:00",
          "2021-09-09T14:00:00+00:00",
          "2021-09-09T15:00:00+00:00",
          "2021-09-09T16:00:00+00:00",
          "2021-09-09T17:00:00+00:00",
          "2021-09-09T18:00:00+00:00",
          "2021-09-09T22:00:00+00:00",
          "2021-09-10T01:00:00+00:00",
          "2021-09-10T03:00:00+00:00",
          "2021-09-10T04:00:00+00:00",
          "2021-09-10T06:00:00+00:00",
          "2021-09-10T07:00:00+00:00",
          "2021-09-10T08:00:00+00:00",
          "2021-09-10T09:00:00+00:00",
          "2021-09-10T14:00:00+00:00",
          "2021-09-10T16:00:00+00:00",
          "2021-09-10T17:00:00+00:00",
          "2021-09-10T18:00:00+00:00",
          "2021-09-10T20:00:00+00:00",
          "2021-09-12T21:00:00+00:00",
          "2021-09-12T22:00:00+00:00",
          "2021-09-12T23:00:00+00:00",
          "2021-09-13T00:00:00+00:00",
          "2021-09-13T01:00:00+00:00",
          "2021-09-13T05:00:00+00:00",
          "2021-09-13T09:00:00+00:00",
          "2021-09-13T11:00:00+00:00",
          "2021-09-13T15:00:00+00:00",
          "2021-09-13T16:00:00+00:00",
          "2021-09-13T18:00:00+00:00",
          "2021-09-13T19:00:00+00:00",
          "2021-09-13T20:00:00+00:00",
          "2021-09-13T21:00:00+00:00",
          "2021-09-14T00:00:00+00:00",
          "2021-09-14T01:00:00+00:00",
          "2021-09-14T04:00:00+00:00",
          "2021-09-14T07:00:00+00:00",
          "2021-09-14T08:00:00+00:00",
          "2021-09-14T09:00:00+00:00",
          "2021-09-14T11:00:00+00:00",
          "2021-09-14T13:00:00+00:00",
          "2021-09-14T15:00:00+00:00",
          "2021-09-14T16:00:00+00:00",
          "2021-09-14T17:00:00+00:00",
          "2021-09-14T18:00:00+00:00",
          "2021-09-14T19:00:00+00:00",
          "2021-09-14T20:00:00+00:00",
          "2021-09-14T22:00:00+00:00",
          "2021-09-14T23:00:00+00:00",
          "2021-09-15T00:00:00+00:00",
          "2021-09-15T01:00:00+00:00",
          "2021-09-15T02:00:00+00:00",
          "2021-09-15T05:00:00+00:00",
          "2021-09-15T09:00:00+00:00",
          "2021-09-15T10:00:00+00:00",
          "2021-09-15T12:00:00+00:00",
          "2021-09-15T13:00:00+00:00",
          "2021-09-15T14:00:00+00:00",
          "2021-09-15T15:00:00+00:00",
          "2021-09-15T16:00:00+00:00",
          "2021-09-15T17:00:00+00:00",
          "2021-09-15T18:00:00+00:00",
          "2021-09-15T19:00:00+00:00",
          "2021-09-15T20:00:00+00:00",
          "2021-09-15T22:00:00+00:00",
          "2021-09-15T23:00:00+00:00",
          "2021-09-16T05:00:00+00:00",
          "2021-09-16T06:00:00+00:00",
          "2021-09-16T09:00:00+00:00",
          "2021-09-16T12:00:00+00:00",
          "2021-09-16T14:00:00+00:00",
          "2021-09-16T15:00:00+00:00",
          "2021-09-16T18:00:00+00:00",
          "2021-09-16T20:00:00+00:00",
          "2021-09-16T22:00:00+00:00",
          "2021-09-17T02:00:00+00:00",
          "2021-09-17T05:00:00+00:00",
          "2021-09-17T06:00:00+00:00",
          "2021-09-17T07:00:00+00:00",
          "2021-09-17T08:00:00+00:00",
          "2021-09-17T09:00:00+00:00",
          "2021-09-17T10:00:00+00:00",
          "2021-09-17T13:00:00+00:00",
          "2021-09-17T14:00:00+00:00",
          "2021-09-17T16:00:00+00:00",
          "2021-09-17T17:00:00+00:00",
          "2021-09-17T18:00:00+00:00",
          "2021-09-17T19:00:00+00:00",
          "2021-09-17T20:00:00+00:00",
          "2021-09-20T01:00:00+00:00",
          "2021-09-20T03:00:00+00:00",
          "2021-09-20T07:00:00+00:00",
          "2021-09-20T14:00:00+00:00",
          "2021-09-20T19:00:00+00:00",
          "2021-09-20T20:00:00+00:00",
          "2021-09-21T02:00:00+00:00",
          "2021-09-21T03:00:00+00:00",
          "2021-09-21T04:00:00+00:00",
          "2021-09-21T05:00:00+00:00",
          "2021-09-21T06:00:00+00:00",
          "2021-09-21T07:00:00+00:00",
          "2021-09-21T08:00:00+00:00",
          "2021-09-21T09:00:00+00:00",
          "2021-09-21T13:00:00+00:00",
          "2021-09-21T14:00:00+00:00",
          "2021-09-21T15:00:00+00:00",
          "2021-09-21T16:00:00+00:00",
          "2021-09-21T17:00:00+00:00",
          "2021-09-21T19:00:00+00:00",
          "2021-09-21T22:00:00+00:00",
          "2021-09-21T23:00:00+00:00",
          "2021-09-22T00:00:00+00:00",
          "2021-09-22T02:00:00+00:00",
          "2021-09-22T06:00:00+00:00",
          "2021-09-22T07:00:00+00:00",
          "2021-09-22T08:00:00+00:00",
          "2021-09-22T11:00:00+00:00",
          "2021-09-22T12:00:00+00:00",
          "2021-09-22T13:00:00+00:00",
          "2021-09-22T14:00:00+00:00",
          "2021-09-22T15:00:00+00:00",
          "2021-09-22T16:00:00+00:00",
          "2021-09-22T18:00:00+00:00",
          "2021-09-22T19:00:00+00:00",
          "2021-09-22T21:00:00+00:00",
          "2021-09-22T22:00:00+00:00",
          "2021-09-23T01:00:00+00:00",
          "2021-09-23T03:00:00+00:00",
          "2021-09-23T04:00:00+00:00",
          "2021-09-23T06:00:00+00:00",
          "2021-09-23T08:00:00+00:00",
          "2021-09-23T09:00:00+00:00",
          "2021-09-23T10:00:00+00:00",
          "2021-09-23T11:00:00+00:00",
          "2021-09-23T13:00:00+00:00",
          "2021-09-23T16:00:00+00:00",
          "2021-09-24T05:00:00+00:00",
          "2021-09-24T06:00:00+00:00",
          "2021-09-24T08:00:00+00:00",
          "2021-09-24T09:00:00+00:00",
          "2021-09-24T10:00:00+00:00",
          "2021-09-24T11:00:00+00:00",
          "2021-09-24T12:00:00+00:00",
          "2021-09-24T13:00:00+00:00",
          "2021-09-24T15:00:00+00:00",
          "2021-09-24T16:00:00+00:00",
          "2021-09-24T17:00:00+00:00",
          "2021-09-24T18:00:00+00:00",
          "2021-09-24T20:00:00+00:00",
          "2021-09-26T21:00:00+00:00",
          "2021-09-26T22:00:00+00:00",
          "2021-09-26T23:00:00+00:00",
          "2021-09-27T05:00:00+00:00",
          "2021-09-27T06:00:00+00:00",
          "2021-09-27T07:00:00+00:00",
          "2021-09-27T08:00:00+00:00",
          "2021-09-27T09:00:00+00:00",
          "2021-09-27T10:00:00+00:00",
          "2021-09-27T11:00:00+00:00",
          "2021-09-27T14:00:00+00:00",
          "2021-09-27T15:00:00+00:00",
          "2021-09-27T16:00:00+00:00",
          "2021-09-27T17:00:00+00:00",
          "2021-09-27T19:00:00+00:00",
          "2021-09-27T21:00:00+00:00",
          "2021-09-27T22:00:00+00:00",
          "2021-09-27T23:00:00+00:00",
          "2021-09-28T01:00:00+00:00",
          "2021-09-28T03:00:00+00:00",
          "2021-09-28T05:00:00+00:00",
          "2021-09-28T06:00:00+00:00",
          "2021-09-28T08:00:00+00:00",
          "2021-09-28T09:00:00+00:00",
          "2021-09-28T10:00:00+00:00",
          "2021-09-28T11:00:00+00:00",
          "2021-09-28T12:00:00+00:00",
          "2021-09-28T13:00:00+00:00",
          "2021-09-28T14:00:00+00:00",
          "2021-09-28T17:00:00+00:00",
          "2021-09-29T06:00:00+00:00",
          "2021-09-29T08:00:00+00:00",
          "2021-09-29T09:00:00+00:00",
          "2021-09-29T10:00:00+00:00",
          "2021-09-29T12:00:00+00:00",
          "2021-09-29T14:00:00+00:00",
          "2021-09-29T15:00:00+00:00",
          "2021-09-29T21:00:00+00:00",
          "2021-09-30T03:00:00+00:00",
          "2021-09-30T06:00:00+00:00",
          "2021-09-30T09:00:00+00:00",
          "2021-09-30T13:00:00+00:00",
          "2021-09-30T14:00:00+00:00",
          "2021-09-30T16:00:00+00:00",
          "2021-09-30T17:00:00+00:00",
          "2021-09-30T18:00:00+00:00",
          "2021-09-30T19:00:00+00:00",
          "2021-09-30T23:00:00+00:00",
          "2021-10-01T00:00:00+00:00",
          "2021-10-01T03:00:00+00:00",
          "2021-10-01T04:00:00+00:00",
          "2021-10-01T05:00:00+00:00",
          "2021-10-01T07:00:00+00:00",
          "2021-10-01T09:00:00+00:00",
          "2021-10-01T10:00:00+00:00",
          "2021-10-01T11:00:00+00:00",
          "2021-10-01T12:00:00+00:00",
          "2021-10-01T13:00:00+00:00",
          "2021-10-01T14:00:00+00:00",
          "2021-10-01T15:00:00+00:00",
          "2021-10-01T18:00:00+00:00",
          "2021-10-01T20:00:00+00:00",
          "2021-10-04T01:00:00+00:00",
          "2021-10-04T02:00:00+00:00",
          "2021-10-04T03:00:00+00:00",
          "2021-10-04T05:00:00+00:00",
          "2021-10-04T06:00:00+00:00",
          "2021-10-04T09:00:00+00:00",
          "2021-10-04T12:00:00+00:00",
          "2021-10-04T13:00:00+00:00",
          "2021-10-04T15:00:00+00:00",
          "2021-10-04T16:00:00+00:00",
          "2021-10-04T17:00:00+00:00",
          "2021-10-04T19:00:00+00:00",
          "2021-10-04T22:00:00+00:00",
          "2021-10-04T23:00:00+00:00",
          "2021-10-05T04:00:00+00:00",
          "2021-10-05T05:00:00+00:00",
          "2021-10-05T06:00:00+00:00",
          "2021-10-05T08:00:00+00:00",
          "2021-10-05T09:00:00+00:00",
          "2021-10-05T10:00:00+00:00",
          "2021-10-05T12:00:00+00:00",
          "2021-10-05T13:00:00+00:00",
          "2021-10-05T14:00:00+00:00",
          "2021-10-05T15:00:00+00:00",
          "2021-10-05T17:00:00+00:00",
          "2021-10-06T01:00:00+00:00",
          "2021-10-06T03:00:00+00:00",
          "2021-10-06T05:00:00+00:00",
          "2021-10-06T06:00:00+00:00",
          "2021-10-06T07:00:00+00:00",
          "2021-10-06T08:00:00+00:00",
          "2021-10-06T09:00:00+00:00",
          "2021-10-06T10:00:00+00:00",
          "2021-10-06T11:00:00+00:00",
          "2021-10-06T14:00:00+00:00",
          "2021-10-06T18:00:00+00:00",
          "2021-10-06T22:00:00+00:00",
          "2021-10-07T00:00:00+00:00",
          "2021-10-07T01:00:00+00:00",
          "2021-10-07T04:00:00+00:00",
          "2021-10-07T05:00:00+00:00",
          "2021-10-07T06:00:00+00:00",
          "2021-10-07T08:00:00+00:00",
          "2021-10-07T11:00:00+00:00",
          "2021-10-07T15:00:00+00:00",
          "2021-10-07T16:00:00+00:00",
          "2021-10-07T18:00:00+00:00",
          "2021-10-07T19:00:00+00:00",
          "2021-10-07T22:00:00+00:00",
          "2021-10-08T01:00:00+00:00",
          "2021-10-08T08:00:00+00:00",
          "2021-10-08T09:00:00+00:00",
          "2021-10-08T10:00:00+00:00",
          "2021-10-08T12:00:00+00:00",
          "2021-10-08T13:00:00+00:00",
          "2021-10-08T15:00:00+00:00",
          "2021-10-08T17:00:00+00:00",
          "2021-10-08T18:00:00+00:00",
          "2021-10-10T21:00:00+00:00",
          "2021-10-11T03:00:00+00:00",
          "2021-10-11T04:00:00+00:00",
          "2021-10-11T06:00:00+00:00",
          "2021-10-11T07:00:00+00:00",
          "2021-10-11T08:00:00+00:00",
          "2021-10-11T10:00:00+00:00",
          "2021-10-11T11:00:00+00:00",
          "2021-10-11T13:00:00+00:00",
          "2021-10-11T14:00:00+00:00",
          "2021-10-11T16:00:00+00:00",
          "2021-10-11T17:00:00+00:00",
          "2021-10-11T19:00:00+00:00",
          "2021-10-11T21:00:00+00:00",
          "2021-10-11T23:00:00+00:00",
          "2021-10-12T01:00:00+00:00",
          "2021-10-12T02:00:00+00:00",
          "2021-10-12T07:00:00+00:00",
          "2021-10-12T08:00:00+00:00",
          "2021-10-12T09:00:00+00:00",
          "2021-10-12T10:00:00+00:00",
          "2021-10-12T11:00:00+00:00",
          "2021-10-12T12:00:00+00:00",
          "2021-10-12T13:00:00+00:00",
          "2021-10-12T14:00:00+00:00",
          "2021-10-12T16:00:00+00:00",
          "2021-10-12T17:00:00+00:00",
          "2021-10-12T18:00:00+00:00",
          "2021-10-12T19:00:00+00:00",
          "2021-10-12T23:00:00+00:00",
          "2021-10-13T01:00:00+00:00",
          "2021-10-13T02:00:00+00:00",
          "2021-10-13T04:00:00+00:00",
          "2021-10-13T06:00:00+00:00",
          "2021-10-13T08:00:00+00:00",
          "2021-10-13T09:00:00+00:00",
          "2021-10-13T11:00:00+00:00",
          "2021-10-13T12:00:00+00:00",
          "2021-10-13T13:00:00+00:00",
          "2021-10-13T14:00:00+00:00",
          "2021-10-13T15:00:00+00:00",
          "2021-10-13T17:00:00+00:00",
          "2021-10-13T18:00:00+00:00",
          "2021-10-13T19:00:00+00:00",
          "2021-10-14T00:00:00+00:00",
          "2021-10-14T02:00:00+00:00",
          "2021-10-14T03:00:00+00:00",
          "2021-10-14T06:00:00+00:00",
          "2021-10-14T08:00:00+00:00",
          "2021-10-14T11:00:00+00:00",
          "2021-10-14T13:00:00+00:00",
          "2021-10-14T14:00:00+00:00",
          "2021-10-14T15:00:00+00:00",
          "2021-10-14T20:00:00+00:00",
          "2021-10-14T23:00:00+00:00",
          "2021-10-15T00:00:00+00:00",
          "2021-10-15T03:00:00+00:00",
          "2021-10-15T07:00:00+00:00",
          "2021-10-15T09:00:00+00:00",
          "2021-10-15T12:00:00+00:00",
          "2021-10-15T14:00:00+00:00",
          "2021-10-15T15:00:00+00:00",
          "2021-10-15T16:00:00+00:00",
          "2021-10-15T18:00:00+00:00",
          "2021-10-15T20:00:00+00:00",
          "2021-10-17T21:00:00+00:00",
          "2021-10-17T22:00:00+00:00",
          "2021-10-18T03:00:00+00:00",
          "2021-10-18T05:00:00+00:00",
          "2021-10-18T06:00:00+00:00",
          "2021-10-18T08:00:00+00:00",
          "2021-10-18T09:00:00+00:00",
          "2021-10-18T10:00:00+00:00",
          "2021-10-18T11:00:00+00:00",
          "2021-10-18T12:00:00+00:00",
          "2021-10-18T13:00:00+00:00",
          "2021-10-18T14:00:00+00:00",
          "2021-10-18T15:00:00+00:00",
          "2021-10-18T16:00:00+00:00",
          "2021-10-18T17:00:00+00:00",
          "2021-10-18T18:00:00+00:00",
          "2021-10-18T19:00:00+00:00",
          "2021-10-18T20:00:00+00:00",
          "2021-10-19T02:00:00+00:00",
          "2021-10-19T06:00:00+00:00",
          "2021-10-19T07:00:00+00:00",
          "2021-10-19T11:00:00+00:00",
          "2021-10-19T12:00:00+00:00",
          "2021-10-19T16:00:00+00:00",
          "2021-10-19T17:00:00+00:00",
          "2021-10-19T19:00:00+00:00",
          "2021-10-19T20:00:00+00:00",
          "2021-10-19T22:00:00+00:00",
          "2021-10-19T23:00:00+00:00",
          "2021-10-20T04:00:00+00:00",
          "2021-10-20T07:00:00+00:00",
          "2021-10-20T09:00:00+00:00",
          "2021-10-20T10:00:00+00:00",
          "2021-10-20T11:00:00+00:00",
          "2021-10-20T12:00:00+00:00",
          "2021-10-20T13:00:00+00:00",
          "2021-10-20T14:00:00+00:00",
          "2021-10-20T15:00:00+00:00",
          "2021-10-20T16:00:00+00:00",
          "2021-10-20T17:00:00+00:00",
          "2021-10-20T18:00:00+00:00",
          "2021-10-20T19:00:00+00:00",
          "2021-10-20T22:00:00+00:00",
          "2021-10-21T04:00:00+00:00",
          "2021-10-21T06:00:00+00:00",
          "2021-10-21T07:00:00+00:00",
          "2021-10-21T08:00:00+00:00",
          "2021-10-21T09:00:00+00:00",
          "2021-10-21T10:00:00+00:00",
          "2021-10-21T11:00:00+00:00",
          "2021-10-21T13:00:00+00:00",
          "2021-10-21T15:00:00+00:00",
          "2021-10-22T02:00:00+00:00",
          "2021-10-22T07:00:00+00:00",
          "2021-10-22T08:00:00+00:00",
          "2021-10-22T09:00:00+00:00",
          "2021-10-22T10:00:00+00:00",
          "2021-10-22T11:00:00+00:00",
          "2021-10-22T12:00:00+00:00",
          "2021-10-22T14:00:00+00:00",
          "2021-10-22T15:00:00+00:00",
          "2021-10-22T17:00:00+00:00",
          "2021-10-22T18:00:00+00:00",
          "2021-10-25T03:00:00+00:00",
          "2021-10-25T05:00:00+00:00",
          "2021-10-25T07:00:00+00:00",
          "2021-10-25T08:00:00+00:00",
          "2021-10-25T09:00:00+00:00",
          "2021-10-25T10:00:00+00:00",
          "2021-10-25T11:00:00+00:00",
          "2021-10-25T12:00:00+00:00",
          "2021-10-25T13:00:00+00:00",
          "2021-10-25T14:00:00+00:00",
          "2021-10-25T15:00:00+00:00",
          "2021-10-25T16:00:00+00:00",
          "2021-10-25T17:00:00+00:00",
          "2021-10-25T20:00:00+00:00",
          "2021-10-26T01:00:00+00:00",
          "2021-10-26T04:00:00+00:00",
          "2021-10-26T08:00:00+00:00",
          "2021-10-26T10:00:00+00:00",
          "2021-10-26T12:00:00+00:00",
          "2021-10-26T16:00:00+00:00",
          "2021-10-26T19:00:00+00:00",
          "2021-10-26T20:00:00+00:00",
          "2021-10-26T23:00:00+00:00",
          "2021-10-27T00:00:00+00:00",
          "2021-10-27T01:00:00+00:00",
          "2021-10-27T03:00:00+00:00",
          "2021-10-27T05:00:00+00:00",
          "2021-10-27T06:00:00+00:00",
          "2021-10-27T07:00:00+00:00",
          "2021-10-27T09:00:00+00:00",
          "2021-10-27T10:00:00+00:00",
          "2021-10-27T11:00:00+00:00",
          "2021-10-27T13:00:00+00:00",
          "2021-10-27T15:00:00+00:00",
          "2021-10-27T17:00:00+00:00",
          "2021-10-27T18:00:00+00:00",
          "2021-10-27T19:00:00+00:00",
          "2021-10-27T20:00:00+00:00",
          "2021-10-27T21:00:00+00:00",
          "2021-10-27T23:00:00+00:00",
          "2021-10-28T00:00:00+00:00",
          "2021-10-28T01:00:00+00:00",
          "2021-10-28T02:00:00+00:00",
          "2021-10-28T03:00:00+00:00",
          "2021-10-28T04:00:00+00:00",
          "2021-10-28T05:00:00+00:00",
          "2021-10-28T07:00:00+00:00",
          "2021-10-28T08:00:00+00:00",
          "2021-10-28T09:00:00+00:00",
          "2021-10-28T10:00:00+00:00",
          "2021-10-28T11:00:00+00:00",
          "2021-10-28T14:00:00+00:00"
         ],
         "y": [
          15.099999999999625,
          -5.100000000000591,
          71.2999999999992,
          24.799999999998775,
          91.69999999999851,
          130.5999999999981,
          74.49999999999916,
          69.09999999999931,
          58.99999999999865,
          47.49999999999659,
          28.599999999994896,
          -11.900000000005218,
          -45.100000000004755,
          -93.40000000000516,
          -116.20000000000576,
          -82.70000000000496,
          -113.70000000000519,
          -160.60000000000602,
          -187.7000000000061,
          -187.60000000000545,
          -231.5000000000055,
          -256.9000000000054,
          -296.9000000000076,
          -302.3000000000078,
          -237.20000000000766,
          -269.70000000000965,
          -273.50000000001006,
          -263.90000000001044,
          -296.1000000000104,
          -317.70000000001204,
          -322.5000000000122,
          -324.3000000000123,
          -335.1000000000127,
          -383.90000000001265,
          -451.9000000000105,
          -576.9000000000101,
          -649.7000000000097,
          -670.0000000000094,
          -686.6000000000106,
          -801.2000000000095,
          -825.200000000009,
          -840.2000000000096,
          -881.0000000000105,
          -901.600000000011,
          -959.100000000013,
          -953.9000000000133,
          -920.1000000000139,
          -872.1000000000125,
          -903.2000000000132,
          -935.5000000000117,
          -1034.500000000011,
          -1123.0000000000098,
          -1121.8000000000097,
          -1188.7000000000105,
          -1275.40000000001,
          -1376.7000000000087,
          -1446.900000000009,
          -1614.2000000000103,
          -1828.9000000000112,
          -1894.000000000009,
          -1915.1000000000097,
          -1965.2000000000094,
          -2039.9000000000103,
          -2059.8000000000097,
          -2040.8000000000095,
          -2061.5000000000073,
          -2090.7000000000075,
          -2156.2000000000103,
          -2106.3000000000084,
          -1954.200000000008,
          -1932.700000000007,
          -1788.700000000007,
          -1805.2000000000064,
          -1797.7000000000073,
          -1822.600000000006,
          -1759.0000000000045,
          -1722.2000000000044,
          -1734.6000000000035,
          -1828.400000000005,
          -1860.6000000000051,
          -1881.0000000000055,
          -1874.1000000000047,
          -1494.7000000000062,
          -1490.0000000000064,
          -1519.6000000000072,
          -1539.8000000000075,
          -1588.3000000000065,
          -1727.0000000000068,
          -1730.700000000009,
          -1852.9000000000092,
          -1895.400000000009,
          -1857.3000000000102,
          -1890.8000000000097,
          -1923.6000000000092,
          -1969.00000000001,
          -1464.8000000000106,
          -1329.2000000000116,
          -1092.4000000000083,
          -772.6000000000097,
          -793.8000000000087,
          -747.7000000000087,
          -753.000000000009,
          -756.8000000000095,
          -781.0000000000103,
          -691.4000000000103,
          -702.2000000000094,
          -752.9000000000107,
          -791.4000000000109,
          -796.9000000000113,
          -821.7000000000095,
          -830.8000000000092,
          -830.2000000000091,
          -844.4000000000087,
          -869.9000000000083,
          -927.000000000007,
          -952.1000000000075,
          -614.0000000000089,
          -622.7000000000093,
          -553.3000000000097,
          -440.50000000000796,
          -472.20000000000914,
          -398.30000000000797,
          -351.1000000000085,
          -438.8000000000068,
          -472.70000000000636,
          -441.60000000000576,
          -407.30000000000683,
          -408.90000000000595,
          -397.4000000000061,
          -370.60000000000605,
          -404.1000000000057,
          -332.70000000000584,
          -353.50000000000443,
          -373.30000000000535,
          -373.70000000000573,
          -365.0000000000065,
          -357.60000000000684,
          -338.2000000000085,
          -352.0000000000079,
          -347.200000000007,
          -522.2000000000077,
          -553.7000000000075,
          -654.2000000000087,
          -665.0000000000091,
          -738.1000000000083,
          -637.8000000000084,
          -567.900000000009,
          -489.40000000000833,
          -539.9000000000083,
          -572.3000000000097,
          -602.6000000000123,
          -651.7000000000131,
          -642.1000000000128,
          -641.800000000013,
          -623.0000000000131,
          -622.400000000013,
          -630.6000000000124,
          -677.6000000000139,
          -715.8000000000154,
          -733.1000000000155,
          -728.5000000000153,
          -729.800000000015,
          -769.1000000000171,
          -781.9000000000187,
          -818.1000000000193,
          -811.6000000000182,
          -821.4000000000202,
          -686.4000000000208,
          -711.4000000000225,
          -643.4000000000217,
          -619.7000000000219,
          -647.1000000000238,
          -651.7000000000239,
          -651.3000000000235,
          -636.3000000000229,
          -641.6000000000221,
          -668.8000000000227,
          -734.0000000000202,
          -766.4000000000193,
          -797.6000000000183,
          -800.100000000017,
          -807.0000000000156,
          -836.8000000000154,
          -853.4000000000151,
          -928.2000000000149,
          -953.2000000000144,
          -902.7000000000144,
          -932.6000000000136,
          -956.1000000000166,
          -1028.5000000000157,
          -1008.1000000000153,
          -1001.0000000000153,
          -989.9000000000137,
          -947.5000000000133,
          -951.0000000000118,
          -914.0000000000105,
          -936.0000000000103,
          -936.5000000000092,
          -951.4000000000091,
          -942.6000000000091,
          -967.0000000000091,
          -1002.900000000009,
          -1006.2000000000083,
          -1028.2000000000082,
          -1075.6000000000079,
          -1104.0000000000077,
          -1108.800000000008,
          -1146.0000000000095,
          -1194.8000000000095,
          -1216.2000000000094,
          -1292.3000000000072,
          -1322.4000000000058,
          -1330.2000000000057,
          -1359.400000000006,
          -1374.2000000000053,
          -1390.400000000006,
          -1426.4000000000074,
          -1457.3000000000072,
          -1549.4000000000074,
          -1609.0000000000082,
          -1653.0000000000077,
          -1672.0000000000086,
          -1573.8000000000084,
          -1590.2000000000091,
          -1475.3000000000102,
          -1389.3000000000097,
          -1401.0000000000086,
          -1005.4000000000094,
          -820.4000000000099,
          -859.8000000000104,
          -840.6000000000097,
          -686.8000000000102,
          -701.2000000000094,
          -707.0000000000097,
          -717.90000000001,
          -627.2000000000089,
          -408.80000000000894,
          -455.90000000000884,
          -513.4000000000103,
          -186.2000000000109,
          -230.30000000001115,
          -225.50000000001097,
          -172.30000000001107,
          -129.8000000000124,
          -145.30000000001385,
          -143.10000000001472,
          -169.20000000001474,
          -204.20000000001534,
          -198.80000000001547,
          -95.20000000001623,
          -107.20000000001602,
          -95.30000000001604,
          -137.20000000001573,
          -170.40000000001564,
          -75.50000000001477,
          -85.40000000001514,
          -72.40000000001436,
          -136.60000000001196,
          -149.20000000001235,
          -162.40000000001223,
          -168.80000000001198,
          -204.10000000001025,
          -187.60000000000963,
          -191.0000000000088,
          -226.4000000000076,
          -226.30000000000805,
          -373.4000000000052,
          -378.5000000000053,
          -440.5000000000067,
          -470.900000000006,
          -510.9000000000052,
          -538.0000000000051,
          -635.6000000000046,
          -648.0000000000036,
          -669.2000000000038,
          -698.5000000000048,
          -699.3000000000034,
          -668.9000000000029,
          -707.1000000000045,
          -730.2000000000037,
          -750.8000000000031,
          -750.0000000000022,
          -826.3000000000034,
          -914.2000000000014,
          -929.2999999999996,
          -974.9999999999999,
          -980.1999999999994,
          -1000.0999999999988,
          -1073.3000000000009,
          -1092.9000000000005,
          -1156.7000000000028,
          -1105.0000000000039,
          -1144.7000000000044,
          -1166.4000000000044,
          -1182.9000000000037,
          -1211.9000000000028,
          -1323.100000000002,
          -1365.4000000000037,
          -1397.6000000000038,
          -1266.6000000000038,
          -1263.500000000006,
          -1162.500000000006,
          -1147.6000000000045,
          -1120.4000000000062,
          -800.0000000000044,
          -830.3000000000053,
          -848.7000000000048,
          -927.2000000000039,
          -958.200000000004,
          -931.0000000000034,
          -846.2000000000029,
          -653.6000000000024,
          -686.6000000000008,
          -750.6000000000005,
          -759.7000000000013,
          -745.9000000000019,
          -786.7000000000006,
          -803.9000000000001,
          -826.700000000001,
          -884.1000000000017,
          -912.8000000000023,
          -932.2000000000032,
          -958.5000000000023,
          -980.4000000000015,
          -1008.2000000000015,
          -1029.6000000000008,
          -1053.5000000000005,
          -1038.8000000000006,
          -1151.2999999999984,
          -1180.9999999999998,
          -1202.2999999999995,
          -1260.7000000000003,
          -1262.5000000000005,
          -1293.7000000000005,
          -1290.7000000000003,
          -1390.999999999999,
          -1473.099999999999,
          -1536.1,
          -1614.2000000000007,
          -1494.7000000000019,
          -1358.5000000000023,
          -1321.4000000000024,
          -1215.600000000002,
          -1180.200000000001,
          -1212.7000000000007,
          -1183.5000000000005,
          -1307.1999999999998,
          -1341.5000000000002,
          -1331.8000000000009,
          -1375.3000000000004,
          -1360.5,
          -1430.1000000000008,
          -1354.3000000000004,
          -1203.1999999999987,
          -1248.3000000000006,
          -1249.1000000000015,
          -1311.500000000003,
          -1311.0000000000034,
          -1314.4000000000035,
          -1373.9000000000035,
          -1403.4000000000024,
          -1426.4000000000028,
          -1441.2000000000032,
          -1499.9000000000037,
          -1540.9000000000037,
          -1704.1000000000045,
          -1743.9000000000042,
          -1752.4000000000044,
          -1798.8000000000043,
          -1788.0000000000045,
          -1854.0000000000052,
          -1749.600000000004,
          -1783.2000000000044,
          -1932.3000000000045,
          -1944.5000000000064,
          -2021.1000000000063,
          -2077.300000000008,
          -2088.60000000001,
          -1910.8000000000086,
          -1857.000000000009,
          -1950.7000000000075,
          -1968.1000000000067,
          -1881.1000000000074,
          -1938.6000000000092,
          -1951.8000000000097,
          -2003.1000000000117,
          -1957.900000000013,
          -1979.7000000000135,
          -1965.6000000000154,
          -1983.2000000000146,
          -2006.5000000000152,
          -1961.1000000000154,
          -1966.5000000000152,
          -1984.000000000015,
          -2059.8000000000166,
          -2104.0000000000173,
          -2121.2000000000166,
          -2141.5000000000164,
          -2146.900000000015,
          -2141.4000000000146,
          -2182.7000000000144,
          -2116.9000000000174,
          -1944.7000000000166,
          -1961.2000000000182,
          -2030.9000000000174,
          -2090.7000000000185,
          -2085.700000000019,
          -1957.6000000000183,
          -1960.3000000000181,
          -1694.2000000000178,
          -1458.300000000017,
          -1470.500000000017,
          -1452.700000000017,
          -1444.6000000000195,
          -1437.1000000000192,
          -1425.1000000000208,
          -1425.3000000000222,
          -1384.2000000000226,
          -1234.8000000000218,
          -1203.0000000000223,
          -1215.800000000024,
          -1250.4000000000242,
          -1284.5000000000255,
          -1294.9000000000258,
          -1320.3000000000256,
          -1331.1000000000254,
          -1338.0000000000261,
          -1360.6000000000276,
          -1374.3000000000275,
          -1438.9000000000287,
          -1488.4000000000287,
          -1508.4000000000287,
          -1528.5000000000293,
          -1534.900000000029,
          -1552.4000000000292,
          -1621.6000000000295,
          -1485.6000000000279,
          -1447.4000000000274,
          -1473.0000000000286,
          -1308.3000000000288,
          -1310.00000000003,
          -1317.2000000000305,
          -1211.6000000000315,
          -1201.6000000000315,
          -1212.200000000031,
          -1195.8000000000302,
          -1171.8000000000306,
          -1151.1000000000304,
          -1116.4000000000317,
          -1111.0000000000318,
          -1147.7000000000307,
          -1149.10000000003,
          -1168.9000000000296,
          -1077.9000000000296,
          -1074.7000000000298,
          -1050.50000000003,
          -1056.3000000000293,
          -1072.00000000003,
          -1034.90000000003,
          -1036.300000000032,
          -995.8000000000343,
          -947.100000000035,
          -959.3000000000358,
          -928.700000000036,
          -968.3000000000375,
          -1114.5000000000362,
          -1127.700000000036,
          -1137.6000000000363,
          -1125.000000000036,
          -1156.400000000035,
          -1055.3000000000345,
          -1067.100000000034,
          -1088.200000000034,
          -1188.2000000000367,
          -1191.2000000000364,
          -1212.300000000037,
          -1254.800000000038,
          -1295.2000000000385,
          -1322.8000000000395,
          -1456.6000000000402,
          -1491.1000000000397,
          -1452.2000000000417,
          -1442.1000000000417,
          -1491.4000000000428,
          -1498.200000000043,
          -1508.8000000000436,
          -1525.500000000044,
          -1548.6000000000447,
          -1561.7000000000462,
          -1633.4000000000467,
          -1659.0000000000468,
          -1689.3000000000477,
          -1708.1000000000488,
          -1698.2000000000494,
          -1674.800000000049,
          -1669.4000000000492,
          -1636.6000000000497,
          -1408.3000000000507,
          -1370.1000000000502,
          -1274.7000000000492,
          -1293.500000000049,
          -1314.0000000000502,
          -1336.6000000000518,
          -1240.4000000000522,
          -1258.9000000000524,
          -1133.9000000000528,
          -1140.300000000052,
          -1140.300000000052,
          -1145.3000000000518,
          -1156.1000000000508,
          -1174.600000000048,
          -1084.3000000000493,
          -1005.5000000000473,
          -1068.2000000000455,
          -965.8000000000462,
          -756.2000000000476,
          -792.8000000000484,
          -808.6000000000491,
          -891.2000000000485,
          -904.1000000000486,
          -906.1000000000481,
          -977.600000000048,
          -992.2000000000481,
          -987.6000000000474,
          -783.2000000000473,
          -624.1000000000465,
          -716.7000000000447,
          -736.7000000000447,
          -627.8000000000472,
          -693.3000000000486,
          -785.8000000000507,
          -786.6000000000514,
          -497.2000000000518,
          -304.50000000005275,
          -312.7000000000521,
          -336.20000000005285,
          -342.50000000005303,
          -348.600000000053,
          -357.60000000005334,
          -343.00000000005315,
          -347.20000000005405,
          -356.60000000005346,
          -362.6000000000537,
          -374.20000000005365,
          -304.80000000005583,
          -344.40000000005546,
          -272.4000000000567,
          -218.1000000000575,
          -36.8000000000566,
          -21.700000000055553,
          -24.200000000056388,
          -47.400000000056274,
          -104.0000000000575,
          -163.60000000005687,
          -179.20000000005746,
          -210.40000000005736,
          -211.20000000005817,
          -116.80000000005703,
          -141.0000000000557,
          -91.90000000005601,
          -36.00000000005626,
          -1.3000000000554195,
          34.99999999994391,
          41.49999999994368,
          -6.1000000000550685,
          -4.700000000054779,
          61.79999999994585,
          50.79999999994448,
          41.399999999945074,
          96.29999999994502,
          107.09999999994471,
          94.09999999994615,
          136.3999999999457,
          149.59999999994778,
          123.19999999994678,
          120.69999999994764,
          159.6999999999489,
          156.0999999999486,
          200.4999999999486,
          161.49999999994674,
          189.8999999999471,
          193.89999999994666,
          200.09999999994508,
          198.59999999994415,
          191.29999999994516,
          337.69999999994724,
          306.5999999999478,
          325.4999999999471,
          437.89999999994626,
          478.69999999994707,
          457.8999999999472,
          436.19999999994735,
          393.4999999999452,
          387.7999999999456,
          384.0999999999458,
          346.99999999994475,
          322.89999999994563,
          293.99999999994503,
          291.7999999999428,
          297.6999999999431,
          256.69999999994286,
          197.69999999994536,
          185.99999999994634,
          169.39999999994666,
          174.39999999994612,
          137.39999999994575,
          129.5999999999457,
          107.39999999994514,
          85.29999999994469,
          93.79999999994548,
          41.19999999994617,
          27.39999999994778,
          26.79999999994829,
          7.699999999948041,
          -37.30000000005144,
          -68.50000000005156,
          -68.40000000005143,
          -91.60000000005132,
          -106.8000000000532,
          -51.30000000005599,
          -98.50000000005656,
          -72.9000000000565,
          68.999999999944,
          76.59999999994494,
          131.7999999999442,
          141.39999999994473,
          195.59999999994454,
          223.29999999994504,
          225.39999999994436,
          201.39999999994345,
          215.39999999994208,
          177.19999999994275,
          150.0999999999441,
          119.89999999994231,
          135.19999999994263,
          119.39999999994393,
          81.79999999994345,
          69.79999999994477,
          74.99999999994553,
          47.799999999946394,
          59.99999999994638,
          27.79999999994638,
          3.799999999945694,
          -42.40000000005277,
          -67.30000000005158,
          -146.30000000005177,
          -116.20000000005078,
          -91.6000000000506,
          -100.40000000005122,
          -129.70000000004998,
          -159.50000000005204,
          -194.10000000005311,
          -211.10000000005346,
          -239.30000000005586,
          -268.30000000005555,
          -227.30000000005563,
          -245.90000000005537,
          -360.5000000000556,
          -340.3000000000558,
          -432.30000000005674,
          -458.9000000000567,
          -500.5000000000564,
          -519.7000000000571,
          -622.900000000057,
          -729.1000000000561,
          -774.8000000000557,
          -785.8000000000544,
          -790.4000000000551,
          -878.1000000000541,
          -896.1000000000555,
          -875.2000000000569,
          -858.5000000000563,
          -862.2000000000561,
          -863.6000000000553,
          -872.3000000000545,
          -877.1000000000549,
          -854.400000000055,
          -601.7000000000537,
          -652.5000000000531,
          -659.3000000000529,
          -682.5000000000539,
          -621.0000000000546,
          -392.0000000000543,
          -261.90000000005347,
          -318.30000000005407,
          -326.2000000000525,
          -324.1000000000521,
          -360.90000000005335,
          -406.6000000000547,
          -416.8000000000551,
          -443.20000000005484,
          -480.6000000000534,
          -483.50000000005355,
          -469.70000000005416,
          -488.5000000000544,
          -514.200000000054,
          -562.7000000000543,
          -523.200000000053,
          -556.5000000000529,
          -712.0000000000522,
          -781.9000000000513,
          -680.0000000000498,
          -723.600000000049,
          -733.5000000000495,
          -606.7000000000468,
          -686.2000000000459,
          -644.2000000000461,
          -611.3000000000482,
          -628.1000000000488,
          -650.700000000047,
          -647.0000000000472,
          -760.2000000000446,
          -766.8000000000454,
          -786.3000000000455,
          -848.900000000046,
          -817.0000000000457,
          -709.0000000000454,
          -527.8000000000442,
          -526.0000000000426,
          -537.8000000000422,
          -402.70000000004364,
          -452.5000000000457,
          -442.3000000000455,
          -396.3000000000439,
          -390.50000000004366,
          -393.60000000004396,
          -388.7000000000447,
          -384.10000000004567,
          -422.60000000004476,
          -463.3000000000449,
          -451.5000000000454,
          -452.50000000004644,
          -478.60000000004646,
          -442.3000000000444,
          -435.6000000000462,
          -455.1000000000474,
          -470.70000000004745,
          -493.8000000000478,
          -512.9000000000481,
          -523.1000000000482,
          -554.2000000000477,
          -619.500000000047,
          -714.5000000000476,
          -734.400000000047,
          -752.3000000000488,
          -768.0000000000484,
          -859.2000000000486,
          -933.000000000048,
          -989.0000000000484,
          -989.9000000000487,
          -1017.0000000000502,
          -1030.4000000000503,
          -1076.9000000000506,
          -1108.6000000000506,
          -1129.1000000000518,
          -1176.3000000000516,
          -1196.1000000000513,
          -1114.5000000000518,
          -1052.7000000000512,
          -999.5000000000521,
          -1014.6000000000511,
          -1028.300000000051,
          -1070.800000000052,
          -1080.0000000000523,
          -1129.7000000000517,
          -1158.5000000000528,
          -1244.3000000000513,
          -1247.500000000051,
          -1279.8000000000516,
          -1308.7000000000503,
          -1265.8000000000502,
          -1251.9000000000492,
          -1166.3000000000502,
          -1178.8000000000472,
          -1163.200000000047,
          -1268.9000000000478,
          -1272.500000000047,
          -1331.5000000000473,
          -1360.9000000000467,
          -1437.5000000000468,
          -1475.1000000000467,
          -1484.5000000000462,
          -1499.2000000000467,
          -1510.2000000000446,
          -1448.600000000043,
          -1459.5000000000434,
          -1477.5000000000437,
          -1460.5000000000432,
          -1473.2000000000428,
          -1567.0000000000434,
          -1543.0000000000416,
          -1562.6000000000413,
          -1581.600000000041,
          -1560.3000000000413,
          -1544.700000000042,
          -1572.2000000000426,
          -1601.2000000000428,
          -1546.8000000000416,
          -1508.0000000000425,
          -1534.300000000044,
          -1472.1000000000452,
          -1414.9000000000435,
          -1417.3000000000436,
          -1400.400000000043,
          -1390.2000000000428,
          -1416.200000000042,
          -1444.2000000000435,
          -1475.2000000000446,
          -1502.200000000044,
          -1508.000000000042,
          -1491.2000000000414,
          -1447.7000000000412,
          -1462.9000000000428,
          -1467.4000000000435,
          -1400.0000000000439,
          -1365.4000000000437,
          -1276.6000000000415,
          -1264.7000000000419,
          -1306.5000000000416,
          -1358.2000000000417,
          -1367.30000000004,
          -1413.00000000004,
          -1408.3000000000402,
          -1423.5000000000389,
          -1513.8000000000397,
          -1536.0000000000405,
          -1570.8000000000409,
          -1572.000000000041,
          -1624.8000000000382,
          -1709.9000000000383,
          -1730.9000000000392,
          -1725.1000000000402,
          -1755.0000000000407,
          -1799.4000000000399,
          -1966.4000000000415,
          -1988.000000000042,
          -2082.600000000044,
          -2085.800000000045,
          -2103.0000000000446,
          -2092.400000000046,
          -2101.3000000000466,
          -2113.3000000000475,
          -2160.4000000000474,
          -2171.800000000048,
          -2212.5000000000473,
          -2224.200000000046,
          -2218.0000000000455,
          -2250.600000000046,
          -2266.000000000047,
          -2345.900000000047,
          -2366.7000000000467,
          -2372.3000000000466,
          -2417.9000000000447,
          -2518.6000000000445,
          -2486.000000000044,
          -2504.4000000000437,
          -2512.600000000043,
          -2552.800000000042,
          -2562.7000000000426,
          -2577.0000000000427,
          -2579.0000000000427,
          -2596.9000000000424,
          -2623.7000000000426,
          -2646.600000000044,
          -2675.000000000043,
          -2705.4000000000433,
          -2812.4000000000437,
          -2739.2000000000435,
          -2758.9000000000433,
          -2740.3000000000434,
          -2758.500000000045,
          -2799.7000000000457,
          -2854.500000000046,
          -2857.900000000046,
          -2880.5000000000455,
          -2888.7000000000457,
          -2916.900000000046,
          -2932.100000000048,
          -2940.200000000048,
          -2975.800000000047,
          -3101.200000000047,
          -3133.7000000000467,
          -3125.100000000048,
          -3109.600000000048,
          -3175.300000000049,
          -3214.7000000000507,
          -3283.6000000000495,
          -3332.000000000049,
          -3343.500000000049,
          -3350.6000000000513,
          -3349.1000000000504,
          -3355.10000000005,
          -3364.30000000005,
          -3332.9000000000533,
          -3368.600000000054,
          -3394.300000000054,
          -3448.0000000000537,
          -3509.9000000000538,
          -3561.000000000053,
          -3601.000000000053,
          -3433.100000000055,
          -3438.3000000000543,
          -3470.5000000000546,
          -3544.2000000000558,
          -3552.100000000054,
          -3551.100000000055,
          -3573.9000000000556,
          -3576.1000000000563,
          -3843.700000000056,
          -3753.200000000057,
          -3418.0000000000555,
          -3424.3000000000566,
          -3223.1000000000563,
          -2935.700000000056,
          -3023.100000000056,
          -3030.100000000055,
          -3038.9000000000547,
          -2646.0000000000555,
          -2530.600000000054,
          -2546.3000000000548,
          -2508.500000000056,
          -2519.200000000057,
          -2650.000000000057,
          -2669.800000000058,
          -2664.400000000057,
          -2638.6000000000568,
          -2642.6000000000563,
          -2633.000000000056,
          -2644.6000000000554,
          -2644.400000000055,
          -2631.600000000056,
          -2638.5000000000555,
          -2672.7000000000553,
          -2681.000000000054,
          -2696.100000000054,
          -2686.000000000054,
          -2681.900000000054,
          -2680.1000000000536,
          -2704.900000000053,
          -2794.200000000054,
          -2798.4000000000538,
          -2792.400000000054,
          -2790.000000000054,
          -2790.7000000000544,
          -2596.7000000000553,
          -2363.5000000000555,
          -2167.400000000056,
          -2070.400000000056,
          -2024.500000000055,
          -2057.3000000000557,
          -2068.500000000056,
          -2088.700000000055,
          -2070.6000000000563,
          -2080.200000000057,
          -1960.0000000000568,
          -1818.7000000000594,
          -1847.2000000000596,
          -1765.2000000000598,
          -1795.5000000000596,
          -1827.9000000000565,
          -1821.7000000000537,
          -1806.1000000000558,
          -1804.4000000000558,
          -1804.4000000000558,
          -1811.400000000056,
          -1810.400000000056,
          -1859.3000000000566,
          -1827.000000000057,
          -1846.000000000055,
          -1861.5000000000543,
          -1884.1000000000558,
          -1906.8000000000536,
          -1915.2000000000542,
          -1938.900000000054,
          -1936.2000000000533,
          -1952.1000000000524,
          -1946.6000000000518,
          -1837.8000000000502,
          -1848.9000000000508,
          -1935.2000000000521,
          -1968.8000000000525,
          -1982.7000000000526,
          -1994.4000000000538,
          -1998.8000000000527,
          -2027.100000000053,
          -2033.000000000054,
          -2052.300000000055,
          -2042.100000000055,
          -1992.300000000056,
          -2018.100000000056,
          -2040.500000000055,
          -2045.400000000055,
          -2059.6000000000545,
          -1910.9000000000533,
          -1862.7000000000528,
          -1818.2000000000535,
          -1790.4000000000524,
          -1784.300000000051,
          -1825.9000000000538,
          -1705.100000000053,
          -1652.5000000000546,
          -1693.3000000000532,
          -1628.3000000000536,
          -1693.1000000000531,
          -1703.3000000000525,
          -1719.300000000051,
          -1676.4000000000506,
          -1677.2000000000514,
          -1675.400000000053,
          -1689.3000000000532,
          -1708.8000000000543,
          -1721.100000000055,
          -1734.5000000000562,
          -1748.8000000000566,
          -1785.6000000000568,
          -1789.6000000000563,
          -1791.0000000000566,
          -1779.8000000000566,
          -1838.700000000055,
          -1867.4000000000556,
          -1812.2000000000564,
          -1822.4000000000551,
          -1840.4000000000553,
          -1816.1000000000565,
          -1789.800000000056,
          -1799.5000000000573,
          -1783.0000000000564,
          -1785.9000000000565,
          -1791.7000000000567,
          -1811.3000000000575,
          -1810.900000000056,
          -1848.3000000000568,
          -1914.800000000055,
          -1933.300000000054,
          -1969.5000000000537,
          -2068.900000000054,
          -2202.2000000000526,
          -2209.8000000000525,
          -2211.0000000000528,
          -2225.6000000000536,
          -2272.0000000000537,
          -2304.7000000000535,
          -2393.5000000000537,
          -2450.1000000000536,
          -2470.100000000052,
          -2495.5000000000514,
          -2334.7000000000507,
          -2366.5000000000505,
          -2385.10000000005,
          -2296.9000000000515,
          -2289.1000000000527,
          -2315.6000000000527,
          -2294.000000000053,
          -2353.800000000053,
          -2382.2000000000526,
          -2409.5000000000523,
          -2405.200000000053,
          -2411.1000000000518,
          -2360.9000000000506,
          -2210.800000000051,
          -2242.1000000000513,
          -2330.300000000052,
          -2389.400000000053,
          -2423.200000000051,
          -2418.800000000051,
          -2557.7000000000517,
          -2595.100000000052,
          -2634.700000000053,
          -2777.3000000000534,
          -2888.5000000000537,
          -2908.900000000054,
          -2826.1000000000536,
          -2873.6000000000545,
          -2706.9000000000533,
          -2627.500000000053,
          -2484.100000000053,
          -2366.700000000052,
          -2377.300000000053,
          -2439.600000000052,
          -2406.300000000053,
          -2414.000000000053,
          -2545.4000000000538,
          -2602.3000000000525,
          -2698.6000000000527,
          -2756.900000000051,
          -2823.5000000000514,
          -2880.600000000049,
          -2911.200000000049,
          -2839.700000000047,
          -2629.8000000000466,
          -2659.6000000000463,
          -2615.0000000000464,
          -2536.6000000000467,
          -2456.8000000000457,
          -2336.5000000000437,
          -2303.1000000000436,
          -2246.200000000044,
          -2244.4000000000433,
          -2230.2000000000435,
          -2232.800000000043,
          -2199.6000000000436,
          -2211.700000000043,
          -2217.400000000043,
          -2264.5000000000427,
          -2214.1000000000413,
          -2110.3000000000416,
          -2035.3000000000409,
          -2019.6000000000408,
          -2080.8000000000397,
          -2091.50000000004,
          -2149.5000000000405,
          -2168.7000000000407,
          -2181.10000000004,
          -2214.100000000041,
          -2229.5000000000405,
          -2267.500000000041,
          -2384.200000000041,
          -2497.8000000000407,
          -2602.200000000043,
          -2600.4000000000424,
          -2652.90000000004,
          -2716.90000000004,
          -2766.90000000004,
          -2736.900000000041,
          -2746.3000000000393,
          -2746.600000000039,
          -2819.2000000000394,
          -2884.400000000038,
          -2958.9000000000365,
          -2962.1000000000377,
          -2949.600000000038,
          -2919.400000000038,
          -2923.800000000038,
          -2950.300000000036,
          -2942.900000000035,
          -3231.300000000035,
          -3280.800000000035,
          -3340.6000000000363,
          -3411.700000000037,
          -3600.1000000000367,
          -3658.800000000036,
          -3659.300000000036,
          -3730.800000000036,
          -3762.700000000036,
          -3777.7000000000367,
          -3869.5000000000364,
          -3866.6000000000363,
          -3906.1000000000354,
          -3843.6000000000345,
          -3922.2000000000344,
          -3993.6000000000345,
          -4034.300000000036,
          -4048.500000000036,
          -4050.6000000000363,
          -3868.8000000000357,
          -3831.6000000000367,
          -3847.0000000000364,
          -3921.0000000000373,
          -3709.5000000000373,
          -3740.700000000037,
          -3797.4000000000365,
          -3793.0000000000364,
          -3798.3000000000357,
          -3792.100000000035,
          -3847.900000000034,
          -3951.8000000000343,
          -3803.800000000035,
          -3806.700000000035,
          -3820.700000000035,
          -3814.600000000035,
          -3817.6000000000345,
          -3823.000000000034,
          -3832.4000000000347,
          -3952.6000000000317,
          -4043.5000000000314,
          -4069.5000000000323,
          -4111.300000000033,
          -4154.4000000000315,
          -4182.4000000000315,
          -4102.000000000032,
          -4124.100000000032,
          -4134.200000000032,
          -3822.8000000000325,
          -3671.600000000033,
          -3625.800000000032,
          -3633.5000000000314,
          -3286.8000000000306,
          -3287.000000000032,
          -3243.7000000000326,
          -3303.5000000000314,
          -3333.900000000032,
          -3334.30000000003,
          -3335.30000000003,
          -3270.40000000003,
          -3092.4000000000296,
          -3121.60000000003,
          -3068.60000000003,
          -2691.6000000000317,
          -2545.900000000033,
          -2531.800000000034,
          -2450.5000000000337,
          -2119.500000000035,
          -2067.9000000000347,
          -2092.900000000035,
          -2109.3000000000347,
          -2128.5000000000364,
          -2049.300000000037,
          -2004.4000000000372,
          -1932.1000000000377,
          -1874.8000000000375,
          -1868.6000000000367,
          -1923.4000000000383,
          -1910.5000000000405,
          -1912.6000000000408,
          -1891.5000000000414,
          -1904.7000000000412,
          -1919.9000000000412,
          -2011.4000000000412,
          -2014.100000000041,
          -2018.500000000041,
          -2022.7000000000412,
          -2023.0000000000412,
          -2026.5000000000418,
          -2028.6000000000404,
          -2039.4000000000424,
          -2084.6000000000445,
          -2129.800000000045,
          -2140.8000000000447,
          -2152.8000000000457,
          -2148.0000000000455,
          -2158.6000000000463,
          -2152.300000000045,
          -2134.600000000045,
          -2169.0000000000473,
          -1942.700000000048,
          -1839.4000000000465,
          -1866.7000000000462,
          -1895.0000000000477,
          -1931.3000000000477,
          -1897.2000000000485,
          -1910.9000000000494,
          -1912.50000000005,
          -1945.600000000049,
          -1969.6000000000486,
          -2059.0000000000477,
          -2103.6000000000477,
          -2189.900000000048,
          -2257.3000000000475,
          -2259.600000000048,
          -2254.4000000000483,
          -2271.800000000048,
          -2217.900000000048,
          -2212.1000000000486,
          -2208.9000000000487,
          -2195.6000000000486,
          -2320.8000000000475,
          -2457.500000000048,
          -2478.9000000000483,
          -2508.300000000049,
          -2455.300000000048,
          -2467.9000000000483,
          -2423.0000000000473,
          -2430.0000000000464,
          -2447.8000000000475,
          -2415.8000000000475,
          -2292.3000000000457,
          -2167.9000000000447,
          -2221.3000000000447,
          -2242.8000000000447,
          -2160.3000000000447,
          -2101.3000000000447,
          -2112.1000000000445,
          -2090.400000000044,
          -2062.0000000000437,
          -2078.300000000044,
          -2055.3000000000443,
          -2051.0000000000437,
          -2065.000000000043,
          -2062.2000000000426,
          -2071.8000000000434,
          -2070.1000000000436,
          -2081.400000000044,
          -2105.900000000043,
          -2110.9000000000433,
          -2036.500000000042,
          -2092.1000000000404,
          -2062.70000000004,
          -2089.20000000004,
          -2099.0000000000396,
          -2123.60000000004,
          -2191.400000000041,
          -2215.400000000042,
          -2179.800000000043,
          -2267.400000000041,
          -2307.300000000041,
          -2258.9000000000406,
          -2208.000000000041,
          -2145.600000000041,
          -2078.7000000000385,
          -2010.700000000037,
          -2001.4000000000362,
          -2024.8000000000343,
          -2046.400000000036,
          -2008.1000000000365,
          -2026.9000000000353,
          -2014.500000000036,
          -1800.9000000000367,
          -1684.700000000036,
          -1603.200000000036,
          -1555.600000000035,
          -1301.600000000034,
          -1311.6000000000352,
          -1244.7000000000355,
          -1158.1000000000356,
          -1177.6000000000356,
          -1048.4000000000374,
          -857.1000000000365,
          -762.8000000000382,
          -810.2000000000379,
          -822.2000000000388,
          -873.7000000000387,
          -891.7000000000387,
          -943.700000000038,
          -1066.5000000000389,
          -1147.0000000000389,
          -752.6000000000378,
          -695.400000000039,
          -685.7000000000381,
          -721.2000000000376,
          -703.5000000000371,
          -730.7000000000376,
          -698.900000000038,
          -678.5000000000375,
          -636.0000000000377,
          -680.7000000000374,
          -684.700000000037,
          -696.1000000000362,
          -657.1000000000361,
          -687.7000000000345,
          -693.9000000000351,
          -551.2000000000351,
          -524.1000000000352,
          -558.300000000035,
          -565.0000000000343,
          -464.100000000034,
          -411.8000000000333,
          -334.20000000003347,
          -358.20000000003296,
          -325.10000000003373,
          -322.00000000003314,
          -325.80000000003423,
          -337.2000000000334,
          -354.9000000000355,
          -370.8000000000353,
          -374.1000000000347,
          -407.700000000035,
          -429.5000000000357,
          -440.5000000000345,
          -450.90000000003585,
          -439.10000000003623,
          -495.40000000003647,
          -518.6000000000365,
          -546.1000000000357,
          -593.5000000000354,
          -594.600000000036,
          -638.2000000000362,
          -645.9000000000367,
          -599.7000000000364,
          -600.8000000000361,
          -608.5000000000359,
          -688.8000000000358,
          -667.2000000000364,
          -639.3000000000354,
          -575.5000000000349,
          -570.4000000000348,
          -552.4000000000345,
          -538.0000000000346,
          -548.7000000000347,
          -560.7000000000337,
          -572.7000000000323,
          -594.6000000000325,
          -595.6000000000324,
          -637.6000000000333,
          -643.100000000032,
          -654.7000000000324,
          -695.4000000000304,
          -707.80000000003,
          -582.6000000000291,
          -445.30000000002866,
          -448.60000000002736,
          -464.90000000002755,
          -343.90000000002436,
          -364.0000000000237,
          -158.3000000000249,
          -101.90000000002402,
          58.09999999997612,
          55.89999999997503,
          33.699999999975034,
          -62.800000000025435,
          107.19999999997582,
          94.59999999997542,
          95.89999999997728,
          85.6999999999769,
          87.09999999997719,
          109.49999999997888,
          296.89999999997985,
          418.4999999999793,
          485.6999999999799,
          566.3999999999779,
          432.0999999999786,
          432.5999999999774,
          397.6999999999775,
          485.29999999997847,
          427.39999999997906,
          413.7999999999788,
          394.99999999997885,
          653.4999999999793,
          649.7999999999802,
          625.7999999999806,
          732.2999999999811,
          818.699999999981,
          831.6999999999817,
          704.299999999982,
          712.4999999999824,
          759.7999999999824,
          786.099999999983,
          761.7999999999814,
          776.799999999982,
          762.6999999999829,
          769.8999999999824,
          549.3999999999837,
          539.5999999999838,
          522.6999999999827,
          502.4999999999835,
          481.899999999984,
          506.8999999999846,
          377.5999999999868,
          522.499999999988,
          512.4999999999873,
          489.6999999999867,
          459.09999999998604,
          738.699999999986,
          756.8999999999862,
          939.199999999986,
          1048.6999999999857,
          1218.7999999999865,
          1201.9999999999886,
          1269.099999999987,
          1247.0999999999872,
          1227.4999999999873,
          1280.499999999987,
          1264.4999999999877,
          1497.0999999999883,
          1476.1999999999891,
          1460.9999999999895,
          1449.0999999999894,
          1419.9999999999884,
          1416.2999999999886,
          1408.1999999999882,
          1443.3999999999871,
          1468.89999999999,
          1841.8999999999896,
          2040.7999999999915,
          2447.1999999999916,
          2457.1999999999916,
          2632.999999999991,
          2707.999999999991,
          2781.5999999999913,
          2793.6999999999907,
          2948.6999999999894,
          2949.799999999989,
          2924.5999999999876,
          2949.599999999987,
          2925.69999999999,
          2894.0999999999894,
          2867.99999999999,
          2906.3999999999905,
          2910.299999999992,
          2954.8999999999933,
          2967.699999999994,
          3001.599999999994,
          3022.8999999999933,
          2980.999999999994,
          2979.6999999999944,
          2974.799999999994,
          3006.6999999999925,
          3015.1999999999916,
          3003.1999999999925,
          2982.699999999994,
          2947.799999999994,
          2930.4999999999936,
          2892.2999999999934,
          2885.3999999999937,
          2858.3999999999933,
          2867.799999999993,
          2900.599999999993,
          2891.6999999999925,
          2831.6999999999925,
          2741.799999999991,
          2766.999999999991,
          2725.0999999999926,
          2711.8999999999924,
          2707.2999999999934,
          2681.2999999999934,
          2658.599999999993,
          2643.9999999999927,
          2629.0999999999926,
          2626.299999999992,
          2605.9999999999923,
          2644.7999999999934,
          2640.299999999993,
          2713.299999999992,
          2826.6999999999907,
          2744.899999999987,
          2672.7999999999874,
          2616.1999999999884,
          2613.199999999989,
          2589.699999999988,
          2510.599999999987,
          2513.4999999999886,
          2633.4999999999886,
          2618.3999999999896,
          2608.8999999999874,
          2546.299999999987,
          2538.2999999999856,
          2507.2999999999865,
          2503.699999999986,
          2422.7999999999847,
          2365.199999999985,
          2360.099999999985,
          2453.699999999983,
          2508.1999999999834,
          2520.799999999984,
          2492.699999999984,
          2466.6999999999844,
          2372.1999999999853,
          2261.399999999986,
          2218.7999999999865,
          2202.4999999999864,
          2198.199999999987,
          2174.599999999988,
          2111.8999999999883,
          2082.899999999987,
          2035.8999999999871,
          2044.6999999999866,
          2020.5999999999874,
          2047.999999999987,
          2027.0999999999867,
          2014.8999999999867,
          1926.3999999999876,
          1992.3999999999887,
          1960.5999999999892,
          1923.9999999999893,
          1960.199999999989,
          2010.9999999999886,
          1999.1999999999891,
          1919.9999999999877,
          1905.6999999999884,
          1975.5999999999863,
          1963.0999999999863,
          1933.0999999999874,
          1926.8999999999876,
          1865.999999999988,
          1936.8999999999883,
          1974.1999999999884,
          2078.4999999999895,
          2105.5999999999894,
          2137.4999999999895,
          2133.6999999999903,
          2137.2999999999906,
          2149.1999999999884,
          2131.4999999999877,
          2128.3999999999874,
          2131.099999999987,
          2123.099999999987,
          2127.8999999999874,
          2119.6999999999866,
          2115.6999999999875,
          2106.7999999999874,
          2099.8999999999887,
          2089.7999999999897,
          2062.69999999999,
          2060.8999999999924,
          2055.4999999999927,
          2039.0999999999947,
          2033.8999999999955,
          2037.0999999999963,
          2040.8999999999967,
          2043.099999999996,
          2035.0999999999963,
          1991.3999999999962,
          1968.5999999999967,
          1984.4999999999966,
          1971.8999999999976,
          1956.3999999999983,
          1961.8999999999976,
          1942.7999999999975,
          1950.3999999999962,
          1926.299999999996,
          1913.399999999997,
          1842.399999999997,
          1792.5999999999947,
          1813.1999999999953,
          1868.2999999999965,
          2031.099999999999,
          2168.899999999999,
          2214.1,
          2193.3999999999996,
          2213.6999999999994,
          2208.199999999999,
          2176.299999999999,
          2165.2,
          2162.399999999999,
          2142.2999999999984,
          2118.8999999999983,
          2075.399999999998,
          2048.3999999999965,
          2099.0999999999967,
          2086.699999999997,
          2088.699999999998,
          2088.4999999999986,
          2082.6,
          2083.600000000001,
          2063.6000000000017,
          2042.0000000000023,
          2001.5000000000011,
          1981.2999999999997,
          2001.5999999999995,
          2027.1,
          2004.1999999999987,
          1989.9999999999977,
          1981.399999999997,
          1957.4999999999961,
          1913.099999999996,
          1896.3999999999976,
          1875.1999999999975,
          1886.599999999998,
          1868.3999999999976,
          1847.3999999999976,
          1798.8999999999974,
          1792.0999999999972,
          1771.8999999999974,
          1779.9999999999968,
          1761.4999999999977,
          1627.8999999999983,
          1569.7999999999975,
          1552.799999999996,
          1590.6999999999957,
          1595.6999999999953,
          1632.2999999999952,
          1569.9999999999934,
          1448.8999999999942,
          1428.7999999999947,
          1417.2999999999938,
          1414.299999999992,
          1354.69999999999,
          1324.0999999999894,
          1271.0999999999876,
          1262.2999999999877,
          1170.79999999999,
          1193.7999999999897,
          1195.3999999999892,
          1168.4999999999884,
          1128.899999999988,
          1079.499999999988,
          1066.3999999999876,
          1060.1999999999869,
          1057.3999999999862,
          1050.1999999999857,
          1043.599999999987,
          1002.4999999999865,
          1022.8999999999858,
          1042.8999999999862,
          1031.7999999999877,
          1083.799999999986,
          1076.499999999986,
          1062.099999999986,
          1115.7999999999852,
          1096.599999999986,
          1069.8999999999864,
          1059.8999999999853,
          1062.0999999999865,
          1052.1999999999882,
          1045.199999999989,
          1042.0999999999897,
          1029.9999999999905,
          1009.7999999999913,
          994.2999999999919,
          1019.899999999993,
          974.3999999999925,
          985.0999999999938,
          978.0999999999946,
          944.8999999999946,
          1018.9999999999972,
          1119.6999999999973,
          1166.0999999999992,
          998.2000000000003,
          970.8999999999991,
          932.199999999999,
          941.199999999998,
          1071.8999999999994,
          1122.5999999999997,
          1082.8999999999994,
          1018.7000000000011,
          1067.4000000000003,
          956.9000000000021,
          894.5000000000001,
          843.6999999999996,
          828.0999999999996,
          877.6999999999992,
          702.1999999999994,
          656.3999999999991,
          558.1999999999974,
          500.99999999999795,
          559.5999999999977,
          569.0999999999967,
          591.7999999999969,
          634.3999999999957,
          764.9999999999959,
          762.6999999999953,
          802.8999999999955,
          867.0999999999954,
          1029.4999999999957,
          1089.0999999999992,
          1111.3999999999987,
          1117.0999999999983,
          1187.1999999999975,
          1172.0999999999974,
          1135.2999999999984,
          1083.0999999999983,
          1035.4999999999984,
          999.099999999998,
          954.5999999999984,
          854.9000000000001,
          663.7000000000014,
          630.8000000000013,
          551.0000000000011,
          494.200000000002,
          399.300000000002,
          378.30000000000166,
          271.10000000000326,
          270.5000000000027,
          268.7000000000031,
          267.50000000000415,
          268.70000000000425,
          507.1000000000056,
          487.7000000000062,
          800.5000000000048,
          778.700000000004,
          856.9000000000057,
          812.7000000000047,
          903.7000000000057,
          1056.7000000000075,
          1082.5000000000066,
          1066.9000000000065,
          1031.9000000000058,
          1050.1000000000051,
          1016.700000000005,
          968.0000000000058,
          888.8000000000065,
          862.500000000006,
          920.0000000000064,
          916.700000000007,
          905.6000000000064,
          881.8000000000059,
          873.0000000000059,
          844.6000000000053,
          819.0000000000052,
          776.3000000000053,
          751.3000000000047,
          723.1000000000042,
          702.3000000000034,
          691.1000000000033,
          716.4000000000003,
          819.200000000001,
          807.0000000000009,
          821.9000000000008,
          829.8000000000003,
          823.8000000000029,
          854.4000000000035,
          849.2000000000054,
          824.8000000000067,
          820.2000000000046,
          760.6000000000042,
          733.2000000000023,
          686.9000000000029,
          580.3000000000009,
          510.60000000000167,
          421.60000000000304,
          418.5000000000038,
          379.30000000000035,
          340.1000000000011,
          342.60000000000167,
          258.50000000000136,
          247.50000000000034,
          243.70000000000098,
          231.00000000000105,
          213.200000000001,
          378.9000000000008,
          365.5000000000007,
          414.30000000000064,
          345.49999999999955,
          438.4999999999993,
          466.3999999999989,
          661.6999999999971,
          725.9999999999998,
          787.1000000000001,
          898.6000000000018,
          804.3000000000013,
          789.2000000000012,
          778.6000000000017,
          748.1000000000024,
          847.200000000001,
          785.1000000000015,
          820.3000000000034,
          906.9000000000023,
          859.0000000000023,
          820.4000000000025,
          818.300000000002,
          924.8000000000025,
          913.4000000000035,
          840.4000000000044,
          904.0000000000048,
          882.000000000005,
          901.5000000000057,
          947.5000000000061,
          934.3000000000056,
          953.9000000000052,
          953.7000000000057,
          934.800000000004,
          925.2000000000033,
          890.7000000000027,
          870.5000000000025,
          752.2000000000003,
          855.3999999999991,
          833.699999999999,
          801.499999999999,
          872.4999999999978,
          872.4999999999978,
          1249.199999999996,
          1259.5999999999958,
          1280.2999999999956,
          1274.2999999999963,
          1242.8999999999971,
          1227.8999999999965,
          1195.0999999999947,
          1151.0999999999929,
          1157.5999999999926,
          1123.5999999999938,
          1120.599999999994,
          1086.7999999999947,
          1035.299999999995,
          1012.2999999999953,
          983.0999999999965,
          1076.4999999999943,
          1054.399999999994,
          1045.599999999994,
          1066.7999999999956,
          968.3999999999971,
          931.5999999999981,
          928.3999999999971,
          852.2999999999981,
          806.9999999999994,
          769.4000000000007,
          653.8000000000009,
          675.4000000000013,
          636.0000000000031,
          677.7000000000031,
          703.4000000000038,
          678.8000000000047,
          682.5000000000045,
          679.900000000003,
          655.200000000003,
          820.0000000000035,
          804.2000000000032,
          621.1000000000068,
          623.4000000000063,
          598.4000000000063,
          588.6000000000065,
          884.600000000008,
          1190.6000000000083,
          1196.60000000001,
          1181.6000000000095,
          1194.3000000000104,
          1337.7000000000087,
          1339.4000000000076,
          2062.7000000000094,
          2232.100000000008,
          2265.800000000008,
          2221.40000000001,
          2204.4000000000096,
          2194.800000000009,
          2130.8000000000093,
          2090.3000000000084,
          2053.7000000000094,
          2000.7000000000107,
          1970.5000000000105,
          1978.9000000000099,
          1947.8000000000093,
          1927.7000000000107,
          1872.50000000001,
          1849.5000000000102,
          1786.5000000000127,
          1774.9000000000121,
          1762.1000000000126,
          1754.6000000000124,
          1760.1000000000129,
          1742.000000000014,
          1791.600000000015,
          1777.7000000000148,
          1769.4000000000149,
          1756.8000000000156,
          1739.1000000000151,
          1711.1000000000138,
          1713.1000000000136,
          1682.1000000000124,
          1654.900000000013,
          1635.400000000013,
          1618.5000000000134,
          1592.1000000000136,
          1567.7000000000135,
          1548.5000000000143,
          1611.6000000000124,
          1599.9000000000135,
          1589.500000000014,
          1588.2000000000144,
          1582.6000000000142,
          1549.0000000000143,
          1532.4000000000144,
          1528.600000000014,
          1508.5000000000146,
          1474.3000000000147,
          1447.5000000000146,
          1497.5000000000157,
          1668.2000000000153,
          1912.3000000000143,
          2066.2000000000153,
          2060.200000000015,
          2073.800000000015,
          2048.2000000000153,
          2023.8000000000175,
          2028.4000000000167,
          2017.3000000000172,
          2121.300000000017,
          2090.5000000000177,
          2210.700000000017,
          2389.9000000000165,
          2479.2000000000166,
          2564.600000000016,
          2583.600000000016,
          2556.1000000000167,
          2477.9000000000174,
          2512.9000000000174,
          2552.4000000000165,
          2531.2000000000176,
          2479.0000000000177,
          2455.000000000018,
          2440.400000000018,
          2452.4000000000165,
          2455.8000000000166,
          2416.700000000018,
          2352.7000000000185,
          2345.1000000000176,
          2328.3000000000166,
          2310.5000000000164,
          2271.5000000000164,
          2270.0000000000155,
          2210.3000000000175,
          2191.0000000000177,
          2161.500000000019,
          2136.500000000019,
          2123.3000000000193,
          2092.2000000000176,
          1989.8000000000184,
          1965.000000000018,
          1916.8000000000175,
          1866.4000000000194,
          2061.900000000021,
          1945.1000000000208,
          1926.90000000002,
          2218.9000000000174,
          2244.700000000017,
          2312.6000000000167,
          2489.0000000000177,
          2504.7000000000176,
          2502.400000000018,
          2500.400000000018,
          2408.3000000000197,
          2391.9000000000187,
          2387.4000000000187,
          2361.700000000019,
          2344.90000000002,
          2307.9000000000196,
          2295.000000000019,
          2229.500000000018,
          2243.5000000000186,
          2187.7000000000194,
          2100.8000000000206,
          2074.3000000000216,
          1961.6000000000201,
          1923.2000000000187,
          1957.200000000017,
          1980.70000000002,
          2011.2000000000212,
          2037.400000000022,
          2026.60000000002,
          2005.0000000000205,
          1918.900000000019,
          1863.9000000000178,
          1914.100000000018,
          2025.9000000000146,
          2051.6000000000136,
          2085.6000000000136,
          2050.8000000000143,
          2006.2000000000132,
          1988.7000000000119,
          1963.5000000000111,
          2003.1000000000108,
          1963.8000000000106,
          1780.8000000000104,
          1749.6000000000104,
          1744.10000000001,
          1706.3000000000109,
          1647.5000000000095,
          1540.9000000000106,
          1503.9000000000094,
          1489.0000000000093,
          1438.5000000000093,
          1414.5000000000098,
          1405.9000000000112,
          1331.9000000000108,
          1274.5000000000089,
          1255.400000000008,
          1211.8000000000088,
          1229.8000000000068,
          1178.7000000000082,
          1129.3000000000077,
          1134.4000000000078,
          1139.3000000000077,
          1120.1000000000085,
          1148.600000000008,
          1196.8000000000075,
          1193.1000000000076,
          1173.1000000000076,
          1163.5000000000073,
          1111.6000000000108,
          1079.4000000000106,
          1040.0000000000123,
          1065.0000000000118,
          994.0000000000118,
          1038.400000000012,
          992.7000000000133,
          942.2000000000133,
          858.0000000000147,
          853.400000000014,
          863.1000000000133,
          929.500000000012,
          889.9000000000134,
          853.0000000000128,
          869.4000000000137,
          838.4000000000138,
          829.6000000000139,
          801.4000000000145,
          724.1000000000143,
          682.5000000000149,
          644.7000000000148,
          613.9000000000142,
          595.1000000000143,
          587.9000000000141,
          564.7000000000133,
          529.6000000000134,
          533.100000000012,
          528.40000000001,
          486.70000000000914,
          479.1000000000082,
          463.30000000000905,
          424.9000000000095,
          272.5000000000114,
          266.30000000001075,
          257.6000000000115,
          247.20000000001158
         ]
        }
       ],
       "layout": {
        "font": {
         "color": "#e1e1e1",
         "size": 10
        },
        "height": 400,
        "margin": {
         "b": 10,
         "l": 15,
         "r": 15
        },
        "paper_bgcolor": "#1e1e1e",
        "plot_bgcolor": "#1e1e1e",
        "template": {
         "data": {
          "bar": [
           {
            "error_x": {
             "color": "#2a3f5f"
            },
            "error_y": {
             "color": "#2a3f5f"
            },
            "marker": {
             "line": {
              "color": "#E5ECF6",
              "width": 0.5
             },
             "pattern": {
              "fillmode": "overlay",
              "size": 10,
              "solidity": 0.2
             }
            },
            "type": "bar"
           }
          ],
          "barpolar": [
           {
            "marker": {
             "line": {
              "color": "#E5ECF6",
              "width": 0.5
             },
             "pattern": {
              "fillmode": "overlay",
              "size": 10,
              "solidity": 0.2
             }
            },
            "type": "barpolar"
           }
          ],
          "carpet": [
           {
            "aaxis": {
             "endlinecolor": "#2a3f5f",
             "gridcolor": "white",
             "linecolor": "white",
             "minorgridcolor": "white",
             "startlinecolor": "#2a3f5f"
            },
            "baxis": {
             "endlinecolor": "#2a3f5f",
             "gridcolor": "white",
             "linecolor": "white",
             "minorgridcolor": "white",
             "startlinecolor": "#2a3f5f"
            },
            "type": "carpet"
           }
          ],
          "choropleth": [
           {
            "colorbar": {
             "outlinewidth": 0,
             "ticks": ""
            },
            "type": "choropleth"
           }
          ],
          "contour": [
           {
            "colorbar": {
             "outlinewidth": 0,
             "ticks": ""
            },
            "colorscale": [
             [
              0,
              "#0d0887"
             ],
             [
              0.1111111111111111,
              "#46039f"
             ],
             [
              0.2222222222222222,
              "#7201a8"
             ],
             [
              0.3333333333333333,
              "#9c179e"
             ],
             [
              0.4444444444444444,
              "#bd3786"
             ],
             [
              0.5555555555555556,
              "#d8576b"
             ],
             [
              0.6666666666666666,
              "#ed7953"
             ],
             [
              0.7777777777777778,
              "#fb9f3a"
             ],
             [
              0.8888888888888888,
              "#fdca26"
             ],
             [
              1,
              "#f0f921"
             ]
            ],
            "type": "contour"
           }
          ],
          "contourcarpet": [
           {
            "colorbar": {
             "outlinewidth": 0,
             "ticks": ""
            },
            "type": "contourcarpet"
           }
          ],
          "heatmap": [
           {
            "colorbar": {
             "outlinewidth": 0,
             "ticks": ""
            },
            "colorscale": [
             [
              0,
              "#0d0887"
             ],
             [
              0.1111111111111111,
              "#46039f"
             ],
             [
              0.2222222222222222,
              "#7201a8"
             ],
             [
              0.3333333333333333,
              "#9c179e"
             ],
             [
              0.4444444444444444,
              "#bd3786"
             ],
             [
              0.5555555555555556,
              "#d8576b"
             ],
             [
              0.6666666666666666,
              "#ed7953"
             ],
             [
              0.7777777777777778,
              "#fb9f3a"
             ],
             [
              0.8888888888888888,
              "#fdca26"
             ],
             [
              1,
              "#f0f921"
             ]
            ],
            "type": "heatmap"
           }
          ],
          "heatmapgl": [
           {
            "colorbar": {
             "outlinewidth": 0,
             "ticks": ""
            },
            "colorscale": [
             [
              0,
              "#0d0887"
             ],
             [
              0.1111111111111111,
              "#46039f"
             ],
             [
              0.2222222222222222,
              "#7201a8"
             ],
             [
              0.3333333333333333,
              "#9c179e"
             ],
             [
              0.4444444444444444,
              "#bd3786"
             ],
             [
              0.5555555555555556,
              "#d8576b"
             ],
             [
              0.6666666666666666,
              "#ed7953"
             ],
             [
              0.7777777777777778,
              "#fb9f3a"
             ],
             [
              0.8888888888888888,
              "#fdca26"
             ],
             [
              1,
              "#f0f921"
             ]
            ],
            "type": "heatmapgl"
           }
          ],
          "histogram": [
           {
            "marker": {
             "pattern": {
              "fillmode": "overlay",
              "size": 10,
              "solidity": 0.2
             }
            },
            "type": "histogram"
           }
          ],
          "histogram2d": [
           {
            "colorbar": {
             "outlinewidth": 0,
             "ticks": ""
            },
            "colorscale": [
             [
              0,
              "#0d0887"
             ],
             [
              0.1111111111111111,
              "#46039f"
             ],
             [
              0.2222222222222222,
              "#7201a8"
             ],
             [
              0.3333333333333333,
              "#9c179e"
             ],
             [
              0.4444444444444444,
              "#bd3786"
             ],
             [
              0.5555555555555556,
              "#d8576b"
             ],
             [
              0.6666666666666666,
              "#ed7953"
             ],
             [
              0.7777777777777778,
              "#fb9f3a"
             ],
             [
              0.8888888888888888,
              "#fdca26"
             ],
             [
              1,
              "#f0f921"
             ]
            ],
            "type": "histogram2d"
           }
          ],
          "histogram2dcontour": [
           {
            "colorbar": {
             "outlinewidth": 0,
             "ticks": ""
            },
            "colorscale": [
             [
              0,
              "#0d0887"
             ],
             [
              0.1111111111111111,
              "#46039f"
             ],
             [
              0.2222222222222222,
              "#7201a8"
             ],
             [
              0.3333333333333333,
              "#9c179e"
             ],
             [
              0.4444444444444444,
              "#bd3786"
             ],
             [
              0.5555555555555556,
              "#d8576b"
             ],
             [
              0.6666666666666666,
              "#ed7953"
             ],
             [
              0.7777777777777778,
              "#fb9f3a"
             ],
             [
              0.8888888888888888,
              "#fdca26"
             ],
             [
              1,
              "#f0f921"
             ]
            ],
            "type": "histogram2dcontour"
           }
          ],
          "mesh3d": [
           {
            "colorbar": {
             "outlinewidth": 0,
             "ticks": ""
            },
            "type": "mesh3d"
           }
          ],
          "parcoords": [
           {
            "line": {
             "colorbar": {
              "outlinewidth": 0,
              "ticks": ""
             }
            },
            "type": "parcoords"
           }
          ],
          "pie": [
           {
            "automargin": true,
            "type": "pie"
           }
          ],
          "scatter": [
           {
            "marker": {
             "colorbar": {
              "outlinewidth": 0,
              "ticks": ""
             }
            },
            "type": "scatter"
           }
          ],
          "scatter3d": [
           {
            "line": {
             "colorbar": {
              "outlinewidth": 0,
              "ticks": ""
             }
            },
            "marker": {
             "colorbar": {
              "outlinewidth": 0,
              "ticks": ""
             }
            },
            "type": "scatter3d"
           }
          ],
          "scattercarpet": [
           {
            "marker": {
             "colorbar": {
              "outlinewidth": 0,
              "ticks": ""
             }
            },
            "type": "scattercarpet"
           }
          ],
          "scattergeo": [
           {
            "marker": {
             "colorbar": {
              "outlinewidth": 0,
              "ticks": ""
             }
            },
            "type": "scattergeo"
           }
          ],
          "scattergl": [
           {
            "marker": {
             "colorbar": {
              "outlinewidth": 0,
              "ticks": ""
             }
            },
            "type": "scattergl"
           }
          ],
          "scattermapbox": [
           {
            "marker": {
             "colorbar": {
              "outlinewidth": 0,
              "ticks": ""
             }
            },
            "type": "scattermapbox"
           }
          ],
          "scatterpolar": [
           {
            "marker": {
             "colorbar": {
              "outlinewidth": 0,
              "ticks": ""
             }
            },
            "type": "scatterpolar"
           }
          ],
          "scatterpolargl": [
           {
            "marker": {
             "colorbar": {
              "outlinewidth": 0,
              "ticks": ""
             }
            },
            "type": "scatterpolargl"
           }
          ],
          "scatterternary": [
           {
            "marker": {
             "colorbar": {
              "outlinewidth": 0,
              "ticks": ""
             }
            },
            "type": "scatterternary"
           }
          ],
          "surface": [
           {
            "colorbar": {
             "outlinewidth": 0,
             "ticks": ""
            },
            "colorscale": [
             [
              0,
              "#0d0887"
             ],
             [
              0.1111111111111111,
              "#46039f"
             ],
             [
              0.2222222222222222,
              "#7201a8"
             ],
             [
              0.3333333333333333,
              "#9c179e"
             ],
             [
              0.4444444444444444,
              "#bd3786"
             ],
             [
              0.5555555555555556,
              "#d8576b"
             ],
             [
              0.6666666666666666,
              "#ed7953"
             ],
             [
              0.7777777777777778,
              "#fb9f3a"
             ],
             [
              0.8888888888888888,
              "#fdca26"
             ],
             [
              1,
              "#f0f921"
             ]
            ],
            "type": "surface"
           }
          ],
          "table": [
           {
            "cells": {
             "fill": {
              "color": "#EBF0F8"
             },
             "line": {
              "color": "white"
             }
            },
            "header": {
             "fill": {
              "color": "#C8D4E3"
             },
             "line": {
              "color": "white"
             }
            },
            "type": "table"
           }
          ]
         },
         "layout": {
          "annotationdefaults": {
           "arrowcolor": "#2a3f5f",
           "arrowhead": 0,
           "arrowwidth": 1
          },
          "autotypenumbers": "strict",
          "coloraxis": {
           "colorbar": {
            "outlinewidth": 0,
            "ticks": ""
           }
          },
          "colorscale": {
           "diverging": [
            [
             0,
             "#8e0152"
            ],
            [
             0.1,
             "#c51b7d"
            ],
            [
             0.2,
             "#de77ae"
            ],
            [
             0.3,
             "#f1b6da"
            ],
            [
             0.4,
             "#fde0ef"
            ],
            [
             0.5,
             "#f7f7f7"
            ],
            [
             0.6,
             "#e6f5d0"
            ],
            [
             0.7,
             "#b8e186"
            ],
            [
             0.8,
             "#7fbc41"
            ],
            [
             0.9,
             "#4d9221"
            ],
            [
             1,
             "#276419"
            ]
           ],
           "sequential": [
            [
             0,
             "#0d0887"
            ],
            [
             0.1111111111111111,
             "#46039f"
            ],
            [
             0.2222222222222222,
             "#7201a8"
            ],
            [
             0.3333333333333333,
             "#9c179e"
            ],
            [
             0.4444444444444444,
             "#bd3786"
            ],
            [
             0.5555555555555556,
             "#d8576b"
            ],
            [
             0.6666666666666666,
             "#ed7953"
            ],
            [
             0.7777777777777778,
             "#fb9f3a"
            ],
            [
             0.8888888888888888,
             "#fdca26"
            ],
            [
             1,
             "#f0f921"
            ]
           ],
           "sequentialminus": [
            [
             0,
             "#0d0887"
            ],
            [
             0.1111111111111111,
             "#46039f"
            ],
            [
             0.2222222222222222,
             "#7201a8"
            ],
            [
             0.3333333333333333,
             "#9c179e"
            ],
            [
             0.4444444444444444,
             "#bd3786"
            ],
            [
             0.5555555555555556,
             "#d8576b"
            ],
            [
             0.6666666666666666,
             "#ed7953"
            ],
            [
             0.7777777777777778,
             "#fb9f3a"
            ],
            [
             0.8888888888888888,
             "#fdca26"
            ],
            [
             1,
             "#f0f921"
            ]
           ]
          },
          "colorway": [
           "#636efa",
           "#EF553B",
           "#00cc96",
           "#ab63fa",
           "#FFA15A",
           "#19d3f3",
           "#FF6692",
           "#B6E880",
           "#FF97FF",
           "#FECB52"
          ],
          "font": {
           "color": "#2a3f5f"
          },
          "geo": {
           "bgcolor": "white",
           "lakecolor": "white",
           "landcolor": "#E5ECF6",
           "showlakes": true,
           "showland": true,
           "subunitcolor": "white"
          },
          "hoverlabel": {
           "align": "left"
          },
          "hovermode": "closest",
          "mapbox": {
           "style": "light"
          },
          "paper_bgcolor": "white",
          "plot_bgcolor": "#E5ECF6",
          "polar": {
           "angularaxis": {
            "gridcolor": "white",
            "linecolor": "white",
            "ticks": ""
           },
           "bgcolor": "#E5ECF6",
           "radialaxis": {
            "gridcolor": "white",
            "linecolor": "white",
            "ticks": ""
           }
          },
          "scene": {
           "xaxis": {
            "backgroundcolor": "#E5ECF6",
            "gridcolor": "white",
            "gridwidth": 2,
            "linecolor": "white",
            "showbackground": true,
            "ticks": "",
            "zerolinecolor": "white"
           },
           "yaxis": {
            "backgroundcolor": "#E5ECF6",
            "gridcolor": "white",
            "gridwidth": 2,
            "linecolor": "white",
            "showbackground": true,
            "ticks": "",
            "zerolinecolor": "white"
           },
           "zaxis": {
            "backgroundcolor": "#E5ECF6",
            "gridcolor": "white",
            "gridwidth": 2,
            "linecolor": "white",
            "showbackground": true,
            "ticks": "",
            "zerolinecolor": "white"
           }
          },
          "shapedefaults": {
           "line": {
            "color": "#2a3f5f"
           }
          },
          "ternary": {
           "aaxis": {
            "gridcolor": "white",
            "linecolor": "white",
            "ticks": ""
           },
           "baxis": {
            "gridcolor": "white",
            "linecolor": "white",
            "ticks": ""
           },
           "bgcolor": "#E5ECF6",
           "caxis": {
            "gridcolor": "white",
            "linecolor": "white",
            "ticks": ""
           }
          },
          "title": {
           "x": 0.05
          },
          "xaxis": {
           "automargin": true,
           "gridcolor": "white",
           "linecolor": "white",
           "ticks": "",
           "title": {
            "standoff": 15
           },
           "zerolinecolor": "white",
           "zerolinewidth": 2
          },
          "yaxis": {
           "automargin": true,
           "gridcolor": "white",
           "linecolor": "white",
           "ticks": "",
           "title": {
            "standoff": 15
           },
           "zerolinecolor": "white",
           "zerolinewidth": 2
          }
         }
        },
        "title": {
         "text": "MA_8_32"
        },
        "width": 1000,
        "xaxis": {
         "linecolor": "#3a4a54",
         "linewidth": 1,
         "showgrid": false,
         "zeroline": false
        },
        "yaxis": {
         "linecolor": "#3a4a54",
         "linewidth": 1,
         "showgrid": false,
         "zeroline": false
        }
       }
      }
     },
     "metadata": {},
     "output_type": "display_data"
    }
   ],
   "source": [
    "for c in crosses:\n",
    "    temp_df = all_trades[(all_trades.CROSS==c)].copy()\n",
    "    temp_df = temp_df.groupby(by='time', as_index=False).sum()\n",
    "    temp_df['CUM_GAIN'] = temp_df.GAIN.cumsum()\n",
    "    plot_line(temp_df,c)"
   ]
  },
  {
   "cell_type": "code",
   "execution_count": null,
   "metadata": {},
   "outputs": [],
   "source": []
  }
 ],
 "metadata": {
  "interpreter": {
   "hash": "1576d1a6185cb4b78a61c7f65ef0365cc528fa44fe3fbc16ad5912254b255587"
  },
  "kernelspec": {
   "display_name": "Python 3.10.0 64-bit ('venv': venv)",
   "name": "python3"
  },
  "language_info": {
   "codemirror_mode": {
    "name": "ipython",
    "version": 3
   },
   "file_extension": ".py",
   "mimetype": "text/x-python",
   "name": "python",
   "nbconvert_exporter": "python",
   "pygments_lexer": "ipython3",
   "version": "3.10.0"
  },
  "orig_nbformat": 4
 },
 "nbformat": 4,
 "nbformat_minor": 2
}
