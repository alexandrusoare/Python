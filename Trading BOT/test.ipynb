{
 "cells": [
  {
   "cell_type": "code",
   "execution_count": 4,
   "metadata": {},
   "outputs": [],
   "source": [
    "import requests\n",
    "import defs"
   ]
  },
  {
   "cell_type": "code",
   "execution_count": 5,
   "metadata": {},
   "outputs": [],
   "source": [
    "session = requests.Session()"
   ]
  },
  {
   "cell_type": "code",
   "execution_count": 6,
   "metadata": {},
   "outputs": [],
   "source": [
    "instrument = \"EUR_USD\"\n",
    "count = 10\n",
    "granularity = \"H1\""
   ]
  },
  {
   "cell_type": "code",
   "execution_count": 7,
   "metadata": {},
   "outputs": [],
   "source": [
    "url = f\"{defs.OANDA_URL}/instruments/{instrument}/candles\""
   ]
  },
  {
   "cell_type": "code",
   "execution_count": 8,
   "metadata": {},
   "outputs": [
    {
     "data": {
      "text/plain": [
       "'https://api-fxpractice.oanda.com/v3//instruments/EUR_USD/candles'"
      ]
     },
     "execution_count": 8,
     "metadata": {},
     "output_type": "execute_result"
    }
   ],
   "source": [
    "url"
   ]
  },
  {
   "cell_type": "code",
   "execution_count": 9,
   "metadata": {},
   "outputs": [],
   "source": [
    "params = dict(\n",
    "    count = count,\n",
    "    granularity = granularity,\n",
    "    price = \"MBA\"\n",
    ")"
   ]
  },
  {
   "cell_type": "code",
   "execution_count": 10,
   "metadata": {},
   "outputs": [
    {
     "data": {
      "text/plain": [
       "{'count': 10, 'granularity': 'H1', 'price': 'MBA'}"
      ]
     },
     "execution_count": 10,
     "metadata": {},
     "output_type": "execute_result"
    }
   ],
   "source": [
    "params"
   ]
  },
  {
   "cell_type": "code",
   "execution_count": 12,
   "metadata": {},
   "outputs": [],
   "source": [
    "response = session.get(url, params=params, headers= defs.SECURE_HEADER)"
   ]
  },
  {
   "cell_type": "code",
   "execution_count": 13,
   "metadata": {},
   "outputs": [
    {
     "data": {
      "text/plain": [
       "200"
      ]
     },
     "execution_count": 13,
     "metadata": {},
     "output_type": "execute_result"
    }
   ],
   "source": [
    "response.status_code"
   ]
  },
  {
   "cell_type": "code",
   "execution_count": 15,
   "metadata": {},
   "outputs": [],
   "source": [
    "data = response.json()"
   ]
  },
  {
   "cell_type": "code",
   "execution_count": 16,
   "metadata": {},
   "outputs": [
    {
     "data": {
      "text/plain": [
       "dict_keys(['instrument', 'granularity', 'candles'])"
      ]
     },
     "execution_count": 16,
     "metadata": {},
     "output_type": "execute_result"
    }
   ],
   "source": [
    " data.keys()"
   ]
  },
  {
   "cell_type": "code",
   "execution_count": 17,
   "metadata": {},
   "outputs": [
    {
     "data": {
      "text/plain": [
       "10"
      ]
     },
     "execution_count": 17,
     "metadata": {},
     "output_type": "execute_result"
    }
   ],
   "source": [
    "len(data['candles'])"
   ]
  },
  {
   "cell_type": "code",
   "execution_count": 19,
   "metadata": {},
   "outputs": [],
   "source": [
    "prices = ['mid', 'bid', 'ask']\n",
    "ohlc = ['o', 'h', 'l', 'c']\n"
   ]
  },
  {
   "cell_type": "code",
   "execution_count": 20,
   "metadata": {},
   "outputs": [
    {
     "name": "stdout",
     "output_type": "stream",
     "text": [
      "mid_o\n",
      "mid_h\n",
      "mid_l\n",
      "mid_c\n",
      "bid_o\n",
      "bid_h\n",
      "bid_l\n",
      "bid_c\n",
      "ask_o\n",
      "ask_h\n",
      "ask_l\n",
      "ask_c\n"
     ]
    }
   ],
   "source": [
    "for price in prices:\n",
    "    for oh in ohlc:\n",
    "        print(f\"{price}_{oh}\")"
   ]
  },
  {
   "cell_type": "code",
   "execution_count": 21,
   "metadata": {},
   "outputs": [
    {
     "data": {
      "text/plain": [
       "{'complete': True,\n",
       " 'volume': 5230,\n",
       " 'time': '2021-10-28T09:00:00.000000000Z',\n",
       " 'bid': {'o': '1.15891', 'h': '1.15931', 'l': '1.15816', 'c': '1.15920'},\n",
       " 'mid': {'o': '1.15900', 'h': '1.15938', 'l': '1.15823', 'c': '1.15928'},\n",
       " 'ask': {'o': '1.15908', 'h': '1.15945', 'l': '1.15830', 'c': '1.15935'}}"
      ]
     },
     "execution_count": 21,
     "metadata": {},
     "output_type": "execute_result"
    }
   ],
   "source": [
    "data['candles'][0]"
   ]
  },
  {
   "cell_type": "code",
   "execution_count": 26,
   "metadata": {},
   "outputs": [
    {
     "name": "stdout",
     "output_type": "stream",
     "text": [
      "{'time': '2021-10-28T09:00:00.000000000Z', 'volume': 5230, 'mid_o': '1.15900', 'mid_h': '1.15938', 'mid_l': '1.15823', 'mid_c': '1.15928', 'bid_o': '1.15891', 'bid_h': '1.15931', 'bid_l': '1.15816', 'bid_c': '1.15920', 'ask_o': '1.15908', 'ask_h': '1.15945', 'ask_l': '1.15830', 'ask_c': '1.15935'}\n"
     ]
    }
   ],
   "source": [
    "our_data = []\n",
    "for candle in data['candles']:\n",
    "    if candle['complete'] == False:\n",
    "        continue\n",
    "    new_dict = {}\n",
    "    new_dict['time'] = candle['time']\n",
    "    new_dict['volume'] = candle['volume']\n",
    "    for price in prices:\n",
    "        for oh in ohlc:\n",
    "            new_dict[f\"{price}_{oh}\"] = candle[price][oh]\n",
    "    our_data.append(new_dict)\n",
    "print(our_data[0])\n"
   ]
  },
  {
   "cell_type": "code",
   "execution_count": 27,
   "metadata": {},
   "outputs": [],
   "source": [
    "candles_df = pd.DataFrame.from_dict(our_data)"
   ]
  },
  {
   "cell_type": "code",
   "execution_count": 28,
   "metadata": {},
   "outputs": [
    {
     "data": {
      "text/html": [
       "<div>\n",
       "<style scoped>\n",
       "    .dataframe tbody tr th:only-of-type {\n",
       "        vertical-align: middle;\n",
       "    }\n",
       "\n",
       "    .dataframe tbody tr th {\n",
       "        vertical-align: top;\n",
       "    }\n",
       "\n",
       "    .dataframe thead th {\n",
       "        text-align: right;\n",
       "    }\n",
       "</style>\n",
       "<table border=\"1\" class=\"dataframe\">\n",
       "  <thead>\n",
       "    <tr style=\"text-align: right;\">\n",
       "      <th></th>\n",
       "      <th>time</th>\n",
       "      <th>volume</th>\n",
       "      <th>mid_o</th>\n",
       "      <th>mid_h</th>\n",
       "      <th>mid_l</th>\n",
       "      <th>mid_c</th>\n",
       "      <th>bid_o</th>\n",
       "      <th>bid_h</th>\n",
       "      <th>bid_l</th>\n",
       "      <th>bid_c</th>\n",
       "      <th>ask_o</th>\n",
       "      <th>ask_h</th>\n",
       "      <th>ask_l</th>\n",
       "      <th>ask_c</th>\n",
       "    </tr>\n",
       "  </thead>\n",
       "  <tbody>\n",
       "    <tr>\n",
       "      <th>0</th>\n",
       "      <td>2021-10-28T09:00:00.000000000Z</td>\n",
       "      <td>5230</td>\n",
       "      <td>1.15900</td>\n",
       "      <td>1.15938</td>\n",
       "      <td>1.15823</td>\n",
       "      <td>1.15928</td>\n",
       "      <td>1.15891</td>\n",
       "      <td>1.15931</td>\n",
       "      <td>1.15816</td>\n",
       "      <td>1.15920</td>\n",
       "      <td>1.15908</td>\n",
       "      <td>1.15945</td>\n",
       "      <td>1.15830</td>\n",
       "      <td>1.15935</td>\n",
       "    </tr>\n",
       "    <tr>\n",
       "      <th>1</th>\n",
       "      <td>2021-10-28T10:00:00.000000000Z</td>\n",
       "      <td>3594</td>\n",
       "      <td>1.15926</td>\n",
       "      <td>1.16073</td>\n",
       "      <td>1.15908</td>\n",
       "      <td>1.16064</td>\n",
       "      <td>1.15918</td>\n",
       "      <td>1.16066</td>\n",
       "      <td>1.15901</td>\n",
       "      <td>1.16056</td>\n",
       "      <td>1.15934</td>\n",
       "      <td>1.16080</td>\n",
       "      <td>1.15915</td>\n",
       "      <td>1.16071</td>\n",
       "    </tr>\n",
       "    <tr>\n",
       "      <th>2</th>\n",
       "      <td>2021-10-28T11:00:00.000000000Z</td>\n",
       "      <td>6318</td>\n",
       "      <td>1.16066</td>\n",
       "      <td>1.16178</td>\n",
       "      <td>1.15921</td>\n",
       "      <td>1.15969</td>\n",
       "      <td>1.16057</td>\n",
       "      <td>1.16171</td>\n",
       "      <td>1.15912</td>\n",
       "      <td>1.15960</td>\n",
       "      <td>1.16074</td>\n",
       "      <td>1.16184</td>\n",
       "      <td>1.15929</td>\n",
       "      <td>1.15978</td>\n",
       "    </tr>\n",
       "    <tr>\n",
       "      <th>3</th>\n",
       "      <td>2021-10-28T12:00:00.000000000Z</td>\n",
       "      <td>16400</td>\n",
       "      <td>1.15970</td>\n",
       "      <td>1.16361</td>\n",
       "      <td>1.15824</td>\n",
       "      <td>1.16300</td>\n",
       "      <td>1.15963</td>\n",
       "      <td>1.16352</td>\n",
       "      <td>1.15815</td>\n",
       "      <td>1.16293</td>\n",
       "      <td>1.15977</td>\n",
       "      <td>1.16371</td>\n",
       "      <td>1.15830</td>\n",
       "      <td>1.16308</td>\n",
       "    </tr>\n",
       "    <tr>\n",
       "      <th>4</th>\n",
       "      <td>2021-10-28T13:00:00.000000000Z</td>\n",
       "      <td>15976</td>\n",
       "      <td>1.16303</td>\n",
       "      <td>1.16601</td>\n",
       "      <td>1.16246</td>\n",
       "      <td>1.16567</td>\n",
       "      <td>1.16296</td>\n",
       "      <td>1.16594</td>\n",
       "      <td>1.16239</td>\n",
       "      <td>1.16558</td>\n",
       "      <td>1.16310</td>\n",
       "      <td>1.16609</td>\n",
       "      <td>1.16252</td>\n",
       "      <td>1.16576</td>\n",
       "    </tr>\n",
       "    <tr>\n",
       "      <th>5</th>\n",
       "      <td>2021-10-28T14:00:00.000000000Z</td>\n",
       "      <td>11673</td>\n",
       "      <td>1.16569</td>\n",
       "      <td>1.16866</td>\n",
       "      <td>1.16569</td>\n",
       "      <td>1.16756</td>\n",
       "      <td>1.16560</td>\n",
       "      <td>1.16858</td>\n",
       "      <td>1.16560</td>\n",
       "      <td>1.16749</td>\n",
       "      <td>1.16578</td>\n",
       "      <td>1.16874</td>\n",
       "      <td>1.16578</td>\n",
       "      <td>1.16764</td>\n",
       "    </tr>\n",
       "    <tr>\n",
       "      <th>6</th>\n",
       "      <td>2021-10-28T15:00:00.000000000Z</td>\n",
       "      <td>7430</td>\n",
       "      <td>1.16758</td>\n",
       "      <td>1.16923</td>\n",
       "      <td>1.16744</td>\n",
       "      <td>1.16842</td>\n",
       "      <td>1.16751</td>\n",
       "      <td>1.16916</td>\n",
       "      <td>1.16737</td>\n",
       "      <td>1.16836</td>\n",
       "      <td>1.16764</td>\n",
       "      <td>1.16930</td>\n",
       "      <td>1.16751</td>\n",
       "      <td>1.16849</td>\n",
       "    </tr>\n",
       "    <tr>\n",
       "      <th>7</th>\n",
       "      <td>2021-10-28T16:00:00.000000000Z</td>\n",
       "      <td>3844</td>\n",
       "      <td>1.16841</td>\n",
       "      <td>1.16886</td>\n",
       "      <td>1.16775</td>\n",
       "      <td>1.16786</td>\n",
       "      <td>1.16834</td>\n",
       "      <td>1.16879</td>\n",
       "      <td>1.16768</td>\n",
       "      <td>1.16779</td>\n",
       "      <td>1.16848</td>\n",
       "      <td>1.16892</td>\n",
       "      <td>1.16782</td>\n",
       "      <td>1.16793</td>\n",
       "    </tr>\n",
       "    <tr>\n",
       "      <th>8</th>\n",
       "      <td>2021-10-28T17:00:00.000000000Z</td>\n",
       "      <td>3671</td>\n",
       "      <td>1.16784</td>\n",
       "      <td>1.16887</td>\n",
       "      <td>1.16712</td>\n",
       "      <td>1.16874</td>\n",
       "      <td>1.16777</td>\n",
       "      <td>1.16881</td>\n",
       "      <td>1.16704</td>\n",
       "      <td>1.16868</td>\n",
       "      <td>1.16792</td>\n",
       "      <td>1.16893</td>\n",
       "      <td>1.16719</td>\n",
       "      <td>1.16880</td>\n",
       "    </tr>\n",
       "  </tbody>\n",
       "</table>\n",
       "</div>"
      ],
      "text/plain": [
       "                             time  volume    mid_o    mid_h    mid_l    mid_c  \\\n",
       "0  2021-10-28T09:00:00.000000000Z    5230  1.15900  1.15938  1.15823  1.15928   \n",
       "1  2021-10-28T10:00:00.000000000Z    3594  1.15926  1.16073  1.15908  1.16064   \n",
       "2  2021-10-28T11:00:00.000000000Z    6318  1.16066  1.16178  1.15921  1.15969   \n",
       "3  2021-10-28T12:00:00.000000000Z   16400  1.15970  1.16361  1.15824  1.16300   \n",
       "4  2021-10-28T13:00:00.000000000Z   15976  1.16303  1.16601  1.16246  1.16567   \n",
       "5  2021-10-28T14:00:00.000000000Z   11673  1.16569  1.16866  1.16569  1.16756   \n",
       "6  2021-10-28T15:00:00.000000000Z    7430  1.16758  1.16923  1.16744  1.16842   \n",
       "7  2021-10-28T16:00:00.000000000Z    3844  1.16841  1.16886  1.16775  1.16786   \n",
       "8  2021-10-28T17:00:00.000000000Z    3671  1.16784  1.16887  1.16712  1.16874   \n",
       "\n",
       "     bid_o    bid_h    bid_l    bid_c    ask_o    ask_h    ask_l    ask_c  \n",
       "0  1.15891  1.15931  1.15816  1.15920  1.15908  1.15945  1.15830  1.15935  \n",
       "1  1.15918  1.16066  1.15901  1.16056  1.15934  1.16080  1.15915  1.16071  \n",
       "2  1.16057  1.16171  1.15912  1.15960  1.16074  1.16184  1.15929  1.15978  \n",
       "3  1.15963  1.16352  1.15815  1.16293  1.15977  1.16371  1.15830  1.16308  \n",
       "4  1.16296  1.16594  1.16239  1.16558  1.16310  1.16609  1.16252  1.16576  \n",
       "5  1.16560  1.16858  1.16560  1.16749  1.16578  1.16874  1.16578  1.16764  \n",
       "6  1.16751  1.16916  1.16737  1.16836  1.16764  1.16930  1.16751  1.16849  \n",
       "7  1.16834  1.16879  1.16768  1.16779  1.16848  1.16892  1.16782  1.16793  \n",
       "8  1.16777  1.16881  1.16704  1.16868  1.16792  1.16893  1.16719  1.16880  "
      ]
     },
     "execution_count": 28,
     "metadata": {},
     "output_type": "execute_result"
    }
   ],
   "source": [
    "candles_df"
   ]
  },
  {
   "cell_type": "code",
   "execution_count": 29,
   "metadata": {},
   "outputs": [],
   "source": [
    "candles_df.to_pickle(\"EUR_USD_H1.pkl\")"
   ]
  },
  {
   "cell_type": "code",
   "execution_count": 30,
   "metadata": {},
   "outputs": [],
   "source": [
    "test_df = pd.read_pickle(\"EUR_USD_H1.pkl\")"
   ]
  },
  {
   "cell_type": "code",
   "execution_count": 31,
   "metadata": {},
   "outputs": [
    {
     "data": {
      "text/html": [
       "<div>\n",
       "<style scoped>\n",
       "    .dataframe tbody tr th:only-of-type {\n",
       "        vertical-align: middle;\n",
       "    }\n",
       "\n",
       "    .dataframe tbody tr th {\n",
       "        vertical-align: top;\n",
       "    }\n",
       "\n",
       "    .dataframe thead th {\n",
       "        text-align: right;\n",
       "    }\n",
       "</style>\n",
       "<table border=\"1\" class=\"dataframe\">\n",
       "  <thead>\n",
       "    <tr style=\"text-align: right;\">\n",
       "      <th></th>\n",
       "      <th>time</th>\n",
       "      <th>volume</th>\n",
       "      <th>mid_o</th>\n",
       "      <th>mid_h</th>\n",
       "      <th>mid_l</th>\n",
       "      <th>mid_c</th>\n",
       "      <th>bid_o</th>\n",
       "      <th>bid_h</th>\n",
       "      <th>bid_l</th>\n",
       "      <th>bid_c</th>\n",
       "      <th>ask_o</th>\n",
       "      <th>ask_h</th>\n",
       "      <th>ask_l</th>\n",
       "      <th>ask_c</th>\n",
       "    </tr>\n",
       "  </thead>\n",
       "  <tbody>\n",
       "    <tr>\n",
       "      <th>0</th>\n",
       "      <td>2021-10-28T09:00:00.000000000Z</td>\n",
       "      <td>5230</td>\n",
       "      <td>1.15900</td>\n",
       "      <td>1.15938</td>\n",
       "      <td>1.15823</td>\n",
       "      <td>1.15928</td>\n",
       "      <td>1.15891</td>\n",
       "      <td>1.15931</td>\n",
       "      <td>1.15816</td>\n",
       "      <td>1.15920</td>\n",
       "      <td>1.15908</td>\n",
       "      <td>1.15945</td>\n",
       "      <td>1.15830</td>\n",
       "      <td>1.15935</td>\n",
       "    </tr>\n",
       "    <tr>\n",
       "      <th>1</th>\n",
       "      <td>2021-10-28T10:00:00.000000000Z</td>\n",
       "      <td>3594</td>\n",
       "      <td>1.15926</td>\n",
       "      <td>1.16073</td>\n",
       "      <td>1.15908</td>\n",
       "      <td>1.16064</td>\n",
       "      <td>1.15918</td>\n",
       "      <td>1.16066</td>\n",
       "      <td>1.15901</td>\n",
       "      <td>1.16056</td>\n",
       "      <td>1.15934</td>\n",
       "      <td>1.16080</td>\n",
       "      <td>1.15915</td>\n",
       "      <td>1.16071</td>\n",
       "    </tr>\n",
       "    <tr>\n",
       "      <th>2</th>\n",
       "      <td>2021-10-28T11:00:00.000000000Z</td>\n",
       "      <td>6318</td>\n",
       "      <td>1.16066</td>\n",
       "      <td>1.16178</td>\n",
       "      <td>1.15921</td>\n",
       "      <td>1.15969</td>\n",
       "      <td>1.16057</td>\n",
       "      <td>1.16171</td>\n",
       "      <td>1.15912</td>\n",
       "      <td>1.15960</td>\n",
       "      <td>1.16074</td>\n",
       "      <td>1.16184</td>\n",
       "      <td>1.15929</td>\n",
       "      <td>1.15978</td>\n",
       "    </tr>\n",
       "    <tr>\n",
       "      <th>3</th>\n",
       "      <td>2021-10-28T12:00:00.000000000Z</td>\n",
       "      <td>16400</td>\n",
       "      <td>1.15970</td>\n",
       "      <td>1.16361</td>\n",
       "      <td>1.15824</td>\n",
       "      <td>1.16300</td>\n",
       "      <td>1.15963</td>\n",
       "      <td>1.16352</td>\n",
       "      <td>1.15815</td>\n",
       "      <td>1.16293</td>\n",
       "      <td>1.15977</td>\n",
       "      <td>1.16371</td>\n",
       "      <td>1.15830</td>\n",
       "      <td>1.16308</td>\n",
       "    </tr>\n",
       "    <tr>\n",
       "      <th>4</th>\n",
       "      <td>2021-10-28T13:00:00.000000000Z</td>\n",
       "      <td>15976</td>\n",
       "      <td>1.16303</td>\n",
       "      <td>1.16601</td>\n",
       "      <td>1.16246</td>\n",
       "      <td>1.16567</td>\n",
       "      <td>1.16296</td>\n",
       "      <td>1.16594</td>\n",
       "      <td>1.16239</td>\n",
       "      <td>1.16558</td>\n",
       "      <td>1.16310</td>\n",
       "      <td>1.16609</td>\n",
       "      <td>1.16252</td>\n",
       "      <td>1.16576</td>\n",
       "    </tr>\n",
       "    <tr>\n",
       "      <th>5</th>\n",
       "      <td>2021-10-28T14:00:00.000000000Z</td>\n",
       "      <td>11673</td>\n",
       "      <td>1.16569</td>\n",
       "      <td>1.16866</td>\n",
       "      <td>1.16569</td>\n",
       "      <td>1.16756</td>\n",
       "      <td>1.16560</td>\n",
       "      <td>1.16858</td>\n",
       "      <td>1.16560</td>\n",
       "      <td>1.16749</td>\n",
       "      <td>1.16578</td>\n",
       "      <td>1.16874</td>\n",
       "      <td>1.16578</td>\n",
       "      <td>1.16764</td>\n",
       "    </tr>\n",
       "    <tr>\n",
       "      <th>6</th>\n",
       "      <td>2021-10-28T15:00:00.000000000Z</td>\n",
       "      <td>7430</td>\n",
       "      <td>1.16758</td>\n",
       "      <td>1.16923</td>\n",
       "      <td>1.16744</td>\n",
       "      <td>1.16842</td>\n",
       "      <td>1.16751</td>\n",
       "      <td>1.16916</td>\n",
       "      <td>1.16737</td>\n",
       "      <td>1.16836</td>\n",
       "      <td>1.16764</td>\n",
       "      <td>1.16930</td>\n",
       "      <td>1.16751</td>\n",
       "      <td>1.16849</td>\n",
       "    </tr>\n",
       "    <tr>\n",
       "      <th>7</th>\n",
       "      <td>2021-10-28T16:00:00.000000000Z</td>\n",
       "      <td>3844</td>\n",
       "      <td>1.16841</td>\n",
       "      <td>1.16886</td>\n",
       "      <td>1.16775</td>\n",
       "      <td>1.16786</td>\n",
       "      <td>1.16834</td>\n",
       "      <td>1.16879</td>\n",
       "      <td>1.16768</td>\n",
       "      <td>1.16779</td>\n",
       "      <td>1.16848</td>\n",
       "      <td>1.16892</td>\n",
       "      <td>1.16782</td>\n",
       "      <td>1.16793</td>\n",
       "    </tr>\n",
       "    <tr>\n",
       "      <th>8</th>\n",
       "      <td>2021-10-28T17:00:00.000000000Z</td>\n",
       "      <td>3671</td>\n",
       "      <td>1.16784</td>\n",
       "      <td>1.16887</td>\n",
       "      <td>1.16712</td>\n",
       "      <td>1.16874</td>\n",
       "      <td>1.16777</td>\n",
       "      <td>1.16881</td>\n",
       "      <td>1.16704</td>\n",
       "      <td>1.16868</td>\n",
       "      <td>1.16792</td>\n",
       "      <td>1.16893</td>\n",
       "      <td>1.16719</td>\n",
       "      <td>1.16880</td>\n",
       "    </tr>\n",
       "  </tbody>\n",
       "</table>\n",
       "</div>"
      ],
      "text/plain": [
       "                             time  volume    mid_o    mid_h    mid_l    mid_c  \\\n",
       "0  2021-10-28T09:00:00.000000000Z    5230  1.15900  1.15938  1.15823  1.15928   \n",
       "1  2021-10-28T10:00:00.000000000Z    3594  1.15926  1.16073  1.15908  1.16064   \n",
       "2  2021-10-28T11:00:00.000000000Z    6318  1.16066  1.16178  1.15921  1.15969   \n",
       "3  2021-10-28T12:00:00.000000000Z   16400  1.15970  1.16361  1.15824  1.16300   \n",
       "4  2021-10-28T13:00:00.000000000Z   15976  1.16303  1.16601  1.16246  1.16567   \n",
       "5  2021-10-28T14:00:00.000000000Z   11673  1.16569  1.16866  1.16569  1.16756   \n",
       "6  2021-10-28T15:00:00.000000000Z    7430  1.16758  1.16923  1.16744  1.16842   \n",
       "7  2021-10-28T16:00:00.000000000Z    3844  1.16841  1.16886  1.16775  1.16786   \n",
       "8  2021-10-28T17:00:00.000000000Z    3671  1.16784  1.16887  1.16712  1.16874   \n",
       "\n",
       "     bid_o    bid_h    bid_l    bid_c    ask_o    ask_h    ask_l    ask_c  \n",
       "0  1.15891  1.15931  1.15816  1.15920  1.15908  1.15945  1.15830  1.15935  \n",
       "1  1.15918  1.16066  1.15901  1.16056  1.15934  1.16080  1.15915  1.16071  \n",
       "2  1.16057  1.16171  1.15912  1.15960  1.16074  1.16184  1.15929  1.15978  \n",
       "3  1.15963  1.16352  1.15815  1.16293  1.15977  1.16371  1.15830  1.16308  \n",
       "4  1.16296  1.16594  1.16239  1.16558  1.16310  1.16609  1.16252  1.16576  \n",
       "5  1.16560  1.16858  1.16560  1.16749  1.16578  1.16874  1.16578  1.16764  \n",
       "6  1.16751  1.16916  1.16737  1.16836  1.16764  1.16930  1.16751  1.16849  \n",
       "7  1.16834  1.16879  1.16768  1.16779  1.16848  1.16892  1.16782  1.16793  \n",
       "8  1.16777  1.16881  1.16704  1.16868  1.16792  1.16893  1.16719  1.16880  "
      ]
     },
     "execution_count": 31,
     "metadata": {},
     "output_type": "execute_result"
    }
   ],
   "source": [
    "test_df"
   ]
  },
  {
   "cell_type": "code",
   "execution_count": null,
   "metadata": {},
   "outputs": [],
   "source": []
  }
 ],
 "metadata": {
  "interpreter": {
   "hash": "1576d1a6185cb4b78a61c7f65ef0365cc528fa44fe3fbc16ad5912254b255587"
  },
  "kernelspec": {
   "display_name": "Python 3.10.0 64-bit ('venv': venv)",
   "name": "python3"
  },
  "language_info": {
   "codemirror_mode": {
    "name": "ipython",
    "version": 3
   },
   "file_extension": ".py",
   "mimetype": "text/x-python",
   "name": "python",
   "nbconvert_exporter": "python",
   "pygments_lexer": "ipython3",
   "version": "3.10.0"
  },
  "orig_nbformat": 4
 },
 "nbformat": 4,
 "nbformat_minor": 2
}
