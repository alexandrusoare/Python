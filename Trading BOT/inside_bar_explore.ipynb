{
 "cells": [
  {
   "cell_type": "code",
   "execution_count": 14,
   "metadata": {},
   "outputs": [],
   "source": [
    "import pandas as pd\n",
    "import plotly.graph_objects as go\n",
    "import utils"
   ]
  },
  {
   "cell_type": "code",
   "execution_count": 15,
   "metadata": {},
   "outputs": [],
   "source": [
    "plot_cols = ['ENTRY', 'STOPLOSS', 'TAKEPROFIT']\n",
    "plot_colours = ['#043ef9', '#eb5334', '#34eb37']\n",
    "\n",
    "def plot_candles(df_plot):\n",
    "    fig = go.Figure()\n",
    "    fig.add_trace(go.Candlestick(\n",
    "        x=df_plot.time, open=df_plot.mid_o, high=df_plot.mid_h, low=df_plot.mid_l, close=df_plot.mid_c,\n",
    "        line=dict(width=1), opacity=1,\n",
    "        increasing_fillcolor='#24A06B',\n",
    "        decreasing_fillcolor ='#CC2E3C',\n",
    "        increasing_line_color = '#2EC886',\n",
    "        decreasing_line_color = '#FF3A4C'\n",
    "    ))\n",
    "    for i in range(0,3):\n",
    "        fig.add_trace(go.Scatter(\n",
    "            x=df_buys.time,\n",
    "            y=df_buys[plot_cols[i]],\n",
    "            mode='markers',\n",
    "            marker=dict(color=plot_colours[i],size=12)\n",
    "        \n",
    "\n",
    "    ))\n",
    "    for i in range(0,3):\n",
    "        fig.add_trace(go.Scatter(\n",
    "            x=df_sells.time,\n",
    "            y=df_sells[plot_cols[i]],\n",
    "            mode='markers',\n",
    "            marker=dict(color=plot_colours[i],size=12)\n",
    "    ))\n",
    "\n",
    "\n",
    "    fig.update_layout(width=1000, height=400,\n",
    "    margin=dict(l=10,r=10,b=10,t=10),\n",
    "    font=dict(size=10, color='#e1e1e1'),\n",
    "    paper_bgcolor=\"#1e1e1e\", plot_bgcolor=\"#1e1e1e\")\n",
    "    fig.update_xaxes(gridcolor=\"#1f292f\", showgrid=True, fixedrange=True, rangeslider=dict(visible=False),\n",
    "    rangebreaks=[\n",
    "        dict(bounds=[\"sat\",\"mon\"])\n",
    "    ]\n",
    "    )\n",
    "    fig.update_yaxes(gridcolor=\"#1f292f\",showgrid=True)\n",
    "\n",
    "    fig.show()"
   ]
  },
  {
   "cell_type": "code",
   "execution_count": 16,
   "metadata": {},
   "outputs": [],
   "source": [
    "pair = \"USD_JPY\"\n",
    "granularity = \"H4\"\n",
    "df_raw = pd.read_pickle(utils.get_his_data_filename(pair, granularity))"
   ]
  },
  {
   "cell_type": "code",
   "execution_count": 17,
   "metadata": {},
   "outputs": [],
   "source": [
    "non_cols = ['time', 'volume']\n",
    "mod_cols = [x for x in df_raw.columns if x not in non_cols]\n",
    "df_raw[mod_cols] = df_raw[mod_cols].apply(pd.to_numeric)"
   ]
  },
  {
   "cell_type": "code",
   "execution_count": 18,
   "metadata": {},
   "outputs": [
    {
     "data": {
      "text/html": [
       "<div>\n",
       "<style scoped>\n",
       "    .dataframe tbody tr th:only-of-type {\n",
       "        vertical-align: middle;\n",
       "    }\n",
       "\n",
       "    .dataframe tbody tr th {\n",
       "        vertical-align: top;\n",
       "    }\n",
       "\n",
       "    .dataframe thead th {\n",
       "        text-align: right;\n",
       "    }\n",
       "</style>\n",
       "<table border=\"1\" class=\"dataframe\">\n",
       "  <thead>\n",
       "    <tr style=\"text-align: right;\">\n",
       "      <th></th>\n",
       "      <th>time</th>\n",
       "      <th>volume</th>\n",
       "      <th>mid_o</th>\n",
       "      <th>mid_h</th>\n",
       "      <th>mid_l</th>\n",
       "      <th>mid_c</th>\n",
       "      <th>bid_o</th>\n",
       "      <th>bid_h</th>\n",
       "      <th>bid_l</th>\n",
       "      <th>bid_c</th>\n",
       "      <th>ask_o</th>\n",
       "      <th>ask_h</th>\n",
       "      <th>ask_l</th>\n",
       "      <th>ask_c</th>\n",
       "    </tr>\n",
       "  </thead>\n",
       "  <tbody>\n",
       "    <tr>\n",
       "      <th>0</th>\n",
       "      <td>2019-01-01T22:00:00.000000000Z</td>\n",
       "      <td>2616</td>\n",
       "      <td>109.590</td>\n",
       "      <td>109.726</td>\n",
       "      <td>109.533</td>\n",
       "      <td>109.598</td>\n",
       "      <td>109.540</td>\n",
       "      <td>109.718</td>\n",
       "      <td>109.493</td>\n",
       "      <td>109.591</td>\n",
       "      <td>109.640</td>\n",
       "      <td>109.736</td>\n",
       "      <td>109.557</td>\n",
       "      <td>109.606</td>\n",
       "    </tr>\n",
       "    <tr>\n",
       "      <th>1</th>\n",
       "      <td>2019-01-02T02:00:00.000000000Z</td>\n",
       "      <td>2710</td>\n",
       "      <td>109.600</td>\n",
       "      <td>109.613</td>\n",
       "      <td>109.299</td>\n",
       "      <td>109.304</td>\n",
       "      <td>109.593</td>\n",
       "      <td>109.606</td>\n",
       "      <td>109.291</td>\n",
       "      <td>109.297</td>\n",
       "      <td>109.608</td>\n",
       "      <td>109.620</td>\n",
       "      <td>109.307</td>\n",
       "      <td>109.312</td>\n",
       "    </tr>\n",
       "    <tr>\n",
       "      <th>2</th>\n",
       "      <td>2019-01-02T06:00:00.000000000Z</td>\n",
       "      <td>6642</td>\n",
       "      <td>109.302</td>\n",
       "      <td>109.348</td>\n",
       "      <td>108.710</td>\n",
       "      <td>108.943</td>\n",
       "      <td>109.294</td>\n",
       "      <td>109.341</td>\n",
       "      <td>108.702</td>\n",
       "      <td>108.937</td>\n",
       "      <td>109.310</td>\n",
       "      <td>109.354</td>\n",
       "      <td>108.717</td>\n",
       "      <td>108.949</td>\n",
       "    </tr>\n",
       "    <tr>\n",
       "      <th>3</th>\n",
       "      <td>2019-01-02T10:00:00.000000000Z</td>\n",
       "      <td>6613</td>\n",
       "      <td>108.946</td>\n",
       "      <td>109.284</td>\n",
       "      <td>108.822</td>\n",
       "      <td>109.191</td>\n",
       "      <td>108.939</td>\n",
       "      <td>109.278</td>\n",
       "      <td>108.813</td>\n",
       "      <td>109.185</td>\n",
       "      <td>108.952</td>\n",
       "      <td>109.291</td>\n",
       "      <td>108.829</td>\n",
       "      <td>109.197</td>\n",
       "    </tr>\n",
       "    <tr>\n",
       "      <th>4</th>\n",
       "      <td>2019-01-02T14:00:00.000000000Z</td>\n",
       "      <td>7780</td>\n",
       "      <td>109.189</td>\n",
       "      <td>109.464</td>\n",
       "      <td>109.177</td>\n",
       "      <td>109.442</td>\n",
       "      <td>109.182</td>\n",
       "      <td>109.457</td>\n",
       "      <td>109.170</td>\n",
       "      <td>109.435</td>\n",
       "      <td>109.196</td>\n",
       "      <td>109.471</td>\n",
       "      <td>109.184</td>\n",
       "      <td>109.449</td>\n",
       "    </tr>\n",
       "  </tbody>\n",
       "</table>\n",
       "</div>"
      ],
      "text/plain": [
       "                             time  volume    mid_o    mid_h    mid_l    mid_c  \\\n",
       "0  2019-01-01T22:00:00.000000000Z    2616  109.590  109.726  109.533  109.598   \n",
       "1  2019-01-02T02:00:00.000000000Z    2710  109.600  109.613  109.299  109.304   \n",
       "2  2019-01-02T06:00:00.000000000Z    6642  109.302  109.348  108.710  108.943   \n",
       "3  2019-01-02T10:00:00.000000000Z    6613  108.946  109.284  108.822  109.191   \n",
       "4  2019-01-02T14:00:00.000000000Z    7780  109.189  109.464  109.177  109.442   \n",
       "\n",
       "     bid_o    bid_h    bid_l    bid_c    ask_o    ask_h    ask_l    ask_c  \n",
       "0  109.540  109.718  109.493  109.591  109.640  109.736  109.557  109.606  \n",
       "1  109.593  109.606  109.291  109.297  109.608  109.620  109.307  109.312  \n",
       "2  109.294  109.341  108.702  108.937  109.310  109.354  108.717  108.949  \n",
       "3  108.939  109.278  108.813  109.185  108.952  109.291  108.829  109.197  \n",
       "4  109.182  109.457  109.170  109.435  109.196  109.471  109.184  109.449  "
      ]
     },
     "execution_count": 18,
     "metadata": {},
     "output_type": "execute_result"
    }
   ],
   "source": [
    "df_raw.head()"
   ]
  },
  {
   "cell_type": "code",
   "execution_count": 19,
   "metadata": {},
   "outputs": [
    {
     "data": {
      "text/plain": [
       "Index(['time', 'volume', 'mid_o', 'mid_h', 'mid_l', 'mid_c', 'bid_o', 'bid_h',\n",
       "       'bid_l', 'bid_c', 'ask_o', 'ask_h', 'ask_l', 'ask_c'],\n",
       "      dtype='object')"
      ]
     },
     "execution_count": 19,
     "metadata": {},
     "output_type": "execute_result"
    }
   ],
   "source": [
    "df_raw.columns"
   ]
  },
  {
   "cell_type": "code",
   "execution_count": null,
   "metadata": {},
   "outputs": [],
   "source": []
  },
  {
   "cell_type": "code",
   "execution_count": 7,
   "metadata": {},
   "outputs": [
    {
     "ename": "NameError",
     "evalue": "name 'df' is not defined",
     "output_type": "error",
     "traceback": [
      "\u001b[1;31m---------------------------------------------------------------------------\u001b[0m",
      "\u001b[1;31mNameError\u001b[0m                                 Traceback (most recent call last)",
      "\u001b[1;32m~\\AppData\\Local\\Temp/ipykernel_3768/964094849.py\u001b[0m in \u001b[0;36m<module>\u001b[1;34m\u001b[0m\n\u001b[1;32m----> 1\u001b[1;33m \u001b[0mdf\u001b[0m\u001b[1;33m.\u001b[0m\u001b[0mhead\u001b[0m\u001b[1;33m(\u001b[0m\u001b[1;33m)\u001b[0m\u001b[1;33m\u001b[0m\u001b[1;33m\u001b[0m\u001b[0m\n\u001b[0m",
      "\u001b[1;31mNameError\u001b[0m: name 'df' is not defined"
     ]
    }
   ],
   "source": [
    "df.head()"
   ]
  },
  {
   "cell_type": "code",
   "execution_count": 30,
   "metadata": {},
   "outputs": [],
   "source": [
    "SLOSS = 0.4\n",
    "TPROFIT = 0.8\n",
    "ENTRY_PRC = 0.1\n",
    "\n",
    "def direction(row):\n",
    "    if row.mid_c > row.mid_o:\n",
    "        return 1\n",
    "    return -1\n",
    "\n",
    "def get_signal(row):\n",
    "    if row.mid_h_prev > row.mid_h and row.mid_l_prev < row.mid_l:\n",
    "        return row.DIRECTION_prev\n",
    "    return 0\n",
    "\n",
    "def get_entry_stop(row):\n",
    "    if row.SIGNAL == 1:\n",
    "        return (row.RANGE_prev * ENTRY_PRC) + row.mid_h_prev\n",
    "    elif row.SIGNAL == -1:\n",
    "        return row.mid_l_prev - (row.RANGE_prev * ENTRY_PRC)\n",
    "    else:\n",
    "        return 0\n",
    "\n",
    "def get_stop_loss(row):\n",
    "    if row.SIGNAL == 1:\n",
    "        return row.ENTRY - (row.RANGE_prev * SLOSS)\n",
    "    elif row.SIGNAL == -1:\n",
    "        return row.ENTRY + (row.RANGE_prev * SLOSS)\n",
    "    else:\n",
    "        return 0\n",
    "\n",
    "def get_take_profit(row):\n",
    "    if row.SIGNAL == 1:\n",
    "        return row.ENTRY + (row.RANGE_prev * TPROFIT)\n",
    "    elif row.SIGNAL == -1:\n",
    "        return row.ENTRY - (row.RANGE_prev * TPROFIT)\n",
    "    else:\n",
    "        return 0"
   ]
  },
  {
   "cell_type": "code",
   "execution_count": 31,
   "metadata": {},
   "outputs": [],
   "source": [
    "df = df_raw[['time','mid_o', 'mid_h', 'mid_l', 'mid_c',  'bid_c', 'ask_c']].copy()\n",
    "\n",
    "df['RANGE'] = df.mid_h - df.mid_l\n",
    "df['mid_h_prev'] = df.mid_h.shift(1)\n",
    "df['mid_l_prev'] = df.mid_l.shift(1)\n",
    "df['RANGE_prev'] = df.RANGE.shift(1)\n",
    "df['DIRECTION'] = df.apply(direction, axis=1)\n",
    "df['DIRECTION_prev'] = df.DIRECTION.shift(1).fillna(0).astype(int)\n",
    "df.dropna(inplace=True)\n",
    "df['SIGNAL'] = df.apply(get_signal, axis=1)\n",
    "df.reset_index(drop=True,inplace=True)"
   ]
  },
  {
   "cell_type": "code",
   "execution_count": 32,
   "metadata": {},
   "outputs": [],
   "source": [
    "df['ENTRY'] = df.apply(get_entry_stop, axis=1)\n",
    "df['STOPLOSS'] = df.apply(get_stop_loss, axis=1)\n",
    "df['TAKEPROFIT'] = df.apply(get_take_profit, axis=1)"
   ]
  },
  {
   "cell_type": "code",
   "execution_count": 33,
   "metadata": {},
   "outputs": [],
   "source": [
    "df[df.SIGNAL!=0].to_pickle(\"USD_JPY_H4_trades.pkl\")\n"
   ]
  },
  {
   "cell_type": "code",
   "execution_count": null,
   "metadata": {},
   "outputs": [],
   "source": []
  },
  {
   "cell_type": "code",
   "execution_count": 34,
   "metadata": {},
   "outputs": [],
   "source": [
    "class Trade():\n",
    "    def __init__(self, row):\n",
    "        self.candle_date = row.time\n",
    "        self.direction = row.SIGNAL\n",
    "        self.entry = row.ENTRY\n",
    "        self.TP = row.TAKEPROFIT\n",
    "        self.SL = row.STOPLOSS\n",
    "        self.running = False\n",
    "        self.result = None\n",
    "        self.stopped = None\n",
    "\n",
    "    def update(self, row):\n",
    "        if self.running == True:\n",
    "            self.update_result(row)\n",
    "        else:\n",
    "            self.check_entry(row)\n",
    "\n",
    "    def check_entry(self, row):\n",
    "        if self.direction == 1 and row.mid_c >= self.entry or self.direction == -1 and row.mid_c <= self.entry:\n",
    "            self.index = row.name\n",
    "            self.opened = row.time\n",
    "            self.running = True\n",
    "    \n",
    "    def update_result(self, row):\n",
    "        if self.direction == 1:\n",
    "            if row.mid_c >= self.TP:\n",
    "                self.result = 2.0\n",
    "            elif row.mid_c <= self.SL:\n",
    "                self.result = -1.0\n",
    "        else:\n",
    "            if row.mid_c <= self.TP:\n",
    "                self.result = 2.0\n",
    "            elif row.mid_c >= self.SL:\n",
    "                self.result = -1.0\n",
    "\n",
    "        \n",
    "        if self.result is not None:\n",
    "            self.running = False\n",
    "            self.stopped = row.time\n",
    "\n"
   ]
  },
  {
   "cell_type": "code",
   "execution_count": 35,
   "metadata": {},
   "outputs": [],
   "source": [
    "open_trades = []\n",
    "closed_trades = []\n",
    "\n",
    "for index, row in df.iterrows():\n",
    "    for ot in open_trades:\n",
    "        ot.update(row)\n",
    "        if ot.stopped is not None:\n",
    "            closed_trades.append(ot)\n",
    "    \n",
    "    open_trades = [x for x in open_trades if x.stopped is None]\n",
    "\n",
    "    if row.SIGNAL != 0:\n",
    "        open_trades = [x for x in open_trades if x.running == True]\n",
    "        open_trades.append(Trade(row))"
   ]
  },
  {
   "cell_type": "code",
   "execution_count": 36,
   "metadata": {},
   "outputs": [],
   "source": [
    "df_trades = pd.DataFrame.from_dict([vars(x) for x in closed_trades])"
   ]
  },
  {
   "cell_type": "code",
   "execution_count": 37,
   "metadata": {},
   "outputs": [
    {
     "data": {
      "text/html": [
       "<div>\n",
       "<style scoped>\n",
       "    .dataframe tbody tr th:only-of-type {\n",
       "        vertical-align: middle;\n",
       "    }\n",
       "\n",
       "    .dataframe tbody tr th {\n",
       "        vertical-align: top;\n",
       "    }\n",
       "\n",
       "    .dataframe thead th {\n",
       "        text-align: right;\n",
       "    }\n",
       "</style>\n",
       "<table border=\"1\" class=\"dataframe\">\n",
       "  <thead>\n",
       "    <tr style=\"text-align: right;\">\n",
       "      <th></th>\n",
       "      <th>candle_date</th>\n",
       "      <th>direction</th>\n",
       "      <th>entry</th>\n",
       "      <th>TP</th>\n",
       "      <th>SL</th>\n",
       "      <th>running</th>\n",
       "      <th>result</th>\n",
       "      <th>stopped</th>\n",
       "      <th>index</th>\n",
       "      <th>opened</th>\n",
       "    </tr>\n",
       "  </thead>\n",
       "  <tbody>\n",
       "    <tr>\n",
       "      <th>0</th>\n",
       "      <td>2019-01-02T10:00:00.000000000Z</td>\n",
       "      <td>-1</td>\n",
       "      <td>108.6462</td>\n",
       "      <td>108.1358</td>\n",
       "      <td>108.9014</td>\n",
       "      <td>False</td>\n",
       "      <td>2.0</td>\n",
       "      <td>2019-01-03T02:00:00.000000000Z</td>\n",
       "      <td>5</td>\n",
       "      <td>2019-01-02T22:00:00.000000000Z</td>\n",
       "    </tr>\n",
       "    <tr>\n",
       "      <th>1</th>\n",
       "      <td>2019-01-04T06:00:00.000000000Z</td>\n",
       "      <td>1</td>\n",
       "      <td>108.5076</td>\n",
       "      <td>109.0164</td>\n",
       "      <td>108.2532</td>\n",
       "      <td>False</td>\n",
       "      <td>-1.0</td>\n",
       "      <td>2019-01-07T02:00:00.000000000Z</td>\n",
       "      <td>16</td>\n",
       "      <td>2019-01-04T18:00:00.000000000Z</td>\n",
       "    </tr>\n",
       "    <tr>\n",
       "      <th>2</th>\n",
       "      <td>2019-01-17T02:00:00.000000000Z</td>\n",
       "      <td>-1</td>\n",
       "      <td>108.8072</td>\n",
       "      <td>108.5768</td>\n",
       "      <td>108.9224</td>\n",
       "      <td>False</td>\n",
       "      <td>-1.0</td>\n",
       "      <td>2019-01-17T14:00:00.000000000Z</td>\n",
       "      <td>67</td>\n",
       "      <td>2019-01-17T06:00:00.000000000Z</td>\n",
       "    </tr>\n",
       "    <tr>\n",
       "      <th>3</th>\n",
       "      <td>2019-01-17T22:00:00.000000000Z</td>\n",
       "      <td>1</td>\n",
       "      <td>109.4501</td>\n",
       "      <td>109.8269</td>\n",
       "      <td>109.2617</td>\n",
       "      <td>False</td>\n",
       "      <td>2.0</td>\n",
       "      <td>2019-01-18T14:00:00.000000000Z</td>\n",
       "      <td>73</td>\n",
       "      <td>2019-01-18T06:00:00.000000000Z</td>\n",
       "    </tr>\n",
       "    <tr>\n",
       "      <th>4</th>\n",
       "      <td>2019-01-18T10:00:00.000000000Z</td>\n",
       "      <td>1</td>\n",
       "      <td>109.6249</td>\n",
       "      <td>109.8561</td>\n",
       "      <td>109.5093</td>\n",
       "      <td>False</td>\n",
       "      <td>-1.0</td>\n",
       "      <td>2019-01-22T02:00:00.000000000Z</td>\n",
       "      <td>75</td>\n",
       "      <td>2019-01-18T14:00:00.000000000Z</td>\n",
       "    </tr>\n",
       "  </tbody>\n",
       "</table>\n",
       "</div>"
      ],
      "text/plain": [
       "                      candle_date  direction     entry        TP        SL  \\\n",
       "0  2019-01-02T10:00:00.000000000Z         -1  108.6462  108.1358  108.9014   \n",
       "1  2019-01-04T06:00:00.000000000Z          1  108.5076  109.0164  108.2532   \n",
       "2  2019-01-17T02:00:00.000000000Z         -1  108.8072  108.5768  108.9224   \n",
       "3  2019-01-17T22:00:00.000000000Z          1  109.4501  109.8269  109.2617   \n",
       "4  2019-01-18T10:00:00.000000000Z          1  109.6249  109.8561  109.5093   \n",
       "\n",
       "   running  result                         stopped  index  \\\n",
       "0    False     2.0  2019-01-03T02:00:00.000000000Z      5   \n",
       "1    False    -1.0  2019-01-07T02:00:00.000000000Z     16   \n",
       "2    False    -1.0  2019-01-17T14:00:00.000000000Z     67   \n",
       "3    False     2.0  2019-01-18T14:00:00.000000000Z     73   \n",
       "4    False    -1.0  2019-01-22T02:00:00.000000000Z     75   \n",
       "\n",
       "                           opened  \n",
       "0  2019-01-02T22:00:00.000000000Z  \n",
       "1  2019-01-04T18:00:00.000000000Z  \n",
       "2  2019-01-17T06:00:00.000000000Z  \n",
       "3  2019-01-18T06:00:00.000000000Z  \n",
       "4  2019-01-18T14:00:00.000000000Z  "
      ]
     },
     "execution_count": 37,
     "metadata": {},
     "output_type": "execute_result"
    }
   ],
   "source": [
    "df_trades.head()"
   ]
  },
  {
   "cell_type": "code",
   "execution_count": 38,
   "metadata": {},
   "outputs": [
    {
     "data": {
      "text/plain": [
       "(796, 17)"
      ]
     },
     "execution_count": 38,
     "metadata": {},
     "output_type": "execute_result"
    }
   ],
   "source": [
    "df[df.SIGNAL!=0].shape"
   ]
  },
  {
   "cell_type": "code",
   "execution_count": 39,
   "metadata": {},
   "outputs": [
    {
     "data": {
      "text/plain": [
       "179.0"
      ]
     },
     "execution_count": 39,
     "metadata": {},
     "output_type": "execute_result"
    }
   ],
   "source": [
    "df_trades.result.sum()"
   ]
  },
  {
   "cell_type": "code",
   "execution_count": 21,
   "metadata": {},
   "outputs": [],
   "source": [
    "df_plot = df.iloc[0:60]\n",
    "df_buys = df_plot[df_plot.SIGNAL == 1]\n",
    "df_sells = df_plot[df_plot.SIGNAL == -1]\n",
    "\n"
   ]
  },
  {
   "cell_type": "code",
   "execution_count": 31,
   "metadata": {},
   "outputs": [
    {
     "data": {
      "text/html": [
       "<div>\n",
       "<style scoped>\n",
       "    .dataframe tbody tr th:only-of-type {\n",
       "        vertical-align: middle;\n",
       "    }\n",
       "\n",
       "    .dataframe tbody tr th {\n",
       "        vertical-align: top;\n",
       "    }\n",
       "\n",
       "    .dataframe thead th {\n",
       "        text-align: right;\n",
       "    }\n",
       "</style>\n",
       "<table border=\"1\" class=\"dataframe\">\n",
       "  <thead>\n",
       "    <tr style=\"text-align: right;\">\n",
       "      <th></th>\n",
       "      <th>candle_date</th>\n",
       "      <th>direction</th>\n",
       "      <th>entry</th>\n",
       "      <th>TP</th>\n",
       "      <th>SL</th>\n",
       "      <th>running</th>\n",
       "      <th>result</th>\n",
       "      <th>stopped</th>\n",
       "      <th>index</th>\n",
       "      <th>opened</th>\n",
       "    </tr>\n",
       "  </thead>\n",
       "  <tbody>\n",
       "    <tr>\n",
       "      <th>0</th>\n",
       "      <td>2019-01-02T10:00:00.000000000Z</td>\n",
       "      <td>-1</td>\n",
       "      <td>108.6462</td>\n",
       "      <td>108.1996</td>\n",
       "      <td>108.9652</td>\n",
       "      <td>False</td>\n",
       "      <td>2.0</td>\n",
       "      <td>2019-01-03T02:00:00.000000000Z</td>\n",
       "      <td>5</td>\n",
       "      <td>2019-01-02T22:00:00.000000000Z</td>\n",
       "    </tr>\n",
       "    <tr>\n",
       "      <th>1</th>\n",
       "      <td>2019-01-04T06:00:00.000000000Z</td>\n",
       "      <td>1</td>\n",
       "      <td>108.5076</td>\n",
       "      <td>108.9528</td>\n",
       "      <td>108.1896</td>\n",
       "      <td>False</td>\n",
       "      <td>-1.0</td>\n",
       "      <td>2019-01-09T18:00:00.000000000Z</td>\n",
       "      <td>16</td>\n",
       "      <td>2019-01-04T18:00:00.000000000Z</td>\n",
       "    </tr>\n",
       "    <tr>\n",
       "      <th>2</th>\n",
       "      <td>2019-01-17T02:00:00.000000000Z</td>\n",
       "      <td>-1</td>\n",
       "      <td>108.8072</td>\n",
       "      <td>108.6056</td>\n",
       "      <td>108.9512</td>\n",
       "      <td>False</td>\n",
       "      <td>-1.0</td>\n",
       "      <td>2019-01-17T14:00:00.000000000Z</td>\n",
       "      <td>67</td>\n",
       "      <td>2019-01-17T06:00:00.000000000Z</td>\n",
       "    </tr>\n",
       "    <tr>\n",
       "      <th>3</th>\n",
       "      <td>2019-01-17T22:00:00.000000000Z</td>\n",
       "      <td>1</td>\n",
       "      <td>109.4501</td>\n",
       "      <td>109.7798</td>\n",
       "      <td>109.2146</td>\n",
       "      <td>False</td>\n",
       "      <td>2.0</td>\n",
       "      <td>2019-01-18T14:00:00.000000000Z</td>\n",
       "      <td>73</td>\n",
       "      <td>2019-01-18T06:00:00.000000000Z</td>\n",
       "    </tr>\n",
       "    <tr>\n",
       "      <th>4</th>\n",
       "      <td>2019-01-18T10:00:00.000000000Z</td>\n",
       "      <td>1</td>\n",
       "      <td>109.6249</td>\n",
       "      <td>109.8272</td>\n",
       "      <td>109.4804</td>\n",
       "      <td>False</td>\n",
       "      <td>-1.0</td>\n",
       "      <td>2019-01-22T02:00:00.000000000Z</td>\n",
       "      <td>75</td>\n",
       "      <td>2019-01-18T14:00:00.000000000Z</td>\n",
       "    </tr>\n",
       "  </tbody>\n",
       "</table>\n",
       "</div>"
      ],
      "text/plain": [
       "                      candle_date  direction     entry        TP        SL  \\\n",
       "0  2019-01-02T10:00:00.000000000Z         -1  108.6462  108.1996  108.9652   \n",
       "1  2019-01-04T06:00:00.000000000Z          1  108.5076  108.9528  108.1896   \n",
       "2  2019-01-17T02:00:00.000000000Z         -1  108.8072  108.6056  108.9512   \n",
       "3  2019-01-17T22:00:00.000000000Z          1  109.4501  109.7798  109.2146   \n",
       "4  2019-01-18T10:00:00.000000000Z          1  109.6249  109.8272  109.4804   \n",
       "\n",
       "   running  result                         stopped  index  \\\n",
       "0    False     2.0  2019-01-03T02:00:00.000000000Z      5   \n",
       "1    False    -1.0  2019-01-09T18:00:00.000000000Z     16   \n",
       "2    False    -1.0  2019-01-17T14:00:00.000000000Z     67   \n",
       "3    False     2.0  2019-01-18T14:00:00.000000000Z     73   \n",
       "4    False    -1.0  2019-01-22T02:00:00.000000000Z     75   \n",
       "\n",
       "                           opened  \n",
       "0  2019-01-02T22:00:00.000000000Z  \n",
       "1  2019-01-04T18:00:00.000000000Z  \n",
       "2  2019-01-17T06:00:00.000000000Z  \n",
       "3  2019-01-18T06:00:00.000000000Z  \n",
       "4  2019-01-18T14:00:00.000000000Z  "
      ]
     },
     "execution_count": 31,
     "metadata": {},
     "output_type": "execute_result"
    }
   ],
   "source": [
    "df_trades.head()"
   ]
  },
  {
   "cell_type": "code",
   "execution_count": 22,
   "metadata": {},
   "outputs": [
    {
     "data": {
      "application/vnd.plotly.v1+json": {
       "config": {
        "plotlyServerURL": "https://plot.ly"
       },
       "data": [
        {
         "close": [
          109.304,
          108.943,
          109.191,
          109.442,
          108.887,
          107.537,
          106.97,
          107.658,
          107.748,
          108.024,
          107.662,
          107.84,
          108.255,
          108.032,
          108.302,
          108.449,
          108.516,
          108.369,
          108.193,
          108.198,
          108.356,
          108.608,
          108.716,
          108.562,
          108.787,
          108.876,
          108.874,
          108.59,
          108.732,
          108.791,
          108.856,
          108.908,
          108.75,
          108.32,
          108.16,
          107.972,
          107.911,
          108.095,
          108.196,
          108.392,
          108.426,
          108.395,
          108.3,
          108.334,
          108.204,
          108.406,
          108.514,
          108.206,
          108.109,
          108.146,
          108.196,
          108.186,
          108.16,
          108.412,
          108.716,
          108.564,
          108.361,
          108.622,
          108.7,
          108.429
         ],
         "decreasing": {
          "fillcolor": "#CC2E3C",
          "line": {
           "color": "#FF3A4C"
          }
         },
         "high": [
          109.613,
          109.348,
          109.284,
          109.464,
          109.456,
          108.915,
          107.55,
          107.96,
          108.002,
          108.305,
          108.028,
          107.974,
          108.444,
          108.284,
          108.454,
          108.589,
          108.587,
          108.625,
          108.393,
          108.275,
          108.406,
          108.649,
          108.749,
          108.772,
          108.998,
          109.089,
          108.903,
          108.959,
          108.834,
          108.866,
          109.007,
          108.99,
          108.944,
          108.754,
          108.368,
          108.258,
          108.004,
          108.149,
          108.228,
          108.438,
          108.518,
          108.473,
          108.402,
          108.432,
          108.362,
          108.599,
          108.578,
          108.569,
          108.26,
          108.221,
          108.242,
          108.359,
          108.26,
          108.47,
          108.754,
          108.739,
          108.654,
          108.768,
          108.736,
          108.722
         ],
         "increasing": {
          "fillcolor": "#24A06B",
          "line": {
           "color": "#2EC886"
          }
         },
         "line": {
          "width": 1
         },
         "low": [
          109.299,
          108.71,
          108.822,
          109.177,
          108.869,
          104.819,
          106.748,
          106.799,
          107.508,
          107.106,
          107.395,
          107.516,
          107.808,
          107.823,
          107.932,
          108.066,
          108.352,
          108.323,
          108.023,
          108.068,
          108.147,
          108.218,
          108.516,
          108.516,
          108.53,
          108.74,
          108.602,
          108.444,
          108.564,
          108.682,
          108.778,
          108.792,
          108.724,
          108.051,
          107.974,
          107.844,
          107.82,
          107.772,
          107.964,
          107.922,
          108.202,
          108.274,
          108.231,
          108.234,
          108.147,
          108.188,
          108.379,
          108.17,
          108.062,
          108.044,
          107.986,
          108.076,
          108.152,
          108.14,
          108.4,
          108.517,
          108.332,
          108.351,
          108.374,
          108.373
         ],
         "opacity": 1,
         "open": [
          109.6,
          109.302,
          108.946,
          109.189,
          109.444,
          108.861,
          107.535,
          106.972,
          107.66,
          107.746,
          108.026,
          107.672,
          107.843,
          108.257,
          108.034,
          108.304,
          108.452,
          108.52,
          108.372,
          108.196,
          108.196,
          108.358,
          108.606,
          108.716,
          108.565,
          108.785,
          108.874,
          108.876,
          108.588,
          108.754,
          108.794,
          108.853,
          108.91,
          108.752,
          108.322,
          108.143,
          107.97,
          107.909,
          108.093,
          108.193,
          108.394,
          108.434,
          108.398,
          108.302,
          108.332,
          108.202,
          108.404,
          108.555,
          108.208,
          108.107,
          108.144,
          108.198,
          108.188,
          108.16,
          108.41,
          108.718,
          108.566,
          108.358,
          108.624,
          108.692
         ],
         "type": "candlestick",
         "x": [
          "2019-01-02T02:00:00.000000000Z",
          "2019-01-02T06:00:00.000000000Z",
          "2019-01-02T10:00:00.000000000Z",
          "2019-01-02T14:00:00.000000000Z",
          "2019-01-02T18:00:00.000000000Z",
          "2019-01-02T22:00:00.000000000Z",
          "2019-01-03T02:00:00.000000000Z",
          "2019-01-03T06:00:00.000000000Z",
          "2019-01-03T10:00:00.000000000Z",
          "2019-01-03T14:00:00.000000000Z",
          "2019-01-03T18:00:00.000000000Z",
          "2019-01-03T22:00:00.000000000Z",
          "2019-01-04T02:00:00.000000000Z",
          "2019-01-04T06:00:00.000000000Z",
          "2019-01-04T10:00:00.000000000Z",
          "2019-01-04T14:00:00.000000000Z",
          "2019-01-04T18:00:00.000000000Z",
          "2019-01-06T22:00:00.000000000Z",
          "2019-01-07T02:00:00.000000000Z",
          "2019-01-07T06:00:00.000000000Z",
          "2019-01-07T10:00:00.000000000Z",
          "2019-01-07T14:00:00.000000000Z",
          "2019-01-07T18:00:00.000000000Z",
          "2019-01-07T22:00:00.000000000Z",
          "2019-01-08T02:00:00.000000000Z",
          "2019-01-08T06:00:00.000000000Z",
          "2019-01-08T10:00:00.000000000Z",
          "2019-01-08T14:00:00.000000000Z",
          "2019-01-08T18:00:00.000000000Z",
          "2019-01-08T22:00:00.000000000Z",
          "2019-01-09T02:00:00.000000000Z",
          "2019-01-09T06:00:00.000000000Z",
          "2019-01-09T10:00:00.000000000Z",
          "2019-01-09T14:00:00.000000000Z",
          "2019-01-09T18:00:00.000000000Z",
          "2019-01-09T22:00:00.000000000Z",
          "2019-01-10T02:00:00.000000000Z",
          "2019-01-10T06:00:00.000000000Z",
          "2019-01-10T10:00:00.000000000Z",
          "2019-01-10T14:00:00.000000000Z",
          "2019-01-10T18:00:00.000000000Z",
          "2019-01-10T22:00:00.000000000Z",
          "2019-01-11T02:00:00.000000000Z",
          "2019-01-11T06:00:00.000000000Z",
          "2019-01-11T10:00:00.000000000Z",
          "2019-01-11T14:00:00.000000000Z",
          "2019-01-11T18:00:00.000000000Z",
          "2019-01-13T22:00:00.000000000Z",
          "2019-01-14T02:00:00.000000000Z",
          "2019-01-14T06:00:00.000000000Z",
          "2019-01-14T10:00:00.000000000Z",
          "2019-01-14T14:00:00.000000000Z",
          "2019-01-14T18:00:00.000000000Z",
          "2019-01-14T22:00:00.000000000Z",
          "2019-01-15T02:00:00.000000000Z",
          "2019-01-15T06:00:00.000000000Z",
          "2019-01-15T10:00:00.000000000Z",
          "2019-01-15T14:00:00.000000000Z",
          "2019-01-15T18:00:00.000000000Z",
          "2019-01-15T22:00:00.000000000Z"
         ]
        },
        {
         "marker": {
          "color": "#043ef9",
          "size": 12
         },
         "mode": "markers",
         "type": "scatter",
         "x": [
          "2019-01-03T18:00:00.000000000Z",
          "2019-01-04T06:00:00.000000000Z",
          "2019-01-04T18:00:00.000000000Z",
          "2019-01-09T06:00:00.000000000Z",
          "2019-01-10T22:00:00.000000000Z",
          "2019-01-11T18:00:00.000000000Z",
          "2019-01-15T06:00:00.000000000Z",
          "2019-01-15T18:00:00.000000000Z"
         ],
         "y": [
          108.42490000000001,
          108.5076,
          108.6413,
          109.0299,
          108.5496,
          108.6401,
          108.7894,
          108.8097
         ]
        },
        {
         "marker": {
          "color": "#eb5334",
          "size": 12
         },
         "mode": "markers",
         "type": "scatter",
         "x": [
          "2019-01-03T18:00:00.000000000Z",
          "2019-01-04T06:00:00.000000000Z",
          "2019-01-04T18:00:00.000000000Z",
          "2019-01-09T06:00:00.000000000Z",
          "2019-01-10T22:00:00.000000000Z",
          "2019-01-11T18:00:00.000000000Z",
          "2019-01-15T06:00:00.000000000Z",
          "2019-01-15T18:00:00.000000000Z"
         ],
         "y": [
          107.8254,
          108.1896,
          108.3798,
          108.9154,
          108.3916,
          108.4346,
          108.61240000000001,
          108.6012
         ]
        },
        {
         "marker": {
          "color": "#34eb37",
          "size": 12
         },
         "mode": "markers",
         "type": "scatter",
         "x": [
          "2019-01-03T18:00:00.000000000Z",
          "2019-01-04T06:00:00.000000000Z",
          "2019-01-04T18:00:00.000000000Z",
          "2019-01-09T06:00:00.000000000Z",
          "2019-01-10T22:00:00.000000000Z",
          "2019-01-11T18:00:00.000000000Z",
          "2019-01-15T06:00:00.000000000Z",
          "2019-01-15T18:00:00.000000000Z"
         ],
         "y": [
          109.26420000000002,
          108.9528,
          109.00739999999999,
          109.1902,
          108.77080000000001,
          108.9278,
          109.0372,
          109.1016
         ]
        },
        {
         "marker": {
          "color": "#043ef9",
          "size": 12
         },
         "mode": "markers",
         "type": "scatter",
         "x": [
          "2019-01-02T10:00:00.000000000Z",
          "2019-01-03T02:00:00.000000000Z",
          "2019-01-03T22:00:00.000000000Z",
          "2019-01-07T06:00:00.000000000Z",
          "2019-01-08T18:00:00.000000000Z",
          "2019-01-14T18:00:00.000000000Z"
         ],
         "y": [
          108.6462,
          104.4094,
          107.3317,
          107.98599999999999,
          108.3925,
          108.04769999999999
         ]
        },
        {
         "marker": {
          "color": "#eb5334",
          "size": 12
         },
         "mode": "markers",
         "type": "scatter",
         "x": [
          "2019-01-02T10:00:00.000000000Z",
          "2019-01-03T02:00:00.000000000Z",
          "2019-01-03T22:00:00.000000000Z",
          "2019-01-07T06:00:00.000000000Z",
          "2019-01-08T18:00:00.000000000Z",
          "2019-01-14T18:00:00.000000000Z"
         ],
         "y": [
          108.9652,
          106.4574,
          107.6482,
          108.17099999999999,
          108.65,
          108.1892
         ]
        },
        {
         "marker": {
          "color": "#34eb37",
          "size": 12
         },
         "mode": "markers",
         "type": "scatter",
         "x": [
          "2019-01-02T10:00:00.000000000Z",
          "2019-01-03T02:00:00.000000000Z",
          "2019-01-03T22:00:00.000000000Z",
          "2019-01-07T06:00:00.000000000Z",
          "2019-01-08T18:00:00.000000000Z",
          "2019-01-14T18:00:00.000000000Z"
         ],
         "y": [
          108.19959999999999,
          101.5422,
          106.88859999999998,
          107.72699999999999,
          108.032,
          107.8496
         ]
        }
       ],
       "layout": {
        "font": {
         "color": "#e1e1e1",
         "size": 10
        },
        "height": 400,
        "margin": {
         "b": 10,
         "l": 10,
         "r": 10,
         "t": 10
        },
        "paper_bgcolor": "#1e1e1e",
        "plot_bgcolor": "#1e1e1e",
        "template": {
         "data": {
          "bar": [
           {
            "error_x": {
             "color": "#2a3f5f"
            },
            "error_y": {
             "color": "#2a3f5f"
            },
            "marker": {
             "line": {
              "color": "#E5ECF6",
              "width": 0.5
             },
             "pattern": {
              "fillmode": "overlay",
              "size": 10,
              "solidity": 0.2
             }
            },
            "type": "bar"
           }
          ],
          "barpolar": [
           {
            "marker": {
             "line": {
              "color": "#E5ECF6",
              "width": 0.5
             },
             "pattern": {
              "fillmode": "overlay",
              "size": 10,
              "solidity": 0.2
             }
            },
            "type": "barpolar"
           }
          ],
          "carpet": [
           {
            "aaxis": {
             "endlinecolor": "#2a3f5f",
             "gridcolor": "white",
             "linecolor": "white",
             "minorgridcolor": "white",
             "startlinecolor": "#2a3f5f"
            },
            "baxis": {
             "endlinecolor": "#2a3f5f",
             "gridcolor": "white",
             "linecolor": "white",
             "minorgridcolor": "white",
             "startlinecolor": "#2a3f5f"
            },
            "type": "carpet"
           }
          ],
          "choropleth": [
           {
            "colorbar": {
             "outlinewidth": 0,
             "ticks": ""
            },
            "type": "choropleth"
           }
          ],
          "contour": [
           {
            "colorbar": {
             "outlinewidth": 0,
             "ticks": ""
            },
            "colorscale": [
             [
              0,
              "#0d0887"
             ],
             [
              0.1111111111111111,
              "#46039f"
             ],
             [
              0.2222222222222222,
              "#7201a8"
             ],
             [
              0.3333333333333333,
              "#9c179e"
             ],
             [
              0.4444444444444444,
              "#bd3786"
             ],
             [
              0.5555555555555556,
              "#d8576b"
             ],
             [
              0.6666666666666666,
              "#ed7953"
             ],
             [
              0.7777777777777778,
              "#fb9f3a"
             ],
             [
              0.8888888888888888,
              "#fdca26"
             ],
             [
              1,
              "#f0f921"
             ]
            ],
            "type": "contour"
           }
          ],
          "contourcarpet": [
           {
            "colorbar": {
             "outlinewidth": 0,
             "ticks": ""
            },
            "type": "contourcarpet"
           }
          ],
          "heatmap": [
           {
            "colorbar": {
             "outlinewidth": 0,
             "ticks": ""
            },
            "colorscale": [
             [
              0,
              "#0d0887"
             ],
             [
              0.1111111111111111,
              "#46039f"
             ],
             [
              0.2222222222222222,
              "#7201a8"
             ],
             [
              0.3333333333333333,
              "#9c179e"
             ],
             [
              0.4444444444444444,
              "#bd3786"
             ],
             [
              0.5555555555555556,
              "#d8576b"
             ],
             [
              0.6666666666666666,
              "#ed7953"
             ],
             [
              0.7777777777777778,
              "#fb9f3a"
             ],
             [
              0.8888888888888888,
              "#fdca26"
             ],
             [
              1,
              "#f0f921"
             ]
            ],
            "type": "heatmap"
           }
          ],
          "heatmapgl": [
           {
            "colorbar": {
             "outlinewidth": 0,
             "ticks": ""
            },
            "colorscale": [
             [
              0,
              "#0d0887"
             ],
             [
              0.1111111111111111,
              "#46039f"
             ],
             [
              0.2222222222222222,
              "#7201a8"
             ],
             [
              0.3333333333333333,
              "#9c179e"
             ],
             [
              0.4444444444444444,
              "#bd3786"
             ],
             [
              0.5555555555555556,
              "#d8576b"
             ],
             [
              0.6666666666666666,
              "#ed7953"
             ],
             [
              0.7777777777777778,
              "#fb9f3a"
             ],
             [
              0.8888888888888888,
              "#fdca26"
             ],
             [
              1,
              "#f0f921"
             ]
            ],
            "type": "heatmapgl"
           }
          ],
          "histogram": [
           {
            "marker": {
             "pattern": {
              "fillmode": "overlay",
              "size": 10,
              "solidity": 0.2
             }
            },
            "type": "histogram"
           }
          ],
          "histogram2d": [
           {
            "colorbar": {
             "outlinewidth": 0,
             "ticks": ""
            },
            "colorscale": [
             [
              0,
              "#0d0887"
             ],
             [
              0.1111111111111111,
              "#46039f"
             ],
             [
              0.2222222222222222,
              "#7201a8"
             ],
             [
              0.3333333333333333,
              "#9c179e"
             ],
             [
              0.4444444444444444,
              "#bd3786"
             ],
             [
              0.5555555555555556,
              "#d8576b"
             ],
             [
              0.6666666666666666,
              "#ed7953"
             ],
             [
              0.7777777777777778,
              "#fb9f3a"
             ],
             [
              0.8888888888888888,
              "#fdca26"
             ],
             [
              1,
              "#f0f921"
             ]
            ],
            "type": "histogram2d"
           }
          ],
          "histogram2dcontour": [
           {
            "colorbar": {
             "outlinewidth": 0,
             "ticks": ""
            },
            "colorscale": [
             [
              0,
              "#0d0887"
             ],
             [
              0.1111111111111111,
              "#46039f"
             ],
             [
              0.2222222222222222,
              "#7201a8"
             ],
             [
              0.3333333333333333,
              "#9c179e"
             ],
             [
              0.4444444444444444,
              "#bd3786"
             ],
             [
              0.5555555555555556,
              "#d8576b"
             ],
             [
              0.6666666666666666,
              "#ed7953"
             ],
             [
              0.7777777777777778,
              "#fb9f3a"
             ],
             [
              0.8888888888888888,
              "#fdca26"
             ],
             [
              1,
              "#f0f921"
             ]
            ],
            "type": "histogram2dcontour"
           }
          ],
          "mesh3d": [
           {
            "colorbar": {
             "outlinewidth": 0,
             "ticks": ""
            },
            "type": "mesh3d"
           }
          ],
          "parcoords": [
           {
            "line": {
             "colorbar": {
              "outlinewidth": 0,
              "ticks": ""
             }
            },
            "type": "parcoords"
           }
          ],
          "pie": [
           {
            "automargin": true,
            "type": "pie"
           }
          ],
          "scatter": [
           {
            "marker": {
             "colorbar": {
              "outlinewidth": 0,
              "ticks": ""
             }
            },
            "type": "scatter"
           }
          ],
          "scatter3d": [
           {
            "line": {
             "colorbar": {
              "outlinewidth": 0,
              "ticks": ""
             }
            },
            "marker": {
             "colorbar": {
              "outlinewidth": 0,
              "ticks": ""
             }
            },
            "type": "scatter3d"
           }
          ],
          "scattercarpet": [
           {
            "marker": {
             "colorbar": {
              "outlinewidth": 0,
              "ticks": ""
             }
            },
            "type": "scattercarpet"
           }
          ],
          "scattergeo": [
           {
            "marker": {
             "colorbar": {
              "outlinewidth": 0,
              "ticks": ""
             }
            },
            "type": "scattergeo"
           }
          ],
          "scattergl": [
           {
            "marker": {
             "colorbar": {
              "outlinewidth": 0,
              "ticks": ""
             }
            },
            "type": "scattergl"
           }
          ],
          "scattermapbox": [
           {
            "marker": {
             "colorbar": {
              "outlinewidth": 0,
              "ticks": ""
             }
            },
            "type": "scattermapbox"
           }
          ],
          "scatterpolar": [
           {
            "marker": {
             "colorbar": {
              "outlinewidth": 0,
              "ticks": ""
             }
            },
            "type": "scatterpolar"
           }
          ],
          "scatterpolargl": [
           {
            "marker": {
             "colorbar": {
              "outlinewidth": 0,
              "ticks": ""
             }
            },
            "type": "scatterpolargl"
           }
          ],
          "scatterternary": [
           {
            "marker": {
             "colorbar": {
              "outlinewidth": 0,
              "ticks": ""
             }
            },
            "type": "scatterternary"
           }
          ],
          "surface": [
           {
            "colorbar": {
             "outlinewidth": 0,
             "ticks": ""
            },
            "colorscale": [
             [
              0,
              "#0d0887"
             ],
             [
              0.1111111111111111,
              "#46039f"
             ],
             [
              0.2222222222222222,
              "#7201a8"
             ],
             [
              0.3333333333333333,
              "#9c179e"
             ],
             [
              0.4444444444444444,
              "#bd3786"
             ],
             [
              0.5555555555555556,
              "#d8576b"
             ],
             [
              0.6666666666666666,
              "#ed7953"
             ],
             [
              0.7777777777777778,
              "#fb9f3a"
             ],
             [
              0.8888888888888888,
              "#fdca26"
             ],
             [
              1,
              "#f0f921"
             ]
            ],
            "type": "surface"
           }
          ],
          "table": [
           {
            "cells": {
             "fill": {
              "color": "#EBF0F8"
             },
             "line": {
              "color": "white"
             }
            },
            "header": {
             "fill": {
              "color": "#C8D4E3"
             },
             "line": {
              "color": "white"
             }
            },
            "type": "table"
           }
          ]
         },
         "layout": {
          "annotationdefaults": {
           "arrowcolor": "#2a3f5f",
           "arrowhead": 0,
           "arrowwidth": 1
          },
          "autotypenumbers": "strict",
          "coloraxis": {
           "colorbar": {
            "outlinewidth": 0,
            "ticks": ""
           }
          },
          "colorscale": {
           "diverging": [
            [
             0,
             "#8e0152"
            ],
            [
             0.1,
             "#c51b7d"
            ],
            [
             0.2,
             "#de77ae"
            ],
            [
             0.3,
             "#f1b6da"
            ],
            [
             0.4,
             "#fde0ef"
            ],
            [
             0.5,
             "#f7f7f7"
            ],
            [
             0.6,
             "#e6f5d0"
            ],
            [
             0.7,
             "#b8e186"
            ],
            [
             0.8,
             "#7fbc41"
            ],
            [
             0.9,
             "#4d9221"
            ],
            [
             1,
             "#276419"
            ]
           ],
           "sequential": [
            [
             0,
             "#0d0887"
            ],
            [
             0.1111111111111111,
             "#46039f"
            ],
            [
             0.2222222222222222,
             "#7201a8"
            ],
            [
             0.3333333333333333,
             "#9c179e"
            ],
            [
             0.4444444444444444,
             "#bd3786"
            ],
            [
             0.5555555555555556,
             "#d8576b"
            ],
            [
             0.6666666666666666,
             "#ed7953"
            ],
            [
             0.7777777777777778,
             "#fb9f3a"
            ],
            [
             0.8888888888888888,
             "#fdca26"
            ],
            [
             1,
             "#f0f921"
            ]
           ],
           "sequentialminus": [
            [
             0,
             "#0d0887"
            ],
            [
             0.1111111111111111,
             "#46039f"
            ],
            [
             0.2222222222222222,
             "#7201a8"
            ],
            [
             0.3333333333333333,
             "#9c179e"
            ],
            [
             0.4444444444444444,
             "#bd3786"
            ],
            [
             0.5555555555555556,
             "#d8576b"
            ],
            [
             0.6666666666666666,
             "#ed7953"
            ],
            [
             0.7777777777777778,
             "#fb9f3a"
            ],
            [
             0.8888888888888888,
             "#fdca26"
            ],
            [
             1,
             "#f0f921"
            ]
           ]
          },
          "colorway": [
           "#636efa",
           "#EF553B",
           "#00cc96",
           "#ab63fa",
           "#FFA15A",
           "#19d3f3",
           "#FF6692",
           "#B6E880",
           "#FF97FF",
           "#FECB52"
          ],
          "font": {
           "color": "#2a3f5f"
          },
          "geo": {
           "bgcolor": "white",
           "lakecolor": "white",
           "landcolor": "#E5ECF6",
           "showlakes": true,
           "showland": true,
           "subunitcolor": "white"
          },
          "hoverlabel": {
           "align": "left"
          },
          "hovermode": "closest",
          "mapbox": {
           "style": "light"
          },
          "paper_bgcolor": "white",
          "plot_bgcolor": "#E5ECF6",
          "polar": {
           "angularaxis": {
            "gridcolor": "white",
            "linecolor": "white",
            "ticks": ""
           },
           "bgcolor": "#E5ECF6",
           "radialaxis": {
            "gridcolor": "white",
            "linecolor": "white",
            "ticks": ""
           }
          },
          "scene": {
           "xaxis": {
            "backgroundcolor": "#E5ECF6",
            "gridcolor": "white",
            "gridwidth": 2,
            "linecolor": "white",
            "showbackground": true,
            "ticks": "",
            "zerolinecolor": "white"
           },
           "yaxis": {
            "backgroundcolor": "#E5ECF6",
            "gridcolor": "white",
            "gridwidth": 2,
            "linecolor": "white",
            "showbackground": true,
            "ticks": "",
            "zerolinecolor": "white"
           },
           "zaxis": {
            "backgroundcolor": "#E5ECF6",
            "gridcolor": "white",
            "gridwidth": 2,
            "linecolor": "white",
            "showbackground": true,
            "ticks": "",
            "zerolinecolor": "white"
           }
          },
          "shapedefaults": {
           "line": {
            "color": "#2a3f5f"
           }
          },
          "ternary": {
           "aaxis": {
            "gridcolor": "white",
            "linecolor": "white",
            "ticks": ""
           },
           "baxis": {
            "gridcolor": "white",
            "linecolor": "white",
            "ticks": ""
           },
           "bgcolor": "#E5ECF6",
           "caxis": {
            "gridcolor": "white",
            "linecolor": "white",
            "ticks": ""
           }
          },
          "title": {
           "x": 0.05
          },
          "xaxis": {
           "automargin": true,
           "gridcolor": "white",
           "linecolor": "white",
           "ticks": "",
           "title": {
            "standoff": 15
           },
           "zerolinecolor": "white",
           "zerolinewidth": 2
          },
          "yaxis": {
           "automargin": true,
           "gridcolor": "white",
           "linecolor": "white",
           "ticks": "",
           "title": {
            "standoff": 15
           },
           "zerolinecolor": "white",
           "zerolinewidth": 2
          }
         }
        },
        "width": 1000,
        "xaxis": {
         "fixedrange": true,
         "gridcolor": "#1f292f",
         "rangebreaks": [
          {
           "bounds": [
            "sat",
            "mon"
           ]
          }
         ],
         "rangeslider": {
          "visible": false
         },
         "showgrid": true
        },
        "yaxis": {
         "gridcolor": "#1f292f",
         "showgrid": true
        }
       }
      }
     },
     "metadata": {},
     "output_type": "display_data"
    }
   ],
   "source": []
  },
  {
   "cell_type": "code",
   "execution_count": null,
   "metadata": {},
   "outputs": [],
   "source": []
  }
 ],
 "metadata": {
  "interpreter": {
   "hash": "1576d1a6185cb4b78a61c7f65ef0365cc528fa44fe3fbc16ad5912254b255587"
  },
  "kernelspec": {
   "display_name": "Python 3.10.0 64-bit ('venv': venv)",
   "name": "python3"
  },
  "language_info": {
   "codemirror_mode": {
    "name": "ipython",
    "version": 3
   },
   "file_extension": ".py",
   "mimetype": "text/x-python",
   "name": "python",
   "nbconvert_exporter": "python",
   "pygments_lexer": "ipython3",
   "version": "3.10.0"
  },
  "orig_nbformat": 4
 },
 "nbformat": 4,
 "nbformat_minor": 2
}
