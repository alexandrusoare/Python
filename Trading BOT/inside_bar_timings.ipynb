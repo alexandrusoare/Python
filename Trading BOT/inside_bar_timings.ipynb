{
 "cells": [
  {
   "cell_type": "code",
   "execution_count": 1,
   "metadata": {},
   "outputs": [],
   "source": [
    "import pandas as pd\n",
    "import utils\n",
    "import datetime as dt\n",
    "from dateutil.parser import *"
   ]
  },
  {
   "cell_type": "code",
   "execution_count": 2,
   "metadata": {},
   "outputs": [],
   "source": [
    "df_trades = pd.read_pickle(\"USD_JPY_H4_trades.pkl\")"
   ]
  },
  {
   "cell_type": "code",
   "execution_count": 3,
   "metadata": {},
   "outputs": [],
   "source": [
    "pair = \"USD_JPY\""
   ]
  },
  {
   "cell_type": "code",
   "execution_count": 4,
   "metadata": {},
   "outputs": [],
   "source": [
    "df_raw = pd.read_pickle(utils.get_his_data_filename(pair,'M5'))"
   ]
  },
  {
   "cell_type": "code",
   "execution_count": 6,
   "metadata": {},
   "outputs": [],
   "source": [
    "non_cols = ['time', 'volume']\n",
    "mod_cols = [x for x in df_raw.columns if x not in non_cols]\n",
    "df_raw[mod_cols] = df_raw[mod_cols].apply(pd.to_numeric)"
   ]
  },
  {
   "cell_type": "code",
   "execution_count": 10,
   "metadata": {},
   "outputs": [],
   "source": [
    "df_trades[\"time\"] = [parse(x) for x in df_trades.time]\n",
    "df_raw[\"time\"] = [parse(x) for x in df_raw.time]\n"
   ]
  },
  {
   "cell_type": "code",
   "execution_count": 12,
   "metadata": {},
   "outputs": [],
   "source": [
    "df_trades[\"next\"] = df_trades[\"time\"].shift(-1)"
   ]
  },
  {
   "cell_type": "code",
   "execution_count": 22,
   "metadata": {},
   "outputs": [],
   "source": [
    "df_trades['trade_end'] = df_trades.next + dt.timedelta(hours=3, minutes=55)\n",
    "df_trades['trade_start'] = df_trades.time + dt.timedelta(hours=4)"
   ]
  },
  {
   "cell_type": "code",
   "execution_count": 23,
   "metadata": {},
   "outputs": [
    {
     "data": {
      "text/html": [
       "<div>\n",
       "<style scoped>\n",
       "    .dataframe tbody tr th:only-of-type {\n",
       "        vertical-align: middle;\n",
       "    }\n",
       "\n",
       "    .dataframe tbody tr th {\n",
       "        vertical-align: top;\n",
       "    }\n",
       "\n",
       "    .dataframe thead th {\n",
       "        text-align: right;\n",
       "    }\n",
       "</style>\n",
       "<table border=\"1\" class=\"dataframe\">\n",
       "  <thead>\n",
       "    <tr style=\"text-align: right;\">\n",
       "      <th></th>\n",
       "      <th>time</th>\n",
       "      <th>next</th>\n",
       "      <th>trade_end</th>\n",
       "      <th>trade_start</th>\n",
       "    </tr>\n",
       "  </thead>\n",
       "  <tbody>\n",
       "    <tr>\n",
       "      <th>0</th>\n",
       "      <td>2019-01-02 10:00:00+00:00</td>\n",
       "      <td>2019-01-03 02:00:00+00:00</td>\n",
       "      <td>2019-01-03 05:55:00+00:00</td>\n",
       "      <td>2019-01-02 14:00:00+00:00</td>\n",
       "    </tr>\n",
       "    <tr>\n",
       "      <th>1</th>\n",
       "      <td>2019-01-03 02:00:00+00:00</td>\n",
       "      <td>2019-01-03 18:00:00+00:00</td>\n",
       "      <td>2019-01-03 21:55:00+00:00</td>\n",
       "      <td>2019-01-03 06:00:00+00:00</td>\n",
       "    </tr>\n",
       "    <tr>\n",
       "      <th>2</th>\n",
       "      <td>2019-01-03 18:00:00+00:00</td>\n",
       "      <td>2019-01-03 22:00:00+00:00</td>\n",
       "      <td>2019-01-04 01:55:00+00:00</td>\n",
       "      <td>2019-01-03 22:00:00+00:00</td>\n",
       "    </tr>\n",
       "    <tr>\n",
       "      <th>3</th>\n",
       "      <td>2019-01-03 22:00:00+00:00</td>\n",
       "      <td>2019-01-04 06:00:00+00:00</td>\n",
       "      <td>2019-01-04 09:55:00+00:00</td>\n",
       "      <td>2019-01-04 02:00:00+00:00</td>\n",
       "    </tr>\n",
       "    <tr>\n",
       "      <th>4</th>\n",
       "      <td>2019-01-04 06:00:00+00:00</td>\n",
       "      <td>2019-01-04 18:00:00+00:00</td>\n",
       "      <td>2019-01-04 21:55:00+00:00</td>\n",
       "      <td>2019-01-04 10:00:00+00:00</td>\n",
       "    </tr>\n",
       "  </tbody>\n",
       "</table>\n",
       "</div>"
      ],
      "text/plain": [
       "                       time                      next  \\\n",
       "0 2019-01-02 10:00:00+00:00 2019-01-03 02:00:00+00:00   \n",
       "1 2019-01-03 02:00:00+00:00 2019-01-03 18:00:00+00:00   \n",
       "2 2019-01-03 18:00:00+00:00 2019-01-03 22:00:00+00:00   \n",
       "3 2019-01-03 22:00:00+00:00 2019-01-04 06:00:00+00:00   \n",
       "4 2019-01-04 06:00:00+00:00 2019-01-04 18:00:00+00:00   \n",
       "\n",
       "                  trade_end               trade_start  \n",
       "0 2019-01-03 05:55:00+00:00 2019-01-02 14:00:00+00:00  \n",
       "1 2019-01-03 21:55:00+00:00 2019-01-03 06:00:00+00:00  \n",
       "2 2019-01-04 01:55:00+00:00 2019-01-03 22:00:00+00:00  \n",
       "3 2019-01-04 09:55:00+00:00 2019-01-04 02:00:00+00:00  \n",
       "4 2019-01-04 21:55:00+00:00 2019-01-04 10:00:00+00:00  "
      ]
     },
     "execution_count": 23,
     "metadata": {},
     "output_type": "execute_result"
    }
   ],
   "source": [
    "df_trades[['time', 'next', 'trade_end', 'trade_start']].head()"
   ]
  },
  {
   "cell_type": "code",
   "execution_count": null,
   "metadata": {},
   "outputs": [],
   "source": [
    "df_trades.dropna(inplace=True)\n",
    "df_trades.reset_index(drop=True, inplace=True)"
   ]
  },
  {
   "cell_type": "code",
   "execution_count": 31,
   "metadata": {},
   "outputs": [],
   "source": [
    "def signal_text(signal):\n",
    "    if signal == 1:\n",
    "        return 'BUY'\n",
    "    elif signal == -1:\n",
    "        return 'SELL'\n",
    "    return 'NONE'\n",
    "\n",
    "def triggered(direction, current_price, signal_price):\n",
    "    if direction == 1 and current_price > signal_price:\n",
    "        return True\n",
    "    elif direction == -1 and current_price < signal_price:\n",
    "        return True\n",
    "    return False\n",
    "\n",
    "def process_buy(start_index, TP, SL, prices, start_price):\n",
    "    for price in prices[start_index:]:\n",
    "        if price >= TP:\n",
    "            return 2.0\n",
    "        elif price <= SL:\n",
    "            return -1.0\n",
    "        return 0.0\n",
    "\n",
    "def process_sell(start_index, TP, SL, prices, start_price):\n",
    "    for price in prices[start_index:]:\n",
    "        if price <= TP:\n",
    "            return 2.0\n",
    "        elif price >= SL:\n",
    "            return -1.0\n",
    "        return 0.0\n",
    "\n",
    "def process_trade(start_index, direction, TP, SL, prices, start_price):\n",
    "    if direction == 1:\n",
    "      return process_buy(start_index, TP, SL, prices, start_price)\n",
    "    else:\n",
    "        return process_sell(start_index, TP, SL, prices, start_price)\n",
    "    \n",
    "\n",
    "def process_m5(m5_df, row):\n",
    "    result = 0.0\n",
    "    for index,price in enumerate(m5_df.mid_c.values):\n",
    "        if triggered(row.SIGNAL,price, row.ENTRY) == True:\n",
    "           #print(f\"Signal at {index} {price:.2f} {row.ENTRY:.2f} {row.SIGNAL:.2f}\")\n",
    "           result = process_trade(index, row.SIGNAL, row.TAKEPROFIT, row.STOPLOSS, m5_df.mid_c.values,row.ENTRY)\n",
    "           break \n",
    "    return result"
   ]
  },
  {
   "cell_type": "code",
   "execution_count": 32,
   "metadata": {},
   "outputs": [
    {
     "name": "stdout",
     "output_type": "stream",
     "text": [
      "20.0\n"
     ]
    }
   ],
   "source": [
    "total = 0\n",
    "for index, row in df_trades.iterrows():\n",
    "     m5_data = df_raw[(df_raw.time >= row.trade_start) & (df_raw.time <= row.trade_end)]\n",
    "     #print(f\"{row.time} {signal_text(row.SIGNAL)} {row.ENTRY:.2f} {m5_data.shape}\")\n",
    "     total += process_m5(m5_data, row)\n",
    "     #if index > 10:\n",
    "         #break\n",
    "print(total)"
   ]
  },
  {
   "cell_type": "code",
   "execution_count": null,
   "metadata": {},
   "outputs": [],
   "source": []
  }
 ],
 "metadata": {
  "interpreter": {
   "hash": "1576d1a6185cb4b78a61c7f65ef0365cc528fa44fe3fbc16ad5912254b255587"
  },
  "kernelspec": {
   "display_name": "Python 3.10.0 64-bit ('venv': venv)",
   "name": "python3"
  },
  "language_info": {
   "codemirror_mode": {
    "name": "ipython",
    "version": 3
   },
   "file_extension": ".py",
   "mimetype": "text/x-python",
   "name": "python",
   "nbconvert_exporter": "python",
   "pygments_lexer": "ipython3",
   "version": "3.10.0"
  },
  "orig_nbformat": 4
 },
 "nbformat": 4,
 "nbformat_minor": 2
}
