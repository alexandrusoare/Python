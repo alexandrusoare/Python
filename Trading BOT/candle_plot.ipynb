{
 "cells": [
  {
   "cell_type": "code",
   "execution_count": 28,
   "metadata": {},
   "outputs": [],
   "source": [
    "import pandas as pd\n",
    "import utils\n",
    "import plotly.graph_objects as go\n",
    "import instrument"
   ]
  },
  {
   "cell_type": "code",
   "execution_count": 29,
   "metadata": {},
   "outputs": [],
   "source": [
    "pair = \"CAD_CHF\"\n",
    "granularity = \"H1\"\n",
    "ma_list = [16,64]\n",
    "i_pair = instrument.Instrument.get_instrument_by_name(pair)"
   ]
  },
  {
   "cell_type": "code",
   "execution_count": 30,
   "metadata": {},
   "outputs": [],
   "source": [
    "df = pd.read_pickle(utils.get_his_data_filename(pair,granularity))\n",
    "non_cols = ['time' , 'volume']\n",
    "mod_cols = [x for x in df.columns if x not in non_cols]\n",
    "df[mod_cols] = df[mod_cols].apply(pd.to_numeric)"
   ]
  },
  {
   "cell_type": "code",
   "execution_count": 31,
   "metadata": {},
   "outputs": [],
   "source": [
    "df_ma = df[['time', 'mid_o', 'mid_h', 'mid_l', 'mid_c']].copy()"
   ]
  },
  {
   "cell_type": "code",
   "execution_count": 32,
   "metadata": {},
   "outputs": [],
   "source": [
    "for ma in ma_list:\n",
    "    df_ma[f'MA_{ma}'] = df_ma.mid_c.rolling(window=ma).mean()"
   ]
  },
  {
   "cell_type": "code",
   "execution_count": 33,
   "metadata": {},
   "outputs": [],
   "source": [
    "df_ma.dropna(inplace=True)"
   ]
  },
  {
   "cell_type": "code",
   "execution_count": 34,
   "metadata": {},
   "outputs": [],
   "source": [
    "df_ma.reset_index(drop=True,inplace=True)"
   ]
  },
  {
   "cell_type": "code",
   "execution_count": 35,
   "metadata": {},
   "outputs": [
    {
     "data": {
      "text/html": [
       "<div>\n",
       "<style scoped>\n",
       "    .dataframe tbody tr th:only-of-type {\n",
       "        vertical-align: middle;\n",
       "    }\n",
       "\n",
       "    .dataframe tbody tr th {\n",
       "        vertical-align: top;\n",
       "    }\n",
       "\n",
       "    .dataframe thead th {\n",
       "        text-align: right;\n",
       "    }\n",
       "</style>\n",
       "<table border=\"1\" class=\"dataframe\">\n",
       "  <thead>\n",
       "    <tr style=\"text-align: right;\">\n",
       "      <th></th>\n",
       "      <th>time</th>\n",
       "      <th>mid_o</th>\n",
       "      <th>mid_h</th>\n",
       "      <th>mid_l</th>\n",
       "      <th>mid_c</th>\n",
       "      <th>MA_16</th>\n",
       "      <th>MA_64</th>\n",
       "    </tr>\n",
       "  </thead>\n",
       "  <tbody>\n",
       "    <tr>\n",
       "      <th>0</th>\n",
       "      <td>2021-03-14T21:00:00.000000000Z</td>\n",
       "      <td>0.74527</td>\n",
       "      <td>0.74527</td>\n",
       "      <td>0.74394</td>\n",
       "      <td>0.74458</td>\n",
       "      <td>0.742954</td>\n",
       "      <td>0.738290</td>\n",
       "    </tr>\n",
       "    <tr>\n",
       "      <th>1</th>\n",
       "      <td>2021-03-14T22:00:00.000000000Z</td>\n",
       "      <td>0.74450</td>\n",
       "      <td>0.74520</td>\n",
       "      <td>0.74433</td>\n",
       "      <td>0.74488</td>\n",
       "      <td>0.743314</td>\n",
       "      <td>0.738473</td>\n",
       "    </tr>\n",
       "    <tr>\n",
       "      <th>2</th>\n",
       "      <td>2021-03-14T23:00:00.000000000Z</td>\n",
       "      <td>0.74480</td>\n",
       "      <td>0.74543</td>\n",
       "      <td>0.74466</td>\n",
       "      <td>0.74538</td>\n",
       "      <td>0.743628</td>\n",
       "      <td>0.738649</td>\n",
       "    </tr>\n",
       "    <tr>\n",
       "      <th>3</th>\n",
       "      <td>2021-03-15T00:00:00.000000000Z</td>\n",
       "      <td>0.74534</td>\n",
       "      <td>0.74534</td>\n",
       "      <td>0.74469</td>\n",
       "      <td>0.74486</td>\n",
       "      <td>0.743851</td>\n",
       "      <td>0.738806</td>\n",
       "    </tr>\n",
       "    <tr>\n",
       "      <th>4</th>\n",
       "      <td>2021-03-15T01:00:00.000000000Z</td>\n",
       "      <td>0.74488</td>\n",
       "      <td>0.74518</td>\n",
       "      <td>0.74470</td>\n",
       "      <td>0.74512</td>\n",
       "      <td>0.744071</td>\n",
       "      <td>0.738961</td>\n",
       "    </tr>\n",
       "  </tbody>\n",
       "</table>\n",
       "</div>"
      ],
      "text/plain": [
       "                             time    mid_o    mid_h    mid_l    mid_c  \\\n",
       "0  2021-03-14T21:00:00.000000000Z  0.74527  0.74527  0.74394  0.74458   \n",
       "1  2021-03-14T22:00:00.000000000Z  0.74450  0.74520  0.74433  0.74488   \n",
       "2  2021-03-14T23:00:00.000000000Z  0.74480  0.74543  0.74466  0.74538   \n",
       "3  2021-03-15T00:00:00.000000000Z  0.74534  0.74534  0.74469  0.74486   \n",
       "4  2021-03-15T01:00:00.000000000Z  0.74488  0.74518  0.74470  0.74512   \n",
       "\n",
       "      MA_16     MA_64  \n",
       "0  0.742954  0.738290  \n",
       "1  0.743314  0.738473  \n",
       "2  0.743628  0.738649  \n",
       "3  0.743851  0.738806  \n",
       "4  0.744071  0.738961  "
      ]
     },
     "execution_count": 35,
     "metadata": {},
     "output_type": "execute_result"
    }
   ],
   "source": [
    "df_ma.head()"
   ]
  },
  {
   "cell_type": "code",
   "execution_count": 36,
   "metadata": {},
   "outputs": [],
   "source": [
    "def is_trade(row):\n",
    "    if row.DIFF >= 0 and row.DIFF_PREV < 0:\n",
    "        return 1\n",
    "    if row.DIFF <= 0 and row.DIFF_PREV > 0:\n",
    "        return -1\n",
    "    return 0\n"
   ]
  },
  {
   "cell_type": "code",
   "execution_count": 37,
   "metadata": {},
   "outputs": [],
   "source": [
    "df_ma['DIFF'] = df_ma.MA_16 - df_ma.MA_64\n",
    "df_ma['DIFF_PREV'] = df_ma.DIFF.shift(1)\n",
    "df_ma['IS_TRADE'] = df_ma.apply(is_trade, axis=1)\n"
   ]
  },
  {
   "cell_type": "code",
   "execution_count": 38,
   "metadata": {},
   "outputs": [],
   "source": [
    "df_trades = df_ma[df_ma.IS_TRADE!=0].copy()\n",
    "df_trades[\"DELTA\"] = (df_trades.mid_c.diff() / i_pair.pipLocation).shift(-1)\n",
    "df_trades[\"GAIN\"] = df_trades[\"DELTA\"] * df_trades[\"IS_TRADE\"]"
   ]
  },
  {
   "cell_type": "code",
   "execution_count": 39,
   "metadata": {},
   "outputs": [
    {
     "data": {
      "text/plain": [
       "-213.90000000000353"
      ]
     },
     "execution_count": 39,
     "metadata": {},
     "output_type": "execute_result"
    }
   ],
   "source": [
    "df_trades[\"GAIN\"].sum()"
   ]
  },
  {
   "cell_type": "code",
   "execution_count": 40,
   "metadata": {},
   "outputs": [],
   "source": [
    "from dateutil.parser import *\n",
    "df_trades[\"time\"] = [parse(x) for x in df_trades.time]"
   ]
  },
  {
   "cell_type": "code",
   "execution_count": 41,
   "metadata": {},
   "outputs": [],
   "source": [
    "df_trades[\"DURATION\"] = df_trades.time.diff().shift(-1)\n"
   ]
  },
  {
   "cell_type": "code",
   "execution_count": 42,
   "metadata": {},
   "outputs": [],
   "source": [
    "df_trades[\"DURATION\"] = [x.total_seconds() / 3600 for x in df_trades.DURATION]\n"
   ]
  },
  {
   "cell_type": "code",
   "execution_count": null,
   "metadata": {},
   "outputs": [],
   "source": []
  },
  {
   "cell_type": "code",
   "execution_count": 25,
   "metadata": {},
   "outputs": [
    {
     "data": {
      "text/html": [
       "<div>\n",
       "<style scoped>\n",
       "    .dataframe tbody tr th:only-of-type {\n",
       "        vertical-align: middle;\n",
       "    }\n",
       "\n",
       "    .dataframe tbody tr th {\n",
       "        vertical-align: top;\n",
       "    }\n",
       "\n",
       "    .dataframe thead th {\n",
       "        text-align: right;\n",
       "    }\n",
       "</style>\n",
       "<table border=\"1\" class=\"dataframe\">\n",
       "  <thead>\n",
       "    <tr style=\"text-align: right;\">\n",
       "      <th></th>\n",
       "      <th>time</th>\n",
       "      <th>DURATION</th>\n",
       "    </tr>\n",
       "  </thead>\n",
       "  <tbody>\n",
       "    <tr>\n",
       "      <th>3794</th>\n",
       "      <td>2021-10-20 23:00:00+00:00</td>\n",
       "      <td>117.0</td>\n",
       "    </tr>\n",
       "    <tr>\n",
       "      <th>3863</th>\n",
       "      <td>2021-10-25 20:00:00+00:00</td>\n",
       "      <td>33.0</td>\n",
       "    </tr>\n",
       "    <tr>\n",
       "      <th>3896</th>\n",
       "      <td>2021-10-27 05:00:00+00:00</td>\n",
       "      <td>24.0</td>\n",
       "    </tr>\n",
       "    <tr>\n",
       "      <th>3920</th>\n",
       "      <td>2021-10-28 05:00:00+00:00</td>\n",
       "      <td>2.0</td>\n",
       "    </tr>\n",
       "    <tr>\n",
       "      <th>3922</th>\n",
       "      <td>2021-10-28 07:00:00+00:00</td>\n",
       "      <td>NaN</td>\n",
       "    </tr>\n",
       "  </tbody>\n",
       "</table>\n",
       "</div>"
      ],
      "text/plain": [
       "                          time  DURATION\n",
       "3794 2021-10-20 23:00:00+00:00     117.0\n",
       "3863 2021-10-25 20:00:00+00:00      33.0\n",
       "3896 2021-10-27 05:00:00+00:00      24.0\n",
       "3920 2021-10-28 05:00:00+00:00       2.0\n",
       "3922 2021-10-28 07:00:00+00:00       NaN"
      ]
     },
     "execution_count": 25,
     "metadata": {},
     "output_type": "execute_result"
    }
   ],
   "source": [
    "df_trades[['time','DURATION']].tail()"
   ]
  },
  {
   "cell_type": "code",
   "execution_count": 17,
   "metadata": {},
   "outputs": [
    {
     "name": "stdout",
     "output_type": "stream",
     "text": [
      "<class 'pandas.core.frame.DataFrame'>\n",
      "Int64Index: 81 entries, 39 to 3922\n",
      "Data columns (total 13 columns):\n",
      " #   Column     Non-Null Count  Dtype                  \n",
      "---  ------     --------------  -----                  \n",
      " 0   time       81 non-null     datetime64[ns, tzutc()]\n",
      " 1   mid_o      81 non-null     float64                \n",
      " 2   mid_h      81 non-null     float64                \n",
      " 3   mid_l      81 non-null     float64                \n",
      " 4   mid_c      81 non-null     float64                \n",
      " 5   MA_16      81 non-null     float64                \n",
      " 6   MA_64      81 non-null     float64                \n",
      " 7   DIFF       81 non-null     float64                \n",
      " 8   DIFF_PREV  81 non-null     float64                \n",
      " 9   IS_TRADE   81 non-null     int64                  \n",
      " 10  DELTA      80 non-null     float64                \n",
      " 11  GAIN       80 non-null     float64                \n",
      " 12  DURATION   80 non-null     timedelta64[ns]        \n",
      "dtypes: datetime64[ns, tzutc()](1), float64(10), int64(1), timedelta64[ns](1)\n",
      "memory usage: 8.9 KB\n"
     ]
    }
   ],
   "source": [
    "df_trades.info()"
   ]
  },
  {
   "cell_type": "code",
   "execution_count": 46,
   "metadata": {},
   "outputs": [
    {
     "data": {
      "text/html": [
       "<div>\n",
       "<style scoped>\n",
       "    .dataframe tbody tr th:only-of-type {\n",
       "        vertical-align: middle;\n",
       "    }\n",
       "\n",
       "    .dataframe tbody tr th {\n",
       "        vertical-align: top;\n",
       "    }\n",
       "\n",
       "    .dataframe thead th {\n",
       "        text-align: right;\n",
       "    }\n",
       "</style>\n",
       "<table border=\"1\" class=\"dataframe\">\n",
       "  <thead>\n",
       "    <tr style=\"text-align: right;\">\n",
       "      <th></th>\n",
       "      <th>mid_c</th>\n",
       "      <th>DIFF</th>\n",
       "      <th>DIFF_PREV</th>\n",
       "      <th>IS_TRADE</th>\n",
       "      <th>DELTA</th>\n",
       "      <th>GAIN</th>\n",
       "      <th>MASHORT</th>\n",
       "      <th>MALONG</th>\n",
       "      <th>DURATION</th>\n",
       "    </tr>\n",
       "  </thead>\n",
       "  <tbody>\n",
       "    <tr>\n",
       "      <th>count</th>\n",
       "      <td>66656.000000</td>\n",
       "      <td>66656.000000</td>\n",
       "      <td>6.665600e+04</td>\n",
       "      <td>66656.000000</td>\n",
       "      <td>66656.000000</td>\n",
       "      <td>66656.000000</td>\n",
       "      <td>66656.000000</td>\n",
       "      <td>66656.000000</td>\n",
       "      <td>66656.000000</td>\n",
       "    </tr>\n",
       "    <tr>\n",
       "      <th>mean</th>\n",
       "      <td>31.608276</td>\n",
       "      <td>0.000007</td>\n",
       "      <td>7.558325e-07</td>\n",
       "      <td>0.000780</td>\n",
       "      <td>-0.196707</td>\n",
       "      <td>-1.518238</td>\n",
       "      <td>11.931049</td>\n",
       "      <td>61.970115</td>\n",
       "      <td>50.065200</td>\n",
       "    </tr>\n",
       "    <tr>\n",
       "      <th>std</th>\n",
       "      <td>51.594318</td>\n",
       "      <td>0.013624</td>\n",
       "      <td>1.329206e-02</td>\n",
       "      <td>1.000007</td>\n",
       "      <td>54.809162</td>\n",
       "      <td>54.788483</td>\n",
       "      <td>12.615203</td>\n",
       "      <td>64.716606</td>\n",
       "      <td>79.796544</td>\n",
       "    </tr>\n",
       "    <tr>\n",
       "      <th>min</th>\n",
       "      <td>0.625440</td>\n",
       "      <td>-0.258875</td>\n",
       "      <td>-2.635156e-01</td>\n",
       "      <td>-1.000000</td>\n",
       "      <td>-580.700000</td>\n",
       "      <td>-375.900000</td>\n",
       "      <td>4.000000</td>\n",
       "      <td>8.000000</td>\n",
       "      <td>1.000000</td>\n",
       "    </tr>\n",
       "    <tr>\n",
       "      <th>25%</th>\n",
       "      <td>0.908495</td>\n",
       "      <td>-0.000182</td>\n",
       "      <td>-1.774023e-04</td>\n",
       "      <td>-1.000000</td>\n",
       "      <td>-20.100000</td>\n",
       "      <td>-25.200000</td>\n",
       "      <td>4.000000</td>\n",
       "      <td>16.000000</td>\n",
       "      <td>6.000000</td>\n",
       "    </tr>\n",
       "    <tr>\n",
       "      <th>50%</th>\n",
       "      <td>1.381000</td>\n",
       "      <td>0.000000</td>\n",
       "      <td>-1.562500e-07</td>\n",
       "      <td>1.000000</td>\n",
       "      <td>-0.100000</td>\n",
       "      <td>-9.100000</td>\n",
       "      <td>8.000000</td>\n",
       "      <td>32.000000</td>\n",
       "      <td>18.000000</td>\n",
       "    </tr>\n",
       "    <tr>\n",
       "      <th>75%</th>\n",
       "      <td>77.658500</td>\n",
       "      <td>0.000177</td>\n",
       "      <td>1.812500e-04</td>\n",
       "      <td>1.000000</td>\n",
       "      <td>19.300000</td>\n",
       "      <td>6.800000</td>\n",
       "      <td>16.000000</td>\n",
       "      <td>96.000000</td>\n",
       "      <td>66.000000</td>\n",
       "    </tr>\n",
       "    <tr>\n",
       "      <th>max</th>\n",
       "      <td>158.120000</td>\n",
       "      <td>0.204000</td>\n",
       "      <td>2.338594e-01</td>\n",
       "      <td>1.000000</td>\n",
       "      <td>642.000000</td>\n",
       "      <td>642.000000</td>\n",
       "      <td>64.000000</td>\n",
       "      <td>256.000000</td>\n",
       "      <td>1311.000000</td>\n",
       "    </tr>\n",
       "  </tbody>\n",
       "</table>\n",
       "</div>"
      ],
      "text/plain": [
       "              mid_c          DIFF     DIFF_PREV      IS_TRADE         DELTA  \\\n",
       "count  66656.000000  66656.000000  6.665600e+04  66656.000000  66656.000000   \n",
       "mean      31.608276      0.000007  7.558325e-07      0.000780     -0.196707   \n",
       "std       51.594318      0.013624  1.329206e-02      1.000007     54.809162   \n",
       "min        0.625440     -0.258875 -2.635156e-01     -1.000000   -580.700000   \n",
       "25%        0.908495     -0.000182 -1.774023e-04     -1.000000    -20.100000   \n",
       "50%        1.381000      0.000000 -1.562500e-07      1.000000     -0.100000   \n",
       "75%       77.658500      0.000177  1.812500e-04      1.000000     19.300000   \n",
       "max      158.120000      0.204000  2.338594e-01      1.000000    642.000000   \n",
       "\n",
       "               GAIN       MASHORT        MALONG      DURATION  \n",
       "count  66656.000000  66656.000000  66656.000000  66656.000000  \n",
       "mean      -1.518238     11.931049     61.970115     50.065200  \n",
       "std       54.788483     12.615203     64.716606     79.796544  \n",
       "min     -375.900000      4.000000      8.000000      1.000000  \n",
       "25%      -25.200000      4.000000     16.000000      6.000000  \n",
       "50%       -9.100000      8.000000     32.000000     18.000000  \n",
       "75%        6.800000     16.000000     96.000000     66.000000  \n",
       "max      642.000000     64.000000    256.000000   1311.000000  "
      ]
     },
     "execution_count": 46,
     "metadata": {},
     "output_type": "execute_result"
    }
   ],
   "source": [
    "df_all = pd.read_pickle(\"all_trades.pkl\")\n",
    "df_all.describe()"
   ]
  },
  {
   "cell_type": "code",
   "execution_count": null,
   "metadata": {},
   "outputs": [],
   "source": []
  },
  {
   "cell_type": "code",
   "execution_count": 86,
   "metadata": {},
   "outputs": [],
   "source": [
    "df_plot = df_ma.iloc[0:24].copy()"
   ]
  },
  {
   "cell_type": "code",
   "execution_count": 87,
   "metadata": {},
   "outputs": [
    {
     "data": {
      "text/plain": [
       "(24, 10)"
      ]
     },
     "execution_count": 87,
     "metadata": {},
     "output_type": "execute_result"
    }
   ],
   "source": [
    "df_plot.shape"
   ]
  },
  {
   "cell_type": "code",
   "execution_count": 88,
   "metadata": {},
   "outputs": [
    {
     "data": {
      "application/vnd.plotly.v1+json": {
       "config": {
        "plotlyServerURL": "https://plot.ly"
       },
       "data": [
        {
         "close": [
          1.19499,
          1.19482,
          1.19502,
          1.19514,
          1.19578,
          1.19478,
          1.19541,
          1.19433,
          1.19328,
          1.1935,
          1.19199,
          1.19368,
          1.19259,
          1.19305,
          1.19228,
          1.1925,
          1.19206,
          1.19279,
          1.19154,
          1.19231,
          1.19279,
          1.19258,
          1.19298,
          1.19302
         ],
         "decreasing": {
          "fillcolor": "#CC2E3C",
          "line": {
           "color": "#FF3A4C"
          }
         },
         "high": [
          1.19516,
          1.19544,
          1.19531,
          1.19563,
          1.19674,
          1.19616,
          1.19544,
          1.19545,
          1.19438,
          1.19358,
          1.19377,
          1.194,
          1.19403,
          1.19306,
          1.19342,
          1.19339,
          1.19308,
          1.19305,
          1.1934,
          1.19374,
          1.19315,
          1.19324,
          1.19302,
          1.19337
         ],
         "increasing": {
          "fillcolor": "#24A06B",
          "line": {
           "color": "#2EC886"
          }
         },
         "line": {
          "width": 1
         },
         "low": [
          1.19426,
          1.19438,
          1.1945,
          1.19498,
          1.19505,
          1.19432,
          1.19474,
          1.19426,
          1.193,
          1.19256,
          1.19179,
          1.19196,
          1.19226,
          1.19192,
          1.19212,
          1.1921,
          1.19162,
          1.19154,
          1.19112,
          1.19152,
          1.19194,
          1.19252,
          1.19213,
          1.19288
         ],
         "opacity": 1,
         "open": [
          1.19516,
          1.19494,
          1.1948,
          1.19502,
          1.19512,
          1.19576,
          1.19476,
          1.19542,
          1.19436,
          1.1933,
          1.19352,
          1.192,
          1.19367,
          1.19258,
          1.19304,
          1.1923,
          1.19251,
          1.19205,
          1.19278,
          1.19152,
          1.1923,
          1.19278,
          1.19257,
          1.19296
         ],
         "type": "candlestick",
         "x": [
          "2021-03-14T21:00:00.000000000Z",
          "2021-03-14T22:00:00.000000000Z",
          "2021-03-14T23:00:00.000000000Z",
          "2021-03-15T00:00:00.000000000Z",
          "2021-03-15T01:00:00.000000000Z",
          "2021-03-15T02:00:00.000000000Z",
          "2021-03-15T03:00:00.000000000Z",
          "2021-03-15T04:00:00.000000000Z",
          "2021-03-15T05:00:00.000000000Z",
          "2021-03-15T06:00:00.000000000Z",
          "2021-03-15T07:00:00.000000000Z",
          "2021-03-15T08:00:00.000000000Z",
          "2021-03-15T09:00:00.000000000Z",
          "2021-03-15T10:00:00.000000000Z",
          "2021-03-15T11:00:00.000000000Z",
          "2021-03-15T12:00:00.000000000Z",
          "2021-03-15T13:00:00.000000000Z",
          "2021-03-15T14:00:00.000000000Z",
          "2021-03-15T15:00:00.000000000Z",
          "2021-03-15T16:00:00.000000000Z",
          "2021-03-15T17:00:00.000000000Z",
          "2021-03-15T18:00:00.000000000Z",
          "2021-03-15T19:00:00.000000000Z",
          "2021-03-15T20:00:00.000000000Z"
         ]
        },
        {
         "line": {
          "shape": "spline",
          "width": 2
         },
         "name": "MA_16",
         "type": "scatter",
         "x": [
          "2021-03-14T21:00:00.000000000Z",
          "2021-03-14T22:00:00.000000000Z",
          "2021-03-14T23:00:00.000000000Z",
          "2021-03-15T00:00:00.000000000Z",
          "2021-03-15T01:00:00.000000000Z",
          "2021-03-15T02:00:00.000000000Z",
          "2021-03-15T03:00:00.000000000Z",
          "2021-03-15T04:00:00.000000000Z",
          "2021-03-15T05:00:00.000000000Z",
          "2021-03-15T06:00:00.000000000Z",
          "2021-03-15T07:00:00.000000000Z",
          "2021-03-15T08:00:00.000000000Z",
          "2021-03-15T09:00:00.000000000Z",
          "2021-03-15T10:00:00.000000000Z",
          "2021-03-15T11:00:00.000000000Z",
          "2021-03-15T12:00:00.000000000Z",
          "2021-03-15T13:00:00.000000000Z",
          "2021-03-15T14:00:00.000000000Z",
          "2021-03-15T15:00:00.000000000Z",
          "2021-03-15T16:00:00.000000000Z",
          "2021-03-15T17:00:00.000000000Z",
          "2021-03-15T18:00:00.000000000Z",
          "2021-03-15T19:00:00.000000000Z",
          "2021-03-15T20:00:00.000000000Z"
         ],
         "y": [
          1.1939275,
          1.193945,
          1.19405125,
          1.19426125,
          1.1944931250000002,
          1.194685625,
          1.1948062499999998,
          1.19491125,
          1.194919375,
          1.194908125,
          1.194705,
          1.194635,
          1.1944693750000002,
          1.194354375,
          1.1941181250000001,
          1.19394625,
          1.1937631249999998,
          1.19363625,
          1.19341875,
          1.193241875,
          1.1930550000000002,
          1.1929175,
          1.192765625,
          1.19268375
         ]
        },
        {
         "line": {
          "shape": "spline",
          "width": 2
         },
         "name": "MA_64",
         "type": "scatter",
         "x": [
          "2021-03-14T21:00:00.000000000Z",
          "2021-03-14T22:00:00.000000000Z",
          "2021-03-14T23:00:00.000000000Z",
          "2021-03-15T00:00:00.000000000Z",
          "2021-03-15T01:00:00.000000000Z",
          "2021-03-15T02:00:00.000000000Z",
          "2021-03-15T03:00:00.000000000Z",
          "2021-03-15T04:00:00.000000000Z",
          "2021-03-15T05:00:00.000000000Z",
          "2021-03-15T06:00:00.000000000Z",
          "2021-03-15T07:00:00.000000000Z",
          "2021-03-15T08:00:00.000000000Z",
          "2021-03-15T09:00:00.000000000Z",
          "2021-03-15T10:00:00.000000000Z",
          "2021-03-15T11:00:00.000000000Z",
          "2021-03-15T12:00:00.000000000Z",
          "2021-03-15T13:00:00.000000000Z",
          "2021-03-15T14:00:00.000000000Z",
          "2021-03-15T15:00:00.000000000Z",
          "2021-03-15T16:00:00.000000000Z",
          "2021-03-15T17:00:00.000000000Z",
          "2021-03-15T18:00:00.000000000Z",
          "2021-03-15T19:00:00.000000000Z",
          "2021-03-15T20:00:00.000000000Z"
         ],
         "y": [
          1.19400375,
          1.19410375,
          1.1941879687499999,
          1.1942685937500002,
          1.19436625,
          1.19445484375,
          1.1945623437500001,
          1.19461328125,
          1.19464390625,
          1.19470484375,
          1.1947378125,
          1.19478234375,
          1.19480046875,
          1.194815625,
          1.194809375,
          1.19480375,
          1.19479484375,
          1.1948003125,
          1.1947943749999999,
          1.19479640625,
          1.19479515625,
          1.1947859375,
          1.194789375,
          1.1947940625
         ]
        }
       ],
       "layout": {
        "font": {
         "color": "#e1e1e1",
         "size": 10
        },
        "height": 400,
        "margin": {
         "b": 10,
         "l": 10,
         "r": 10,
         "t": 10
        },
        "paper_bgcolor": "#1e1e1e",
        "plot_bgcolor": "#1e1e1e",
        "template": {
         "data": {
          "bar": [
           {
            "error_x": {
             "color": "#2a3f5f"
            },
            "error_y": {
             "color": "#2a3f5f"
            },
            "marker": {
             "line": {
              "color": "#E5ECF6",
              "width": 0.5
             },
             "pattern": {
              "fillmode": "overlay",
              "size": 10,
              "solidity": 0.2
             }
            },
            "type": "bar"
           }
          ],
          "barpolar": [
           {
            "marker": {
             "line": {
              "color": "#E5ECF6",
              "width": 0.5
             },
             "pattern": {
              "fillmode": "overlay",
              "size": 10,
              "solidity": 0.2
             }
            },
            "type": "barpolar"
           }
          ],
          "carpet": [
           {
            "aaxis": {
             "endlinecolor": "#2a3f5f",
             "gridcolor": "white",
             "linecolor": "white",
             "minorgridcolor": "white",
             "startlinecolor": "#2a3f5f"
            },
            "baxis": {
             "endlinecolor": "#2a3f5f",
             "gridcolor": "white",
             "linecolor": "white",
             "minorgridcolor": "white",
             "startlinecolor": "#2a3f5f"
            },
            "type": "carpet"
           }
          ],
          "choropleth": [
           {
            "colorbar": {
             "outlinewidth": 0,
             "ticks": ""
            },
            "type": "choropleth"
           }
          ],
          "contour": [
           {
            "colorbar": {
             "outlinewidth": 0,
             "ticks": ""
            },
            "colorscale": [
             [
              0,
              "#0d0887"
             ],
             [
              0.1111111111111111,
              "#46039f"
             ],
             [
              0.2222222222222222,
              "#7201a8"
             ],
             [
              0.3333333333333333,
              "#9c179e"
             ],
             [
              0.4444444444444444,
              "#bd3786"
             ],
             [
              0.5555555555555556,
              "#d8576b"
             ],
             [
              0.6666666666666666,
              "#ed7953"
             ],
             [
              0.7777777777777778,
              "#fb9f3a"
             ],
             [
              0.8888888888888888,
              "#fdca26"
             ],
             [
              1,
              "#f0f921"
             ]
            ],
            "type": "contour"
           }
          ],
          "contourcarpet": [
           {
            "colorbar": {
             "outlinewidth": 0,
             "ticks": ""
            },
            "type": "contourcarpet"
           }
          ],
          "heatmap": [
           {
            "colorbar": {
             "outlinewidth": 0,
             "ticks": ""
            },
            "colorscale": [
             [
              0,
              "#0d0887"
             ],
             [
              0.1111111111111111,
              "#46039f"
             ],
             [
              0.2222222222222222,
              "#7201a8"
             ],
             [
              0.3333333333333333,
              "#9c179e"
             ],
             [
              0.4444444444444444,
              "#bd3786"
             ],
             [
              0.5555555555555556,
              "#d8576b"
             ],
             [
              0.6666666666666666,
              "#ed7953"
             ],
             [
              0.7777777777777778,
              "#fb9f3a"
             ],
             [
              0.8888888888888888,
              "#fdca26"
             ],
             [
              1,
              "#f0f921"
             ]
            ],
            "type": "heatmap"
           }
          ],
          "heatmapgl": [
           {
            "colorbar": {
             "outlinewidth": 0,
             "ticks": ""
            },
            "colorscale": [
             [
              0,
              "#0d0887"
             ],
             [
              0.1111111111111111,
              "#46039f"
             ],
             [
              0.2222222222222222,
              "#7201a8"
             ],
             [
              0.3333333333333333,
              "#9c179e"
             ],
             [
              0.4444444444444444,
              "#bd3786"
             ],
             [
              0.5555555555555556,
              "#d8576b"
             ],
             [
              0.6666666666666666,
              "#ed7953"
             ],
             [
              0.7777777777777778,
              "#fb9f3a"
             ],
             [
              0.8888888888888888,
              "#fdca26"
             ],
             [
              1,
              "#f0f921"
             ]
            ],
            "type": "heatmapgl"
           }
          ],
          "histogram": [
           {
            "marker": {
             "pattern": {
              "fillmode": "overlay",
              "size": 10,
              "solidity": 0.2
             }
            },
            "type": "histogram"
           }
          ],
          "histogram2d": [
           {
            "colorbar": {
             "outlinewidth": 0,
             "ticks": ""
            },
            "colorscale": [
             [
              0,
              "#0d0887"
             ],
             [
              0.1111111111111111,
              "#46039f"
             ],
             [
              0.2222222222222222,
              "#7201a8"
             ],
             [
              0.3333333333333333,
              "#9c179e"
             ],
             [
              0.4444444444444444,
              "#bd3786"
             ],
             [
              0.5555555555555556,
              "#d8576b"
             ],
             [
              0.6666666666666666,
              "#ed7953"
             ],
             [
              0.7777777777777778,
              "#fb9f3a"
             ],
             [
              0.8888888888888888,
              "#fdca26"
             ],
             [
              1,
              "#f0f921"
             ]
            ],
            "type": "histogram2d"
           }
          ],
          "histogram2dcontour": [
           {
            "colorbar": {
             "outlinewidth": 0,
             "ticks": ""
            },
            "colorscale": [
             [
              0,
              "#0d0887"
             ],
             [
              0.1111111111111111,
              "#46039f"
             ],
             [
              0.2222222222222222,
              "#7201a8"
             ],
             [
              0.3333333333333333,
              "#9c179e"
             ],
             [
              0.4444444444444444,
              "#bd3786"
             ],
             [
              0.5555555555555556,
              "#d8576b"
             ],
             [
              0.6666666666666666,
              "#ed7953"
             ],
             [
              0.7777777777777778,
              "#fb9f3a"
             ],
             [
              0.8888888888888888,
              "#fdca26"
             ],
             [
              1,
              "#f0f921"
             ]
            ],
            "type": "histogram2dcontour"
           }
          ],
          "mesh3d": [
           {
            "colorbar": {
             "outlinewidth": 0,
             "ticks": ""
            },
            "type": "mesh3d"
           }
          ],
          "parcoords": [
           {
            "line": {
             "colorbar": {
              "outlinewidth": 0,
              "ticks": ""
             }
            },
            "type": "parcoords"
           }
          ],
          "pie": [
           {
            "automargin": true,
            "type": "pie"
           }
          ],
          "scatter": [
           {
            "marker": {
             "colorbar": {
              "outlinewidth": 0,
              "ticks": ""
             }
            },
            "type": "scatter"
           }
          ],
          "scatter3d": [
           {
            "line": {
             "colorbar": {
              "outlinewidth": 0,
              "ticks": ""
             }
            },
            "marker": {
             "colorbar": {
              "outlinewidth": 0,
              "ticks": ""
             }
            },
            "type": "scatter3d"
           }
          ],
          "scattercarpet": [
           {
            "marker": {
             "colorbar": {
              "outlinewidth": 0,
              "ticks": ""
             }
            },
            "type": "scattercarpet"
           }
          ],
          "scattergeo": [
           {
            "marker": {
             "colorbar": {
              "outlinewidth": 0,
              "ticks": ""
             }
            },
            "type": "scattergeo"
           }
          ],
          "scattergl": [
           {
            "marker": {
             "colorbar": {
              "outlinewidth": 0,
              "ticks": ""
             }
            },
            "type": "scattergl"
           }
          ],
          "scattermapbox": [
           {
            "marker": {
             "colorbar": {
              "outlinewidth": 0,
              "ticks": ""
             }
            },
            "type": "scattermapbox"
           }
          ],
          "scatterpolar": [
           {
            "marker": {
             "colorbar": {
              "outlinewidth": 0,
              "ticks": ""
             }
            },
            "type": "scatterpolar"
           }
          ],
          "scatterpolargl": [
           {
            "marker": {
             "colorbar": {
              "outlinewidth": 0,
              "ticks": ""
             }
            },
            "type": "scatterpolargl"
           }
          ],
          "scatterternary": [
           {
            "marker": {
             "colorbar": {
              "outlinewidth": 0,
              "ticks": ""
             }
            },
            "type": "scatterternary"
           }
          ],
          "surface": [
           {
            "colorbar": {
             "outlinewidth": 0,
             "ticks": ""
            },
            "colorscale": [
             [
              0,
              "#0d0887"
             ],
             [
              0.1111111111111111,
              "#46039f"
             ],
             [
              0.2222222222222222,
              "#7201a8"
             ],
             [
              0.3333333333333333,
              "#9c179e"
             ],
             [
              0.4444444444444444,
              "#bd3786"
             ],
             [
              0.5555555555555556,
              "#d8576b"
             ],
             [
              0.6666666666666666,
              "#ed7953"
             ],
             [
              0.7777777777777778,
              "#fb9f3a"
             ],
             [
              0.8888888888888888,
              "#fdca26"
             ],
             [
              1,
              "#f0f921"
             ]
            ],
            "type": "surface"
           }
          ],
          "table": [
           {
            "cells": {
             "fill": {
              "color": "#EBF0F8"
             },
             "line": {
              "color": "white"
             }
            },
            "header": {
             "fill": {
              "color": "#C8D4E3"
             },
             "line": {
              "color": "white"
             }
            },
            "type": "table"
           }
          ]
         },
         "layout": {
          "annotationdefaults": {
           "arrowcolor": "#2a3f5f",
           "arrowhead": 0,
           "arrowwidth": 1
          },
          "autotypenumbers": "strict",
          "coloraxis": {
           "colorbar": {
            "outlinewidth": 0,
            "ticks": ""
           }
          },
          "colorscale": {
           "diverging": [
            [
             0,
             "#8e0152"
            ],
            [
             0.1,
             "#c51b7d"
            ],
            [
             0.2,
             "#de77ae"
            ],
            [
             0.3,
             "#f1b6da"
            ],
            [
             0.4,
             "#fde0ef"
            ],
            [
             0.5,
             "#f7f7f7"
            ],
            [
             0.6,
             "#e6f5d0"
            ],
            [
             0.7,
             "#b8e186"
            ],
            [
             0.8,
             "#7fbc41"
            ],
            [
             0.9,
             "#4d9221"
            ],
            [
             1,
             "#276419"
            ]
           ],
           "sequential": [
            [
             0,
             "#0d0887"
            ],
            [
             0.1111111111111111,
             "#46039f"
            ],
            [
             0.2222222222222222,
             "#7201a8"
            ],
            [
             0.3333333333333333,
             "#9c179e"
            ],
            [
             0.4444444444444444,
             "#bd3786"
            ],
            [
             0.5555555555555556,
             "#d8576b"
            ],
            [
             0.6666666666666666,
             "#ed7953"
            ],
            [
             0.7777777777777778,
             "#fb9f3a"
            ],
            [
             0.8888888888888888,
             "#fdca26"
            ],
            [
             1,
             "#f0f921"
            ]
           ],
           "sequentialminus": [
            [
             0,
             "#0d0887"
            ],
            [
             0.1111111111111111,
             "#46039f"
            ],
            [
             0.2222222222222222,
             "#7201a8"
            ],
            [
             0.3333333333333333,
             "#9c179e"
            ],
            [
             0.4444444444444444,
             "#bd3786"
            ],
            [
             0.5555555555555556,
             "#d8576b"
            ],
            [
             0.6666666666666666,
             "#ed7953"
            ],
            [
             0.7777777777777778,
             "#fb9f3a"
            ],
            [
             0.8888888888888888,
             "#fdca26"
            ],
            [
             1,
             "#f0f921"
            ]
           ]
          },
          "colorway": [
           "#636efa",
           "#EF553B",
           "#00cc96",
           "#ab63fa",
           "#FFA15A",
           "#19d3f3",
           "#FF6692",
           "#B6E880",
           "#FF97FF",
           "#FECB52"
          ],
          "font": {
           "color": "#2a3f5f"
          },
          "geo": {
           "bgcolor": "white",
           "lakecolor": "white",
           "landcolor": "#E5ECF6",
           "showlakes": true,
           "showland": true,
           "subunitcolor": "white"
          },
          "hoverlabel": {
           "align": "left"
          },
          "hovermode": "closest",
          "mapbox": {
           "style": "light"
          },
          "paper_bgcolor": "white",
          "plot_bgcolor": "#E5ECF6",
          "polar": {
           "angularaxis": {
            "gridcolor": "white",
            "linecolor": "white",
            "ticks": ""
           },
           "bgcolor": "#E5ECF6",
           "radialaxis": {
            "gridcolor": "white",
            "linecolor": "white",
            "ticks": ""
           }
          },
          "scene": {
           "xaxis": {
            "backgroundcolor": "#E5ECF6",
            "gridcolor": "white",
            "gridwidth": 2,
            "linecolor": "white",
            "showbackground": true,
            "ticks": "",
            "zerolinecolor": "white"
           },
           "yaxis": {
            "backgroundcolor": "#E5ECF6",
            "gridcolor": "white",
            "gridwidth": 2,
            "linecolor": "white",
            "showbackground": true,
            "ticks": "",
            "zerolinecolor": "white"
           },
           "zaxis": {
            "backgroundcolor": "#E5ECF6",
            "gridcolor": "white",
            "gridwidth": 2,
            "linecolor": "white",
            "showbackground": true,
            "ticks": "",
            "zerolinecolor": "white"
           }
          },
          "shapedefaults": {
           "line": {
            "color": "#2a3f5f"
           }
          },
          "ternary": {
           "aaxis": {
            "gridcolor": "white",
            "linecolor": "white",
            "ticks": ""
           },
           "baxis": {
            "gridcolor": "white",
            "linecolor": "white",
            "ticks": ""
           },
           "bgcolor": "#E5ECF6",
           "caxis": {
            "gridcolor": "white",
            "linecolor": "white",
            "ticks": ""
           }
          },
          "title": {
           "x": 0.05
          },
          "xaxis": {
           "automargin": true,
           "gridcolor": "white",
           "linecolor": "white",
           "ticks": "",
           "title": {
            "standoff": 15
           },
           "zerolinecolor": "white",
           "zerolinewidth": 2
          },
          "yaxis": {
           "automargin": true,
           "gridcolor": "white",
           "linecolor": "white",
           "ticks": "",
           "title": {
            "standoff": 15
           },
           "zerolinecolor": "white",
           "zerolinewidth": 2
          }
         }
        },
        "width": 1000,
        "xaxis": {
         "fixedrange": true,
         "gridcolor": "#1f292f",
         "rangeslider": {
          "visible": false
         },
         "showgrid": true
        },
        "yaxis": {
         "gridcolor": "#1f292f",
         "showgrid": true
        }
       }
      }
     },
     "metadata": {},
     "output_type": "display_data"
    }
   ],
   "source": [
    "fig = go.Figure()\n",
    "fig.add_trace(go.Candlestick(\n",
    "    x=df_plot.time, open=df_plot.mid_o, high=df_plot.mid_h, low=df_plot.mid_l, close=df_plot.mid_c,\n",
    "    line=dict(width=1), opacity=1,\n",
    "    increasing_fillcolor='#24A06B',\n",
    "    decreasing_fillcolor ='#CC2E3C',\n",
    "    increasing_line_color = '#2EC886',\n",
    "    decreasing_line_color = '#FF3A4C'\n",
    "))\n",
    "for ma in ma_list:\n",
    "    fig.add_trace(go.Scatter(x=df_plot.time, y=df_plot[f'MA_{ma}'], line=dict(width=2),\n",
    "    line_shape='spline',name=f'MA_{ma}'))\n",
    "fig.update_layout(width=1000, height=400,\n",
    "margin=dict(l=10,r=10,b=10,t=10),\n",
    "font=dict(size=10, color='#e1e1e1'),\n",
    " paper_bgcolor=\"#1e1e1e\", plot_bgcolor=\"#1e1e1e\")\n",
    "fig.update_xaxes(gridcolor=\"#1f292f\", showgrid=True, fixedrange=True, rangeslider=dict(visible=False)\n",
    ")\n",
    "fig.update_yaxes(gridcolor=\"#1f292f\",showgrid=True)\n",
    "\n",
    "fig.show()"
   ]
  },
  {
   "cell_type": "code",
   "execution_count": null,
   "metadata": {},
   "outputs": [],
   "source": []
  }
 ],
 "metadata": {
  "interpreter": {
   "hash": "1576d1a6185cb4b78a61c7f65ef0365cc528fa44fe3fbc16ad5912254b255587"
  },
  "kernelspec": {
   "display_name": "Python 3.10.0 64-bit ('venv': venv)",
   "name": "python3"
  },
  "language_info": {
   "codemirror_mode": {
    "name": "ipython",
    "version": 3
   },
   "file_extension": ".py",
   "mimetype": "text/x-python",
   "name": "python",
   "nbconvert_exporter": "python",
   "pygments_lexer": "ipython3",
   "version": "3.10.0"
  },
  "orig_nbformat": 4
 },
 "nbformat": 4,
 "nbformat_minor": 2
}
